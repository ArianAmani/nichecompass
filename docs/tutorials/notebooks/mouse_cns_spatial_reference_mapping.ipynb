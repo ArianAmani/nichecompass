{
 "cells": [
  {
   "cell_type": "markdown",
   "id": "1b1daabf-c8e3-43d4-aa32-9789abcc8619",
   "metadata": {},
   "source": [
    "# Mouse CNS Spatial Reference Mapping Tutorial"
   ]
  },
  {
   "cell_type": "markdown",
   "id": "c325d921-2077-42b3-90a8-6f6c7dd928c5",
   "metadata": {},
   "source": [
    "- **Creator**: Sebastian Birk (<sebastian.birk@helmholtz-munich.de>).\n",
    "- **Affiliation:** Helmholtz Munich, Institute of AI for Health (AIH), Talavera-López Lab\n",
    "- **Date of Creation:** 18.05.2023\n",
    "- **Date of Last Modification:** 10.02.2024"
   ]
  },
  {
   "cell_type": "markdown",
   "id": "21e51fef-08ca-472e-854e-20faab11c642",
   "metadata": {},
   "source": [
    "In this tutorial we apply NicheCompass to integrate three samples (sagittal brain sections) of the STARmap PLUS mouse central nervous system dataset / atlas from [Shi, H. et al. Spatial atlas of the mouse central nervous system at molecular resolution. Nature 622, 552–561 (2023)](https://www.nature.com/articles/s41586-023-06569-5) in a spatial reference mapping setting (i.e. the model is first trained on the reference samples, and the query sample is then mapped onto the pretrained reference model by fine-tuning). The first two samples are used as reference samples and the third sample is the query.\n",
    "\n",
    "Sample 1 (reference) has:\n",
    "- 91,246 observations at cellular resolution with cell type annotations\n",
    "- 1022 probed genes\n",
    "\n",
    "Sample 2 (reference) has:\n",
    "- 123,836 observations at cellular resolution with cell type annotations\n",
    "- 1022 probed genes\n",
    "\n",
    "Sample 3 (query) has:\n",
    "- 207,591 observations at cellular resolution with cell type annotations\n",
    "- 1022 probed genes"
   ]
  },
  {
   "cell_type": "markdown",
   "id": "3c659318-1dbb-4ade-8113-f4fb190c9e92",
   "metadata": {},
   "source": [
    "- Check the [documentation](https://nichecompass.readthedocs.io/en/latest/installation.html) for NicheCompass installation instructions.\n",
    "- The data for this tutorial can be downloaded from [Google Drive](https://drive.google.com/drive/folders/1l9W0MDVZ451k1L7s6GGH4ONH4tEK4EKj). It has to be stored under ```<repository_root>/data/spatial_omics/```.\n",
    "    - starmap_plus_mouse_cns_batch1.h5ad (reference sample 1)\n",
    "    - starmap_plus_mouse_cns_batch2.h5ad (reference sample 2)\n",
    "    - starmap_plus_mouse_cns_batch3.h5ad (query sample 1)\n",
    "- A pretrained model to run only the analysis can be downloaded from [Google Drive](https://drive.google.com/drive/folders/1z2DQHV9hG22B5OSWox8U3usf_8LKZGGH). It has to be stored under ```<repository_root>/artifacts/spatial_reference_mapping/<timestamp>/model/```.\n",
    "  - 07022024_091846"
   ]
  },
  {
   "cell_type": "markdown",
   "id": "7350cbcb-18f8-4f7a-a476-2dd0a0e1e3be",
   "metadata": {},
   "source": [
    "## 1. Setup"
   ]
  },
  {
   "cell_type": "markdown",
   "id": "2ada23e4-a814-4374-825f-00528a78cec4",
   "metadata": {},
   "source": [
    "### 1.1 Import Libraries"
   ]
  },
  {
   "cell_type": "code",
   "execution_count": 2,
   "id": "6a70c75d-cd86-4b02-b2fb-0e04ed0720c9",
   "metadata": {},
   "outputs": [],
   "source": [
    "%load_ext autoreload\n",
    "%autoreload 2"
   ]
  },
  {
   "cell_type": "code",
   "execution_count": 4,
   "id": "1f54c6e8-ff7b-438a-b86d-1c5c3d2bf8be",
   "metadata": {},
   "outputs": [],
   "source": [
    "import os\n",
    "import random\n",
    "import warnings\n",
    "from datetime import datetime\n",
    "\n",
    "import anndata as ad\n",
    "import matplotlib.pyplot as plt\n",
    "import numpy as np\n",
    "import scanpy as sc\n",
    "import scipy.sparse as sp\n",
    "import seaborn as sns\n",
    "import squidpy as sq\n",
    "from matplotlib import gridspec\n",
    "from sklearn.preprocessing import MinMaxScaler\n",
    "\n",
    "from nichecompass.models import NicheCompass\n",
    "from nichecompass.utils import (add_gps_from_gp_dict_to_adata,\n",
    "                                create_new_color_dict,\n",
    "                                extract_gp_dict_from_mebocost_es_interactions,\n",
    "                                extract_gp_dict_from_nichenet_lrt_interactions,\n",
    "                                extract_gp_dict_from_omnipath_lr_interactions,\n",
    "                                filter_and_combine_gp_dict_gps,\n",
    "                                generate_enriched_gp_info_plots)"
   ]
  },
  {
   "cell_type": "markdown",
   "id": "0dcc2cfe-2cff-4d1d-9b99-5163cca5ec41",
   "metadata": {},
   "source": [
    "### 1.2 Define Parameters"
   ]
  },
  {
   "cell_type": "code",
   "execution_count": 5,
   "id": "109b8c21-9856-45f6-927a-39fb8b9a5072",
   "metadata": {},
   "outputs": [],
   "source": [
    "### Dataset ###\n",
    "dataset = \"starmap_plus_mouse_cns\"\n",
    "species = \"mouse\"\n",
    "reference_batches = [\"batch1\", \"batch2\"]\n",
    "query_batches = [\"batch3\"]\n",
    "spatial_key = \"spatial\"\n",
    "n_neighbors = 4\n",
    "mapping_entity_key = \"mapping_entity\"\n",
    "\n",
    "### Model ###\n",
    "# AnnData keys\n",
    "counts_key = \"counts\"\n",
    "adj_key = \"spatial_connectivities\"\n",
    "cat_covariates_keys = [\"batch\"]\n",
    "gp_names_key = \"nichecompass_gp_names\"\n",
    "active_gp_names_key = \"nichecompass_active_gp_names\"\n",
    "gp_targets_mask_key = \"nichecompass_gp_targets\"\n",
    "gp_targets_categories_mask_key = \"nichecompass_gp_targets_categories\"\n",
    "gp_sources_mask_key = \"nichecompass_gp_sources\"\n",
    "gp_sources_categories_mask_key = \"nichecompass_gp_sources_categories\"\n",
    "latent_key = \"nichecompass_latent\"\n",
    "\n",
    "# Architecture\n",
    "cat_covariates_embeds_injection = [\"gene_expr_decoder\"]\n",
    "cat_covariates_embeds_nums = [3]\n",
    "cat_covariates_no_edges = [True]\n",
    "conv_layer_encoder = \"gcnconv\" # change to \"gatv2conv\" if enough compute and memory\n",
    "active_gp_thresh_ratio = 0.01\n",
    "\n",
    "# Trainer\n",
    "n_epochs = 400\n",
    "n_epochs_all_gps = 25\n",
    "lr = 0.001\n",
    "lambda_edge_recon = 500000.\n",
    "lambda_gene_expr_recon = 300.\n",
    "lambda_l1_masked = 0. # increase if gene selection desired\n",
    "lambda_l1_addon = 100.\n",
    "edge_batch_size = 1024 # increase if more memory available\n",
    "n_sampled_neighbors = 4\n",
    "use_cuda_if_available = True\n",
    "\n",
    "### Analysis ###\n",
    "cell_type_key = \"Main_molecular_cell_type\"\n",
    "latent_leiden_resolution = 0.2\n",
    "latent_cluster_key = f\"latent_leiden_{str(latent_leiden_resolution)}\"\n",
    "sample_key = \"batch\"\n",
    "spot_size = 0.2\n",
    "differential_gp_test_results_key = \"nichecompass_differential_gp_test_results\""
   ]
  },
  {
   "cell_type": "markdown",
   "id": "47cb51f2-d355-459c-933d-b1a2d012e87a",
   "metadata": {},
   "source": [
    "### 1.3 Run Notebook Setup"
   ]
  },
  {
   "cell_type": "code",
   "execution_count": 6,
   "id": "10f8dfe2-a878-43a9-b12f-7fefbcaa0c4f",
   "metadata": {},
   "outputs": [],
   "source": [
    "warnings.filterwarnings(\"ignore\")"
   ]
  },
  {
   "cell_type": "code",
   "execution_count": 7,
   "id": "65aacc56-a44e-4ea8-b9f9-d7eec3324d39",
   "metadata": {},
   "outputs": [],
   "source": [
    "# Get time of notebook execution for timestamping saved artifacts\n",
    "now = datetime.now()\n",
    "current_timestamp = now.strftime(\"%d%m%Y_%H%M%S\")"
   ]
  },
  {
   "cell_type": "markdown",
   "id": "5063253e-b9df-47e3-96f0-522dcf862f1e",
   "metadata": {},
   "source": [
    "### 1.4 Configure Paths"
   ]
  },
  {
   "cell_type": "code",
   "execution_count": 8,
   "id": "9bbe62ae-d7ed-4ccb-a65c-689b0afd75b7",
   "metadata": {},
   "outputs": [],
   "source": [
    "# Define paths\n",
    "ga_data_folder_path = \"../../../data/gene_annotations\"\n",
    "gp_data_folder_path = \"../../../data/gene_programs\"\n",
    "so_data_folder_path = \"../../../data/spatial_omics\"\n",
    "omnipath_lr_network_file_path = f\"{gp_data_folder_path}/omnipath_lr_network.csv\"\n",
    "nichenet_lr_network_file_path = f\"{gp_data_folder_path}/nichenet_lr_network_v2_{species}.csv\"\n",
    "nichenet_ligand_target_matrix_file_path = f\"{gp_data_folder_path}/nichenet_ligand_target_matrix_v2_{species}.csv\"\n",
    "mebocost_enzyme_sensor_interactions_folder_path = f\"{gp_data_folder_path}/metabolite_enzyme_sensor_gps\"\n",
    "gene_orthologs_mapping_file_path = f\"{ga_data_folder_path}/human_mouse_gene_orthologs.csv\"\n",
    "artifacts_folder_path = f\"../../../artifacts\"\n",
    "model_folder_path = f\"{artifacts_folder_path}/spatial_reference_mapping/{current_timestamp}/model\"\n",
    "figure_folder_path = f\"{artifacts_folder_path}/spatial_reference_mapping/{current_timestamp}/figures\""
   ]
  },
  {
   "cell_type": "markdown",
   "id": "5c9747d0-ded8-498d-b059-1de9627a012c",
   "metadata": {},
   "source": [
    "### 1.5 Create Directories"
   ]
  },
  {
   "cell_type": "code",
   "execution_count": 11,
   "id": "ff029bd5-c725-40c0-aaa6-a8f95ecb7cd7",
   "metadata": {},
   "outputs": [],
   "source": [
    "os.makedirs(model_folder_path, exist_ok=True)\n",
    "os.makedirs(figure_folder_path, exist_ok=True)"
   ]
  },
  {
   "cell_type": "markdown",
   "id": "8cec1aef-52bd-456c-bc80-09390f6dba8f",
   "metadata": {
    "tags": []
   },
   "source": [
    "## 2. Reference Model Preparation"
   ]
  },
  {
   "cell_type": "markdown",
   "id": "82ddd359-3f55-4960-952b-3f8e6faa441f",
   "metadata": {},
   "source": [
    "### 2.1 Create Prior Knowledge Gene Program (GP) Mask"
   ]
  },
  {
   "cell_type": "markdown",
   "id": "693b4b94-77e9-4253-8ecb-6f7b22e81fbb",
   "metadata": {},
   "source": [
    "- NicheCompass expects a prior GP mask as input, which it will use to make its latent feature space interpretable (through linear masked decoders). \n",
    "- The user can provide a custom GP mask to NicheCompass based on the biological question of interest.\n",
    "- As a default, here we create a GP mask based on three databases of prior knowledge of inter- and intracellular interaction pathways:\n",
    "    - OmniPath (Ligand-Receptor GPs)\n",
    "    - MEBOCOST (Enzyme-Sensor GPs)\n",
    "    - NicheNet (Combined Interaction GPs)"
   ]
  },
  {
   "cell_type": "code",
   "execution_count": 12,
   "id": "cd782946-e6cc-4206-be3d-d9f1ffdd5ab4",
   "metadata": {},
   "outputs": [
    {
     "data": {
      "image/png": "[encoded data removed]",
      "text/plain": [
       "<Figure size 1000x500 with 2 Axes>"
      ]
     },
     "metadata": {},
     "output_type": "display_data"
    }
   ],
   "source": [
    "# Retrieve OmniPath GPs (source: ligand genes; target: receptor genes)\n",
    "omnipath_gp_dict = extract_gp_dict_from_omnipath_lr_interactions(\n",
    "    species=species,\n",
    "    min_curation_effort=0,\n",
    "    load_from_disk=False,\n",
    "    save_to_disk=True,\n",
    "    lr_network_file_path=omnipath_lr_network_file_path,\n",
    "    gene_orthologs_mapping_file_path=gene_orthologs_mapping_file_path,\n",
    "    plot_gp_gene_count_distributions=True,\n",
    "    gp_gene_count_distributions_save_path=f\"{figure_folder_path}\" \\\n",
    "                                           \"/omnipath_gp_gene_count_distributions.svg\")"
   ]
  },
  {
   "cell_type": "code",
   "execution_count": 13,
   "id": "8b1ceb83-fddf-4ba5-91e5-c5f5a62cc4a8",
   "metadata": {},
   "outputs": [
    {
     "name": "stdout",
     "output_type": "stream",
     "text": [
      "FBLN2_ligand_receptor_GP: {'sources': ['Fbln2'], 'targets': ['Itgb3'], 'sources_categories': ['ligand'], 'targets_categories': ['receptor']}\n"
     ]
    }
   ],
   "source": [
    "# Display example OmniPath GP\n",
    "omnipath_gp_names = list(omnipath_gp_dict.keys())\n",
    "random.shuffle(omnipath_gp_names)\n",
    "omnipath_gp_name = omnipath_gp_names[0]\n",
    "print(f\"{omnipath_gp_name}: {omnipath_gp_dict[omnipath_gp_name]}\")"
   ]
  },
  {
   "cell_type": "code",
   "execution_count": 14,
   "id": "6f4fd4c5-19a3-40d3-8e6d-f78746f7c6c3",
   "metadata": {},
   "outputs": [
    {
     "data": {
      "image/png": "[encoded data removed]",
      "text/plain": [
       "<Figure size 1000x500 with 2 Axes>"
      ]
     },
     "metadata": {},
     "output_type": "display_data"
    }
   ],
   "source": [
    "# Retrieve MEBOCOST GPs (source: enzyme genes; target: sensor genes)\n",
    "mebocost_gp_dict = extract_gp_dict_from_mebocost_es_interactions(\n",
    "    dir_path=mebocost_enzyme_sensor_interactions_folder_path,\n",
    "    species=species,\n",
    "    plot_gp_gene_count_distributions=True)"
   ]
  },
  {
   "cell_type": "code",
   "execution_count": 15,
   "id": "27d182e9-2e94-4656-b6e3-b42c424f8b86",
   "metadata": {},
   "outputs": [
    {
     "name": "stdout",
     "output_type": "stream",
     "text": [
      "L-Cysteine_metabolite_enzyme_sensor_GP: {'sources': ['Anpep', 'Cars2', 'Cbs', 'Cdo1', 'Cth', 'Gclc', 'Ggct', 'Got1', 'Got2', 'Lap3', 'Mocos', 'Nfs1', 'Pcyox1', 'Ppcs'], 'sources_categories': ['enzyme', 'enzyme', 'enzyme', 'enzyme', 'enzyme', 'enzyme', 'enzyme', 'enzyme', 'enzyme', 'enzyme', 'enzyme', 'enzyme', 'enzyme', 'enzyme'], 'targets': ['Slc43a2', 'Slc7a11'], 'targets_categories': ['sensor', 'sensor']}\n"
     ]
    }
   ],
   "source": [
    "# Display example MEBOCOST GP\n",
    "mebocost_gp_names = list(mebocost_gp_dict.keys())\n",
    "random.shuffle(mebocost_gp_names)\n",
    "mebocost_gp_name = mebocost_gp_names[0]\n",
    "print(f\"{mebocost_gp_name}: {mebocost_gp_dict[mebocost_gp_name]}\")"
   ]
  },
  {
   "cell_type": "code",
   "execution_count": null,
   "id": "28a1b02c-e733-4201-ace5-14f5eff00abc",
   "metadata": {},
   "outputs": [
    {
     "name": "stdout",
     "output_type": "stream",
     "text": [
      "Downloading NicheNet ligand receptor network 'v2' from the web...\n",
      "Downloading NicheNet ligand target matrix 'v2' from the web. This might take a while...\n"
     ]
    }
   ],
   "source": [
    "# Retrieve NicheNet GPs (source: ligand genes; target: receptor genes, target genes)\n",
    "nichenet_gp_dict = extract_gp_dict_from_nichenet_lrt_interactions(\n",
    "    species=species,\n",
    "    version=\"v2\",\n",
    "    keep_target_genes_ratio=1.,\n",
    "    max_n_target_genes_per_gp=250,\n",
    "    load_from_disk=False,\n",
    "    save_to_disk=True,\n",
    "    lr_network_file_path=nichenet_lr_network_file_path,\n",
    "    ligand_target_matrix_file_path=nichenet_ligand_target_matrix_file_path,\n",
    "    gene_orthologs_mapping_file_path=gene_orthologs_mapping_file_path,\n",
    "    plot_gp_gene_count_distributions=True)"
   ]
  },
  {
   "cell_type": "code",
   "execution_count": null,
   "id": "3f25f3ee-2855-4fb2-8b85-eb8385d63cc9",
   "metadata": {},
   "outputs": [],
   "source": [
    "# Display example NicheNet GP\n",
    "nichenet_gp_names = list(nichenet_gp_dict.keys())\n",
    "random.shuffle(nichenet_gp_names)\n",
    "nichenet_gp_name = nichenet_gp_names[0]\n",
    "print(f\"{nichenet_gp_name}: {nichenet_gp_dict[nichenet_gp_name]}\")"
   ]
  },
  {
   "cell_type": "code",
   "execution_count": null,
   "id": "81dae867-00ff-4d41-86b6-e5930a97087d",
   "metadata": {},
   "outputs": [],
   "source": [
    "# Add GPs into one combined dictionary for model training\n",
    "combined_gp_dict = dict(omnipath_gp_dict)\n",
    "combined_gp_dict.update(mebocost_gp_dict)\n",
    "combined_gp_dict.update(nichenet_gp_dict)"
   ]
  },
  {
   "cell_type": "code",
   "execution_count": null,
   "id": "9c394dd9-06a4-46af-bec2-abe11878ab46",
   "metadata": {},
   "outputs": [],
   "source": [
    "# Filter and combine GPs to avoid overlaps\n",
    "combined_new_gp_dict = filter_and_combine_gp_dict_gps(\n",
    "    gp_dict=combined_gp_dict,\n",
    "    gp_filter_mode=\"subset\",\n",
    "    combine_overlap_gps=True,\n",
    "    overlap_thresh_source_genes=0.9,\n",
    "    overlap_thresh_target_genes=0.9,\n",
    "    overlap_thresh_genes=0.9)\n",
    "\n",
    "print(\"Number of gene programs before filtering and combining: \"\n",
    "      f\"{len(combined_gp_dict)}.\")\n",
    "print(f\"Number of gene programs after filtering and combining: \"\n",
    "      f\"{len(combined_new_gp_dict)}.\")"
   ]
  },
  {
   "cell_type": "markdown",
   "id": "bfba5bdf-4570-4317-9b30-638d7c300cba",
   "metadata": {},
   "source": [
    "### 2.2 Load Reference Data & Compute Spatial Neighbor Graph"
   ]
  },
  {
   "cell_type": "markdown",
   "id": "6e7a16ef-55dc-486f-a70f-0cea4d63f181",
   "metadata": {},
   "source": [
    "- NicheCompass expects a precomputed spatial adjacency matrix stored in 'adata.obsp[adj_key]'.\n",
    "- The user can customize the spatial neighbor graph construction based on the biological question of interest.\n",
    "- In the spatial reference mapping setting, we will compute a separate spatial adjacency matrix for each sample in the reference and query, respectively, and combine them as two disconnected components, one for the reference and one for the query. Here, we build the dataset used for reference model training."
   ]
  },
  {
   "cell_type": "code",
   "execution_count": null,
   "id": "a26845a6-2104-4f28-a64a-34ee203cda53",
   "metadata": {},
   "outputs": [],
   "source": [
    "adata_batch_list = []\n",
    "print(\"Processing reference batches...\")\n",
    "for batch in reference_batches:\n",
    "    print(f\"Processing batch {batch}...\")\n",
    "    print(\"Loading data...\")\n",
    "    adata_batch = sc.read_h5ad(\n",
    "        f\"{so_data_folder_path}/{dataset}_{batch}.h5ad\")\n",
    "\n",
    "    print(\"Computing spatial neighborhood graph...\\n\")\n",
    "    # Compute (separate) spatial neighborhood graphs\n",
    "    sq.gr.spatial_neighbors(adata_batch,\n",
    "                            coord_type=\"generic\",\n",
    "                            spatial_key=spatial_key,\n",
    "                            n_neighs=n_neighbors)\n",
    "    \n",
    "    # Make adjacency matrix symmetric\n",
    "    adata_batch.obsp[adj_key] = (\n",
    "        adata_batch.obsp[adj_key].maximum(\n",
    "            adata_batch.obsp[adj_key].T))\n",
    "    adata_batch_list.append(adata_batch)\n",
    "adata_reference = ad.concat(adata_batch_list, join=\"inner\")\n",
    "\n",
    "# Combine spatial neighborhood graphs as disconnected components\n",
    "batch_connectivities = []\n",
    "len_before_batch = 0\n",
    "for i in range(len(adata_batch_list)):\n",
    "    if i == 0: # first batch\n",
    "        after_batch_connectivities_extension = sp.csr_matrix(\n",
    "            (adata_batch_list[0].shape[0],\n",
    "            (adata_reference.shape[0] -\n",
    "            adata_batch_list[0].shape[0])))\n",
    "        batch_connectivities.append(sp.hstack(\n",
    "            (adata_batch_list[0].obsp[adj_key],\n",
    "            after_batch_connectivities_extension)))\n",
    "    elif i == (len(adata_batch_list) - 1): # last batch\n",
    "        before_batch_connectivities_extension = sp.csr_matrix(\n",
    "            (adata_batch_list[i].shape[0],\n",
    "            (adata_reference.shape[0] -\n",
    "            adata_batch_list[i].shape[0])))\n",
    "        batch_connectivities.append(sp.hstack(\n",
    "            (before_batch_connectivities_extension,\n",
    "            adata_batch_list[i].obsp[adj_key])))\n",
    "    else: # middle batches\n",
    "        before_batch_connectivities_extension = sp.csr_matrix(\n",
    "            (adata_batch_list[i].shape[0], len_before_batch))\n",
    "        after_batch_connectivities_extension = sp.csr_matrix(\n",
    "            (adata_batch_list[i].shape[0],\n",
    "            (adata_reference.shape[0] -\n",
    "            adata_batch_list[i].shape[0] -\n",
    "            len_before_batch)))\n",
    "        batch_connectivities.append(sp.hstack(\n",
    "            (before_batch_connectivities_extension,\n",
    "            adata_batch_list[i].obsp[adj_key],\n",
    "            after_batch_connectivities_extension)))\n",
    "    len_before_batch += adata_batch_list[i].shape[0]\n",
    "adata_reference.obsp[adj_key] = sp.vstack(batch_connectivities)\n",
    "\n",
    "adata_reference.obs[mapping_entity_key] = \"reference\""
   ]
  },
  {
   "cell_type": "markdown",
   "id": "775ea300-3acb-4fdd-a028-0be53475e819",
   "metadata": {},
   "source": [
    "### 2.3 Add GP Mask to Reference Data"
   ]
  },
  {
   "cell_type": "code",
   "execution_count": null,
   "id": "39b38433-8a34-4141-968d-c330801e4f0e",
   "metadata": {},
   "outputs": [],
   "source": [
    "# Add the GP dictionary as binary masks to the adata\n",
    "add_gps_from_gp_dict_to_adata(\n",
    "    gp_dict=combined_new_gp_dict,\n",
    "    adata=adata,\n",
    "    gp_targets_mask_key=gp_targets_mask_key,\n",
    "    gp_targets_categories_mask_key=gp_targets_categories_mask_key,\n",
    "    gp_sources_mask_key=gp_sources_mask_key,\n",
    "    gp_sources_categories_mask_key=gp_sources_categories_mask_key,\n",
    "    gp_names_key=gp_names_key,\n",
    "    min_genes_per_gp=2,\n",
    "    min_source_genes_per_gp=1,\n",
    "    min_target_genes_per_gp=1,\n",
    "    max_genes_per_gp=None,\n",
    "    max_source_genes_per_gp=None,\n",
    "    max_target_genes_per_gp=None)"
   ]
  },
  {
   "cell_type": "markdown",
   "id": "247eea35-f625-498f-bce7-f51dc080d43c",
   "metadata": {},
   "source": [
    "### 2.5 Explore Data"
   ]
  },
  {
   "cell_type": "code",
   "execution_count": null,
   "id": "5ef10fd2-f793-4ed0-a0e1-610d89f4db18",
   "metadata": {},
   "outputs": [],
   "source": [
    "cell_type_colors = create_new_color_dict(\n",
    "    adata=adata_reference,\n",
    "    cat_key=cell_type_key)"
   ]
  },
  {
   "cell_type": "code",
   "execution_count": null,
   "id": "2bbcd6fe-2143-4172-85be-3e682df820b2",
   "metadata": {},
   "outputs": [],
   "source": [
    "samples_reference = adata_reference.obs[sample_key].unique().tolist()"
   ]
  },
  {
   "cell_type": "code",
   "execution_count": null,
   "id": "c30166f1-f8ad-4f65-8c97-8ba37b1ecee2",
   "metadata": {},
   "outputs": [],
   "source": [
    "for sample in samples_reference:\n",
    "    adata_batch = adata_reference[adata_reference.obs[sample_key] == sample]\n",
    "    \n",
    "    print(f\"Summary of sample {sample}:\")\n",
    "    print(f\"Number of nodes (observations): {adata_batch.layers[counts_key].shape[0]}\")\n",
    "    print(f\"Number of node features (genes): {adata_batch.layers[counts_key].shape[1]}\")\n",
    "\n",
    "    # Visualize cell-level annotated data in physical space\n",
    "    sc.pl.spatial(adata_batch,\n",
    "                  color=cell_type_key,\n",
    "                  palette=cell_type_colors,\n",
    "                  spot_size=spot_size)"
   ]
  },
  {
   "cell_type": "markdown",
   "id": "a737810f-bdcb-4b75-96db-ca1db8491852",
   "metadata": {},
   "source": [
    "## 3. Reference Model Training"
   ]
  },
  {
   "cell_type": "markdown",
   "id": "0ff79b0a-f7e9-405a-b8c1-90ae4b450a29",
   "metadata": {},
   "source": [
    "### 3.1 Initialize, Train & Save Model"
   ]
  },
  {
   "cell_type": "code",
   "execution_count": null,
   "id": "085f2594-6c2b-4529-acb6-d47373bca416",
   "metadata": {},
   "outputs": [],
   "source": [
    "# Initialize model\n",
    "model = NicheCompass(adata,\n",
    "                     counts_key=counts_key,\n",
    "                     adj_key=adj_key,\n",
    "                     cat_covariates_embeds_injection=cat_covariates_embeds_injection,\n",
    "                     cat_covariates_keys=cat_covariates_keys,\n",
    "                     cat_covariates_no_edges=cat_covariates_no_edges,\n",
    "                     cat_covariates_embeds_nums=cat_covariates_embeds_nums,\n",
    "                     gp_names_key=gp_names_key,\n",
    "                     active_gp_names_key=active_gp_names_key,\n",
    "                     gp_targets_mask_key=gp_targets_mask_key,\n",
    "                     gp_targets_categories_mask_key=gp_targets_categories_mask_key,\n",
    "                     gp_sources_mask_key=gp_sources_mask_key,\n",
    "                     gp_sources_categories_mask_key=gp_sources_categories_mask_key,\n",
    "                     latent_key=latent_key,\n",
    "                     conv_layer_encoder=conv_layer_encoder,\n",
    "                     active_gp_thresh_ratio=active_gp_thresh_ratio)"
   ]
  },
  {
   "cell_type": "code",
   "execution_count": null,
   "id": "14610388-e14e-428c-92e5-c11561faa66d",
   "metadata": {},
   "outputs": [],
   "source": [
    "# Train model\n",
    "model.train(n_epochs=n_epochs,\n",
    "            n_epochs_all_gps=n_epochs_all_gps,\n",
    "            lr=lr,\n",
    "            lambda_edge_recon=lambda_edge_recon,\n",
    "            lambda_gene_expr_recon=lambda_gene_expr_recon,\n",
    "            lambda_l1_masked=lambda_l1_masked,\n",
    "            edge_batch_size=edge_batch_size,\n",
    "            n_sampled_neighbors=n_sampled_neighbors,\n",
    "            use_cuda_if_available=use_cuda_if_available,\n",
    "            verbose=False)"
   ]
  },
  {
   "cell_type": "code",
   "execution_count": null,
   "id": "ec782798-a47e-4e6a-8944-73e896f9ee46",
   "metadata": {},
   "outputs": [],
   "source": [
    "# Compute latent neighbor graph\n",
    "sc.pp.neighbors(model.adata,\n",
    "                use_rep=latent_key,\n",
    "                key_added=latent_key)\n",
    "\n",
    "# Compute UMAP embedding\n",
    "sc.tl.umap(model.adata,\n",
    "           neighbors_key=latent_key)"
   ]
  },
  {
   "cell_type": "code",
   "execution_count": null,
   "id": "27a34205-f8da-4297-8610-40abb8522dfb",
   "metadata": {},
   "outputs": [],
   "source": [
    "# Save trained model\n",
    "model.save(dir_path=f\"{model_folder_path}/reference\",\n",
    "           overwrite=True,\n",
    "           save_adata=True,\n",
    "           adata_file_name=\"adata.h5ad\")"
   ]
  },
  {
   "cell_type": "markdown",
   "id": "53abbabd-72d6-4a3a-b72f-83ba7a9677f7",
   "metadata": {},
   "source": [
    "## 4. Query Mapping Preparation"
   ]
  },
  {
   "cell_type": "markdown",
   "id": "baad79e4-f912-44be-ad3c-0c8191e227cd",
   "metadata": {},
   "source": [
    "### 4.1 Load Query Data & Compute Spatial Neighbor Graph"
   ]
  },
  {
   "cell_type": "markdown",
   "id": "b83b1a31-0cc7-4828-afa2-8997da518a1f",
   "metadata": {},
   "source": [
    "Now we will load the query samples to fine-tune the reference model."
   ]
  },
  {
   "cell_type": "code",
   "execution_count": null,
   "id": "3c415948-578e-4b68-9f3a-adef6a191229",
   "metadata": {},
   "outputs": [],
   "source": [
    "adata_batch_list = []\n",
    "print(\"Processing query batches...\")\n",
    "for batch in query_batches:\n",
    "    print(f\"Processing batch {batch}...\")\n",
    "    print(\"Loading data...\")\n",
    "    adata_batch = sc.read_h5ad(\n",
    "        f\"{so_data_folder_path}/{dataset}_{batch}.h5ad\")\n",
    "\n",
    "    print(\"Computing spatial neighborhood graph...\\n\")\n",
    "    # Compute (separate) spatial neighborhood graphs\n",
    "    sq.gr.spatial_neighbors(adata_batch,\n",
    "                            coord_type=\"generic\",\n",
    "                            spatial_key=spatial_key,\n",
    "                            n_neighs=n_neighbors)\n",
    "    \n",
    "    # Make adjacency matrix symmetric\n",
    "    adata_batch.obsp[adj_key] = (\n",
    "        adata_batch.obsp[adj_key].maximum(\n",
    "            adata_batch.obsp[adj_key].T))\n",
    "    adata_batch_list.append(adata_batch)\n",
    "adata_query = ad.concat(adata_batch_list, join=\"inner\")\n",
    "\n",
    "# Combine spatial neighborhood graphs as disconnected components\n",
    "batch_connectivities = []\n",
    "len_before_batch = 0\n",
    "for i in range(len(adata_batch_list)):\n",
    "    if i == 0: # first batch\n",
    "        after_batch_connectivities_extension = sp.csr_matrix(\n",
    "            (adata_batch_list[0].shape[0],\n",
    "            (adata_query.shape[0] -\n",
    "            adata_batch_list[0].shape[0])))\n",
    "        batch_connectivities.append(sp.hstack(\n",
    "            (adata_batch_list[0].obsp[adj_key],\n",
    "            after_batch_connectivities_extension)))\n",
    "    elif i == (len(adata_batch_list) - 1): # last batch\n",
    "        before_batch_connectivities_extension = sp.csr_matrix(\n",
    "            (adata_batch_list[i].shape[0],\n",
    "            (adata_query.shape[0] -\n",
    "            adata_batch_list[i].shape[0])))\n",
    "        batch_connectivities.append(sp.hstack(\n",
    "            (before_batch_connectivities_extension,\n",
    "            adata_batch_list[i].obsp[adj_key])))\n",
    "    else: # middle batches\n",
    "        before_batch_connectivities_extension = sp.csr_matrix(\n",
    "            (adata_batch_list[i].shape[0], len_before_batch))\n",
    "        after_batch_connectivities_extension = sp.csr_matrix(\n",
    "            (adata_batch_list[i].shape[0],\n",
    "            (adata_query.shape[0] -\n",
    "            adata_batch_list[i].shape[0] -\n",
    "            len_before_batch)))\n",
    "        batch_connectivities.append(sp.hstack(\n",
    "            (before_batch_connectivities_extension,\n",
    "            adata_batch_list[i].obsp[adj_key],\n",
    "            after_batch_connectivities_extension)))\n",
    "    len_before_batch += adata_batch_list[i].shape[0]\n",
    "adata_query.obsp[adj_key] = sp.vstack(batch_connectivities)\n",
    "\n",
    "adata_query.obs[mapping_entity_key] = \"query\""
   ]
  },
  {
   "cell_type": "markdown",
   "id": "0fa76c20-6c97-42d8-8abc-e81f25e49a75",
   "metadata": {},
   "source": [
    "### 4.2 Add GP Mask to Query Data"
   ]
  },
  {
   "cell_type": "code",
   "execution_count": null,
   "id": "f68ceb37-751b-428b-b7e6-09f352c51b26",
   "metadata": {},
   "outputs": [],
   "source": [
    "# Add the GP dictionary as binary masks to the adata\n",
    "add_gps_from_gp_dict_to_adata(\n",
    "    gp_dict=combined_new_gp_dict,\n",
    "    adata=adata_query,\n",
    "    gp_targets_mask_key=gp_targets_mask_key,\n",
    "    gp_targets_categories_mask_key=gp_targets_categories_mask_key,\n",
    "    gp_sources_mask_key=gp_sources_mask_key,\n",
    "    gp_sources_categories_mask_key=gp_sources_categories_mask_key,\n",
    "    gp_names_key=gp_names_key,\n",
    "    min_genes_per_gp=2,\n",
    "    min_source_genes_per_gp=1,\n",
    "    min_target_genes_per_gp=1,\n",
    "    max_genes_per_gp=None,\n",
    "    max_source_genes_per_gp=None,\n",
    "    max_target_genes_per_gp=None)"
   ]
  },
  {
   "cell_type": "markdown",
   "id": "0c6782ad-e3e3-4b01-a20b-70722c5bdb15",
   "metadata": {},
   "source": [
    "### 4.4 Explore Data"
   ]
  },
  {
   "cell_type": "code",
   "execution_count": null,
   "id": "dbb9df64-b5c6-4543-9c39-b8d144f56df3",
   "metadata": {},
   "outputs": [],
   "source": [
    "cell_type_colors = create_new_color_dict(\n",
    "    adata=adata_query,\n",
    "    cat_key=cell_type_key)"
   ]
  },
  {
   "cell_type": "code",
   "execution_count": null,
   "id": "f247a2b5-1c33-424c-8e98-6917aa6d928e",
   "metadata": {},
   "outputs": [],
   "source": [
    "samples_query = adata_query.obs[sample_key].unique().tolist()"
   ]
  },
  {
   "cell_type": "code",
   "execution_count": null,
   "id": "85bf6f74-dc59-45b9-84ed-309d5bdda321",
   "metadata": {},
   "outputs": [],
   "source": [
    "for sample in samples_query:\n",
    "    adata_batch = adata_query[adata_query.obs[sample_key] == sample]\n",
    "    \n",
    "    print(f\"Summary of sample {sample}:\")\n",
    "    print(f\"Number of nodes (observations): {adata_batch.layers[counts_key].shape[0]}\")\n",
    "    print(f\"Number of node features (genes): {adata_batch.layers[counts_key].shape[1]}\")\n",
    "\n",
    "    # Visualize cell-level annotated data in physical space\n",
    "    sc.pl.spatial(adata_batch,\n",
    "                  color=cell_type_key,\n",
    "                  palette=cell_type_colors,\n",
    "                  spot_size=spot_size)"
   ]
  },
  {
   "cell_type": "markdown",
   "id": "5815a9ce-57a7-4ec9-a364-63e4e5c9e01f",
   "metadata": {},
   "source": [
    "## 5. Map Query on Reference Model"
   ]
  },
  {
   "cell_type": "markdown",
   "id": "97187ecb-4340-49c9-a7b2-17e3c7abfe99",
   "metadata": {},
   "source": [
    "### 5.1 Initialize, Train & Save Model"
   ]
  },
  {
   "cell_type": "markdown",
   "id": "5fb2f46b-42db-4c3d-b746-0d429f7cfe0f",
   "metadata": {},
   "source": [
    "Load model trained on reference data for transfer learning with query data. Freeze all weights except for covariate embedding weights."
   ]
  },
  {
   "cell_type": "code",
   "execution_count": null,
   "id": "3e2f63d2-2977-4f44-987e-5ebacf1e6897",
   "metadata": {},
   "outputs": [],
   "source": [
    "load_timestamp = \"26062023_162429\"\n",
    "\n",
    "model_folder_path = f\"{artifacts_folder_path}/spatial_reference_mapping/{load_timestamp}/model\""
   ]
  },
  {
   "cell_type": "code",
   "execution_count": null,
   "id": "1e4c3fe3-c27f-417e-acc4-484b0489eb04",
   "metadata": {},
   "outputs": [],
   "source": [
    "# Loading reference model with query data\n",
    "print(\"Retrieving reference model...\")\n",
    "model = NicheCompass.load(\n",
    "    dir_path=f\"{model_folder_path}/reference\",\n",
    "    adata=adata_query,\n",
    "    adata_file_name=\"adata.h5ad\",\n",
    "    gp_names_key=gp_names_key,\n",
    "    unfreeze_all_weights=False,\n",
    "    unfreeze_cat_covariates_embedder_weights=True)"
   ]
  },
  {
   "cell_type": "code",
   "execution_count": null,
   "id": "a96177eb-3033-44dd-baf6-072b12cc2011",
   "metadata": {},
   "outputs": [],
   "source": [
    "# Train model\n",
    "model.train(n_epochs=n_epochs,\n",
    "            n_epochs_all_gps=n_epochs_all_gps,\n",
    "            lr=lr,\n",
    "            lambda_edge_recon=lambda_edge_recon,\n",
    "            lambda_gene_expr_recon=lambda_gene_expr_recon,\n",
    "            lambda_l1_masked=lambda_l1_masked,\n",
    "            edge_batch_size=edge_batch_size,\n",
    "            n_sampled_neighbors=n_sampled_neighbors,\n",
    "            use_cuda_if_available=use_cuda_if_available)"
   ]
  },
  {
   "cell_type": "code",
   "execution_count": null,
   "id": "d105737b-ce25-448e-97f7-a581310d7dff",
   "metadata": {},
   "outputs": [],
   "source": [
    "# Save trained model\n",
    "model.save(dir_path=f\"{model_folder_path}/query\",\n",
    "           overwrite=True,\n",
    "           save_adata=True,\n",
    "           adata_file_name=\"adata.h5ad\")"
   ]
  },
  {
   "cell_type": "markdown",
   "id": "6bbea51c-c9da-4c1b-8ea3-235f92771dd0",
   "metadata": {},
   "source": [
    "### 5.2 Integrate Reference & Query Data"
   ]
  },
  {
   "cell_type": "markdown",
   "id": "d83b39ce-66fe-47a1-bd44-e989ecc754a2",
   "metadata": {},
   "source": [
    "Now that we have fine-tuned the reference model with the query data, we will load it with the integrated reference and query data."
   ]
  },
  {
   "cell_type": "code",
   "execution_count": null,
   "id": "df9962bd-5955-47df-a001-0becc5ee8a1e",
   "metadata": {},
   "outputs": [],
   "source": [
    "# Integrate reference and query data\n",
    "adata_batch_list = [adata_reference, adata_query]\n",
    "adata_reference_query = ad.concat(adata_batch_list, join=\"inner\")\n",
    "\n",
    "# Combine spatial neighborhood graphs as disconnected components\n",
    "batch_connectivities = []\n",
    "len_before_batch = 0\n",
    "for i in range(len(adata_batch_list)):\n",
    "    if i == 0: # first batch\n",
    "        after_batch_connectivities_extension = sp.csr_matrix(\n",
    "            (adata_batch_list[0].shape[0],\n",
    "            (adata_reference_query.shape[0] -\n",
    "            adata_batch_list[0].shape[0])))\n",
    "        batch_connectivities.append(sp.hstack(\n",
    "            (adata_batch_list[0].obsp[adj_key],\n",
    "            after_batch_connectivities_extension)))\n",
    "    elif i == (len(adata_batch_list) - 1): # last batch\n",
    "        before_batch_connectivities_extension = sp.csr_matrix(\n",
    "            (adata_batch_list[i].shape[0],\n",
    "            (adata_reference_query.shape[0] -\n",
    "            adata_batch_list[i].shape[0])))\n",
    "        batch_connectivities.append(sp.hstack(\n",
    "            (before_batch_connectivities_extension,\n",
    "            adata_batch_list[i].obsp[adj_key])))\n",
    "    else: # middle batches\n",
    "        before_batch_connectivities_extension = sp.csr_matrix(\n",
    "            (adata_batch_list[i].shape[0], len_before_batch))\n",
    "        after_batch_connectivities_extension = sp.csr_matrix(\n",
    "            (adata_batch_list[i].shape[0],\n",
    "            (adata_reference_query.shape[0] -\n",
    "            adata_batch_list[i].shape[0] -\n",
    "            len_before_batch)))\n",
    "        batch_connectivities.append(sp.hstack(\n",
    "            (before_batch_connectivities_extension,\n",
    "            adata_batch_list[i].obsp[adj_key],\n",
    "            after_batch_connectivities_extension)))\n",
    "    len_before_batch += adata_batch_list[i].shape[0]\n",
    "adata_reference_query.obsp[adj_key] = sp.vstack(batch_connectivities)"
   ]
  },
  {
   "cell_type": "markdown",
   "id": "dc9dcfe0-3358-4e3f-bf49-5ae9c264c9ad",
   "metadata": {},
   "source": [
    "### 5.3 Add GP Mask to Integrated Data"
   ]
  },
  {
   "cell_type": "code",
   "execution_count": null,
   "id": "faa8e628-7f7a-4e4d-a4b7-3609c24fe53a",
   "metadata": {},
   "outputs": [],
   "source": [
    "# Add the GP dictionary as binary masks to the adata\n",
    "add_gps_from_gp_dict_to_adata(\n",
    "    gp_dict=combined_new_gp_dict,\n",
    "    adata=adata_reference_query,\n",
    "    gp_targets_mask_key=gp_targets_mask_key,\n",
    "    gp_targets_categories_mask_key=gp_targets_categories_mask_key,\n",
    "    gp_sources_mask_key=gp_sources_mask_key,\n",
    "    gp_sources_categories_mask_key=gp_sources_categories_mask_key,\n",
    "    gp_names_key=gp_names_key,\n",
    "    min_genes_per_gp=2,\n",
    "    min_source_genes_per_gp=1,\n",
    "    min_target_genes_per_gp=1,\n",
    "    max_genes_per_gp=None,\n",
    "    max_source_genes_per_gp=None,\n",
    "    max_target_genes_per_gp=None)"
   ]
  },
  {
   "cell_type": "markdown",
   "id": "eb9bfc49-eb67-4565-91da-5d888b060abb",
   "metadata": {},
   "source": [
    "### 5.4 Load Fine-tuned Model with Reference & Query Data"
   ]
  },
  {
   "cell_type": "code",
   "execution_count": null,
   "id": "50756466-5e73-4208-9626-5d784e0fd7ac",
   "metadata": {},
   "outputs": [],
   "source": [
    "# Load query model with the integrated data\n",
    "print(\"Retrieving query model...\")\n",
    "model = NicheCompass.load(\n",
    "    dir_path=f\"{model_folder_path}/query\",\n",
    "    adata=adata_reference_query,\n",
    "    adata_file_name=\"adata.h5ad\",\n",
    "    gp_names_key=gp_names_key)"
   ]
  },
  {
   "cell_type": "code",
   "execution_count": null,
   "id": "6ca813f8-072d-473a-b6c4-c3168a4f30df",
   "metadata": {},
   "outputs": [],
   "source": [
    "print(\"Computing reference query latent GP space...\")\n",
    "model.adata.obsm[latent_key], _ = model.get_latent_representation(\n",
    "   adata=model.adata,\n",
    "   counts_key=counts_key,\n",
    "   adj_key=adj_key,\n",
    "   cat_covariates_keys=cat_covariates_keys,\n",
    "   only_active_gps=True,\n",
    "   return_mu_std=True,\n",
    "   node_batch_size=model.node_batch_size_)"
   ]
  },
  {
   "cell_type": "code",
   "execution_count": null,
   "id": "67cb50a6-2383-40ff-a7e6-8644d8670eb2",
   "metadata": {},
   "outputs": [],
   "source": [
    "# Compute latent neighbor graph\n",
    "sc.pp.neighbors(model.adata,\n",
    "                use_rep=latent_key,\n",
    "                key_added=latent_key)\n",
    "\n",
    "# Compute UMAP embedding\n",
    "sc.tl.umap(model.adata,\n",
    "           neighbors_key=latent_key)"
   ]
  },
  {
   "cell_type": "code",
   "execution_count": null,
   "id": "72cd69fc-bbff-4cee-8bfc-3d4556c2d4e5",
   "metadata": {},
   "outputs": [],
   "source": [
    "# Save model\n",
    "model.save(dir_path=f\"{model_folder_path}/reference_query\",\n",
    "           overwrite=True,\n",
    "           save_adata=True,\n",
    "           adata_file_name=\"adata.h5ad\")"
   ]
  },
  {
   "cell_type": "markdown",
   "id": "103871a2-2d96-4a64-9f71-99f388a9c345",
   "metadata": {},
   "source": [
    "## 6. Analysis"
   ]
  },
  {
   "cell_type": "code",
   "execution_count": null,
   "id": "1debb885-48a5-4a94-80c4-cda829674626",
   "metadata": {},
   "outputs": [],
   "source": [
    "load_timestamp = \"26062023_162429\"\n",
    "\n",
    "figure_folder_path = f\"{artifacts_folder_path}/spatial_reference_mapping/{load_timestamp}/figures\"\n",
    "model_folder_path = f\"{artifacts_folder_path}/spatial_reference_mapping/{load_timestamp}/model\" \\\n",
    "                     \"/reference_query\"\n",
    "\n",
    "os.makedirs(figure_folder_path, exist_ok=True)"
   ]
  },
  {
   "cell_type": "code",
   "execution_count": null,
   "id": "229a2c49-724d-4265-9edf-e878d42d1878",
   "metadata": {},
   "outputs": [],
   "source": [
    "# Load trained model\n",
    "model = NicheCompass.load(dir_path=model_folder_path,\n",
    "                          adata=None,\n",
    "                          adata_file_name=\"adata.h5ad\",\n",
    "                          gp_names_key=gp_names_key)"
   ]
  },
  {
   "cell_type": "code",
   "execution_count": null,
   "id": "eb41b336-7b20-4cb3-b739-240b1427b156",
   "metadata": {},
   "outputs": [],
   "source": [
    "samples = model.adata.obs[sample_key].unique().tolist()"
   ]
  },
  {
   "cell_type": "markdown",
   "id": "d7b7c471-525d-432c-926b-9a115e5618d1",
   "metadata": {},
   "source": [
    "### 6.1 Visualize NicheCompass Latent GP Space"
   ]
  },
  {
   "cell_type": "markdown",
   "id": "f73d6cac-8636-48d3-bc13-0fd80141b782",
   "metadata": {},
   "source": [
    "First, we will check how well the NicheCompass latent GP features are integrated across reference and query."
   ]
  },
  {
   "cell_type": "code",
   "execution_count": null,
   "id": "86513324-8926-4ad2-9ce0-841c178785b4",
   "metadata": {},
   "outputs": [],
   "source": [
    "mapping_entity_colors = create_new_color_dict(\n",
    "    adata=model.adata,\n",
    "    cat_key=mapping_entity_key)"
   ]
  },
  {
   "cell_type": "code",
   "execution_count": null,
   "id": "69282b67-456d-43fe-b1af-856c3d0fd301",
   "metadata": {},
   "outputs": [],
   "source": [
    "# Create plot of mapping entity annotations in physical and latent space\n",
    "groups = None\n",
    "save_fig = True\n",
    "file_path = f\"{figure_folder_path}/\" \\\n",
    "            \"batches_latent_physical_space.svg\"\n",
    "\n",
    "fig = plt.figure(figsize=(12, 14))\n",
    "title = fig.suptitle(t=f\"NicheCompass Batches \" \\\n",
    "                       \"in Latent and Physical Space\",\n",
    "                     y=0.96,\n",
    "                     x=0.55,\n",
    "                     fontsize=20)\n",
    "spec1 = gridspec.GridSpec(ncols=1,\n",
    "                          nrows=2,\n",
    "                          width_ratios=[1],\n",
    "                          height_ratios=[3, 2])\n",
    "spec2 = gridspec.GridSpec(ncols=len(samples),\n",
    "                          nrows=2,\n",
    "                          width_ratios=[1] * len(samples),\n",
    "                          height_ratios=[3, 2])\n",
    "axs = []\n",
    "axs.append(fig.add_subplot(spec1[0]))\n",
    "sc.pl.umap(adata=model.adata,\n",
    "           color=[mapping_entity_key],\n",
    "           groups=groups,\n",
    "           palette=mapping_entity_colors,\n",
    "           title=f\"Batches in Latent Space\",\n",
    "           ax=axs[0],\n",
    "           show=False)\n",
    "for idx, sample in enumerate(samples):\n",
    "    axs.append(fig.add_subplot(spec2[len(samples) + idx]))\n",
    "    sc.pl.spatial(adata=model.adata[model.adata.obs[sample_key] == sample],\n",
    "                  color=[mapping_entity_key],\n",
    "                  groups=groups,\n",
    "                  palette=mapping_entity_colors,\n",
    "                  spot_size=spot_size,\n",
    "                  title=f\"Batches in Physical Space \\n\"\n",
    "                        f\"(Sample: {sample})\",\n",
    "                  legend_loc=None,\n",
    "                  ax=axs[idx+1],\n",
    "                  show=False)\n",
    "\n",
    "# Create and position shared legend\n",
    "handles, labels = axs[0].get_legend_handles_labels()\n",
    "lgd = fig.legend(handles,\n",
    "                 labels,\n",
    "                 loc=\"center left\",\n",
    "                 bbox_to_anchor=(0.98, 0.5))\n",
    "axs[0].get_legend().remove()\n",
    "\n",
    "# Adjust, save and display plot\n",
    "plt.subplots_adjust(wspace=0.2, hspace=0.25)\n",
    "if save_fig:\n",
    "    fig.savefig(file_path,\n",
    "                bbox_extra_artists=(lgd, title),\n",
    "                bbox_inches=\"tight\")\n",
    "plt.show()"
   ]
  },
  {
   "cell_type": "markdown",
   "id": "a8de0ff1-ce46-4806-a580-4d363b79a819",
   "metadata": {},
   "source": [
    "Next, we will check how well the NicheCompass latent GP features are integrated across different batches."
   ]
  },
  {
   "cell_type": "code",
   "execution_count": null,
   "id": "2823d568-ff01-47a8-ba1e-822ff7f7a51d",
   "metadata": {},
   "outputs": [],
   "source": [
    "batch_colors = create_new_color_dict(\n",
    "    adata=model.adata,\n",
    "    cat_key=condition_key)"
   ]
  },
  {
   "cell_type": "code",
   "execution_count": null,
   "id": "4a3dcdc2-d713-4c6d-9600-0ca951421319",
   "metadata": {},
   "outputs": [],
   "source": [
    "# Create plot of batch annotations in physical and latent space\n",
    "groups = None\n",
    "save_fig = True\n",
    "file_path = f\"{figure_folder_path}/\" \\\n",
    "            \"batches_latent_physical_space.svg\"\n",
    "\n",
    "fig = plt.figure(figsize=(12, 14))\n",
    "title = fig.suptitle(t=f\"NicheCompass Batches \" \\\n",
    "                       \"in Latent and Physical Space\",\n",
    "                     y=0.96,\n",
    "                     x=0.55,\n",
    "                     fontsize=20)\n",
    "spec1 = gridspec.GridSpec(ncols=1,\n",
    "                          nrows=2,\n",
    "                          width_ratios=[1],\n",
    "                          height_ratios=[3, 2])\n",
    "spec2 = gridspec.GridSpec(ncols=len(samples),\n",
    "                          nrows=2,\n",
    "                          width_ratios=[1] * len(samples),\n",
    "                          height_ratios=[3, 2])\n",
    "axs = []\n",
    "axs.append(fig.add_subplot(spec1[0]))\n",
    "sc.pl.umap(adata=model.adata,\n",
    "           color=[cat_covariates_keys[0]],\n",
    "           groups=groups,\n",
    "           palette=batch_colors,\n",
    "           title=f\"Batches in Latent Space\",\n",
    "           ax=axs[0],\n",
    "           show=False)\n",
    "for idx, sample in enumerate(samples):\n",
    "    axs.append(fig.add_subplot(spec2[len(samples) + idx]))\n",
    "    sc.pl.spatial(adata=model.adata[model.adata.obs[sample_key] == sample],\n",
    "                  color=[cat_covariates_keys[0]],\n",
    "                  groups=groups,\n",
    "                  palette=batch_colors,\n",
    "                  spot_size=spot_size,\n",
    "                  title=f\"Batches in Physical Space \\n\"\n",
    "                        f\"(Sample: {sample})\",\n",
    "                  legend_loc=None,\n",
    "                  ax=axs[idx+1],\n",
    "                  show=False)\n",
    "\n",
    "# Create and position shared legend\n",
    "handles, labels = axs[0].get_legend_handles_labels()\n",
    "lgd = fig.legend(handles,\n",
    "                 labels,\n",
    "                 loc=\"center left\",\n",
    "                 bbox_to_anchor=(0.98, 0.5))\n",
    "axs[0].get_legend().remove()\n",
    "\n",
    "# Adjust, save and display plot\n",
    "plt.subplots_adjust(wspace=0.2, hspace=0.25)\n",
    "if save_fig:\n",
    "    fig.savefig(file_path,\n",
    "                bbox_extra_artists=(lgd, title),\n",
    "                bbox_inches=\"tight\")\n",
    "plt.show()"
   ]
  },
  {
   "cell_type": "markdown",
   "id": "46620b38-8f3c-4451-8eb2-ad5d89140ed4",
   "metadata": {},
   "source": [
    "Next, let's look at the preservation of cell type annotations in the latent GP space. Note that the goal of NicheCompass is not a separation of cell types but rather to identify spatially consistent cell niches."
   ]
  },
  {
   "cell_type": "code",
   "execution_count": null,
   "id": "11125531-c4e0-454e-89d8-265248bfa494",
   "metadata": {},
   "outputs": [],
   "source": [
    "cell_type_colors = create_new_color_dict(\n",
    "    adata=model.adata,\n",
    "    cat_key=cell_type_key)"
   ]
  },
  {
   "cell_type": "code",
   "execution_count": null,
   "id": "5794dd39-4282-400f-9682-a2dd4a77eacc",
   "metadata": {},
   "outputs": [],
   "source": [
    "# Create plot of cell type annotations in physical and latent space\n",
    "groups = None\n",
    "save_fig = True\n",
    "file_path = f\"{figure_folder_path}/\" \\\n",
    "            \"cell_types_latent_physical_space.svg\"\n",
    "\n",
    "fig = plt.figure(figsize=(12, 14))\n",
    "title = fig.suptitle(t=f\"Cell Types \" \\\n",
    "                       \"in Latent and Physical Space\",\n",
    "                     y=0.96,\n",
    "                     x=0.55,\n",
    "                     fontsize=20)\n",
    "spec1 = gridspec.GridSpec(ncols=1,\n",
    "                          nrows=2,\n",
    "                          width_ratios=[1],\n",
    "                          height_ratios=[3, 2])\n",
    "spec2 = gridspec.GridSpec(ncols=len(samples),\n",
    "                          nrows=2,\n",
    "                          width_ratios=[1] * len(samples),\n",
    "                          height_ratios=[3, 2])\n",
    "axs = []\n",
    "axs.append(fig.add_subplot(spec1[0]))\n",
    "sc.pl.umap(adata=model.adata,\n",
    "           color=[cell_type_key],\n",
    "           groups=groups,palette=cell_type_colors,\n",
    "           title=f\"Cell Types in Latent Space\",\n",
    "           ax=axs[0],\n",
    "           show=False)\n",
    "for idx, sample in enumerate(samples):\n",
    "    axs.append(fig.add_subplot(spec2[len(samples) + idx]))\n",
    "    sc.pl.spatial(adata=model.adata[model.adata.obs[sample_key] == sample],\n",
    "                  color=[cell_type_key],\n",
    "                  groups=groups,\n",
    "                  palette=cell_type_colors,\n",
    "                  spot_size=spot_size,\n",
    "                  title=f\"Cell Types in Physical Space \\n\"\n",
    "                        f\"(Sample: {sample})\",\n",
    "                  legend_loc=None,\n",
    "                  ax=axs[idx+1],\n",
    "                  show=False)\n",
    "\n",
    "# Create and position shared legend\n",
    "handles, labels = axs[0].get_legend_handles_labels()\n",
    "lgd = fig.legend(handles,\n",
    "                 labels,\n",
    "                 loc=\"center left\",\n",
    "                 bbox_to_anchor=(0.98, 0.5))\n",
    "axs[0].get_legend().remove()\n",
    "\n",
    "# Adjust, save and display plot\n",
    "plt.subplots_adjust(wspace=0.2, hspace=0.25)\n",
    "if save_fig:\n",
    "    fig.savefig(file_path,\n",
    "                bbox_extra_artists=(lgd, title),\n",
    "                bbox_inches=\"tight\")\n",
    "plt.show()"
   ]
  },
  {
   "cell_type": "markdown",
   "id": "8ca80aeb-2ad0-477a-849c-f37a02546ab0",
   "metadata": {
    "tags": []
   },
   "source": [
    "### 6.2 Identify Niches"
   ]
  },
  {
   "cell_type": "markdown",
   "id": "92d1e703-8bcd-4678-a42d-c4acea72947f",
   "metadata": {},
   "source": [
    "We compute Leiden clustering based on the NicheCompass embeddings to identify spatial cellular niches."
   ]
  },
  {
   "cell_type": "code",
   "execution_count": null,
   "id": "c7531cf5-97e4-4b7b-bd05-1e4471e378fe",
   "metadata": {},
   "outputs": [],
   "source": [
    "# Compute latent Leiden clustering\n",
    "sc.tl.leiden(adata=model.adata,\n",
    "             resolution=latent_leiden_resolution,\n",
    "             key_added=latent_cluster_key,\n",
    "             neighbors_key=latent_key)"
   ]
  },
  {
   "cell_type": "code",
   "execution_count": null,
   "id": "ec2bb284-4671-4734-8eef-025ee76daa32",
   "metadata": {},
   "outputs": [],
   "source": [
    "# Create plot of latent cluster / niche annotations in physical and latent space\n",
    "groups = None # set this to a specific cluster for easy visualization, e.g. [\"0\"]\n",
    "save_fig = True\n",
    "file_path = f\"{figure_folder_path}/\" \\\n",
    "            f\"res_{latent_leiden_resolution}_\" \\\n",
    "            \"latent_clusters_latent_physical_space.svg\"\n",
    "\n",
    "fig = plt.figure(figsize=(12, 14))\n",
    "title = fig.suptitle(t=f\"NicheCompass Latent Clusters \" \\\n",
    "                       \"in Latent and Physical Space\",\n",
    "                     y=0.96,\n",
    "                     x=0.55,\n",
    "                     fontsize=20)\n",
    "spec1 = gridspec.GridSpec(ncols=1,\n",
    "                          nrows=2,\n",
    "                          width_ratios=[1],\n",
    "                          height_ratios=[3, 2])\n",
    "spec2 = gridspec.GridSpec(ncols=len(samples),\n",
    "                          nrows=2,\n",
    "                          width_ratios=[1] * len(samples),\n",
    "                          height_ratios=[3, 2])\n",
    "axs = []\n",
    "axs.append(fig.add_subplot(spec1[0]))\n",
    "sc.pl.umap(adata=model.adata,\n",
    "           color=[latent_cluster_key],\n",
    "           groups=groups,\n",
    "           title=f\"Latent Clusters in Latent Space\",\n",
    "           ax=axs[0],\n",
    "           show=False)\n",
    "for idx, sample in enumerate(samples):\n",
    "    axs.append(fig.add_subplot(spec2[len(samples) + idx]))\n",
    "    sc.pl.spatial(adata=model.adata[model.adata.obs[sample_key] == sample],\n",
    "                  color=[latent_cluster_key],\n",
    "                  groups=groups,\n",
    "                  spot_size=spot_size,\n",
    "                  title=f\"Latent Clusters in Physical Space \\n\"\n",
    "                        f\"(Sample: {sample})\",\n",
    "                  legend_loc=None,\n",
    "                  ax=axs[idx+1],\n",
    "                  show=False)\n",
    "\n",
    "# Create and position shared legend\n",
    "handles, labels = axs[0].get_legend_handles_labels()\n",
    "lgd = fig.legend(handles,\n",
    "                 labels,\n",
    "                 loc=\"center left\",\n",
    "                 bbox_to_anchor=(0.98, 0.5))\n",
    "axs[0].get_legend().remove()\n",
    "\n",
    "# Adjust, save and display plot\n",
    "plt.subplots_adjust(wspace=0.2, hspace=0.25)\n",
    "if save_fig:\n",
    "    fig.savefig(file_path,\n",
    "                bbox_extra_artists=(lgd, title),\n",
    "                bbox_inches=\"tight\")\n",
    "plt.show()"
   ]
  },
  {
   "cell_type": "markdown",
   "id": "229b511a-8923-4af1-8b9c-eb08643078fc",
   "metadata": {},
   "source": [
    "### 6.3 Analyze Niches"
   ]
  },
  {
   "cell_type": "markdown",
   "id": "350814c4-fa57-4742-ab2c-42eed21c1e2c",
   "metadata": {},
   "source": [
    "Now we will analyze the identified spatial cellular niches."
   ]
  },
  {
   "cell_type": "markdown",
   "id": "958e8779-2ac5-4016-ae75-3730f4d9ca8f",
   "metadata": {},
   "source": [
    "#### 6.3.1 Niche Composition"
   ]
  },
  {
   "cell_type": "markdown",
   "id": "b566e374-ede2-46ba-855f-74fa566d845b",
   "metadata": {},
   "source": [
    "We can analyze the niche composition in terms of cell type labels."
   ]
  },
  {
   "cell_type": "code",
   "execution_count": null,
   "id": "ae563145-3550-4dce-8052-c7a12c489028",
   "metadata": {},
   "outputs": [],
   "source": [
    "save_fig = True\n",
    "file_path = f\"{figure_folder_path}/\" \\\n",
    "            f\"res_{latent_leiden_resolution}_\" \\\n",
    "            f\"niche_composition.svg\"\n",
    "\n",
    "df_counts = (model.adata.obs.groupby([latent_cluster_key, cell_type_key])\n",
    "             .size().unstack())\n",
    "df_counts.plot(kind=\"bar\", stacked=True, figsize=(10,10))\n",
    "legend = plt.legend(bbox_to_anchor=(1, 1), loc=\"upper left\", prop={'size': 10})\n",
    "legend.set_title(\"Cell Type Annotations\", prop={'size': 10})\n",
    "plt.title(\"Cell Type Composition of Niches\")\n",
    "plt.xlabel(\"Niche\")\n",
    "plt.ylabel(\"Cell Type Counts\")\n",
    "if save_fig:\n",
    "    plt.savefig(file_path,\n",
    "                bbox_extra_artists=(legend,),\n",
    "                bbox_inches=\"tight\")"
   ]
  },
  {
   "cell_type": "markdown",
   "id": "c92522e8-aead-41a8-a4f4-096faaaf1090",
   "metadata": {},
   "source": [
    "#### 6.3.2 Cell Type Neighbor Importances"
   ]
  },
  {
   "cell_type": "markdown",
   "id": "175780d3-c47d-4357-8ccc-07f5ac38c698",
   "metadata": {},
   "source": [
    "Now we will investigate neighbor importances in terms of cell type labels of different niches."
   ]
  },
  {
   "cell_type": "code",
   "execution_count": null,
   "id": "24038f44-4829-4009-8fdc-e422ea04886b",
   "metadata": {},
   "outputs": [],
   "source": [
    "# Retrieve node neighbor importances \n",
    "# (aggregation weights of the node label aggregator)\n",
    "model.adata.obsp[agg_weights_key] = model.get_neighbor_importances()"
   ]
  },
  {
   "cell_type": "code",
   "execution_count": null,
   "id": "4fd4784e-1c13-4f53-8d43-7368574bfcba",
   "metadata": {},
   "outputs": [],
   "source": [
    "# Get cell type neighbor importances for each niche / latent cluster\n",
    "niche_neighbor_importances_df = aggregate_obsp_matrix_per_cell_type(\n",
    "    adata=model.adata,\n",
    "    obsp_key=agg_weights_key,\n",
    "    cell_type_key=cell_type_key,\n",
    "    group_key=latent_cluster_key,\n",
    "    agg_rows=True)"
   ]
  },
  {
   "cell_type": "code",
   "execution_count": null,
   "id": "8f89c932-8d79-4513-935b-bd0ae1e75b32",
   "metadata": {},
   "outputs": [],
   "source": [
    "display(niche_neighbor_importances_df)"
   ]
  },
  {
   "cell_type": "code",
   "execution_count": null,
   "id": "2f3942d7-0290-44dd-ac76-1dbc71606d45",
   "metadata": {},
   "outputs": [],
   "source": [
    "# Generate chord plots showing cell type neighbor importances\n",
    "# for each niche / latent cluster\n",
    "groups = [\"0\", \"1\", \"2\", \"3\", \"4\", \"5\"] # \"all\"\n",
    "save_fig = True\n",
    "file_path = f\"{figure_folder_path}/\" \\\n",
    "            f\"res_{latent_leiden_resolution}_\" \\\n",
    "            f\"niche_neighbor_importances.png\"\n",
    "\n",
    "create_cell_type_chord_plot_from_df(\n",
    "        adata=model.adata,\n",
    "        df=niche_neighbor_importances_df,\n",
    "        link_threshold=0.01,\n",
    "        cell_type_key=cell_type_key,\n",
    "        group_key=latent_cluster_key,\n",
    "        groups=groups,\n",
    "        plot_label=\"Niche\",\n",
    "        save_fig=save_fig,\n",
    "        file_path=file_path)"
   ]
  },
  {
   "cell_type": "markdown",
   "id": "1f5bf93e-69c0-486a-8c79-5612a15e7c2c",
   "metadata": {},
   "source": [
    "### 6.4 Perform Differential Gene Program Testing"
   ]
  },
  {
   "cell_type": "markdown",
   "id": "b3aa907a-36b5-4782-84da-f2442583ebd0",
   "metadata": {},
   "source": [
    "Now we can test which communication gene programs are differentially expressed in a niche. To this end, we will perform differential gene program testing of a selected niche, e.g. latent cluster / niche \"0\" (```selected_cats = [\"0\"]```) vs all other latent clusters / niches (```comparison_cats = \"rest\"```). However, differential gene program testing can also be performed in the following ways:\n",
    "- Set ```selected_cats = None``` to perform differential gene program testing across all niches, as opposed to just for one specific niche.\n",
    "- Set ```comparison_cats = [\"2\", \"3\"]``` to perform differential gene program testing against latent clusters / niches \"2\" and \"3\" as opposed to against all other latent clusters / niches.\n",
    "\n",
    "We choose a log bayes factor threshold of 2.3 to determine strongly enriched gene programs. Alternatively, the threshold could be set to a more restrictive value of 4.6 to only allow decisively enriched gene programs to be identified (see https://en.wikipedia.org/wiki/Bayes_factor)."
   ]
  },
  {
   "cell_type": "code",
   "execution_count": null,
   "id": "dfc5ae0b-e895-44ce-9716-721fe67b2a1a",
   "metadata": {},
   "outputs": [],
   "source": [
    "# Check number of active GPs\n",
    "active_gps = model.get_active_gps()\n",
    "print(f\"Number of total gene programs: {len(model.adata.uns[gp_names_key])}.\")\n",
    "print(f\"Number of active gene programs: {len(active_gps)}.\")"
   ]
  },
  {
   "cell_type": "code",
   "execution_count": null,
   "id": "aca32f1e-6176-4e24-952e-b2b3a903d0d2",
   "metadata": {},
   "outputs": [],
   "source": [
    "# Display example active GPs\n",
    "gp_summary_df = model.get_gp_summary()\n",
    "gp_summary_df[gp_summary_df[\"gp_active\"] == True].head()"
   ]
  },
  {
   "cell_type": "code",
   "execution_count": null,
   "id": "7a126f9b-1b5a-4246-8554-4b39e1ce82ed",
   "metadata": {},
   "outputs": [],
   "source": [
    "# Set parameters for differential gp testing\n",
    "selected_cats = [\"0\"]\n",
    "comparison_cats = \"rest\"\n",
    "title = f\"NicheCompass Latent Cluster Strongly Enriched Gene Programs\"\n",
    "log_bayes_factor_thresh = 2.3 # 4.6\n",
    "save_fig = True\n",
    "file_path = f\"{figure_folder_path}/\" \\\n",
    "            f\"/log_bayes_factor_{log_bayes_factor_thresh}\" \\\n",
    "             \"_latent_clusters_enriched_gps_dotplot.svg\""
   ]
  },
  {
   "cell_type": "code",
   "execution_count": null,
   "id": "b7ebbf45-aaad-45b8-b485-2d4302e39434",
   "metadata": {},
   "outputs": [],
   "source": [
    "# Run differential gp testing\n",
    "enriched_gps = model.run_differential_gp_tests(\n",
    "    cat_key=latent_cluster_key,\n",
    "    selected_cats=selected_cats,\n",
    "    comparison_cats=comparison_cats,\n",
    "    log_bayes_factor_thresh=log_bayes_factor_thresh)"
   ]
  },
  {
   "cell_type": "code",
   "execution_count": null,
   "id": "6fffe658-9b6e-40c9-a8ef-86121855b37b",
   "metadata": {},
   "outputs": [],
   "source": [
    "# Results are stored in a df in the adata object\n",
    "model.adata.uns[differential_gp_test_results_key]"
   ]
  },
  {
   "cell_type": "code",
   "execution_count": null,
   "id": "ea6bbc82-c486-41fe-a689-6f866c0f9ac2",
   "metadata": {},
   "outputs": [],
   "source": [
    "# Create dotplot of results\n",
    "fig = sc.pl.dotplot(model.adata,\n",
    "                    enriched_gps,\n",
    "                    groupby=latent_cluster_key,\n",
    "                    dendrogram=True, \n",
    "                    title=title,\n",
    "                    swap_axes=True,\n",
    "                    return_fig=True,\n",
    "                    figsize=(model.adata.obs[latent_cluster_key].nunique() / 2,\n",
    "                             len(enriched_gps) / 2))\n",
    "if save_fig:\n",
    "    fig.savefig(file_path)\n",
    "else:\n",
    "    fig.show()"
   ]
  },
  {
   "cell_type": "code",
   "execution_count": null,
   "id": "6c0c5239-fd03-40a7-b1f3-59eb2db66c8c",
   "metadata": {},
   "outputs": [],
   "source": [
    "# Store gene program summary of enriched gene programs\n",
    "save_file = True\n",
    "file_path = f\"{figure_folder_path}/\" \\\n",
    "            f\"/log_bayes_factor_{log_bayes_factor_thresh}_\" \\\n",
    "            \"latent_clusters_enriched_gps_summary.csv\"\n",
    "\n",
    "gp_summary_cols = [\"gp_name\",\n",
    "                   \"n_source_genes\",\n",
    "                   \"n_non_zero_source_genes\",\n",
    "                   \"n_target_genes\",\n",
    "                   \"n_non_zero_target_genes\",\n",
    "                   \"gp_source_genes\",\n",
    "                   \"gp_target_genes\",\n",
    "                   \"gp_source_genes_weights_sign_corrected\",\n",
    "                   \"gp_target_genes_weights_sign_corrected\",\n",
    "                   \"gp_source_genes_importances\",\n",
    "                   \"gp_target_genes_importances\"]\n",
    "\n",
    "enriched_gp_summary_df = gp_summary_df[gp_summary_df[\"gp_name\"].isin(enriched_gps)]\n",
    "cat_dtype = pd.CategoricalDtype(categories=enriched_gps, ordered=True)\n",
    "enriched_gp_summary_df.loc[:, \"gp_name\"] = enriched_gp_summary_df[\"gp_name\"].astype(cat_dtype)\n",
    "enriched_gp_summary_df = enriched_gp_summary_df.sort_values(by=\"gp_name\")\n",
    "enriched_gp_summary_df = enriched_gp_summary_df[gp_summary_cols]\n",
    "\n",
    "if save_file:\n",
    "    enriched_gp_summary_df.to_csv(f\"{file_path}\")\n",
    "else:\n",
    "    display(enriched_gp_summary_df)"
   ]
  },
  {
   "cell_type": "markdown",
   "id": "4718ac2e-ccbc-474c-9eab-e9df959cb05f",
   "metadata": {},
   "source": [
    "### 6.5 Analyze Enriched Gene Programs"
   ]
  },
  {
   "cell_type": "markdown",
   "id": "97af6087-81d0-4cf3-81b1-7255d89846e5",
   "metadata": {},
   "source": [
    "Now we will have a look at the gene program scores as well as the (log normalized) count distributions of\n",
    "the most important omics features of the differentially expressed gene programs."
   ]
  },
  {
   "cell_type": "code",
   "execution_count": null,
   "id": "8df2e9a0-525a-4e58-9472-dee33898116d",
   "metadata": {},
   "outputs": [],
   "source": [
    "plot_label = f\"log_bayes_factor_{log_bayes_factor_thresh}_cluster_0_vs_rest\"\n",
    "save_figs = True\n",
    "\n",
    "generate_enriched_gp_info_plots(\n",
    "    plot_label=plot_label,\n",
    "    model=model,\n",
    "    sample_key=sample_key,\n",
    "    differential_gp_test_results_key=differential_gp_test_results_key,\n",
    "    cat_key=latent_cluster_key,\n",
    "    cat_palette=latent_cluster_colors,\n",
    "    n_top_enriched_gps=10,\n",
    "    feature_spaces=samples, # [\"latent\"]\n",
    "    n_top_genes_per_gp=3,\n",
    "    save_figs=save_figs,\n",
    "    figure_folder_path=f\"{figure_folder_path}/\",\n",
    "    spot_size=spot_size)"
   ]
  },
  {
   "cell_type": "code",
   "execution_count": null,
   "id": "b40d2fee-5687-4d40-8d45-93760203392d",
   "metadata": {},
   "outputs": [],
   "source": []
  }
 ],
 "metadata": {
  "kernelspec": {
   "display_name": "Python 3 (ipykernel)",
   "language": "python",
   "name": "python3"
  },
  "language_info": {
   "codemirror_mode": {
    "name": "ipython",
    "version": 3
   },
   "file_extension": ".py",
   "mimetype": "text/x-python",
   "name": "python",
   "nbconvert_exporter": "python",
   "pygments_lexer": "ipython3",
   "version": "3.9.16"
  }
 },
 "nbformat": 4,
 "nbformat_minor": 5
}
