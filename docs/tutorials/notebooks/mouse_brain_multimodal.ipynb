{
 "cells": [
  {
   "cell_type": "markdown",
   "id": "1b1daabf-c8e3-43d4-aa32-9789abcc8619",
   "metadata": {},
   "source": [
    "# Mouse Brain Multimodal Tutorial"
   ]
  },
  {
   "cell_type": "markdown",
   "id": "c325d921-2077-42b3-90a8-6f6c7dd928c5",
   "metadata": {},
   "source": [
    "- **Creator**: Sebastian Birk (<sebastian.birk@helmholtz-munich.de>).\n",
    "- **Affiliation:** Helmholtz Munich, Institute of AI for Health (AIH), Talavera-López Lab\n",
    "- **Date of Creation:** 18.05.2023\n",
    "- **Date of Last Modification:** 08.02.2024"
   ]
  },
  {
   "cell_type": "markdown",
   "id": "b2b1e7bd-8f85-4237-8241-40bb7870e36b",
   "metadata": {},
   "source": [
    "In this tutorial we apply NicheCompass to a single multimodal sample (postnatal day 22 coronal section) of the spatial ATAC-RNA-seq mouse brain dataset from [Zhang, D. et al. Spatial epigenome–transcriptome co-profiling of mammalian tissues. Nature 1–10 (2023)](https://www.nature.com/articles/s41586-023-05795-1).\n",
    "\n",
    "The sample has:\n",
    "- 9215 observations at spot resolution with spot rna cluster and atac cluster annotations\n",
    "- 22,914 probed genes\n",
    "- 121,068 called peaks"
   ]
  },
  {
   "cell_type": "markdown",
   "id": "82b00794-02d5-4f61-ba27-3015456fedd8",
   "metadata": {},
   "source": [
    "- Check the repository [README.md](https://github.com/sebastianbirk/nichecompass#installation) for NicheCompass installation instructions.\n",
    "- The data for this tutorial can be downloaded from [Google Drive](https://drive.google.com/drive/folders/1l9W0MDVZ451k1L7s6GGH4ONH4tEK4EKj). It has to be stored under ```<repository_root>/data/spatial_omics/```.\n",
    "    - spatial_atac_rna_seq_mouse_brain_atac.h5ad\n",
    "    - spatial_atac_rna_seq_mouse_brain.h5ad\n",
    "- A pretrained model to run only the analysis can be downloaded from [Google Drive](https://drive.google.com/drive/folders/1z2DQHV9hG22B5OSWox8U3usf_8LKZGGH). It has to be stored under ```<repository_root>/artifacts/multimodal/<timestamp>/model/```.\n",
    "    - 02062023_151955"
   ]
  },
  {
   "cell_type": "markdown",
   "id": "51fd0de5-bd48-430d-bad6-f5c574f2fbe0",
   "metadata": {},
   "source": [
    "## 1. Setup"
   ]
  },
  {
   "cell_type": "markdown",
   "id": "760d0b8d-9f15-4aad-a3f9-17eeb46d6bbe",
   "metadata": {},
   "source": [
    "### 1.1 Import Libraries"
   ]
  },
  {
   "cell_type": "code",
   "execution_count": null,
   "id": "5039950c-6d50-464a-897b-a29bcf2c279b",
   "metadata": {},
   "outputs": [],
   "source": [
    "%load_ext autoreload\n",
    "%autoreload 2"
   ]
  },
  {
   "cell_type": "code",
   "execution_count": null,
   "id": "78dc9903-ad3c-4018-af2d-c1aa8f835e2b",
   "metadata": {},
   "outputs": [],
   "source": [
    "import os\n",
    "import warnings\n",
    "from datetime import datetime\n",
    "\n",
    "import matplotlib.pyplot as plt\n",
    "import numpy as np\n",
    "import pandas as pd\n",
    "import scanpy as sc\n",
    "import seaborn as sns\n",
    "import squidpy as sq\n",
    "from matplotlib import gridspec\n",
    "\n",
    "from nichecompass.models import NicheCompass\n",
    "from nichecompass.utils import (add_gps_from_gp_dict_to_adata,\n",
    "                                add_multimodal_mask_to_adata,\n",
    "                                create_new_color_dict,\n",
    "                                extract_gp_dict_from_collectri_tf_network,\n",
    "                                extract_gp_dict_from_mebocost_es_interactions,\n",
    "                                extract_gp_dict_from_nichenet_lrt_interactions,\n",
    "                                extract_gp_dict_from_omnipath_lr_interactions,\n",
    "                                filter_and_combine_gp_dict_gps,\n",
    "                                get_gene_annotations,\n",
    "                                generate_enriched_gp_info_plots,\n",
    "                                generate_multimodal_mapping_dict,\n",
    "                                get_unique_genes_from_gp_dict)"
   ]
  },
  {
   "cell_type": "markdown",
   "id": "1fadb4a3-9d36-42b4-9323-08aec646eaae",
   "metadata": {},
   "source": [
    "### 1.2 Define Parameters"
   ]
  },
  {
   "cell_type": "code",
   "execution_count": null,
   "id": "7e8b434b-07a6-44fe-affc-b9eaf83aae11",
   "metadata": {},
   "outputs": [],
   "source": [
    "### Dataset ###\n",
    "dataset = \"spatial_atac_rna_seq_mouse_brain\"\n",
    "species = \"mouse\"\n",
    "spatial_key = \"spatial\"\n",
    "n_neighbors = 8\n",
    "n_sampled_neighbors = 4\n",
    "filter_genes = True\n",
    "n_svg = 3000\n",
    "n_hvg = 0\n",
    "n_svp = 15000\n",
    "n_hvp = 0\n",
    "filter_peaks = True\n",
    "min_cell_peak_thresh_ratio = 0.005 # 0.05%\n",
    "min_cell_gene_thresh_ratio = 0.005 # 0.05%\n",
    "\n",
    "### GP Mask ###\n",
    "add_collectri_gps = True\n",
    "add_marker_genes_gps = False\n",
    "\n",
    "### Model ###\n",
    "# AnnData keys\n",
    "counts_key = \"counts\"\n",
    "adj_key = \"spatial_connectivities\"\n",
    "gp_names_key = \"nichecompass_gp_names\"\n",
    "active_gp_names_key = \"nichecompass_active_gp_names\"\n",
    "gp_targets_mask_key = \"nichecompass_gp_targets\"\n",
    "gp_targets_categories_mask_key = \"nichecompass_gp_targets_categories\"\n",
    "gp_sources_mask_key = \"nichecompass_gp_sources\"\n",
    "gp_sources_categories_mask_key = \"nichecompass_gp_sources_categories\"\n",
    "latent_key = \"nichecompass_latent\"\n",
    "\n",
    "# Architecture\n",
    "active_gp_thresh_ratio = 0.03\n",
    "conv_layer_encoder = \"gcnconv\"\n",
    "node_label_method = \"one-hop-norm\" # one-hop-attention\n",
    "\n",
    "# Trainer\n",
    "n_epochs = 400\n",
    "n_epochs_all_gps = 25\n",
    "lr = 0.001\n",
    "lambda_edge_recon = 5000000.\n",
    "lambda_gene_expr_recon = 3000.\n",
    "lambda_chrom_access_recon = 1000.\n",
    "lambda_l1_masked = 300.\n",
    "lambda_l1_addon = 300.\n",
    "lambda_group_lasso = 0.\n",
    "edge_batch_size = 2048 # reduce if not enough memory\n",
    "use_cuda_if_available = True\n",
    "\n",
    "### Analysis ###\n",
    "rna_cluster_key = \"RNA_clusters\"\n",
    "atac_cluster_key = \"ATAC_clusters\"\n",
    "latent_leiden_resolution = 0.6\n",
    "latent_cluster_key = f\"latent_leiden_{str(latent_leiden_resolution)}\"\n",
    "sample_key = \"batch\"\n",
    "spot_size = 30\n",
    "agg_weights_key = \"agg_weights\"\n",
    "differential_gp_test_results_key = \"nichecompass_differential_gp_test_results\""
   ]
  },
  {
   "cell_type": "markdown",
   "id": "2cba3993-891d-441e-ba61-915e5c26d4cc",
   "metadata": {},
   "source": [
    "### 1.3 Run Notebook Setup"
   ]
  },
  {
   "cell_type": "code",
   "execution_count": null,
   "id": "1bc41ede-383f-4701-8338-e0e9686ae076",
   "metadata": {},
   "outputs": [],
   "source": [
    "warnings.filterwarnings(\"ignore\")\n",
    "pd.set_option(\"display.max_columns\", None)"
   ]
  },
  {
   "cell_type": "code",
   "execution_count": null,
   "id": "c458005f-83ef-4f73-b32b-8471189d9be4",
   "metadata": {},
   "outputs": [],
   "source": [
    "# Get time of notebook execution for timestamping saved artifacts\n",
    "now = datetime.now()\n",
    "current_timestamp = now.strftime(\"%d%m%Y_%H%M%S\")"
   ]
  },
  {
   "cell_type": "markdown",
   "id": "90b8de08-4b08-4c6b-95fe-6ef7780fe785",
   "metadata": {},
   "source": [
    "### 1.4 Configure Paths"
   ]
  },
  {
   "cell_type": "code",
   "execution_count": null,
   "id": "fb48fa7d-9494-4f75-b9c7-35c9892f24ff",
   "metadata": {},
   "outputs": [],
   "source": [
    "# Define paths\n",
    "ga_data_folder_path = \"../data/gene_annotations\"\n",
    "gp_data_folder_path = \"../data/gene_programs\"\n",
    "so_data_folder_path = \"../data/spatial_omics\"\n",
    "omnipath_lr_network_file_path = f\"{gp_data_folder_path}/omnipath_lr_network.csv\"\n",
    "nichenet_lr_network_file_path = f\"{gp_data_folder_path}/nichenet_lr_network_v2_{species}.csv\"\n",
    "nichenet_ligand_target_matrix_file_path = f\"{gp_data_folder_path}/nichenet_ligand_target_matrix_v2_{species}.csv\"\n",
    "mebocost_enzyme_sensor_interactions_folder_path = f\"{gp_data_folder_path}/metabolite_enzyme_sensor_gps\"\n",
    "collectri_tf_network_file_path = f\"{gp_data_folder_path}/collectri_tf_network_{species}.csv\"\n",
    "marker_gp_folder_path = f\"{gp_data_folder_path}/marker_gps\"\n",
    "gene_orthologs_mapping_file_path = f\"{ga_data_folder_path}/human_mouse_gene_orthologs.csv\"\n",
    "gtf_file_path = f\"{ga_data_folder_path}/gencode.vM25.chr_patch_hapl_scaff.annotation.gtf.gz\"\n",
    "artifacts_folder_path = f\"../artifacts\"\n",
    "model_folder_path = f\"{artifacts_folder_path}/single_sample/{current_timestamp}/model\"\n",
    "figure_folder_path = f\"{artifacts_folder_path}/single_sample/{current_timestamp}/figures\""
   ]
  },
  {
   "cell_type": "markdown",
   "id": "efdb2a4b-7a50-4704-99bf-b29eb59ceff2",
   "metadata": {
    "tags": []
   },
   "source": [
    "## 2. Model Preparation"
   ]
  },
  {
   "cell_type": "markdown",
   "id": "def42949-44a6-4d9e-a505-d1afb17f9dcb",
   "metadata": {},
   "source": [
    "### 2.1 Create Prior Knowledge Cell-Cell-Interaction (CCI) Gene Program (GP) Mask"
   ]
  },
  {
   "cell_type": "markdown",
   "id": "d022b7a2-eaba-4cb9-8888-558fb19dfdc7",
   "metadata": {},
   "source": [
    "- NicheCompass expects a prior GP mask as input, which it will use to make its latent feature space interpretable (through linear masked decoders). \n",
    "- The user can provide a custom GP mask to NicheCompass based on the biological question of interest.\n",
    "- As a default, we create a GP mask based on four databases of prior knowledge of inter- and intracellular interaction pathways:\n",
    "    - OmniPath (Ligand-Receptor GPs)\n",
    "    - MEBOCOST (Enzyme-Sensor GPs)\n",
    "    - CollecTRI (Transcriptional Regulation GPs)\n",
    "    - NicheNet (Combined Interaction GPs)"
   ]
  },
  {
   "cell_type": "code",
   "execution_count": null,
   "id": "109a02ca-cbea-40d0-a8a3-bf3cacfdb87a",
   "metadata": {},
   "outputs": [],
   "source": [
    "# Retrieve OmniPath GPs (source: ligand genes; target: receptor genes)\n",
    "omnipath_gp_dict = extract_gp_dict_from_omnipath_lr_interactions(\n",
    "    species=species,\n",
    "    min_curation_effort=0,\n",
    "    load_from_disk=False,\n",
    "    save_to_disk=True,\n",
    "    lr_network_file_path=omnipath_lr_network_file_path,\n",
    "    gene_orthologs_mapping_file_path=gene_orthologs_mapping_file_path,\n",
    "    plot_gp_gene_count_distributions=True,\n",
    "    gp_gene_count_distributions_save_path=f\"{figure_folder_path}\" \\\n",
    "                                           \"/omnipath_gp_gene_count_distributions.svg\")"
   ]
  },
  {
   "cell_type": "code",
   "execution_count": null,
   "id": "77be51b7-10eb-4b00-b16f-3cbd73769934",
   "metadata": {},
   "outputs": [],
   "source": [
    "# Display example OmniPath GP\n",
    "omnipath_gp_names = list(omnipath_gp_dict.keys())\n",
    "random.shuffle(omnipath_gp_names)\n",
    "omnipath_gp_name = omnipath_gp_names[0]\n",
    "print(f\"{omnipath_gp_name}: {omnipath_gp_dict[omnipath_gp_name]}\")"
   ]
  },
  {
   "cell_type": "code",
   "execution_count": null,
   "id": "401b1912-0c91-4ab6-a4f0-1ec124347fcc",
   "metadata": {},
   "outputs": [],
   "source": [
    "# Retrieve NicheNet GPs (source: ligand gene; target: target genes)\n",
    "nichenet_gp_dict = extract_gp_dict_from_nichenet_lrt_interactions(\n",
    "    species=species,\n",
    "    version=\"v2\",\n",
    "    keep_target_genes_ratio=1.,\n",
    "    max_n_target_genes_per_gp=250,\n",
    "    load_from_disk=True,\n",
    "    save_to_disk=True,\n",
    "    lr_network_file_path=nichenet_lr_network_file_path,\n",
    "    ligand_target_matrix_file_path=nichenet_ligand_target_matrix_file_path,\n",
    "    gene_orthologs_mapping_file_path=gene_orthologs_mapping_file_path,\n",
    "    plot_gp_gene_count_distributions=True)\n",
    "\n",
    "# Retrieve unique source genes from NicheNet GPs to keep\n",
    "# those genes when filtering\n",
    "nichenet_lr_genes = get_unique_genes_from_gp_dict(\n",
    "    gp_dict=nichenet_gp_dict,\n",
    "    retrieved_gene_categories=[\"ligand\", \"receptor\"])"
   ]
  },
  {
   "cell_type": "code",
   "execution_count": null,
   "id": "b56e9954-9d78-4e12-8034-ac061c6b36cc",
   "metadata": {},
   "outputs": [],
   "source": [
    "len(nichenet_gp_dict)"
   ]
  },
  {
   "cell_type": "code",
   "execution_count": null,
   "id": "fda514c7-3d53-495c-b5eb-8203abb0bce6",
   "metadata": {},
   "outputs": [],
   "source": [
    "# Display example NicheNet GPs\n",
    "for i, (key, value) in enumerate(nichenet_gp_dict.items()):\n",
    "    if i > 2:\n",
    "        break\n",
    "    print(key, value)"
   ]
  },
  {
   "cell_type": "code",
   "execution_count": null,
   "id": "b095ab58-747b-4938-8bb4-6e06968e2f19",
   "metadata": {},
   "outputs": [],
   "source": [
    "# Retrieve MEBOCOST GPs (source: enzyme genes; target: sensor genes)\n",
    "mebocost_gp_dict = extract_gp_dict_from_mebocost_es_interactions(\n",
    "    dir_path=mebocost_enzyme_sensor_interactions_folder_path,\n",
    "    species=species,\n",
    "    plot_gp_gene_count_distributions=True)\n",
    "\n",
    "# Retrieve unique source and target genes from MEBOCOST GPs to keep\n",
    "# those genes when filtering\n",
    "mebocost_genes = get_unique_genes_from_gp_dict(\n",
    "    gp_dict=mebocost_gp_dict,\n",
    "    retrieved_gene_entities=[\"sources\", \"targets\"])"
   ]
  },
  {
   "cell_type": "code",
   "execution_count": null,
   "id": "a6bbdcb9-df94-40c4-91db-76336fb598ec",
   "metadata": {},
   "outputs": [],
   "source": [
    "# Display example MEBOCOST GPs\n",
    "for i, (key, value) in enumerate(mebocost_gp_dict.items()):\n",
    "    if i > 2:\n",
    "        break\n",
    "    print(key, value)"
   ]
  },
  {
   "cell_type": "code",
   "execution_count": null,
   "id": "31dd82d8-08e8-4e0c-a3f7-989f4bcf3baa",
   "metadata": {},
   "outputs": [],
   "source": [
    "len(mebocost_gp_dict)"
   ]
  },
  {
   "cell_type": "code",
   "execution_count": null,
   "id": "393d4389-297b-482c-8ade-1f4c56b4aaa0",
   "metadata": {},
   "outputs": [],
   "source": [
    "if add_collectri_gps:\n",
    "    collectri_gp_dict = extract_gp_dict_from_collectri_tf_network(\n",
    "        species=species,\n",
    "        tf_network_file_path=collectri_tf_network_file_path,\n",
    "        load_from_disk=True,\n",
    "        save_to_disk=True,\n",
    "        plot_gp_gene_count_distributions=True)"
   ]
  },
  {
   "cell_type": "code",
   "execution_count": null,
   "id": "b39f234c-8ec8-4d14-b96e-73fff61e158d",
   "metadata": {},
   "outputs": [],
   "source": [
    "if add_collectri_gps:\n",
    "    # Display example CollecTRI GPs\n",
    "    for i, (key, value) in enumerate(collectri_gp_dict.items()):\n",
    "        if i > 2:\n",
    "            break\n",
    "        print(key, value)"
   ]
  },
  {
   "cell_type": "code",
   "execution_count": null,
   "id": "98abbf80-42f0-4e75-b7fd-2452e6ea36ca",
   "metadata": {},
   "outputs": [],
   "source": [
    "len(collectri_gp_dict)"
   ]
  },
  {
   "cell_type": "code",
   "execution_count": null,
   "id": "479ae31e-0352-4d83-81b9-5269017cdd19",
   "metadata": {},
   "outputs": [],
   "source": [
    "# Add spatial layer marker gene GPs (optional)\n",
    "if add_marker_genes_gps:\n",
    "    # Load experimentially validated marker genes\n",
    "    validated_marker_genes_df = pd.read_csv(f\"{gp_data_folder_path}/marker_gps/Validated_markers_MM_layers.tsv\",\n",
    "                                            sep=\"\\t\",\n",
    "                                            header=None,\n",
    "                                            names=[\"gene_name\", \"ensembl_id\", \"layer\"])\n",
    "    validated_marker_genes_df = validated_marker_genes_df[[\"layer\", \"gene_name\"]]\n",
    "    \n",
    "    # Load ranked marker genes and get top 100 per layer\n",
    "    ranked_marker_genes_df = pd.DataFrame()\n",
    "    for ranked_marker_genes_file_name in [\n",
    "        \"Ranked_mm_L2L3.tsv\",\n",
    "        \"Ranked_mm_L4.tsv\",\n",
    "        \"Ranked_mm_L5.tsv\",\n",
    "        \"Ranked_mm_L6.tsv\",\n",
    "        \"Ranked_mm_L6b.tsv\"]:\n",
    "        ranked_marker_genes_layer_df = pd.read_csv(\n",
    "            f\"{gp_data_folder_path}/marker_gps/{ranked_marker_genes_file_name}\",\n",
    "            sep=\"\\t\",\n",
    "            header=None,\n",
    "            names=[\"ensembl_id\", \"gene_name\", \"layer\"])\n",
    "        ranked_marker_genes_layer_df = ranked_marker_genes_layer_df[:100] # filter top 100 genes\n",
    "        ranked_marker_genes_layer_df = ranked_marker_genes_layer_df[[\"layer\", \"gene_name\"]]\n",
    "        ranked_marker_genes_df = pd.concat([ranked_marker_genes_df, ranked_marker_genes_layer_df])\n",
    "    marker_genes_df = pd.concat([validated_marker_genes_df, ranked_marker_genes_df])\n",
    "        \n",
    "    marker_genes_grouped_df = marker_genes_df.groupby(\"layer\")[\"gene_name\"].agg(list).reset_index()\n",
    "    marker_genes_grouped_df.columns = [\"layer\", \"marker_genes\"]\n",
    "    marker_genes_grouped_df[\"layer\"] = marker_genes_grouped_df[\"layer\"] + \"_marker_GP\"\n",
    "                                                               \n",
    "    marker_genes_gp_dict = {}\n",
    "    for layer, marker_genes in zip(marker_genes_grouped_df[\"layer\"], marker_genes_grouped_df[\"marker_genes\"]):\n",
    "        marker_genes_gp_dict[layer] = {\n",
    "            \"sources\": [],\n",
    "            \"targets\": marker_genes,\n",
    "            \"sources_categories\": [],\n",
    "            \"targets_categories\": [\"marker\"] * len(marker_genes)}"
   ]
  },
  {
   "cell_type": "code",
   "execution_count": null,
   "id": "89a1e5e4-8ac8-4f75-8a56-ff1e5c317e5e",
   "metadata": {},
   "outputs": [],
   "source": [
    "if add_marker_genes_gps:\n",
    "    # Display example marker gene GPs\n",
    "    for i, (key, value) in enumerate(marker_genes_gp_dict.items()):\n",
    "        if i > 2:\n",
    "            break\n",
    "        print(key, value)"
   ]
  },
  {
   "cell_type": "code",
   "execution_count": null,
   "id": "e20818b2-b04e-4511-bf65-1aa627e1def3",
   "metadata": {},
   "outputs": [],
   "source": [
    "# Add GPs into one combined dictionary\n",
    "# for model training\n",
    "combined_gp_dict = dict(omnipath_gp_dict)\n",
    "combined_gp_dict.update(nichenet_gp_dict)\n",
    "combined_gp_dict.update(mebocost_gp_dict)\n",
    "if add_collectri_gps:\n",
    "    combined_gp_dict.update(collectri_gp_dict)    \n",
    "if add_marker_genes_gps:\n",
    "    combined_gp_dict.update(marker_genes_gp_dict)"
   ]
  },
  {
   "cell_type": "code",
   "execution_count": null,
   "id": "8eac270e-6d7a-46db-97a3-7bcca29b4547",
   "metadata": {},
   "outputs": [],
   "source": [
    "# Filter and combine GPs to avoid overlaps\n",
    "combined_new_gp_dict = filter_and_combine_gp_dict_gps(\n",
    "    gp_dict=combined_gp_dict,\n",
    "    gp_filter_mode=\"subset\",\n",
    "    combine_overlap_gps=True,\n",
    "    overlap_thresh_source_genes=0.9,\n",
    "    overlap_thresh_target_genes=0.9,\n",
    "    overlap_thresh_genes=0.9)\n",
    "\n",
    "print(\"Number of gene programs before filtering and combining: \"\n",
    "      f\"{len(combined_gp_dict)}.\")\n",
    "print(f\"Number of gene programs after filtering and combining: \"\n",
    "      f\"{len(combined_new_gp_dict)}.\")"
   ]
  },
  {
   "cell_type": "markdown",
   "id": "cb54eddf-616b-4d1c-872d-be63e248d9b4",
   "metadata": {},
   "source": [
    "### 2.2 Load Data & Compute Spatial Neighbor Graph"
   ]
  },
  {
   "cell_type": "markdown",
   "id": "cf771a3f-77f9-45c0-a5ca-cc6cff875a32",
   "metadata": {},
   "source": [
    "- NicheCompass expects a precomputed spatial adjacency matrix stored in 'adata.obsp[adj_key]'.\n",
    "- The user can customize the spatial neighbor graph construction based on the dataset, application, and hypothesis of interest.\n",
    "- In the multimodal setting, we will provide one adata object per modality to NicheCompass."
   ]
  },
  {
   "cell_type": "code",
   "execution_count": null,
   "id": "613bd8b2-7cf3-49f0-9726-9931f3d0bc63",
   "metadata": {},
   "outputs": [],
   "source": [
    "# Read data\n",
    "adata = sc.read_h5ad(\n",
    "        f\"{so_data_folder_path}/{dataset}.h5ad\")\n",
    "adata_atac = sc.read_h5ad(\n",
    "        f\"{so_data_folder_path}/{dataset}_atac.h5ad\")"
   ]
  },
  {
   "cell_type": "code",
   "execution_count": null,
   "id": "723be050-f174-4f95-89af-84545d4a8f31",
   "metadata": {},
   "outputs": [],
   "source": [
    "# Compute (separate) spatial neighborhood graphs\n",
    "sq.gr.spatial_neighbors(adata,\n",
    "                        coord_type=\"generic\",\n",
    "                        spatial_key=spatial_key,\n",
    "                        n_neighs=n_neighbors)\n",
    "\n",
    "# Make adjacency matrix symmetric\n",
    "adata.obsp[adj_key] = (\n",
    "    adata.obsp[adj_key].maximum(\n",
    "        adata.obsp[adj_key].T))"
   ]
  },
  {
   "cell_type": "code",
   "execution_count": null,
   "id": "b7f49d2f-d39b-4437-920d-12cc44b78d1e",
   "metadata": {},
   "outputs": [],
   "source": [
    "# Compute (separate) spatial neighborhood graphs\n",
    "#sq.gr.spatial_neighbors(adata,\n",
    "#                        coord_type=\"generic\",\n",
    "#                        spatial_key=spatial_key,\n",
    "#                        key_added=\"edge_label_\" + spatial_key,\n",
    "#                        n_neighs=8)\n",
    "\n",
    "# Make adjacency matrix symmetric\n",
    "#adata.obsp[f\"edge_label_{adj_key}\"] = (\n",
    "#    adata.obsp[f\"edge_label_{adj_key}\"].maximum(\n",
    "#        adata.obsp[f\"edge_label_{adj_key}\"].T))"
   ]
  },
  {
   "cell_type": "markdown",
   "id": "6709fcee-19ec-4653-8594-66ce99db8156",
   "metadata": {},
   "source": [
    "### 2.3 Filter Genes & Peaks"
   ]
  },
  {
   "cell_type": "code",
   "execution_count": null,
   "id": "9584c582-da66-4acd-bd5d-679316df3d82",
   "metadata": {
    "tags": []
   },
   "outputs": [],
   "source": [
    "if filter_genes:\n",
    "    print(\"Filtering genes...\")\n",
    "    # Filter genes and only keep ligand, receptor, metabolite enzyme, \n",
    "    # metabolite sensor and the 'n_svg' spatially variable genes (potential target\n",
    "    # genes of nichenet)\n",
    "    gp_dict_genes = get_unique_genes_from_gp_dict(\n",
    "        gp_dict=combined_new_gp_dict,\n",
    "            retrieved_gene_entities=[\"sources\", \"targets\"])\n",
    "    print(f\"Starting with {len(adata.var_names)} genes.\")\n",
    "    min_cells = int(adata.shape[0] * min_cell_gene_thresh_ratio)\n",
    "    sc.pp.filter_genes(adata, min_cells=min_cells)\n",
    "    print(f\"Keeping {len(adata.var_names)} genes after filtering genes with \"\n",
    "          f\"counts in less than {int(adata.shape[0] * min_cell_gene_thresh_ratio)} cells.\")\n",
    "    \n",
    "    # Identify highly variable genes\n",
    "    sc.pp.highly_variable_genes(\n",
    "        adata,\n",
    "        layer=\"counts\",\n",
    "        n_top_genes=n_hvg,\n",
    "        flavor=\"seurat_v3\",\n",
    "        subset=False)\n",
    "    \n",
    "    # Identify spatially variable genes\n",
    "    sq.gr.spatial_autocorr(adata, mode=\"moran\", genes=adata.var_names)\n",
    "    svg_genes = adata.uns[\"moranI\"].index[:n_svg].tolist()\n",
    "    adata.var[\"spatially_variable\"] = adata.var_names.isin(svg_genes)\n",
    "\n",
    "    # Get gene program relevant genes\n",
    "    gp_relevant_genes = []\n",
    "    #gp_relevant_genes = [gene.upper() for gene in list(set(\n",
    "    #    omnipath_genes\n",
    "    #    + nichenet_lr_genes \n",
    "    #    + mebocost_genes\n",
    "    #))]\n",
    "    \n",
    "    adata.var[\"gp_relevant\"] = (\n",
    "        adata.var.index.str.upper().isin(gp_relevant_genes))\n",
    "    adata.var[\"keep_gene\"] = (adata.var[\"gp_relevant\"] | \n",
    "                              adata.var[\"highly_variable\"] |\n",
    "                              adata.var[\"spatially_variable\"])\n",
    "    adata = adata[:, adata.var[\"keep_gene\"] == True]\n",
    "    print(f\"Keeping {len(adata.var_names)} spatially variable or gene program \"\n",
    "          \"relevant genes.\")\n",
    "    \n",
    "if filter_peaks:\n",
    "    print(\"\\nFiltering peaks...\")\n",
    "    print(f\"Starting with {len(adata_atac.var_names)} peaks.\")\n",
    "    # Filter out peaks that are rarely detected to reduce GPU footprint of model\n",
    "    min_cells = int(adata_atac.shape[0] * min_cell_peak_thresh_ratio)\n",
    "    sc.pp.filter_genes(adata_atac, min_cells=min_cells)\n",
    "    print(f\"Keeping {len(adata_atac.var_names)} peaks after filtering peaks with \"\n",
    "          f\"counts in less than {int(adata_atac.shape[0] * min_cell_peak_thresh_ratio)} cells.\")\n",
    "    \n",
    "    # Filter highly variable peaks\n",
    "    sc.pp.highly_variable_genes(\n",
    "        adata_atac,\n",
    "        layer=\"counts\",\n",
    "        n_top_genes=n_hvp,\n",
    "        flavor=\"seurat_v3\",\n",
    "        subset=False)\n",
    "    \n",
    "    # Filter spatially variable peaks\n",
    "    if n_svp > 0:\n",
    "        adata_atac.obsp[\"spatial_connectivities\"] = adata.obsp[\"spatial_connectivities\"]\n",
    "        adata_atac.obsp[\"spatial_distances\"] = adata.obsp[\"spatial_distances\"]\n",
    "\n",
    "        sq.gr.spatial_autocorr(adata_atac,\n",
    "                               mode=\"moran\",\n",
    "                               genes=adata_atac.var_names)\n",
    "        sv_peaks = adata_atac.uns[\"moranI\"].index[:n_svp].tolist()\n",
    "        adata_atac.var[\"spatially_variable\"] = adata_atac.var_names.isin(sv_peaks)\n",
    "        \n",
    "        adata_atac.var[\"keep_peak\"] = (adata_atac.var[\"highly_variable\"] |\n",
    "                                       adata_atac.var[\"spatially_variable\"])\n",
    "        adata_atac = adata_atac[:, adata_atac.var[\"keep_peak\"] == True]\n",
    "        print(f\"Keeping {len(adata_atac.var_names)} peaks after filtering spatially variable \"\n",
    "              f\"peaks.\")"
   ]
  },
  {
   "cell_type": "markdown",
   "id": "cf8d8031-a6d9-40fd-8fbe-658c2ecf5286",
   "metadata": {},
   "source": [
    "### 2.4 Annotate Genes & Peaks"
   ]
  },
  {
   "cell_type": "markdown",
   "id": "d45fd88f-136b-408f-be9d-146984c5b42d",
   "metadata": {},
   "source": [
    "Next, we will add positional bp annotations to genes and peaks to be able to match spatially proximal peaks to genes."
   ]
  },
  {
   "cell_type": "code",
   "execution_count": null,
   "id": "fd2653db-6e55-40b2-87ee-2007facb1813",
   "metadata": {},
   "outputs": [],
   "source": [
    "adata, adata_atac = get_gene_annotations(\n",
    "    adata=adata,\n",
    "    adata_atac=adata_atac,\n",
    "    gtf_file_path=gtf_file_path)"
   ]
  },
  {
   "cell_type": "code",
   "execution_count": null,
   "id": "0b3018e4-7906-4d06-b514-e8c460e14fbc",
   "metadata": {},
   "outputs": [],
   "source": [
    "# Display gene annotations\n",
    "adata.var[[\"chrom\", \"chromStart\", \"chromEnd\"]]"
   ]
  },
  {
   "cell_type": "code",
   "execution_count": null,
   "id": "c8b6f1a3-63e1-4c61-9f9f-739250a5d9e0",
   "metadata": {},
   "outputs": [],
   "source": [
    "# Display peak annotations\n",
    "adata_atac.var[[\"chrom\", \"chromStart\", \"chromEnd\"]]"
   ]
  },
  {
   "cell_type": "markdown",
   "id": "29abfb5f-62f6-4096-b171-14ccfab788e5",
   "metadata": {},
   "source": [
    "### 2.5 Add GP Mask to Data"
   ]
  },
  {
   "cell_type": "code",
   "execution_count": null,
   "id": "70421a8d-d2b2-46d9-8360-cffe764b1a5d",
   "metadata": {},
   "outputs": [],
   "source": [
    "# Add the GP dictionary as binary masks to the adata\n",
    "add_gps_from_gp_dict_to_adata(\n",
    "    gp_dict=combined_new_gp_dict,\n",
    "    adata=adata,\n",
    "    gp_targets_mask_key=gp_targets_mask_key,\n",
    "    gp_targets_categories_mask_key=gp_targets_categories_mask_key,\n",
    "    gp_sources_mask_key=gp_sources_mask_key,\n",
    "    gp_sources_categories_mask_key=gp_sources_categories_mask_key,\n",
    "    gp_names_key=gp_names_key,\n",
    "    min_genes_per_gp=1,\n",
    "    min_source_genes_per_gp=0,\n",
    "    min_target_genes_per_gp=0,\n",
    "    max_genes_per_gp=None,\n",
    "    max_source_genes_per_gp=None,\n",
    "    max_target_genes_per_gp=None,\n",
    "    plot_gp_gene_count_distributions=True)"
   ]
  },
  {
   "cell_type": "markdown",
   "id": "27540ad4-ac23-4940-b3b4-99d5724abb2b",
   "metadata": {},
   "source": [
    "### 2.6 Add Chromatin Accessibility Mask to Data"
   ]
  },
  {
   "cell_type": "markdown",
   "id": "5908e62d-6c92-4fe6-8f88-b337a92a66a7",
   "metadata": {},
   "source": [
    "Based on spatial proximity to the genes in the GP mask, we will add a chromatin accessibility mask."
   ]
  },
  {
   "cell_type": "code",
   "execution_count": null,
   "id": "8f9d0551-13b0-4f3d-b877-012e8732ccaf",
   "metadata": {
    "tags": []
   },
   "outputs": [],
   "source": [
    "gene_peak_mapping_dict = generate_multimodal_mapping_dict(\n",
    "    adata=adata,\n",
    "    adata_atac=adata_atac)"
   ]
  },
  {
   "cell_type": "code",
   "execution_count": null,
   "id": "30f9ded6-082d-49ad-bb09-aa224fc56e51",
   "metadata": {},
   "outputs": [],
   "source": [
    "adata, adata_atac = add_multimodal_mask_to_adata(\n",
    "    adata=adata,\n",
    "    adata_atac=adata_atac,\n",
    "    gene_peak_mapping_dict=gene_peak_mapping_dict)\n",
    "\n",
    "print(f\"Keeping {len(adata_atac.var_names)} peaks after filtering peaks with \"\n",
    "      \"no matching genes in gp mask.\")"
   ]
  },
  {
   "cell_type": "markdown",
   "id": "76a3dc55-3188-45ba-9022-f6eaa6f6a6aa",
   "metadata": {},
   "source": [
    "### 2.7 Explore Data"
   ]
  },
  {
   "cell_type": "code",
   "execution_count": null,
   "id": "f09aa3f1-0f74-4543-b719-ef542e6b275e",
   "metadata": {},
   "outputs": [],
   "source": [
    "rna_cluster_colors = create_new_color_dict(\n",
    "    adata=adata,\n",
    "    cat_key=rna_cluster_key)\n",
    "\n",
    "atac_cluster_colors = create_new_color_dict(\n",
    "    adata=adata,\n",
    "    cat_key=atac_cluster_key)"
   ]
  },
  {
   "cell_type": "code",
   "execution_count": null,
   "id": "65e37dfa-e1ae-436f-b648-f27eb1921b55",
   "metadata": {},
   "outputs": [],
   "source": [
    "print(f\"Number of nodes (observations): {adata.layers['counts'].shape[0]}\")\n",
    "print(f\"Number of gene node features: {adata.layers['counts'].shape[1]}\")\n",
    "print(f\"Number of peak node features: {adata_atac.layers['counts'].shape[1]}\")\n",
    "\n",
    "# Visualize spot-level annotated data in physical space\n",
    "sc.pl.spatial(adata,\n",
    "              color=rna_cluster_key,\n",
    "              palette=rna_cluster_colors,\n",
    "              spot_size=spot_size)\n",
    "sc.pl.spatial(adata_atac,\n",
    "              color=atac_cluster_key,\n",
    "              palette=atac_cluster_colors,\n",
    "              spot_size=spot_size) "
   ]
  },
  {
   "cell_type": "markdown",
   "id": "a68a5c9c-7a6d-45b3-b9c2-e2fe2546b2f3",
   "metadata": {},
   "source": [
    "## 3. Model Training"
   ]
  },
  {
   "cell_type": "markdown",
   "id": "34146f54-1840-42b7-82ed-ee9018f09819",
   "metadata": {},
   "source": [
    "### 3.1 Initialize, Train & Save Model"
   ]
  },
  {
   "cell_type": "code",
   "execution_count": null,
   "id": "55ca3fcf-2d88-4439-b98e-d1012028ed1f",
   "metadata": {},
   "outputs": [],
   "source": [
    "adata.write(\"adata_8.h5ad\")\n",
    "adata_atac.write(\"adata_atac_8.h5ad\")"
   ]
  },
  {
   "cell_type": "code",
   "execution_count": null,
   "id": "df713782-7206-4b0c-97cb-00940f85fc1c",
   "metadata": {},
   "outputs": [],
   "source": [
    "adata = sc.read_h5ad(\"adata_8_3k.h5ad\")\n",
    "adata_atac = sc.read_h5ad(\"adata_atac_8_3k.h5ad\")"
   ]
  },
  {
   "cell_type": "code",
   "execution_count": null,
   "id": "32323e5e-3754-41b8-b302-afc0c5361d78",
   "metadata": {},
   "outputs": [],
   "source": [
    "cell_type_df = pd.read_csv(f\"{so_data_folder_path}/spatial_atac_rna_seq_mouse_brain_batch2_cell_type_annotations.csv\", index_col=0)\n",
    "adata.obs = adata.obs.merge(cell_type_df, left_index=True, right_index=True, how=\"left\")"
   ]
  },
  {
   "cell_type": "code",
   "execution_count": null,
   "id": "cf8661e0-b4f3-47c1-aa6a-16f1af5990e2",
   "metadata": {},
   "outputs": [],
   "source": [
    "adata.obs"
   ]
  },
  {
   "cell_type": "code",
   "execution_count": null,
   "id": "b533ad4b-4493-4b8c-bf7c-aaf02f8c3fea",
   "metadata": {},
   "outputs": [],
   "source": [
    "adata_test = sc.read_h5ad(\"../data/spatial_omics/spatial_atac_rna_seq_mouse_brain.h5ad\")"
   ]
  },
  {
   "cell_type": "code",
   "execution_count": null,
   "id": "512a8761-2a51-4bbc-a5fb-1c86cd1098c3",
   "metadata": {},
   "outputs": [],
   "source": [
    "\"A2m\" in [gene.upper() for gene in adata_test.var_names.tolist()]"
   ]
  },
  {
   "cell_type": "code",
   "execution_count": null,
   "id": "c4993bfc-168c-4d20-b073-c32f4f136b8f",
   "metadata": {},
   "outputs": [],
   "source": [
    "del(adata_test)"
   ]
  },
  {
   "cell_type": "code",
   "execution_count": null,
   "id": "586f147e-5799-4015-b873-824bd4cd2023",
   "metadata": {},
   "outputs": [],
   "source": [
    "sc.pl.spatial(\n",
    "    use_raw=False,\n",
    "    adata=adata_test,\n",
    "    color=\"Mtap\",\n",
    "    color_map=\"RdBu_r\",\n",
    "    spot_size=30,\n",
    "    title=f\"\",\n",
    "    legend_loc=None,\n",
    "    colorbar_loc=\"bottom\",\n",
    "    show=True) "
   ]
  },
  {
   "cell_type": "code",
   "execution_count": null,
   "id": "d9d27f21-844d-4921-9427-bfd2e461a5e8",
   "metadata": {},
   "outputs": [],
   "source": [
    "lambda_l1_masked = 100\n",
    "lambda_l1_addon = 100\n",
    "lambda_edge_recon = 500000"
   ]
  },
  {
   "cell_type": "code",
   "execution_count": null,
   "id": "0bfb1915-f1e2-4d62-8e75-43605a429a14",
   "metadata": {},
   "outputs": [],
   "source": [
    "model.model.get_active_gp_mask()"
   ]
  },
  {
   "cell_type": "code",
   "execution_count": null,
   "id": "08dbfd6c-95ec-4a36-8020-cc8560268d38",
   "metadata": {},
   "outputs": [],
   "source": [
    "# Initialize model\n",
    "model = NicheCompass(adata,\n",
    "                     adata_atac,\n",
    "                     #cat_covariates_embeds_injection=[\"gene_expr_decoder\", \"chrom_access_decoder\"],\n",
    "                     #cat_covariates_keys=[\"celltype\"],\n",
    "                     #cat_covariates_no_edges=[False],\n",
    "                     #cat_covariates_embeds_nums=[8],\n",
    "                     counts_key=counts_key,\n",
    "                     adj_key=adj_key,\n",
    "                     gp_names_key=gp_names_key,\n",
    "                     active_gp_names_key=active_gp_names_key,\n",
    "                     gp_targets_mask_key=gp_targets_mask_key,\n",
    "                     gp_targets_categories_mask_key=gp_targets_categories_mask_key,\n",
    "                     gp_sources_mask_key=gp_sources_mask_key,\n",
    "                     gp_sources_categories_mask_key=gp_sources_categories_mask_key,\n",
    "                     latent_key=latent_key,\n",
    "                     n_fc_layers_encoder=1,\n",
    "                     n_layers_encoder=1,\n",
    "                     encoder_n_attention_heads=4,\n",
    "                     n_addon_gp=n_addon_gp,\n",
    "                     encoder_use_bn=False,\n",
    "                     conv_layer_encoder=conv_layer_encoder,\n",
    "                     active_gp_thresh_ratio=active_gp_thresh_ratio,\n",
    "                     node_label_method=node_label_method)"
   ]
  },
  {
   "cell_type": "code",
   "execution_count": null,
   "id": "13c3ca36-1844-4e42-975e-645ce9eab181",
   "metadata": {},
   "outputs": [],
   "source": [
    "use_cuda_if_available = True"
   ]
  },
  {
   "cell_type": "code",
   "execution_count": null,
   "id": "3e092306-19dd-4186-bf1d-71977963d4fb",
   "metadata": {},
   "outputs": [],
   "source": [
    "edge_batch_size = 2048"
   ]
  },
  {
   "cell_type": "code",
   "execution_count": null,
   "id": "105020cb-a2fe-4140-9b34-5993dca70473",
   "metadata": {},
   "outputs": [],
   "source": [
    "del(model)"
   ]
  },
  {
   "cell_type": "code",
   "execution_count": null,
   "id": "35dc1d2a-b8c2-4f57-b47a-6a3869237a6d",
   "metadata": {},
   "outputs": [],
   "source": [
    "raise ValueError"
   ]
  },
  {
   "cell_type": "code",
   "execution_count": null,
   "id": "e03ba4d3-4f2c-4358-98bc-1472d738374a",
   "metadata": {},
   "outputs": [],
   "source": [
    "import torch\n",
    "torch.cuda.empty_cache()"
   ]
  },
  {
   "cell_type": "code",
   "execution_count": null,
   "id": "0f1ab0b3-f7ba-4312-98b3-e10f5dd5334a",
   "metadata": {},
   "outputs": [],
   "source": [
    "import gc\n",
    "gc.collect()"
   ]
  },
  {
   "cell_type": "code",
   "execution_count": null,
   "id": "f45b28c1-529d-4c32-a6bd-fa04a58eff87",
   "metadata": {},
   "outputs": [],
   "source": [
    "# Train model\n",
    "model.train(n_epochs=n_epochs,\n",
    "            n_epochs_all_gps=n_epochs_all_gps,\n",
    "            n_epochs_no_edge_recon=0,\n",
    "            lr=lr,\n",
    "            lambda_edge_recon=lambda_edge_recon,\n",
    "            lambda_gene_expr_recon=lambda_gene_expr_recon,\n",
    "            lambda_chrom_access_recon=lambda_chrom_access_recon,\n",
    "            lambda_l1_masked=lambda_l1_masked,\n",
    "            lambda_l1_addon=lambda_l1_addon,\n",
    "            lambda_group_lasso=lambda_group_lasso,\n",
    "            edge_batch_size=edge_batch_size,\n",
    "            use_cuda_if_available=use_cuda_if_available,\n",
    "            n_sampled_neighbors=n_sampled_neighbors,\n",
    "            verbose=True)"
   ]
  },
  {
   "cell_type": "code",
   "execution_count": null,
   "id": "84c94c80-6b01-4c7b-a082-0f85b7933814",
   "metadata": {},
   "outputs": [],
   "source": [
    "# Display example active GPs\n",
    "gp_summary_df = model.get_gp_summary()\n",
    "gp_summary_df[gp_summary_df[\"gp_active\"] == True].tail(20)"
   ]
  },
  {
   "cell_type": "code",
   "execution_count": null,
   "id": "20e14bcf-ff32-49df-8e0d-53063b3d6f09",
   "metadata": {},
   "outputs": [],
   "source": [
    "# Compute latent neighbor graph\n",
    "sc.pp.neighbors(model.adata,\n",
    "                use_rep=latent_key,\n",
    "                key_added=latent_key)\n",
    "\n",
    "# Compute UMAP embedding\n",
    "sc.tl.umap(model.adata,\n",
    "           neighbors_key=latent_key)"
   ]
  },
  {
   "cell_type": "code",
   "execution_count": null,
   "id": "c35e7b62-b5d7-462a-9d6b-b645cf41a927",
   "metadata": {},
   "outputs": [],
   "source": [
    "# Save trained model\n",
    "model.save(dir_path=model_folder_path,\n",
    "           overwrite=True,\n",
    "           save_adata=True,\n",
    "           adata_file_name=\"adata.h5ad\",\n",
    "           #save_adata_atac=True,\n",
    "           #adata_atac_file_name=f\"adata_atac.h5ad\"\n",
    "          )"
   ]
  },
  {
   "cell_type": "markdown",
   "id": "eb65eb7f-92c9-4c29-8b47-e5b5bd085d50",
   "metadata": {},
   "source": [
    "## 4. Analysis"
   ]
  },
  {
   "cell_type": "code",
   "execution_count": null,
   "id": "9bee39e2-1f38-482e-b136-990d59659797",
   "metadata": {},
   "outputs": [],
   "source": [
    "current_timestamp # 13092023_174230"
   ]
  },
  {
   "cell_type": "code",
   "execution_count": null,
   "id": "bf3709d6-53cc-44cb-98bd-750ce963061e",
   "metadata": {},
   "outputs": [],
   "source": [
    "load_timestamp = \"02102023_231635\" # 13092023_174230\n",
    "\n",
    "figure_folder_path = f\"{artifacts_folder_path}/multimodal/{load_timestamp}/figures\"\n",
    "model_folder_path = f\"{artifacts_folder_path}/multimodal/{load_timestamp}/model\"\n",
    "\n",
    "os.makedirs(figure_folder_path, exist_ok=True)"
   ]
  },
  {
   "cell_type": "code",
   "execution_count": null,
   "id": "c69db93e-bf75-42b0-ace5-20d2e31b26d1",
   "metadata": {},
   "outputs": [],
   "source": [
    "# 13092023_174230"
   ]
  },
  {
   "cell_type": "code",
   "execution_count": null,
   "id": "48c18876-e2c4-41d7-8bcb-2fb3ddcab24d",
   "metadata": {},
   "outputs": [],
   "source": [
    "# Load trained model\n",
    "model = NicheCompass.load(dir_path=model_folder_path,\n",
    "                          adata=None,\n",
    "                          adata_file_name=\"adata.h5ad\",\n",
    "                          adata_atac=None,\n",
    "                          adata_atac_file_name=\"adata_atac.h5ad\",\n",
    "                          gp_names_key=gp_names_key)"
   ]
  },
  {
   "cell_type": "markdown",
   "id": "34ddc3b0-f41b-420c-91be-2ba23c114ddb",
   "metadata": {},
   "source": [
    "### 4.1 Visualize NicheCompass Embeddings"
   ]
  },
  {
   "cell_type": "markdown",
   "id": "25c4ef04-5f18-49d8-85f2-b857e3553ec8",
   "metadata": {},
   "source": [
    "Let's look at the preservation of rna cluster and atac cluster spot annotations in the embedding space. Note that the goal of NicheCompass is not a perfect separation of rna cluster or atac cluster spot annotations but rather to identify spatial cellular niches. Nevertheless, it can be useful to look at the spot annotations if available."
   ]
  },
  {
   "cell_type": "code",
   "execution_count": null,
   "id": "5a7bd3a9-787a-4e12-a212-09eaa6b32e38",
   "metadata": {},
   "outputs": [],
   "source": [
    "output = model.get_omics_decoder_outputs(\n",
    "                only_active_gps=True,\n",
    "                node_batch_size=512)"
   ]
  },
  {
   "cell_type": "code",
   "execution_count": null,
   "id": "976ed437-3374-46ca-935a-d892871702b1",
   "metadata": {},
   "outputs": [],
   "source": [
    "for i, gene in enumerate(adata.var_names):\n",
    "    model.adata.obs[f\"{gene}_rec\"] = output[\"target_rna_nb_means\"][:, i]"
   ]
  },
  {
   "cell_type": "code",
   "execution_count": null,
   "id": "a104328f-eb95-4e31-9155-84f2ada8a305",
   "metadata": {},
   "outputs": [],
   "source": [
    "model.adata.var_names"
   ]
  },
  {
   "cell_type": "code",
   "execution_count": null,
   "id": "0765cf13-ae6d-444e-9465-52b0cfa58cfa",
   "metadata": {},
   "outputs": [],
   "source": [
    "model.adata.varm[\"nichecompass_gp_sources\"].sum(1)"
   ]
  },
  {
   "cell_type": "code",
   "execution_count": null,
   "id": "437d0693-16b5-4615-813c-2e25f1a98ca2",
   "metadata": {},
   "outputs": [],
   "source": [
    "model.adata.varm[\"nichecompass_gp_targets\"].sum(1)"
   ]
  },
  {
   "cell_type": "code",
   "execution_count": null,
   "id": "a9e8c068-4f25-4e13-89a8-611fa1a55b75",
   "metadata": {},
   "outputs": [],
   "source": [
    "model.features_scale_factors_"
   ]
  },
  {
   "cell_type": "code",
   "execution_count": null,
   "id": "86e48ae5-1cdd-4cad-9321-f9540a7615c7",
   "metadata": {},
   "outputs": [],
   "source": [
    "gene = \"Mbp\"\n",
    "\n",
    "sc.pl.spatial(\n",
    "    use_raw=False,\n",
    "    adata=model.adata,\n",
    "    color=gene,\n",
    "    color_map=\"RdBu_r\",\n",
    "    spot_size=30,\n",
    "    title=f\"\",\n",
    "    legend_loc=None,\n",
    "    colorbar_loc=\"bottom\",\n",
    "    show=True)\n",
    "\n",
    "sc.pl.spatial(\n",
    "    use_raw=False,\n",
    "    adata=model.adata,\n",
    "    color=f\"{gene}_rec\",\n",
    "    color_map=\"RdBu_r\",\n",
    "    spot_size=30,\n",
    "    title=f\"\",\n",
    "    legend_loc=None,\n",
    "    colorbar_loc=\"bottom\",\n",
    "    show=True)"
   ]
  },
  {
   "cell_type": "code",
   "execution_count": null,
   "id": "a6cffa34-8cdd-4a3e-8a0d-985b0bfb1889",
   "metadata": {},
   "outputs": [],
   "source": [
    "samples = model.adata.obs[sample_key].unique().tolist()\n",
    "\n",
    "rna_cluster_colors = create_new_color_dict(\n",
    "    adata=model.adata,\n",
    "    cat_key=rna_cluster_key)\n",
    "\n",
    "atac_cluster_colors = create_new_color_dict(\n",
    "    adata=model.adata,\n",
    "    cat_key=atac_cluster_key)"
   ]
  },
  {
   "cell_type": "code",
   "execution_count": null,
   "id": "51099442-6bfb-49a9-8e12-7707ec7051e8",
   "metadata": {},
   "outputs": [],
   "source": [
    "# Create plot of RNA cluster annotations in physical and latent space\n",
    "groups = None # set this to a specific cluster for easy visualization, e.g. [\"R0\"]\n",
    "save_fig = True\n",
    "file_path = f\"{figure_folder_path}/\" \\\n",
    "            \"rna_clusters_latent_physical_space.svg\"\n",
    "\n",
    "fig = plt.figure(figsize=(12, 14))\n",
    "title = fig.suptitle(t=f\"Original RNA Clusters \" \\\n",
    "                       \"in NicheCompass Latent and Physical Space\",\n",
    "                     y=0.96,\n",
    "                     x=0.55,\n",
    "                     fontsize=20)\n",
    "spec1 = gridspec.GridSpec(ncols=1,\n",
    "                          nrows=2,\n",
    "                          width_ratios=[1],\n",
    "                          height_ratios=[3, 2])\n",
    "spec2 = gridspec.GridSpec(ncols=len(samples),\n",
    "                          nrows=2,\n",
    "                          width_ratios=[1] * len(samples),\n",
    "                          height_ratios=[3, 2])\n",
    "axs = []\n",
    "axs.append(fig.add_subplot(spec1[0]))\n",
    "sc.pl.umap(adata=model.adata,\n",
    "           color=[rna_cluster_key],\n",
    "           groups=groups,\n",
    "           palette=rna_cluster_colors,\n",
    "           title=f\"Original RNA Clusters in NicheCompass Latent Space\",\n",
    "           ax=axs[0],\n",
    "           show=False)\n",
    "for idx, sample in enumerate(samples):\n",
    "    axs.append(fig.add_subplot(spec2[len(samples) + idx]))\n",
    "    sc.pl.spatial(adata=model.adata[model.adata.obs[sample_key] == sample],\n",
    "                  color=[rna_cluster_key],\n",
    "                  groups=groups,\n",
    "                  palette=rna_cluster_colors,\n",
    "                  spot_size=spot_size,\n",
    "                  title=f\"Original RNA Clusters in Physical Space \\n\"\n",
    "                        f\"(Sample: {sample})\",\n",
    "                  legend_loc=None,\n",
    "                  ax=axs[idx+1],\n",
    "                  show=False)\n",
    "\n",
    "# Create and position shared legend\n",
    "handles, labels = axs[0].get_legend_handles_labels()\n",
    "lgd = fig.legend(handles,\n",
    "                 labels,\n",
    "                 loc=\"center left\",\n",
    "                 bbox_to_anchor=(0.98, 0.5))\n",
    "axs[0].get_legend().remove()\n",
    "\n",
    "# Adjust, save and display plot\n",
    "plt.subplots_adjust(wspace=0.2, hspace=0.25)\n",
    "if save_fig:\n",
    "    fig.savefig(file_path,\n",
    "                bbox_extra_artists=(lgd, title),\n",
    "                bbox_inches=\"tight\")\n",
    "plt.show()"
   ]
  },
  {
   "cell_type": "code",
   "execution_count": null,
   "id": "bef221a0-fb58-4c67-b8f8-9301abed9e72",
   "metadata": {},
   "outputs": [],
   "source": [
    "# Create plot of ATAC cluster annotations in physical and latent space\n",
    "groups = None # set this to a specific cluster for easy visualization, e.g. [\"C0\"]\n",
    "save_fig = True\n",
    "file_path = f\"{figure_folder_path}/\" \\\n",
    "            \"atac_clusters_latent_physical_space.svg\"\n",
    "\n",
    "fig = plt.figure(figsize=(12, 14))\n",
    "title = fig.suptitle(t=f\"Original ATAC Clusters \" \\\n",
    "                       \"in NicheCompass Latent and Physical Space\",\n",
    "                     y=0.96,\n",
    "                     x=0.55,\n",
    "                     fontsize=20)\n",
    "spec1 = gridspec.GridSpec(ncols=1,\n",
    "                          nrows=2,\n",
    "                          width_ratios=[1],\n",
    "                          height_ratios=[3, 2])\n",
    "spec2 = gridspec.GridSpec(ncols=len(samples),\n",
    "                          nrows=2,\n",
    "                          width_ratios=[1] * len(samples),\n",
    "                          height_ratios=[3, 2])\n",
    "axs = []\n",
    "axs.append(fig.add_subplot(spec1[0]))\n",
    "sc.pl.umap(adata=model.adata,\n",
    "           color=[atac_cluster_key],\n",
    "           groups=groups,\n",
    "           palette=atac_cluster_colors,\n",
    "           title=f\"Original ATAC Clusters in NicheCompass Latent Space\",\n",
    "           ax=axs[0],\n",
    "           show=False)\n",
    "for idx, sample in enumerate(samples):\n",
    "    axs.append(fig.add_subplot(spec2[len(samples) + idx]))\n",
    "    sc.pl.spatial(adata=model.adata[model.adata.obs[sample_key] == sample],\n",
    "                  color=[atac_cluster_key],\n",
    "                  groups=groups,\n",
    "                  palette=atac_cluster_colors,\n",
    "                  spot_size=spot_size,\n",
    "                  title=f\"Original ATAC Clusters in Physical Space \\n\"\n",
    "                        f\"(Sample: {sample})\",\n",
    "                  legend_loc=None,\n",
    "                  ax=axs[idx+1],\n",
    "                  show=False)\n",
    "\n",
    "# Create and position shared legend\n",
    "handles, labels = axs[0].get_legend_handles_labels()\n",
    "lgd = fig.legend(handles,\n",
    "                 labels,\n",
    "                 loc=\"center left\",\n",
    "                 bbox_to_anchor=(0.98, 0.5))\n",
    "axs[0].get_legend().remove()\n",
    "\n",
    "# Adjust, save and display plot\n",
    "plt.subplots_adjust(wspace=0.2, hspace=0.25)\n",
    "if save_fig:\n",
    "    fig.savefig(file_path,\n",
    "                bbox_extra_artists=(lgd, title),\n",
    "                bbox_inches=\"tight\")\n",
    "plt.show()"
   ]
  },
  {
   "cell_type": "markdown",
   "id": "80fc8420-a64f-4fa4-b942-1344cd125ade",
   "metadata": {
    "tags": []
   },
   "source": [
    "### 4.2 Identify Niches"
   ]
  },
  {
   "cell_type": "markdown",
   "id": "3465230d-ca4d-4e6e-a76d-cae68252acc8",
   "metadata": {},
   "source": [
    "We will compute Leiden clustering based on the NicheCompass embeddings to identify spatial cellular niches."
   ]
  },
  {
   "cell_type": "code",
   "execution_count": null,
   "id": "83086a4f-4e12-4944-9f21-3daa8947e8a5",
   "metadata": {},
   "outputs": [],
   "source": [
    "latent_leiden_resolution = 0.5"
   ]
  },
  {
   "cell_type": "code",
   "execution_count": null,
   "id": "2e85427b-c397-40bb-bece-fbc411ee1a76",
   "metadata": {},
   "outputs": [],
   "source": [
    "latent_cluster_key = f'latent_leiden_{latent_leiden_resolution}'"
   ]
  },
  {
   "cell_type": "code",
   "execution_count": null,
   "id": "b40d2fee-5687-4d40-8d45-93760203392d",
   "metadata": {},
   "outputs": [],
   "source": [
    "# Compute latent Leiden clustering\n",
    "sc.tl.leiden(adata=model.adata,\n",
    "             resolution=latent_leiden_resolution,\n",
    "             key_added=latent_cluster_key,\n",
    "             neighbors_key=latent_key)"
   ]
  },
  {
   "cell_type": "code",
   "execution_count": null,
   "id": "a842b7c7-b77a-435f-b25f-fe95012770c1",
   "metadata": {},
   "outputs": [],
   "source": [
    "    # Compute latent Leiden subclustering\n",
    "    sc.tl.leiden(adata=model.adata,\n",
    "                 resolution=0.1,\n",
    "                 key_added=latent_cluster_key,\n",
    "                 restrict_to=(latent_cluster_key, [\"8\"]),\n",
    "                 neighbors_key=latent_key)\n",
    "    sc.tl.leiden(adata=model.adata,\n",
    "             resolution=0.08,\n",
    "             key_added=latent_cluster_key,\n",
    "             restrict_to=(latent_cluster_key, [\"3\"]),\n",
    "             neighbors_key=latent_key)\n",
    "    sc.tl.leiden(adata=model.adata,\n",
    "             resolution=0.05,\n",
    "             key_added=latent_cluster_key,\n",
    "             restrict_to=(latent_cluster_key, [\"9\"]),\n",
    "             neighbors_key=latent_key)\n",
    "    sc.tl.leiden(adata=model.adata,\n",
    "             resolution=0.06,\n",
    "             key_added=latent_cluster_key,\n",
    "             restrict_to=(latent_cluster_key, [\"5\"]),\n",
    "             neighbors_key=latent_key)"
   ]
  },
  {
   "cell_type": "code",
   "execution_count": null,
   "id": "0a1d920d-d8e9-475e-a83d-0d67fca317f3",
   "metadata": {},
   "outputs": [],
   "source": [
    "latent_cluster_colors = create_new_color_dict(\n",
    "    adata=model.adata,\n",
    "    cat_key=latent_cluster_key)"
   ]
  },
  {
   "cell_type": "code",
   "execution_count": null,
   "id": "3b3f4ba1-8af1-456a-ac4a-967155e56f0f",
   "metadata": {},
   "outputs": [],
   "source": [
    "# Create plot of latent cluster / niche annotations in physical and latent space\n",
    "groups = None # set this to a specific cluster for easy visualization, e.g. [\"11\"]\n",
    "save_fig = True\n",
    "file_path = f\"{figure_folder_path}/\" \\\n",
    "            f\"res_{latent_leiden_resolution}_\" \\\n",
    "            \"latent_clusters_latent_physical_space.svg\"\n",
    "\n",
    "fig = plt.figure(figsize=(12, 14))\n",
    "title = fig.suptitle(t=f\"NicheCompass Latent Clusters \" \\\n",
    "                       \"in Latent and Physical Space\",\n",
    "                     y=0.96,\n",
    "                     x=0.55,\n",
    "                     fontsize=20)\n",
    "spec1 = gridspec.GridSpec(ncols=1,\n",
    "                          nrows=2,\n",
    "                          width_ratios=[1],\n",
    "                          height_ratios=[3, 2])\n",
    "spec2 = gridspec.GridSpec(ncols=len(samples),\n",
    "                          nrows=2,\n",
    "                          width_ratios=[1] * len(samples),\n",
    "                          height_ratios=[3, 2])\n",
    "axs = []\n",
    "axs.append(fig.add_subplot(spec1[0]))\n",
    "sc.pl.umap(adata=model.adata,\n",
    "           color=[latent_cluster_key],\n",
    "           groups=groups,\n",
    "           palette=latent_cluster_colors,\n",
    "           title=f\"Latent Clusters in Latent Space\",\n",
    "           ax=axs[0],\n",
    "           show=False)\n",
    "for idx, sample in enumerate(samples):\n",
    "    axs.append(fig.add_subplot(spec2[len(samples) + idx]))\n",
    "    sc.pl.spatial(adata=model.adata[model.adata.obs[sample_key] == sample],\n",
    "                  color=[latent_cluster_key],\n",
    "                  groups=groups,\n",
    "                  palette=latent_cluster_colors,\n",
    "                  spot_size=spot_size,\n",
    "                  title=f\"Latent Clusters in Physical Space \\n\"\n",
    "                        f\"(Sample: {sample})\",\n",
    "                  legend_loc=None,\n",
    "                  ax=axs[idx+1],\n",
    "                  show=False)\n",
    "\n",
    "# Create and position shared legend\n",
    "handles, labels = axs[0].get_legend_handles_labels()\n",
    "lgd = fig.legend(handles,\n",
    "                 labels,\n",
    "                 loc=\"center left\",\n",
    "                 bbox_to_anchor=(0.98, 0.5))\n",
    "axs[0].get_legend().remove()\n",
    "\n",
    "# Adjust, save and display plot\n",
    "plt.subplots_adjust(wspace=0.2, hspace=0.25)\n",
    "if save_fig:\n",
    "    fig.savefig(file_path,\n",
    "                bbox_extra_artists=(lgd, title),\n",
    "                bbox_inches=\"tight\")\n",
    "plt.show()"
   ]
  },
  {
   "cell_type": "code",
   "execution_count": null,
   "id": "a9bf5a59-f28e-450e-a7b1-ad093b2abee8",
   "metadata": {},
   "outputs": [],
   "source": [
    "cat_covariates_embeds = model.get_cat_covariates_embeds()"
   ]
  },
  {
   "cell_type": "code",
   "execution_count": null,
   "id": "ca0d9879-ba2a-40cb-b761-8084448b921c",
   "metadata": {},
   "outputs": [],
   "source": [
    "cat_covariates_embeds[0].shape"
   ]
  },
  {
   "cell_type": "code",
   "execution_count": null,
   "id": "3554699d-205d-4e2a-aeba-f907207a7569",
   "metadata": {},
   "outputs": [],
   "source": [
    "\"chr17:85617697-85618556\" in model.adata_atac.var_names"
   ]
  },
  {
   "cell_type": "code",
   "execution_count": null,
   "id": "ec72893d-30b4-4164-87d9-2204ff0724d1",
   "metadata": {},
   "outputs": [],
   "source": [
    "model.adata_atac.raw.var_names"
   ]
  },
  {
   "cell_type": "code",
   "execution_count": null,
   "id": "c5e175c2-ee57-4096-b6ea-902ef42b0fea",
   "metadata": {},
   "outputs": [],
   "source": [
    "gp_summary_df[gp_summary_df[\"gp_name\"].str.contains(\"Sox2_\")]"
   ]
  },
  {
   "cell_type": "code",
   "execution_count": null,
   "id": "f8c8dc3c-5658-4bcc-a088-190cc49983fb",
   "metadata": {},
   "outputs": [],
   "source": [
    "model.adata.uns[gp_names_key].tolist().index(\"Sox2_TF_target_genes_GP\")"
   ]
  },
  {
   "cell_type": "code",
   "execution_count": null,
   "id": "3861c4b7-e196-4aaa-83c5-ce2a383daaa7",
   "metadata": {},
   "outputs": [],
   "source": [
    "model.adata_atac.var_names.tolist().index(\"chr2:26500622-26501037\")"
   ]
  },
  {
   "cell_type": "code",
   "execution_count": null,
   "id": "56083a57-aa29-42e6-87ef-f50bb8c2102b",
   "metadata": {},
   "outputs": [],
   "source": [
    "len(model.adata_atac.var_names)"
   ]
  },
  {
   "cell_type": "code",
   "execution_count": null,
   "id": "642271f5-b93c-43ce-bbb8-d149c11fea8a",
   "metadata": {},
   "outputs": [],
   "source": [
    "model.model.get_gp_weights()[0].shape"
   ]
  },
  {
   "cell_type": "code",
   "execution_count": null,
   "id": "3dcb66d5-b783-442b-b3ba-a7078a779bde",
   "metadata": {},
   "outputs": [],
   "source": [
    "model.model.get_gp_weights()[1][1130, 789]"
   ]
  },
  {
   "cell_type": "code",
   "execution_count": null,
   "id": "edbe5d57-fafe-4213-891d-94fea970178b",
   "metadata": {},
   "outputs": [],
   "source": [
    "# Visualize an example gp\n",
    "model.add_active_gp_scores_to_obs()\n",
    "\n",
    "gp = \"PTPN11_ligand_receptor_GP\"\n",
    "\n",
    "sc.pl.spatial(\n",
    "    use_raw=False,\n",
    "    adata=model.adata_atac,\n",
    "    color=\"chr17:85617697-85618556\",\n",
    "    color_map=\"RdBu_r\",\n",
    "    spot_size=30,\n",
    "    title=f\"\",\n",
    "    legend_loc=None,\n",
    "    colorbar_loc=\"bottom\",\n",
    "    show=True) "
   ]
  },
  {
   "cell_type": "code",
   "execution_count": null,
   "id": "c0860eba-2035-4606-97f5-86d5233e835c",
   "metadata": {},
   "outputs": [],
   "source": [
    "sc.pl.spatial(\n",
    "    use_raw=False,\n",
    "    adata=model.adata_atac,\n",
    "    color=\"chr2:26500622-26501037\",\n",
    "    color_map=\"RdBu_r\",\n",
    "    spot_size=30,\n",
    "    title=f\"\",\n",
    "    legend_loc=None,\n",
    "    colorbar_loc=\"bottom\",\n",
    "    show=True) "
   ]
  },
  {
   "cell_type": "code",
   "execution_count": null,
   "id": "18b54835-9697-4ef7-b1e0-989b8433433c",
   "metadata": {},
   "outputs": [],
   "source": [
    "# Check number of active GPs\n",
    "active_gps = model.get_active_gps()\n",
    "print(f\"Number of total gene programs: {len(model.adata.uns[gp_names_key])}.\")\n",
    "print(f\"Number of active gene programs: {len(active_gps)}.\")"
   ]
  },
  {
   "cell_type": "code",
   "execution_count": null,
   "id": "c47e7c60-5583-4724-be6e-692e84c1f75c",
   "metadata": {},
   "outputs": [],
   "source": [
    "gp_weights = model.model.get_gp_weights(only_masked_features=False,\n",
    "                                             gp_type=\"all\")[0]"
   ]
  },
  {
   "cell_type": "code",
   "execution_count": null,
   "id": "3d771e2b-7eb2-4957-adf6-6ec4020585c4",
   "metadata": {},
   "outputs": [],
   "source": [
    "(gp_weights.norm(p=1, dim=0) > 0.001).sum()"
   ]
  },
  {
   "cell_type": "code",
   "execution_count": null,
   "id": "ed6f7a57-bbb0-45c4-9e0d-eaa4b5f7ee46",
   "metadata": {},
   "outputs": [],
   "source": [
    "# Display example active GPs\n",
    "gp_summary_df = model.get_gp_summary()\n",
    "gp_summary_df[gp_summary_df[\"gp_active\"] == True].head(20)"
   ]
  },
  {
   "cell_type": "code",
   "execution_count": null,
   "id": "1da058e6-b3af-492a-8af2-59afe43335d6",
   "metadata": {},
   "outputs": [],
   "source": [
    "model.model.get_active_gp_mask()"
   ]
  },
  {
   "cell_type": "markdown",
   "id": "a7accf45-5e2d-4d09-8492-b2ded21b913f",
   "metadata": {},
   "source": [
    "### 4.3 Analyze Niches"
   ]
  },
  {
   "cell_type": "markdown",
   "id": "fe0b8f60-65b8-4310-bbf0-cec3b7d2e562",
   "metadata": {},
   "source": [
    "#### 4.3.1 Niche Composition"
   ]
  },
  {
   "cell_type": "markdown",
   "id": "33fa6947-b329-487f-9fec-f32fd469f6fa",
   "metadata": {},
   "source": [
    "We can analyze the niche composition in terms of rna cluster spot labels."
   ]
  },
  {
   "cell_type": "code",
   "execution_count": null,
   "id": "12a602ad-e229-4730-be96-e0eafa87be00",
   "metadata": {},
   "outputs": [],
   "source": [
    "save_fig = True\n",
    "file_path = f\"{figure_folder_path}/\" \\\n",
    "            f\"res_{latent_leiden_resolution}_\" \\\n",
    "            f\"niche_composition.svg\"\n",
    "\n",
    "df_counts = (model.adata.obs.groupby([latent_cluster_key, rna_cluster_key])\n",
    "             .size().unstack())\n",
    "df_counts.plot(kind=\"bar\", stacked=True)\n",
    "legend = plt.legend(bbox_to_anchor=(1, 1), loc=\"upper left\", prop={'size': 10})\n",
    "legend.set_title(\"RNA Cluster\", prop={'size': 10})\n",
    "plt.title(\"RNA Cluster Composition of Niches\")\n",
    "plt.xlabel(\"Niche\")\n",
    "plt.ylabel(\"RNA Cluster Counts\")\n",
    "if save_fig:\n",
    "    plt.savefig(file_path,\n",
    "                bbox_extra_artists=(legend,),\n",
    "                bbox_inches=\"tight\")"
   ]
  },
  {
   "cell_type": "markdown",
   "id": "5d6fa26c-e3bd-4ce3-ba7e-1216de3530ae",
   "metadata": {},
   "source": [
    "#### 4.3.2 Spot Annotation Neighbor Importances"
   ]
  },
  {
   "cell_type": "markdown",
   "id": "125a049f-d9e6-4587-a03a-ccfc9b13dcaf",
   "metadata": {},
   "source": [
    "Now we will investigate neighbor importances in terms of rna cluster spot labels of different niches."
   ]
  },
  {
   "cell_type": "code",
   "execution_count": null,
   "id": "c35351ba-6c65-4faf-a9ea-30e9a1f6e50f",
   "metadata": {},
   "outputs": [],
   "source": [
    "# Retrieve node neighbor importances \n",
    "# (aggregation weights of the node label aggregator)\n",
    "model.adata.obsp[agg_weights_key] = model.get_neighbor_importances()"
   ]
  },
  {
   "cell_type": "code",
   "execution_count": null,
   "id": "166041a8-cf73-475b-99a6-0e97b8426d88",
   "metadata": {},
   "outputs": [],
   "source": [
    "# Get cell type neighbor importances for each niche / latent cluster\n",
    "niche_neighbor_importances_df = aggregate_obsp_matrix_per_cell_type(\n",
    "    adata=model.adata,\n",
    "    obsp_key=agg_weights_key,\n",
    "    cell_type_key=rna_cluster_key,\n",
    "    group_key=latent_cluster_key,\n",
    "    agg_rows=True)"
   ]
  },
  {
   "cell_type": "code",
   "execution_count": null,
   "id": "cc43aa52-c556-4739-8a7d-301f65646a58",
   "metadata": {},
   "outputs": [],
   "source": [
    "display(niche_neighbor_importances_df)"
   ]
  },
  {
   "cell_type": "code",
   "execution_count": null,
   "id": "9bbd8b46-c656-4730-98ca-54beea3643cf",
   "metadata": {},
   "outputs": [],
   "source": [
    "# Generate chord plots showing cell type neighbor importances\n",
    "# for each niche / latent cluster\n",
    "groups = \"all\"\n",
    "save_fig = True\n",
    "file_path = f\"{figure_folder_path}/\" \\\n",
    "            f\"res_{latent_leiden_resolution}_\" \\\n",
    "            f\"niche_neighbor_importances.png\"\n",
    "\n",
    "create_cell_type_chord_plot_from_df(\n",
    "        adata=model.adata,\n",
    "        df=niche_neighbor_importances_df,\n",
    "        link_threshold=0.01,\n",
    "        cell_type_key=rna_cluster_key,\n",
    "        group_key=latent_cluster_key,\n",
    "        groups=groups,\n",
    "        plot_label=\"Niche\",\n",
    "        save_fig=save_fig,\n",
    "        file_path=file_path)"
   ]
  },
  {
   "cell_type": "markdown",
   "id": "eaee7f44-8721-425e-bb41-e65263d842a5",
   "metadata": {},
   "source": [
    "### 4.4 Perform Differential Gene Program Testing"
   ]
  },
  {
   "cell_type": "markdown",
   "id": "153062fa-1eea-4740-95b2-67300d1942c4",
   "metadata": {},
   "source": [
    "Now we can test which communication gene programs are differentially expressed in a niche. To this end, we will perform differential gene program testing for each latent cluster / niche (```selected_cats = None```)  vs all other latent clusters / niches (```comparison_cats = \"rest\"```).\n",
    "\n",
    "We could also perform differential gene program testing for a selected niche only, e.g. latent cluster / niche \"11\" (```selected_cats = [\"11\"]```) or test only against specified latent clusters / niches, e.g. niches \"2\" and \"3\" (```comparison_cats = [\"2\", \"3\"]```).\n",
    "\n",
    "We choose a log bayes factor threshold of 4.6 to determine decisively enriched gene programs. Alternatively, the threshold could be loosened to a value of 2.3 to also allow \"only\" strongly enriched gene programs to be identified (see https://en.wikipedia.org/wiki/Bayes_factor)."
   ]
  },
  {
   "cell_type": "code",
   "execution_count": null,
   "id": "9b3c01dc-6501-4c04-b398-e5865ce73282",
   "metadata": {},
   "outputs": [],
   "source": [
    "# Check number of active GPs\n",
    "active_gps = model.get_active_gps()\n",
    "print(f\"Number of total gene programs: {len(model.adata.uns[gp_names_key])}.\")\n",
    "print(f\"Number of active gene programs: {len(active_gps)}.\")"
   ]
  },
  {
   "cell_type": "code",
   "execution_count": null,
   "id": "a737aaaf-3d82-4404-bb50-afc4f3a31a10",
   "metadata": {},
   "outputs": [],
   "source": [
    "# Display example active GPs\n",
    "gp_summary_df = model.get_gp_summary()\n",
    "gp_summary_df[gp_summary_df[\"gp_active\"] == True][0: 20]"
   ]
  },
  {
   "cell_type": "code",
   "execution_count": null,
   "id": "1f1216c5-cd5b-4f3e-a7f1-7569348e7396",
   "metadata": {},
   "outputs": [],
   "source": [
    "model.model.get_active_gp_mask()"
   ]
  },
  {
   "cell_type": "code",
   "execution_count": null,
   "id": "9a0b6768-7a3b-4f45-b081-ab95e4da0de3",
   "metadata": {},
   "outputs": [],
   "source": [
    "gp_weights = model.model.get_gp_weights(gp_type=\"addon\")"
   ]
  },
  {
   "cell_type": "code",
   "execution_count": null,
   "id": "c6ab20b2-fc90-4c5f-9c99-cb810680c1c5",
   "metadata": {},
   "outputs": [],
   "source": [
    "gp_weights[0].sum(0)[-100:]"
   ]
  },
  {
   "cell_type": "code",
   "execution_count": null,
   "id": "0cb59e75-cc3f-4c3d-aaf1-7cf01c11335a",
   "metadata": {},
   "outputs": [],
   "source": [
    "# Set parameters for differential gp testing\n",
    "selected_cats = None\n",
    "comparison_cats = \"rest\"\n",
    "title = f\"NicheCompass Latent Cluster Decisively Enriched Gene Programs\"\n",
    "log_bayes_factor_thresh = 2.3 # 2.3\n",
    "save_fig = True\n",
    "file_path = f\"{figure_folder_path}/\" \\\n",
    "            f\"/log_bayes_factor_{log_bayes_factor_thresh}_\" \\\n",
    "             \"all_niches_vs_rest_enriched_gps_dotplot.svg\""
   ]
  },
  {
   "cell_type": "code",
   "execution_count": null,
   "id": "54634aa7-6ea6-4430-bde3-098eb76c798f",
   "metadata": {},
   "outputs": [],
   "source": [
    "# Run differential gp testing\n",
    "enriched_gps = model.run_differential_gp_tests(\n",
    "    cat_key=latent_cluster_key,\n",
    "    selected_cats=selected_cats,\n",
    "    comparison_cats=comparison_cats,\n",
    "    log_bayes_factor_thresh=log_bayes_factor_thresh)"
   ]
  },
  {
   "cell_type": "code",
   "execution_count": null,
   "id": "9b247557-172c-4b6c-ae4a-67416f1151e1",
   "metadata": {},
   "outputs": [],
   "source": [
    "# Results are stored in a df in the adata object\n",
    "model.adata.uns[differential_gp_test_results_key]"
   ]
  },
  {
   "cell_type": "code",
   "execution_count": null,
   "id": "0787673f-7bae-48cc-ac93-8dd37899ef51",
   "metadata": {},
   "outputs": [],
   "source": [
    "# Create dotplot of results\n",
    "fig = sc.pl.dotplot(model.adata,\n",
    "                    enriched_gps,\n",
    "                    groupby=latent_cluster_key,\n",
    "                    expression_cutoff=-np.inf,\n",
    "                    dendrogram=True, \n",
    "                    title=title,\n",
    "                    swap_axes=True,\n",
    "                    return_fig=True,\n",
    "                    figsize=(model.adata.obs[latent_cluster_key].nunique() / 2,\n",
    "                             len(enriched_gps) / 2))\n",
    "if save_fig:\n",
    "    fig.savefig(file_path)\n",
    "else:\n",
    "    fig.show()"
   ]
  },
  {
   "cell_type": "code",
   "execution_count": null,
   "id": "60d3b916-3d26-480f-bfa8-43322e2e3593",
   "metadata": {},
   "outputs": [],
   "source": [
    "sc.pl.spatial(model.adata, color=[\"Hoxc9_TF_target_genes_GP\"], spot_size=30)"
   ]
  },
  {
   "cell_type": "code",
   "execution_count": null,
   "id": "843748f9-1733-4a2f-aa62-05487d11faa0",
   "metadata": {},
   "outputs": [],
   "source": [
    "sc.pl.spatial(model.adata, color=[\"Myc_TF_target_genes_GP\"], spot_size=30)"
   ]
  },
  {
   "cell_type": "code",
   "execution_count": null,
   "id": "e46fec6a-0c0c-4be5-b442-da1b103fbc15",
   "metadata": {},
   "outputs": [],
   "source": [
    "enriched_gps"
   ]
  },
  {
   "cell_type": "code",
   "execution_count": null,
   "id": "1a577d21-9554-48f0-a944-b93ef344542a",
   "metadata": {},
   "outputs": [],
   "source": [
    "# Store gene program summary of enriched gene programs\n",
    "save_file = True\n",
    "file_path = f\"{figure_folder_path}/\" \\\n",
    "            f\"/log_bayes_factor_{log_bayes_factor_thresh}_\" \\\n",
    "            \"all_niches_vs_rest_enriched_gps_summary.csv\"\n",
    "\n",
    "gp_summary_cols = [\"gp_name\",\n",
    "                   \"n_source_genes\",\n",
    "                   \"n_non_zero_source_genes\",\n",
    "                   \"n_target_genes\",\n",
    "                   \"n_non_zero_target_genes\",\n",
    "                   \"gp_source_genes\",\n",
    "                   \"gp_target_genes\",\n",
    "                   \"gp_source_genes_weights_sign_corrected\",\n",
    "                   \"gp_target_genes_weights_sign_corrected\",\n",
    "                   \"gp_source_genes_importances\",\n",
    "                   \"gp_target_genes_importances\",\n",
    "                   \"n_source_peaks\",\n",
    "                   \"n_target_peaks\",\n",
    "                   \"gp_source_peaks\",\n",
    "                   \"gp_target_peaks\",\n",
    "                   \"gp_source_peaks_weights_sign_corrected\",\n",
    "                   \"gp_target_peaks_weights_sign_corrected\",\n",
    "                   \"gp_source_peaks_importances\",\n",
    "                   \"gp_target_peaks_importances\"]\n",
    "\n",
    "enriched_gp_summary_df = gp_summary_df[gp_summary_df[\"gp_name\"].isin(enriched_gps)]\n",
    "cat_dtype = pd.CategoricalDtype(categories=enriched_gps, ordered=True)\n",
    "enriched_gp_summary_df.loc[:, \"gp_name\"] = enriched_gp_summary_df[\"gp_name\"].astype(cat_dtype)\n",
    "enriched_gp_summary_df = enriched_gp_summary_df.sort_values(by=\"gp_name\")\n",
    "enriched_gp_summary_df = enriched_gp_summary_df[gp_summary_cols]\n",
    "\n",
    "if save_file:\n",
    "    enriched_gp_summary_df.to_csv(f\"{file_path}\")\n",
    "else:\n",
    "    display(enriched_gp_summary_df)"
   ]
  },
  {
   "cell_type": "markdown",
   "id": "46028ecc-7819-45ef-b67b-0ec0dd0ad1e1",
   "metadata": {},
   "source": [
    "### 4.5 Analyze Enriched Gene Programs"
   ]
  },
  {
   "cell_type": "markdown",
   "id": "8b42678c-2618-48d3-b579-6a9988386536",
   "metadata": {},
   "source": [
    "Now we will have a look at the gene program scores as well as the (log normalized) count distributions of\n",
    "the most important omics features of the differentially expressed gene programs."
   ]
  },
  {
   "cell_type": "code",
   "execution_count": null,
   "id": "fe7893d4-decf-4bd4-952d-a81ac4719f18",
   "metadata": {},
   "outputs": [],
   "source": [
    "plot_label = f\"log_bayes_factor_{log_bayes_factor_thresh}_all_niches_vs_rest\"\n",
    "save_figs = True\n",
    "\n",
    "generate_enriched_gp_info_plots(\n",
    "    plot_label=plot_label,\n",
    "    model=model,\n",
    "    sample_key=sample_key,\n",
    "    differential_gp_test_results_key=differential_gp_test_results_key,\n",
    "    cat_key=latent_cluster_key,\n",
    "    cat_palette=latent_cluster_colors,\n",
    "    n_top_enriched_gp_start_idx=0,\n",
    "    n_top_enriched_gp_end_idx=10,\n",
    "    feature_spaces=samples, # [\"latent\"]\n",
    "    n_top_genes_per_gp=5,\n",
    "    #n_top_peaks_per_gp=5,\n",
    "    save_figs=save_figs,\n",
    "    figure_folder_path=f\"{figure_folder_path}/\",\n",
    "    spot_size=spot_size)"
   ]
  },
  {
   "cell_type": "code",
   "execution_count": null,
   "id": "611af888-7608-4e05-beb7-6b1b0c7e5acf",
   "metadata": {},
   "outputs": [],
   "source": [
    "\"TYMP\" in [gene.upper() for gene in model.adata.var_names.tolist()]"
   ]
  },
  {
   "cell_type": "code",
   "execution_count": null,
   "id": "290cdf10-2d64-47f0-a931-149d29a2926e",
   "metadata": {},
   "outputs": [],
   "source": [
    "\"Cda\" in model.adata.var_names."
   ]
  },
  {
   "cell_type": "code",
   "execution_count": null,
   "id": "94781074-84d5-4c4f-b081-55e4763e8d72",
   "metadata": {},
   "outputs": [],
   "source": [
    "mebocost_gp_dict"
   ]
  },
  {
   "cell_type": "code",
   "execution_count": null,
   "id": "c864804f-0196-452a-a8bb-08d2e2ada176",
   "metadata": {},
   "outputs": [],
   "source": [
    "def softmax(z):\n",
    "    # z being a matrix whos rows are the observations, and columns the different input per observation\n",
    "    e = np.exp(z)\n",
    "    s = np.sum(e, axis=1, keepdims=True)\n",
    "    return e/s"
   ]
  },
  {
   "cell_type": "code",
   "execution_count": null,
   "id": "a3f0e3a8-db1d-40fb-a898-b5914eace23c",
   "metadata": {},
   "outputs": [],
   "source": [
    "softmax(np.array([[-5, -2, 0], [1, 3, 0]]))"
   ]
  },
  {
   "cell_type": "code",
   "execution_count": null,
   "id": "2170a134-fcb9-4d87-9db8-d9debe94e719",
   "metadata": {},
   "outputs": [],
   "source": [
    "0 * -np.inf"
   ]
  },
  {
   "cell_type": "code",
   "execution_count": null,
   "id": "41f2bdd3-a0d0-4e4b-ad61-e274e89ef9e0",
   "metadata": {},
   "outputs": [],
   "source": [
    "def compute_cosine_similarity(tensor1: torch.Tensor,\n",
    "                              tensor2: torch.Tensor,\n",
    "                              eps: float=1e-8) -> torch.Tensor:\n",
    "    \"\"\"\n",
    "    Compute the element-wise cosine similarity between two 2D tensors.\n",
    "\n",
    "    Parameters\n",
    "    ----------\n",
    "    tensor1:\n",
    "        First tensor for element-wise cosine similarity computation (dim: n_obs\n",
    "        x n_features).\n",
    "    tensor2:\n",
    "        Second tensor for element-wise cosine similarity computation (dim: n_obs\n",
    "        x n_features).\n",
    "    \n",
    "    Returns\n",
    "    ----------\n",
    "    cosine_sim:\n",
    "        Result tensor that contains the computed element-wise cosine\n",
    "        similarities (dim: n_obs).\n",
    "    \"\"\"\n",
    "    tensor1_norm = tensor1.norm(dim=1)[:, None]\n",
    "    tensor2_norm = tensor2.norm(dim=1)[:, None]\n",
    "    tensor1_normalized = tensor1 / torch.max(\n",
    "            tensor1_norm, eps * torch.ones_like(tensor1_norm))\n",
    "    tensor2_normalized = tensor2 / torch.max(\n",
    "            tensor2_norm, eps * torch.ones_like(tensor2_norm))\n",
    "    cosine_sim = torch.mul(tensor1_normalized, tensor2_normalized).sum(1)\n",
    "    return cosine_sim"
   ]
  },
  {
   "cell_type": "code",
   "execution_count": null,
   "id": "f74bdca2-9c3b-49d2-9390-a6f735b3dfd6",
   "metadata": {},
   "outputs": [],
   "source": []
  },
  {
   "cell_type": "code",
   "execution_count": null,
   "id": "bad56672-4533-4b0c-a9aa-ff66baf69136",
   "metadata": {},
   "outputs": [],
   "source": [
    "compute_cosine_similarity(torch.tensor(([0., 0.5], [0, 0.5])), torch.tensor(([0., 0.5], [0.5, 0])))"
   ]
  },
  {
   "cell_type": "code",
   "execution_count": null,
   "id": "a9271dca-1977-47f2-badd-1ae20d1edec4",
   "metadata": {},
   "outputs": [],
   "source": [
    "                        gp_weights = model.model.get_gp_weights(\n",
    "                            only_masked_features=False)[0]"
   ]
  },
  {
   "cell_type": "code",
   "execution_count": null,
   "id": "9a925cde-dd89-4124-8ceb-71ab0d396791",
   "metadata": {},
   "outputs": [],
   "source": [
    "gp_weights.sum(1).shape"
   ]
  },
  {
   "cell_type": "code",
   "execution_count": null,
   "id": "2d3cd8fa-757e-4659-bdbd-f89befd198d1",
   "metadata": {},
   "outputs": [],
   "source": []
  }
 ],
 "metadata": {
  "kernelspec": {
   "display_name": "Python 3 (ipykernel)",
   "language": "python",
   "name": "python3"
  },
  "language_info": {
   "codemirror_mode": {
    "name": "ipython",
    "version": 3
   },
   "file_extension": ".py",
   "mimetype": "text/x-python",
   "name": "python",
   "nbconvert_exporter": "python",
   "pygments_lexer": "ipython3",
   "version": "3.9.18"
  }
 },
 "nbformat": 4,
 "nbformat_minor": 5
}
