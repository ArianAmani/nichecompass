{
 "cells": [
  {
   "cell_type": "code",
   "execution_count": 44,
   "id": "4e5d3297-0290-47c0-846f-705e74cdb3de",
   "metadata": {},
   "outputs": [
    {
     "name": "stdout",
     "output_type": "stream",
     "text": [
      "The autoreload extension is already loaded. To reload it, use:\n",
      "  %reload_ext autoreload\n"
     ]
    }
   ],
   "source": [
    "%load_ext autoreload\n",
    "%autoreload 2"
   ]
  },
  {
   "cell_type": "code",
   "execution_count": 45,
   "id": "b4aa3c6a-5a44-4cf1-84a3-5e514457cf3c",
   "metadata": {},
   "outputs": [],
   "source": [
    "import argparse\n",
    "import os\n",
    "import sys\n",
    "\n",
    "import mlflow\n",
    "import numpy as np\n",
    "import scanpy as sc\n",
    "import squidpy as sq\n",
    "\n",
    "from autotalker.data import download_nichenet_ligand_target_mx\n",
    "from autotalker.data import load_spatial_adata_from_csv\n",
    "from autotalker.models import Autotalker"
   ]
  },
  {
   "cell_type": "code",
   "execution_count": 55,
   "id": "a4d4e6d9-239f-47c5-a30b-579b16d4c27c",
   "metadata": {},
   "outputs": [],
   "source": [
    "dataset = \"deeplinc_seqfish\"\n",
    "n_epochs = 100\n",
    "lr = 0.01\n",
    "batch_size = 64\n",
    "n_hidden = 32\n",
    "n_latent = 16\n",
    "dropout_rate = 0."
   ]
  },
  {
   "cell_type": "code",
   "execution_count": 56,
   "id": "726a55a8-65b2-49a2-b4f0-23cd69dc7954",
   "metadata": {},
   "outputs": [
    {
     "name": "stdout",
     "output_type": "stream",
     "text": [
      "Using dataset deeplinc_seqfish.\n"
     ]
    }
   ],
   "source": [
    "print(f\"Using dataset {dataset}.\")\n",
    "\n",
    "if dataset == \"deeplinc_seqfish\":\n",
    "    adata = load_spatial_adata_from_csv(\"datasets/seqFISH/counts.csv\",\n",
    "                                        \"datasets/seqFISH/adj.csv\")\n",
    "    cell_type_key = None\n",
    "elif dataset == \"squidpy_seqfish\":\n",
    "    adata = sq.datasets.seqfish()\n",
    "    sq.gr.spatial_neighbors(adata, radius = 0.04, coord_type=\"generic\")\n",
    "    cell_type_key = \"celltype_mapped_refined\"\n",
    "elif dataset == \"squidpy_slideseqv2\":\n",
    "    adata = sq.datasets.slideseqv2()\n",
    "    sq.gr.spatial_neighbors(adata, radius = 30.0, coord_type=\"generic\")\n",
    "    cell_type_key = \"celltype_mapped_refined\""
   ]
  },
  {
   "cell_type": "code",
   "execution_count": 57,
   "id": "d64513a5-d4f0-4ae2-927e-948c59bc8666",
   "metadata": {},
   "outputs": [
    {
     "name": "stdout",
     "output_type": "stream",
     "text": [
      "Number of nodes: 1597\n",
      "Number of node features: 125\n",
      "Average number of edges per node: 3.59\n",
      "Number of edges: 2863\n"
     ]
    }
   ],
   "source": [
    "print(f\"Number of nodes: {adata.X.shape[0]}\")\n",
    "print(f\"Number of node features: {adata.X.shape[1]}\")\n",
    "avg_edges_per_node = round(\n",
    "    adata.obsp['spatial_connectivities'].toarray().sum(axis=0).mean(),2)\n",
    "print(f\"Average number of edges per node: {avg_edges_per_node}\")\n",
    "n_edges = int(np.triu(adata.obsp['spatial_connectivities'].toarray()).sum())\n",
    "print(f\"Number of edges: {n_edges}\", sep=\"\")"
   ]
  },
  {
   "cell_type": "code",
   "execution_count": 58,
   "id": "62b39d67-fa3d-49ff-9f24-213169a64eed",
   "metadata": {},
   "outputs": [],
   "source": [
    "os.makedirs(\"mlruns\", exist_ok=True)"
   ]
  },
  {
   "cell_type": "code",
   "execution_count": 59,
   "id": "0145cc84-0dae-4b94-831c-3637d9d0fcff",
   "metadata": {},
   "outputs": [],
   "source": [
    "experiment = mlflow.set_experiment(\"autotalker\")\n",
    "mlflow.log_param(\"dataset\", dataset)"
   ]
  },
  {
   "cell_type": "code",
   "execution_count": 100,
   "id": "06530d4e-020b-4fdc-89cb-e16daa410205",
   "metadata": {},
   "outputs": [],
   "source": [
    "# Mask that allows all genes\n",
    "mask = np.ones((n_latent, len(adata.var)))"
   ]
  },
  {
   "cell_type": "code",
   "execution_count": 175,
   "id": "5431a94f-3159-4556-98d5-551a490f161f",
   "metadata": {},
   "outputs": [
    {
     "name": "stdout",
     "output_type": "stream",
     "text": [
      "GCN ENCODER - n_input: 125, n_hidden: 32, n_latent: 16, dropout_rate: 0.0\n",
      "DOT PRODUCT GRAPH DECODER - dropout_rate: 0.0\n"
     ]
    }
   ],
   "source": [
    "model = Autotalker(adata,\n",
    "                   mask=mask,\n",
    "                   n_hidden=n_hidden,\n",
    "                   n_latent=n_latent,\n",
    "                   dropout_rate=dropout_rate,\n",
    "                   expr_decoder_recon_loss=\"nb\")"
   ]
  },
  {
   "cell_type": "code",
   "execution_count": 176,
   "id": "0fa100cc-c398-4ed9-a72f-a42af0d8c16d",
   "metadata": {},
   "outputs": [
    {
     "name": "stdout",
     "output_type": "stream",
     "text": [
      " |--------------------| 1.0%  - train_loss: 20880.9124620226 - valid_loss: 14181.0648437500 - valid_auroc_score: 0.7956805556 - valid_auprc_score: 0.7953015038 - valid_best_acc_score: 0.7635416667 - valid_best_f1_score: 0.7730786298Epoch end\n",
      " |--------------------| 2.0%  - train_loss: 11664.4994845920 - valid_loss: 14471.9451171875 - valid_auroc_score: 0.7755221354 - valid_auprc_score: 0.7844248110 - valid_best_acc_score: 0.7519791667 - valid_best_f1_score: 0.7529797299Epoch end\n",
      " |--------------------| 3.0%  - train_loss: 10990.0022243924 - valid_loss: 13427.9757812500 - valid_auroc_score: 0.8173311632 - valid_auprc_score: 0.8315675957 - valid_best_acc_score: 0.7656250000 - valid_best_f1_score: 0.7752359777Epoch end\n",
      " |--------------------| 4.0%  - train_loss: 10885.8208550347 - valid_loss: 13328.2892578125 - valid_auroc_score: 0.8271914063 - valid_auprc_score: 0.8317945435 - valid_best_acc_score: 0.7783333333 - valid_best_f1_score: 0.7862516890Epoch end\n",
      " |█-------------------| 5.0%  - train_loss: 10666.1672770182 - valid_loss: 13841.2777343750 - valid_auroc_score: 0.8028281250 - valid_auprc_score: 0.8328572986 - valid_best_acc_score: 0.7558333333 - valid_best_f1_score: 0.7617930728Epoch end\n",
      " |█-------------------| 6.0%  - train_loss: 10760.1367730035 - valid_loss: 13651.7498046875 - valid_auroc_score: 0.8299457465 - valid_auprc_score: 0.8315144442 - valid_best_acc_score: 0.7890625000 - valid_best_f1_score: 0.7947414324Epoch end\n",
      " |█-------------------| 7.0%  - train_loss: 10684.3202311198 - valid_loss: 12938.1302734375 - valid_auroc_score: 0.8463791233 - valid_auprc_score: 0.8512697468 - valid_best_acc_score: 0.8057291667 - valid_best_f1_score: 0.8053055887Epoch end\n",
      " |█-------------------| 8.0%  - train_loss: 10533.5930989583 - valid_loss: 12934.7781250000 - valid_auroc_score: 0.8439288194 - valid_auprc_score: 0.8423792167 - valid_best_acc_score: 0.7801041667 - valid_best_f1_score: 0.7972548046Epoch end\n",
      " |█-------------------| 9.0%  - train_loss: 10120.1767849392 - valid_loss: 13040.1517578125 - valid_auroc_score: 0.8369691840 - valid_auprc_score: 0.8568475476 - valid_best_acc_score: 0.8037500000 - valid_best_f1_score: 0.7953107523Epoch end\n",
      " |██------------------| 10.0%  - train_loss: 10462.5271538628 - valid_loss: 13442.6851562500 - valid_auroc_score: 0.8341189236 - valid_auprc_score: 0.8474254632 - valid_best_acc_score: 0.7886458333 - valid_best_f1_score: 0.7863488463Epoch end\n",
      " |██------------------| 11.0%  - train_loss: 10756.9171278212 - valid_loss: 13744.8634765625 - valid_auroc_score: 0.8462725694 - valid_auprc_score: 0.8557963802 - valid_best_acc_score: 0.7990625000 - valid_best_f1_score: 0.7993537678Epoch end\n",
      " |██------------------| 12.0%  - train_loss: 10543.6680230035 - valid_loss: 12437.8345703125 - valid_auroc_score: 0.8646399740 - valid_auprc_score: 0.8759194088 - valid_best_acc_score: 0.8295833333 - valid_best_f1_score: 0.8285715264Epoch end\n",
      " |██------------------| 13.0%  - train_loss: 10348.2010362413 - valid_loss: 12713.1216796875 - valid_auroc_score: 0.8571124132 - valid_auprc_score: 0.8659377109 - valid_best_acc_score: 0.7975000000 - valid_best_f1_score: 0.7992398786Epoch end\n",
      " |██------------------| 14.0%  - train_loss: 10512.2821180556 - valid_loss: 12404.3607421875 - valid_auroc_score: 0.8547797309 - valid_auprc_score: 0.8693978802 - valid_best_acc_score: 0.8200000000 - valid_best_f1_score: 0.8164493132Epoch end\n",
      " |███-----------------| 15.0%  - train_loss: 10320.9088541667 - valid_loss: 13119.5191406250 - valid_auroc_score: 0.8353250868 - valid_auprc_score: 0.8447070802 - valid_best_acc_score: 0.7930208333 - valid_best_f1_score: 0.7872016152Epoch end\n",
      " |███-----------------| 16.0%  - train_loss: 10112.0170220269 - valid_loss: 12713.9757812500 - valid_auroc_score: 0.8527098524 - valid_auprc_score: 0.8581903393 - valid_best_acc_score: 0.8102083333 - valid_best_f1_score: 0.8054103277Epoch end\n",
      " |███-----------------| 17.0%  - train_loss: 10223.1180013021 - valid_loss: 11891.0162109375 - valid_auroc_score: 0.8563780382 - valid_auprc_score: 0.8536462266 - valid_best_acc_score: 0.8119791667 - valid_best_f1_score: 0.8166358060Epoch end\n",
      " |███-----------------| 18.0%  - train_loss: 10197.8037245009 - valid_loss: 12609.0330078125 - valid_auroc_score: 0.8541319444 - valid_auprc_score: 0.8594792326 - valid_best_acc_score: 0.7992708333 - valid_best_f1_score: 0.8031356565Epoch end\n",
      " |███-----------------| 19.0%  - train_loss: 10430.8184678819 - valid_loss: 12369.9970703125 - valid_auroc_score: 0.8677849392 - valid_auprc_score: 0.8772811350 - valid_best_acc_score: 0.8182291667 - valid_best_f1_score: 0.8181400573Epoch end\n",
      " |████----------------| 20.0%  - train_loss: 10413.5977376302 - valid_loss: 12745.0095703125 - valid_auroc_score: 0.8450718316 - valid_auprc_score: 0.8564994596 - valid_best_acc_score: 0.7930208333 - valid_best_f1_score: 0.7989836590Epoch end\n",
      " |████----------------| 21.0%  - train_loss: 10575.4409179688 - valid_loss: 13103.6486328125 - valid_auroc_score: 0.8386065538 - valid_auprc_score: 0.8416926392 - valid_best_acc_score: 0.7861458333 - valid_best_f1_score: 0.7913160719Epoch end\n",
      " |████----------------| 22.0%  - train_loss: 10141.4440104167 - valid_loss: 13323.8056640625 - valid_auroc_score: 0.8313218316 - valid_auprc_score: 0.8443689733 - valid_best_acc_score: 0.7826041667 - valid_best_f1_score: 0.7828353468Epoch end\n",
      " |████----------------| 23.0%  - train_loss: 10113.7925618490 - valid_loss: 12596.8433593750 - valid_auroc_score: 0.8743587240 - valid_auprc_score: 0.8511153368 - valid_best_acc_score: 0.8291666667 - valid_best_f1_score: 0.8322940771Epoch end\n",
      " |████----------------| 24.0%  - train_loss: 10197.8071560330 - valid_loss: 12433.2029296875 - valid_auroc_score: 0.8731909722 - valid_auprc_score: 0.8573377125 - valid_best_acc_score: 0.8264583333 - valid_best_f1_score: 0.8246743039Epoch end\n",
      " |█████---------------| 25.0%  - train_loss: 10296.5228135851 - valid_loss: 12285.4761718750 - valid_auroc_score: 0.8783548177 - valid_auprc_score: 0.8744999051 - valid_best_acc_score: 0.8338541667 - valid_best_f1_score: 0.8309660228Epoch end\n",
      " |█████---------------| 26.0%  - train_loss: 10274.4599066840 - valid_loss: 13014.9056640625 - valid_auroc_score: 0.8345776910 - valid_auprc_score: 0.8481865048 - valid_best_acc_score: 0.8010416667 - valid_best_f1_score: 0.8047324768Epoch end\n",
      " |█████---------------| 27.0%  - train_loss: 10268.2745768229 - valid_loss: 12777.8111328125 - valid_auroc_score: 0.8503411458 - valid_auprc_score: 0.8443950070 - valid_best_acc_score: 0.8162500000 - valid_best_f1_score: 0.8121813079Epoch end\n",
      " |█████---------------| 28.0%  - train_loss: 10511.5807291667 - valid_loss: 12384.5312500000 - valid_auroc_score: 0.8827215712 - valid_auprc_score: 0.8793481970 - valid_best_acc_score: 0.8405208333 - valid_best_f1_score: 0.8377261505Epoch end\n",
      " |█████---------------| 29.0%  - train_loss: 10346.0681694878 - valid_loss: 12001.8572265625 - valid_auroc_score: 0.8773563368 - valid_auprc_score: 0.8888377341 - valid_best_acc_score: 0.8338541667 - valid_best_f1_score: 0.8388385553Epoch end\n",
      " |██████--------------| 30.0%  - train_loss: 10387.1105685764 - valid_loss: 12739.3021484375 - valid_auroc_score: 0.8696215278 - valid_auprc_score: 0.8637689772 - valid_best_acc_score: 0.8295833333 - valid_best_f1_score: 0.8330336512Epoch end\n",
      " |██████--------------| 31.0%  - train_loss: 10530.2586534288 - valid_loss: 12176.8753906250 - valid_auroc_score: 0.8766089410 - valid_auprc_score: 0.8776926359 - valid_best_acc_score: 0.8182291667 - valid_best_f1_score: 0.8228813133Epoch end\n",
      "\n",
      "Reducing learning rate...\n",
      " |██████--------------| 32.0%  - train_loss: 9995.1869303385 - valid_loss: 12969.1001953125 - valid_auroc_score: 0.8565746528 - valid_auprc_score: 0.8662438048 - valid_best_acc_score: 0.8111458333 - valid_best_f1_score: 0.8146511019Epoch end\n",
      " |██████--------------| 33.0%  - train_loss: 9918.1015896267 - valid_loss: 12260.9197265625 - valid_auroc_score: 0.8780347222 - valid_auprc_score: 0.8775430387 - valid_best_acc_score: 0.8225000000 - valid_best_f1_score: 0.8298107433Epoch end\n",
      "\n",
      "Stopping early: metric has not improved more than 0 in the last 15 epochs\n",
      "If the early stopping criterion is too strong, please instantiate it with different parameters in the train method.\n",
      "Saving best state of the network...\n",
      "Best state was in epoch 16\n",
      "Model training finished...\n",
      "Average test AUROC score: 1.1286119249131945\n",
      "Average test AUPRC score: 1.122486519260846\n",
      "Average test best acc score: 1.0567708333333332\n",
      "Average test best f1 score: 1.0569997747417637\n"
     ]
    }
   ],
   "source": [
    "model.train(n_epochs=n_epochs,\n",
    "            lr=lr,\n",
    "            batch_size=batch_size,\n",
    "            mlflow_experiment_id=experiment.experiment_id)"
   ]
  },
  {
   "cell_type": "code",
   "execution_count": null,
   "id": "c1499445-5ec0-4c1b-b08b-40c94ace8894",
   "metadata": {},
   "outputs": [],
   "source": [
    "model.save(dir_path=\"./model_artefacts\",\n",
    "           overwrite=True,\n",
    "           save_adata=True,\n",
    "           adata_file_name=\"adata.h5ad\")"
   ]
  },
  {
   "cell_type": "code",
   "execution_count": null,
   "id": "c68cc58d-54c7-4f7b-8420-1064f7c288fd",
   "metadata": {},
   "outputs": [],
   "source": [
    "model = Autotalker.load(dir_path=\"./model_artefacts\",\n",
    "                        adata=None,\n",
    "                        adata_file_name=\"adata.h5ad\",\n",
    "                        use_cuda=True)"
   ]
  },
  {
   "cell_type": "code",
   "execution_count": 177,
   "id": "59fe5d54-2260-44ad-a024-3e9c420453ba",
   "metadata": {},
   "outputs": [],
   "source": [
    "latent = model.get_latent_representation()"
   ]
  },
  {
   "cell_type": "code",
   "execution_count": 178,
   "id": "3b1bf9d5-90de-4898-96b7-697e1c3de254",
   "metadata": {},
   "outputs": [],
   "source": [
    "latent_new_data = model.get_latent_representation(adata)"
   ]
  },
  {
   "cell_type": "code",
   "execution_count": 179,
   "id": "c4ed32da-ccc5-49af-a815-239791ad2d26",
   "metadata": {},
   "outputs": [],
   "source": [
    "adata.obsm[\"latent_autotalker\"] = latent_new_data"
   ]
  },
  {
   "cell_type": "markdown",
   "id": "6c85936c-e256-4325-b056-a27cb8ba3478",
   "metadata": {},
   "source": [
    "## Interoperability with scanpy"
   ]
  },
  {
   "cell_type": "code",
   "execution_count": 180,
   "id": "dd90a8c5-9248-469e-ba7c-3f8f17add24c",
   "metadata": {},
   "outputs": [
    {
     "ename": "KeyError",
     "evalue": "'Could not find key celltype_mapped_refined in .var_names or .obs.columns.'",
     "output_type": "error",
     "traceback": [
      "\u001b[0;31m---------------------------------------------------------------------------\u001b[0m",
      "\u001b[0;31mKeyError\u001b[0m                                  Traceback (most recent call last)",
      "Input \u001b[0;32mIn [180]\u001b[0m, in \u001b[0;36m<cell line: 4>\u001b[0;34m()\u001b[0m\n\u001b[1;32m      2\u001b[0m sc\u001b[38;5;241m.\u001b[39mpp\u001b[38;5;241m.\u001b[39mneighbors(adata, use_rep\u001b[38;5;241m=\u001b[39m\u001b[38;5;124m\"\u001b[39m\u001b[38;5;124mlatent_autotalker\u001b[39m\u001b[38;5;124m\"\u001b[39m)\n\u001b[1;32m      3\u001b[0m sc\u001b[38;5;241m.\u001b[39mtl\u001b[38;5;241m.\u001b[39mumap(adata, min_dist\u001b[38;5;241m=\u001b[39m\u001b[38;5;241m0.3\u001b[39m)\n\u001b[0;32m----> 4\u001b[0m \u001b[43msc\u001b[49m\u001b[38;5;241;43m.\u001b[39;49m\u001b[43mpl\u001b[49m\u001b[38;5;241;43m.\u001b[39;49m\u001b[43mumap\u001b[49m\u001b[43m(\u001b[49m\u001b[43madata\u001b[49m\u001b[43m,\u001b[49m\u001b[43m \u001b[49m\u001b[43mcolor\u001b[49m\u001b[38;5;241;43m=\u001b[39;49m\u001b[43m[\u001b[49m\u001b[38;5;124;43m\"\u001b[39;49m\u001b[38;5;124;43mcelltype_mapped_refined\u001b[39;49m\u001b[38;5;124;43m\"\u001b[39;49m\u001b[43m]\u001b[49m\u001b[43m,\u001b[49m\u001b[43m \u001b[49m\u001b[43mframeon\u001b[49m\u001b[38;5;241;43m=\u001b[39;49m\u001b[38;5;28;43;01mFalse\u001b[39;49;00m\u001b[43m,\u001b[49m\u001b[43m)\u001b[49m\n",
      "File \u001b[0;32m~/opt/anaconda3/envs/autotalkercpu/lib/python3.9/site-packages/scanpy/plotting/_tools/scatterplots.py:669\u001b[0m, in \u001b[0;36mumap\u001b[0;34m(adata, **kwargs)\u001b[0m\n\u001b[1;32m    610\u001b[0m \u001b[38;5;129m@_wraps_plot_scatter\u001b[39m\n\u001b[1;32m    611\u001b[0m \u001b[38;5;129m@_doc_params\u001b[39m(\n\u001b[1;32m    612\u001b[0m     adata_color_etc\u001b[38;5;241m=\u001b[39mdoc_adata_color_etc,\n\u001b[0;32m   (...)\u001b[0m\n\u001b[1;32m    616\u001b[0m )\n\u001b[1;32m    617\u001b[0m \u001b[38;5;28;01mdef\u001b[39;00m \u001b[38;5;21mumap\u001b[39m(adata, \u001b[38;5;241m*\u001b[39m\u001b[38;5;241m*\u001b[39mkwargs) \u001b[38;5;241m-\u001b[39m\u001b[38;5;241m>\u001b[39m Union[Axes, List[Axes], \u001b[38;5;28;01mNone\u001b[39;00m]:\n\u001b[1;32m    618\u001b[0m     \u001b[38;5;124;03m\"\"\"\\\u001b[39;00m\n\u001b[1;32m    619\u001b[0m \u001b[38;5;124;03m    Scatter plot in UMAP basis.\u001b[39;00m\n\u001b[1;32m    620\u001b[0m \n\u001b[0;32m   (...)\u001b[0m\n\u001b[1;32m    667\u001b[0m \u001b[38;5;124;03m    tl.umap\u001b[39;00m\n\u001b[1;32m    668\u001b[0m \u001b[38;5;124;03m    \"\"\"\u001b[39;00m\n\u001b[0;32m--> 669\u001b[0m     \u001b[38;5;28;01mreturn\u001b[39;00m \u001b[43membedding\u001b[49m\u001b[43m(\u001b[49m\u001b[43madata\u001b[49m\u001b[43m,\u001b[49m\u001b[43m \u001b[49m\u001b[38;5;124;43m'\u001b[39;49m\u001b[38;5;124;43mumap\u001b[39;49m\u001b[38;5;124;43m'\u001b[39;49m\u001b[43m,\u001b[49m\u001b[43m \u001b[49m\u001b[38;5;241;43m*\u001b[39;49m\u001b[38;5;241;43m*\u001b[39;49m\u001b[43mkwargs\u001b[49m\u001b[43m)\u001b[49m\n",
      "File \u001b[0;32m~/opt/anaconda3/envs/autotalkercpu/lib/python3.9/site-packages/scanpy/plotting/_tools/scatterplots.py:257\u001b[0m, in \u001b[0;36membedding\u001b[0;34m(adata, basis, color, gene_symbols, use_raw, sort_order, edges, edges_width, edges_color, neighbors_key, arrows, arrows_kwds, groups, components, dimensions, layer, projection, scale_factor, color_map, cmap, palette, na_color, na_in_legend, size, frameon, legend_fontsize, legend_fontweight, legend_loc, legend_fontoutline, colorbar_loc, vmax, vmin, vcenter, norm, add_outline, outline_width, outline_color, ncols, hspace, wspace, title, show, save, ax, return_fig, **kwargs)\u001b[0m\n\u001b[1;32m    250\u001b[0m \u001b[38;5;66;03m# use itertools.product to make a plot for each color and for each component\u001b[39;00m\n\u001b[1;32m    251\u001b[0m \u001b[38;5;66;03m# For example if color=[gene1, gene2] and components=['1,2, '2,3'].\u001b[39;00m\n\u001b[1;32m    252\u001b[0m \u001b[38;5;66;03m# The plots are: [\u001b[39;00m\n\u001b[1;32m    253\u001b[0m \u001b[38;5;66;03m#     color=gene1, components=[1,2], color=gene1, components=[2,3],\u001b[39;00m\n\u001b[1;32m    254\u001b[0m \u001b[38;5;66;03m#     color=gene2, components = [1, 2], color=gene2, components=[2,3],\u001b[39;00m\n\u001b[1;32m    255\u001b[0m \u001b[38;5;66;03m# ]\u001b[39;00m\n\u001b[1;32m    256\u001b[0m \u001b[38;5;28;01mfor\u001b[39;00m count, (value_to_plot, dims) \u001b[38;5;129;01min\u001b[39;00m \u001b[38;5;28menumerate\u001b[39m(\u001b[38;5;28mzip\u001b[39m(color, dimensions)):\n\u001b[0;32m--> 257\u001b[0m     color_source_vector \u001b[38;5;241m=\u001b[39m \u001b[43m_get_color_source_vector\u001b[49m\u001b[43m(\u001b[49m\n\u001b[1;32m    258\u001b[0m \u001b[43m        \u001b[49m\u001b[43madata\u001b[49m\u001b[43m,\u001b[49m\n\u001b[1;32m    259\u001b[0m \u001b[43m        \u001b[49m\u001b[43mvalue_to_plot\u001b[49m\u001b[43m,\u001b[49m\n\u001b[1;32m    260\u001b[0m \u001b[43m        \u001b[49m\u001b[43mlayer\u001b[49m\u001b[38;5;241;43m=\u001b[39;49m\u001b[43mlayer\u001b[49m\u001b[43m,\u001b[49m\n\u001b[1;32m    261\u001b[0m \u001b[43m        \u001b[49m\u001b[43muse_raw\u001b[49m\u001b[38;5;241;43m=\u001b[39;49m\u001b[43muse_raw\u001b[49m\u001b[43m,\u001b[49m\n\u001b[1;32m    262\u001b[0m \u001b[43m        \u001b[49m\u001b[43mgene_symbols\u001b[49m\u001b[38;5;241;43m=\u001b[39;49m\u001b[43mgene_symbols\u001b[49m\u001b[43m,\u001b[49m\n\u001b[1;32m    263\u001b[0m \u001b[43m        \u001b[49m\u001b[43mgroups\u001b[49m\u001b[38;5;241;43m=\u001b[39;49m\u001b[43mgroups\u001b[49m\u001b[43m,\u001b[49m\n\u001b[1;32m    264\u001b[0m \u001b[43m    \u001b[49m\u001b[43m)\u001b[49m\n\u001b[1;32m    265\u001b[0m     color_vector, categorical \u001b[38;5;241m=\u001b[39m _color_vector(\n\u001b[1;32m    266\u001b[0m         adata,\n\u001b[1;32m    267\u001b[0m         value_to_plot,\n\u001b[0;32m   (...)\u001b[0m\n\u001b[1;32m    270\u001b[0m         na_color\u001b[38;5;241m=\u001b[39mna_color,\n\u001b[1;32m    271\u001b[0m     )\n\u001b[1;32m    273\u001b[0m     \u001b[38;5;66;03m# Order points\u001b[39;00m\n",
      "File \u001b[0;32m~/opt/anaconda3/envs/autotalkercpu/lib/python3.9/site-packages/scanpy/plotting/_tools/scatterplots.py:1169\u001b[0m, in \u001b[0;36m_get_color_source_vector\u001b[0;34m(adata, value_to_plot, use_raw, gene_symbols, layer, groups)\u001b[0m\n\u001b[1;32m   1167\u001b[0m     values \u001b[38;5;241m=\u001b[39m adata\u001b[38;5;241m.\u001b[39mraw\u001b[38;5;241m.\u001b[39mobs_vector(value_to_plot)\n\u001b[1;32m   1168\u001b[0m \u001b[38;5;28;01melse\u001b[39;00m:\n\u001b[0;32m-> 1169\u001b[0m     values \u001b[38;5;241m=\u001b[39m \u001b[43madata\u001b[49m\u001b[38;5;241;43m.\u001b[39;49m\u001b[43mobs_vector\u001b[49m\u001b[43m(\u001b[49m\u001b[43mvalue_to_plot\u001b[49m\u001b[43m,\u001b[49m\u001b[43m \u001b[49m\u001b[43mlayer\u001b[49m\u001b[38;5;241;43m=\u001b[39;49m\u001b[43mlayer\u001b[49m\u001b[43m)\u001b[49m\n\u001b[1;32m   1170\u001b[0m \u001b[38;5;28;01mif\u001b[39;00m groups \u001b[38;5;129;01mand\u001b[39;00m is_categorical_dtype(values):\n\u001b[1;32m   1171\u001b[0m     values \u001b[38;5;241m=\u001b[39m values\u001b[38;5;241m.\u001b[39mreplace(values\u001b[38;5;241m.\u001b[39mcategories\u001b[38;5;241m.\u001b[39mdifference(groups), np\u001b[38;5;241m.\u001b[39mnan)\n",
      "File \u001b[0;32m~/opt/anaconda3/envs/autotalkercpu/lib/python3.9/site-packages/anndata/_core/anndata.py:1397\u001b[0m, in \u001b[0;36mAnnData.obs_vector\u001b[0;34m(self, k, layer)\u001b[0m\n\u001b[1;32m   1391\u001b[0m         warnings\u001b[38;5;241m.\u001b[39mwarn(\n\u001b[1;32m   1392\u001b[0m             \u001b[38;5;124m\"\u001b[39m\u001b[38;5;124mIn a future version of AnnData, access to `.X` by passing\u001b[39m\u001b[38;5;124m\"\u001b[39m\n\u001b[1;32m   1393\u001b[0m             \u001b[38;5;124m\"\u001b[39m\u001b[38;5;124m `layer=\u001b[39m\u001b[38;5;124m'\u001b[39m\u001b[38;5;124mX\u001b[39m\u001b[38;5;124m'\u001b[39m\u001b[38;5;124m` will be removed. Instead pass `layer=None`.\u001b[39m\u001b[38;5;124m\"\u001b[39m,\n\u001b[1;32m   1394\u001b[0m             \u001b[38;5;167;01mFutureWarning\u001b[39;00m,\n\u001b[1;32m   1395\u001b[0m         )\n\u001b[1;32m   1396\u001b[0m         layer \u001b[38;5;241m=\u001b[39m \u001b[38;5;28;01mNone\u001b[39;00m\n\u001b[0;32m-> 1397\u001b[0m \u001b[38;5;28;01mreturn\u001b[39;00m \u001b[43mget_vector\u001b[49m\u001b[43m(\u001b[49m\u001b[38;5;28;43mself\u001b[39;49m\u001b[43m,\u001b[49m\u001b[43m \u001b[49m\u001b[43mk\u001b[49m\u001b[43m,\u001b[49m\u001b[43m \u001b[49m\u001b[38;5;124;43m\"\u001b[39;49m\u001b[38;5;124;43mobs\u001b[39;49m\u001b[38;5;124;43m\"\u001b[39;49m\u001b[43m,\u001b[49m\u001b[43m \u001b[49m\u001b[38;5;124;43m\"\u001b[39;49m\u001b[38;5;124;43mvar\u001b[39;49m\u001b[38;5;124;43m\"\u001b[39;49m\u001b[43m,\u001b[49m\u001b[43m \u001b[49m\u001b[43mlayer\u001b[49m\u001b[38;5;241;43m=\u001b[39;49m\u001b[43mlayer\u001b[49m\u001b[43m)\u001b[49m\n",
      "File \u001b[0;32m~/opt/anaconda3/envs/autotalkercpu/lib/python3.9/site-packages/anndata/_core/index.py:179\u001b[0m, in \u001b[0;36mget_vector\u001b[0;34m(adata, k, coldim, idxdim, layer)\u001b[0m\n\u001b[1;32m    175\u001b[0m     \u001b[38;5;28;01mraise\u001b[39;00m \u001b[38;5;167;01mValueError\u001b[39;00m(\n\u001b[1;32m    176\u001b[0m         \u001b[38;5;124mf\u001b[39m\u001b[38;5;124m\"\u001b[39m\u001b[38;5;124mKey \u001b[39m\u001b[38;5;132;01m{\u001b[39;00mk\u001b[38;5;132;01m}\u001b[39;00m\u001b[38;5;124m could be found in both .\u001b[39m\u001b[38;5;132;01m{\u001b[39;00midxdim\u001b[38;5;132;01m}\u001b[39;00m\u001b[38;5;124m_names and .\u001b[39m\u001b[38;5;132;01m{\u001b[39;00mcoldim\u001b[38;5;132;01m}\u001b[39;00m\u001b[38;5;124m.columns\u001b[39m\u001b[38;5;124m\"\u001b[39m\n\u001b[1;32m    177\u001b[0m     )\n\u001b[1;32m    178\u001b[0m \u001b[38;5;28;01melif\u001b[39;00m (in_col \u001b[38;5;241m+\u001b[39m in_idx) \u001b[38;5;241m==\u001b[39m \u001b[38;5;241m0\u001b[39m:\n\u001b[0;32m--> 179\u001b[0m     \u001b[38;5;28;01mraise\u001b[39;00m \u001b[38;5;167;01mKeyError\u001b[39;00m(\n\u001b[1;32m    180\u001b[0m         \u001b[38;5;124mf\u001b[39m\u001b[38;5;124m\"\u001b[39m\u001b[38;5;124mCould not find key \u001b[39m\u001b[38;5;132;01m{\u001b[39;00mk\u001b[38;5;132;01m}\u001b[39;00m\u001b[38;5;124m in .\u001b[39m\u001b[38;5;132;01m{\u001b[39;00midxdim\u001b[38;5;132;01m}\u001b[39;00m\u001b[38;5;124m_names or .\u001b[39m\u001b[38;5;132;01m{\u001b[39;00mcoldim\u001b[38;5;132;01m}\u001b[39;00m\u001b[38;5;124m.columns.\u001b[39m\u001b[38;5;124m\"\u001b[39m\n\u001b[1;32m    181\u001b[0m     )\n\u001b[1;32m    182\u001b[0m \u001b[38;5;28;01melif\u001b[39;00m in_col:\n\u001b[1;32m    183\u001b[0m     \u001b[38;5;28;01mreturn\u001b[39;00m \u001b[38;5;28mgetattr\u001b[39m(adata, coldim)[k]\u001b[38;5;241m.\u001b[39mvalues\n",
      "\u001b[0;31mKeyError\u001b[0m: 'Could not find key celltype_mapped_refined in .var_names or .obs.columns.'"
     ]
    },
    {
     "data": {
      "image/png": "[encoded data removed]",
      "text/plain": [
       "<Figure size 640x480 with 1 Axes>"
      ]
     },
     "metadata": {},
     "output_type": "display_data"
    }
   ],
   "source": [
    "# Use autotalker latent space for UMAP generation\n",
    "sc.pp.neighbors(adata, use_rep=\"latent_autotalker\")\n",
    "sc.tl.umap(adata, min_dist=0.3)\n",
    "sc.pl.umap(adata, color=[\"celltype_mapped_refined\"], frameon=False,)"
   ]
  },
  {
   "cell_type": "code",
   "execution_count": null,
   "id": "cde2304a-6700-46dc-b697-1bf38ede2848",
   "metadata": {},
   "outputs": [],
   "source": []
  },
  {
   "cell_type": "code",
   "execution_count": null,
   "id": "340d4732-14f1-47bb-a18e-f585fcd6d860",
   "metadata": {},
   "outputs": [],
   "source": []
  },
  {
   "cell_type": "code",
   "execution_count": null,
   "id": "47a2bb33-15a2-4725-9b9d-5dd2dd49c056",
   "metadata": {},
   "outputs": [],
   "source": []
  },
  {
   "cell_type": "code",
   "execution_count": null,
   "id": "d76ca973-1086-494c-a877-877e1e2e643a",
   "metadata": {},
   "outputs": [],
   "source": [
    "download_nichenet_ligand_target_mx(save_path=\"data/ligand_target_matrix.csv\")"
   ]
  },
  {
   "cell_type": "code",
   "execution_count": null,
   "id": "a006bc09-cffc-45b1-96e3-83b218496411",
   "metadata": {},
   "outputs": [],
   "source": [
    "adata.var"
   ]
  },
  {
   "cell_type": "code",
   "execution_count": null,
   "id": "a48ec93b-dd53-4cbd-a9e2-9ae49474a9ec",
   "metadata": {},
   "outputs": [],
   "source": [
    "model = Autotalker(adata=adata,\n",
    "                   mask=mask,\n",
    "                   n_hidden=n_hidden)"
   ]
  },
  {
   "cell_type": "code",
   "execution_count": null,
   "id": "2006a1e8-fdab-497d-8a3e-f450204b1501",
   "metadata": {},
   "outputs": [],
   "source": [
    "experiment = mlflow.set_experiment(\"autotalker\")\n",
    "mlflow.log_param(\"dataset\", dataset)"
   ]
  },
  {
   "cell_type": "code",
   "execution_count": null,
   "id": "bfb5b9aa-cdea-4408-842e-217d6e5d11c2",
   "metadata": {},
   "outputs": [],
   "source": [
    "model.train(n_epochs=n_epochs,\n",
    "            lr=lr,\n",
    "            batch_size=batch_size,\n",
    "            mlflow_experiment_id=experiment.experiment_id)"
   ]
  },
  {
   "cell_type": "code",
   "execution_count": null,
   "id": "42f1b1bf-6271-4a03-ab68-b5c147b338cb",
   "metadata": {},
   "outputs": [],
   "source": []
  },
  {
   "cell_type": "code",
   "execution_count": null,
   "id": "4f6ea18b-4cc8-4642-b2f2-5ff0c7f511c4",
   "metadata": {},
   "outputs": [],
   "source": []
  }
 ],
 "metadata": {
  "kernelspec": {
   "display_name": "autotalkercpu",
   "language": "python",
   "name": "autotalkercpu"
  },
  "language_info": {
   "codemirror_mode": {
    "name": "ipython",
    "version": 3
   },
   "file_extension": ".py",
   "mimetype": "text/x-python",
   "name": "python",
   "nbconvert_exporter": "python",
   "pygments_lexer": "ipython3",
   "version": "3.9.13"
  }
 },
 "nbformat": 4,
 "nbformat_minor": 5
}
