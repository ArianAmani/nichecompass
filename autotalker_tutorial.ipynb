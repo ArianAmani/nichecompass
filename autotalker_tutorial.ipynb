{
 "cells": [
  {
   "cell_type": "markdown",
   "id": "1b1daabf-c8e3-43d4-aa32-9789abcc8619",
   "metadata": {},
   "source": [
    "# Autotalker Tutorial"
   ]
  },
  {
   "cell_type": "markdown",
   "id": "c325d921-2077-42b3-90a8-6f6c7dd928c5",
   "metadata": {},
   "source": [
    "- **Creator**: Sebastian Birk (<sebastian.birk@helmholtz-munich.de>).\n",
    "- **Affiliation:** Helmholtz Munich, Institute of Computational Biology (ICB), Talavera-López Lab\n",
    "- **Date of Creation:** 01.10.2022\n",
    "- **Date of Last Modificaiton:** 24.11.2022"
   ]
  },
  {
   "cell_type": "markdown",
   "id": "2d464ebf-354f-4f61-8040-c3dcbcc893b9",
   "metadata": {},
   "source": [
    "## 1. Setup"
   ]
  },
  {
   "cell_type": "markdown",
   "id": "d5631277-d8d2-4194-a376-280f4f149b7d",
   "metadata": {},
   "source": [
    "### 1.1 Import Libraries"
   ]
  },
  {
   "cell_type": "code",
   "execution_count": 1,
   "id": "4e5d3297-0290-47c0-846f-705e74cdb3de",
   "metadata": {},
   "outputs": [],
   "source": [
    "%load_ext autoreload\n",
    "%autoreload 2"
   ]
  },
  {
   "cell_type": "code",
   "execution_count": 2,
   "id": "b4aa3c6a-5a44-4cf1-84a3-5e514457cf3c",
   "metadata": {},
   "outputs": [],
   "source": [
    "import argparse\n",
    "import os\n",
    "import random\n",
    "import warnings\n",
    "from copy import deepcopy\n",
    "from datetime import datetime\n",
    "\n",
    "import anndata as ad\n",
    "import matplotlib\n",
    "import matplotlib.pyplot as plt\n",
    "import mlflow\n",
    "import numpy as np\n",
    "import pandas as pd\n",
    "import scanpy as sc\n",
    "import scipy.sparse as sp\n",
    "import seaborn as sns\n",
    "import squidpy as sq\n",
    "import torch\n",
    "from matplotlib.pyplot import rc_context\n",
    "\n",
    "from autotalker.benchmarking import (compute_avg_cad,\n",
    "                                     compute_cad,\n",
    "                                     compute_avg_gcd,\n",
    "                                     compute_max_lnmi,\n",
    "                                     compute_per_cell_log_rclisi)\n",
    "from autotalker.models import Autotalker\n",
    "from autotalker.utils import (add_gps_from_gp_dict_to_adata,\n",
    "                              extract_gp_dict_from_mebocost_es_interactions,\n",
    "                              extract_gp_dict_from_nichenet_ligand_target_mx,\n",
    "                              extract_gp_dict_from_omnipath_lr_interactions,\n",
    "                              filter_and_combine_gp_dict_gps)"
   ]
  },
  {
   "cell_type": "markdown",
   "id": "2b886225-6b6d-433c-b117-47b9a8f8091f",
   "metadata": {},
   "source": [
    "### 1.2 Configure Paths and Create Directories"
   ]
  },
  {
   "cell_type": "code",
   "execution_count": 3,
   "id": "36675337-808d-40a9-93fc-d6cfa9473f66",
   "metadata": {},
   "outputs": [],
   "source": [
    "# Define paths\n",
    "gp_data_folder_path = \"datasets/gp_data/\" # gene program data\n",
    "srt_data_folder_path = \"datasets/srt_data/\" # spatially resolved transcriptomics data\n",
    "srt_data_bronze_folder_path = f\"{srt_data_folder_path}/bronze\"\n",
    "srt_data_silver_folder_path = f\"{srt_data_folder_path}/silver\"\n",
    "srt_data_gold_folder_path = f\"{srt_data_folder_path}/gold\"\n",
    "nichenet_ligand_target_mx_file_path = gp_data_folder_path + \"nichenet_ligand_target_matrix.csv\"\n",
    "omnipath_lr_interactions_file_path = gp_data_folder_path + \"omnipath_lr_interactions.csv\"\n",
    "\n",
    "# Create required directories\n",
    "os.makedirs(\"mlruns\", exist_ok=True)\n",
    "os.makedirs(gp_data_folder_path, exist_ok=True)\n",
    "os.makedirs(srt_data_bronze_folder_path, exist_ok=True)\n",
    "os.makedirs(srt_data_silver_folder_path, exist_ok=True)\n",
    "os.makedirs(srt_data_gold_folder_path, exist_ok=True)"
   ]
  },
  {
   "cell_type": "markdown",
   "id": "a6c3b7fa-fa59-43dd-81d2-7e116650915f",
   "metadata": {},
   "source": [
    "### 1.3 Run Notebook Setup"
   ]
  },
  {
   "cell_type": "code",
   "execution_count": 4,
   "id": "4cc0f93d-2420-4d02-a750-d97f7cb8d5ba",
   "metadata": {},
   "outputs": [],
   "source": [
    "# Define default matplotlib figure size\n",
    "matplotlib.rcParams[\"figure.figsize\"] = (5, 5)"
   ]
  },
  {
   "cell_type": "code",
   "execution_count": 5,
   "id": "924032d4-24a4-45cf-87e1-0eba197da0c2",
   "metadata": {},
   "outputs": [],
   "source": [
    "# Ignore future warnings\n",
    "warnings.simplefilter(action=\"ignore\", category=FutureWarning)"
   ]
  },
  {
   "cell_type": "code",
   "execution_count": 6,
   "id": "ab22fbaf-aeed-464b-8a20-b640b9e055fd",
   "metadata": {},
   "outputs": [],
   "source": [
    "# Get time of notebook execution for timestamping saved artefacts\n",
    "now = datetime.now()\n",
    "current_timestamp = now.strftime(\"%d%m%Y_%H%M%S\")"
   ]
  },
  {
   "cell_type": "code",
   "execution_count": 7,
   "id": "f7b02c1e-2577-4ab8-a025-22b78da69a42",
   "metadata": {},
   "outputs": [],
   "source": [
    "# Set random seed\n",
    "random_seed = 42\n",
    "random.seed(random_seed)\n",
    "np.random.seed(random_seed)"
   ]
  },
  {
   "cell_type": "markdown",
   "id": "9f91f345-c297-47cb-8650-c6d9c60a8b7e",
   "metadata": {},
   "source": [
    "### 1.4 Define Parameters"
   ]
  },
  {
   "cell_type": "markdown",
   "id": "afb2aa6e-3cf2-44ac-b862-ec9c5bd55855",
   "metadata": {},
   "source": [
    "**Note:** ´edge_batch_size´ is a very important hyperparameter. Training does not work when it is too small because the gradients will be too noisy. If it is too high, you might run into GPU memory constraints."
   ]
  },
  {
   "cell_type": "code",
   "execution_count": 8,
   "id": "a4d4e6d9-239f-47c5-a30b-579b16d4c27c",
   "metadata": {},
   "outputs": [],
   "source": [
    "## Dataset\n",
    "dataset = \"squidpy_seqfish_mouse_organogenesis\"\n",
    "#dataset = \"squidpy_slideseqv2_mouse_hippocampus\"\n",
    "#dataset = \"vizgen_merfish_mouse_brain\"\n",
    "#dataset = \"vizgen_merfish_mouse_liver\" \n",
    "#dataset = \"vizgen_merfish_human_liver_cancer\"\n",
    "#dataset = \"10x_xenium_human_breast_cancer\"\n",
    "#dataset = \"starmap_plus_mouse_cns\"\n",
    "#dataset = \"eel_fish_mouse_brain\"\n",
    "n_neighs = 8 # for spatial neighborhood graph; constrained by GPU memory\n",
    "\n",
    "## Model\n",
    "# adata Keys\n",
    "counts_key = \"counts\"\n",
    "adj_key = \"spatial_connectivities\"\n",
    "gp_names_key = \"autotalker_gp_names\"\n",
    "gp_targets_mask_key = \"autotalker_gp_targets\"\n",
    "gp_sources_mask_key = \"autotalker_gp_sources\"\n",
    "latent_key = \"autotalker_latent\"\n",
    "\n",
    "# Neighborhood Gene Expression Aggregation (Node Label Method)\n",
    "#node_label_method = \"self\" # does only apply for fully-connected GPs\n",
    "#node_label_method = \"one-hop-sum\"\n",
    "#node_label_method = \"one-hop-norm\"\n",
    "node_label_method = \"one-hop-attention\"\n",
    "\n",
    "# Architecture\n",
    "n_latent_fc_gps = 512 # does only apply for fully-connected GPs\n",
    "\n",
    "# Trainer\n",
    "n_epochs = 20\n",
    "lr = 0.01\n",
    "weight_decay = 0.\n",
    "lambda_l1_addon = 1.\n",
    "lambda_group_lasso = 0.1\n",
    "edge_val_ratio = 0.1\n",
    "edge_test_ratio = 0.05\n",
    "node_val_ratio = 0.1\n",
    "edge_batch_size = 64\n",
    "node_batch_size = 128"
   ]
  },
  {
   "cell_type": "markdown",
   "id": "fd883193-8aa9-4809-aeac-cacb478df22b",
   "metadata": {
    "tags": []
   },
   "source": [
    "## 2. Data"
   ]
  },
  {
   "cell_type": "markdown",
   "id": "049f6853-5dc1-4b68-9240-c4b6a00f1514",
   "metadata": {},
   "source": [
    "### 2.1 Load & Preprocess Data"
   ]
  },
  {
   "cell_type": "markdown",
   "id": "1e290463-4e20-40cb-9245-cdb3b089cad3",
   "metadata": {},
   "source": [
    "#### 2.1.1 Squidpy seqFISH Mouse Organogenesis Dataset"
   ]
  },
  {
   "cell_type": "markdown",
   "id": "aba6be87-ec43-4e56-b4b5-4fe2b45f19e1",
   "metadata": {},
   "source": [
    "- **Publication:** Lohoff, T. et al. Highly multiplexed spatially resolved gene expression profiling of mouse organogenesis. bioRxiv 2020.11.20.391896 (2020). [doi:10.1101/2020.11.20.391896](https://doi.org/10.1101/2020.11.20.391896)\n",
    "- **Data Access:** Preprocessed version from squidpy API (original source https://marionilab.cruk.cam.ac.uk/SpatialMouseAtlas/)\n",
    "- **Summary:**\n",
    "    - Sagittal tissue section of 8-12 somite-stage mouse embryo\n",
    "    - 19,416 observations on cell-level with cell-type annotations\n",
    "    - 351 probed genes"
   ]
  },
  {
   "cell_type": "code",
   "execution_count": 9,
   "id": "ada889e3-9efd-4371-af10-1c17c68be3cc",
   "metadata": {},
   "outputs": [
    {
     "name": "stdout",
     "output_type": "stream",
     "text": [
      "Loading and preprocessing dataset 'squidpy_seqfish_mouse_organogenesis'.\n"
     ]
    }
   ],
   "source": [
    "if dataset == \"squidpy_seqfish_mouse_organogenesis\":\n",
    "    print(f\"Loading and preprocessing dataset '{dataset}'.\")\n",
    "    \n",
    "    # Retrieve adata from squidpy\n",
    "    adata = sq.datasets.seqfish()\n",
    "    \n",
    "    # Store raw counts in `layers`\n",
    "    adata.layers[\"counts\"] = adata.X.copy()\n",
    "    \n",
    "    # Determine cell annotation (pre-annotated)\n",
    "    cell_type_key = \"celltype_mapped_refined\"\n",
    "    \n",
    "    # Change cell annotation colors\n",
    "    color_list = [\"#d8d4d6\", # Allantois\n",
    "                  \"#800000\", # Anterior somitic tissues\n",
    "                  \"#805500\", # Cardiomyocytes\n",
    "                  \"#ffaa00\", # Cranial mesoderm\n",
    "                  \"#558000\", # Definitive endoderm\n",
    "                  \"#aaff00\", # Dermomyotome\n",
    "                  \"#ff0000\", # Endothelium\n",
    "                  \"#b3ffb3\", # Erythroid\n",
    "                  \"#008055\", # Forebrain/Midbrain/Hindbrain\n",
    "                  \"#00ffaa\", # Gut tube\n",
    "                  \"#005580\", # Haematoendothelial progenitors\n",
    "                  \"#00aaff\", # Intermediate mesoderm\n",
    "                  \"#000080\", # Lateral plate mesoderm\n",
    "                  \"#0000ff\", # Low quality\n",
    "                  \"#550080\", # Mixed mesenchymal mesoderm\n",
    "                  \"#aa00ff\", # Neural crest\n",
    "                  \"#800055\", # NMP\n",
    "                  \"#ff00aa\", # Presomitic mesoderm\n",
    "                  \"#80ffff\", # Sclerotome\n",
    "                  \"#ff8080\", # Spinal cord\n",
    "                  \"#000000\", # Splanchnic mesoderm\n",
    "                  \"#ffff80\"] # Surface ectoderm\n",
    "    adata.uns[\"celltype_mapped_refined_colors\"] = color_list\n",
    "        \n",
    "    # Compute spatial neighborhood\n",
    "    sq.gr.spatial_neighbors(adata, coord_type=\"generic\", spatial_key=\"spatial\", n_neighs=n_neighs)\n",
    "    \n",
    "    # Store data to disk\n",
    "    adata.write(f\"{srt_data_gold_folder_path}/{dataset}.h5ad\")\n",
    "    \n",
    "else:\n",
    "    print(\"No action taken.\")"
   ]
  },
  {
   "cell_type": "markdown",
   "id": "d9f640c3-f159-4dca-9a2e-7e43f142f4da",
   "metadata": {},
   "source": [
    "#### 2.1.2 Squidpy Slide-seqV2 Mouse Hippocampus Dataset"
   ]
  },
  {
   "cell_type": "markdown",
   "id": "9bf6ffd9-19aa-4fb9-9ceb-9ae2aff5173c",
   "metadata": {},
   "source": [
    "- **Publication**: Stickels, R. R. et al. Highly sensitive spatial transcriptomics at near-cellular resolution with Slide-seqV2. Nat. Biotechnol. 39, 313–319 (2021). [doi:10.1038/s41587-020-0739-1](https://doi.org/10.1038/s41587-020-0739-1)\n",
    "- **Data Access:** Preprocessed version from squidpy API (original source https://singlecell.broadinstitute.org/single_cell/study/SCP815/highly-sensitive-spatial-transcriptomics-at-near-cellular-resolution-with-slide-seqv2)\n",
    "- **Summary:**\n",
    "    - Mouse hippocampus puck\n",
    "    - 41,786 observations on cell-level with cell-type annotations\n",
    "    - 4,000 probed genes"
   ]
  },
  {
   "cell_type": "code",
   "execution_count": null,
   "id": "02081521-58dd-450a-a135-90a220b1eb42",
   "metadata": {},
   "outputs": [],
   "source": [
    "if dataset == \"squidpy_slideseqv2_mouse_hippocampus\":\n",
    "    print(f\"Loading and preprocessing dataset '{dataset}'.\")\n",
    "    \n",
    "    # Retrieve adata from squidpy\n",
    "    adata = sq.datasets.slideseqv2()\n",
    "    \n",
    "    # Store raw counts in `layers`\n",
    "    adata.layers[\"counts\"] = adata.X.copy()\n",
    "    \n",
    "    # Determine cell annotation (pre-annotated)\n",
    "    cell_type_key = \"cluster\"\n",
    "        \n",
    "    # Compute spatial neighborhood\n",
    "    sq.gr.spatial_neighbors(adata, coord_type=\"generic\", spatial_key=\"spatial\", n_neighs=n_neighs)\n",
    "    \n",
    "    # Store data to disk\n",
    "    adata.write(f\"{srt_data_gold_folder_path}/{dataset}.h5ad\")\n",
    "    \n",
    "else:\n",
    "    print(\"No action taken.\")"
   ]
  },
  {
   "cell_type": "markdown",
   "id": "af858b03-8ef3-4cc4-833a-db54406bc131",
   "metadata": {},
   "source": [
    "#### 2.1.3 Vizgen MERFISH Mouse Brain Receptor Dataset"
   ]
  },
  {
   "cell_type": "markdown",
   "id": "f2770c6d-09a6-41ff-9ea1-01af2ad3bf14",
   "metadata": {},
   "source": [
    "- **Publication:** Vizgen Data Release V1.0. May 2021\n",
    "- **Data Access:** https://info.vizgen.com/mouse-brain-map?submissionGuid=a66ccb7f-87cf-4c55-83b9-5a2b6c0c12b9\n",
    "    - Slice 1 Replicate 1\n",
    "        - cell_by_gene_S1R1.csv\n",
    "        - cell_metadata_S1R1.csv\n",
    "- **Preprocessing Vignette:** https://squidpy.readthedocs.io/en/latest/external_tutorials/tutorial_vizgen.html\n",
    "- **Summary:**\n",
    "    - Coronal section of mouse brain receptor map\n",
    "    - 78,329 observations on cell-level without annotations\n",
    "    - 649 probed genes"
   ]
  },
  {
   "cell_type": "code",
   "execution_count": null,
   "id": "e194d941-aa74-4a1e-a1e4-e245a4ab0d1b",
   "metadata": {},
   "outputs": [],
   "source": [
    "if dataset == \"vizgen_merfish_mouse_brain\":\n",
    "    print(f\"Loading and preprocessing dataset '{dataset}'.\")\n",
    "\n",
    "    # Read adata from files\n",
    "    merfish_dir = f\"{srt_data_bronze_folder_path}/merfish/\"\n",
    "    adata = sq.read.vizgen(path=merfish_dir,\n",
    "                           counts_file=\"datasets_mouse_brain_map_BrainReceptorShowcase_Slice1_Replicate1_cell_by_gene_S1R1.csv\",\n",
    "                           meta_file=\"datasets_mouse_brain_map_BrainReceptorShowcase_Slice1_Replicate1_cell_metadata_S1R1.csv\")\n",
    "\n",
    "    # Preprocess as per squidpy vignette\n",
    "    adata.var_names.unique()\n",
    "    adata.var[\"mt\"] = adata.var_names.str.startswith(\"mt-\")\n",
    "    sc.pp.calculate_qc_metrics(adata, qc_vars=[\"mt\"], percent_top=(50, 100, 200, 300), inplace=True)\n",
    "    fig, axs = plt.subplots(1, 4, figsize=(15, 4))\n",
    "    sns.histplot(adata.obs[\"total_counts\"],\n",
    "                 kde=False,\n",
    "                 ax=axs[0])\n",
    "    sns.histplot(adata.obs[\"total_counts\"][adata.obs[\"total_counts\"] < 10000],\n",
    "                 kde=False,\n",
    "                 bins=40,\n",
    "                 ax=axs[1])\n",
    "    sns.histplot(adata.obs[\"n_genes_by_counts\"],\n",
    "                 kde=False,\n",
    "                 bins=60,\n",
    "                 ax=axs[2])\n",
    "    sns.histplot(adata.obs[\"n_genes_by_counts\"][adata.obs[\"n_genes_by_counts\"] < 4000],\n",
    "                 kde=False,\n",
    "                 bins=60,\n",
    "                 ax=axs[3])\n",
    "    sc.pp.filter_cells(adata, min_counts=10)\n",
    "    sc.pp.filter_genes(adata, min_cells=10)\n",
    "    \n",
    "    # Store raw counts in `layers`\n",
    "    adata.layers[\"counts\"] = adata.X.copy()\n",
    "    \n",
    "    # Store data to disk\n",
    "    adata.write(f\"{srt_data_silver_folder_path}/{dataset}.h5ad\")\n",
    "    \n",
    "    # Determine cell annotation as per squidpy vignette\n",
    "    sc.pp.highly_variable_genes(adata, flavor=\"seurat_v3\", n_top_genes=4000)\n",
    "    sc.pp.normalize_total(adata, inplace=True)\n",
    "    sc.pp.log1p(adata)\n",
    "    sc.pp.pca(adata)\n",
    "    sc.pp.neighbors(adata)\n",
    "    sc.tl.umap(adata)\n",
    "    sc.tl.leiden(adata)\n",
    "    cell_type_key = \"leiden\"\n",
    "    sc.pl.umap(adata,\n",
    "               color=[\"total_counts\", \"n_genes_by_counts\", \"leiden\",])\n",
    "    \n",
    "    # Compute spatial neighborhood\n",
    "    sq.gr.spatial_neighbors(adata, coord_type=\"generic\", spatial_key=\"spatial\", n_neighs=n_neighs)\n",
    "    \n",
    "    # Store data to disk\n",
    "    adata.write(f\"{srt_data_gold_folder_path}/{dataset}.h5ad\")\n",
    "    \n",
    "else:\n",
    "    print(\"No action taken.\")"
   ]
  },
  {
   "cell_type": "markdown",
   "id": "63526c94-921b-4d06-ab5d-3414163d6d10",
   "metadata": {},
   "source": [
    "#### 2.1.4 Vizgen MERFISH Mouse Liver Dataset"
   ]
  },
  {
   "cell_type": "markdown",
   "id": "b9399cb3-2f8f-4889-98eb-013530007c2a",
   "metadata": {},
   "source": [
    "- **Publication**: Vizgen MERFISH Mouse Liver Map January 2022\n",
    "- **Data Access:** https://info.vizgen.com/mouse-liver-access\n",
    "    - Animal 1 replicate 1\n",
    "        - cell_by_gene.csv\n",
    "        - cell_metadata.csv\n",
    "- **Preprocessing Vignette:** https://squidpy.readthedocs.io/en/latest/external_tutorials/tutorial_vizgen_mouse_liver.html\n",
    "- **Summary:**\n",
    "    - Liver tissue section of mouse liver map\n",
    "    - 367,335 observations on cell-level without annotations\n",
    "    - 385 probed genes"
   ]
  },
  {
   "cell_type": "code",
   "execution_count": null,
   "id": "7045fb56-fada-4fa1-aa37-6e89f7a52c22",
   "metadata": {},
   "outputs": [],
   "source": [
    "if dataset == \"vizgen_merfish_mouse_liver\":\n",
    "    print(f\"Loading and preprocessing dataset '{dataset}'.\")\n",
    "    \n",
    "    # Read adata from files\n",
    "    merfish_dir = f\"{srt_data_bronze_folder_path}/merfish/\"\n",
    "    adata = sq.read.vizgen(merfish_dir,\n",
    "                           counts_file=\"Liver1Slice1_cell_by_gene.csv\",\n",
    "                           meta_file=\"Liver1Slice1_cell_metadata.csv\")\n",
    "    \n",
    "    # Preprocess as per squidpy vignette\n",
    "    adata.var_names_make_unique()\n",
    "    adata.var[\"mt\"] = adata.var_names.str.startswith(\"mt-\")\n",
    "    sc.pp.calculate_qc_metrics(adata, qc_vars=[\"mt\"],percent_top=(50, 100, 200, 300), inplace=True)\n",
    "    sc.pp.filter_cells(adata, min_counts=50)\n",
    "    sc.pp.filter_genes(adata, min_cells=10)\n",
    "    \n",
    "    # Store raw counts in `layers`\n",
    "    adata.layers[\"counts\"] = adata.X.copy()\n",
    "    \n",
    "    # Store data to disk\n",
    "    adata.write(f\"{srt_data_silver_folder_path}/{dataset}.h5ad\")\n",
    "    \n",
    "    # Determine cell annotation as per squidpy vignette\n",
    "    sc.pp.normalize_total(adata)\n",
    "    sc.pp.log1p(adata)\n",
    "    sc.pp.scale(adata, max_value=10)\n",
    "    sc.tl.pca(adata, svd_solver=\"arpack\")\n",
    "    sc.pp.neighbors(adata, n_neighbors=10, n_pcs=20)\n",
    "    sc.tl.umap(adata)\n",
    "    sc.tl.leiden(adata, resolution=1.5)\n",
    "    \n",
    "    sc.set_figure_params(figsize=(10,10))\n",
    "    sc.pl.umap(adata, color=[\"leiden\"], size=5)\n",
    "    \n",
    "    gene_panel = \"https://static-content.springer.com/esm/art%3A10.1038%2Fs41421-021-00266-1/MediaObjects/41421_2021_266_MOESM1_ESM.xlsx\"\n",
    "    df_ref_panel_ini = pd.read_excel(gene_panel, index_col=0)\n",
    "    df_ref_panel = df_ref_panel_ini.iloc[1:,:1]\n",
    "    df_ref_panel.index.name = None\n",
    "    df_ref_panel.columns = [\"Function\"]\n",
    "    \n",
    "    # Assign marker gene metadata using reference dataset\n",
    "    marker_genes = df_ref_panel[df_ref_panel[\"Function\"].str.contains(\"marker\")].index.tolist()\n",
    "    \n",
    "    meta_gene = deepcopy(adata.var)\n",
    "    common_marker_genes = list(set(meta_gene.index.tolist()).intersection(marker_genes))\n",
    "    meta_gene.loc[common_marker_genes, \"Markers\"] = df_ref_panel.loc[common_marker_genes, \"Function\"]\n",
    "    meta_gene[\"Markers\"] = meta_gene[\"Markers\"].apply(lambda x: \"N.A.\" if \"marker\" not in str(x) else x)\n",
    "    meta_gene[\"Markers\"].value_counts()\n",
    "    \n",
    "    ser_counts = adata.obs[\"leiden\"].value_counts()\n",
    "    ser_counts.name = \"cell counts\"\n",
    "    meta_leiden = pd.DataFrame(ser_counts)\n",
    "    \n",
    "    cat_name = \"leiden\"\n",
    "    sig_leiden = pd.DataFrame(columns=adata.var_names, index=adata.obs[cat_name].cat.categories)\n",
    "    for clust in adata.obs[cat_name].cat.categories:\n",
    "        sig_leiden.loc[clust] = adata[adata.obs[cat_name].isin([clust]),:].X.mean(0)\n",
    "    sig_leiden = sig_leiden.transpose()\n",
    "    leiden_clusters = [\"Leiden-\" + str(x) for x in sig_leiden.columns.tolist()]\n",
    "    sig_leiden.columns = leiden_clusters\n",
    "    meta_leiden.index = sig_leiden.columns.tolist()\n",
    "    meta_leiden[\"leiden\"] = pd.Series(meta_leiden.index.tolist(), index=meta_leiden.index.tolist())\n",
    "    \n",
    "    meta_gene = pd.DataFrame(index=sig_leiden.index.tolist())\n",
    "    meta_gene[\"info\"] = pd.Series(\"\", index=meta_gene.index.tolist())\n",
    "    meta_gene[\"Markers\"] = pd.Series(\"N.A.\", index=sig_leiden.index.tolist())\n",
    "    meta_gene.loc[common_marker_genes, \"Markers\"] = df_ref_panel.loc[common_marker_genes, \"Function\"]\n",
    "    \n",
    "    meta_leiden[\"Cell_Type\"] = pd.Series(\"N.A.\", index=meta_leiden.index.tolist())\n",
    "    num_top_genes = 30\n",
    "    for inst_cluster in sig_leiden.columns.tolist():\n",
    "        top_genes = sig_leiden[inst_cluster].sort_values(ascending=False).index.tolist()[:num_top_genes]\n",
    "    \n",
    "        inst_ser = meta_gene.loc[top_genes, \"Markers\"]\n",
    "        inst_ser = inst_ser[inst_ser != \"N.A.\"]\n",
    "        ser_counts = inst_ser.value_counts()\n",
    "      \n",
    "        max_count = ser_counts.max()\n",
    "      \n",
    "        max_cat = \"_\".join(sorted(ser_counts[ser_counts == max_count].index.tolist()))\n",
    "        max_cat = max_cat.replace(\" marker\", \"\").replace(\" \", \"-\")\n",
    "      \n",
    "        print(inst_cluster, max_cat)\n",
    "        meta_leiden.loc[inst_cluster, \"Cell_Type\"] = max_cat\n",
    "    \n",
    "    # Rename clusters\n",
    "    meta_leiden[\"name\"] = meta_leiden.apply(lambda x: x[\"Cell_Type\"] + \"_\" + x[\"leiden\"] , axis=1)\n",
    "    leiden_names = meta_leiden[\"name\"].values.tolist()\n",
    "    meta_leiden.index = leiden_names\n",
    "    \n",
    "    # Transfer cell type labels to single cells\n",
    "    leiden_to_cell_type = deepcopy(meta_leiden)\n",
    "    leiden_to_cell_type.set_index(\"leiden\", inplace=True)\n",
    "    leiden_to_cell_type.index.name = None\n",
    "    \n",
    "    adata.obs[\"Cell_Type\"] = adata.obs[\"leiden\"].apply(lambda x: leiden_to_cell_type.loc[\"Leiden-\" + str(x), \"Cell_Type\"])\n",
    "    adata.obs[\"Cluster\"] = adata.obs[\"leiden\"].apply(lambda x: leiden_to_cell_type.loc[\"Leiden-\" + str(x), \"name\"])\n",
    "    cell_type_key = \"Cell_Type\"\n",
    "    \n",
    "    # Compute spatial neighborhood\n",
    "    sq.gr.spatial_neighbors(adata, coord_type=\"generic\", spatial_key=\"spatial\", n_neighs=n_neighs)\n",
    "    \n",
    "    # Store data to disk\n",
    "    adata.write(f\"{srt_data_gold_folder_path}/{dataset}.h5ad\")\n",
    "    \n",
    "else:\n",
    "    print(\"No action taken.\")"
   ]
  },
  {
   "cell_type": "markdown",
   "id": "d87759e2-d02b-40be-9305-1469f555709a",
   "metadata": {},
   "source": [
    "#### 2.1.5 Vizgen MERFISH Human Liver Cancer Dataset"
   ]
  },
  {
   "cell_type": "markdown",
   "id": "ac4dbb1f-7111-40d0-ba42-f6d57f65424a",
   "metadata": {},
   "source": [
    "- **Publication:** Vizgen MERFISH FFPE Human Immuno-oncology Data Set,  May 2022\n",
    "- **Data Access:** https://info.vizgen.com/ffpe-showcase?submissionGuid=bbe0d6ca-92ad-4257-bdcd-cbc6dee8219b\n",
    "    - Liver cancer 1\n",
    "        - cell_by_gene.csv\n",
    "        - cell_metadata.csv\n",
    "- **Summary:**\n",
    "    - FFPE tissue section of human liver cancer\n",
    "    - 480,592 observations on cell-level without annotations\n",
    "    - 500 probed genes"
   ]
  },
  {
   "cell_type": "code",
   "execution_count": null,
   "id": "452f0547-efc1-47dd-8d4b-26b151f00082",
   "metadata": {},
   "outputs": [],
   "source": [
    "if dataset == \"vizgen_merfish_human_liver_cancer\":\n",
    "    print(f\"Loading and preprocessing dataset '{dataset}'.\")\n",
    "    \n",
    "    # Read counts and remove blank genes\n",
    "    vizgen_dir = f\"{srt_data_bronze_folder_path}/merfish/\"\n",
    "    adata = ad.read_text(vizgen_dir + \"HumanLiverCancerPatient1_cell_by_gene.csv\" ,delimiter=\",\", first_column_names=True)\n",
    "    blank_genes = np.array([\"Blank\" in v for v in adata.var_names])\n",
    "    adata.obsm[\"blank_genes\"] = pd.DataFrame(adata[:, blank_genes].X.copy(), columns=adata.var_names[blank_genes], index=adata.obs_names)\n",
    "    adata = adata[:, ~blank_genes].copy()\n",
    "    adata.X = sp.csr_matrix(adata.X)\n",
    "    \n",
    "    # Read metadata and align index for join\n",
    "    metadata = pd.read_csv(vizgen_dir + \"HumanLiverCancerPatient1_cell_metadata.csv\", header=0, index_col=0)\n",
    "    metadata.sort_index(inplace=True)\n",
    "    metadata.index = metadata.index.astype(\"str\")\n",
    "    \n",
    "    # Join counts with obs and store spatial coordinates\n",
    "    adata.obs = pd.merge(adata.obs, metadata, how=\"left\", left_index=True, right_index=True)\n",
    "    adata.obsm[\"spatial\"] = adata.obs[[\"center_x\", \"center_y\"]].values\n",
    "    adata.obs.drop(columns=[\"center_x\", \"center_y\"], inplace=True)\n",
    "    \n",
    "    # Preprocess\n",
    "    adata.var_names_make_unique()\n",
    "    adata.var[\"mt\"] = adata.var_names.str.startswith(\"mt-\")\n",
    "    sc.pp.calculate_qc_metrics(adata, qc_vars=[\"mt\"], percent_top=(50, 100, 200, 300), inplace=True)\n",
    "    sc.pp.filter_cells(adata, min_counts=50)\n",
    "    sc.pp.filter_genes(adata, min_cells=10)\n",
    "    \n",
    "    # Store raw counts in `layers`\n",
    "    adata.layers[\"counts\"] = adata.X.copy()\n",
    "    \n",
    "    # Store data to disk\n",
    "    adata.write(f\"{srt_data_silver_folder_path}/{dataset}.h5ad\")\n",
    "    \n",
    "    # Determine cell annotation\n",
    "    sc.pp.normalize_total(adata, inplace=True)\n",
    "    sc.pp.log1p(adata)\n",
    "    sc.pp.pca(adata)\n",
    "    sc.pp.neighbors(adata)\n",
    "    sc.tl.umap(adata)\n",
    "    sc.tl.leiden(adata)\n",
    "    sc.pl.umap(adata,\n",
    "               color=[\"total_counts\", \"n_genes_by_counts\", \"leiden\"])\n",
    "    cell_type_key = \"leiden\"\n",
    "    \n",
    "    # Compute spatial neighborhood\n",
    "    sq.gr.spatial_neighbors(adata, coord_type=\"generic\", spatial_key=\"spatial\", n_neighs=n_neighs)\n",
    "    \n",
    "    # Store data to disk\n",
    "    adata.write(f\"{srt_data_gold_folder_path}/{dataset}.h5ad\")\n",
    "    \n",
    "else:\n",
    "    print(\"No action taken.\")"
   ]
  },
  {
   "cell_type": "markdown",
   "id": "3f9356e3-e26b-46f9-8ee6-cf746ed76662",
   "metadata": {},
   "source": [
    "#### 2.1.6 10x Genomics Xenium Human Breast Cancer Tumor Microenvironment Dataset"
   ]
  },
  {
   "cell_type": "markdown",
   "id": "6b4c1c52-07bf-4c5e-ad0b-dd3594a307bb",
   "metadata": {},
   "source": [
    "- **Publication:** Janesick, A. et al. High resolution mapping of the breast cancer tumor microenvironment using integrated single cell, spatial and in situ analysis of FFPE tissue. bioRxiv 2022.10.06.510405 (2022). [doi:10.1101/2022.10.06.510405](https://doi.org/10.1101/2022.10.06.510405)\n",
    "- **Data Access:** https://www.10xgenomics.com/products/xenium-in-situ/preview-dataset-human-breast\n",
    "    - Feature-cell matrix (HDF5)\n",
    "    - Cell summary file (CSV) -> unpack with ```gzip -d Xenium_FFPE_Human_Breast_Cancer_Rep1_cells.csv.gz```\n",
    "- **Preprocessing Vignette:** https://squidpy.readthedocs.io/en/latest/external_tutorials/tutorial_xenium.html\n",
    "- **Summary**:\n",
    "    - FFPE tissue section of human breast cancer\n",
    "    - 164,079 observations on cell-level without annotations\n",
    "    - 313 probed genes"
   ]
  },
  {
   "cell_type": "code",
   "execution_count": null,
   "id": "a62e1cb7-19c4-4713-be3e-5a68a2f084b1",
   "metadata": {},
   "outputs": [],
   "source": [
    "if dataset == \"10x_xenium_human_breast_cancer\":\n",
    "    print(f\"Loading and preprocessing dataset '{dataset}'.\")\n",
    "    \n",
    "    # Read adata from file and add metadata\n",
    "    xenium_dir = f\"{srt_data_bronze_folder_path}/xenium/\"\n",
    "    adata = sc.read_10x_h5(filename=xenium_dir + \"Xenium_FFPE_Human_Breast_Cancer_Rep1_cell_feature_matrix.h5\")\n",
    "    metadata = pd.read_csv(xenium_dir + \"Xenium_FFPE_Human_Breast_Cancer_Rep1_cells.csv\")\n",
    "    metadata.set_index(adata.obs_names, inplace=True)\n",
    "    adata.obs = metadata.copy()\n",
    "    \n",
    "    # Preprocess as per squidpy vignette\n",
    "    adata.var_names_make_unique()\n",
    "    adata.var[\"mt\"] = adata.var_names.str.startswith(\"mt-\")\n",
    "    sc.pp.calculate_qc_metrics(adata, qc_vars=[\"mt\"],percent_top=(50, 100, 200, 300), inplace=True)\n",
    "    sc.pp.filter_cells(adata, min_counts=10)\n",
    "    sc.pp.filter_genes(adata, min_cells=5)\n",
    "    \n",
    "    # Store counts in `layers` and spatial coords in `obsm`\n",
    "    adata.layers[\"counts\"] = adata.X.copy()\n",
    "    adata.obsm[\"spatial\"] = adata.obs[[\"x_centroid\", \"y_centroid\"]].copy().to_numpy()\n",
    "    \n",
    "    # Store data to disk\n",
    "    adata.write(f\"{srt_data_silver_folder_path}/{dataset}.h5ad\")\n",
    "    \n",
    "    # Determine cell annotation as per squidpy vignette\n",
    "    sc.pp.normalize_total(adata, inplace=True)\n",
    "    sc.pp.log1p(adata)\n",
    "    sc.pp.pca(adata)\n",
    "    sc.pp.neighbors(adata)\n",
    "    sc.tl.umap(adata)\n",
    "    sc.tl.leiden(adata)\n",
    "    cell_type_key = \"leiden\"\n",
    "    \n",
    "    # Compute spatial neighborhood\n",
    "    sq.gr.spatial_neighbors(adata, coord_type=\"generic\", spatial_key=\"spatial\", n_neighs=n_neighs)\n",
    "    \n",
    "    # Store data to disk\n",
    "    adata.write(f\"{srt_data_gold_folder_path}/{dataset}.h5ad\")\n",
    "    \n",
    "else:\n",
    "    print(\"No action taken.\")"
   ]
  },
  {
   "cell_type": "markdown",
   "id": "a4610000-3874-4766-ad65-9cb6228ae9db",
   "metadata": {},
   "source": [
    "#### 2.1.7 STARmap PLUS Mouse Central Nervous System Dataset"
   ]
  },
  {
   "cell_type": "markdown",
   "id": "d5fde11e-7c7e-4245-956b-b9bd692647ec",
   "metadata": {},
   "source": [
    "- **Publication:** Shi, H. et al. Spatial Atlas of the Mouse Central Nervous System at Molecular Resolution. bioRxiv 2022.06.20.496914 (2022). [doi:10.1101/2022.06.20.496914](https://doi.org/10.1101/2022.06.20.496914)\n",
    "- **Data Access:** https://singlecell.broadinstitute.org/single_cell/study/SCP1830\n",
    "    - Sagittal 1 (Slice 3)\n",
    "        - sagittal1_spatial.csv\n",
    "        - sagittal1raw_expression_pd.csv\n",
    "- **Summary:**\n",
    "    - Sagittal section of mouse brain\n",
    "    - 91,246 observations on cell-level with cell-type annotations\n",
    "    - 1022 genes"
   ]
  },
  {
   "cell_type": "code",
   "execution_count": null,
   "id": "3d094c4b-cde8-4ab5-a952-0a0367b6836c",
   "metadata": {},
   "outputs": [],
   "source": [
    "if dataset == \"starmap_plus_mouse_cns\":\n",
    "    print(f\"Loading and preprocessing dataset '{dataset}'.\")\n",
    "    \n",
    "    # Read counts and metadata and change format\n",
    "    starmap_plus_dir = f\"{srt_data_bronze_folder_path}/starmap_plus/\"\n",
    "    metadata = pd.read_csv(starmap_plus_dir + \"sagittal1_spatial.csv\", skiprows=[1])\n",
    "    counts = pd.read_csv(starmap_plus_dir + \"sagittal1raw_expression_pd.csv\")\n",
    "    counts.set_index(\"GENE\", inplace=True)\n",
    "    metadata.set_index(\"NAME\", inplace=True)\n",
    "    counts = counts.T\n",
    "    \n",
    "    # Merge counts with metadata and store counts in `layers` and spatial coords in `obsm`\n",
    "    adata = ad.AnnData(counts, dtype=np.float32)\n",
    "    adata.obs = pd.merge(adata.obs, metadata, how=\"left\", left_index=True, right_index=True)\n",
    "    adata.obsm[\"spatial\"] = adata.obs[[\"X\", \"Y\"]].values / 1000 # smaller scale for plotting with squidpy\n",
    "    adata.obs.drop(columns=[\"X\", \"Y\", \"Z\"], inplace=True)\n",
    "    adata.layers[\"counts\"] = adata.X.copy()\n",
    "    \n",
    "    # Determine cell annotation\n",
    "    cell_type_key = \"Maintype_Symbol\"\n",
    "    \n",
    "    # Compute spatial neighborhood\n",
    "    sq.gr.spatial_neighbors(adata, coord_type=\"generic\", spatial_key=\"spatial\", n_neighs=n_neighs)\n",
    "    \n",
    "    # Store data to disk\n",
    "    adata.write(f\"{srt_data_gold_folder_path}/{dataset}.h5ad\")\n",
    "    \n",
    "else:\n",
    "    print(\"No action taken.\")"
   ]
  },
  {
   "cell_type": "markdown",
   "id": "bac1dc9f-b243-4437-a8c5-ba4461fa89ac",
   "metadata": {},
   "source": [
    "#### 2.1.8 EEL FISH Mouse Brain Dataset"
   ]
  },
  {
   "cell_type": "markdown",
   "id": "2f2bd4e8-42ce-4ac2-a50c-e935d2f1e9d1",
   "metadata": {},
   "source": [
    "- **Publication:** Borm, L. E. et al. Scalable in situ single-cell profiling by electrophoretic capture of mRNA using EEL FISH. Nat. Biotechnol. (2022) [doi:10.1038/s41587-022-01455-3](https://doi.org/10.1038/s41587-022-01455-3)\n",
    "- **Data Accress:** https://figshare.com/articles/dataset/EEL_Mouse_440_genes_single_cell_data/20310771\n",
    "    - LBEXP20210718_EEL_Mouse_448_2_20220512.h5ad\n",
    "- **Summary:**\n",
    "    - Sagittal mouse brain section\n",
    "    - 127,591 observations on cell-level with cluster annotations \n",
    "    - 440 genes"
   ]
  },
  {
   "cell_type": "code",
   "execution_count": null,
   "id": "f6c3e739-b7eb-460a-87a9-cee51b287b11",
   "metadata": {},
   "outputs": [],
   "source": [
    "if dataset == \"eel_fish_mouse_brain\":\n",
    "    print(f\"Loading and preprocessing dataset '{dataset}'.\")\n",
    "    \n",
    "    # Read adata from file\n",
    "    eel_fish_dir = f\"{srt_data_bronze_folder_path}/eel_fish/\"\n",
    "    adata = sc.read_h5ad(eel_fish_dir + \"LBEXP20210718_EEL_Mouse_448_2_20220512.h5ad\")\n",
    "    \n",
    "    # Store counts in `layers` and spatial coords in `obsm`\n",
    "    adata.obsm[\"spatial\"] = adata.obs[[\"X\", \"Y\"]].values # smaller scale for plotting with squidpy\n",
    "    adata.obs.drop(columns=[\"X\", \"Y\", \"X_um\", \"Y_um\"], inplace=True)\n",
    "    adata.layers[\"counts\"] = adata.X.copy()\n",
    "    \n",
    "    # Determine cell annotation\n",
    "    cell_type_key = \"Clusters\"\n",
    "    \n",
    "    # Compute spatial neighborhood\n",
    "    sq.gr.spatial_neighbors(adata, coord_type=\"generic\", spatial_key=\"spatial\", n_neighs=n_neighs)\n",
    "    \n",
    "    # Store data to disk\n",
    "    adata.write(f\"{srt_data_gold_folder_path}/{dataset}.h5ad\")\n",
    "    \n",
    "else:\n",
    "    print(\"No action taken.\")"
   ]
  },
  {
   "cell_type": "markdown",
   "id": "6f1bd811-0964-4326-99fd-3433fc4878a7",
   "metadata": {},
   "source": [
    "### 2.2 Explore Data"
   ]
  },
  {
   "cell_type": "code",
   "execution_count": null,
   "id": "ab2ea2bb-d2dc-45ff-a23b-677d80970f6e",
   "metadata": {},
   "outputs": [],
   "source": [
    "print(f\"Using dataset {dataset}.\")\n",
    "print(f\"Number of nodes (cells): {adata.layers['counts'].shape[0]}\")\n",
    "print(f\"Number of node features (genes): {adata.layers['counts'].shape[1]}\")\n",
    "avg_edges_per_node = round(adata.obsp['spatial_connectivities'].sum(axis=0).mean(), 2)\n",
    "print(f\"Average number of edges per node: {avg_edges_per_node}\")\n",
    "n_edges = int(sp.triu(adata.obsp['spatial_connectivities'], k=1).sum())\n",
    "print(f\"Number of total edges: {n_edges}\", sep=\"\")\n",
    "print(\"--------------------\")\n",
    "# Visualize cell-level annotated data in physical space\n",
    "sq.pl.spatial_scatter(adata, color=cell_type_key, shape=None, figsize=(12, 12))"
   ]
  },
  {
   "cell_type": "markdown",
   "id": "14c80007-8cf9-4405-8efd-8e0b0bed5831",
   "metadata": {},
   "source": [
    "## 3. Autotalker Model with Fully Connected Gene Programs"
   ]
  },
  {
   "cell_type": "markdown",
   "id": "0f5d4ab7-4c08-47c4-be30-707cc3f77285",
   "metadata": {},
   "source": [
    "### 3.1 Create Fully Connected Gene Program Mask"
   ]
  },
  {
   "cell_type": "code",
   "execution_count": null,
   "id": "fce7badf-8de1-4bcb-9a56-469ed3c3adaa",
   "metadata": {},
   "outputs": [],
   "source": [
    "# Mask that allows all genes\n",
    "if node_label_method == \"self\":\n",
    "    n_output = len(adata.var)\n",
    "    gp_targets_mask = np.ones((n_latent_fc_gps, n_output))\n",
    "    print(f\"gp_targets_mask shape: {gp_targets_mask.shape}\")\n",
    "elif node_label_method != \"self\":\n",
    "    n_output = len(adata.var) * 2\n",
    "    gp_targets_mask = np.ones((n_latent_fc_gps, int(n_output / 2)))\n",
    "    gp_sources_mask = np.ones((n_latent_fc_gps, int(n_output / 2)))\n",
    "    print(f\"gp_targets_mask shape: {gp_targets_mask.shape}.\")\n",
    "    print(f\"gp_sources_mask shape: {gp_sources_mask.shape}.\")\n",
    "    \n",
    "adata.uns[gp_names_key] = [f\"FC_GP_{i}\" for i in range(n_latent_fc_gps)]\n",
    "\n",
    "# Determine dimensionality of hidden encoder\n",
    "n_hidden_encoder = int(n_latent_fc_gps/2)"
   ]
  },
  {
   "cell_type": "code",
   "execution_count": null,
   "id": "d0396b17-479b-49dc-acc5-c890a64bfd08",
   "metadata": {},
   "outputs": [],
   "source": [
    "# Summarize gene programs\n",
    "print(f\"Number of gene programs with probed genes: {len(adata.uns['autotalker_gp_names'])}.\")\n",
    "print(f\"Example gene programs: {random.sample(adata.uns['autotalker_gp_names'], 5)}.\")\n",
    "print(f\"Number of gene program target genes: {int(gp_targets_mask[1].sum())}.\")\n",
    "print(f\"Number of gene program source genes: {int(gp_sources_mask[1].sum())}.\")"
   ]
  },
  {
   "cell_type": "markdown",
   "id": "2757b2cd-35e2-4b47-ba79-85f80d68b453",
   "metadata": {},
   "source": [
    "### 3.2 Initialize, Train & Save Model"
   ]
  },
  {
   "cell_type": "code",
   "execution_count": null,
   "id": "97c80d55-1d1a-4573-aa08-e9fa47d70b67",
   "metadata": {},
   "outputs": [],
   "source": [
    "# Pass masks either trough ´gp_targets_mask_key´ and ´gp_sources_mask_key´ of adata or directly\n",
    "model = Autotalker(adata,\n",
    "                   counts_key=counts_key,\n",
    "                   adj_key=adj_key,\n",
    "                   gp_names_key=gp_names_key,\n",
    "                   gp_targets_mask_key=None,\n",
    "                   gp_sources_mask_key=None,\n",
    "                   latent_key=latent_key,\n",
    "                   include_edge_recon_loss=True,\n",
    "                   include_gene_expr_recon_loss=True,\n",
    "                   log_variational=True,\n",
    "                   node_label_method=node_label_method,\n",
    "                   n_hidden_encoder=n_hidden_encoder,\n",
    "                   dropout_rate_encoder=0.,\n",
    "                   dropout_rate_graph_decoder=0.,\n",
    "                   gp_targets_mask=gp_targets_mask,\n",
    "                   gp_sources_mask=(None if node_label_method == \"self\" else gp_sources_mask),\n",
    "                   n_addon_gps=0)"
   ]
  },
  {
   "cell_type": "code",
   "execution_count": null,
   "id": "0fa100cc-c398-4ed9-a72f-a42af0d8c16d",
   "metadata": {
    "tags": []
   },
   "outputs": [],
   "source": [
    "experiment = mlflow.set_experiment(\"autotalker_fc_gps\")\n",
    "mlflow.log_param(\"dataset\", dataset)\n",
    "\n",
    "model.train(n_epochs=n_epochs,\n",
    "            lr=lr,\n",
    "            weight_decay=weight_decay,\n",
    "            lambda_l1_addon=lambda_l1_addon,\n",
    "            lambda_group_lasso=lambda_group_lasso,\n",
    "            edge_val_ratio=edge_val_ratio,\n",
    "            edge_test_ratio=edge_test_ratio,\n",
    "            node_val_ratio=node_val_ratio,\n",
    "            edge_batch_size=edge_batch_size,\n",
    "            mlflow_experiment_id=experiment.experiment_id,\n",
    "            verbose=True)"
   ]
  },
  {
   "cell_type": "code",
   "execution_count": null,
   "id": "65fc3370-876f-42ef-a992-55e182463bd7",
   "metadata": {},
   "outputs": [],
   "source": [
    "model.save(dir_path=f\"./model_artefacts/{dataset}/autotalker_fc_gps_{current_timestamp}\",\n",
    "           overwrite=True,\n",
    "           save_adata=True,\n",
    "           adata_file_name=f\"{dataset}.h5ad\")"
   ]
  },
  {
   "cell_type": "markdown",
   "id": "1f53d723-4fd7-49dc-844b-58cf8b9585a2",
   "metadata": {},
   "source": [
    "## 4. Autotalker Model with Cell-Cell-Interaction (CCI) Gene Programs"
   ]
  },
  {
   "cell_type": "markdown",
   "id": "d932b01b-19c1-4d5a-899b-1b985cdc1aaa",
   "metadata": {
    "tags": []
   },
   "source": [
    "### 4.1 OmniPath Ligand Receptor CCI Gene Programs"
   ]
  },
  {
   "cell_type": "markdown",
   "id": "a638a14b-d185-483f-b7a3-024a182e3b41",
   "metadata": {},
   "source": [
    "#### 4.1.1 Create OmniPath CCI Gene Program Mask"
   ]
  },
  {
   "cell_type": "code",
   "execution_count": null,
   "id": "5555bcfc-2e56-4708-8571-fadf98d73dd0",
   "metadata": {},
   "outputs": [],
   "source": [
    "# Load OmniPath ligand-receptor interactions into a gene program dictionary using the OmniPath Python API\n",
    "omnipath_gp_dict = extract_gp_dict_from_omnipath_lr_interactions(\n",
    "    min_curation_effort=0,\n",
    "    load_from_disk=False,\n",
    "    save_to_disk=True,\n",
    "    file_path=omnipath_lr_interactions_file_path)"
   ]
  },
  {
   "cell_type": "code",
   "execution_count": null,
   "id": "a7eddb9b-9a55-4b16-8d87-abdc759c8469",
   "metadata": {},
   "outputs": [],
   "source": [
    "# Filter and combine OmniPath ligand receptor interaction gene programs\n",
    "omnipath_new_gp_dict = filter_and_combine_gp_dict_gps(\n",
    "    gp_dict=omnipath_gp_dict,\n",
    "    gp_filter_mode=None,\n",
    "    combine_overlap_gps=True,\n",
    "    overlap_thresh_source_genes=1.,\n",
    "    overlap_thresh_target_genes=1.,\n",
    "    overlap_thresh_genes=1.,\n",
    "    verbose=True)\n",
    "\n",
    "print(f\"Number of gene programs before filtering and combining: {len(omnipath_gp_dict)}.\")\n",
    "print(f\"Number of gene programs after filtering and combining: {len(omnipath_new_gp_dict)}.\")"
   ]
  },
  {
   "cell_type": "code",
   "execution_count": null,
   "id": "de4d5903-67e0-4bd8-8243-d9cea1485d64",
   "metadata": {},
   "outputs": [],
   "source": [
    "# Add the gene program dictionary as binary masks to the adata for model training\n",
    "add_gps_from_gp_dict_to_adata(\n",
    "    gp_dict=omnipath_new_gp_dict,\n",
    "    adata=adata,\n",
    "    genes_uppercase=True,\n",
    "    gp_targets_mask_key=gp_targets_mask_key,\n",
    "    gp_sources_mask_key=gp_sources_mask_key,\n",
    "    gp_names_key=gp_names_key,\n",
    "    min_genes_per_gp=1,\n",
    "    min_source_genes_per_gp=0,\n",
    "    min_target_genes_per_gp=0,\n",
    "    max_genes_per_gp=None,\n",
    "    max_source_genes_per_gp=None,\n",
    "    max_target_genes_per_gp=None)\n",
    "\n",
    "# Determine dimensionality of hidden encoder\n",
    "n_hidden_encoder = len(adata.uns[gp_names_key])"
   ]
  },
  {
   "cell_type": "code",
   "execution_count": null,
   "id": "a780ad76-b1ad-40b5-97eb-c021e1b5412f",
   "metadata": {},
   "outputs": [],
   "source": [
    "# Summarize gene programs\n",
    "print(f\"Number of gene programs with probed genes: {len(adata.uns['autotalker_gp_names'])}.\")\n",
    "print(f\"Example gene programs: {random.sample(adata.uns['autotalker_gp_names'], 5)}.\")\n",
    "print(f\"Number of gene program target genes: {adata.varm['autotalker_gp_targets'].sum()}.\")\n",
    "print(f\"Number of gene program source genes: {adata.varm['autotalker_gp_sources'].sum()}.\")"
   ]
  },
  {
   "cell_type": "markdown",
   "id": "d351836a-c711-49a7-8a92-7b23f33aa293",
   "metadata": {},
   "source": [
    "#### 4.1.2 Initialize, Train & Save Model"
   ]
  },
  {
   "cell_type": "code",
   "execution_count": null,
   "id": "21ec4af1-312f-4106-83b5-f9ffb73cedb2",
   "metadata": {},
   "outputs": [],
   "source": [
    "model = Autotalker(adata,\n",
    "                   counts_key=counts_key,\n",
    "                   adj_key=adj_key,\n",
    "                   gp_names_key=gp_names_key,\n",
    "                   gp_targets_mask_key=gp_targets_mask_key,\n",
    "                   gp_sources_mask_key=gp_sources_mask_key,\n",
    "                   latent_key=latent_key,\n",
    "                   include_edge_recon_loss=True,\n",
    "                   include_gene_expr_recon_loss=True,\n",
    "                   log_variational=True,\n",
    "                   node_label_method=node_label_method,\n",
    "                   n_hidden_encoder=n_hidden_encoder,\n",
    "                   dropout_rate_encoder=0.,\n",
    "                   dropout_rate_graph_decoder=0.,\n",
    "                   gp_targets_mask=None,\n",
    "                   gp_sources_mask=None,\n",
    "                   n_addon_gps=0)"
   ]
  },
  {
   "cell_type": "code",
   "execution_count": null,
   "id": "bde3f43f-10e5-4255-b78c-490c6a671fd2",
   "metadata": {},
   "outputs": [],
   "source": [
    "experiment = mlflow.set_experiment(\"autotalker_omnipath_gps\")\n",
    "mlflow.log_param(\"dataset\", dataset)\n",
    "\n",
    "model.train(n_epochs=n_epochs,\n",
    "            lr=lr,\n",
    "            weight_decay=weight_decay,\n",
    "            lambda_l1_addon=lambda_l1_addon,\n",
    "            lambda_group_lasso=lambda_group_lasso,\n",
    "            edge_val_ratio=edge_val_ratio,\n",
    "            edge_test_ratio=edge_test_ratio,\n",
    "            node_val_ratio=node_val_ratio,\n",
    "            edge_batch_size=edge_batch_size,\n",
    "            mlflow_experiment_id=experiment.experiment_id,\n",
    "            verbose=True)"
   ]
  },
  {
   "cell_type": "code",
   "execution_count": null,
   "id": "f4b44af2-9f20-42f5-9e2d-0504ea06b37b",
   "metadata": {},
   "outputs": [],
   "source": [
    "model.save(dir_path=f\"./model_artefacts/{dataset}/autotalker_omnipath_gps_{current_timestamp}\",\n",
    "           overwrite=True,\n",
    "           save_adata=True,\n",
    "           adata_file_name=f\"{dataset}.h5ad\")"
   ]
  },
  {
   "cell_type": "markdown",
   "id": "7d486c09-09a3-4e19-846c-108b87d071d0",
   "metadata": {},
   "source": [
    "### 4.2 NicheNet Ligand Target Gene CCI Gene Programs"
   ]
  },
  {
   "cell_type": "markdown",
   "id": "e9fc5bf9-a4c0-415a-8e6a-0ac1196f465f",
   "metadata": {},
   "source": [
    "#### 4.2.1 Create NicheNet CCI Gene Program Mask"
   ]
  },
  {
   "cell_type": "code",
   "execution_count": null,
   "id": "42f1b1bf-6271-4a03-ab68-b5c147b338cb",
   "metadata": {},
   "outputs": [],
   "source": [
    "# Load Nichenet ligand target gene interactions into a gene program dictionary using the NicheNet web URL\n",
    "nichenet_gp_dict = extract_gp_dict_from_nichenet_ligand_target_mx(\n",
    "    keep_target_ratio=0.01,\n",
    "    load_from_disk=False,\n",
    "    save_to_disk=True,\n",
    "    file_path=nichenet_ligand_target_mx_file_path)"
   ]
  },
  {
   "cell_type": "code",
   "execution_count": null,
   "id": "63a098c9-2981-460b-9236-bdc2eb1ec33b",
   "metadata": {},
   "outputs": [],
   "source": [
    "# Filter and combine NicheNet ligand target gene interaction gene programs\n",
    "nichenet_new_gp_dict = filter_and_combine_gp_dict_gps(\n",
    "    gp_dict=nichenet_gp_dict,\n",
    "    gp_filter_mode=None,\n",
    "    combine_overlap_gps=True,\n",
    "    overlap_thresh_source_genes=1.,\n",
    "    overlap_thresh_target_genes=1.,\n",
    "    overlap_thresh_genes=1.,\n",
    "    verbose=True)\n",
    "\n",
    "print(f\"Number of gene programs before filtering and combining: {len(nichenet_gp_dict)}.\")\n",
    "print(f\"Number of gene programs after filtering and combining: {len(nichenet_new_gp_dict)}.\")"
   ]
  },
  {
   "cell_type": "code",
   "execution_count": null,
   "id": "b2dcc97d-b621-4fc6-bdcf-a31d6e2c58b1",
   "metadata": {},
   "outputs": [],
   "source": [
    "# Add the gene program dictionary as binary masks to the adata for model training\n",
    "add_gps_from_gp_dict_to_adata(\n",
    "    gp_dict=nichenet_new_gp_dict,\n",
    "    adata=adata,\n",
    "    genes_uppercase=True,\n",
    "    gp_targets_mask_key=gp_targets_mask_key,\n",
    "    gp_sources_mask_key=gp_sources_mask_key,\n",
    "    gp_names_key=gp_names_key,\n",
    "    min_genes_per_gp=1,\n",
    "    min_source_genes_per_gp=0,\n",
    "    min_target_genes_per_gp=0,\n",
    "    max_genes_per_gp=None,\n",
    "    max_source_genes_per_gp=None,\n",
    "    max_target_genes_per_gp=None)\n",
    "\n",
    "# Determine dimensionality of hidden encoder\n",
    "n_hidden_encoder = len(adata.uns[gp_names_key])"
   ]
  },
  {
   "cell_type": "code",
   "execution_count": null,
   "id": "0c01ecae-f69c-44eb-9cdc-2b84c593b4eb",
   "metadata": {},
   "outputs": [],
   "source": [
    "# Summarize gene programs\n",
    "print(f\"Number of gene programs with probed genes: {len(adata.uns['autotalker_gp_names'])}.\")\n",
    "print(f\"Example gene programs: {random.sample(adata.uns['autotalker_gp_names'], 5)}.\")\n",
    "print(f\"Number of gene program target genes: {adata.varm['autotalker_gp_targets'].sum()}.\")\n",
    "print(f\"Number of gene program source genes: {adata.varm['autotalker_gp_sources'].sum()}.\")"
   ]
  },
  {
   "cell_type": "markdown",
   "id": "613311cd-163b-485e-92ae-7dc5e21336ef",
   "metadata": {},
   "source": [
    "#### 4.2.2 Initialize, Train & Save Model"
   ]
  },
  {
   "cell_type": "code",
   "execution_count": null,
   "id": "8a4452c6-0e6d-422e-9d29-311ac9270ad0",
   "metadata": {},
   "outputs": [],
   "source": [
    "model = Autotalker(adata,\n",
    "                   counts_key=counts_key,\n",
    "                   adj_key=adj_key,\n",
    "                   gp_names_key=gp_names_key,\n",
    "                   gp_targets_mask_key=gp_targets_mask_key,\n",
    "                   gp_sources_mask_key=gp_sources_mask_key,\n",
    "                   latent_key=latent_key,\n",
    "                   include_edge_recon_loss=True,\n",
    "                   include_gene_expr_recon_loss=True,\n",
    "                   log_variational=True,\n",
    "                   node_label_method=node_label_method,\n",
    "                   n_hidden_encoder=n_hidden_encoder,\n",
    "                   dropout_rate_encoder=0.,\n",
    "                   dropout_rate_graph_decoder=0.,\n",
    "                   gp_targets_mask=None,\n",
    "                   gp_sources_mask=None,\n",
    "                   n_addon_gps=0)"
   ]
  },
  {
   "cell_type": "code",
   "execution_count": null,
   "id": "2c78489a-fe9f-421a-8f1d-926a30cc0c1b",
   "metadata": {},
   "outputs": [],
   "source": [
    "experiment = mlflow.set_experiment(\"autotalker_nichenet_gps\")\n",
    "mlflow.log_param(\"dataset\", dataset)\n",
    "\n",
    "model.train(n_epochs=n_epochs,\n",
    "            lr=lr,\n",
    "            weight_decay=weight_decay,\n",
    "            lambda_l1_addon=lambda_l1_addon,\n",
    "            lambda_group_lasso=lambda_group_lasso,\n",
    "            edge_val_ratio=edge_val_ratio,\n",
    "            edge_test_ratio=edge_test_ratio,\n",
    "            node_val_ratio=node_val_ratio,\n",
    "            edge_batch_size=edge_batch_size,\n",
    "            mlflow_experiment_id=experiment.experiment_id,\n",
    "            verbose=True)"
   ]
  },
  {
   "cell_type": "code",
   "execution_count": null,
   "id": "209adbe0-a73c-464d-bfd1-4300c8d8a371",
   "metadata": {},
   "outputs": [],
   "source": [
    "model.save(dir_path=f\"./model_artefacts/{dataset}/autotalker_nichenet_gps_{current_timestamp}\",\n",
    "           overwrite=True,\n",
    "           save_adata=True,\n",
    "           adata_file_name=f\"{dataset}.h5ad\")"
   ]
  },
  {
   "cell_type": "markdown",
   "id": "8a8f9c8c-1939-4372-bf56-d7d1a3a6851b",
   "metadata": {},
   "source": [
    "### 4.3 MEBOCOST Metabolite Enzyme Sensor CCI Gene Programs"
   ]
  },
  {
   "cell_type": "markdown",
   "id": "890f7f59-3f5f-4c47-9809-07c68ae029e4",
   "metadata": {},
   "source": [
    "#### 4.3.1 Create MEBOCOST CCI Gene Program Mask"
   ]
  },
  {
   "cell_type": "code",
   "execution_count": null,
   "id": "98b6d62b-6ac9-4ee8-8ffc-32a10df0126f",
   "metadata": {},
   "outputs": [],
   "source": [
    "# Load MEBOCOST metabolite enzyme sensor gene interactions into a gene program dictionary\n",
    "# using the data from the autotalker package\n",
    "mebocost_gp_dict = extract_gp_dict_from_mebocost_es_interactions(species=\"mouse\",\n",
    "                                                                 genes_uppercase=True)"
   ]
  },
  {
   "cell_type": "code",
   "execution_count": null,
   "id": "47f02714-6b66-4a93-88f1-11a8d86eee23",
   "metadata": {},
   "outputs": [],
   "source": [
    "# Filter and combine MEBOCOST metabolite enzyme sensor gene interaction gene programs\n",
    "mebocost_new_gp_dict = filter_and_combine_gp_dict_gps(\n",
    "    gp_dict=mebocost_gp_dict,\n",
    "    gp_filter_mode=None,\n",
    "    combine_overlap_gps=True,\n",
    "    overlap_thresh_source_genes=1.,\n",
    "    overlap_thresh_target_genes=1.,\n",
    "    overlap_thresh_genes=1.,\n",
    "    verbose=True)\n",
    "\n",
    "print(f\"Number of gene programs before filtering and combining: {len(mebocost_gp_dict)}.\")\n",
    "print(f\"Number of gene programs after filtering and combining: {len(mebocost_new_gp_dict)}.\")"
   ]
  },
  {
   "cell_type": "code",
   "execution_count": null,
   "id": "b779eece-cafc-4a34-8ed2-7b05d746b304",
   "metadata": {},
   "outputs": [],
   "source": [
    "# Add the gene program dictionary as binary masks to the adata for model training\n",
    "add_gps_from_gp_dict_to_adata(\n",
    "    gp_dict=mebocost_new_gp_dict,\n",
    "    adata=adata,\n",
    "    genes_uppercase=True,\n",
    "    gp_targets_mask_key=gp_targets_mask_key,\n",
    "    gp_sources_mask_key=gp_sources_mask_key,\n",
    "    gp_names_key=gp_names_key,\n",
    "    min_genes_per_gp=1,\n",
    "    min_source_genes_per_gp=0,\n",
    "    min_target_genes_per_gp=0,\n",
    "    max_genes_per_gp=None,\n",
    "    max_source_genes_per_gp=None,\n",
    "    max_target_genes_per_gp=None)\n",
    "\n",
    "# Determine dimensionality of hidden encoder\n",
    "n_hidden_encoder = len(adata.uns[gp_names_key])"
   ]
  },
  {
   "cell_type": "code",
   "execution_count": null,
   "id": "f7f4467f-6f42-4fb9-8975-b46c90362d60",
   "metadata": {},
   "outputs": [],
   "source": [
    "# Summarize gene programs\n",
    "print(f\"Number of gene programs with probed genes: {len(adata.uns['autotalker_gp_names'])}.\")\n",
    "print(f\"Example gene programs: {random.sample(adata.uns['autotalker_gp_names'], 5)}.\")\n",
    "print(f\"Number of gene program target genes: {adata.varm['autotalker_gp_targets'].sum()}.\")\n",
    "print(f\"Number of gene program source genes: {adata.varm['autotalker_gp_sources'].sum()}.\")"
   ]
  },
  {
   "cell_type": "markdown",
   "id": "dcdb0dd0-33e7-46ac-97f1-ba76d87b5b12",
   "metadata": {},
   "source": [
    "#### 4.3.2 Initialize, Train & Save Model"
   ]
  },
  {
   "cell_type": "code",
   "execution_count": null,
   "id": "6fa6d0cd-ddc8-4224-9e2c-da9dc2da7c16",
   "metadata": {},
   "outputs": [],
   "source": [
    "model = Autotalker(adata,\n",
    "                   counts_key=counts_key,\n",
    "                   adj_key=adj_key,\n",
    "                   gp_names_key=gp_names_key,\n",
    "                   gp_targets_mask_key=gp_targets_mask_key,\n",
    "                   gp_sources_mask_key=gp_sources_mask_key,\n",
    "                   latent_key=latent_key,\n",
    "                   include_edge_recon_loss=True,\n",
    "                   include_gene_expr_recon_loss=True,\n",
    "                   log_variational=True,\n",
    "                   node_label_method=node_label_method,\n",
    "                   n_hidden_encoder=n_hidden_encoder,\n",
    "                   dropout_rate_encoder=0.,\n",
    "                   dropout_rate_graph_decoder=0.,\n",
    "                   gp_targets_mask=None,\n",
    "                   gp_sources_mask=None,\n",
    "                   n_addon_gps=0)"
   ]
  },
  {
   "cell_type": "code",
   "execution_count": null,
   "id": "b4cd88f0-a50b-4a2f-8af2-57f90b9f29ef",
   "metadata": {},
   "outputs": [],
   "source": [
    "experiment = mlflow.set_experiment(\"autotalker_mebocost_gps\")\n",
    "mlflow.log_param(\"dataset\", dataset)\n",
    "\n",
    "model.train(n_epochs=n_epochs,\n",
    "            lr=lr,\n",
    "            weight_decay=weight_decay,\n",
    "            lambda_l1_addon=lambda_l1_addon,\n",
    "            lambda_group_lasso=lambda_group_lasso,\n",
    "            edge_val_ratio=edge_val_ratio,\n",
    "            edge_test_ratio=edge_test_ratio,\n",
    "            node_val_ratio=node_val_ratio,\n",
    "            edge_batch_size=edge_batch_size,\n",
    "            mlflow_experiment_id=experiment.experiment_id,\n",
    "            verbose=True)"
   ]
  },
  {
   "cell_type": "code",
   "execution_count": null,
   "id": "dfc19acc-7be9-45a5-ac98-53803b92f000",
   "metadata": {},
   "outputs": [],
   "source": [
    "model.save(dir_path=f\"./model_artefacts/{dataset}/autotalker_mebocost_gps_{current_timestamp}\",\n",
    "           overwrite=True,\n",
    "           save_adata=True,\n",
    "           adata_file_name=f\"{dataset}.h5ad\")"
   ]
  },
  {
   "cell_type": "markdown",
   "id": "e88ce7fe-22ee-4f5b-9319-394c1eb434a4",
   "metadata": {},
   "source": [
    "### 4.4 Combined Prior Knowledge CCI Gene Programs"
   ]
  },
  {
   "cell_type": "markdown",
   "id": "dac907fa-88f6-452d-add9-fc3dcd2f99e0",
   "metadata": {},
   "source": [
    "#### 4.4.1 Create Combined Prior Knowledge CCI Gene Program Mask"
   ]
  },
  {
   "cell_type": "code",
   "execution_count": null,
   "id": "ce3d2721-7054-4761-8032-e1641c2523a3",
   "metadata": {},
   "outputs": [],
   "source": [
    "nichenet_gp_dict = extract_gp_dict_from_nichenet_ligand_target_mx(\n",
    "    keep_target_ratio=0.1,\n",
    "    load_from_disk=False,\n",
    "    save_to_disk=True,\n",
    "    file_path=nichenet_ligand_target_mx_file_path)"
   ]
  },
  {
   "cell_type": "code",
   "execution_count": null,
   "id": "5c9d262a-f54a-40bc-aa63-eb6f42a28886",
   "metadata": {},
   "outputs": [],
   "source": [
    "omnipath_gp_dict = extract_gp_dict_from_omnipath_lr_interactions(\n",
    "    min_curation_effort=0,\n",
    "    load_from_disk=False,\n",
    "    save_to_disk=True,\n",
    "    file_path=omnipath_lr_interactions_file_path)"
   ]
  },
  {
   "cell_type": "code",
   "execution_count": null,
   "id": "ae0f307d-68f8-4003-89bc-b9ded45569a9",
   "metadata": {},
   "outputs": [],
   "source": [
    "mebocost_gp_dict = extract_gp_dict_from_mebocost_es_interactions(\n",
    "    species=\"mouse\",\n",
    "    genes_uppercase=True)"
   ]
  },
  {
   "cell_type": "code",
   "execution_count": null,
   "id": "85b8c216-c3e0-43bb-8de6-24796912dd67",
   "metadata": {},
   "outputs": [],
   "source": [
    "# Combine gene programs into one dictionary\n",
    "combined_gp_dict = dict(nichenet_gp_dict)\n",
    "combined_gp_dict.update(omnipath_gp_dict)\n",
    "combined_gp_dict.update(mebocost_gp_dict)"
   ]
  },
  {
   "cell_type": "code",
   "execution_count": null,
   "id": "18f7584b-4409-4b4f-b0aa-ffb75e9acff0",
   "metadata": {},
   "outputs": [],
   "source": [
    "# Filter and combine combined gene interaction gene programs\n",
    "combined_new_gp_dict = filter_and_combine_gp_dict_gps(\n",
    "    gp_dict=combined_gp_dict,\n",
    "    gp_filter_mode=\"subset\",\n",
    "    combine_overlap_gps=True,\n",
    "    overlap_thresh_source_genes=0.9,\n",
    "    overlap_thresh_target_genes=0.9,\n",
    "    overlap_thresh_genes=0.9,\n",
    "    verbose=True)\n",
    "\n",
    "print(f\"Number of gene programs before filtering and combining: {len(combined_gp_dict)}.\")\n",
    "print(f\"Number of gene programs after filtering and combining: {len(combined_new_gp_dict)}.\")"
   ]
  },
  {
   "cell_type": "code",
   "execution_count": null,
   "id": "6f13773c-e6c1-4786-b663-8d26f4328f4d",
   "metadata": {},
   "outputs": [],
   "source": [
    "# Add the gene program dictionary as binary masks to the adata for model training\n",
    "add_gps_from_gp_dict_to_adata(\n",
    "    gp_dict=combined_new_gp_dict,\n",
    "    adata=adata,\n",
    "    genes_uppercase=True,\n",
    "    gp_targets_mask_key=gp_targets_mask_key,\n",
    "    gp_sources_mask_key=gp_sources_mask_key,\n",
    "    gp_names_key=gp_names_key,\n",
    "    min_genes_per_gp=1,\n",
    "    min_source_genes_per_gp=0,\n",
    "    min_target_genes_per_gp=0,\n",
    "    max_genes_per_gp=None,\n",
    "    max_source_genes_per_gp=None,\n",
    "    max_target_genes_per_gp=None)\n",
    "\n",
    "# Determine dimensionality of hidden encoder\n",
    "n_hidden_encoder = len(adata.uns[gp_names_key])"
   ]
  },
  {
   "cell_type": "code",
   "execution_count": null,
   "id": "ffaa16ff-7391-42b7-8bcc-62ddb43c3502",
   "metadata": {},
   "outputs": [],
   "source": [
    "# Summarize gene programs\n",
    "print(f\"Number of gene programs with probed genes: {len(adata.uns['autotalker_gp_names'])}.\")\n",
    "print(f\"Example gene programs: {random.sample(adata.uns['autotalker_gp_names'], 5)}.\")\n",
    "print(f\"Number of gene program target genes: {adata.varm['autotalker_gp_targets'].sum()}.\")\n",
    "print(f\"Number of gene program source genes: {adata.varm['autotalker_gp_sources'].sum()}.\")"
   ]
  },
  {
   "cell_type": "markdown",
   "id": "2d621701-56aa-4b22-90c6-20e5d1166774",
   "metadata": {},
   "source": [
    "#### 4.4.2 Initialize, Train & Save Model"
   ]
  },
  {
   "cell_type": "code",
   "execution_count": null,
   "id": "b153e8e9-58fc-46f1-b230-cff0590df4f7",
   "metadata": {},
   "outputs": [],
   "source": [
    "model = Autotalker(adata,\n",
    "                   counts_key=counts_key,\n",
    "                   adj_key=adj_key,\n",
    "                   gp_names_key=gp_names_key,\n",
    "                   gp_targets_mask_key=gp_targets_mask_key,\n",
    "                   gp_sources_mask_key=gp_sources_mask_key,\n",
    "                   latent_key=latent_key,\n",
    "                   include_edge_recon_loss=True,\n",
    "                   include_gene_expr_recon_loss=True,\n",
    "                   log_variational=True,\n",
    "                   node_label_method=node_label_method,\n",
    "                   n_hidden_encoder=n_hidden_encoder,\n",
    "                   dropout_rate_encoder=0.,\n",
    "                   dropout_rate_graph_decoder=0.,\n",
    "                   gp_targets_mask=None,\n",
    "                   gp_sources_mask=None,\n",
    "                   n_addon_gps=0)"
   ]
  },
  {
   "cell_type": "code",
   "execution_count": null,
   "id": "35180e43-529c-4f91-8219-729b3b7bf0ec",
   "metadata": {},
   "outputs": [],
   "source": [
    "experiment = mlflow.set_experiment(\"autotalker_combined_gps\")\n",
    "mlflow.log_param(\"dataset\", dataset)\n",
    "\n",
    "model.train(n_epochs=n_epochs,\n",
    "            lr=lr,\n",
    "            weight_decay=weight_decay,\n",
    "            lambda_l1_addon=lambda_l1_addon,\n",
    "            lambda_group_lasso=lambda_group_lasso,\n",
    "            edge_val_ratio=edge_val_ratio,\n",
    "            edge_test_ratio=edge_test_ratio,\n",
    "            node_val_ratio=node_val_ratio,\n",
    "            edge_batch_size=edge_batch_size,\n",
    "            mlflow_experiment_id=experiment.experiment_id,\n",
    "            verbose=True)"
   ]
  },
  {
   "cell_type": "code",
   "execution_count": null,
   "id": "f2abbb4e-aae7-4f5e-9d9a-68c2ec11c9bf",
   "metadata": {},
   "outputs": [],
   "source": [
    "model.save(dir_path=f\"./model_artefacts/{dataset}/autotalker_combined_gps_{current_timestamp}\",\n",
    "           overwrite=True,\n",
    "           save_adata=True,\n",
    "           adata_file_name=f\"{dataset}.h5ad\")"
   ]
  },
  {
   "cell_type": "markdown",
   "id": "6bfc66c9-17eb-4221-b125-985a0f69d51c",
   "metadata": {},
   "source": [
    "### 4.5 Learn New CCI Gene Programs"
   ]
  },
  {
   "cell_type": "code",
   "execution_count": null,
   "id": "2a7e3bb4-e4c2-4969-99d4-28b682053df8",
   "metadata": {},
   "outputs": [],
   "source": [
    "model = Autotalker.load(dir_path=f\"./model_artefacts/{dataset}/autotalker_combined_gps_{current_timestamp}\",\n",
    "                        adata=None,\n",
    "                        adata_file_name=f\"{dataset}.h5ad\",\n",
    "                        n_addon_gps=10,\n",
    "                        gp_names_key=gp_names_key,\n",
    "                        freeze_non_addon_weights=True)"
   ]
  },
  {
   "cell_type": "code",
   "execution_count": null,
   "id": "16bffbc8-a6ba-480d-9815-16a02a5687f4",
   "metadata": {},
   "outputs": [],
   "source": [
    "experiment = mlflow.set_experiment(\"autotalker_combined_denovo_gps\")\n",
    "mlflow.log_param(\"dataset\", dataset)\n",
    "\n",
    "model.train(n_epochs=n_epochs,\n",
    "            lr=lr,\n",
    "            weight_decay=weight_decay,\n",
    "            lambda_l1_addon=lambda_l1_addon,\n",
    "            lambda_group_lasso=lambda_group_lasso,\n",
    "            edge_val_ratio=edge_val_ratio,\n",
    "            edge_test_ratio=edge_test_ratio,\n",
    "            node_val_ratio=node_val_ratio,\n",
    "            edge_batch_size=edge_batch_size,\n",
    "            mlflow_experiment_id=experiment.experiment_id,\n",
    "            verbose=True)"
   ]
  },
  {
   "cell_type": "code",
   "execution_count": null,
   "id": "fc3379b8-dc79-42c5-b304-d4672c045ba8",
   "metadata": {},
   "outputs": [],
   "source": [
    "model.save(dir_path=f\"./model_artefacts/{dataset}/autotalker_combined_denovo_gps_{current_timestamp}\",\n",
    "           overwrite=True,\n",
    "           save_adata=True,\n",
    "           adata_file_name=f\"{dataset}.h5ad\")"
   ]
  },
  {
   "cell_type": "markdown",
   "id": "ec8ddcb9-69ab-4ddb-9eef-d00b76d9aff3",
   "metadata": {},
   "source": [
    "## 5. Benchmarking"
   ]
  },
  {
   "cell_type": "code",
   "execution_count": 10,
   "id": "95a2419e-a714-4d48-8b45-e4a7ba6b98cf",
   "metadata": {},
   "outputs": [
    {
     "name": "stdout",
     "output_type": "stream",
     "text": [
      "--- INITIALIZING NEW NETWORK MODULE: VARIATIONAL GENE PROGRAM GRAPH AUTOENCODER ---\n",
      "LOSS -> include_edge_recon_loss: True, include_gene_expr_recon_loss: True\n",
      "NODE LABEL METHOD -> one-hop-attention\n",
      "GCN ENCODER -> n_input: 351, n_hidden: 774, n_latent: 774, n_addon_latent: 0, dropout_rate: 0.0\n",
      "DOT PRODUCT GRAPH DECODER -> dropout_rate: 0.0\n",
      "MASKED GENE EXPRESSION DECODER -> n_input: 774, n_addon_input: 0, n_output: 702\n"
     ]
    }
   ],
   "source": [
    "# Load model\n",
    "#loading_timestamp = current_timestamp\n",
    "loading_timestamp = \"24112022_232708\"\n",
    "#gp_mode = \"fc_gps\"\n",
    "#gp_mode = \"omnipath_gps\"\n",
    "#gp_mode = \"nichenet_gps\"\n",
    "#gp_mode = \"mebocost_gps\"\n",
    "gp_mode = \"combined_gps\"\n",
    "#gp_mode = combined_denovo_gps\n",
    "\n",
    "model = Autotalker.load(dir_path=f\"./model_artefacts/{dataset}/autotalker_{gp_mode}_{loading_timestamp}\",\n",
    "                        adata=None,\n",
    "                        adata_file_name=f\"{dataset}.h5ad\")"
   ]
  },
  {
   "cell_type": "code",
   "execution_count": 12,
   "id": "5d832601-d2cf-4ddb-af1a-9dac23c6528b",
   "metadata": {},
   "outputs": [
    {
     "name": "stdout",
     "output_type": "stream",
     "text": [
      "Number of total gene programs: 774.\n",
      "Number of active gene programs: 182.\n"
     ]
    }
   ],
   "source": [
    "active_gps, active_gps_weight_sums = model.get_active_gps_with_weight_sums(min_weight_sum_thresh=1.0)\n",
    "print(f\"Number of total gene programs: {len(model.adata.uns[gp_names_key])}.\")\n",
    "print(f\"Number of active gene programs: {len(active_gps)}.\")"
   ]
  },
  {
   "cell_type": "code",
   "execution_count": 13,
   "id": "e9d56fa0-e1de-48ed-b32b-503181fbdd11",
   "metadata": {},
   "outputs": [],
   "source": [
    "from autotalker.benchmarking import compute_cell_cat_cls_accuracy"
   ]
  },
  {
   "cell_type": "code",
   "execution_count": null,
   "id": "0bc23ef9-ee6a-49dd-b720-7048058dc2ae",
   "metadata": {},
   "outputs": [],
   "source": [
    "acc = compute_cell_cat_cls_accuracy(adata=model.adata,\n",
    "                                    cat_key=\"celltype_mapped_refined\",\n",
    "                                    gp_names_key=\"autotalker_gp_names\",\n",
    "                                    latent_key=\"autotalker_latent\",\n",
    "                                    selected_gps=None,\n",
    "                                    selected_cats=None,\n",
    "                                    seed=random_seed)"
   ]
  },
  {
   "cell_type": "code",
   "execution_count": null,
   "id": "2d9cbdce-9c79-4c5a-b1d8-7ecac13790d6",
   "metadata": {},
   "outputs": [],
   "source": [
    "acc"
   ]
  },
  {
   "cell_type": "code",
   "execution_count": null,
   "id": "53fcda84-51bb-43c0-b64c-5464e2d5cb6b",
   "metadata": {},
   "outputs": [],
   "source": [
    "X = [[0], [3], [1]]\n",
    "from sklearn.neighbors import kneighbors_graph\n",
    "A = kneighbors_graph(X, 2, mode='connectivity', include_self=True)\n",
    "type(A)"
   ]
  },
  {
   "cell_type": "code",
   "execution_count": null,
   "id": "fc78bcfa-16ec-4c8f-8e9e-e69a3afd1487",
   "metadata": {},
   "outputs": [],
   "source": [
    "test = model._get_public_attributes()"
   ]
  },
  {
   "cell_type": "code",
   "execution_count": null,
   "id": "9d5500e0-2ad4-4f0e-aada-8ab7c0a03c40",
   "metadata": {},
   "outputs": [],
   "source": [
    "active_gps = model.get_active_gps()"
   ]
  },
  {
   "cell_type": "code",
   "execution_count": null,
   "id": "5b47f132-6312-4777-8b1e-87f0ae4d7e86",
   "metadata": {},
   "outputs": [],
   "source": [
    "active_gps"
   ]
  },
  {
   "cell_type": "code",
   "execution_count": null,
   "id": "b7459b16-36e0-43f1-aa57-fe92c8c44825",
   "metadata": {},
   "outputs": [],
   "source": [
    "gp_weights = gp_weights.cpu().numpy().copy()"
   ]
  },
  {
   "cell_type": "code",
   "execution_count": null,
   "id": "36557668-57c7-4e09-b89e-1fcfc778d5c0",
   "metadata": {},
   "outputs": [],
   "source": [
    "gp_weights_normed = gp_weights.norm(p=1, dim=0)"
   ]
  },
  {
   "cell_type": "code",
   "execution_count": null,
   "id": "d0f72fb1-1504-4d98-a287-80efece88b89",
   "metadata": {},
   "outputs": [],
   "source": [
    "gp_weights_normed"
   ]
  },
  {
   "cell_type": "code",
   "execution_count": null,
   "id": "f5b23d6e-e749-4298-a022-32e7d06fcbcd",
   "metadata": {},
   "outputs": [],
   "source": [
    "decoder_gpwise_param_sum.sum()"
   ]
  },
  {
   "cell_type": "code",
   "execution_count": null,
   "id": "7069f9c6-fda4-456f-aa49-3e09976e696b",
   "metadata": {},
   "outputs": [],
   "source": [
    "decoder_gpwise_param_sum"
   ]
  },
  {
   "cell_type": "markdown",
   "id": "8a921d33-c1e8-48a7-bf34-1b7663832b2a",
   "metadata": {},
   "source": [
    "### 5.1 Graph Connectivity Distance (GCD)"
   ]
  },
  {
   "cell_type": "markdown",
   "id": "4620c0af-453c-46c5-90f1-fa37fc60698c",
   "metadata": {},
   "source": [
    "Measures the edge preservation in the latent space vs the physical space."
   ]
  },
  {
   "cell_type": "code",
   "execution_count": null,
   "id": "f432a2fb-8d2c-40f2-b0a9-cf74ecc44965",
   "metadata": {},
   "outputs": [],
   "source": [
    "avg_gcd_list = []\n",
    "\n",
    "avg_gcd_list.append(compute_avg_gcd(adata=adata,\n",
    "                          spatial_key=\"spatial\",\n",
    "                          latent_key=\"latent_autotalker_combined_gps\",\n",
    "                          seed=random_state))"
   ]
  },
  {
   "cell_type": "code",
   "execution_count": null,
   "id": "b9e36785-0c7d-4b28-97e3-32a5d6abca6d",
   "metadata": {},
   "outputs": [],
   "source": [
    "plt.scatter(avg_gcd_list)"
   ]
  },
  {
   "cell_type": "code",
   "execution_count": null,
   "id": "b7a7ebfc-6665-4070-a973-6712d128ac95",
   "metadata": {},
   "outputs": [],
   "source": [
    "avg_gcd = compute_avg_gcd(adata=adata,\n",
    "                          spatial_key=\"spatial\",\n",
    "                          latent_key=\"latent_autotalker_omnipath_gps\",\n",
    "                          seed=random_state)\n",
    "print(\"Average graph connectivity distance:\", avg_gcd)"
   ]
  },
  {
   "cell_type": "markdown",
   "id": "43a86d22-f062-45f4-9408-616b1888fa45",
   "metadata": {},
   "source": [
    "### 5.2 Leiden Normalized Mutual Info (LNMI)"
   ]
  },
  {
   "cell_type": "markdown",
   "id": "cd358515-7cf6-4528-9694-93f15da523f4",
   "metadata": {},
   "source": [
    "Measures the preservation of spatial organization by comparing cluster overlaps between the latent space and physical space."
   ]
  },
  {
   "cell_type": "code",
   "execution_count": null,
   "id": "e9de532d-dc6a-4129-aa26-b6fbe2dc1ecc",
   "metadata": {},
   "outputs": [],
   "source": [
    "max_lnmi = compute_max_lnmi(adata=adata,\n",
    "                            spatial_key=\"spatial\",\n",
    "                            latent_key=\"latent_autotalker_fc_gps\",\n",
    "                            seed=random_state,\n",
    "                            visualize_leiden_clustering=True)\n",
    "print(f\"Maximum Leiden Normalized Mutual Info: {max_lnmi}.\")"
   ]
  },
  {
   "cell_type": "markdown",
   "id": "eff9b931-7438-4b1d-93c7-c23590d806d3",
   "metadata": {},
   "source": [
    "### 5.3 Cell-type Affinity Distance (CAD)"
   ]
  },
  {
   "cell_type": "markdown",
   "id": "4ab4390b-f7e0-4a0c-a7e8-f8ab25d3a38c",
   "metadata": {},
   "source": [
    "Measures preservation of cell-cell contact maps, that means cell-type enrichments in a cell’s neighborhood across all cells, in latent space vs physical space."
   ]
  },
  {
   "cell_type": "code",
   "execution_count": null,
   "id": "05729e04-6939-4dbd-8f34-1dd0ee7b886e",
   "metadata": {},
   "outputs": [],
   "source": [
    "avg_cad = compute_avg_cad(adata=adata,\n",
    "                          cell_type_key=cell_type_key,\n",
    "                          spatial_key=\"spatial\",\n",
    "                          latent_key=\"latent_autotalker_fc_gps\",\n",
    "                          seed=random_state)\n",
    "print(\"Average cell-type affinity distance:\", avg_cad)"
   ]
  },
  {
   "cell_type": "code",
   "execution_count": null,
   "id": "d7122992-364e-472c-9912-0044d8a300b6",
   "metadata": {},
   "outputs": [],
   "source": [
    "cad = compute_cad(adata=adata,\n",
    "                  cell_type_key=cell_type_key,\n",
    "                  spatial_key=\"spatial\",\n",
    "                  latent_key=\"latent_autotalker_fc_gps\",\n",
    "                  n_neighbors=15,\n",
    "                  seed=random_state,\n",
    "                  visualize_ccc_maps=True)\n",
    "print(\"Cell-type affinity distance:\", cad)"
   ]
  },
  {
   "cell_type": "markdown",
   "id": "d46c318f-b3e6-4138-a09d-1ab5b8637abf",
   "metadata": {},
   "source": [
    "### 5.4 Relative Cell-type Local Inverse Simpson's Index (RCLISI)"
   ]
  },
  {
   "cell_type": "markdown",
   "id": "4840d43c-2e66-48dc-90ec-4b89d40a1936",
   "metadata": {},
   "source": [
    "Measures preservation of spatial cell-type heterogeneity in latent space vs physical space."
   ]
  },
  {
   "cell_type": "code",
   "execution_count": null,
   "id": "ca2f5b1d-5e8e-4234-8d6a-9ee1df9fc6da",
   "metadata": {},
   "outputs": [],
   "source": [
    "per_cell_log_rclisi_df = compute_per_cell_log_rclisi(adata=adata,\n",
    "                                                     cell_type_key=cell_type_key,\n",
    "                                                     spatial_key=\"spatial\",\n",
    "                                                     latent_key=\"latent_autotalker_fc_gps\",\n",
    "                                                     n_neighbors=15,\n",
    "                                                     seed=random_state)"
   ]
  },
  {
   "cell_type": "code",
   "execution_count": null,
   "id": "c085bdd1-3b13-48bd-9cf6-6a6b80eb27b5",
   "metadata": {},
   "outputs": [],
   "source": [
    "sns.displot(per_cell_log_rclisi_df, x=\"log_rclisi\", kind=\"kde\", bw_adjust=2, height=3, aspect=10)"
   ]
  },
  {
   "cell_type": "markdown",
   "id": "5087a7a9-7f2c-433d-aac6-9602fabe3045",
   "metadata": {},
   "source": [
    "### 5.5 Gene Expression Reconstruction (GER)"
   ]
  },
  {
   "cell_type": "markdown",
   "id": "7973cba5-1cab-4ce8-b76f-6e3af8ae46f5",
   "metadata": {},
   "source": [
    "## 6. Analysis"
   ]
  },
  {
   "cell_type": "code",
   "execution_count": null,
   "id": "fcb0855a-9275-44e5-b894-89f1fe0dd40d",
   "metadata": {},
   "outputs": [],
   "source": [
    "gps = adata.uns[gp_names_key]"
   ]
  },
  {
   "cell_type": "code",
   "execution_count": null,
   "id": "a54055fc-9182-4798-bf7d-7d40b5d9beef",
   "metadata": {},
   "outputs": [],
   "source": [
    "# Use autotalker latent space for UMAP generation\n",
    "sc.pp.neighbors(adata, use_rep=\"autotalker_latent\")\n",
    "sc.tl.umap(adata, min_dist=0.3)"
   ]
  },
  {
   "cell_type": "markdown",
   "id": "e2327693-3e14-421d-9447-69f37dc10944",
   "metadata": {},
   "source": [
    "### 6.1 Cell-type Annotations in Physical and Latent Space"
   ]
  },
  {
   "cell_type": "code",
   "execution_count": null,
   "id": "3978e1bf-a054-41d6-8389-3dbbaac03579",
   "metadata": {},
   "outputs": [],
   "source": [
    "# Create subplot of cell-type annotations in physical and latent space\n",
    "fig, axs = plt.subplots(nrows=2, ncols=1, figsize=(10, 20))\n",
    "title = fig.suptitle(t=\"Cell-type Annotations in Physical and Latent Space\",\n",
    "                     x=0.85,\n",
    "                     y=0.925,\n",
    "                     fontsize=20)\n",
    "sc.pl.spatial(adata=adata,\n",
    "              color=[cell_type_key],\n",
    "              spot_size=0.03,\n",
    "              title=\"Physical Space\",\n",
    "              ax=axs[0],\n",
    "              show=False)\n",
    "sc.pl.umap(adata=adata,\n",
    "           color=[cell_type_key],\n",
    "           title=\"Latent Space\",\n",
    "           ax=axs[1],\n",
    "           show=False)\n",
    "\n",
    "# Create and position shared legend\n",
    "handles, labels = axs[0].get_legend_handles_labels()\n",
    "lgd = fig.legend(handles, labels, bbox_to_anchor=(1.225, 0.625))\n",
    "axs[0].get_legend().remove()\n",
    "axs[1].get_legend().remove()\n",
    "\n",
    "# Adjust, save and display plot\n",
    "plt.subplots_adjust(wspace=0, hspace=0.1)\n",
    "fig.savefig(f\"figures/analysis/{dataset}/cell_type_annotations_in_physical_and_latent_space_{current_timestamp}.png\",\n",
    "            bbox_extra_artists=(lgd, title),\n",
    "            bbox_inches=\"tight\")\n",
    "plt.show()"
   ]
  },
  {
   "cell_type": "markdown",
   "id": "92ef6859-0bdd-4f7b-bf71-3a8f182b982c",
   "metadata": {},
   "source": [
    "### 6.2 Latent Leiden Cluster Annotations in Latent and Physical Space"
   ]
  },
  {
   "cell_type": "code",
   "execution_count": null,
   "id": "3f3c63dd-3fc7-4154-af1b-0dae55cf3c8d",
   "metadata": {},
   "outputs": [],
   "source": [
    "model.compute_latent_graph_connectivities(adata=adata,\n",
    "                                          n_neighbors=8,\n",
    "                                          mode=\"knn\",\n",
    "                                          seed=random_seed)"
   ]
  },
  {
   "cell_type": "code",
   "execution_count": null,
   "id": "a6ad8032-956b-464b-8ead-ac6ea5dc6d26",
   "metadata": {},
   "outputs": [],
   "source": [
    "# Compute latent Leiden clustering\n",
    "resolution = 0.3\n",
    "\n",
    "sc.tl.leiden(adata=adata,\n",
    "             resolution=resolution,\n",
    "             random_state=random_seed,\n",
    "             key_added=f\"latent_leiden_{str(resolution)}\",\n",
    "             adjacency=adata.obsp[\"latent_connectivities\"])\n",
    "\n",
    "# Compute UMAP for latent Leiden clusters\n",
    "sc.pp.neighbors(adata=adata, use_rep=\"autotalker_latent\")\n",
    "sc.tl.umap(adata=adata, min_dist=0.3)"
   ]
  },
  {
   "cell_type": "code",
   "execution_count": null,
   "id": "b8ad37d6-4503-4595-98cc-ac25d4a5ab89",
   "metadata": {},
   "outputs": [],
   "source": [
    "# Create subplot of latent Leiden cluster annotations in physical and latent space\n",
    "fig, axs = plt.subplots(nrows=2, ncols=1, figsize=(10, 20))\n",
    "title = fig.suptitle(t=\"Latent Leiden Cluster Annotations in Latent and Physical Space\",\n",
    "                     x=0.85,\n",
    "                     y=0.925,\n",
    "                     fontsize=20)\n",
    "sc.pl.umap(adata=adata,\n",
    "           color=[f\"latent_leiden_{str(resolution)}\"],\n",
    "           color_map=\"magma\",\n",
    "           title=f\"Latent Space\",\n",
    "           ax=axs[0],\n",
    "           show=False)\n",
    "sc.pl.spatial(adata=adata,\n",
    "              color=[f\"latent_leiden_{str(resolution)}\"],\n",
    "              color_map=\"magma\",\n",
    "              spot_size=0.03,\n",
    "              title=f\"Physical Space\",\n",
    "              ax=axs[1],\n",
    "              show=False)\n",
    "\n",
    "# Create and position shared legend\n",
    "handles, labels = axs[0].get_legend_handles_labels()\n",
    "lgd = fig.legend(handles, labels, bbox_to_anchor=(1.025, 0.7))\n",
    "axs[0].get_legend().remove()\n",
    "axs[1].get_legend().remove()\n",
    "\n",
    "# Adjust, save and display plot\n",
    "plt.subplots_adjust(wspace=0, hspace=0.1)\n",
    "fig.savefig(f\"figures/analysis/{dataset}/latent_leiden_cluster_annotations_in_latent_and_physical_space_{current_timestamp}.png\",\n",
    "            bbox_extra_artists=(lgd, title),\n",
    "            bbox_inches=\"tight\")\n",
    "plt.show()"
   ]
  },
  {
   "cell_type": "markdown",
   "id": "06e25698-fcfd-4f05-93b6-86cf42f17582",
   "metadata": {},
   "source": [
    "### 6.3 Gene Program Enrichments"
   ]
  },
  {
   "cell_type": "markdown",
   "id": "fbbbfa47-3b4d-4ee3-a95f-0a4ab03bc6da",
   "metadata": {},
   "source": [
    "#### 6.3.1 Cell-type Gene Program Enrichments"
   ]
  },
  {
   "cell_type": "code",
   "execution_count": null,
   "id": "adf68073-51ca-4c0f-977c-9d89f7f93867",
   "metadata": {},
   "outputs": [],
   "source": [
    "differential_gp_scores_key = \"autotalker_cell_type_differential_gp_scores\"\n",
    "n_top_up_gps = 6\n",
    "n_top_down_gps = 6"
   ]
  },
  {
   "cell_type": "markdown",
   "id": "97bbd6da-19b2-41c3-99f7-0438d60b5e7a",
   "metadata": {},
   "source": [
    "##### 6.3.1.1 Explore All GPs Across All Categories"
   ]
  },
  {
   "cell_type": "code",
   "execution_count": null,
   "id": "6cd1d337-8c7c-408b-af4c-ef1bc0db25a3",
   "metadata": {},
   "outputs": [],
   "source": [
    "# Compute gene program enrichments and retrieve top up- and downregulated gene programs\n",
    "top_unique_gps = model.compute_differential_gp_scores(cat_key=cell_type_key,\n",
    "                                                      adata=adata,\n",
    "                                                      selected_gps=None,\n",
    "                                                      selected_cats=None,\n",
    "                                                      gp_scores_weight_normalization=False,\n",
    "                                                      gp_scores_zi_normalization=False,\n",
    "                                                      comparison_cats=\"rest\",\n",
    "                                                      n_sample=1000,\n",
    "                                                      key_added=differential_gp_scores_key,\n",
    "                                                      n_top_up_gps_retrieved=n_top_up_gps,\n",
    "                                                      n_top_down_gps_retrieved=n_top_down_gps,\n",
    "                                                      seed=random_seed)"
   ]
  },
  {
   "cell_type": "code",
   "execution_count": null,
   "id": "3c6841f3-20fc-46ba-976f-4cf3797146d6",
   "metadata": {},
   "outputs": [],
   "source": [
    "# Display top upregulated gene programs\n",
    "top_up_gp_df = adata.uns[differential_gp_scores_key][:n_top_up_gps]\n",
    "display(top_up_gp_df)"
   ]
  },
  {
   "cell_type": "code",
   "execution_count": null,
   "id": "88caddc2-7fc5-4e91-9c86-48d03771052e",
   "metadata": {},
   "outputs": [],
   "source": [
    "# Display top downregulated gene programs\n",
    "top_down_gp_df = adata.uns[differential_gp_scores_key][-n_top_down_gps:][::-1]\n",
    "display(top_down_gp_df)"
   ]
  },
  {
   "cell_type": "code",
   "execution_count": null,
   "id": "3303c3a8-d0ad-4f27-bd46-6244d710e9bf",
   "metadata": {},
   "outputs": [],
   "source": [
    "fig = sc.pl.dotplot(adata,\n",
    "                    top_unique_gps,\n",
    "                    groupby=cell_type_key,\n",
    "                    dendrogram=True, \n",
    "                    title=\"Differential GP Scores Per Cell-type\",\n",
    "                    return_fig=True)\n",
    "\n",
    "# Save and display plot\n",
    "fig.savefig(f\"figures/analysis/{dataset}/differential_gp_scores_per_cell_type_all_categories_{current_timestamp}.png\")\n",
    "plt.show()"
   ]
  },
  {
   "cell_type": "code",
   "execution_count": null,
   "id": "65f355ac-0b4b-4a0f-91b0-679e7a331bf6",
   "metadata": {},
   "outputs": [],
   "source": [
    "top_cats = top_up_gp_df[\"category\"].append(top_down_gp_df[\"category\"]).to_list()\n",
    "top_gps = top_up_gp_df[\"gene_program\"].append(top_down_gp_df[\"gene_program\"]).to_list()\n",
    "top_genes = []\n",
    "\n",
    "for gp in top_gps:\n",
    "    top_genes.append(\n",
    "        model.compute_gp_gene_importances(selected_gp=gp)[\"gene\"][0])"
   ]
  },
  {
   "cell_type": "code",
   "execution_count": null,
   "id": "fc60fac3-f5d4-4fa3-b081-db025e15d455",
   "metadata": {},
   "outputs": [],
   "source": [
    "# Plot selected gene program latent scores\n",
    "fig, axs = plt.subplots(nrows=n_top_up_gps+n_top_down_gps, ncols=3, figsize=(18, 4*len(top_gps)))\n",
    "title = fig.suptitle(t=\"Differential GP Scores, Corresponding Cell-Types and Most Important GP Genes in Latent Space\",\n",
    "                     x=0.55,\n",
    "                     y=0.96,\n",
    "                     fontsize=20)\n",
    "for i in range(len(top_gps)):\n",
    "    sc.pl.umap(adata, color=top_gps[i], color_map=\"magma\", ax=axs[i, 0], show=False)\n",
    "    sc.pl.umap(adata,\n",
    "               color=[cell_type_key],\n",
    "               color_map=\"magma\",\n",
    "               groups=top_cats[i],\n",
    "               ax=axs[i, 1],\n",
    "               legend_loc=\"on data\",\n",
    "               na_in_legend=False,\n",
    "               show=False)\n",
    "    sc.pl.umap(adata,\n",
    "               color=gps_top_genes[i],\n",
    "               color_map=\"binary\",\n",
    "               ax=axs[i, 2],\n",
    "               legend_loc=\"on data\",\n",
    "               na_in_legend=False,\n",
    "               show=False)\n",
    "    \n",
    "# Save and display plot\n",
    "fig.savefig(f\"figures/analysis/{dataset}/cell_type_gp_scores_cell_types_most_important_genes_{current_timestamp}.png\",\n",
    "            bbox_extra_artists=(title,),\n",
    "            bbox_inches=\"tight\")\n",
    "plt.show()"
   ]
  },
  {
   "cell_type": "markdown",
   "id": "dc75ff5a-84e5-403f-baf9-125bc593f2b8",
   "metadata": {},
   "source": [
    "##### 6.3.1.2 Explore All GPs Across Specific Categories"
   ]
  },
  {
   "cell_type": "code",
   "execution_count": null,
   "id": "ef8a5bc9-e9e0-4f54-b4d9-9917d734033b",
   "metadata": {},
   "outputs": [],
   "source": [
    "selected_cats = [\"Erythroid\", \"Endothelium\"]"
   ]
  },
  {
   "cell_type": "code",
   "execution_count": null,
   "id": "9baed261-9fd5-4da3-909a-479cd68057a1",
   "metadata": {},
   "outputs": [],
   "source": [
    "# Compute gene program enrichments and retrieve top up- and downregulated gene programs\n",
    "top_gps = model.compute_differential_gp_scores(cat_key=cell_type_key,\n",
    "                                               adata=adata,\n",
    "                                               selected_gps=None,\n",
    "                                               selected_cats=selected_cats,\n",
    "                                               gp_scores_weight_normalization=False,\n",
    "                                               gp_scores_zi_normalization=False,\n",
    "                                               comparison_cats=\"rest\",\n",
    "                                               n_sample=1000,\n",
    "                                               key_added=differential_gp_scores_key,\n",
    "                                               n_top_up_gps_retrieved=n_top_up_gps,\n",
    "                                               n_top_down_gps_retrieved=n_top_down_gps,\n",
    "                                               seed=random_seed)"
   ]
  },
  {
   "cell_type": "code",
   "execution_count": null,
   "id": "78f7fdbc-363c-4c5d-b618-728f48a709b9",
   "metadata": {},
   "outputs": [],
   "source": [
    "# Display top upregulated gene programs\n",
    "adata.uns[differential_gp_scores_key][:n_top_up_gps]"
   ]
  },
  {
   "cell_type": "code",
   "execution_count": null,
   "id": "2bfd9885-3a7e-43a1-8c2f-cc5ffbf65ac2",
   "metadata": {},
   "outputs": [],
   "source": [
    "# Display top downregulated gene programs\n",
    "adata.uns[differential_gp_scores_key][-n_top_down_gps:][::-1]"
   ]
  },
  {
   "cell_type": "code",
   "execution_count": null,
   "id": "acd0c490-e958-4a31-8fa2-90aa35fddcf2",
   "metadata": {},
   "outputs": [],
   "source": [
    "fig = sc.pl.dotplot(adata,\n",
    "                    top_gps,\n",
    "                    groupby=cell_type_key,\n",
    "                    dendrogram=True, \n",
    "                    title=\"Differential GP Scores Per Cell-type\",\n",
    "                    return_fig=True)\n",
    "\n",
    "# Save and display plot\n",
    "fig.savefig(f\"figures/analysis/{dataset}/differential_gp_scores_per_cell_type_specific_categories_{current_timestamp}.png\")\n",
    "plt.show()"
   ]
  },
  {
   "cell_type": "code",
   "execution_count": null,
   "id": "4420ecd1-176a-4829-82e4-670cb0205d01",
   "metadata": {},
   "outputs": [],
   "source": [
    "# Plot selected gene program latent scores\n",
    "fig, axs = plt.subplots(nrows=n_top_up_gps+n_top_down_gps, ncols=3, figsize=(18,4*(n_top_up_gps+n_top_down_gps)))\n",
    "title = fig.suptitle(\"Enriched GP Scores, Corresponding Cell-Types and Most Important GP Genes in Latent Space\", x=0.55, y=0.96)\n",
    "for i in range(len(selected_gps)):\n",
    "    sc.pl.umap(adata, color=selected_gps[i], color_map=\"magma\", ax=axs[i, 0], show=False)\n",
    "    sc.pl.umap(adata,\n",
    "               color=[cell_type_key],\n",
    "               color_map=\"magma\",\n",
    "               groups=selected_cell_types[i],\n",
    "               ax=axs[i, 1],\n",
    "               legend_loc=\"on data\",\n",
    "               na_in_legend=False,\n",
    "               show=False)\n",
    "    sc.pl.umap(adata,\n",
    "               color=selected_genes[i],\n",
    "               color_map=\"binary\",\n",
    "               ax=axs[i, 2],\n",
    "               legend_loc=\"on data\",\n",
    "               na_in_legend=False,\n",
    "               show=False)\n",
    "    \n",
    "# Save and display plot\n",
    "fig.savefig(f\"figures/analysis/{dataset}/enriched_cell_type_gp_scores_and_most_important_genes_{current_timestamp}.png\",\n",
    "            bbox_extra_artists=(title,),\n",
    "            bbox_inches=\"tight\")\n",
    "plt.show()"
   ]
  },
  {
   "cell_type": "code",
   "execution_count": null,
   "id": "f13fca6c-f286-4da2-827e-48966fad3eea",
   "metadata": {},
   "outputs": [],
   "source": [
    "# Split gene program enrichments per gene program type\n",
    "cell_type_ligand_receptor_gp_enrichment_df = cell_type_gp_enrichment_df[\n",
    "    adata.uns[gp_enrichment_scores_key][\"gene_program\"].str.contains(\"ligand_receptor\")].reset_index()\n",
    "\n",
    "cell_type_ligand_targetgene_gp_enrichment_df = cell_type_gp_enrichment_df[\n",
    "    adata.uns[gp_enrichment_scores_key][\"gene_program\"].str.contains(\"ligand_targetgenes\")].reset_index()\n",
    "\n",
    "cell_type_metabolite_enzyme_sensor_gp_enrichment_df = cell_type_gp_enrichment_df[\n",
    "    adata.uns[gp_enrichment_scores_key][\"gene_program\"].str.contains(\"metabolite_enzyme_sensor\")].reset_index()"
   ]
  },
  {
   "cell_type": "markdown",
   "id": "59cc2592-7588-4998-bd9f-5d76f859c492",
   "metadata": {},
   "source": [
    "##### 6.3.1.3 Explore Specific GPs"
   ]
  },
  {
   "cell_type": "code",
   "execution_count": null,
   "id": "a01e0687-a1fa-4ffd-90a5-9399ab7b2267",
   "metadata": {},
   "outputs": [],
   "source": [
    "selected_gps = [\"BMP7_ligand_receptor_GP\", \"EPOR_ligand_receptor_GP\"]"
   ]
  },
  {
   "cell_type": "code",
   "execution_count": null,
   "id": "2badb3ea-5372-47ec-b993-892b4935f9ab",
   "metadata": {},
   "outputs": [],
   "source": [
    "# Compute gene program enrichments and retrieve top up- and downregulated gene programs\n",
    "top_gps = model.compute_differential_gp_scores(cat_key=cell_type_key,\n",
    "                                               adata=adata,\n",
    "                                               selected_gps=selected_gps,\n",
    "                                               gp_scores_weight_normalization=False,\n",
    "                                               gp_scores_zi_normalization=False,\n",
    "                                               comparison_cats=\"rest\",\n",
    "                                               n_sample=1000,\n",
    "                                               key_added=differential_gp_scores_key,\n",
    "                                               n_top_up_gps_retrieved=n_top_up_gps,\n",
    "                                               n_top_down_gps_retrieved=n_top_down_gps,\n",
    "                                               seed=random_seed)"
   ]
  },
  {
   "cell_type": "code",
   "execution_count": null,
   "id": "843a8df5-ac27-4bcf-9994-738f17fe6869",
   "metadata": {},
   "outputs": [],
   "source": [
    "# Display top upregulated gene programs\n",
    "adata.uns[differential_gp_scores_key][:n_top_up_gps]"
   ]
  },
  {
   "cell_type": "code",
   "execution_count": null,
   "id": "5d94fd6b-4386-4246-a753-1eadc5af75c8",
   "metadata": {},
   "outputs": [],
   "source": [
    "# Display top downregulated gene programs\n",
    "adata.uns[differential_gp_scores_key][-n_top_down_gps:][::-1]"
   ]
  },
  {
   "cell_type": "code",
   "execution_count": null,
   "id": "15aab884-db27-4428-a950-9e0fc8d32d6e",
   "metadata": {},
   "outputs": [],
   "source": [
    "fig = sc.pl.dotplot(adata,\n",
    "                    selected_gps,\n",
    "                    groupby=cell_type_key,\n",
    "                    dendrogram=True, \n",
    "                    title=\"Differential GP Scores Per Cell-type\",\n",
    "                    return_fig=True)\n",
    "\n",
    "# Save and display plot\n",
    "fig.savefig(f\"figures/analysis/{dataset}/differential_gp_scores_per_cell_type_specific_gps_{current_timestamp}.png\")\n",
    "plt.show()"
   ]
  },
  {
   "cell_type": "code",
   "execution_count": null,
   "id": "2bc5ee00-36fb-4cf5-8ed6-527ffbfae293",
   "metadata": {},
   "outputs": [],
   "source": [
    "selected_gps = [\"BMP7_ligand_receptor_GP\"]\n",
    "cell_type = \"Cardiomyocytes\"\n",
    "top_gene = model.compute_gp_gene_importances(gp_name=selected_gps[0],\n",
    "                                             gp_names_key=gp_names_key)[\"gene\"][0]\n",
    "\n",
    "selected_gps_idx = [gps.index(gp) for gp in selected_gps]\n",
    "latent_selected_gps = latent[:, selected_gps_idx]\n",
    "for i, gp in enumerate(selected_gps):\n",
    "    adata.obs[gp] = latent_selected_gps[:, i]"
   ]
  },
  {
   "cell_type": "code",
   "execution_count": null,
   "id": "934a1a8e-1c58-4a93-96f8-603a09e6cd2d",
   "metadata": {},
   "outputs": [],
   "source": [
    "sc.pl.umap(adata, color=selected_gps[0], color_map=\"magma\")\n",
    "sc.pl.umap(adata,\n",
    "           color=[cell_type_key],\n",
    "           color_map=\"magma\",\n",
    "           groups=cell_type,\n",
    "           legend_loc=\"on data\",\n",
    "           na_in_legend=False)\n",
    "sc.pl.umap(adata,\n",
    "           color=top_gene,\n",
    "           color_map=\"binary\",\n",
    "           legend_loc=\"on data\",\n",
    "           na_in_legend=False)"
   ]
  },
  {
   "cell_type": "code",
   "execution_count": null,
   "id": "67bb1f3e-cebe-4cce-93d7-722b38001e83",
   "metadata": {},
   "outputs": [],
   "source": [
    "sc.pl.scatter(adata, x=\"CSF1_ligand_targetgenes_GP\", y=\"IL34_ligand_targetgenes_GP\", color=cell_type_key, size=10)"
   ]
  },
  {
   "cell_type": "markdown",
   "id": "4deeed99-5868-47ae-9adf-59e76f73b630",
   "metadata": {},
   "source": [
    "#### 6.3.2 Spatial Gene Program Enrichment Scores"
   ]
  },
  {
   "cell_type": "markdown",
   "id": "64f54c82-2fde-4034-b096-d76ef8c1e4a7",
   "metadata": {},
   "source": [
    "#### 6.3.3 Gene Program Gene Importances"
   ]
  },
  {
   "cell_type": "code",
   "execution_count": null,
   "id": "7218a844-3cb6-497e-bc1a-f0c76540379a",
   "metadata": {},
   "outputs": [],
   "source": [
    "selected_gp = [\"BMP7_ligand_receptor_GP\"]"
   ]
  },
  {
   "cell_type": "code",
   "execution_count": null,
   "id": "de02a1d3-0cf7-48d0-8c6d-acd0df593e1d",
   "metadata": {},
   "outputs": [],
   "source": [
    "gene_importances_df = model.compute_gp_gene_importances(\n",
    "    selected_gp=\"BMP7_ligand_receptor_GP\",\n",
    "    adata=None,\n",
    "    gene_importances_zi_normalization=True)\n",
    "\n",
    "display(gene_importances_df)"
   ]
  },
  {
   "cell_type": "code",
   "execution_count": null,
   "id": "554275c1-127c-4ff8-968a-a864371cb5f9",
   "metadata": {},
   "outputs": [],
   "source": [
    "genes = list(gene_importances_df[\"gene\"])\n",
    "\n",
    "for gene in genes:\n",
    "    sc.pl.umap(adata,\n",
    "               color=gene,\n",
    "               color_map=\"binary\",\n",
    "               legend_loc=\"on data\",\n",
    "               na_in_legend=False)"
   ]
  }
 ],
 "metadata": {
  "kernelspec": {
   "display_name": "base",
   "language": "python",
   "name": "base"
  },
  "language_info": {
   "codemirror_mode": {
    "name": "ipython",
    "version": 3
   },
   "file_extension": ".py",
   "mimetype": "text/x-python",
   "name": "python",
   "nbconvert_exporter": "python",
   "pygments_lexer": "ipython3",
   "version": "3.9.12"
  }
 },
 "nbformat": 4,
 "nbformat_minor": 5
}
