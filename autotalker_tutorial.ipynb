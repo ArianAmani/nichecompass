{
 "cells": [
  {
   "cell_type": "code",
   "execution_count": 1,
   "id": "4e5d3297-0290-47c0-846f-705e74cdb3de",
   "metadata": {},
   "outputs": [],
   "source": [
    "%load_ext autoreload\n",
    "%autoreload 2"
   ]
  },
  {
   "cell_type": "code",
   "execution_count": 2,
   "id": "b4aa3c6a-5a44-4cf1-84a3-5e514457cf3c",
   "metadata": {},
   "outputs": [],
   "source": [
    "import argparse\n",
    "import os\n",
    "import sys\n",
    "\n",
    "import mlflow\n",
    "import numpy as np\n",
    "import scanpy as sc\n",
    "import squidpy as sq\n",
    "\n",
    "from autotalker.data import load_spatial_adata_from_csv\n",
    "from autotalker.models import Autotalker\n",
    "from autotalker.utils import (add_gps_from_gp_dict_to_adata,\n",
    "                              extract_gp_dict_from_nichenet_ligand_target_mx,\n",
    "                              extract_gp_dict_from_omnipath_lr_interactions)"
   ]
  },
  {
   "cell_type": "code",
   "execution_count": 3,
   "id": "36675337-808d-40a9-93fc-d6cfa9473f66",
   "metadata": {},
   "outputs": [],
   "source": [
    "os.makedirs(\"mlruns\", exist_ok=True)"
   ]
  },
  {
   "cell_type": "code",
   "execution_count": 4,
   "id": "a4d4e6d9-239f-47c5-a30b-579b16d4c27c",
   "metadata": {},
   "outputs": [],
   "source": [
    "dataset = \"squidpy_seqfish\"\n",
    "node_label_method = \"one-hop-norm\"\n",
    "n_latent = 512"
   ]
  },
  {
   "cell_type": "code",
   "execution_count": 5,
   "id": "726a55a8-65b2-49a2-b4f0-23cd69dc7954",
   "metadata": {},
   "outputs": [
    {
     "name": "stdout",
     "output_type": "stream",
     "text": [
      "Using dataset squidpy_seqfish.\n"
     ]
    }
   ],
   "source": [
    "print(f\"Using dataset {dataset}.\")\n",
    "\n",
    "if dataset == \"deeplinc_seqfish\":\n",
    "    adata = load_spatial_adata_from_csv(\"datasets/seqFISH/counts.csv\",\n",
    "                                        \"datasets/seqFISH/adj.csv\")\n",
    "    cell_type_key = None\n",
    "elif dataset == \"squidpy_seqfish\":\n",
    "    adata = sq.datasets.seqfish()\n",
    "    sq.gr.spatial_neighbors(adata, radius = 0.04, coord_type=\"generic\")\n",
    "    cell_type_key = \"celltype_mapped_refined\"\n",
    "elif dataset == \"squidpy_slideseqv2\":\n",
    "    adata = sq.datasets.slideseqv2()\n",
    "    sq.gr.spatial_neighbors(adata, radius = 30.0, coord_type=\"generic\")\n",
    "    cell_type_key = \"cluster\""
   ]
  },
  {
   "cell_type": "code",
   "execution_count": 6,
   "id": "d64513a5-d4f0-4ae2-927e-948c59bc8666",
   "metadata": {},
   "outputs": [
    {
     "name": "stdout",
     "output_type": "stream",
     "text": [
      "Number of nodes: 19416\n",
      "Number of node features: 351\n",
      "Average number of edges per node: 4.4\n",
      "Number of edges: 42694\n"
     ]
    }
   ],
   "source": [
    "print(f\"Number of nodes: {adata.X.shape[0]}\")\n",
    "print(f\"Number of node features: {adata.X.shape[1]}\")\n",
    "avg_edges_per_node = round(\n",
    "    adata.obsp['spatial_connectivities'].toarray().sum(axis=0).mean(),2)\n",
    "print(f\"Average number of edges per node: {avg_edges_per_node}\")\n",
    "n_edges = int(np.triu(adata.obsp['spatial_connectivities'].toarray()).sum())\n",
    "print(f\"Number of edges: {n_edges}\", sep=\"\")"
   ]
  },
  {
   "cell_type": "code",
   "execution_count": 7,
   "id": "fce7badf-8de1-4bcb-9a56-469ed3c3adaa",
   "metadata": {},
   "outputs": [
    {
     "name": "stdout",
     "output_type": "stream",
     "text": [
      "gp_targets_mask shape: (512, 351)\n",
      "gp_sources_mask shape: (512, 351)\n"
     ]
    }
   ],
   "source": [
    "# Mask that allows all genes\n",
    "if node_label_method == \"self\":\n",
    "    n_output = len(adata.var)\n",
    "    gp_targets_mask = np.ones((n_latent, n_output))\n",
    "    print(f\"gp_targets_mask shape: {gp_targets_mask.shape}\")\n",
    "elif node_label_method != \"self\":\n",
    "    n_output = len(adata.var) * 2\n",
    "    gp_targets_mask = np.ones((n_latent, int(n_output / 2)))\n",
    "    gp_sources_mask = np.ones((n_latent, int(n_output / 2)))\n",
    "    print(f\"gp_targets_mask shape: {gp_targets_mask.shape}\")\n",
    "    print(f\"gp_sources_mask shape: {gp_sources_mask.shape}\")"
   ]
  },
  {
   "cell_type": "code",
   "execution_count": 8,
   "id": "5431a94f-3159-4556-98d5-551a490f161f",
   "metadata": {},
   "outputs": [
    {
     "name": "stdout",
     "output_type": "stream",
     "text": [
      "--- INITIALIZING NEW NETWORK MODULE: VGPGAE ---\n",
      "LOSS -> include_edge_recon_loss: True, include_gene_expr_recon_loss: True\n",
      "GCN ENCODER -> n_input: 351, n_hidden: 256, n_latent: 512, dropout_rate: 0.0\n",
      "DOT PRODUCT GRAPH DECODER -> dropout_rate: 0.0\n",
      "MASKED GENE EXPRESSION DECODER -> n_input: 512, n_output: 702\n"
     ]
    }
   ],
   "source": [
    "model = Autotalker(adata,\n",
    "                   adj_key=\"spatial_connectivities\",\n",
    "                   gp_targets_mask_key=\"autotalker_gp_targets\",\n",
    "                   gp_sources_mask_key=\"autotalker_gp_sources\",\n",
    "                   include_edge_recon_loss=True,\n",
    "                   include_gene_expr_recon_loss=True,\n",
    "                   node_label_method=node_label_method,\n",
    "                   n_hidden_encoder=int(n_latent/2),\n",
    "                   dropout_rate_encoder=0.,\n",
    "                   dropout_rate_graph_decoder=0.,\n",
    "                   gp_targets_mask=gp_targets_mask,\n",
    "                   gp_sources_mask=gp_sources_mask)"
   ]
  },
  {
   "cell_type": "code",
   "execution_count": 9,
   "id": "0fa100cc-c398-4ed9-a72f-a42af0d8c16d",
   "metadata": {},
   "outputs": [
    {
     "name": "stdout",
     "output_type": "stream",
     "text": [
      "--- INITIALIZING TRAINER ---\n",
      "Number of training nodes: 17474\n",
      "Number of validation nodes: 1942\n",
      "Number of training edges: 36291\n",
      "Number of validation edges: 4269\n",
      "Number of test edges: 2134\n",
      "\n",
      "--- MODEL TRAINING ---\n",
      "Epoch 1/1 |████████████████████| 100.0% val_auroc_score: 0.9127; val_auprc_score: 0.8834; val_best_acc_score: 0.8420; val_best_f1_score: 0.8589; train_loss: 575.3510; train_edge_recon_loss: 2.4803; train_kl_loss: 0.3672; train_gene_expr_recon_loss: 572.5035; val_loss: 555.9691; val_edge_recon_loss: 1.1794; val_kl_loss: 0.4051; val_gene_expr_recon_loss: 554.3846\n",
      "\n",
      "Model training finished after 0 min 32 sec.\n",
      "Saving best model state, which was in epoch 1.\n",
      "\n",
      "--- MODEL EVALUATION ---\n",
      "Test AUROC score: 0.9113\n",
      "Test AUPRC score: 0.8783\n",
      "Test best accuracy score: 0.8400\n",
      "Test best F1 score: 0.8572\n"
     ]
    }
   ],
   "source": [
    "experiment = mlflow.set_experiment(\"autotalker\")\n",
    "mlflow.log_param(\"dataset\", dataset)\n",
    "\n",
    "model.train(n_epochs=1,\n",
    "            lr=0.01,\n",
    "            weight_decay=0,\n",
    "            edge_val_ratio=0.1,\n",
    "            edge_test_ratio=0.05,\n",
    "            node_val_ratio=0.1,\n",
    "            edge_batch_size=64,\n",
    "            mlflow_experiment_id=experiment.experiment_id)"
   ]
  },
  {
   "cell_type": "code",
   "execution_count": 15,
   "id": "c1499445-5ec0-4c1b-b08b-40c94ace8894",
   "metadata": {},
   "outputs": [],
   "source": [
    "model.save(dir_path=\"./model_artefacts\",\n",
    "           overwrite=True,\n",
    "           save_adata=True,\n",
    "           adata_file_name=\"adata.h5ad\")"
   ]
  },
  {
   "cell_type": "code",
   "execution_count": 26,
   "id": "c68cc58d-54c7-4f7b-8420-1064f7c288fd",
   "metadata": {},
   "outputs": [
    {
     "name": "stdout",
     "output_type": "stream",
     "text": [
      "--- INITIALIZING NEW NETWORK MODULE: VGPGAE ---\n",
      "LOSS -> include_edge_recon_loss: True, include_gene_expr_recon_loss: True\n",
      "GCN ENCODER -> n_input: 351, n_hidden: 256, n_latent: 512, dropout_rate: 0.0\n",
      "DOT PRODUCT GRAPH DECODER -> dropout_rate: 0.0\n",
      "MASKED GENE EXPRESSION DECODER -> n_input: 512, n_output: 702\n"
     ]
    }
   ],
   "source": [
    "model = Autotalker.load(dir_path=\"./model_artefacts\",\n",
    "                        adata=None,\n",
    "                        adata_file_name=\"adata.h5ad\")"
   ]
  },
  {
   "cell_type": "code",
   "execution_count": 27,
   "id": "59fe5d54-2260-44ad-a024-3e9c420453ba",
   "metadata": {},
   "outputs": [],
   "source": [
    "latent = model.get_latent_representation()"
   ]
  },
  {
   "cell_type": "code",
   "execution_count": 28,
   "id": "3b1bf9d5-90de-4898-96b7-697e1c3de254",
   "metadata": {},
   "outputs": [],
   "source": [
    "latent_new_data = model.get_latent_representation(adata)"
   ]
  },
  {
   "cell_type": "code",
   "execution_count": 29,
   "id": "c4ed32da-ccc5-49af-a815-239791ad2d26",
   "metadata": {},
   "outputs": [],
   "source": [
    "adata.obsm[\"latent_autotalker\"] = latent_new_data"
   ]
  },
  {
   "cell_type": "markdown",
   "id": "6c85936c-e256-4325-b056-a27cb8ba3478",
   "metadata": {},
   "source": [
    "## Interoperability with scanpy"
   ]
  },
  {
   "cell_type": "code",
   "execution_count": null,
   "id": "dd90a8c5-9248-469e-ba7c-3f8f17add24c",
   "metadata": {
    "tags": []
   },
   "outputs": [],
   "source": [
    "sc.set_figure_params(figsize=(6, 6))\n",
    "\n",
    "# Use autotalker latent space for UMAP generation\n",
    "sc.pp.neighbors(adata, use_rep=\"latent_autotalker\")\n",
    "sc.tl.umap(adata, min_dist=0.3)\n",
    "sc.pl.umap(adata, color=[cell_type_key], frameon=False, save=\"_latent.png\")"
   ]
  },
  {
   "cell_type": "markdown",
   "id": "1f53d723-4fd7-49dc-844b-58cf8b9585a2",
   "metadata": {},
   "source": [
    "## Add Explainable Cell-Cell-Interaction Gene Programs (GPs)"
   ]
  },
  {
   "cell_type": "code",
   "execution_count": null,
   "id": "07457759-11ed-4511-a692-0de022362736",
   "metadata": {},
   "outputs": [],
   "source": [
    "gp_data_folder_path = \"datasets/gp_data\"\n",
    "nichenet_ligand_target_mx_file_path = gp_data_folder_path + \"/nichenet_ligand_target_matrix.csv\"\n",
    "omnipath_lr_interactions_file_path = gp_data_folder_path + \"/omnipath_lr_interactions.csv\"\n",
    "\n",
    "os.makedirs(gp_data_folder_path, exist_ok=True)"
   ]
  },
  {
   "cell_type": "markdown",
   "id": "e9fc5bf9-a4c0-415a-8e6a-0ac1196f465f",
   "metadata": {},
   "source": [
    "### NicheNet"
   ]
  },
  {
   "cell_type": "code",
   "execution_count": null,
   "id": "42f1b1bf-6271-4a03-ab68-b5c147b338cb",
   "metadata": {},
   "outputs": [],
   "source": [
    "nichenet_gp_dict = extract_gp_dict_from_nichenet_ligand_target_mx(\n",
    "    keep_target_ratio=0.1,\n",
    "    load_from_disk=True,\n",
    "    save_to_disk=True,\n",
    "    file_path=nichenet_ligand_target_mx_file_path)"
   ]
  },
  {
   "cell_type": "code",
   "execution_count": null,
   "id": "b2dcc97d-b621-4fc6-bdcf-a31d6e2c58b1",
   "metadata": {},
   "outputs": [],
   "source": [
    "add_gps_from_gp_dict_to_adata(\n",
    "    adata=adata,\n",
    "    gp_dict=nichenet_gp_dict,\n",
    "    genes_uppercase=True,\n",
    "    gp_targets_varm_key=\"autotalker_gp_targets\",\n",
    "    gp_sources_varm_key=\"autotalker_gp_sources\",\n",
    "    gp_names_uns_key=\"autotalker_gp_names\",\n",
    "    min_genes_per_gp=0,\n",
    "    max_genes_per_gp=None)"
   ]
  },
  {
   "cell_type": "markdown",
   "id": "a638a14b-d185-483f-b7a3-024a182e3b41",
   "metadata": {},
   "source": [
    "### OmniPath"
   ]
  },
  {
   "cell_type": "code",
   "execution_count": null,
   "id": "5555bcfc-2e56-4708-8571-fadf98d73dd0",
   "metadata": {},
   "outputs": [],
   "source": [
    "omnipath_gp_dict = extract_gp_dict_from_omnipath_lr_interactions(\n",
    "    min_curation_effort=0,\n",
    "    load_from_disk=True,\n",
    "    save_to_disk=True,\n",
    "    file_path=omnipath_lr_interactions_file_path)"
   ]
  },
  {
   "cell_type": "code",
   "execution_count": null,
   "id": "de4d5903-67e0-4bd8-8243-d9cea1485d64",
   "metadata": {},
   "outputs": [],
   "source": [
    "add_gps_from_gp_dict_to_adata(\n",
    "    adata=adata,\n",
    "    gp_dict=omnipath_gp_dict,\n",
    "    genes_uppercase=True,\n",
    "    gp_targets_varm_key=\"autotalker_gp_targets\",\n",
    "    gp_sources_varm_key=\"autotalker_gp_sources\",\n",
    "    gp_names_uns_key=\"autotalker_gp_names\",\n",
    "    min_genes_per_gp=0,\n",
    "    max_genes_per_gp=None)"
   ]
  },
  {
   "cell_type": "markdown",
   "id": "e88ce7fe-22ee-4f5b-9319-394c1eb434a4",
   "metadata": {},
   "source": [
    "### NicheNet & OmniPath Combined"
   ]
  },
  {
   "cell_type": "code",
   "execution_count": null,
   "id": "85b8c216-c3e0-43bb-8de6-24796912dd67",
   "metadata": {},
   "outputs": [],
   "source": [
    "combined_gp_dict = dict(nichenet_gp_dict)\n",
    "combined_gp_dict.update(omnipath_gp_dict)"
   ]
  },
  {
   "cell_type": "code",
   "execution_count": null,
   "id": "6f13773c-e6c1-4786-b663-8d26f4328f4d",
   "metadata": {},
   "outputs": [],
   "source": [
    "add_gps_from_gp_dict_to_adata(\n",
    "    adata=adata,\n",
    "    gp_dict=combined_gp_dict,\n",
    "    genes_uppercase=True,\n",
    "    gp_targets_varm_key=\"autotalker_gp_targets\",\n",
    "    gp_sources_varm_key=\"autotalker_gp_sources\",\n",
    "    gp_names_uns_key=\"autotalker_gp_names\",\n",
    "    min_genes_per_gp=0,\n",
    "    max_genes_per_gp=None)"
   ]
  },
  {
   "cell_type": "code",
   "execution_count": null,
   "id": "0cfeffa0-e629-4494-8693-31b352320839",
   "metadata": {},
   "outputs": [],
   "source": [
    "adata.varm[\"autotalker_gp_targets\"]"
   ]
  },
  {
   "cell_type": "code",
   "execution_count": null,
   "id": "baa1e50c-6c08-4bde-82d3-fe0c91206326",
   "metadata": {},
   "outputs": [],
   "source": [
    "adata.varm[\"autotalker_gp_sources\"]"
   ]
  },
  {
   "cell_type": "code",
   "execution_count": null,
   "id": "2f8efde7-c7f0-4007-9aa4-362371d984fe",
   "metadata": {},
   "outputs": [],
   "source": [
    "adata.uns[\"autotalker_gp_names\"][:5]"
   ]
  },
  {
   "cell_type": "code",
   "execution_count": null,
   "id": "a9aa7b25-3855-4b20-a595-1632f168e3a0",
   "metadata": {},
   "outputs": [],
   "source": [
    "experiment = mlflow.set_experiment(\"autotalker_gp_masked\")\n",
    "mlflow.log_param(\"dataset\", dataset)"
   ]
  },
  {
   "cell_type": "code",
   "execution_count": null,
   "id": "b147f689-d829-4b7c-8bd2-6ab907e6be18",
   "metadata": {},
   "outputs": [],
   "source": [
    "gp_mask = adata.varm[\"autotalker_gps\"].T\n",
    "print(f\"Gene program mask shape (gene programs x nodes): {gp_mask.shape}\")\n",
    "n_hidden_encoder = int(gp_mask.shape[0] / 2)\n",
    "print(f\"Number of hidden layers in the encoder: {n_hidden_encoder}\")"
   ]
  },
  {
   "cell_type": "code",
   "execution_count": null,
   "id": "b153e8e9-58fc-46f1-b230-cff0590df4f7",
   "metadata": {},
   "outputs": [],
   "source": [
    "model = Autotalker(adata,\n",
    "                   adj_key=\"spatial_connectivities\",\n",
    "                   gp_targets_mask_key=\"autotalker_gp_targets\",\n",
    "                   gp_sources_mask_key=\"autotalker_gp_sources\",\n",
    "                   include_edge_recon_loss=True,\n",
    "                   include_gene_expr_recon_loss=True,\n",
    "                   node_label_method=\"one-hop\",\n",
    "                   n_hidden_encoder=32,\n",
    "                   dropout_rate_encoder=0.,\n",
    "                   dropout_rate_graph_decoder=0.,\n",
    "                   gp_targets_mask=None,\n",
    "                   gp_sources_mask=None)"
   ]
  },
  {
   "cell_type": "code",
   "execution_count": null,
   "id": "35180e43-529c-4f91-8219-729b3b7bf0ec",
   "metadata": {},
   "outputs": [],
   "source": [
    "model.train(n_epochs=20,\n",
    "            lr=0.01,\n",
    "            weight_decay=0,\n",
    "            edge_val_ratio=0.1,\n",
    "            edge_test_ratio=0.05,\n",
    "            node_val_ratio=0.1,\n",
    "            node_test_ratio=0.0,\n",
    "            edge_batch_size=64,\n",
    "            mlflow_experiment_id=experiment.experiment_id)"
   ]
  },
  {
   "cell_type": "markdown",
   "id": "0fe28031-958c-4101-a7b3-b16011cc4e80",
   "metadata": {},
   "source": [
    "The model can maintain the edge reconstruction performance while tweaking the latent space for better gene expression reconstruction."
   ]
  },
  {
   "cell_type": "code",
   "execution_count": null,
   "id": "1cae084f-8541-4738-bf09-c583e5f5d53d",
   "metadata": {},
   "outputs": [],
   "source": [
    "latent_gps = model.get_latent_representation()"
   ]
  },
  {
   "cell_type": "code",
   "execution_count": null,
   "id": "9ef7589f-7ca2-44fe-a513-66af504c71f7",
   "metadata": {},
   "outputs": [],
   "source": [
    "latent_gps_new_adata = model.get_latent_representation(adata)"
   ]
  },
  {
   "cell_type": "code",
   "execution_count": null,
   "id": "73dae29e-edf6-45a5-b60f-71b4bc7f1ee5",
   "metadata": {},
   "outputs": [],
   "source": [
    "adata.obsm[\"latent_gps_autotalker\"] = latent_gps_new_adata"
   ]
  },
  {
   "cell_type": "code",
   "execution_count": null,
   "id": "da101718-0cd1-4a42-8f66-9f623b26c1d8",
   "metadata": {},
   "outputs": [],
   "source": [
    "sc.set_figure_params(figsize=(6, 6))\n",
    "\n",
    "# Use autotalker latent gp space for UMAP generation\n",
    "sc.pp.neighbors(adata, use_rep=\"latent_gps_autotalker\")\n",
    "sc.tl.umap(adata, min_dist=0.3)\n",
    "sc.pl.umap(adata, color=[cell_type_key], frameon=False)"
   ]
  },
  {
   "cell_type": "code",
   "execution_count": null,
   "id": "8d336ae7-9aa7-4bfb-b848-dba434b0e37d",
   "metadata": {},
   "outputs": [],
   "source": [
    "gp_mask.shape"
   ]
  },
  {
   "cell_type": "code",
   "execution_count": null,
   "id": "ceedf3ac-e83b-4d51-a2b0-0a8a10d41c38",
   "metadata": {},
   "outputs": [],
   "source": [
    "gene_programs = adata.uns[\"gene_programs\"]\n",
    "selected_gene_programs = [\"CSF1\", \"IL34\"]\n",
    "selected_gene_programs_idx = [gene_programs.index(gene_program) for gene_program in selected_gene_programs]"
   ]
  },
  {
   "cell_type": "code",
   "execution_count": null,
   "id": "32de9285-5e27-434a-b1f0-1a9a80d894b3",
   "metadata": {},
   "outputs": [],
   "source": [
    "latent_selected_gps = latent_gps[:, selected_gene_programs_idx]"
   ]
  },
  {
   "cell_type": "code",
   "execution_count": null,
   "id": "08df2ec7-c834-4660-94d7-4e76eb02e52d",
   "metadata": {},
   "outputs": [],
   "source": [
    "adata.obs[\"CSF1\"] = latent_selected_gps[:, 0]\n",
    "adata.obs[\"IL34\"] = latent_selected_gps[:, 1]"
   ]
  },
  {
   "cell_type": "code",
   "execution_count": null,
   "id": "ac70354f-98e5-4e16-8d67-9d33b7d71ca6",
   "metadata": {},
   "outputs": [],
   "source": [
    "sc.pl.umap(adata, color=\"IL34\", frameon=False, wspace=0.6)"
   ]
  },
  {
   "cell_type": "code",
   "execution_count": null,
   "id": "67bb1f3e-cebe-4cce-93d7-722b38001e83",
   "metadata": {},
   "outputs": [],
   "source": [
    "sc.pl.scatter(adata, x=\"CSF1\", y=\"IL34\", color=cell_type_key, size=10)"
   ]
  },
  {
   "cell_type": "code",
   "execution_count": null,
   "id": "f489eaea-4ffc-4588-a365-a254586fd6b2",
   "metadata": {},
   "outputs": [],
   "source": []
  },
  {
   "cell_type": "code",
   "execution_count": null,
   "id": "6acbc2b1-e1cd-4e44-8117-7ab1a41c6bfb",
   "metadata": {},
   "outputs": [],
   "source": []
  },
  {
   "cell_type": "markdown",
   "id": "78e16800-cb30-426a-b423-0733149b3889",
   "metadata": {},
   "source": [
    "## SCVI"
   ]
  },
  {
   "cell_type": "code",
   "execution_count": null,
   "id": "22764444-04b3-4e85-89b6-2d8adf4ded17",
   "metadata": {},
   "outputs": [],
   "source": [
    "import scvi\n",
    "import scanpy as sc\n",
    "import matplotlib.pyplot as plt\n",
    "\n",
    "sc.set_figure_params(figsize=(6, 6))\n",
    "\n",
    "# for white background of figures (only for docs rendering)\n",
    "%config InlineBackend.print_figure_kwargs={'facecolor' : \"w\"}\n",
    "%config InlineBackend.figure_format='retina'"
   ]
  },
  {
   "cell_type": "code",
   "execution_count": null,
   "id": "53312eb5-3013-414a-a0e0-c7c5af85e512",
   "metadata": {},
   "outputs": [],
   "source": [
    "adata.layers[\"counts\"] = adata.X.copy() # preserve counts\n",
    "sc.pp.normalize_total(adata, target_sum=1e4)\n",
    "sc.pp.log1p(adata)\n",
    "adata.raw = adata # freeze the state in `.raw`"
   ]
  },
  {
   "cell_type": "code",
   "execution_count": null,
   "id": "ef5c3782-68dd-491b-91ef-624531e7cf16",
   "metadata": {},
   "outputs": [],
   "source": [
    "scvi.model.SCVI.setup_anndata(\n",
    "    adata,\n",
    "    layer=\"counts\"\n",
    ")"
   ]
  },
  {
   "cell_type": "code",
   "execution_count": null,
   "id": "49451598-c201-4860-b5ad-2ee11b070444",
   "metadata": {},
   "outputs": [],
   "source": [
    "model = scvi.model.SCVI(adata)"
   ]
  },
  {
   "cell_type": "code",
   "execution_count": null,
   "id": "e9bf9d5f-c6e8-44a3-8b79-005b6dc5c37f",
   "metadata": {},
   "outputs": [],
   "source": [
    "model"
   ]
  },
  {
   "cell_type": "code",
   "execution_count": null,
   "id": "f601b965-a3dd-415a-a564-df9a989aa99c",
   "metadata": {},
   "outputs": [],
   "source": [
    "model.train()"
   ]
  },
  {
   "cell_type": "code",
   "execution_count": null,
   "id": "6035e7e2-8797-4484-8d4e-573670f8e70f",
   "metadata": {},
   "outputs": [],
   "source": [
    "latent_scvi = model.get_latent_representation()"
   ]
  },
  {
   "cell_type": "code",
   "execution_count": null,
   "id": "5617348d-9003-4982-a650-3975f91ac5fa",
   "metadata": {},
   "outputs": [],
   "source": [
    "adata.obsm[\"X_scVI\"] = latent_scvi"
   ]
  },
  {
   "cell_type": "code",
   "execution_count": null,
   "id": "b53b3a6d-ae53-444a-aed2-cd0cebf9b822",
   "metadata": {},
   "outputs": [],
   "source": [
    "# run PCA then generate UMAP plots\n",
    "sc.tl.pca(adata)\n",
    "sc.pp.neighbors(adata, use_rep=\"X_scVI\")\n",
    "sc.tl.umap(adata, min_dist=0.3)"
   ]
  },
  {
   "cell_type": "code",
   "execution_count": null,
   "id": "bfff5c20-a22b-4ada-8bad-b002d5631f13",
   "metadata": {},
   "outputs": [],
   "source": [
    "sc.pl.umap(adata, color=[\"celltype_mapped_refined\"], frameon=False,)"
   ]
  }
 ],
 "metadata": {
  "kernelspec": {
   "display_name": "autotalker",
   "language": "python",
   "name": "autotalker"
  },
  "language_info": {
   "codemirror_mode": {
    "name": "ipython",
    "version": 3
   },
   "file_extension": ".py",
   "mimetype": "text/x-python",
   "name": "python",
   "nbconvert_exporter": "python",
   "pygments_lexer": "ipython3",
   "version": "3.9.13"
  }
 },
 "nbformat": 4,
 "nbformat_minor": 5
}
