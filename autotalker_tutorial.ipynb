{
 "cells": [
  {
   "cell_type": "code",
   "execution_count": 1,
   "id": "4e5d3297-0290-47c0-846f-705e74cdb3de",
   "metadata": {},
   "outputs": [],
   "source": [
    "%load_ext autoreload\n",
    "%autoreload 2"
   ]
  },
  {
   "cell_type": "code",
   "execution_count": 2,
   "id": "b4aa3c6a-5a44-4cf1-84a3-5e514457cf3c",
   "metadata": {},
   "outputs": [],
   "source": [
    "import argparse\n",
    "import os\n",
    "import sys\n",
    "\n",
    "import mlflow\n",
    "import numpy as np\n",
    "import scanpy as sc\n",
    "import squidpy as sq\n",
    "\n",
    "from autotalker.data import load_spatial_adata_from_csv\n",
    "from autotalker.models import Autotalker\n",
    "from autotalker.utils import download_nichenet_ligand_target_mx\n",
    "from autotalker.utils import extract_gps_from_ligand_target_mx\n",
    "from autotalker.utils import mask_adata_with_gp_dict"
   ]
  },
  {
   "cell_type": "code",
   "execution_count": 3,
   "id": "a4d4e6d9-239f-47c5-a30b-579b16d4c27c",
   "metadata": {},
   "outputs": [],
   "source": [
    "dataset = \"deeplinc_seqfish\""
   ]
  },
  {
   "cell_type": "code",
   "execution_count": 4,
   "id": "726a55a8-65b2-49a2-b4f0-23cd69dc7954",
   "metadata": {},
   "outputs": [
    {
     "name": "stdout",
     "output_type": "stream",
     "text": [
      "Using dataset deeplinc_seqfish.\n"
     ]
    }
   ],
   "source": [
    "print(f\"Using dataset {dataset}.\")\n",
    "\n",
    "if dataset == \"deeplinc_seqfish\":\n",
    "    adata = load_spatial_adata_from_csv(\"datasets/seqFISH/counts.csv\",\n",
    "                                        \"datasets/seqFISH/adj.csv\")\n",
    "    cell_type_key = None\n",
    "elif dataset == \"squidpy_seqfish\":\n",
    "    adata = sq.datasets.seqfish()\n",
    "    sq.gr.spatial_neighbors(adata, radius = 0.04, coord_type=\"generic\")\n",
    "    cell_type_key = \"celltype_mapped_refined\"\n",
    "elif dataset == \"squidpy_slideseqv2\":\n",
    "    adata = sq.datasets.slideseqv2()\n",
    "    sq.gr.spatial_neighbors(adata, radius = 30.0, coord_type=\"generic\")\n",
    "    cell_type_key = \"cluster\""
   ]
  },
  {
   "cell_type": "code",
   "execution_count": 5,
   "id": "d64513a5-d4f0-4ae2-927e-948c59bc8666",
   "metadata": {},
   "outputs": [
    {
     "name": "stdout",
     "output_type": "stream",
     "text": [
      "Number of nodes: 1597\n",
      "Number of node features: 125\n",
      "Average number of edges per node: 3.59\n",
      "Number of edges: 2863\n"
     ]
    }
   ],
   "source": [
    "print(f\"Number of nodes: {adata.X.shape[0]}\")\n",
    "print(f\"Number of node features: {adata.X.shape[1]}\")\n",
    "avg_edges_per_node = round(\n",
    "    adata.obsp['spatial_connectivities'].toarray().sum(axis=0).mean(),2)\n",
    "print(f\"Average number of edges per node: {avg_edges_per_node}\")\n",
    "n_edges = int(np.triu(adata.obsp['spatial_connectivities'].toarray()).sum())\n",
    "print(f\"Number of edges: {n_edges}\", sep=\"\")"
   ]
  },
  {
   "cell_type": "code",
   "execution_count": 6,
   "id": "62b39d67-fa3d-49ff-9f24-213169a64eed",
   "metadata": {},
   "outputs": [],
   "source": [
    "os.makedirs(\"mlruns\", exist_ok=True)"
   ]
  },
  {
   "cell_type": "code",
   "execution_count": 7,
   "id": "0145cc84-0dae-4b94-831c-3637d9d0fcff",
   "metadata": {},
   "outputs": [],
   "source": [
    "experiment = mlflow.set_experiment(\"autotalker\")\n",
    "mlflow.log_param(\"dataset\", dataset)"
   ]
  },
  {
   "cell_type": "code",
   "execution_count": 8,
   "id": "06530d4e-020b-4fdc-89cb-e16daa410205",
   "metadata": {},
   "outputs": [],
   "source": [
    "# Mask that allows all genes\n",
    "mask = np.ones((16, len(adata.var)))"
   ]
  },
  {
   "cell_type": "code",
   "execution_count": 9,
   "id": "5431a94f-3159-4556-98d5-551a490f161f",
   "metadata": {},
   "outputs": [
    {
     "name": "stdout",
     "output_type": "stream",
     "text": [
      "--- INITIALIZING NEW NETWORK MODULE: VGPGAE ---\n",
      "GCN ENCODER -> n_input: 125, n_hidden: 32, n_latent: 16, dropout_rate: 0.0\n",
      "DOT PRODUCT GRAPH DECODER -> dropout_rate: 0.0\n",
      "MASKED GENE EXPRESSION DECODER -> n_input: 16, n_output: 125\n"
     ]
    }
   ],
   "source": [
    "model = Autotalker(adata,\n",
    "                   autotalker_module=\"VGPGAE\",\n",
    "                   n_hidden_encoder=32,\n",
    "                   dropout_rate_encoder=0.,\n",
    "                   dropout_rate_graph_decoder=0.,\n",
    "                   gp_mask=mask)"
   ]
  },
  {
   "cell_type": "code",
   "execution_count": 10,
   "id": "0fa100cc-c398-4ed9-a72f-a42af0d8c16d",
   "metadata": {},
   "outputs": [
    {
     "name": "stdout",
     "output_type": "stream",
     "text": [
      "--- INITIALIZING TRAINER ---\n",
      "Number of training nodes: 1437\n",
      "Number of validation nodes: 160\n",
      "Number of test nodes: 0\n",
      "Number of training edges: 2434\n",
      "Number of validation edges: 286\n",
      "Number of test edges: 143\n",
      "--- MODEL TRAINING ---\n",
      " |████████████████████| 100.0%  - val_auroc_score: 0.8645471661 - val_auprc_score: 0.8598313430 - val_best_acc_score: 0.7954545455 - val_best_f1_score: 0.7931034483 - train_loss: 0.2731847171 - train_edge_recon_loss: 0.2462116912 - train_kl_loss: 0.0269730246 - train_gene_expr_recon_loss:     nan - val_loss: 0.2934200048 - val_edge_recon_loss: 0.2723386377 - val_kl_loss: 0.0210813668 - val_gene_expr_recon_loss:     nan\n",
      "Model training finished after 0 min 2 sec.\n",
      "Saving best model state, which was in epoch 2.\n",
      "--- MODEL EVALUATION ---\n",
      "Test AUROC score: 0.8717\n",
      "Test AUPRC score: 0.8586\n",
      "Test best acc score: 0.8077\n",
      "Test best f1 score: 0.8137\n"
     ]
    }
   ],
   "source": [
    "model.train(n_epochs=5,\n",
    "            lr=0.01,\n",
    "            weight_decay=0,\n",
    "            edge_val_ratio=0.1,\n",
    "            edge_test_ratio=0.05,\n",
    "            node_val_ratio=0.1,\n",
    "            node_test_ratio=0.0,\n",
    "            edge_batch_size=64,\n",
    "            include_edge_recon_loss=True,\n",
    "            include_gene_expr_recon_loss=False,\n",
    "            mlflow_experiment_id=experiment.experiment_id)"
   ]
  },
  {
   "cell_type": "code",
   "execution_count": null,
   "id": "aae5cca2-f923-4fe8-b4ef-b98fa707d2c1",
   "metadata": {},
   "outputs": [],
   "source": [
    "model.train(n_epochs=20,\n",
    "            lr=0.01,\n",
    "            weight_decay=0,\n",
    "            edge_val_ratio=0.1,\n",
    "            edge_test_ratio=0.05,\n",
    "            node_val_ratio=0.1,\n",
    "            node_test_ratio=0.0,\n",
    "            edge_batch_size=64,\n",
    "            include_edge_recon_loss=True,\n",
    "            include_gene_expr_recon_loss=True,\n",
    "            mlflow_experiment_id=experiment.experiment_id)"
   ]
  },
  {
   "cell_type": "code",
   "execution_count": null,
   "id": "c1499445-5ec0-4c1b-b08b-40c94ace8894",
   "metadata": {},
   "outputs": [],
   "source": [
    "model.save(dir_path=\"./model_artefacts\",\n",
    "           overwrite=True,\n",
    "           save_adata=True,\n",
    "           adata_file_name=\"adata.h5ad\")"
   ]
  },
  {
   "cell_type": "code",
   "execution_count": null,
   "id": "c68cc58d-54c7-4f7b-8420-1064f7c288fd",
   "metadata": {},
   "outputs": [],
   "source": [
    "model = Autotalker.load(dir_path=\"./model_artefacts\",\n",
    "                        adata=None,\n",
    "                        adata_file_name=\"adata.h5ad\")"
   ]
  },
  {
   "cell_type": "code",
   "execution_count": null,
   "id": "59fe5d54-2260-44ad-a024-3e9c420453ba",
   "metadata": {},
   "outputs": [],
   "source": [
    "latent = model.get_latent_representation()"
   ]
  },
  {
   "cell_type": "code",
   "execution_count": null,
   "id": "3b1bf9d5-90de-4898-96b7-697e1c3de254",
   "metadata": {},
   "outputs": [],
   "source": [
    "latent_new_data = model.get_latent_representation(adata)"
   ]
  },
  {
   "cell_type": "code",
   "execution_count": null,
   "id": "c4ed32da-ccc5-49af-a815-239791ad2d26",
   "metadata": {},
   "outputs": [],
   "source": [
    "adata.obsm[\"latent_autotalker\"] = latent_new_data"
   ]
  },
  {
   "cell_type": "markdown",
   "id": "6c85936c-e256-4325-b056-a27cb8ba3478",
   "metadata": {},
   "source": [
    "## Interoperability with scanpy"
   ]
  },
  {
   "cell_type": "code",
   "execution_count": null,
   "id": "dd90a8c5-9248-469e-ba7c-3f8f17add24c",
   "metadata": {},
   "outputs": [],
   "source": [
    "sc.set_figure_params(figsize=(6, 6))\n",
    "\n",
    "# Use autotalker latent space for UMAP generation\n",
    "sc.pp.neighbors(adata, use_rep=\"latent_autotalker\")\n",
    "sc.tl.umap(adata, min_dist=0.3)\n",
    "sc.pl.umap(adata, color=[cell_type_key], frameon=False,)"
   ]
  },
  {
   "cell_type": "markdown",
   "id": "1f53d723-4fd7-49dc-844b-58cf8b9585a2",
   "metadata": {},
   "source": [
    "## NicheNet Gene Programs (GPs)"
   ]
  },
  {
   "cell_type": "code",
   "execution_count": null,
   "id": "a87444e1-316e-4890-aa0b-c39db2f4e24a",
   "metadata": {},
   "outputs": [],
   "source": [
    "gp_data_folder_path = \"datasets/gp_data\"\n",
    "gp_data_file_path = gp_data_folder_path + \"/ligand_target_matrix.csv\"\n",
    "os.makedirs(gp_data_folder_path, exist_ok=True)"
   ]
  },
  {
   "cell_type": "code",
   "execution_count": null,
   "id": "d76ca973-1086-494c-a877-877e1e2e643a",
   "metadata": {},
   "outputs": [],
   "source": [
    "download_nichenet_ligand_target_mx(\n",
    "    save_path=gp_data_file_path)"
   ]
  },
  {
   "cell_type": "code",
   "execution_count": null,
   "id": "42f1b1bf-6271-4a03-ab68-b5c147b338cb",
   "metadata": {},
   "outputs": [],
   "source": [
    "gp_dict = extract_gps_from_ligand_target_mx(\n",
    "    path=gp_data_file_path)"
   ]
  },
  {
   "cell_type": "code",
   "execution_count": null,
   "id": "b2dcc97d-b621-4fc6-bdcf-a31d6e2c58b1",
   "metadata": {},
   "outputs": [],
   "source": [
    "mask_adata_with_gp_dict(adata, gp_dict)"
   ]
  },
  {
   "cell_type": "code",
   "execution_count": null,
   "id": "b147f689-d829-4b7c-8bd2-6ab907e6be18",
   "metadata": {},
   "outputs": [],
   "source": [
    "mask = adata.varm[\"I\"].T"
   ]
  },
  {
   "cell_type": "code",
   "execution_count": null,
   "id": "b153e8e9-58fc-46f1-b230-cff0590df4f7",
   "metadata": {},
   "outputs": [],
   "source": [
    "mask.shape"
   ]
  },
  {
   "cell_type": "code",
   "execution_count": null,
   "id": "f9e484d4-f41a-44b4-9f96-8e5a45e2a31d",
   "metadata": {},
   "outputs": [],
   "source": [
    "mask.shape"
   ]
  },
  {
   "cell_type": "code",
   "execution_count": null,
   "id": "fe789652-68c2-438c-bae2-3f75d137a232",
   "metadata": {},
   "outputs": [],
   "source": []
  },
  {
   "cell_type": "code",
   "execution_count": null,
   "id": "e621da0d-a297-4f84-899c-08fe2f6e5ab6",
   "metadata": {},
   "outputs": [],
   "source": [
    "I = [[int(gene in gp) for _, gp in gp_dict.items()] for gene in adata_genes]\n",
    "I = np.asarray(I, dtype=\"int32\")"
   ]
  },
  {
   "cell_type": "code",
   "execution_count": null,
   "id": "d1471f88-97b7-463b-91a0-79a31c23701e",
   "metadata": {},
   "outputs": [],
   "source": [
    "gp_dict"
   ]
  },
  {
   "cell_type": "code",
   "execution_count": null,
   "id": "5fc6fa88-ac82-4476-8d14-9fdaae0568c0",
   "metadata": {},
   "outputs": [],
   "source": [
    "I.sum()"
   ]
  },
  {
   "cell_type": "code",
   "execution_count": null,
   "id": "8d11294e-7cee-4d7c-9fb7-8082a0c1a0e5",
   "metadata": {},
   "outputs": [],
   "source": [
    "for gp_name, gp in gp_dict.items():\n",
    "    print(gp_name)\n",
    "    print(gp)\n",
    "    break"
   ]
  },
  {
   "cell_type": "code",
   "execution_count": null,
   "id": "35180e43-529c-4f91-8219-729b3b7bf0ec",
   "metadata": {},
   "outputs": [],
   "source": []
  },
  {
   "cell_type": "markdown",
   "id": "78e16800-cb30-426a-b423-0733149b3889",
   "metadata": {},
   "source": [
    "## SCVI"
   ]
  },
  {
   "cell_type": "code",
   "execution_count": null,
   "id": "22764444-04b3-4e85-89b6-2d8adf4ded17",
   "metadata": {},
   "outputs": [],
   "source": [
    "import scvi\n",
    "import scanpy as sc\n",
    "import matplotlib.pyplot as plt\n",
    "\n",
    "sc.set_figure_params(figsize=(6, 6))\n",
    "\n",
    "# for white background of figures (only for docs rendering)\n",
    "%config InlineBackend.print_figure_kwargs={'facecolor' : \"w\"}\n",
    "%config InlineBackend.figure_format='retina'"
   ]
  },
  {
   "cell_type": "code",
   "execution_count": null,
   "id": "53312eb5-3013-414a-a0e0-c7c5af85e512",
   "metadata": {},
   "outputs": [],
   "source": [
    "adata.layers[\"counts\"] = adata.X.copy() # preserve counts\n",
    "sc.pp.normalize_total(adata, target_sum=1e4)\n",
    "sc.pp.log1p(adata)\n",
    "adata.raw = adata # freeze the state in `.raw`"
   ]
  },
  {
   "cell_type": "code",
   "execution_count": null,
   "id": "ef5c3782-68dd-491b-91ef-624531e7cf16",
   "metadata": {},
   "outputs": [],
   "source": [
    "scvi.model.SCVI.setup_anndata(\n",
    "    adata,\n",
    "    layer=\"counts\"\n",
    ")"
   ]
  },
  {
   "cell_type": "code",
   "execution_count": null,
   "id": "49451598-c201-4860-b5ad-2ee11b070444",
   "metadata": {},
   "outputs": [],
   "source": [
    "model = scvi.model.SCVI(adata)"
   ]
  },
  {
   "cell_type": "code",
   "execution_count": null,
   "id": "e9bf9d5f-c6e8-44a3-8b79-005b6dc5c37f",
   "metadata": {},
   "outputs": [],
   "source": [
    "model"
   ]
  },
  {
   "cell_type": "code",
   "execution_count": null,
   "id": "f601b965-a3dd-415a-a564-df9a989aa99c",
   "metadata": {},
   "outputs": [],
   "source": [
    "model.train()"
   ]
  },
  {
   "cell_type": "code",
   "execution_count": null,
   "id": "6035e7e2-8797-4484-8d4e-573670f8e70f",
   "metadata": {},
   "outputs": [],
   "source": [
    "latent_scvi = model.get_latent_representation()"
   ]
  },
  {
   "cell_type": "code",
   "execution_count": null,
   "id": "5617348d-9003-4982-a650-3975f91ac5fa",
   "metadata": {},
   "outputs": [],
   "source": [
    "adata.obsm[\"X_scVI\"] = latent_scvi"
   ]
  },
  {
   "cell_type": "code",
   "execution_count": null,
   "id": "b53b3a6d-ae53-444a-aed2-cd0cebf9b822",
   "metadata": {},
   "outputs": [],
   "source": [
    "# run PCA then generate UMAP plots\n",
    "sc.tl.pca(adata)\n",
    "sc.pp.neighbors(adata, use_rep=\"X_scVI\")\n",
    "sc.tl.umap(adata, min_dist=0.3)"
   ]
  },
  {
   "cell_type": "code",
   "execution_count": null,
   "id": "bfff5c20-a22b-4ada-8bad-b002d5631f13",
   "metadata": {},
   "outputs": [],
   "source": [
    "sc.pl.umap(\n",
    "    adata,\n",
    "    color=[\"celltype_mapped_refined\"],\n",
    "    frameon=False,\n",
    ")"
   ]
  },
  {
   "cell_type": "code",
   "execution_count": null,
   "id": "f0fd830a-386e-4641-bd48-20e5418ef0f2",
   "metadata": {},
   "outputs": [],
   "source": []
  }
 ],
 "metadata": {
  "kernelspec": {
   "display_name": "autotalker",
   "language": "python",
   "name": "autotalker"
  },
  "language_info": {
   "codemirror_mode": {
    "name": "ipython",
    "version": 3
   },
   "file_extension": ".py",
   "mimetype": "text/x-python",
   "name": "python",
   "nbconvert_exporter": "python",
   "pygments_lexer": "ipython3",
   "version": "3.9.13"
  }
 },
 "nbformat": 4,
 "nbformat_minor": 5
}
