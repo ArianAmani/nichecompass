{
 "cells": [
  {
   "cell_type": "code",
   "execution_count": 1,
   "id": "4e5d3297-0290-47c0-846f-705e74cdb3de",
   "metadata": {},
   "outputs": [],
   "source": [
    "%load_ext autoreload\n",
    "%autoreload 2"
   ]
  },
  {
   "cell_type": "code",
   "execution_count": 2,
   "id": "b4aa3c6a-5a44-4cf1-84a3-5e514457cf3c",
   "metadata": {},
   "outputs": [],
   "source": [
    "import argparse\n",
    "import os\n",
    "import sys\n",
    "\n",
    "import mlflow\n",
    "import numpy as np\n",
    "import scanpy as sc\n",
    "import squidpy as sq\n",
    "\n",
    "from autotalker.data import load_spatial_adata_from_csv\n",
    "from autotalker.models import Autotalker\n",
    "from autotalker.utils import download_nichenet_ligand_target_mx\n",
    "from autotalker.utils import extract_gps_from_ligand_target_mx\n",
    "from autotalker.utils import mask_adata_with_gp_dict"
   ]
  },
  {
   "cell_type": "code",
   "execution_count": null,
   "id": "a4d4e6d9-239f-47c5-a30b-579b16d4c27c",
   "metadata": {},
   "outputs": [],
   "source": [
    "dataset = \"squidpy_seqfish\"\n",
    "n_epochs = 10\n",
    "lr = 0.01\n",
    "batch_size = 64\n",
    "n_hidden_encoder = 32\n",
    "n_latent = 16\n",
    "dropout_rate = 0."
   ]
  },
  {
   "cell_type": "code",
   "execution_count": null,
   "id": "726a55a8-65b2-49a2-b4f0-23cd69dc7954",
   "metadata": {},
   "outputs": [],
   "source": [
    "print(f\"Using dataset {dataset}.\")\n",
    "\n",
    "if dataset == \"deeplinc_seqfish\":\n",
    "    adata = load_spatial_adata_from_csv(\"datasets/seqFISH/counts.csv\",\n",
    "                                        \"datasets/seqFISH/adj.csv\")\n",
    "    cell_type_key = None\n",
    "elif dataset == \"squidpy_seqfish\":\n",
    "    adata = sq.datasets.seqfish()\n",
    "    sq.gr.spatial_neighbors(adata, radius = 0.04, coord_type=\"generic\")\n",
    "    cell_type_key = \"celltype_mapped_refined\"\n",
    "elif dataset == \"squidpy_slideseqv2\":\n",
    "    adata = sq.datasets.slideseqv2()\n",
    "    sq.gr.spatial_neighbors(adata, radius = 30.0, coord_type=\"generic\")\n",
    "    cell_type_key = \"celltype_mapped_refined\""
   ]
  },
  {
   "cell_type": "code",
   "execution_count": null,
   "id": "d64513a5-d4f0-4ae2-927e-948c59bc8666",
   "metadata": {},
   "outputs": [],
   "source": [
    "print(f\"Number of nodes: {adata.X.shape[0]}\")\n",
    "print(f\"Number of node features: {adata.X.shape[1]}\")\n",
    "avg_edges_per_node = round(\n",
    "    adata.obsp['spatial_connectivities'].toarray().sum(axis=0).mean(),2)\n",
    "print(f\"Average number of edges per node: {avg_edges_per_node}\")\n",
    "n_edges = int(np.triu(adata.obsp['spatial_connectivities'].toarray()).sum())\n",
    "print(f\"Number of edges: {n_edges}\", sep=\"\")"
   ]
  },
  {
   "cell_type": "code",
   "execution_count": null,
   "id": "62b39d67-fa3d-49ff-9f24-213169a64eed",
   "metadata": {},
   "outputs": [],
   "source": [
    "os.makedirs(\"mlruns\", exist_ok=True)"
   ]
  },
  {
   "cell_type": "code",
   "execution_count": null,
   "id": "0145cc84-0dae-4b94-831c-3637d9d0fcff",
   "metadata": {},
   "outputs": [],
   "source": [
    "experiment = mlflow.set_experiment(\"autotalker\")\n",
    "mlflow.log_param(\"dataset\", dataset)"
   ]
  },
  {
   "cell_type": "code",
   "execution_count": null,
   "id": "06530d4e-020b-4fdc-89cb-e16daa410205",
   "metadata": {},
   "outputs": [],
   "source": [
    "# Mask that allows all genes\n",
    "mask = np.ones((n_latent, len(adata.var)))"
   ]
  },
  {
   "cell_type": "code",
   "execution_count": null,
   "id": "5431a94f-3159-4556-98d5-551a490f161f",
   "metadata": {},
   "outputs": [],
   "source": [
    "model = Autotalker(adata,\n",
    "                   autotalker_module=\"VGPGAE\",\n",
    "                   n_hidden_encoder=n_hidden_encoder,\n",
    "                   dropout_rate_encoder=dropout_rate,\n",
    "                   dropout_rate_graph_decoder=dropout_rate,\n",
    "                   gp_mask=mask)"
   ]
  },
  {
   "cell_type": "code",
   "execution_count": null,
   "id": "0fa100cc-c398-4ed9-a72f-a42af0d8c16d",
   "metadata": {},
   "outputs": [],
   "source": [
    "model.train(n_epochs=n_epochs,\n",
    "            lr=lr,\n",
    "            mlflow_experiment_id=experiment.experiment_id)"
   ]
  },
  {
   "cell_type": "code",
   "execution_count": null,
   "id": "c1499445-5ec0-4c1b-b08b-40c94ace8894",
   "metadata": {},
   "outputs": [],
   "source": [
    "model.save(dir_path=\"./model_artefacts\",\n",
    "           overwrite=True,\n",
    "           save_adata=True,\n",
    "           adata_file_name=\"adata.h5ad\")"
   ]
  },
  {
   "cell_type": "code",
   "execution_count": null,
   "id": "c68cc58d-54c7-4f7b-8420-1064f7c288fd",
   "metadata": {},
   "outputs": [],
   "source": [
    "model = Autotalker.load(dir_path=\"./model_artefacts\",\n",
    "                        adata=None,\n",
    "                        adata_file_name=\"adata.h5ad\")"
   ]
  },
  {
   "cell_type": "code",
   "execution_count": null,
   "id": "59fe5d54-2260-44ad-a024-3e9c420453ba",
   "metadata": {},
   "outputs": [],
   "source": [
    "latent = model.get_latent_representation()"
   ]
  },
  {
   "cell_type": "code",
   "execution_count": null,
   "id": "3b1bf9d5-90de-4898-96b7-697e1c3de254",
   "metadata": {},
   "outputs": [],
   "source": [
    "latent_new_data = model.get_latent_representation(adata)"
   ]
  },
  {
   "cell_type": "code",
   "execution_count": null,
   "id": "c4ed32da-ccc5-49af-a815-239791ad2d26",
   "metadata": {},
   "outputs": [],
   "source": [
    "adata.obsm[\"latent_autotalker\"] = latent_new_data"
   ]
  },
  {
   "cell_type": "markdown",
   "id": "6c85936c-e256-4325-b056-a27cb8ba3478",
   "metadata": {},
   "source": [
    "## Interoperability with scanpy"
   ]
  },
  {
   "cell_type": "code",
   "execution_count": null,
   "id": "dd90a8c5-9248-469e-ba7c-3f8f17add24c",
   "metadata": {},
   "outputs": [],
   "source": [
    "# Use autotalker latent space for UMAP generation\n",
    "sc.pp.neighbors(adata, use_rep=\"latent_autotalker\")\n",
    "sc.tl.umap(adata, min_dist=0.3)\n",
    "sc.pl.umap(adata, color=[\"celltype_mapped_refined\"], frameon=False,)"
   ]
  },
  {
   "cell_type": "markdown",
   "id": "1f53d723-4fd7-49dc-844b-58cf8b9585a2",
   "metadata": {},
   "source": [
    "## NicheNet Gene Programs (GPs)"
   ]
  },
  {
   "cell_type": "code",
   "execution_count": null,
   "id": "a87444e1-316e-4890-aa0b-c39db2f4e24a",
   "metadata": {},
   "outputs": [],
   "source": [
    "gp_data_folder_path = \"datasets/gp_data\"\n",
    "gp_data_file_path = gp_data_folder_path + \"/ligand_target_matrix.csv\"\n",
    "os.makedirs(gp_data_folder_path, exist_ok=True)"
   ]
  },
  {
   "cell_type": "code",
   "execution_count": null,
   "id": "d76ca973-1086-494c-a877-877e1e2e643a",
   "metadata": {},
   "outputs": [],
   "source": [
    "download_nichenet_ligand_target_mx(\n",
    "    save_path=gp_data_file_path)"
   ]
  },
  {
   "cell_type": "code",
   "execution_count": null,
   "id": "42f1b1bf-6271-4a03-ab68-b5c147b338cb",
   "metadata": {},
   "outputs": [],
   "source": [
    "gp_dict = extract_gps_from_ligand_target_mx(\n",
    "    path=gp_data_file_path)"
   ]
  },
  {
   "cell_type": "code",
   "execution_count": null,
   "id": "b2dcc97d-b621-4fc6-bdcf-a31d6e2c58b1",
   "metadata": {},
   "outputs": [],
   "source": [
    "mask_adata_with_gp_dict(adata, gp_dict)"
   ]
  },
  {
   "cell_type": "code",
   "execution_count": null,
   "id": "b147f689-d829-4b7c-8bd2-6ab907e6be18",
   "metadata": {},
   "outputs": [],
   "source": [
    "mask = adata.varm[\"I\"].T"
   ]
  },
  {
   "cell_type": "code",
   "execution_count": null,
   "id": "b153e8e9-58fc-46f1-b230-cff0590df4f7",
   "metadata": {},
   "outputs": [],
   "source": [
    "mask.shape"
   ]
  },
  {
   "cell_type": "code",
   "execution_count": null,
   "id": "f9e484d4-f41a-44b4-9f96-8e5a45e2a31d",
   "metadata": {},
   "outputs": [],
   "source": [
    "mask.shape"
   ]
  },
  {
   "cell_type": "code",
   "execution_count": null,
   "id": "fe789652-68c2-438c-bae2-3f75d137a232",
   "metadata": {},
   "outputs": [],
   "source": []
  },
  {
   "cell_type": "code",
   "execution_count": null,
   "id": "e621da0d-a297-4f84-899c-08fe2f6e5ab6",
   "metadata": {},
   "outputs": [],
   "source": [
    "I = [[int(gene in gp) for _, gp in gp_dict.items()] for gene in adata_genes]\n",
    "I = np.asarray(I, dtype=\"int32\")"
   ]
  },
  {
   "cell_type": "code",
   "execution_count": null,
   "id": "d1471f88-97b7-463b-91a0-79a31c23701e",
   "metadata": {},
   "outputs": [],
   "source": [
    "gp_dict"
   ]
  },
  {
   "cell_type": "code",
   "execution_count": null,
   "id": "5fc6fa88-ac82-4476-8d14-9fdaae0568c0",
   "metadata": {},
   "outputs": [],
   "source": [
    "I.sum()"
   ]
  },
  {
   "cell_type": "code",
   "execution_count": null,
   "id": "8d11294e-7cee-4d7c-9fb7-8082a0c1a0e5",
   "metadata": {},
   "outputs": [],
   "source": [
    "for gp_name, gp in gp_dict.items():\n",
    "    print(gp_name)\n",
    "    print(gp)\n",
    "    break"
   ]
  },
  {
   "cell_type": "code",
   "execution_count": null,
   "id": "35180e43-529c-4f91-8219-729b3b7bf0ec",
   "metadata": {},
   "outputs": [],
   "source": []
  },
  {
   "cell_type": "markdown",
   "id": "78e16800-cb30-426a-b423-0733149b3889",
   "metadata": {},
   "source": [
    "## SCVI"
   ]
  },
  {
   "cell_type": "code",
   "execution_count": 3,
   "id": "22764444-04b3-4e85-89b6-2d8adf4ded17",
   "metadata": {},
   "outputs": [
    {
     "name": "stderr",
     "output_type": "stream",
     "text": [
      "Global seed set to 0\n"
     ]
    },
    {
     "ename": "RuntimeError",
     "evalue": "This version of jaxlib was built using AVX instructions, which your CPU and/or operating system do not support. You may be able work around this issue by building jaxlib from source.",
     "output_type": "error",
     "traceback": [
      "\u001b[0;31m---------------------------------------------------------------------------\u001b[0m",
      "\u001b[0;31mRuntimeError\u001b[0m                              Traceback (most recent call last)",
      "Input \u001b[0;32mIn [3]\u001b[0m, in \u001b[0;36m<cell line: 1>\u001b[0;34m()\u001b[0m\n\u001b[0;32m----> 1\u001b[0m \u001b[38;5;28;01mimport\u001b[39;00m \u001b[38;5;21;01mscvi\u001b[39;00m\n\u001b[1;32m      2\u001b[0m \u001b[38;5;28;01mimport\u001b[39;00m \u001b[38;5;21;01mscanpy\u001b[39;00m \u001b[38;5;28;01mas\u001b[39;00m \u001b[38;5;21;01msc\u001b[39;00m\n\u001b[1;32m      3\u001b[0m \u001b[38;5;28;01mimport\u001b[39;00m \u001b[38;5;21;01mmatplotlib\u001b[39;00m\u001b[38;5;21;01m.\u001b[39;00m\u001b[38;5;21;01mpyplot\u001b[39;00m \u001b[38;5;28;01mas\u001b[39;00m \u001b[38;5;21;01mplt\u001b[39;00m\n",
      "File \u001b[0;32m~/opt/anaconda3/envs/autotalkercpu/lib/python3.9/site-packages/scvi/__init__.py:10\u001b[0m, in \u001b[0;36m<module>\u001b[0;34m\u001b[0m\n\u001b[1;32m      7\u001b[0m \u001b[38;5;28;01mfrom\u001b[39;00m \u001b[38;5;21;01m.\u001b[39;00m\u001b[38;5;21;01m_settings\u001b[39;00m \u001b[38;5;28;01mimport\u001b[39;00m settings\n\u001b[1;32m      9\u001b[0m \u001b[38;5;66;03m# this import needs to come after prior imports to prevent circular import\u001b[39;00m\n\u001b[0;32m---> 10\u001b[0m \u001b[38;5;28;01mfrom\u001b[39;00m \u001b[38;5;21;01m.\u001b[39;00m \u001b[38;5;28;01mimport\u001b[39;00m data, model, external, utils\n\u001b[1;32m     12\u001b[0m \u001b[38;5;66;03m# https://github.com/python-poetry/poetry/pull/2366#issuecomment-652418094\u001b[39;00m\n\u001b[1;32m     13\u001b[0m \u001b[38;5;66;03m# https://github.com/python-poetry/poetry/issues/144#issuecomment-623927302\u001b[39;00m\n\u001b[1;32m     14\u001b[0m \u001b[38;5;28;01mtry\u001b[39;00m:\n",
      "File \u001b[0;32m~/opt/anaconda3/envs/autotalkercpu/lib/python3.9/site-packages/scvi/data/__init__.py:24\u001b[0m, in \u001b[0;36m<module>\u001b[0;34m\u001b[0m\n\u001b[1;32m      1\u001b[0m \u001b[38;5;28;01mfrom\u001b[39;00m \u001b[38;5;21;01manndata\u001b[39;00m \u001b[38;5;28;01mimport\u001b[39;00m read_csv, read_h5ad, read_loom, read_text\n\u001b[1;32m      3\u001b[0m \u001b[38;5;28;01mfrom\u001b[39;00m \u001b[38;5;21;01m.\u001b[39;00m\u001b[38;5;21;01m_datasets\u001b[39;00m \u001b[38;5;28;01mimport\u001b[39;00m (\n\u001b[1;32m      4\u001b[0m     annotation_simulation,\n\u001b[1;32m      5\u001b[0m     brainlarge_dataset,\n\u001b[0;32m   (...)\u001b[0m\n\u001b[1;32m     22\u001b[0m     synthetic_iid,\n\u001b[1;32m     23\u001b[0m )\n\u001b[0;32m---> 24\u001b[0m \u001b[38;5;28;01mfrom\u001b[39;00m \u001b[38;5;21;01m.\u001b[39;00m\u001b[38;5;21;01m_manager\u001b[39;00m \u001b[38;5;28;01mimport\u001b[39;00m AnnDataManager\n\u001b[1;32m     25\u001b[0m \u001b[38;5;28;01mfrom\u001b[39;00m \u001b[38;5;21;01m.\u001b[39;00m\u001b[38;5;21;01m_preprocessing\u001b[39;00m \u001b[38;5;28;01mimport\u001b[39;00m (\n\u001b[1;32m     26\u001b[0m     organize_cite_seq_10x,\n\u001b[1;32m     27\u001b[0m     organize_multiome_anndatas,\n\u001b[1;32m     28\u001b[0m     poisson_gene_selection,\n\u001b[1;32m     29\u001b[0m )\n\u001b[1;32m     30\u001b[0m \u001b[38;5;28;01mfrom\u001b[39;00m \u001b[38;5;21;01m.\u001b[39;00m\u001b[38;5;21;01m_read\u001b[39;00m \u001b[38;5;28;01mimport\u001b[39;00m read_10x_atac, read_10x_multiome\n",
      "File \u001b[0;32m~/opt/anaconda3/envs/autotalkercpu/lib/python3.9/site-packages/scvi/data/_manager.py:18\u001b[0m, in \u001b[0;36m<module>\u001b[0;34m\u001b[0m\n\u001b[1;32m     15\u001b[0m \u001b[38;5;28;01mfrom\u001b[39;00m \u001b[38;5;21;01mscvi\u001b[39;00m\u001b[38;5;21;01m.\u001b[39;00m\u001b[38;5;21;01mutils\u001b[39;00m \u001b[38;5;28;01mimport\u001b[39;00m attrdict\n\u001b[1;32m     17\u001b[0m \u001b[38;5;28;01mfrom\u001b[39;00m \u001b[38;5;21;01m.\u001b[39;00m \u001b[38;5;28;01mimport\u001b[39;00m _constants\n\u001b[0;32m---> 18\u001b[0m \u001b[38;5;28;01mfrom\u001b[39;00m \u001b[38;5;21;01m.\u001b[39;00m\u001b[38;5;21;01m_utils\u001b[39;00m \u001b[38;5;28;01mimport\u001b[39;00m _assign_adata_uuid, get_anndata_attribute\n\u001b[1;32m     19\u001b[0m \u001b[38;5;28;01mfrom\u001b[39;00m \u001b[38;5;21;01m.\u001b[39;00m\u001b[38;5;21;01mfields\u001b[39;00m \u001b[38;5;28;01mimport\u001b[39;00m BaseAnnDataField\n\u001b[1;32m     22\u001b[0m \u001b[38;5;28;01mclass\u001b[39;00m \u001b[38;5;21;01mAnnDataManager\u001b[39;00m:\n",
      "File \u001b[0;32m~/opt/anaconda3/envs/autotalkercpu/lib/python3.9/site-packages/scvi/data/_utils.py:8\u001b[0m, in \u001b[0;36m<module>\u001b[0;34m\u001b[0m\n\u001b[1;32m      6\u001b[0m \u001b[38;5;28;01mimport\u001b[39;00m \u001b[38;5;21;01manndata\u001b[39;00m\n\u001b[1;32m      7\u001b[0m \u001b[38;5;28;01mimport\u001b[39;00m \u001b[38;5;21;01mh5py\u001b[39;00m\n\u001b[0;32m----> 8\u001b[0m \u001b[38;5;28;01mimport\u001b[39;00m \u001b[38;5;21;01mjax\u001b[39;00m\n\u001b[1;32m      9\u001b[0m \u001b[38;5;28;01mimport\u001b[39;00m \u001b[38;5;21;01mjax\u001b[39;00m\u001b[38;5;21;01m.\u001b[39;00m\u001b[38;5;21;01mnumpy\u001b[39;00m \u001b[38;5;28;01mas\u001b[39;00m \u001b[38;5;21;01mjnp\u001b[39;00m\n\u001b[1;32m     10\u001b[0m \u001b[38;5;28;01mimport\u001b[39;00m \u001b[38;5;21;01mnumpy\u001b[39;00m \u001b[38;5;28;01mas\u001b[39;00m \u001b[38;5;21;01mnp\u001b[39;00m\n",
      "File \u001b[0;32m~/opt/anaconda3/envs/autotalkercpu/lib/python3.9/site-packages/jax/__init__.py:35\u001b[0m, in \u001b[0;36m<module>\u001b[0;34m\u001b[0m\n\u001b[1;32m     30\u001b[0m \u001b[38;5;28;01mdel\u001b[39;00m _cloud_tpu_init\n\u001b[1;32m     32\u001b[0m \u001b[38;5;66;03m# Confusingly there are two things named \"config\": the module and the class.\u001b[39;00m\n\u001b[1;32m     33\u001b[0m \u001b[38;5;66;03m# We want the exported object to be the class, so we first import the module\u001b[39;00m\n\u001b[1;32m     34\u001b[0m \u001b[38;5;66;03m# to make sure a later import doesn't overwrite the class.\u001b[39;00m\n\u001b[0;32m---> 35\u001b[0m \u001b[38;5;28;01mfrom\u001b[39;00m \u001b[38;5;21;01mjax\u001b[39;00m \u001b[38;5;28;01mimport\u001b[39;00m config \u001b[38;5;28;01mas\u001b[39;00m _config_module\n\u001b[1;32m     36\u001b[0m \u001b[38;5;28;01mdel\u001b[39;00m _config_module\n\u001b[1;32m     38\u001b[0m \u001b[38;5;28;01mfrom\u001b[39;00m \u001b[38;5;21;01mjax\u001b[39;00m\u001b[38;5;21;01m.\u001b[39;00m\u001b[38;5;21;01m_src\u001b[39;00m\u001b[38;5;21;01m.\u001b[39;00m\u001b[38;5;21;01mconfig\u001b[39;00m \u001b[38;5;28;01mimport\u001b[39;00m (\n\u001b[1;32m     39\u001b[0m   config \u001b[38;5;28;01mas\u001b[39;00m config,\n\u001b[1;32m     40\u001b[0m   enable_checks \u001b[38;5;28;01mas\u001b[39;00m enable_checks,\n\u001b[0;32m   (...)\u001b[0m\n\u001b[1;32m     57\u001b[0m   transfer_guard_device_to_host \u001b[38;5;28;01mas\u001b[39;00m transfer_guard_device_to_host,\n\u001b[1;32m     58\u001b[0m )\n",
      "File \u001b[0;32m~/opt/anaconda3/envs/autotalkercpu/lib/python3.9/site-packages/jax/config.py:17\u001b[0m, in \u001b[0;36m<module>\u001b[0;34m\u001b[0m\n\u001b[1;32m      1\u001b[0m \u001b[38;5;66;03m# Copyright 2018 Google LLC\u001b[39;00m\n\u001b[1;32m      2\u001b[0m \u001b[38;5;66;03m#\u001b[39;00m\n\u001b[1;32m      3\u001b[0m \u001b[38;5;66;03m# Licensed under the Apache License, Version 2.0 (the \"License\");\u001b[39;00m\n\u001b[0;32m   (...)\u001b[0m\n\u001b[1;32m     14\u001b[0m \n\u001b[1;32m     15\u001b[0m \u001b[38;5;66;03m# TODO(phawkins): fix users of this alias and delete this file.\u001b[39;00m\n\u001b[0;32m---> 17\u001b[0m \u001b[38;5;28;01mfrom\u001b[39;00m \u001b[38;5;21;01mjax\u001b[39;00m\u001b[38;5;21;01m.\u001b[39;00m\u001b[38;5;21;01m_src\u001b[39;00m\u001b[38;5;21;01m.\u001b[39;00m\u001b[38;5;21;01mconfig\u001b[39;00m \u001b[38;5;28;01mimport\u001b[39;00m config\n",
      "File \u001b[0;32m~/opt/anaconda3/envs/autotalkercpu/lib/python3.9/site-packages/jax/_src/config.py:29\u001b[0m, in \u001b[0;36m<module>\u001b[0;34m\u001b[0m\n\u001b[1;32m     25\u001b[0m \u001b[38;5;28;01mimport\u001b[39;00m \u001b[38;5;21;01mwarnings\u001b[39;00m\n\u001b[1;32m     27\u001b[0m \u001b[38;5;28;01mfrom\u001b[39;00m \u001b[38;5;21;01mabsl\u001b[39;00m \u001b[38;5;28;01mimport\u001b[39;00m logging\n\u001b[0;32m---> 29\u001b[0m \u001b[38;5;28;01mfrom\u001b[39;00m \u001b[38;5;21;01mjax\u001b[39;00m\u001b[38;5;21;01m.\u001b[39;00m\u001b[38;5;21;01m_src\u001b[39;00m \u001b[38;5;28;01mimport\u001b[39;00m lib\n\u001b[1;32m     30\u001b[0m \u001b[38;5;28;01mfrom\u001b[39;00m \u001b[38;5;21;01mjax\u001b[39;00m\u001b[38;5;21;01m.\u001b[39;00m\u001b[38;5;21;01m_src\u001b[39;00m\u001b[38;5;21;01m.\u001b[39;00m\u001b[38;5;21;01mlib\u001b[39;00m \u001b[38;5;28;01mimport\u001b[39;00m jax_jit\n\u001b[1;32m     31\u001b[0m \u001b[38;5;28;01mfrom\u001b[39;00m \u001b[38;5;21;01mjax\u001b[39;00m\u001b[38;5;21;01m.\u001b[39;00m\u001b[38;5;21;01m_src\u001b[39;00m\u001b[38;5;21;01m.\u001b[39;00m\u001b[38;5;21;01mlib\u001b[39;00m \u001b[38;5;28;01mimport\u001b[39;00m transfer_guard_lib\n",
      "File \u001b[0;32m~/opt/anaconda3/envs/autotalkercpu/lib/python3.9/site-packages/jax/_src/lib/__init__.py:98\u001b[0m, in \u001b[0;36m<module>\u001b[0;34m\u001b[0m\n\u001b[1;32m     94\u001b[0m \u001b[38;5;66;03m# Before importing any C compiled modules from jaxlib, first import the CPU\u001b[39;00m\n\u001b[1;32m     95\u001b[0m \u001b[38;5;66;03m# feature guard module to verify that jaxlib was compiled in a way that only\u001b[39;00m\n\u001b[1;32m     96\u001b[0m \u001b[38;5;66;03m# uses instructions that are present on this machine.\u001b[39;00m\n\u001b[1;32m     97\u001b[0m \u001b[38;5;28;01mimport\u001b[39;00m \u001b[38;5;21;01mjaxlib\u001b[39;00m\u001b[38;5;21;01m.\u001b[39;00m\u001b[38;5;21;01mcpu_feature_guard\u001b[39;00m \u001b[38;5;28;01mas\u001b[39;00m \u001b[38;5;21;01mcpu_feature_guard\u001b[39;00m\n\u001b[0;32m---> 98\u001b[0m \u001b[43mcpu_feature_guard\u001b[49m\u001b[38;5;241;43m.\u001b[39;49m\u001b[43mcheck_cpu_features\u001b[49m\u001b[43m(\u001b[49m\u001b[43m)\u001b[49m\n\u001b[1;32m    100\u001b[0m \u001b[38;5;28;01mimport\u001b[39;00m \u001b[38;5;21;01mjaxlib\u001b[39;00m\u001b[38;5;21;01m.\u001b[39;00m\u001b[38;5;21;01mxla_client\u001b[39;00m \u001b[38;5;28;01mas\u001b[39;00m \u001b[38;5;21;01mxla_client\u001b[39;00m\n\u001b[1;32m    101\u001b[0m \u001b[38;5;28;01mimport\u001b[39;00m \u001b[38;5;21;01mjaxlib\u001b[39;00m\u001b[38;5;21;01m.\u001b[39;00m\u001b[38;5;21;01mlapack\u001b[39;00m \u001b[38;5;28;01mas\u001b[39;00m \u001b[38;5;21;01mlapack\u001b[39;00m\n",
      "\u001b[0;31mRuntimeError\u001b[0m: This version of jaxlib was built using AVX instructions, which your CPU and/or operating system do not support. You may be able work around this issue by building jaxlib from source."
     ]
    }
   ],
   "source": [
    "import scvi\n",
    "import scanpy as sc\n",
    "import matplotlib.pyplot as plt\n",
    "\n",
    "sc.set_figure_params(figsize=(4, 4))\n",
    "\n",
    "# for white background of figures (only for docs rendering)\n",
    "%config InlineBackend.print_figure_kwargs={'facecolor' : \"w\"}\n",
    "%config InlineBackend.figure_format='retina'"
   ]
  },
  {
   "cell_type": "code",
   "execution_count": null,
   "id": "a4677851-ba88-4138-9070-0ee6bdf8b9a3",
   "metadata": {},
   "outputs": [],
   "source": []
  }
 ],
 "metadata": {
  "kernelspec": {
   "display_name": "autotalkercpu",
   "language": "python",
   "name": "autotalkercpu"
  },
  "language_info": {
   "codemirror_mode": {
    "name": "ipython",
    "version": 3
   },
   "file_extension": ".py",
   "mimetype": "text/x-python",
   "name": "python",
   "nbconvert_exporter": "python",
   "pygments_lexer": "ipython3",
   "version": "3.9.13"
  }
 },
 "nbformat": 4,
 "nbformat_minor": 5
}
