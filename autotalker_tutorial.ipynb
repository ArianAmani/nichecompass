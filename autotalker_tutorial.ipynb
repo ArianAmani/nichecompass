{
 "cells": [
  {
   "cell_type": "code",
   "execution_count": 1,
   "id": "4e5d3297-0290-47c0-846f-705e74cdb3de",
   "metadata": {},
   "outputs": [],
   "source": [
    "%load_ext autoreload\n",
    "%autoreload 2"
   ]
  },
  {
   "cell_type": "code",
   "execution_count": 2,
   "id": "b4aa3c6a-5a44-4cf1-84a3-5e514457cf3c",
   "metadata": {},
   "outputs": [],
   "source": [
    "import argparse\n",
    "import os\n",
    "import sys\n",
    "\n",
    "import mlflow\n",
    "import numpy as np\n",
    "import scanpy as sc\n",
    "import squidpy as sq\n",
    "\n",
    "from autotalker.data import load_spatial_adata_from_csv\n",
    "from autotalker.models import Autotalker\n",
    "from autotalker.utils import add_gps_from_gp_dict_to_adata\n",
    "from autotalker.utils import extract_gp_dict_from_nichenet_ligand_target_mx\n",
    "from autotalker.utils import extract_gp_dict_from_omnipath_lr_interactions"
   ]
  },
  {
   "cell_type": "code",
   "execution_count": 11,
   "id": "a4d4e6d9-239f-47c5-a30b-579b16d4c27c",
   "metadata": {},
   "outputs": [],
   "source": [
    "dataset = \"squidpy_seqfish\""
   ]
  },
  {
   "cell_type": "code",
   "execution_count": 12,
   "id": "726a55a8-65b2-49a2-b4f0-23cd69dc7954",
   "metadata": {},
   "outputs": [
    {
     "name": "stdout",
     "output_type": "stream",
     "text": [
      "Using dataset squidpy_seqfish.\n"
     ]
    }
   ],
   "source": [
    "print(f\"Using dataset {dataset}.\")\n",
    "\n",
    "if dataset == \"deeplinc_seqfish\":\n",
    "    adata = load_spatial_adata_from_csv(\"datasets/seqFISH/counts.csv\",\n",
    "                                        \"datasets/seqFISH/adj.csv\")\n",
    "    cell_type_key = None\n",
    "elif dataset == \"squidpy_seqfish\":\n",
    "    adata = sq.datasets.seqfish()\n",
    "    sq.gr.spatial_neighbors(adata, radius = 0.04, coord_type=\"generic\")\n",
    "    cell_type_key = \"celltype_mapped_refined\"\n",
    "elif dataset == \"squidpy_slideseqv2\":\n",
    "    adata = sq.datasets.slideseqv2()\n",
    "    sq.gr.spatial_neighbors(adata, radius = 30.0, coord_type=\"generic\")\n",
    "    cell_type_key = \"cluster\""
   ]
  },
  {
   "cell_type": "code",
   "execution_count": 13,
   "id": "d64513a5-d4f0-4ae2-927e-948c59bc8666",
   "metadata": {},
   "outputs": [
    {
     "name": "stdout",
     "output_type": "stream",
     "text": [
      "Number of nodes: 19416\n",
      "Number of node features: 351\n",
      "Average number of edges per node: 4.4\n",
      "Number of edges: 42694\n"
     ]
    }
   ],
   "source": [
    "print(f\"Number of nodes: {adata.X.shape[0]}\")\n",
    "print(f\"Number of node features: {adata.X.shape[1]}\")\n",
    "avg_edges_per_node = round(\n",
    "    adata.obsp['spatial_connectivities'].toarray().sum(axis=0).mean(),2)\n",
    "print(f\"Average number of edges per node: {avg_edges_per_node}\")\n",
    "n_edges = int(np.triu(adata.obsp['spatial_connectivities'].toarray()).sum())\n",
    "print(f\"Number of edges: {n_edges}\", sep=\"\")"
   ]
  },
  {
   "cell_type": "code",
   "execution_count": null,
   "id": "62b39d67-fa3d-49ff-9f24-213169a64eed",
   "metadata": {},
   "outputs": [],
   "source": [
    "os.makedirs(\"mlruns\", exist_ok=True)"
   ]
  },
  {
   "cell_type": "code",
   "execution_count": null,
   "id": "0145cc84-0dae-4b94-831c-3637d9d0fcff",
   "metadata": {},
   "outputs": [],
   "source": [
    "experiment = mlflow.set_experiment(\"autotalker\")\n",
    "mlflow.log_param(\"dataset\", dataset)"
   ]
  },
  {
   "cell_type": "code",
   "execution_count": null,
   "id": "06530d4e-020b-4fdc-89cb-e16daa410205",
   "metadata": {},
   "outputs": [],
   "source": [
    "node_label_method = \"one-hop\"\n",
    "n_latent = 32\n",
    "\n",
    "# Mask that allows all genes\n",
    "if node_label_method == \"self\":\n",
    "    n_output = len(adata.var)\n",
    "elif node_label_method == \"one-hop\":\n",
    "    n_output = len(adata.var) * 2\n",
    "    \n",
    "mask = np.ones((n_latent, n_output))\n",
    "print(mask.shape)"
   ]
  },
  {
   "cell_type": "code",
   "execution_count": null,
   "id": "5431a94f-3159-4556-98d5-551a490f161f",
   "metadata": {},
   "outputs": [],
   "source": [
    "model = Autotalker(adata,\n",
    "                   adj_key=\"spatial_connectivities\",\n",
    "                   gp_mask_key=\"autotalker_gp_mask\",\n",
    "                   include_edge_recon_loss=False,\n",
    "                   include_gene_expr_recon_loss=True,\n",
    "                   node_label_method=\"one-hop\",\n",
    "                   n_hidden_encoder=32,\n",
    "                   dropout_rate_encoder=0.,\n",
    "                   dropout_rate_graph_decoder=0.,\n",
    "                   gp_mask=mask)"
   ]
  },
  {
   "cell_type": "code",
   "execution_count": null,
   "id": "0fa100cc-c398-4ed9-a72f-a42af0d8c16d",
   "metadata": {},
   "outputs": [],
   "source": [
    "model.train(n_epochs=20,\n",
    "            lr=0.01,\n",
    "            weight_decay=0,\n",
    "            edge_val_ratio=0.1,\n",
    "            edge_test_ratio=0.05,\n",
    "            node_val_ratio=0.1,\n",
    "            node_test_ratio=0.0,\n",
    "            edge_batch_size=64,\n",
    "            mlflow_experiment_id=experiment.experiment_id)"
   ]
  },
  {
   "cell_type": "code",
   "execution_count": null,
   "id": "c1499445-5ec0-4c1b-b08b-40c94ace8894",
   "metadata": {},
   "outputs": [],
   "source": [
    "model.save(dir_path=\"./model_artefacts\",\n",
    "           overwrite=True,\n",
    "           save_adata=True,\n",
    "           adata_file_name=\"adata.h5ad\")"
   ]
  },
  {
   "cell_type": "code",
   "execution_count": null,
   "id": "c68cc58d-54c7-4f7b-8420-1064f7c288fd",
   "metadata": {},
   "outputs": [],
   "source": [
    "model = Autotalker.load(dir_path=\"./model_artefacts\",\n",
    "                        adata=None,\n",
    "                        adata_file_name=\"adata.h5ad\")"
   ]
  },
  {
   "cell_type": "code",
   "execution_count": null,
   "id": "59fe5d54-2260-44ad-a024-3e9c420453ba",
   "metadata": {},
   "outputs": [],
   "source": [
    "latent = model.get_latent_representation()"
   ]
  },
  {
   "cell_type": "code",
   "execution_count": null,
   "id": "3b1bf9d5-90de-4898-96b7-697e1c3de254",
   "metadata": {},
   "outputs": [],
   "source": [
    "latent_new_data = model.get_latent_representation(adata)"
   ]
  },
  {
   "cell_type": "code",
   "execution_count": null,
   "id": "c4ed32da-ccc5-49af-a815-239791ad2d26",
   "metadata": {},
   "outputs": [],
   "source": [
    "adata.obsm[\"latent_autotalker\"] = latent_new_data"
   ]
  },
  {
   "cell_type": "markdown",
   "id": "6c85936c-e256-4325-b056-a27cb8ba3478",
   "metadata": {},
   "source": [
    "## Interoperability with scanpy"
   ]
  },
  {
   "cell_type": "code",
   "execution_count": null,
   "id": "dd90a8c5-9248-469e-ba7c-3f8f17add24c",
   "metadata": {
    "jupyter": {
     "source_hidden": true
    },
    "tags": []
   },
   "outputs": [],
   "source": [
    "sc.set_figure_params(figsize=(6, 6))\n",
    "\n",
    "# Use autotalker latent space for UMAP generation\n",
    "sc.pp.neighbors(adata, use_rep=\"latent_autotalker\")\n",
    "sc.tl.umap(adata, min_dist=0.3)\n",
    "sc.pl.umap(adata, color=[cell_type_key], frameon=False, save=\"_latent.png\")"
   ]
  },
  {
   "cell_type": "markdown",
   "id": "1f53d723-4fd7-49dc-844b-58cf8b9585a2",
   "metadata": {},
   "source": [
    "## Add Explainable Cell-Cell-Interaction Gene Programs (GPs)"
   ]
  },
  {
   "cell_type": "code",
   "execution_count": 24,
   "id": "07457759-11ed-4511-a692-0de022362736",
   "metadata": {},
   "outputs": [],
   "source": [
    "gp_data_folder_path = \"datasets/gp_data\"\n",
    "nichenet_ligand_target_mx_file_path = gp_data_folder_path + \"/nichenet_ligand_target_matrix.csv\"\n",
    "omnipath_lr_interactions_file_path = gp_data_folder_path + \"/omnipath_lr_interactions.csv\"\n",
    "\n",
    "os.makedirs(gp_data_folder_path, exist_ok=True)"
   ]
  },
  {
   "cell_type": "markdown",
   "id": "e9fc5bf9-a4c0-415a-8e6a-0ac1196f465f",
   "metadata": {},
   "source": [
    "### NicheNet"
   ]
  },
  {
   "cell_type": "code",
   "execution_count": 26,
   "id": "42f1b1bf-6271-4a03-ab68-b5c147b338cb",
   "metadata": {},
   "outputs": [],
   "source": [
    "nichenet_gp_dict = extract_gp_dict_from_nichenet_ligand_target_mx(\n",
    "    keep_target_ratio=0.1,\n",
    "    load_from_disk=True,\n",
    "    save_to_disk=True,\n",
    "    file_path=nichenet_ligand_target_mx_file_path)"
   ]
  },
  {
   "cell_type": "code",
   "execution_count": 27,
   "id": "b2dcc97d-b621-4fc6-bdcf-a31d6e2c58b1",
   "metadata": {},
   "outputs": [],
   "source": [
    "add_gps_from_gp_dict_to_adata(\n",
    "    adata=adata,\n",
    "    gp_dict=nichenet_gp_dict,\n",
    "    genes_uppercase=True,\n",
    "    gp_targets_varm_key=\"autotalker_gp_targets\",\n",
    "    gp_sources_varm_key=\"autotalker_gp_sources\",\n",
    "    gp_names_uns_key=\"autotalker_gp_names\",\n",
    "    min_genes_per_gp=0,\n",
    "    max_genes_per_gp=None)"
   ]
  },
  {
   "cell_type": "markdown",
   "id": "a638a14b-d185-483f-b7a3-024a182e3b41",
   "metadata": {},
   "source": [
    "### OmniPath"
   ]
  },
  {
   "cell_type": "code",
   "execution_count": 41,
   "id": "5555bcfc-2e56-4708-8571-fadf98d73dd0",
   "metadata": {},
   "outputs": [],
   "source": [
    "omnipath_gp_dict = extract_gp_dict_from_omnipath_lr_interactions(\n",
    "    min_curation_effort=0,\n",
    "    load_from_disk=True,\n",
    "    save_to_disk=True,\n",
    "    file_path=omnipath_lr_interactions_file_path)"
   ]
  },
  {
   "cell_type": "code",
   "execution_count": 65,
   "id": "de4d5903-67e0-4bd8-8243-d9cea1485d64",
   "metadata": {},
   "outputs": [],
   "source": [
    "add_gps_from_gp_dict_to_adata(\n",
    "    adata=adata,\n",
    "    gp_dict=omnipath_gp_dict,\n",
    "    genes_uppercase=True,\n",
    "    gp_targets_varm_key=\"autotalker_gp_targets\",\n",
    "    gp_sources_varm_key=\"autotalker_gp_sources\",\n",
    "    gp_names_uns_key=\"autotalker_gp_names\",\n",
    "    min_genes_per_gp=0,\n",
    "    max_genes_per_gp=None)"
   ]
  },
  {
   "cell_type": "markdown",
   "id": "e88ce7fe-22ee-4f5b-9319-394c1eb434a4",
   "metadata": {},
   "source": [
    "### NicheNet & OmniPath Combined"
   ]
  },
  {
   "cell_type": "code",
   "execution_count": 51,
   "id": "85b8c216-c3e0-43bb-8de6-24796912dd67",
   "metadata": {},
   "outputs": [],
   "source": [
    "combined_gp_dict = dict(nichenet_gp_dict)\n",
    "combined_gp_dict.update(omnipath_gp_dict)"
   ]
  },
  {
   "cell_type": "code",
   "execution_count": 67,
   "id": "6f13773c-e6c1-4786-b663-8d26f4328f4d",
   "metadata": {},
   "outputs": [],
   "source": [
    "add_gps_from_gp_dict_to_adata(\n",
    "    adata=adata,\n",
    "    gp_dict=combined_gp_dict,\n",
    "    genes_uppercase=True,\n",
    "    gp_targets_varm_key=\"autotalker_gp_targets\",\n",
    "    gp_sources_varm_key=\"autotalker_gp_sources\",\n",
    "    gp_names_uns_key=\"autotalker_gp_names\",\n",
    "    min_genes_per_gp=0,\n",
    "    max_genes_per_gp=None)"
   ]
  },
  {
   "cell_type": "code",
   "execution_count": 68,
   "id": "0cfeffa0-e629-4494-8693-31b352320839",
   "metadata": {},
   "outputs": [
    {
     "data": {
      "text/plain": [
       "array([[0, 0, 0, ..., 0, 0, 0],\n",
       "       [0, 0, 0, ..., 0, 0, 0],\n",
       "       [0, 0, 0, ..., 0, 0, 0],\n",
       "       ...,\n",
       "       [0, 0, 0, ..., 0, 0, 0],\n",
       "       [0, 0, 0, ..., 0, 0, 0],\n",
       "       [0, 0, 0, ..., 0, 0, 0]], dtype=int32)"
      ]
     },
     "execution_count": 68,
     "metadata": {},
     "output_type": "execute_result"
    }
   ],
   "source": [
    "adata.varm[\"autotalker_gp_targets\"]"
   ]
  },
  {
   "cell_type": "code",
   "execution_count": 69,
   "id": "baa1e50c-6c08-4bde-82d3-fe0c91206326",
   "metadata": {},
   "outputs": [
    {
     "data": {
      "text/plain": [
       "array([[0, 0, 0, ..., 0, 0, 0],\n",
       "       [0, 0, 0, ..., 0, 0, 0],\n",
       "       [0, 0, 0, ..., 0, 0, 0],\n",
       "       ...,\n",
       "       [0, 0, 0, ..., 0, 0, 0],\n",
       "       [0, 0, 0, ..., 0, 0, 0],\n",
       "       [0, 0, 0, ..., 0, 0, 0]], dtype=int32)"
      ]
     },
     "execution_count": 69,
     "metadata": {},
     "output_type": "execute_result"
    }
   ],
   "source": [
    "adata.varm[\"autotalker_gp_sources\"]"
   ]
  },
  {
   "cell_type": "code",
   "execution_count": 70,
   "id": "2f8efde7-c7f0-4007-9aa4-362371d984fe",
   "metadata": {},
   "outputs": [
    {
     "data": {
      "text/plain": [
       "['CXCL1_ligand_targetgenes_GP',\n",
       " 'CXCL2_ligand_targetgenes_GP',\n",
       " 'CXCL3_ligand_targetgenes_GP',\n",
       " 'CXCL5_ligand_targetgenes_GP',\n",
       " 'PPBP_ligand_targetgenes_GP']"
      ]
     },
     "execution_count": 70,
     "metadata": {},
     "output_type": "execute_result"
    }
   ],
   "source": [
    "adata.uns[\"autotalker_gp_names\"][:5]"
   ]
  },
  {
   "cell_type": "code",
   "execution_count": null,
   "id": "a9aa7b25-3855-4b20-a595-1632f168e3a0",
   "metadata": {},
   "outputs": [],
   "source": [
    "experiment = mlflow.set_experiment(\"autotalker_gp_masked\")\n",
    "mlflow.log_param(\"dataset\", dataset)"
   ]
  },
  {
   "cell_type": "code",
   "execution_count": null,
   "id": "b147f689-d829-4b7c-8bd2-6ab907e6be18",
   "metadata": {},
   "outputs": [],
   "source": [
    "gp_mask = adata.varm[\"autotalker_gps\"].T\n",
    "print(f\"Gene program mask shape (gene programs x nodes): {gp_mask.shape}\")\n",
    "n_hidden_encoder = int(gp_mask.shape[0] / 2)\n",
    "print(f\"Number of hidden layers in the encoder: {n_hidden_encoder}\")"
   ]
  },
  {
   "cell_type": "code",
   "execution_count": null,
   "id": "b153e8e9-58fc-46f1-b230-cff0590df4f7",
   "metadata": {},
   "outputs": [],
   "source": [
    "model = Autotalker(adata,\n",
    "                   autotalker_module=\"VGPGAE\",\n",
    "                   n_hidden_encoder=n_hidden_encoder,\n",
    "                   dropout_rate_encoder=0.,\n",
    "                   dropout_rate_graph_decoder=0.,\n",
    "                   gp_mask=gp_mask)"
   ]
  },
  {
   "cell_type": "code",
   "execution_count": null,
   "id": "35180e43-529c-4f91-8219-729b3b7bf0ec",
   "metadata": {},
   "outputs": [],
   "source": [
    "model.train(n_epochs=20,\n",
    "            lr=0.001,\n",
    "            weight_decay=0,\n",
    "            edge_val_ratio=0.1,\n",
    "            edge_test_ratio=0.05,\n",
    "            node_val_ratio=0.1,\n",
    "            node_test_ratio=0.0,\n",
    "            edge_batch_size=64,\n",
    "            include_edge_recon_loss=True,\n",
    "            include_gene_expr_recon_loss=True,\n",
    "            mlflow_experiment_id=experiment.experiment_id)"
   ]
  },
  {
   "cell_type": "markdown",
   "id": "0fe28031-958c-4101-a7b3-b16011cc4e80",
   "metadata": {},
   "source": [
    "The model can maintain the edge reconstruction performance while tweaking the latent space for better gene expression reconstruction."
   ]
  },
  {
   "cell_type": "code",
   "execution_count": null,
   "id": "1cae084f-8541-4738-bf09-c583e5f5d53d",
   "metadata": {},
   "outputs": [],
   "source": [
    "latent_gps = model.get_latent_representation()"
   ]
  },
  {
   "cell_type": "code",
   "execution_count": null,
   "id": "9ef7589f-7ca2-44fe-a513-66af504c71f7",
   "metadata": {},
   "outputs": [],
   "source": [
    "latent_gps_new_adata = model.get_latent_representation(adata)"
   ]
  },
  {
   "cell_type": "code",
   "execution_count": null,
   "id": "73dae29e-edf6-45a5-b60f-71b4bc7f1ee5",
   "metadata": {},
   "outputs": [],
   "source": [
    "adata.obsm[\"latent_gps_autotalker\"] = latent_gps_new_adata"
   ]
  },
  {
   "cell_type": "code",
   "execution_count": null,
   "id": "da101718-0cd1-4a42-8f66-9f623b26c1d8",
   "metadata": {},
   "outputs": [],
   "source": [
    "sc.set_figure_params(figsize=(6, 6))\n",
    "\n",
    "# Use autotalker latent gp space for UMAP generation\n",
    "sc.pp.neighbors(adata, use_rep=\"latent_gps_autotalker\")\n",
    "sc.tl.umap(adata, min_dist=0.3)\n",
    "sc.pl.umap(adata, color=[cell_type_key], frameon=False)"
   ]
  },
  {
   "cell_type": "code",
   "execution_count": null,
   "id": "8d336ae7-9aa7-4bfb-b848-dba434b0e37d",
   "metadata": {},
   "outputs": [],
   "source": [
    "gp_mask.shape"
   ]
  },
  {
   "cell_type": "code",
   "execution_count": null,
   "id": "ceedf3ac-e83b-4d51-a2b0-0a8a10d41c38",
   "metadata": {},
   "outputs": [],
   "source": [
    "gene_programs = adata.uns[\"gene_programs\"]\n",
    "selected_gene_programs = [\"CSF1\", \"IL34\"]\n",
    "selected_gene_programs_idx = [gene_programs.index(gene_program) for gene_program in selected_gene_programs]"
   ]
  },
  {
   "cell_type": "code",
   "execution_count": null,
   "id": "32de9285-5e27-434a-b1f0-1a9a80d894b3",
   "metadata": {},
   "outputs": [],
   "source": [
    "latent_selected_gps = latent_gps[:, selected_gene_programs_idx]"
   ]
  },
  {
   "cell_type": "code",
   "execution_count": null,
   "id": "08df2ec7-c834-4660-94d7-4e76eb02e52d",
   "metadata": {},
   "outputs": [],
   "source": [
    "adata.obs[\"CSF1\"] = latent_selected_gps[:, 0]\n",
    "adata.obs[\"IL34\"] = latent_selected_gps[:, 1]"
   ]
  },
  {
   "cell_type": "code",
   "execution_count": null,
   "id": "ac70354f-98e5-4e16-8d67-9d33b7d71ca6",
   "metadata": {},
   "outputs": [],
   "source": [
    "sc.pl.umap(adata, color=\"IL34\", frameon=False, wspace=0.6)"
   ]
  },
  {
   "cell_type": "code",
   "execution_count": null,
   "id": "67bb1f3e-cebe-4cce-93d7-722b38001e83",
   "metadata": {},
   "outputs": [],
   "source": [
    "sc.pl.scatter(adata, x=\"CSF1\", y=\"IL34\", color=cell_type_key, size=10)"
   ]
  },
  {
   "cell_type": "code",
   "execution_count": null,
   "id": "f489eaea-4ffc-4588-a365-a254586fd6b2",
   "metadata": {},
   "outputs": [],
   "source": []
  },
  {
   "cell_type": "code",
   "execution_count": null,
   "id": "6acbc2b1-e1cd-4e44-8117-7ab1a41c6bfb",
   "metadata": {},
   "outputs": [],
   "source": []
  },
  {
   "cell_type": "markdown",
   "id": "78e16800-cb30-426a-b423-0733149b3889",
   "metadata": {},
   "source": [
    "## SCVI"
   ]
  },
  {
   "cell_type": "code",
   "execution_count": null,
   "id": "22764444-04b3-4e85-89b6-2d8adf4ded17",
   "metadata": {},
   "outputs": [],
   "source": [
    "import scvi\n",
    "import scanpy as sc\n",
    "import matplotlib.pyplot as plt\n",
    "\n",
    "sc.set_figure_params(figsize=(6, 6))\n",
    "\n",
    "# for white background of figures (only for docs rendering)\n",
    "%config InlineBackend.print_figure_kwargs={'facecolor' : \"w\"}\n",
    "%config InlineBackend.figure_format='retina'"
   ]
  },
  {
   "cell_type": "code",
   "execution_count": null,
   "id": "53312eb5-3013-414a-a0e0-c7c5af85e512",
   "metadata": {},
   "outputs": [],
   "source": [
    "adata.layers[\"counts\"] = adata.X.copy() # preserve counts\n",
    "sc.pp.normalize_total(adata, target_sum=1e4)\n",
    "sc.pp.log1p(adata)\n",
    "adata.raw = adata # freeze the state in `.raw`"
   ]
  },
  {
   "cell_type": "code",
   "execution_count": null,
   "id": "ef5c3782-68dd-491b-91ef-624531e7cf16",
   "metadata": {},
   "outputs": [],
   "source": [
    "scvi.model.SCVI.setup_anndata(\n",
    "    adata,\n",
    "    layer=\"counts\"\n",
    ")"
   ]
  },
  {
   "cell_type": "code",
   "execution_count": null,
   "id": "49451598-c201-4860-b5ad-2ee11b070444",
   "metadata": {},
   "outputs": [],
   "source": [
    "model = scvi.model.SCVI(adata)"
   ]
  },
  {
   "cell_type": "code",
   "execution_count": null,
   "id": "e9bf9d5f-c6e8-44a3-8b79-005b6dc5c37f",
   "metadata": {},
   "outputs": [],
   "source": [
    "model"
   ]
  },
  {
   "cell_type": "code",
   "execution_count": null,
   "id": "f601b965-a3dd-415a-a564-df9a989aa99c",
   "metadata": {},
   "outputs": [],
   "source": [
    "model.train()"
   ]
  },
  {
   "cell_type": "code",
   "execution_count": null,
   "id": "6035e7e2-8797-4484-8d4e-573670f8e70f",
   "metadata": {},
   "outputs": [],
   "source": [
    "latent_scvi = model.get_latent_representation()"
   ]
  },
  {
   "cell_type": "code",
   "execution_count": null,
   "id": "5617348d-9003-4982-a650-3975f91ac5fa",
   "metadata": {},
   "outputs": [],
   "source": [
    "adata.obsm[\"X_scVI\"] = latent_scvi"
   ]
  },
  {
   "cell_type": "code",
   "execution_count": null,
   "id": "b53b3a6d-ae53-444a-aed2-cd0cebf9b822",
   "metadata": {},
   "outputs": [],
   "source": [
    "# run PCA then generate UMAP plots\n",
    "sc.tl.pca(adata)\n",
    "sc.pp.neighbors(adata, use_rep=\"X_scVI\")\n",
    "sc.tl.umap(adata, min_dist=0.3)"
   ]
  },
  {
   "cell_type": "code",
   "execution_count": null,
   "id": "bfff5c20-a22b-4ada-8bad-b002d5631f13",
   "metadata": {},
   "outputs": [],
   "source": [
    "sc.pl.umap(adata, color=[\"celltype_mapped_refined\"], frameon=False,)"
   ]
  }
 ],
 "metadata": {
  "kernelspec": {
   "display_name": "autotalker",
   "language": "python",
   "name": "autotalker"
  },
  "language_info": {
   "codemirror_mode": {
    "name": "ipython",
    "version": 3
   },
   "file_extension": ".py",
   "mimetype": "text/x-python",
   "name": "python",
   "nbconvert_exporter": "python",
   "pygments_lexer": "ipython3",
   "version": "3.9.13"
  }
 },
 "nbformat": 4,
 "nbformat_minor": 5
}
