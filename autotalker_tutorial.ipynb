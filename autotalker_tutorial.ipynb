{
 "cells": [
  {
   "cell_type": "markdown",
   "id": "1b1daabf-c8e3-43d4-aa32-9789abcc8619",
   "metadata": {},
   "source": [
    "# Autotalker Tutorial"
   ]
  },
  {
   "cell_type": "markdown",
   "id": "c325d921-2077-42b3-90a8-6f6c7dd928c5",
   "metadata": {},
   "source": [
    "Created by Sebastian Birk (<sebastian.birk@helmholtz-munich.de>)."
   ]
  },
  {
   "cell_type": "markdown",
   "id": "2d464ebf-354f-4f61-8040-c3dcbcc893b9",
   "metadata": {},
   "source": [
    "## 1. Setup"
   ]
  },
  {
   "cell_type": "markdown",
   "id": "d5631277-d8d2-4194-a376-280f4f149b7d",
   "metadata": {},
   "source": [
    "### 1.1 Import Libraries"
   ]
  },
  {
   "cell_type": "code",
   "execution_count": 1,
   "id": "4e5d3297-0290-47c0-846f-705e74cdb3de",
   "metadata": {},
   "outputs": [],
   "source": [
    "%load_ext autoreload\n",
    "%autoreload 2"
   ]
  },
  {
   "cell_type": "code",
   "execution_count": 2,
   "id": "b4aa3c6a-5a44-4cf1-84a3-5e514457cf3c",
   "metadata": {},
   "outputs": [],
   "source": [
    "import argparse\n",
    "import os\n",
    "from datetime import datetime\n",
    "\n",
    "import mlflow\n",
    "import numpy as np\n",
    "import scanpy as sc\n",
    "import squidpy as sq\n",
    "import torch\n",
    "\n",
    "from autotalker.data import load_spatial_adata_from_csv\n",
    "from autotalker.models import Autotalker\n",
    "from autotalker.utils import (add_gps_from_gp_dict_to_adata,\n",
    "                              extract_gp_dict_from_nichenet_ligand_target_mx,\n",
    "                              extract_gp_dict_from_omnipath_lr_interactions)"
   ]
  },
  {
   "cell_type": "markdown",
   "id": "2b886225-6b6d-433c-b117-47b9a8f8091f",
   "metadata": {},
   "source": [
    "### 1.2 Configure Paths and Create Directories"
   ]
  },
  {
   "cell_type": "code",
   "execution_count": 3,
   "id": "36675337-808d-40a9-93fc-d6cfa9473f66",
   "metadata": {},
   "outputs": [],
   "source": [
    "# Mlflow\n",
    "os.makedirs(\"mlruns\", exist_ok=True)\n",
    "\n",
    "# Gene program data\n",
    "gp_data_folder_path = \"datasets/gp_data\"\n",
    "nichenet_ligand_target_mx_file_path = gp_data_folder_path + \"/nichenet_ligand_target_matrix.csv\"\n",
    "omnipath_lr_interactions_file_path = gp_data_folder_path + \"/omnipath_lr_interactions.csv\"\n",
    "os.makedirs(gp_data_folder_path, exist_ok=True)"
   ]
  },
  {
   "cell_type": "markdown",
   "id": "9f91f345-c297-47cb-8650-c6d9c60a8b7e",
   "metadata": {},
   "source": [
    "### 1.3 Define Parameters"
   ]
  },
  {
   "cell_type": "code",
   "execution_count": 4,
   "id": "a4d4e6d9-239f-47c5-a30b-579b16d4c27c",
   "metadata": {},
   "outputs": [],
   "source": [
    "dataset = \"squidpy_seqfish\"\n",
    "# node_label_method = \"self\"\n",
    "# node_label_method = \"one-hop-norm\"\n",
    "# node_label_method = \"one-hop-sum\"\n",
    "node_label_method = \"one-hop-attention\"\n",
    "n_latent_fc_gps = 512\n",
    "edge_batch_size = 32"
   ]
  },
  {
   "cell_type": "markdown",
   "id": "fd883193-8aa9-4809-aeac-cacb478df22b",
   "metadata": {
    "tags": []
   },
   "source": [
    "## 2. Load Data"
   ]
  },
  {
   "cell_type": "code",
   "execution_count": 5,
   "id": "726a55a8-65b2-49a2-b4f0-23cd69dc7954",
   "metadata": {},
   "outputs": [
    {
     "name": "stdout",
     "output_type": "stream",
     "text": [
      "Using dataset squidpy_seqfish.\n"
     ]
    }
   ],
   "source": [
    "print(f\"Using dataset {dataset}.\")\n",
    "\n",
    "if dataset == \"deeplinc_seqfish\":\n",
    "    adata = load_spatial_adata_from_csv(counts_file_path=\"datasets/seqFISH/counts.csv\",\n",
    "                                        adj_file_path=\"datasets/seqFISH/adj.csv\",\n",
    "                                        cell_type_file_path=\"datasets/seqFISH/cell_types.csv\",\n",
    "                                        cell_type_col=\"Cell_class_name\")\n",
    "    cell_type_key = \"cell_type\"\n",
    "elif dataset == \"squidpy_seqfish\":\n",
    "    adata = sq.datasets.seqfish()\n",
    "    sq.gr.spatial_neighbors(adata, radius = 0.04, coord_type=\"generic\")\n",
    "    cell_type_key = \"celltype_mapped_refined\"\n",
    "elif dataset == \"squidpy_slideseqv2\":\n",
    "    adata = sq.datasets.slideseqv2()\n",
    "    sq.gr.spatial_neighbors(adata, radius = 30.0, coord_type=\"generic\")\n",
    "    cell_type_key = \"cluster\"\n",
    "    \n",
    "adata.layers[\"counts\"] = adata.X.copy()"
   ]
  },
  {
   "cell_type": "code",
   "execution_count": 6,
   "id": "d64513a5-d4f0-4ae2-927e-948c59bc8666",
   "metadata": {},
   "outputs": [
    {
     "name": "stdout",
     "output_type": "stream",
     "text": [
      "Number of nodes: 19416\n",
      "Number of node features: 351\n",
      "Average number of edges per node: 4.4\n",
      "Number of edges: 42694\n"
     ]
    }
   ],
   "source": [
    "print(f\"Number of nodes: {adata.layers['counts'].shape[0]}\")\n",
    "print(f\"Number of node features: {adata.layers['counts'].shape[1]}\")\n",
    "avg_edges_per_node = round(\n",
    "    adata.obsp['spatial_connectivities'].toarray().sum(axis=0).mean(),2)\n",
    "print(f\"Average number of edges per node: {avg_edges_per_node}\")\n",
    "n_edges = int(np.triu(adata.obsp['spatial_connectivities'].toarray()).sum())\n",
    "print(f\"Number of edges: {n_edges}\", sep=\"\")"
   ]
  },
  {
   "cell_type": "markdown",
   "id": "14c80007-8cf9-4405-8efd-8e0b0bed5831",
   "metadata": {},
   "source": [
    "## 3. Autotalker Model with Fully Connected Gene Programs"
   ]
  },
  {
   "cell_type": "markdown",
   "id": "0f5d4ab7-4c08-47c4-be30-707cc3f77285",
   "metadata": {},
   "source": [
    "### 3.1 Create Fully Connected Gene Program Mask"
   ]
  },
  {
   "cell_type": "code",
   "execution_count": 7,
   "id": "fce7badf-8de1-4bcb-9a56-469ed3c3adaa",
   "metadata": {},
   "outputs": [
    {
     "name": "stdout",
     "output_type": "stream",
     "text": [
      "gp_targets_mask shape: (512, 351).\n",
      "gp_sources_mask shape: (512, 351).\n"
     ]
    }
   ],
   "source": [
    "# Mask that allows all genes\n",
    "if node_label_method == \"self\":\n",
    "    n_output = len(adata.var)\n",
    "    gp_targets_mask = np.ones((n_latent_fc_gps, n_output))\n",
    "    print(f\"gp_targets_mask shape: {gp_targets_mask.shape}\")\n",
    "elif node_label_method != \"self\":\n",
    "    n_output = len(adata.var) * 2\n",
    "    gp_targets_mask = np.ones((n_latent_fc_gps, int(n_output / 2)))\n",
    "    gp_sources_mask = np.ones((n_latent_fc_gps, int(n_output / 2)))\n",
    "    print(f\"gp_targets_mask shape: {gp_targets_mask.shape}.\")\n",
    "    print(f\"gp_sources_mask shape: {gp_sources_mask.shape}.\")"
   ]
  },
  {
   "cell_type": "markdown",
   "id": "2757b2cd-35e2-4b47-ba79-85f80d68b453",
   "metadata": {},
   "source": [
    "### 3.2 Initialize, Train & Save Model"
   ]
  },
  {
   "cell_type": "code",
   "execution_count": 8,
   "id": "5431a94f-3159-4556-98d5-551a490f161f",
   "metadata": {},
   "outputs": [
    {
     "name": "stdout",
     "output_type": "stream",
     "text": [
      "--- INITIALIZING NEW NETWORK MODULE: VGPGAE ---\n",
      "LOSS -> include_edge_recon_loss: True, include_gene_expr_recon_loss: True\n",
      "NODE LABEL METHOD -> one-hop-attention\n",
      "GCN ENCODER -> n_input: 351, n_hidden: 256, n_latent: 512, dropout_rate: 0.0\n",
      "DOT PRODUCT GRAPH DECODER -> dropout_rate: 0.0\n",
      "MASKED GENE EXPRESSION DECODER -> n_input: 512, n_output: 702\n"
     ]
    }
   ],
   "source": [
    "model = Autotalker(adata,\n",
    "                   counts_layer_key=\"counts\",\n",
    "                   adj_key=\"spatial_connectivities\",\n",
    "                   gp_targets_mask_key=None,\n",
    "                   gp_sources_mask_key=None,\n",
    "                   include_edge_recon_loss=True,\n",
    "                   include_gene_expr_recon_loss=True,\n",
    "                   log_variational=True,\n",
    "                   node_label_method=node_label_method,\n",
    "                   n_hidden_encoder=int(n_latent_fc_gps/2),\n",
    "                   dropout_rate_encoder=0.,\n",
    "                   dropout_rate_graph_decoder=0.,\n",
    "                   gp_targets_mask=gp_targets_mask,\n",
    "                   gp_sources_mask=(None if node_label_method == \"self\" else gp_sources_mask))"
   ]
  },
  {
   "cell_type": "code",
   "execution_count": 15,
   "id": "0fa100cc-c398-4ed9-a72f-a42af0d8c16d",
   "metadata": {},
   "outputs": [
    {
     "name": "stdout",
     "output_type": "stream",
     "text": [
      "--- INITIALIZING TRAINER ---\n",
      "Number of training nodes: 17474\n",
      "Number of validation nodes: 1942\n",
      "Number of training edges: 36291\n",
      "Number of validation edges: 4269\n",
      "Number of test edges: 2134\n",
      "\n",
      "--- MODEL TRAINING ---\n",
      "Epoch 1/30 |--------------------| 3.3% val_auroc_score: 0.9518; val_auprc_score: 0.9366; val_best_acc_score: 0.8888; val_best_f1_score: 0.8937; train_loss: 243.4821; train_edge_recon_loss: 0.3370; train_kl_loss: 0.7755; train_gene_expr_recon_loss: 242.3697; val_loss: 242.2347; val_edge_recon_loss: 0.3319; val_kl_loss: 0.7982; val_gene_expr_recon_loss: 241.1047\n",
      "Epoch 2/30 |█-------------------| 6.7% val_auroc_score: 0.9240; val_auprc_score: 0.9096; val_best_acc_score: 0.8497; val_best_f1_score: 0.8575; train_loss: 242.0482; train_edge_recon_loss: 0.3300; train_kl_loss: 0.8005; train_gene_expr_recon_loss: 240.9176; val_loss: 240.5508; val_edge_recon_loss: 0.3720; val_kl_loss: 0.8020; val_gene_expr_recon_loss: 239.3769\n",
      "Epoch 3/30 |██------------------| 10.0% val_auroc_score: 0.9510; val_auprc_score: 0.9381; val_best_acc_score: 0.8857; val_best_f1_score: 0.8904; train_loss: 243.3510; train_edge_recon_loss: 0.3295; train_kl_loss: 0.8121; train_gene_expr_recon_loss: 242.2094; val_loss: 243.7806; val_edge_recon_loss: 0.3254; val_kl_loss: 0.8121; val_gene_expr_recon_loss: 242.6432\n",
      "Epoch 4/30 |██------------------| 13.3% val_auroc_score: 0.9380; val_auprc_score: 0.9238; val_best_acc_score: 0.8687; val_best_f1_score: 0.8732; train_loss: 243.0719; train_edge_recon_loss: 0.3281; train_kl_loss: 0.8123; train_gene_expr_recon_loss: 241.9314; val_loss: 245.8757; val_edge_recon_loss: 0.3302; val_kl_loss: 0.8163; val_gene_expr_recon_loss: 244.7292\n",
      "Epoch 5/30 |███-----------------| 16.7% val_auroc_score: 0.9424; val_auprc_score: 0.9229; val_best_acc_score: 0.8797; val_best_f1_score: 0.8843; train_loss: 242.4490; train_edge_recon_loss: 0.3281; train_kl_loss: 0.8107; train_gene_expr_recon_loss: 241.3101; val_loss: 242.7760; val_edge_recon_loss: 0.3440; val_kl_loss: 0.8134; val_gene_expr_recon_loss: 241.6186\n",
      "Epoch 6/30 |████----------------| 20.0% val_auroc_score: 0.9422; val_auprc_score: 0.9257; val_best_acc_score: 0.8789; val_best_f1_score: 0.8840; train_loss: 242.3104; train_edge_recon_loss: 0.3261; train_kl_loss: 0.8120; train_gene_expr_recon_loss: 241.1723; val_loss: 244.1171; val_edge_recon_loss: 0.3406; val_kl_loss: 0.8188; val_gene_expr_recon_loss: 242.9576\n",
      "\n",
      "Reducing learning rate: metric has not improved more than 0 in the last 3 epochs.\n",
      "New learning rate is 0.001.\n",
      "\n",
      "Epoch 7/30 |████----------------| 23.3% val_auroc_score: 0.9638; val_auprc_score: 0.9502; val_best_acc_score: 0.9119; val_best_f1_score: 0.9136; train_loss: 239.5699; train_edge_recon_loss: 0.2884; train_kl_loss: 0.7858; train_gene_expr_recon_loss: 238.4957; val_loss: 236.2102; val_edge_recon_loss: 0.2981; val_kl_loss: 0.7789; val_gene_expr_recon_loss: 235.1331\n",
      "Epoch 8/30 |█████---------------| 26.7% val_auroc_score: 0.9693; val_auprc_score: 0.9581; val_best_acc_score: 0.9222; val_best_f1_score: 0.9254; train_loss: 239.8025; train_edge_recon_loss: 0.2882; train_kl_loss: 0.7605; train_gene_expr_recon_loss: 238.7539; val_loss: 242.5009; val_edge_recon_loss: 0.2936; val_kl_loss: 0.7368; val_gene_expr_recon_loss: 241.4705\n",
      "Epoch 9/30 |██████--------------| 30.0% val_auroc_score: 0.9708; val_auprc_score: 0.9596; val_best_acc_score: 0.9229; val_best_f1_score: 0.9262; train_loss: 238.7573; train_edge_recon_loss: 0.2876; train_kl_loss: 0.7219; train_gene_expr_recon_loss: 237.7479; val_loss: 239.3574; val_edge_recon_loss: 0.2939; val_kl_loss: 0.7101; val_gene_expr_recon_loss: 238.3534\n",
      "Epoch 10/30 |██████--------------| 33.3% val_auroc_score: 0.9721; val_auprc_score: 0.9607; val_best_acc_score: 0.9277; val_best_f1_score: 0.9300; train_loss: 238.8116; train_edge_recon_loss: 0.2883; train_kl_loss: 0.6866; train_gene_expr_recon_loss: 237.8367; val_loss: 241.5223; val_edge_recon_loss: 0.2952; val_kl_loss: 0.6602; val_gene_expr_recon_loss: 240.5669\n",
      "\n",
      "Reducing learning rate: metric has not improved more than 0 in the last 3 epochs.\n",
      "New learning rate is 0.0001.\n",
      "\n",
      "Epoch 11/30 |███████-------------| 36.7% val_auroc_score: 0.9691; val_auprc_score: 0.9567; val_best_acc_score: 0.9243; val_best_f1_score: 0.9273; train_loss: 238.2672; train_edge_recon_loss: 0.2822; train_kl_loss: 0.6642; train_gene_expr_recon_loss: 237.3208; val_loss: 237.5503; val_edge_recon_loss: 0.2899; val_kl_loss: 0.6664; val_gene_expr_recon_loss: 236.5940\n",
      "Epoch 12/30 |████████------------| 40.0% val_auroc_score: 0.9705; val_auprc_score: 0.9580; val_best_acc_score: 0.9264; val_best_f1_score: 0.9291; train_loss: 238.2615; train_edge_recon_loss: 0.2812; train_kl_loss: 0.6567; train_gene_expr_recon_loss: 237.3237; val_loss: 239.8465; val_edge_recon_loss: 0.2881; val_kl_loss: 0.6469; val_gene_expr_recon_loss: 238.9115\n",
      "Epoch 13/30 |████████------------| 43.3% val_auroc_score: 0.9669; val_auprc_score: 0.9534; val_best_acc_score: 0.9219; val_best_f1_score: 0.9246; train_loss: 238.4563; train_edge_recon_loss: 0.2809; train_kl_loss: 0.6513; train_gene_expr_recon_loss: 237.5241; val_loss: 234.9112; val_edge_recon_loss: 0.2903; val_kl_loss: 0.6484; val_gene_expr_recon_loss: 233.9724\n",
      "Epoch 14/30 |█████████-----------| 46.7% val_auroc_score: 0.9706; val_auprc_score: 0.9616; val_best_acc_score: 0.9225; val_best_f1_score: 0.9242; train_loss: 238.2038; train_edge_recon_loss: 0.2806; train_kl_loss: 0.6501; train_gene_expr_recon_loss: 237.2731; val_loss: 240.9113; val_edge_recon_loss: 0.2888; val_kl_loss: 0.6481; val_gene_expr_recon_loss: 239.9744\n",
      "Epoch 15/30 |██████████----------| 50.0% val_auroc_score: 0.9707; val_auprc_score: 0.9587; val_best_acc_score: 0.9255; val_best_f1_score: 0.9282; train_loss: 238.2294; train_edge_recon_loss: 0.2801; train_kl_loss: 0.6401; train_gene_expr_recon_loss: 237.3093; val_loss: 239.4545; val_edge_recon_loss: 0.2873; val_kl_loss: 0.6436; val_gene_expr_recon_loss: 238.5235\n",
      "Epoch 16/30 |██████████----------| 53.3% val_auroc_score: 0.9698; val_auprc_score: 0.9588; val_best_acc_score: 0.9230; val_best_f1_score: 0.9261; train_loss: 238.2677; train_edge_recon_loss: 0.2798; train_kl_loss: 0.6344; train_gene_expr_recon_loss: 237.3534; val_loss: 235.2414; val_edge_recon_loss: 0.2871; val_kl_loss: 0.6323; val_gene_expr_recon_loss: 234.3220\n",
      "\n",
      "Reducing learning rate: metric has not improved more than 0 in the last 3 epochs.\n",
      "New learning rate is 1e-05.\n",
      "\n",
      "Epoch 17/30 |███████████---------| 56.7% val_auroc_score: 0.9657; val_auprc_score: 0.9497; val_best_acc_score: 0.9197; val_best_f1_score: 0.9231; train_loss: 238.2538; train_edge_recon_loss: 0.2793; train_kl_loss: 0.6339; train_gene_expr_recon_loss: 237.3407; val_loss: 241.3480; val_edge_recon_loss: 0.2923; val_kl_loss: 0.6349; val_gene_expr_recon_loss: 240.4208\n",
      "Epoch 18/30 |████████████--------| 60.0% val_auroc_score: 0.9687; val_auprc_score: 0.9512; val_best_acc_score: 0.9288; val_best_f1_score: 0.9311; train_loss: 238.1353; train_edge_recon_loss: 0.2790; train_kl_loss: 0.6315; train_gene_expr_recon_loss: 237.2247; val_loss: 241.8457; val_edge_recon_loss: 0.2866; val_kl_loss: 0.6350; val_gene_expr_recon_loss: 240.9241\n",
      "Epoch 19/30 |████████████--------| 63.3% val_auroc_score: 0.9710; val_auprc_score: 0.9596; val_best_acc_score: 0.9247; val_best_f1_score: 0.9270; train_loss: 238.2400; train_edge_recon_loss: 0.2786; train_kl_loss: 0.6344; train_gene_expr_recon_loss: 237.3270; val_loss: 236.2391; val_edge_recon_loss: 0.2865; val_kl_loss: 0.6296; val_gene_expr_recon_loss: 235.3229\n",
      "\n",
      "Stopping early: metric has not improved more than 0 in the last 6 epochs.\n",
      "If the early stopping criterion is too strong, please instantiate it with different parameters in the train method.\n",
      "Model training finished after 11 min 10 sec.\n",
      "Using best model state, which was in epoch 13.\n",
      "\n",
      "--- MODEL EVALUATION ---\n",
      "Test AUROC score: 0.9704\n",
      "Test AUPRC score: 0.9569\n",
      "Test best accuracy score: 0.9267\n",
      "Test best F1 score: 0.9291\n"
     ]
    }
   ],
   "source": [
    "experiment = mlflow.set_experiment(\"autotalker_fc_gps\")\n",
    "mlflow.log_param(\"dataset\", dataset)\n",
    "\n",
    "model.train(n_epochs=30,\n",
    "            lr=0.01,\n",
    "            weight_decay=0,\n",
    "            edge_val_ratio=0.1,\n",
    "            edge_test_ratio=0.05,\n",
    "            node_val_ratio=0.1,\n",
    "            edge_batch_size=edge_batch_size,\n",
    "            mlflow_experiment_id=None) #experiment.experiment_id)"
   ]
  },
  {
   "cell_type": "code",
   "execution_count": null,
   "id": "c1499445-5ec0-4c1b-b08b-40c94ace8894",
   "metadata": {},
   "outputs": [],
   "source": [
    "model.save(dir_path=\"./model_artefacts/autotalker_fc_gps\",\n",
    "           overwrite=True,\n",
    "           save_adata=True,\n",
    "           adata_file_name=\"adata.h5ad\")"
   ]
  },
  {
   "cell_type": "code",
   "execution_count": null,
   "id": "c68cc58d-54c7-4f7b-8420-1064f7c288fd",
   "metadata": {},
   "outputs": [],
   "source": [
    "model = Autotalker.load(dir_path=\"./model_artefacts/autotalker_fc_gps\",\n",
    "                        adata=None,\n",
    "                        adata_file_name=\"adata.h5ad\")"
   ]
  },
  {
   "cell_type": "markdown",
   "id": "6c85936c-e256-4325-b056-a27cb8ba3478",
   "metadata": {},
   "source": [
    "### 3.3. Visualize Latent Gene Programs with scanpy"
   ]
  },
  {
   "cell_type": "code",
   "execution_count": null,
   "id": "dd90a8c5-9248-469e-ba7c-3f8f17add24c",
   "metadata": {
    "tags": []
   },
   "outputs": [],
   "source": [
    "# adata used during model training\n",
    "latent = model.get_latent_representation()\n",
    "# New adata\n",
    "latent_new_data = model.get_latent_representation(adata)\n",
    "adata.obsm[\"latent_autotalker_fc_gps\"] = latent_new_data\n",
    "\n",
    "now = datetime.now()\n",
    "current_time = now.strftime(\"%d%m%Y_%H%M%S\")\n",
    "\n",
    "sc.set_figure_params(figsize=(6, 6))\n",
    "\n",
    "# Use autotalker latent space for UMAP generation\n",
    "sc.pp.neighbors(adata, use_rep=\"latent_autotalker_fc_gps\")\n",
    "sc.tl.umap(adata, min_dist=0.3)\n",
    "sc.pl.umap(adata, color=[cell_type_key], frameon=False, save=f\"_latent_autotalker_fc_gps_{current_time}.png\")"
   ]
  },
  {
   "cell_type": "markdown",
   "id": "1f53d723-4fd7-49dc-844b-58cf8b9585a2",
   "metadata": {},
   "source": [
    "## 4. Autotalker Model with Cell-Cell-Interaction (CCI) Gene Programs"
   ]
  },
  {
   "cell_type": "markdown",
   "id": "7d486c09-09a3-4e19-846c-108b87d071d0",
   "metadata": {},
   "source": [
    "### 4.1 NicheNet CCI Gene Programs"
   ]
  },
  {
   "cell_type": "markdown",
   "id": "e9fc5bf9-a4c0-415a-8e6a-0ac1196f465f",
   "metadata": {},
   "source": [
    "#### 4.1.1 Create NicheNet CCI Gene Program Mask"
   ]
  },
  {
   "cell_type": "code",
   "execution_count": null,
   "id": "42f1b1bf-6271-4a03-ab68-b5c147b338cb",
   "metadata": {},
   "outputs": [],
   "source": [
    "nichenet_gp_dict = extract_gp_dict_from_nichenet_ligand_target_mx(\n",
    "    keep_target_ratio=0.1,\n",
    "    load_from_disk=False,\n",
    "    save_to_disk=True,\n",
    "    file_path=nichenet_ligand_target_mx_file_path)"
   ]
  },
  {
   "cell_type": "code",
   "execution_count": null,
   "id": "b2dcc97d-b621-4fc6-bdcf-a31d6e2c58b1",
   "metadata": {},
   "outputs": [],
   "source": [
    "add_gps_from_gp_dict_to_adata(\n",
    "    adata=adata,\n",
    "    gp_dict=nichenet_gp_dict,\n",
    "    genes_uppercase=True,\n",
    "    gp_targets_varm_key=\"autotalker_nichenet_gps_targets\",\n",
    "    gp_sources_varm_key=\"autotalker_nichenet_gps_sources\",\n",
    "    gp_names_uns_key=\"autotalker_nichenet_gps_names\",\n",
    "    min_genes_per_gp=0,\n",
    "    max_genes_per_gp=None)"
   ]
  },
  {
   "cell_type": "code",
   "execution_count": null,
   "id": "0c01ecae-f69c-44eb-9cdc-2b84c593b4eb",
   "metadata": {},
   "outputs": [],
   "source": [
    "print(f\"Number of gene programs: {len(adata.uns['autotalker_nichenet_gps_names'])}.\")\n",
    "print(f\"Example gene programs: {adata.uns['autotalker_nichenet_gps_names'][:5]}.\")\n",
    "print(f\"Number of gene program target genes: {adata.varm['autotalker_nichenet_gps_targets'].sum()}.\")\n",
    "print(f\"Number of gene program source genes: {adata.varm['autotalker_nichenet_gps_sources'].sum()}.\")"
   ]
  },
  {
   "cell_type": "code",
   "execution_count": null,
   "id": "77f72cae-b7dd-46aa-a091-446eb1674292",
   "metadata": {},
   "outputs": [],
   "source": [
    "nichenet_gps_targets_mask = torch.tensor(adata.varm[\"autotalker_nichenet_gps_targets\"].T, dtype=torch.float32)\n",
    "nichenet_gps_sources_mask = torch.tensor(adata.varm[\"autotalker_nichenet_gps_sources\"].T, dtype=torch.float32)\n",
    "nichenet_gps_mask = torch.cat((nichenet_gps_targets_mask, nichenet_gps_sources_mask), dim=1)\n",
    "print(f\"Gene program mask shape (gene programs x nodes): {nichenet_gps_mask.shape}.\")\n",
    "nichenet_gps_n_hidden_encoder = int(nichenet_gps_mask.shape[0] / 2)\n",
    "print(f\"Number of hidden layers in the encoder: {nichenet_gps_n_hidden_encoder}.\")"
   ]
  },
  {
   "cell_type": "markdown",
   "id": "613311cd-163b-485e-92ae-7dc5e21336ef",
   "metadata": {},
   "source": [
    "#### 4.1.2 Initialize, Train & Save Model"
   ]
  },
  {
   "cell_type": "code",
   "execution_count": null,
   "id": "8a4452c6-0e6d-422e-9d29-311ac9270ad0",
   "metadata": {},
   "outputs": [],
   "source": [
    "model = Autotalker(adata,\n",
    "                   counts_layer_key=\"counts\",\n",
    "                   adj_key=\"spatial_connectivities\",\n",
    "                   gp_targets_mask_key=\"autotalker_nichenet_gps_targets\",\n",
    "                   gp_sources_mask_key=\"autotalker_nichenet_gps_sources\",\n",
    "                   include_edge_recon_loss=True,\n",
    "                   include_gene_expr_recon_loss=True,\n",
    "                   log_variational=True,\n",
    "                   node_label_method=node_label_method,\n",
    "                   n_hidden_encoder=nichenet_gps_n_hidden_encoder,\n",
    "                   dropout_rate_encoder=0.,\n",
    "                   dropout_rate_graph_decoder=0.,\n",
    "                   gp_targets_mask=None,\n",
    "                   gp_sources_mask=None)"
   ]
  },
  {
   "cell_type": "code",
   "execution_count": null,
   "id": "2c78489a-fe9f-421a-8f1d-926a30cc0c1b",
   "metadata": {},
   "outputs": [],
   "source": [
    "experiment = mlflow.set_experiment(\"autotalker_nichenet_gps\")\n",
    "mlflow.log_param(\"dataset\", dataset)\n",
    "\n",
    "model.train(n_epochs=30,\n",
    "            lr=0.01,\n",
    "            weight_decay=0,\n",
    "            edge_val_ratio=0.1,\n",
    "            edge_test_ratio=0.05,\n",
    "            node_val_ratio=0.1,\n",
    "            edge_batch_size=edge_batch_size,\n",
    "            mlflow_experiment_id=experiment.experiment_id)"
   ]
  },
  {
   "cell_type": "markdown",
   "id": "8f83cbed-f0de-4b72-aa13-391096949dba",
   "metadata": {},
   "source": [
    "#### 4.1.3 Visualize Latent Gene Programs with scanpy"
   ]
  },
  {
   "cell_type": "code",
   "execution_count": null,
   "id": "861e7e1b-5340-45e3-8c53-79155a7dade2",
   "metadata": {},
   "outputs": [],
   "source": [
    "# adata used during model training\n",
    "latent = model.get_latent_representation()\n",
    "# New adata\n",
    "latent_new_data = model.get_latent_representation(adata)\n",
    "adata.obsm[\"latent_autotalker_nichenet_gps\"] = latent_new_data\n",
    "\n",
    "now = datetime.now()\n",
    "current_time = now.strftime(\"%d%m%Y_%H%M%S\")\n",
    "\n",
    "sc.set_figure_params(figsize=(6, 6))\n",
    "\n",
    "# Use autotalker latent space for UMAP generation\n",
    "sc.pp.neighbors(adata, use_rep=\"latent_autotalker_nichenet_gps\")\n",
    "sc.tl.umap(adata, min_dist=0.3)\n",
    "sc.pl.umap(adata, color=[cell_type_key], frameon=False, save=f\"_latent_autotalker_nichenet_gps_{current_time}.png\")"
   ]
  },
  {
   "cell_type": "markdown",
   "id": "d932b01b-19c1-4d5a-899b-1b985cdc1aaa",
   "metadata": {},
   "source": [
    "### 4.2 OmniPath CCI Gene Programs"
   ]
  },
  {
   "cell_type": "markdown",
   "id": "a638a14b-d185-483f-b7a3-024a182e3b41",
   "metadata": {},
   "source": [
    "#### 4.2.1 Create OmniPath CCI Gene Program Mask"
   ]
  },
  {
   "cell_type": "code",
   "execution_count": null,
   "id": "5555bcfc-2e56-4708-8571-fadf98d73dd0",
   "metadata": {},
   "outputs": [],
   "source": [
    "omnipath_gp_dict = extract_gp_dict_from_omnipath_lr_interactions(\n",
    "    min_curation_effort=0,\n",
    "    load_from_disk=False,\n",
    "    save_to_disk=True,\n",
    "    file_path=omnipath_lr_interactions_file_path)"
   ]
  },
  {
   "cell_type": "code",
   "execution_count": null,
   "id": "de4d5903-67e0-4bd8-8243-d9cea1485d64",
   "metadata": {},
   "outputs": [],
   "source": [
    "add_gps_from_gp_dict_to_adata(\n",
    "    adata=adata,\n",
    "    gp_dict=omnipath_gp_dict,\n",
    "    genes_uppercase=True,\n",
    "    gp_targets_varm_key=\"autotalker_omnipath_gps_targets\",\n",
    "    gp_sources_varm_key=\"autotalker_omnipath_gps_sources\",\n",
    "    gp_names_uns_key=\"autotalker_omnipath_gps_names\",\n",
    "    min_genes_per_gp=0,\n",
    "    max_genes_per_gp=None)"
   ]
  },
  {
   "cell_type": "code",
   "execution_count": null,
   "id": "a780ad76-b1ad-40b5-97eb-c021e1b5412f",
   "metadata": {},
   "outputs": [],
   "source": [
    "print(f\"Number of gene programs: {len(adata.uns['autotalker_omnipath_gps_names'])}.\")\n",
    "print(f\"Example gene programs: {adata.uns['autotalker_omnipath_gps_names'][:5]}.\")\n",
    "print(f\"Number of gene program target genes: {adata.varm['autotalker_omnipath_gps_targets'].sum()}.\")\n",
    "print(f\"Number of gene program source genes: {adata.varm['autotalker_omnipath_gps_sources'].sum()}.\")"
   ]
  },
  {
   "cell_type": "code",
   "execution_count": null,
   "id": "fc70d143-f3eb-4a17-9ca1-58285d141f77",
   "metadata": {},
   "outputs": [],
   "source": [
    "omnipath_gps_targets_mask = torch.tensor(adata.varm[\"autotalker_omnipath_gps_targets\"].T, dtype=torch.float32)\n",
    "omnipath_gps_sources_mask = torch.tensor(adata.varm[\"autotalker_omnipath_gps_sources\"].T, dtype=torch.float32)\n",
    "omnipath_gps_mask = torch.cat((omnipath_gps_targets_mask, omnipath_gps_sources_mask), dim=1)\n",
    "print(f\"Gene program mask shape (gene programs x nodes): {omnipath_gps_mask.shape}.\")\n",
    "omnipath_gps_n_hidden_encoder = int(omnipath_gps_mask.shape[0] / 2)\n",
    "print(f\"Number of hidden layers in the encoder: {omnipath_gps_n_hidden_encoder}.\")"
   ]
  },
  {
   "cell_type": "markdown",
   "id": "d351836a-c711-49a7-8a92-7b23f33aa293",
   "metadata": {},
   "source": [
    "#### 4.2.2 Initialize, Train & Save Model"
   ]
  },
  {
   "cell_type": "code",
   "execution_count": null,
   "id": "21ec4af1-312f-4106-83b5-f9ffb73cedb2",
   "metadata": {},
   "outputs": [],
   "source": [
    "model = Autotalker(adata,\n",
    "                   counts_layer_key=\"counts\",\n",
    "                   adj_key=\"spatial_connectivities\",\n",
    "                   gp_targets_mask_key=\"autotalker_omnipath_gps_targets\",\n",
    "                   gp_sources_mask_key=\"autotalker_omnipath_gps_sources\",\n",
    "                   include_edge_recon_loss=True,\n",
    "                   include_gene_expr_recon_loss=True,\n",
    "                   log_variational=True,\n",
    "                   node_label_method=node_label_method,\n",
    "                   n_hidden_encoder=omnipath_gps_n_hidden_encoder,\n",
    "                   dropout_rate_encoder=0.,\n",
    "                   dropout_rate_graph_decoder=0.,\n",
    "                   gp_targets_mask=None,\n",
    "                   gp_sources_mask=None)"
   ]
  },
  {
   "cell_type": "code",
   "execution_count": null,
   "id": "bde3f43f-10e5-4255-b78c-490c6a671fd2",
   "metadata": {},
   "outputs": [],
   "source": [
    "experiment = mlflow.set_experiment(\"autotalker_omnipath_gps\")\n",
    "mlflow.log_param(\"dataset\", dataset)\n",
    "\n",
    "model.train(n_epochs=30,\n",
    "            lr=0.01,\n",
    "            weight_decay=0,\n",
    "            edge_val_ratio=0.1,\n",
    "            edge_test_ratio=0.05,\n",
    "            node_val_ratio=0.1,\n",
    "            edge_batch_size=edge_batch_size,\n",
    "            mlflow_experiment_id=experiment.experiment_id)"
   ]
  },
  {
   "cell_type": "markdown",
   "id": "309e4826-b55f-4e1c-8467-32a1b5383261",
   "metadata": {},
   "source": [
    "#### 4.2.3 Visualize Latent Gene Programs with scanpy"
   ]
  },
  {
   "cell_type": "code",
   "execution_count": null,
   "id": "4cf8503a-c186-4d4d-a7b6-8086fa7e7d7f",
   "metadata": {},
   "outputs": [],
   "source": [
    "# adata used during model training\n",
    "latent = model.get_latent_representation()\n",
    "# New adata\n",
    "latent_new_data = model.get_latent_representation(adata)\n",
    "adata.obsm[\"latent_autotalker_omnipath_gps\"] = latent_new_data\n",
    "\n",
    "now = datetime.now()\n",
    "current_time = now.strftime(\"%d%m%Y_%H%M%S\")\n",
    "\n",
    "sc.set_figure_params(figsize=(6, 6))\n",
    "\n",
    "# Use autotalker latent space for UMAP generation\n",
    "sc.pp.neighbors(adata, use_rep=\"latent_autotalker_omnipath_gps\")\n",
    "sc.tl.umap(adata, min_dist=0.3)\n",
    "sc.pl.umap(adata, color=[cell_type_key], frameon=False, save=f\"_latent_autotalker_omnipath_gps_{current_time}.png\")"
   ]
  },
  {
   "cell_type": "markdown",
   "id": "e88ce7fe-22ee-4f5b-9319-394c1eb434a4",
   "metadata": {},
   "source": [
    "### 4.3 NicheNet & OmniPath CCI Gene Programs Combined"
   ]
  },
  {
   "cell_type": "markdown",
   "id": "dac907fa-88f6-452d-add9-fc3dcd2f99e0",
   "metadata": {},
   "source": [
    "#### 4.3.1 Create Combined Gene Program Mask"
   ]
  },
  {
   "cell_type": "code",
   "execution_count": null,
   "id": "85b8c216-c3e0-43bb-8de6-24796912dd67",
   "metadata": {},
   "outputs": [],
   "source": [
    "combined_gp_dict = dict(nichenet_gp_dict)\n",
    "combined_gp_dict.update(omnipath_gp_dict)"
   ]
  },
  {
   "cell_type": "code",
   "execution_count": null,
   "id": "6f13773c-e6c1-4786-b663-8d26f4328f4d",
   "metadata": {},
   "outputs": [],
   "source": [
    "add_gps_from_gp_dict_to_adata(\n",
    "    adata=adata,\n",
    "    gp_dict=combined_gp_dict,\n",
    "    genes_uppercase=True,\n",
    "    gp_targets_varm_key=\"autotalker_combined_gps_targets\",\n",
    "    gp_sources_varm_key=\"autotalker_combined_gps_sources\",\n",
    "    gp_names_uns_key=\"autotalker_combined_gps_names\",\n",
    "    min_genes_per_gp=0,\n",
    "    max_genes_per_gp=None)"
   ]
  },
  {
   "cell_type": "code",
   "execution_count": null,
   "id": "ffaa16ff-7391-42b7-8bcc-62ddb43c3502",
   "metadata": {},
   "outputs": [],
   "source": [
    "print(f\"Number of gene programs: {len(adata.uns['autotalker_combined_gps_names'])}.\")\n",
    "print(f\"Example gene programs: {adata.uns['autotalker_combined_gps_names'][:5]}.\")\n",
    "print(f\"Number of gene program target genes: {adata.varm['autotalker_combined_gps_targets'].sum()}.\")\n",
    "print(f\"Number of gene program source genes: {adata.varm['autotalker_combined_gps_sources'].sum()}.\")"
   ]
  },
  {
   "cell_type": "code",
   "execution_count": null,
   "id": "b147f689-d829-4b7c-8bd2-6ab907e6be18",
   "metadata": {},
   "outputs": [],
   "source": [
    "combined_gps_targets_mask = torch.tensor(adata.varm[\"autotalker_combined_gps_targets\"].T, dtype=torch.float32)\n",
    "combined_gps_sources_mask = torch.tensor(adata.varm[\"autotalker_combined_gps_sources\"].T, dtype=torch.float32)\n",
    "combined_gps_mask = torch.cat((combined_gps_targets_mask, combined_gps_sources_mask), dim=1)\n",
    "print(f\"Gene program mask shape (gene programs x nodes): {combined_gps_mask.shape}.\")\n",
    "combined_gps_n_hidden_encoder = int(combined_gps_mask.shape[0] / 2)\n",
    "print(f\"Number of hidden layers in the encoder: {combined_gps_n_hidden_encoder}.\")"
   ]
  },
  {
   "cell_type": "markdown",
   "id": "2d621701-56aa-4b22-90c6-20e5d1166774",
   "metadata": {},
   "source": [
    "#### 4.3.2 Initialize, Train & Save Model"
   ]
  },
  {
   "cell_type": "code",
   "execution_count": null,
   "id": "b153e8e9-58fc-46f1-b230-cff0590df4f7",
   "metadata": {},
   "outputs": [],
   "source": [
    "model = Autotalker(adata,\n",
    "                   counts_layer_key=\"counts\",\n",
    "                   adj_key=\"spatial_connectivities\",\n",
    "                   gp_targets_mask_key=\"autotalker_combined_gps_targets\",\n",
    "                   gp_sources_mask_key=\"autotalker_combined_gps_sources\",\n",
    "                   include_edge_recon_loss=True,\n",
    "                   include_gene_expr_recon_loss=True,\n",
    "                   log_variational=True,\n",
    "                   node_label_method=node_label_method,\n",
    "                   n_hidden_encoder=combined_gps_n_hidden_encoder,\n",
    "                   dropout_rate_encoder=0.,\n",
    "                   dropout_rate_graph_decoder=0.,\n",
    "                   gp_targets_mask=None,\n",
    "                   gp_sources_mask=None)"
   ]
  },
  {
   "cell_type": "code",
   "execution_count": null,
   "id": "35180e43-529c-4f91-8219-729b3b7bf0ec",
   "metadata": {},
   "outputs": [],
   "source": [
    "experiment = mlflow.set_experiment(\"autotalker_combined_gps\")\n",
    "mlflow.log_param(\"dataset\", dataset)\n",
    "\n",
    "model.train(n_epochs=30,\n",
    "            lr=0.01,\n",
    "            weight_decay=0,\n",
    "            edge_val_ratio=0.1,\n",
    "            edge_test_ratio=0.05,\n",
    "            node_val_ratio=0.1,\n",
    "            edge_batch_size=32,\n",
    "            grad_clip_value=5,\n",
    "            mlflow_experiment_id=None)"
   ]
  },
  {
   "cell_type": "markdown",
   "id": "b517ae5c-480d-4df4-91af-f6f61038558f",
   "metadata": {},
   "source": [
    "#### 4.3.3 Visualize Latent Gene Programs with scanpy"
   ]
  },
  {
   "cell_type": "code",
   "execution_count": null,
   "id": "531379a2-5856-4969-a22b-286bc9baa746",
   "metadata": {},
   "outputs": [],
   "source": [
    "# adata used during model training\n",
    "latent = model.get_latent_representation()\n",
    "# New adata\n",
    "latent_new_data = model.get_latent_representation(adata)\n",
    "adata.obsm[\"latent_autotalker_combined_gps\"] = latent_new_data\n",
    "\n",
    "now = datetime.now()\n",
    "current_time = now.strftime(\"%d%m%Y_%H%M%S\")\n",
    "\n",
    "sc.set_figure_params(figsize=(6, 6))\n",
    "\n",
    "# Use autotalker latent space for UMAP generation\n",
    "sc.pp.neighbors(adata, use_rep=\"latent_autotalker_combined_gps\")\n",
    "sc.tl.umap(adata, min_dist=0.3)\n",
    "sc.pl.umap(adata, color=[cell_type_key], frameon=False, save=f\"_latent_autotalker_combined_gps_{current_time}.png\")"
   ]
  },
  {
   "cell_type": "markdown",
   "id": "0fe28031-958c-4101-a7b3-b16011cc4e80",
   "metadata": {},
   "source": [
    "The model can maintain the edge reconstruction performance while tweaking the latent space for better gene expression reconstruction."
   ]
  },
  {
   "cell_type": "code",
   "execution_count": null,
   "id": "4b47e348-20fd-4099-8b4a-9c100408125c",
   "metadata": {},
   "outputs": [],
   "source": [
    "gene_programs = adata.uns[\"autotalker_combined_gps_names\"]"
   ]
  },
  {
   "cell_type": "code",
   "execution_count": null,
   "id": "ceedf3ac-e83b-4d51-a2b0-0a8a10d41c38",
   "metadata": {},
   "outputs": [],
   "source": [
    "gene_programs = adata.uns[\"autotalker_combined_gps_names\"]\n",
    "selected_gene_programs = [\"CSF1_ligand_targetgenes_GP\", \"IL34_ligand_targetgenes_GP\"]\n",
    "selected_gene_programs_idx = [gene_programs.index(gene_program) for gene_program in selected_gene_programs]"
   ]
  },
  {
   "cell_type": "code",
   "execution_count": null,
   "id": "32de9285-5e27-434a-b1f0-1a9a80d894b3",
   "metadata": {},
   "outputs": [],
   "source": [
    "latent_selected_gps = latent[:, selected_gene_programs_idx]"
   ]
  },
  {
   "cell_type": "code",
   "execution_count": null,
   "id": "08df2ec7-c834-4660-94d7-4e76eb02e52d",
   "metadata": {},
   "outputs": [],
   "source": [
    "adata.obs[\"CSF1_ligand_targetgenes_GP\"] = latent_selected_gps[:, 0]\n",
    "adata.obs[\"IL34_ligand_targetgenes_GP\"] = latent_selected_gps[:, 1]"
   ]
  },
  {
   "cell_type": "code",
   "execution_count": null,
   "id": "ac70354f-98e5-4e16-8d67-9d33b7d71ca6",
   "metadata": {},
   "outputs": [],
   "source": [
    "sc.pl.umap(adata, color=\"CSF1_ligand_targetgenes_GP\", frameon=False, wspace=0.6)"
   ]
  },
  {
   "cell_type": "code",
   "execution_count": null,
   "id": "67bb1f3e-cebe-4cce-93d7-722b38001e83",
   "metadata": {},
   "outputs": [],
   "source": [
    "sc.pl.scatter(adata, x=\"CSF1_ligand_targetgenes_GP\", y=\"IL34_ligand_targetgenes_GP\", color=cell_type_key, size=10)"
   ]
  },
  {
   "cell_type": "markdown",
   "id": "78e16800-cb30-426a-b423-0733149b3889",
   "metadata": {},
   "source": [
    "### 5. Comparison SCVI Model"
   ]
  },
  {
   "cell_type": "code",
   "execution_count": null,
   "id": "22764444-04b3-4e85-89b6-2d8adf4ded17",
   "metadata": {},
   "outputs": [],
   "source": [
    "import scvi\n",
    "import scanpy as sc\n",
    "import matplotlib.pyplot as plt\n",
    "\n",
    "sc.set_figure_params(figsize=(6, 6))\n",
    "\n",
    "# for white background of figures (only for docs rendering)\n",
    "%config InlineBackend.print_figure_kwargs={'facecolor' : \"w\"}\n",
    "%config InlineBackend.figure_format='retina'"
   ]
  },
  {
   "cell_type": "code",
   "execution_count": null,
   "id": "53312eb5-3013-414a-a0e0-c7c5af85e512",
   "metadata": {},
   "outputs": [],
   "source": [
    "adata.layers[\"counts\"] = adata.X.copy() # preserve counts\n",
    "sc.pp.normalize_total(adata, target_sum=1e4)\n",
    "sc.pp.log1p(adata)\n",
    "adata.raw = adata # freeze the state in `.raw`"
   ]
  },
  {
   "cell_type": "code",
   "execution_count": null,
   "id": "ef5c3782-68dd-491b-91ef-624531e7cf16",
   "metadata": {},
   "outputs": [],
   "source": [
    "scvi.model.SCVI.setup_anndata(\n",
    "    adata,\n",
    "    layer=\"counts\"\n",
    ")"
   ]
  },
  {
   "cell_type": "code",
   "execution_count": null,
   "id": "49451598-c201-4860-b5ad-2ee11b070444",
   "metadata": {},
   "outputs": [],
   "source": [
    "model = scvi.model.SCVI(adata)"
   ]
  },
  {
   "cell_type": "code",
   "execution_count": null,
   "id": "e9bf9d5f-c6e8-44a3-8b79-005b6dc5c37f",
   "metadata": {},
   "outputs": [],
   "source": [
    "model"
   ]
  },
  {
   "cell_type": "code",
   "execution_count": null,
   "id": "f601b965-a3dd-415a-a564-df9a989aa99c",
   "metadata": {},
   "outputs": [],
   "source": [
    "model.train()"
   ]
  },
  {
   "cell_type": "code",
   "execution_count": null,
   "id": "6035e7e2-8797-4484-8d4e-573670f8e70f",
   "metadata": {},
   "outputs": [],
   "source": [
    "latent_scvi = model.get_latent_representation()"
   ]
  },
  {
   "cell_type": "code",
   "execution_count": null,
   "id": "5617348d-9003-4982-a650-3975f91ac5fa",
   "metadata": {},
   "outputs": [],
   "source": [
    "adata.obsm[\"X_scVI\"] = latent_scvi"
   ]
  },
  {
   "cell_type": "code",
   "execution_count": null,
   "id": "b53b3a6d-ae53-444a-aed2-cd0cebf9b822",
   "metadata": {},
   "outputs": [],
   "source": [
    "# run PCA then generate UMAP plots\n",
    "sc.tl.pca(adata)\n",
    "sc.pp.neighbors(adata, use_rep=\"X_scVI\")\n",
    "sc.tl.umap(adata, min_dist=0.3)"
   ]
  },
  {
   "cell_type": "code",
   "execution_count": null,
   "id": "bfff5c20-a22b-4ada-8bad-b002d5631f13",
   "metadata": {},
   "outputs": [],
   "source": [
    "sc.pl.umap(adata, color=[\"celltype_mapped_refined\"], frameon=False,)"
   ]
  }
 ],
 "metadata": {
  "kernelspec": {
   "display_name": "autotalker",
   "language": "python",
   "name": "autotalker"
  },
  "language_info": {
   "codemirror_mode": {
    "name": "ipython",
    "version": 3
   },
   "file_extension": ".py",
   "mimetype": "text/x-python",
   "name": "python",
   "nbconvert_exporter": "python",
   "pygments_lexer": "ipython3",
   "version": "3.9.13"
  }
 },
 "nbformat": 4,
 "nbformat_minor": 5
}
