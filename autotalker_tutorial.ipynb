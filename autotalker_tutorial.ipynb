{
 "cells": [
  {
   "cell_type": "code",
   "execution_count": null,
   "id": "4e5d3297-0290-47c0-846f-705e74cdb3de",
   "metadata": {},
   "outputs": [],
   "source": [
    "%load_ext autoreload\n",
    "%autoreload 2"
   ]
  },
  {
   "cell_type": "code",
   "execution_count": null,
   "id": "b4aa3c6a-5a44-4cf1-84a3-5e514457cf3c",
   "metadata": {},
   "outputs": [],
   "source": [
    "import argparse\n",
    "import sys\n",
    "\n",
    "import mlflow\n",
    "import numpy as np\n",
    "import scanpy as sc\n",
    "import squidpy as sq\n",
    "\n",
    "from autotalker.data import download_nichenet_ligand_target_mx\n",
    "from autotalker.data import load_spatial_adata_from_csv\n",
    "from autotalker.models import Autotalker"
   ]
  },
  {
   "cell_type": "code",
   "execution_count": null,
   "id": "a4d4e6d9-239f-47c5-a30b-579b16d4c27c",
   "metadata": {},
   "outputs": [],
   "source": [
    "dataset = \"squidpy_seqfish\"\n",
    "n_epochs = 2\n",
    "lr = 0.01\n",
    "batch_size = 128\n",
    "n_hidden = 32\n",
    "n_latent = 16\n",
    "dropout_rate = 0."
   ]
  },
  {
   "cell_type": "code",
   "execution_count": null,
   "id": "726a55a8-65b2-49a2-b4f0-23cd69dc7954",
   "metadata": {},
   "outputs": [],
   "source": [
    "print(f\"Using dataset {dataset}.\")\n",
    "\n",
    "if dataset == \"deeplinc_seqfish\":\n",
    "    adata = load_spatial_adata_from_csv(\"datasets/seqFISH/counts.csv\",\n",
    "                                        \"datasets/seqFISH/adj.csv\")\n",
    "    cell_type_key = None\n",
    "elif dataset == \"squidpy_seqfish\":\n",
    "    adata = sq.datasets.seqfish()\n",
    "    sq.gr.spatial_neighbors(adata, radius = 0.04, coord_type=\"generic\")\n",
    "    cell_type_key = \"celltype_mapped_refined\"\n",
    "elif dataset == \"squidpy_slideseqv2\":\n",
    "    adata = sq.datasets.slideseqv2()\n",
    "    sq.gr.spatial_neighbors(adata, radius = 30.0, coord_type=\"generic\")\n",
    "    cell_type_key = \"celltype_mapped_refined\""
   ]
  },
  {
   "cell_type": "code",
   "execution_count": null,
   "id": "d64513a5-d4f0-4ae2-927e-948c59bc8666",
   "metadata": {},
   "outputs": [],
   "source": [
    "print(f\"Number of nodes: {adata.X.shape[0]}\")\n",
    "print(f\"Number of node features: {adata.X.shape[1]}\")\n",
    "avg_edges_per_node = round(\n",
    "    adata.obsp['spatial_connectivities'].toarray().sum(axis=0).mean(),2)\n",
    "print(f\"Average number of edges per node: {avg_edges_per_node}\")\n",
    "n_edges = int(np.triu(adata.obsp['spatial_connectivities'].toarray()).sum())\n",
    "print(f\"Number of edges: {n_edges}\", sep=\"\")"
   ]
  },
  {
   "cell_type": "code",
   "execution_count": null,
   "id": "0145cc84-0dae-4b94-831c-3637d9d0fcff",
   "metadata": {},
   "outputs": [],
   "source": [
    "experiment = mlflow.set_experiment(\"autotalker\")\n",
    "mlflow.log_param(\"dataset\", dataset)"
   ]
  },
  {
   "cell_type": "code",
   "execution_count": null,
   "id": "c1499445-5ec0-4c1b-b08b-40c94ace8894",
   "metadata": {},
   "outputs": [],
   "source": [
    "model = Autotalker(adata,\n",
    "                   n_hidden=n_hidden,\n",
    "                   n_latent=n_latent,\n",
    "                   dropout_rate=dropout_rate)\n",
    "\n",
    "model.train(n_epochs=n_epochs,\n",
    "            lr=lr,\n",
    "            batch_size=batch_size,\n",
    "            mlflow_experiment_id=experiment.experiment_id)\n",
    "\n",
    "model.save(dir_path=\"./model_artefacts\",\n",
    "           overwrite=True,\n",
    "           save_adata=True,\n",
    "           adata_file_name=\"adata.h5ad\")"
   ]
  },
  {
   "cell_type": "code",
   "execution_count": null,
   "id": "c68cc58d-54c7-4f7b-8420-1064f7c288fd",
   "metadata": {},
   "outputs": [],
   "source": [
    "model = Autotalker.load(dir_path=\"./model_artefacts\",\n",
    "                        adata=None,\n",
    "                        adata_file_name=\"adata.h5ad\",\n",
    "                        use_cuda=True)"
   ]
  },
  {
   "cell_type": "code",
   "execution_count": null,
   "id": "59fe5d54-2260-44ad-a024-3e9c420453ba",
   "metadata": {},
   "outputs": [],
   "source": [
    "latent = model.get_latent_representation()"
   ]
  },
  {
   "cell_type": "code",
   "execution_count": null,
   "id": "3b1bf9d5-90de-4898-96b7-697e1c3de254",
   "metadata": {},
   "outputs": [],
   "source": [
    "latent_new_data = model.get_latent_representation(adata)"
   ]
  },
  {
   "cell_type": "code",
   "execution_count": null,
   "id": "c4ed32da-ccc5-49af-a815-239791ad2d26",
   "metadata": {},
   "outputs": [],
   "source": [
    "adata.obsm[\"latent_autotalker\"] = latent_new_data"
   ]
  },
  {
   "cell_type": "markdown",
   "id": "6c85936c-e256-4325-b056-a27cb8ba3478",
   "metadata": {},
   "source": [
    "## Interoperability with scanpy"
   ]
  },
  {
   "cell_type": "code",
   "execution_count": null,
   "id": "dd90a8c5-9248-469e-ba7c-3f8f17add24c",
   "metadata": {},
   "outputs": [],
   "source": [
    "# Use autotalker latent space for UMAP generation\n",
    "sc.pp.neighbors(adata, use_rep=\"latent_autotalker\")\n",
    "sc.tl.umap(adata, min_dist=0.3)\n",
    "sc.pl.umap(adata, color=[\"celltype_mapped_refined\"], frameon=False,)"
   ]
  },
  {
   "cell_type": "code",
   "execution_count": null,
   "id": "cde2304a-6700-46dc-b697-1bf38ede2848",
   "metadata": {},
   "outputs": [],
   "source": []
  },
  {
   "cell_type": "code",
   "execution_count": null,
   "id": "658a080b-f50f-45aa-afc6-65a387821644",
   "metadata": {},
   "outputs": [],
   "source": [
    "model = Autotalker(adata,\n",
    "                   n_hidden=n_hidden,\n",
    "                   n_latent=n_latent,\n",
    "                   dropout_rate=dropout_rate)"
   ]
  },
  {
   "cell_type": "code",
   "execution_count": 2,
   "id": "d76ca973-1086-494c-a877-877e1e2e643a",
   "metadata": {},
   "outputs": [],
   "source": [
    "download_nichenet_ligand_target_mx(save_path=\"data/ligand_target_matrix.csv\")"
   ]
  },
  {
   "cell_type": "code",
   "execution_count": null,
   "id": "a006bc09-cffc-45b1-96e3-83b218496411",
   "metadata": {},
   "outputs": [],
   "source": []
  }
 ],
 "metadata": {
  "kernelspec": {
   "display_name": "autotalker",
   "language": "python",
   "name": "autotalker"
  },
  "language_info": {
   "codemirror_mode": {
    "name": "ipython",
    "version": 3
   },
   "file_extension": ".py",
   "mimetype": "text/x-python",
   "name": "python",
   "nbconvert_exporter": "python",
   "pygments_lexer": "ipython3",
   "version": "3.9.13"
  }
 },
 "nbformat": 4,
 "nbformat_minor": 5
}
