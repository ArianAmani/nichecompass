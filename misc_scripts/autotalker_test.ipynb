{
 "cells": [
  {
   "cell_type": "code",
   "execution_count": null,
   "metadata": {},
   "outputs": [],
   "source": []
  },
  {
   "cell_type": "code",
   "execution_count": null,
   "id": "dba43c38-8b9d-4c34-bfef-384c6cf5d30a",
   "metadata": {},
   "outputs": [],
   "source": [
    "import numpy as np\n",
    "import pandas as pd\n",
    "import squidpy as sq\n",
    "import scipy.sparse as sp"
   ]
  },
  {
   "cell_type": "markdown",
   "id": "45863f2c-b95e-48b4-b304-134dd0e933cc",
   "metadata": {},
   "source": [
    "# Dataset test"
   ]
  },
  {
   "cell_type": "code",
   "execution_count": null,
   "id": "badf3c8a-ee38-4069-bfc4-782704f6d251",
   "metadata": {},
   "outputs": [],
   "source": [
    "def read_dataset(input_exp, input_adj, filter_num=None, add_number=None):\n",
    "    exp = pd.read_csv(open(input_exp))\n",
    "    adj = pd.read_csv(open(input_adj))\n",
    "\n",
    "    if not (adj.values==adj.values.T).all():\n",
    "        raise ImportError('The input adjacency matrix is not a symmetric matrix, please check the input.')\n",
    "    if not np.diag(adj.values).sum()==0:\n",
    "        raise ImportError('The diagonal elements of input adjacency matrix are not all 0, please check the input.')\n",
    "\n",
    "    if filter_num is not None:\n",
    "        exp = filter_gene(exp, filter_num)\n",
    "    if add_number is not None:\n",
    "        exp = log_transform(exp, add_number)\n",
    "\n",
    "    return exp, adj"
   ]
  },
  {
   "cell_type": "code",
   "execution_count": null,
   "id": "df3cbbfe-7b5d-4449-8757-1da81a841c3e",
   "metadata": {},
   "outputs": [],
   "source": [
    "exp_df, adj_df = read_dataset(\"./dataset/seqFISH/counts.csv\", \"./dataset/seqFISH/adj.csv\", None, None)\n",
    "exp, adj = exp_df.values, adj_df.values"
   ]
  },
  {
   "cell_type": "code",
   "execution_count": null,
   "id": "57fadbdb-7df4-4c84-b09f-0c9bedab84e0",
   "metadata": {},
   "outputs": [
    {
     "data": {
      "text/plain": [
       "array([[ 1.83,  1.52,  2.41, ..., -1.4 ,  2.51,  0.6 ],\n",
       "       [ 0.38, -0.04,  0.59, ...,  0.22,  1.88,  2.05],\n",
       "       [ 0.82,  0.12,  0.67, ...,  0.15,  3.2 ,  2.3 ],\n",
       "       ...,\n",
       "       [-1.06, -0.18, -0.33, ..., -0.49,  0.8 ,  0.39],\n",
       "       [-1.99, -0.25,  1.34, ..., -0.14, -2.66,  0.37],\n",
       "       [-1.69,  0.94, -0.12, ...,  0.04, -0.61, -0.14]])"
      ]
     },
     "metadata": {},
     "output_type": "display_data"
    }
   ],
   "source": [
    "exp"
   ]
  },
  {
   "cell_type": "code",
   "execution_count": null,
   "id": "bfe109dc-926a-4269-a304-0cbe67aed610",
   "metadata": {},
   "outputs": [
    {
     "data": {
      "text/plain": [
       "array([[0, 1, 1, ..., 0, 0, 0],\n",
       "       [1, 0, 1, ..., 0, 0, 0],\n",
       "       [1, 1, 0, ..., 0, 0, 0],\n",
       "       ...,\n",
       "       [0, 0, 0, ..., 0, 0, 0],\n",
       "       [0, 0, 0, ..., 0, 0, 1],\n",
       "       [0, 0, 0, ..., 0, 1, 0]])"
      ]
     },
     "metadata": {},
     "output_type": "display_data"
    }
   ],
   "source": [
    "adj"
   ]
  },
  {
   "cell_type": "code",
   "execution_count": null,
   "id": "a6272f83-2f4c-4bbe-8c3b-7df3fc1d2c4c",
   "metadata": {},
   "outputs": [
    {
     "data": {
      "text/plain": [
       "array([[0., 0., 0., ..., 0., 0., 0.],\n",
       "       [0., 0., 0., ..., 0., 0., 0.],\n",
       "       [0., 0., 0., ..., 0., 0., 0.],\n",
       "       ...,\n",
       "       [0., 0., 0., ..., 0., 0., 0.],\n",
       "       [0., 0., 0., ..., 0., 0., 0.],\n",
       "       [0., 0., 0., ..., 0., 0., 0.]])"
      ]
     },
     "metadata": {},
     "output_type": "display_data"
    }
   ],
   "source": [
    "adata = sq.datasets.visium_fluo_adata()\n",
    "sq.gr.spatial_neighbors(adata, n_rings=2, coord_type=\"grid\", n_neighs=6)\n",
    "adata.obsp[\"spatial_connectivities\"].A"
   ]
  },
  {
   "cell_type": "code",
   "execution_count": null,
   "id": "91327a9f-5678-4fc0-b924-962d7410070c",
   "metadata": {},
   "outputs": [],
   "source": [
    "import scipy.sparse as sp\n",
    "import numpy as np"
   ]
  },
  {
   "cell_type": "code",
   "execution_count": null,
   "id": "8f8acddb-e8a6-4143-bff6-8ecf9a595967",
   "metadata": {},
   "outputs": [
    {
     "data": {
      "text/plain": [
       "scipy.sparse._csr.csr_matrix"
      ]
     },
     "metadata": {},
     "output_type": "display_data"
    }
   ],
   "source": [
    "import squidpy as sq\n",
    "import torch\n",
    "adata = sq.datasets.visium_fluo_adata()\n",
    "sq.gr.spatial_neighbors(adata, n_rings=2, coord_type=\"grid\", n_neighs=200)\n",
    "adj_mtx = adata.obsp[\"spatial_connectivities\"]\n",
    "type(adata.X)\n",
    "#features = torch.tensor(adata.X.A)\n",
    "#n_nodes = adj_mtx.shape[0]\n",
    "#n_input = features.size(1)"
   ]
  },
  {
   "cell_type": "code",
   "execution_count": null,
   "id": "29e7efc5-e8f4-4d92-ae1f-a520f69fd02c",
   "metadata": {},
   "outputs": [],
   "source": [
    "sparse_mx = adata.X[:5, :100].tocoo()"
   ]
  },
  {
   "cell_type": "code",
   "execution_count": null,
   "id": "8ccdde46-7b5d-4a46-a702-8086fd7828e2",
   "metadata": {},
   "outputs": [
    {
     "data": {
      "text/plain": [
       "(5, 100)"
      ]
     },
     "metadata": {},
     "output_type": "display_data"
    }
   ],
   "source": [
    "sparse_mx.shape"
   ]
  },
  {
   "cell_type": "code",
   "execution_count": null,
   "id": "553bf6d6-1dd1-4980-b398-4c36374dbe49",
   "metadata": {},
   "outputs": [],
   "source": [
    "values = sparse_mx.data\n",
    "indices = np.vstack((sparse_mx.row, sparse_mx.col))"
   ]
  },
  {
   "cell_type": "code",
   "execution_count": null,
   "id": "4ad5762e-764a-4403-80e4-9509ca95554d",
   "metadata": {},
   "outputs": [],
   "source": [
    "a= torch.FloatTensor(values)"
   ]
  },
  {
   "cell_type": "code",
   "execution_count": null,
   "id": "a5f08b4c-4820-4bae-9e34-9456c55c182d",
   "metadata": {},
   "outputs": [],
   "source": [
    "b= torch.IntTensor(indices)"
   ]
  },
  {
   "cell_type": "code",
   "execution_count": null,
   "id": "a834a4f6-2878-47f5-b1df-bd55b9a924e8",
   "metadata": {},
   "outputs": [
    {
     "data": {
      "text/plain": [
       "torch.Size([118])"
      ]
     },
     "metadata": {},
     "output_type": "display_data"
    }
   ],
   "source": [
    "a.size()"
   ]
  },
  {
   "cell_type": "code",
   "execution_count": null,
   "id": "4046f36a-57c2-4fab-9c48-cb6b29a5962b",
   "metadata": {},
   "outputs": [
    {
     "data": {
      "text/plain": [
       "torch.Size([2, 118])"
      ]
     },
     "metadata": {},
     "output_type": "display_data"
    }
   ],
   "source": [
    "b.size()"
   ]
  },
  {
   "cell_type": "code",
   "execution_count": null,
   "id": "7f861bde-9b29-495c-b322-09e02621799e",
   "metadata": {},
   "outputs": [],
   "source": [
    "shape = sparse_mx.shape"
   ]
  },
  {
   "cell_type": "code",
   "execution_count": null,
   "id": "10684af1-f8b4-44c6-8f20-a0230e2cd9a8",
   "metadata": {},
   "outputs": [],
   "source": [
    "test = torch.sparse_coo_tensor(b, a, torch.Size(shape))"
   ]
  },
  {
   "cell_type": "code",
   "execution_count": null,
   "id": "6cf55f57-8360-4346-b02f-13a6d9735ef7",
   "metadata": {},
   "outputs": [],
   "source": [
    "def sparse_matrix_to_sparse_tensor(sparse_mx):\n",
    "\n",
    "    if not sp.isspmatrix_coo(sparse_mx):\n",
    "        sparse_mx = sparse_mx.tocoo()\n",
    "\n",
    "    values = sparse_mx.data\n",
    "    indices = np.vstack((sparse_mx.row, sparse_mx.col))\n",
    "\n",
    "    i = torch.IntTensor(indices)\n",
    "    v = torch.FloatTensor(values)\n",
    "    shape = sparse_mx.shape\n",
    "\n",
    "    return torch.sparse.FloatTensor(i, v, torch.Size(shape))"
   ]
  },
  {
   "cell_type": "code",
   "execution_count": null,
   "id": "a5a4fee5-bef1-4864-9523-c6515bdd6aa8",
   "metadata": {},
   "outputs": [],
   "source": [
    "test_tensor = sparse_matrix_to_sparse_tensor(sparse_mx)"
   ]
  },
  {
   "cell_type": "code",
   "execution_count": null,
   "id": "a023ea41-ac10-4194-b6dd-b29b4b3d057f",
   "metadata": {},
   "outputs": [
    {
     "ename": "TypeError",
     "evalue": "sparse_coo_tensor(): argument 'size' (position 1) must be tuple of ints, not csr_matrix",
     "output_type": "error",
     "traceback": [
      "\u001b[0;31m---------------------------------------------------------------------------\u001b[0m\n",
      "\u001b[0;31mTypeError\u001b[0m                                 Traceback (most recent call last)\n",
      "Input \u001b[0;32mIn [33]\u001b[0m, in \u001b[0;36m<cell line: 1>\u001b[0;34m()\u001b[0m\n",
      "\u001b[0;32m----> 1\u001b[0m sparse_test_tensor \u001b[38;5;241m=\u001b[39m \u001b[43mtorch\u001b[49m\u001b[38;5;241;43m.\u001b[39;49m\u001b[43msparse_coo_tensor\u001b[49m\u001b[43m(\u001b[49m\u001b[43madata\u001b[49m\u001b[38;5;241;43m.\u001b[39;49m\u001b[43mX\u001b[49m\u001b[43m)\u001b[49m\n",
      "\n",
      "\u001b[0;31mTypeError\u001b[0m: sparse_coo_tensor(): argument 'size' (position 1) must be tuple of ints, not csr_matrix"
     ]
    }
   ],
   "source": [
    "sparse_test_tensor = torch.sparse_coo_tensor(adata.X)"
   ]
  },
  {
   "cell_type": "code",
   "execution_count": null,
   "id": "0f5f1f22-5aa4-4360-9c95-7d705c52e526",
   "metadata": {},
   "outputs": [
    {
     "data": {
      "text/plain": [
       "scipy.sparse._csr.csr_matrix"
      ]
     },
     "metadata": {},
     "output_type": "display_data"
    }
   ],
   "source": [
    "type(adata.X)"
   ]
  },
  {
   "cell_type": "code",
   "execution_count": null,
   "id": "e455d7a7-0052-468b-96fe-b32017c91e26",
   "metadata": {},
   "outputs": [
    {
     "data": {
      "text/plain": [
       "torch.Tensor"
      ]
     },
     "metadata": {},
     "output_type": "display_data"
    }
   ],
   "source": [
    "type(sparse_test_tensor)"
   ]
  },
  {
   "cell_type": "code",
   "execution_count": null,
   "id": "e2d878f2-626b-425c-978e-7825ff926f34",
   "metadata": {},
   "outputs": [
    {
     "data": {
      "text/plain": [
       "array([[0., 0., 0., ..., 0., 0., 0.],\n",
       "       [0., 0., 0., ..., 0., 0., 0.],\n",
       "       [0., 0., 0., ..., 1., 1., 0.],\n",
       "       ...,\n",
       "       [0., 0., 1., ..., 0., 1., 1.],\n",
       "       [0., 0., 1., ..., 1., 0., 1.],\n",
       "       [0., 0., 0., ..., 1., 1., 0.]])"
      ]
     },
     "metadata": {},
     "output_type": "display_data"
    }
   ],
   "source": [
    "adata.obsp[\"spatial_connectivities\"].A"
   ]
  },
  {
   "cell_type": "code",
   "execution_count": null,
   "id": "a191f1c1-22ac-4c48-b916-649f797bb3db",
   "metadata": {},
   "outputs": [
    {
     "data": {
      "text/plain": [
       "numpy.matrix"
      ]
     },
     "metadata": {},
     "output_type": "display_data"
    }
   ],
   "source": [
    "type(adata.obsp[\"spatial_connectivities\"].todense())"
   ]
  },
  {
   "cell_type": "code",
   "execution_count": null,
   "id": "8571276a-c9d4-4007-b7da-86f69d0afba1",
   "metadata": {},
   "outputs": [
    {
     "data": {
      "text/plain": [
       "True"
      ]
     },
     "metadata": {},
     "output_type": "display_data"
    }
   ],
   "source": [
    "import numpy as np\n",
    "np.diag(adata.obsp[\"spatial_connectivities\"].todense()).sum() == 0"
   ]
  },
  {
   "cell_type": "code",
   "execution_count": null,
   "id": "0d77acad-0afb-480d-b961-3d61614dc00f",
   "metadata": {},
   "outputs": [
    {
     "data": {
      "text/plain": [
       "tensor([[0.0000, 0.0000, 0.0000,  ..., 0.0000, 0.0000, 0.0000],\n",
       "        [0.0000, 0.0000, 1.0178,  ..., 0.0000, 0.0000, 0.0000],\n",
       "        [0.0000, 0.0000, 1.1245,  ..., 0.0000, 0.0000, 0.0000],\n",
       "        ...,\n",
       "        [0.0000, 0.0000, 0.0000,  ..., 0.0000, 0.0000, 0.0000],\n",
       "        [0.0000, 0.0000, 0.0000,  ..., 0.0000, 0.0000, 0.0000],\n",
       "        [0.0000, 0.0000, 0.0000,  ..., 1.1538, 0.0000, 0.0000]])"
      ]
     },
     "metadata": {},
     "output_type": "display_data"
    }
   ],
   "source": []
  },
  {
   "cell_type": "code",
   "execution_count": null,
   "id": "e1ad9f29-5480-440a-b2c5-582ad644c0bd",
   "metadata": {},
   "outputs": [
    {
     "data": {
      "text/plain": [
       "(2800, 16562)"
      ]
     },
     "metadata": {},
     "output_type": "display_data"
    }
   ],
   "source": [
    "adata.X.A.shape"
   ]
  },
  {
   "cell_type": "code",
   "execution_count": null,
   "id": "ea1a4ede-21c6-4cff-a431-816430d7cfa9",
   "metadata": {},
   "outputs": [
    {
     "data": {
      "text/plain": [
       "2800"
      ]
     },
     "metadata": {},
     "output_type": "display_data"
    }
   ],
   "source": [
    "import squidpy as sq\n",
    "import torch\n",
    "adata = sq.datasets.visium_fluo_adata()\n",
    "len(adata.X.A)"
   ]
  },
  {
   "cell_type": "code",
   "execution_count": null,
   "id": "a4d0b7a0-fcac-471d-a99e-a4d8b1b200a5",
   "metadata": {},
   "outputs": [],
   "source": [
    "features.size()"
   ]
  },
  {
   "cell_type": "code",
   "execution_count": null,
   "id": "4e05b997-fdcb-4a35-a27d-2266d622b9f4",
   "metadata": {},
   "outputs": [],
   "source": [
    "type(adata.obsp[\"spatial_connectivities\"])"
   ]
  },
  {
   "cell_type": "markdown",
   "id": "ec81c384-c4ce-43d4-859f-eb2e888a548c",
   "metadata": {},
   "source": [
    "## Functionality Test"
   ]
  },
  {
   "cell_type": "code",
   "execution_count": null,
   "id": "38929934-b000-4ed7-ae7d-97a9be733174",
   "metadata": {},
   "outputs": [],
   "source": [
    "import anndata as ad\n",
    "import numpy as np\n",
    "import scipy.sparse as sp\n",
    "\n",
    "from deeplinc.data import train_test_split\n",
    "from deeplinc.data import sparse_adj_mx_to_edges\n",
    "from deeplinc.data import sample_neg_test_edges\n",
    "from deeplinc.data import has_overlapping_edges\n",
    "from deeplinc.data import normalize_adj_mx"
   ]
  },
  {
   "cell_type": "code",
   "execution_count": null,
   "id": "8ee3910b-1d06-4cef-a1a3-4602d1139c3d",
   "metadata": {},
   "outputs": [],
   "source": [
    "adj_mx_test = sp.csr_matrix(np.array([[0, 1, 1, 0, 0],\n",
    "                                      [1, 0, 0, 0, 0],\n",
    "                                      [1, 0, 0, 0, 0],\n",
    "                                      [0, 0, 0, 0, 1],\n",
    "                                      [0, 0, 0, 1, 0]]))"
   ]
  },
  {
   "cell_type": "code",
   "execution_count": null,
   "id": "9bdcd0dc-4ace-4e75-9986-992d4c71eea5",
   "metadata": {},
   "outputs": [
    {
     "data": {
      "text/plain": [
       "array([[0, 1],\n",
       "       [0, 2],\n",
       "       [1, 0],\n",
       "       [2, 0],\n",
       "       [3, 4],\n",
       "       [4, 3]], dtype=int32)"
      ]
     },
     "metadata": {},
     "output_type": "display_data"
    }
   ],
   "source": [
    "sparse_adj_mx_to_edges(adj_mx_test)"
   ]
  },
  {
   "cell_type": "code",
   "execution_count": null,
   "id": "ff61831f-82dd-4957-9bdf-0c1e45bd7509",
   "metadata": {},
   "outputs": [
    {
     "ename": "KeyboardInterrupt",
     "evalue": "",
     "output_type": "error",
     "traceback": [
      "\u001b[0;31m---------------------------------------------------------------------------\u001b[0m\n",
      "\u001b[0;31mKeyboardInterrupt\u001b[0m                         Traceback (most recent call last)\n",
      "Input \u001b[0;32mIn [22]\u001b[0m, in \u001b[0;36m<cell line: 25>\u001b[0;34m()\u001b[0m\n",
      "\u001b[1;32m     26\u001b[0m     \u001b[38;5;28;01mraise\u001b[39;00m \u001b[38;5;167;01mAssertionError\u001b[39;00m(\u001b[38;5;124m\"\u001b[39m\u001b[38;5;124mThe network is too dense. Please decrease the \u001b[39m\u001b[38;5;130;01m\\\u001b[39;00m\n",
      "\u001b[1;32m     27\u001b[0m \u001b[38;5;124m    test ratio or delete some edges in the network.\u001b[39m\u001b[38;5;124m\"\u001b[39m)\n",
      "\u001b[1;32m     28\u001b[0m \u001b[38;5;28;01melse\u001b[39;00m:\n",
      "\u001b[0;32m---> 29\u001b[0m     edges_test_neg \u001b[38;5;241m=\u001b[39m \u001b[43msample_neg_test_edges\u001b[49m\u001b[43m(\u001b[49m\u001b[43mn_nodes\u001b[49m\u001b[43m,\u001b[49m\n",
      "\u001b[1;32m     30\u001b[0m \u001b[43m                                           \u001b[49m\u001b[43medges_test\u001b[49m\u001b[43m,\u001b[49m\n",
      "\u001b[1;32m     31\u001b[0m \u001b[43m                                           \u001b[49m\u001b[43medges_double\u001b[49m\u001b[43m)\u001b[49m\n",
      "\u001b[1;32m     32\u001b[0m \u001b[38;5;66;03m## Construct (symmetric) train and test adjacency matrix with sampled edges\u001b[39;00m\n",
      "\u001b[1;32m     33\u001b[0m adj_train \u001b[38;5;241m=\u001b[39m sp\u001b[38;5;241m.\u001b[39mcsr_matrix(\n",
      "\u001b[1;32m     34\u001b[0m     (np\u001b[38;5;241m.\u001b[39mones(edges_train\u001b[38;5;241m.\u001b[39mshape[\u001b[38;5;241m0\u001b[39m]), (edges_train[:, \u001b[38;5;241m0\u001b[39m], edges_train[:, \u001b[38;5;241m1\u001b[39m])),\n",
      "\u001b[1;32m     35\u001b[0m     shape\u001b[38;5;241m=\u001b[39madj_mx\u001b[38;5;241m.\u001b[39mshape,\n",
      "\u001b[1;32m     36\u001b[0m )\n",
      "\n",
      "File \u001b[0;32m~/workspace/projects/deeplinc-scvi-tools/deeplinc/data/utils.py:141\u001b[0m, in \u001b[0;36msample_neg_test_edges\u001b[0;34m(n_nodes, edges_test, edges_double)\u001b[0m\n",
      "\u001b[1;32m    139\u001b[0m \u001b[38;5;28;01mif\u001b[39;00m idx_i \u001b[38;5;241m==\u001b[39m idx_j:\n",
      "\u001b[1;32m    140\u001b[0m     \u001b[38;5;28;01mcontinue\u001b[39;00m\n",
      "\u001b[0;32m--> 141\u001b[0m \u001b[38;5;28;01mif\u001b[39;00m \u001b[43mhas_overlapping_edges\u001b[49m\u001b[43m(\u001b[49m\u001b[43m[\u001b[49m\u001b[43midx_i\u001b[49m\u001b[43m,\u001b[49m\u001b[43m \u001b[49m\u001b[43midx_j\u001b[49m\u001b[43m]\u001b[49m\u001b[43m,\u001b[49m\u001b[43m \u001b[49m\u001b[43medges_double\u001b[49m\u001b[43m)\u001b[49m:\n",
      "\u001b[1;32m    142\u001b[0m     \u001b[38;5;28;01mcontinue\u001b[39;00m\n",
      "\u001b[1;32m    143\u001b[0m \u001b[38;5;28;01mif\u001b[39;00m has_overlapping_edges([idx_j, idx_i], edges_double): \u001b[38;5;66;03m# redundant\u001b[39;00m\n",
      "\n",
      "File \u001b[0;32m~/workspace/projects/deeplinc-scvi-tools/deeplinc/data/utils.py:176\u001b[0m, in \u001b[0;36mhas_overlapping_edges\u001b[0;34m(edge_array, comparison_edge_array, prec_decimals)\u001b[0m\n",
      "\u001b[1;32m    156\u001b[0m     \u001b[38;5;124;03m\"\"\"\u001b[39;00m\n",
      "\u001b[1;32m    157\u001b[0m \u001b[38;5;124;03m\tCheck whether two edge arrays have overlapping edges. This is used for \u001b[39;00m\n",
      "\u001b[1;32m    158\u001b[0m \u001b[38;5;124;03m    sampling of negative test edges that are not in positive test set.\u001b[39;00m\n",
      "\u001b[0;32m   (...)\u001b[0m\n",
      "\u001b[1;32m    171\u001b[0m \u001b[38;5;124;03m        Boolean that indicates whether the two edge arrays have an overlap. \u001b[39;00m\n",
      "\u001b[1;32m    172\u001b[0m \u001b[38;5;124;03m\t\"\"\"\u001b[39;00m\n",
      "\u001b[1;32m    173\u001b[0m     edge_overlaps \u001b[38;5;241m=\u001b[39m np\u001b[38;5;241m.\u001b[39mall(np\u001b[38;5;241m.\u001b[39mround(edge_array \u001b[38;5;241m-\u001b[39m comparison_edge_array[:, \u001b[38;5;28;01mNone\u001b[39;00m],\n",
      "\u001b[1;32m    174\u001b[0m                                     prec_decimals) \u001b[38;5;241m==\u001b[39m \u001b[38;5;241m0\u001b[39m,\n",
      "\u001b[1;32m    175\u001b[0m                            axis\u001b[38;5;241m=\u001b[39m\u001b[38;5;241m-\u001b[39m\u001b[38;5;241m1\u001b[39m)\n",
      "\u001b[0;32m--> 176\u001b[0m     \u001b[38;5;28;01mif\u001b[39;00m \u001b[38;5;28;43;01mTrue\u001b[39;49;00m\u001b[43m \u001b[49m\u001b[38;5;129;43;01min\u001b[39;49;00m\u001b[43m \u001b[49m\u001b[43mnp\u001b[49m\u001b[38;5;241;43m.\u001b[39;49m\u001b[43many\u001b[49m\u001b[43m(\u001b[49m\u001b[43medge_overlaps\u001b[49m\u001b[43m,\u001b[49m\u001b[43m \u001b[49m\u001b[43maxis\u001b[49m\u001b[38;5;241;43m=\u001b[39;49m\u001b[38;5;241;43m-\u001b[39;49m\u001b[38;5;241;43m1\u001b[39;49m\u001b[43m)\u001b[49m\u001b[38;5;241;43m.\u001b[39;49m\u001b[43mtolist\u001b[49m\u001b[43m(\u001b[49m\u001b[43m)\u001b[49m:\n",
      "\u001b[1;32m    177\u001b[0m         overlap \u001b[38;5;241m=\u001b[39m \u001b[38;5;28;01mTrue\u001b[39;00m\n",
      "\u001b[1;32m    178\u001b[0m     \u001b[38;5;28;01melif\u001b[39;00m \u001b[38;5;28;01mTrue\u001b[39;00m \u001b[38;5;129;01mnot\u001b[39;00m \u001b[38;5;129;01min\u001b[39;00m np\u001b[38;5;241m.\u001b[39many(edge_overlaps, axis\u001b[38;5;241m=\u001b[39m\u001b[38;5;241m-\u001b[39m\u001b[38;5;241m1\u001b[39m)\u001b[38;5;241m.\u001b[39mtolist():\n",
      "\n",
      "\u001b[0;31mKeyboardInterrupt\u001b[0m: "
     ]
    }
   ],
   "source": [
    "adj_mx_key = \"spatial_connectivities\"\n",
    "test_ratio = 0.1\n",
    "\n",
    "## Extract edges from the adjacency matrix\n",
    "adj_mx = adata.obsp[adj_mx_key]\n",
    "n_nodes = adj_mx.shape[0]\n",
    "adj_mx_triu = sp.triu(adj_mx)  # upper triangle of adjacency matrix\n",
    "# single edge for adjacent cells\n",
    "edges_single = sparse_adj_mx_to_edges(adj_mx_triu)\n",
    "# double edge for adjacent cells\n",
    "edges_double = sparse_adj_mx_to_edges(adj_mx)\n",
    "n_edges = edges_single.shape[0]\n",
    "if test_ratio > 1: # absolute test ratio\n",
    "    test_ratio = test_ratio / n_edges \n",
    "## Split into train and test edges\n",
    "n_edges_test = int(np.floor(n_edges * test_ratio))\n",
    "idx_edges_all = np.array(range(n_edges))\n",
    "np.random.shuffle(idx_edges_all)\n",
    "idx_edges_test = idx_edges_all[:n_edges_test]\n",
    "edges_test = edges_single[idx_edges_test]\n",
    "edges_train = np.delete(edges_single, idx_edges_test, axis=0)\n",
    "## Sample negative test edges\n",
    "# node combinations without edge\n",
    "n_nonedges = n_nodes**2-int(adj_mx.sum())-n_nodes\n",
    "if (n_nonedges)/2 < 2*n_edges_test:\n",
    "    raise AssertionError(\"The network is too dense. Please decrease the \\\n",
    "    test ratio or delete some edges in the network.\")\n",
    "else:\n",
    "    edges_test_neg = sample_neg_test_edges(n_nodes,\n",
    "                                           edges_test,\n",
    "                                           edges_double)\n",
    "## Construct (symmetric) train and test adjacency matrix with sampled edges\n",
    "adj_train = sp.csr_matrix(\n",
    "    (np.ones(edges_train.shape[0]), (edges_train[:, 0], edges_train[:, 1])),\n",
    "    shape=adj_mx.shape,\n",
    ")\n",
    "adj_train = adj_train + adj_train.T # make symmetric\n",
    "adj_test = sp.csr_matrix(\n",
    "    (np.ones(edges_test.shape[0]), (edges_test[:, 0], edges_test[:, 1])),\n",
    "    shape=adj_mx.shape,\n",
    ")\n",
    "adj_test = adj_test + adj_test.T # make symmetric"
   ]
  },
  {
   "cell_type": "code",
   "execution_count": null,
   "id": "96db8a01-a94e-420e-a56a-d295ead503dc",
   "metadata": {},
   "outputs": [],
   "source": [
    "has_overlapping_edges(edges_test[1], edges_test)"
   ]
  },
  {
   "cell_type": "code",
   "execution_count": null,
   "id": "fd65b16c-50f1-4f07-aa35-047aad014c29",
   "metadata": {},
   "outputs": [],
   "source": [
    "edges_test_neg = sample_neg_test_edges(n_nodes, edges_test, edges_double)"
   ]
  },
  {
   "cell_type": "code",
   "execution_count": null,
   "id": "0c283daf-11c6-417e-bcb2-c2c1cd29be90",
   "metadata": {},
   "outputs": [],
   "source": [
    "edges_test_neg"
   ]
  },
  {
   "cell_type": "code",
   "execution_count": null,
   "id": "95076b67-5763-46bd-959a-bb4be5876d4a",
   "metadata": {},
   "outputs": [],
   "source": [
    "len(edges_test)"
   ]
  },
  {
   "cell_type": "code",
   "execution_count": null,
   "id": "db2b3035-ea03-4b75-9f6f-b27da854d734",
   "metadata": {},
   "outputs": [],
   "source": [
    "len(edges_test_neg)"
   ]
  },
  {
   "cell_type": "code",
   "execution_count": null,
   "id": "15fd6431-5ebc-446a-bad3-7328e2d7af27",
   "metadata": {},
   "outputs": [],
   "source": [
    "has_overlapping_edges(edges_test_neg, edges_test)"
   ]
  },
  {
   "cell_type": "code",
   "execution_count": null,
   "id": "6dddc027-78e8-45de-bbc8-c5d736be3c6e",
   "metadata": {},
   "outputs": [],
   "source": [
    "adj_train, adj_test, edges_train, edges_test, edges_test_neg  = train_test_split(adata, test_ratio=0.1)"
   ]
  },
  {
   "cell_type": "code",
   "execution_count": null,
   "id": "738db10b-bc0d-46d3-9328-4288ce776811",
   "metadata": {},
   "outputs": [],
   "source": [
    "adj_train"
   ]
  },
  {
   "cell_type": "code",
   "execution_count": null,
   "id": "10314695-74aa-48d6-a681-e95873d5b767",
   "metadata": {},
   "outputs": [],
   "source": [
    "adj_test"
   ]
  },
  {
   "cell_type": "code",
   "execution_count": null,
   "id": "81612c53-3632-4a38-9a42-8240f6200dc3",
   "metadata": {},
   "outputs": [],
   "source": [
    "edges_train.shape[0] + edges_test.shape[0]"
   ]
  },
  {
   "cell_type": "code",
   "execution_count": null,
   "id": "9751d81c-0b49-4241-8c3e-f789ca08aa03",
   "metadata": {},
   "outputs": [],
   "source": [
    "edges_train.shape[0]"
   ]
  },
  {
   "cell_type": "code",
   "execution_count": null,
   "id": "3ab09959-ceed-4371-89df-923f5a73f854",
   "metadata": {},
   "outputs": [],
   "source": [
    "edges_test.shape[0]"
   ]
  },
  {
   "cell_type": "code",
   "execution_count": null,
   "id": "10c24b96-2f85-428e-bb9e-d026ab3a1069",
   "metadata": {},
   "outputs": [],
   "source": [
    "edges_test_neg"
   ]
  },
  {
   "cell_type": "code",
   "execution_count": null,
   "id": "0363e2c4-0ed7-480b-90bd-0ee18bd6d676",
   "metadata": {},
   "outputs": [],
   "source": [
    "has_overlapping_edges(edges_test_neg, edges_train)"
   ]
  },
  {
   "cell_type": "code",
   "execution_count": null,
   "id": "2ef77a70-0e1a-4342-b72b-32ca00c0584a",
   "metadata": {},
   "outputs": [],
   "source": [
    "split_adj_mx_and_edges = train_test_split(adata, test_ratio=0.1)"
   ]
  },
  {
   "cell_type": "code",
   "execution_count": null,
   "id": "fa728595-c211-4c9e-9a7c-8b6c09bdf06c",
   "metadata": {},
   "outputs": [],
   "source": [
    "adj_mx_train, adj_mx_test = split_adj_mx_and_edges[:2]\n",
    "edges_train, edges_test, edges_test_neg = split_adj_mx_and_edges[2:]"
   ]
  },
  {
   "cell_type": "code",
   "execution_count": null,
   "id": "847d0905-4f4f-4e7b-b9b7-8414ce1ea8a8",
   "metadata": {},
   "outputs": [],
   "source": [
    "normalize_adj_mx(adj_mx_train)"
   ]
  },
  {
   "cell_type": "code",
   "execution_count": null,
   "id": "64fd8984-2e01-403f-b266-c3bf7172b7b1",
   "metadata": {},
   "outputs": [],
   "source": [
    "adj_mx_train.shape[0]"
   ]
  },
  {
   "cell_type": "code",
   "execution_count": null,
   "id": "751ea27d-202c-41ed-877a-019ffd089b11",
   "metadata": {},
   "outputs": [],
   "source": [
    "adj_mx_train.A"
   ]
  },
  {
   "cell_type": "code",
   "execution_count": null,
   "id": "aa2c4436-407d-47d6-bcab-4b83dd38de8d",
   "metadata": {},
   "outputs": [],
   "source": [
    "sp.eye(adj_mx_train.shape[0])"
   ]
  },
  {
   "cell_type": "code",
   "execution_count": null,
   "id": "974f66eb-68a3-4f6c-b2bb-6b474ec59080",
   "metadata": {},
   "outputs": [],
   "source": [
    "import numpy as np\n",
    "import matplotlib.pyplot as plt\n",
    "\n",
    "# Create data\n",
    "N = 50\n",
    "g1 = (0.2*np.random.rand(N), 0.25*np.random.rand(N))\n",
    "g2 = (0.5+0.1 * np.random.rand(N), 0.4+0.2*np.random.rand(N))\n",
    "g3 = (0.5+0.1 * np.random.rand(N), 0.4*np.random.rand(N))\n",
    "g4 = (0.4+0.1 * np.random.rand(N), 0.3*np.random.rand(N))\n",
    "g5 = (0.6+0.1 * np.random.rand(N), 0.5*np.random.rand(N))\n",
    "\n",
    "data = (g1, g2, g3, g4, g5)\n",
    "colors = (\"green\", \"purple\", \"orange\", \"olive\", \"red\")\n",
    "groups = (\"healthy\", \"latent_tb\", \"treatment_1m\", \"treatment_2m\", \"active_tb\")\n",
    "\n",
    "# Create plot\n",
    "fig = plt.figure()\n",
    "ax = fig.add_subplot(1, 1, 1)\n",
    "\n",
    "for data, color, group in zip(data, colors, groups):\n",
    "    x, y = data\n",
    "    ax.scatter(x, y, alpha=0.8, c=color, edgecolors='none', s=30, label=group)\n",
    "\n",
    "plt.title('UMAP: TB Disease Trajectory')\n",
    "plt.legend(loc=2)\n",
    "plt.show()"
   ]
  },
  {
   "cell_type": "code",
   "execution_count": null,
   "id": "0a387aa8-3075-4843-b0ce-6f6dcdc23fdc",
   "metadata": {},
   "outputs": [],
   "source": []
  },
  {
   "cell_type": "code",
   "execution_count": 2,
   "metadata": {},
   "outputs": [],
   "source": [
    "import scanpy as sc\n",
    "import squidpy as sq\n",
    "\n",
    "import numpy as np"
   ]
  },
  {
   "cell_type": "code",
   "execution_count": 3,
   "metadata": {},
   "outputs": [
    {
     "data": {
      "application/vnd.jupyter.widget-view+json": {
       "model_id": "7c7407529f014d07945f17c6f0b0934c",
       "version_major": 2,
       "version_minor": 0
      },
      "text/plain": [
       "  0%|          | 0.00/242M [00:00<?, ?B/s]"
      ]
     },
     "metadata": {},
     "output_type": "display_data"
    },
    {
     "data": {
      "text/plain": [
       "AnnData object with n_obs × n_vars = 2800 × 16562\n",
       "    obs: 'in_tissue', 'array_row', 'array_col', 'n_genes_by_counts', 'log1p_n_genes_by_counts', 'total_counts', 'log1p_total_counts', 'pct_counts_in_top_50_genes', 'pct_counts_in_top_100_genes', 'pct_counts_in_top_200_genes', 'pct_counts_in_top_500_genes', 'total_counts_MT', 'log1p_total_counts_MT', 'pct_counts_MT', 'n_counts', 'leiden', 'cluster'\n",
       "    var: 'gene_ids', 'feature_types', 'genome', 'MT', 'n_cells_by_counts', 'mean_counts', 'log1p_mean_counts', 'pct_dropout_by_counts', 'total_counts', 'log1p_total_counts', 'n_cells', 'highly_variable', 'highly_variable_rank', 'means', 'variances', 'variances_norm'\n",
       "    uns: 'cluster_colors', 'hvg', 'leiden', 'leiden_colors', 'neighbors', 'pca', 'spatial', 'umap'\n",
       "    obsm: 'X_pca', 'X_umap', 'spatial'\n",
       "    varm: 'PCs'\n",
       "    obsp: 'connectivities', 'distances'"
      ]
     },
     "execution_count": 3,
     "metadata": {},
     "output_type": "execute_result"
    }
   ],
   "source": [
    "adata = sq.datasets.visium_fluo_adata()\n",
    "adata"
   ]
  },
  {
   "cell_type": "code",
   "execution_count": 4,
   "metadata": {},
   "outputs": [],
   "source": [
    "sq.gr.spatial_neighbors(adata, n_rings=2, coord_type=\"grid\", n_neighs=6)"
   ]
  },
  {
   "cell_type": "code",
   "execution_count": 7,
   "metadata": {},
   "outputs": [
    {
     "data": {
      "text/plain": [
       "array([[0., 0., 0., ..., 0., 0., 0.],\n",
       "       [0., 0., 0., ..., 0., 0., 0.],\n",
       "       [0., 0., 0., ..., 0., 0., 0.],\n",
       "       ...,\n",
       "       [0., 0., 0., ..., 0., 0., 0.],\n",
       "       [0., 0., 0., ..., 0., 0., 0.],\n",
       "       [0., 0., 0., ..., 0., 0., 0.]])"
      ]
     },
     "execution_count": 7,
     "metadata": {},
     "output_type": "execute_result"
    }
   ],
   "source": [
    "adata.obsp[\"spatial_connectivities\"].A"
   ]
  },
  {
   "cell_type": "code",
   "execution_count": 6,
   "metadata": {},
   "outputs": [
    {
     "data": {
      "text/plain": [
       "AnnData object with n_obs × n_vars = 2800 × 16562\n",
       "    obs: 'in_tissue', 'array_row', 'array_col', 'n_genes_by_counts', 'log1p_n_genes_by_counts', 'total_counts', 'log1p_total_counts', 'pct_counts_in_top_50_genes', 'pct_counts_in_top_100_genes', 'pct_counts_in_top_200_genes', 'pct_counts_in_top_500_genes', 'total_counts_MT', 'log1p_total_counts_MT', 'pct_counts_MT', 'n_counts', 'leiden', 'cluster'\n",
       "    var: 'gene_ids', 'feature_types', 'genome', 'MT', 'n_cells_by_counts', 'mean_counts', 'log1p_mean_counts', 'pct_dropout_by_counts', 'total_counts', 'log1p_total_counts', 'n_cells', 'highly_variable', 'highly_variable_rank', 'means', 'variances', 'variances_norm'\n",
       "    uns: 'cluster_colors', 'hvg', 'leiden', 'leiden_colors', 'neighbors', 'pca', 'spatial', 'umap', 'spatial_neighbors'\n",
       "    obsm: 'X_pca', 'X_umap', 'spatial'\n",
       "    varm: 'PCs'\n",
       "    obsp: 'connectivities', 'distances', 'spatial_connectivities', 'spatial_distances'"
      ]
     },
     "execution_count": 6,
     "metadata": {},
     "output_type": "execute_result"
    }
   ],
   "source": [
    "adata"
   ]
  },
  {
   "cell_type": "code",
   "execution_count": 32,
   "metadata": {},
   "outputs": [
    {
     "data": {
      "text/plain": [
       "True"
      ]
     },
     "execution_count": 32,
     "metadata": {},
     "output_type": "execute_result"
    }
   ],
   "source": [
    "import numpy as np\n",
    "import torch\n",
    "from scipy import sparse\n",
    "from torch.utils.data import Dataset\n",
    "\n",
    "class SpatialAnnDataDataset(Dataset):\n",
    "    \"\"\"\n",
    "\n",
    "       Parameters\n",
    "       ----------\n",
    "       adata: `~anndata.AnnData`\n",
    "            Spatially annotated AnnData object. Adjaceny matrix needs to be stored in adata.obsp[\"spatial_connectivities\"].\n",
    "    \"\"\"\n",
    "\n",
    "    def __init__(self,\n",
    "                 adata,\n",
    "                 ):\n",
    "\n",
    "        if sparse.issparse(adata.X):\n",
    "            self.X = torch.tensor(adata.X.A)\n",
    "        else:\n",
    "            self.X = torch.tensor(adata.X)\n",
    "\n",
    "        if sparse.issparse(adata.obsp[\"spatial_connectivities\"]):\n",
    "            self.A = torch.tensor(adata.obsp[\"spatial_connectivities\"].A)\n",
    "        else:\n",
    "            self.A = torch.tensor(adata.obsp[\"spatial_connectivities\"]) # output from squidpy.gr.spatial_neighbors\n",
    "\n",
    "        if not (self.A==self.A.T).all():\n",
    "            raise ImportError(\"The input adjacency matrix is not a symmetric matrix.\")\n",
    "        if not np.diag(self.A).sum()==0:\n",
    "            raise ImportError(\"The diagonal elements of input adjacency matrix are not all 0.\")\n",
    "\n",
    "\n",
    "    def __getitem__(self, index):\n",
    "        output = dict()\n",
    "\n",
    "        output[\"X\"] = self.X[index, :]\n",
    "        output[\"A\"] = self.A[index, :]\n",
    "\n",
    "        return output\n",
    "\n",
    "\n",
    "    def __len__(self):\n",
    "        return self.X.size(0)\n",
    "\n",
    "\n",
    "    def __str__(self):\n",
    "        return self.__name"
   ]
  },
  {
   "cell_type": "code",
   "execution_count": 20,
   "metadata": {},
   "outputs": [
    {
     "data": {
      "text/plain": [
       "True"
      ]
     },
     "execution_count": 20,
     "metadata": {},
     "output_type": "execute_result"
    }
   ],
   "source": [
    "sparse.issparse(adata.obsp[\"spatial_connectivities\"])"
   ]
  },
  {
   "cell_type": "code",
   "execution_count": 9,
   "metadata": {},
   "outputs": [],
   "source": [
    "import torch\n",
    "from scipy import sparse\n",
    "from torch.utils.data import Dataset"
   ]
  },
  {
   "cell_type": "code",
   "execution_count": 35,
   "metadata": {},
   "outputs": [],
   "source": [
    "import numpy as np\n",
    "import torch\n",
    "from scipy import sparse\n",
    "from torch.utils.data import Dataset\n",
    "\n",
    "class SpatialAnnDataDataset(Dataset):\n",
    "    \"\"\"\n",
    "\n",
    "       Parameters\n",
    "       ----------\n",
    "       adata: `~anndata.AnnData`\n",
    "            Spatially annotated AnnData object. Adjaceny matrix needs to be stored in adata.obsp[\"spatial_connectivities\"].\n",
    "    \"\"\"\n",
    "\n",
    "    def __init__(self,\n",
    "                 adata,\n",
    "                 ):\n",
    "\n",
    "        if sparse.issparse(adata.X):\n",
    "            self.X = torch.tensor(adata.X.A)\n",
    "        else:\n",
    "            self.X = torch.tensor(adata.X)\n",
    "\n",
    "        if sparse.issparse(adata.obsp[\"spatial_connectivities\"]):\n",
    "            self.A = torch.tensor(adata.obsp[\"spatial_connectivities\"].A)\n",
    "        else:\n",
    "            self.A = torch.tensor(adata.obsp[\"spatial_connectivities\"]) # output from squidpy.gr.spatial_neighbors\n",
    "\n",
    "        if not (self.A==self.A.T).all():\n",
    "            raise ImportError(\"The input adjacency matrix is not a symmetric matrix.\")\n",
    "        if not np.diag(self.A).sum()==0:\n",
    "            raise ImportError(\"The diagonal elements of input adjacency matrix are not all 0.\")\n",
    "\n",
    "\n",
    "    def __getitem__(self, index):\n",
    "        output = dict()\n",
    "\n",
    "        output[\"X\"] = self.X[index, :]\n",
    "        output[\"A\"] = self.A[index, :]\n",
    "\n",
    "        return output\n",
    "\n",
    "\n",
    "    def __len__(self):\n",
    "        return self.X.size(0)\n",
    "\n",
    "\n",
    "    def __str__(self):\n",
    "        return self.__name"
   ]
  },
  {
   "cell_type": "code",
   "execution_count": 51,
   "metadata": {},
   "outputs": [],
   "source": [
    "dataset = SpatialAnnDataDataset(adata)\n",
    "train_dataset, test_dataset = torch.utils.data.random_split(dataset, [2000, 800])"
   ]
  },
  {
   "cell_type": "code",
   "execution_count": 52,
   "metadata": {},
   "outputs": [],
   "source": [
    "from torch.utils.data import DataLoader\n",
    "\n",
    "train_dataloader = DataLoader(train_dataset, batch_size=64, shuffle=True)\n",
    "test_dataloader = DataLoader(test_dataset, batch_size=64, shuffle=True)"
   ]
  },
  {
   "cell_type": "code",
   "execution_count": 53,
   "metadata": {},
   "outputs": [
    {
     "data": {
      "text/plain": [
       "torch.utils.data.dataset.Subset"
      ]
     },
     "execution_count": 53,
     "metadata": {},
     "output_type": "execute_result"
    }
   ],
   "source": [
    "type(train_dataset)"
   ]
  },
  {
   "cell_type": "code",
   "execution_count": 55,
   "metadata": {},
   "outputs": [
    {
     "data": {
      "text/plain": [
       "{'X': tensor([[0.0000, 0.0000, 0.0000,  ..., 0.0000, 0.0000, 1.4659],\n",
       "         [0.0000, 0.0000, 0.7449,  ..., 0.0000, 0.0000, 1.1671],\n",
       "         [0.0000, 0.0000, 0.0000,  ..., 0.0000, 0.0000, 1.9113],\n",
       "         ...,\n",
       "         [0.0000, 0.0000, 0.0000,  ..., 0.0000, 0.0000, 1.1020],\n",
       "         [0.0000, 0.0000, 0.0000,  ..., 0.0000, 0.0000, 0.0000],\n",
       "         [0.0000, 0.0000, 0.0000,  ..., 0.0000, 0.0000, 1.2614]]),\n",
       " 'A': tensor([[0., 0., 0.,  ..., 0., 0., 0.],\n",
       "         [0., 0., 0.,  ..., 0., 0., 0.],\n",
       "         [0., 0., 0.,  ..., 0., 0., 0.],\n",
       "         ...,\n",
       "         [0., 0., 0.,  ..., 0., 0., 0.],\n",
       "         [0., 0., 0.,  ..., 0., 0., 0.],\n",
       "         [0., 0., 0.,  ..., 0., 0., 0.]], dtype=torch.float64)}"
      ]
     },
     "execution_count": 55,
     "metadata": {},
     "output_type": "execute_result"
    }
   ],
   "source": [
    "next(iter(train_dataloader))"
   ]
  },
  {
   "cell_type": "code",
   "execution_count": 40,
   "metadata": {},
   "outputs": [
    {
     "data": {
      "text/plain": [
       "{'X': tensor([[0.0000, 0.0000, 0.0000,  ..., 0.0000, 0.0000, 1.5867],\n",
       "         [0.0000, 0.0000, 0.0000,  ..., 0.0000, 0.0000, 1.5107],\n",
       "         [0.7439, 0.0000, 0.0000,  ..., 0.0000, 0.0000, 1.8750],\n",
       "         ...,\n",
       "         [0.0000, 0.0000, 0.0000,  ..., 0.0000, 0.0000, 1.2222],\n",
       "         [0.0000, 0.0000, 0.0000,  ..., 0.0000, 0.0000, 1.7781],\n",
       "         [0.0000, 0.0000, 0.0000,  ..., 0.0000, 0.0000, 0.0000]]),\n",
       " 'A': tensor([[0., 0., 0.,  ..., 0., 0., 0.],\n",
       "         [0., 0., 0.,  ..., 0., 0., 0.],\n",
       "         [0., 0., 0.,  ..., 0., 0., 0.],\n",
       "         ...,\n",
       "         [0., 0., 0.,  ..., 0., 0., 0.],\n",
       "         [0., 0., 0.,  ..., 0., 0., 0.],\n",
       "         [0., 0., 0.,  ..., 0., 0., 0.]], dtype=torch.float64)}"
      ]
     },
     "execution_count": 40,
     "metadata": {},
     "output_type": "execute_result"
    }
   ],
   "source": [
    "test_dataset[5:12]"
   ]
  },
  {
   "cell_type": "code",
   "execution_count": 39,
   "metadata": {},
   "outputs": [
    {
     "data": {
      "text/plain": [
       "2800"
      ]
     },
     "execution_count": 39,
     "metadata": {},
     "output_type": "execute_result"
    }
   ],
   "source": [
    "len(test_dataset)"
   ]
  },
  {
   "cell_type": "code",
   "execution_count": null,
   "metadata": {},
   "outputs": [],
   "source": []
  }
 ],
 "metadata": {
  "kernelspec": {
   "display_name": "Python 3.8.8 ('scvi-tools-dev')",
   "language": "python",
   "name": "python3"
  },
  "language_info": {
   "codemirror_mode": {
    "name": "ipython",
    "version": 3
   },
   "file_extension": ".py",
   "mimetype": "text/x-python",
   "name": "python",
   "nbconvert_exporter": "python",
   "pygments_lexer": "ipython3",
   "version": "3.8.8"
  },
  "vscode": {
   "interpreter": {
    "hash": "5ea1d1b274621f173ababe05a1daab532c7346c429ee451cee8ce78f5a8caff3"
   }
  }
 },
 "nbformat": 4,
 "nbformat_minor": 4
}
