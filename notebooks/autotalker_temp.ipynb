{
 "cells": [
  {
   "cell_type": "code",
   "execution_count": null,
   "id": "554763d8-951f-4e05-9023-a52b602de319",
   "metadata": {},
   "outputs": [],
   "source": [
    "import matplotlib.pyplot as plt\n",
    "import mlflow\n",
    "import pandas as pd\n",
    "import seaborn as sns\n",
    "\n",
    "import numpy as np\n",
    "from datetime import datetime\n",
    "import os"
   ]
  },
  {
   "cell_type": "code",
   "execution_count": null,
   "id": "94735875-1397-4763-9a70-5a137bfa037c",
   "metadata": {},
   "outputs": [],
   "source": [
    "def plot_benchmarking_metrics(fig_title,\n",
    "                              df,\n",
    "                              y_col_name,\n",
    "                              save_fig=False,\n",
    "                              save_dir=\"../figures\",\n",
    "                              file_name=\"benchmarking_metrics.png\"):\n",
    "    fig, axes = plt.subplots(3, 2, sharey=True, figsize=(10, 10))\n",
    "    fig.suptitle(fig_title)\n",
    "    \n",
    "    # Graph Connectivity Distance\n",
    "    sns.boxplot(data=df, ax=axes[0, 0], x=\"gcd\", y=y_col_name)\n",
    "    axes[0, 0].set_title(\"GCD\")\n",
    "\n",
    "    # Maximum Leiden Normalized Mutual Info\n",
    "    sns.boxplot(data=df, ax=axes[0, 1], x=\"mlnmi\", y=y_col_name)\n",
    "    axes[0, 1].set_title(\"MLNMI\")\n",
    "\n",
    "    # Cell-Type Affinity Distance\n",
    "    sns.boxplot(data=df, ax=axes[1, 0], x=\"cad\", y=y_col_name)\n",
    "    axes[1, 0].set_title(\"CAD\")\n",
    "\n",
    "    # Average Absolute Log Relative Cell-Type Local Inverse Simpson's Index\n",
    "    sns.boxplot(data=df, ax=axes[1, 1], x=\"arclisi\", y=y_col_name)\n",
    "    axes[1, 1].set_title(\"ARCLISI\")\n",
    "\n",
    "    # Cell Classification Accuracy\n",
    "    sns.boxplot(data=df, ax=axes[2, 0], x=\"cca\", y=y_col_name)\n",
    "    axes[2, 0].set_title(\"CCA\")\n",
    "\n",
    "    # Gene Expression Regression Mean Squared Error\n",
    "    sns.boxplot(data=df, ax=axes[2, 1], x=\"germse\", y=y_col_name)\n",
    "    axes[2, 1].set_title(\"GERMSE\")\n",
    "\n",
    "    plt.subplots_adjust(left=0.1,\n",
    "                        bottom=0.1,\n",
    "                        right=0.9,\n",
    "                        top=0.5,\n",
    "                        wspace=0.4,\n",
    "                        hspace=0.4)\n",
    "    if save_fig:\n",
    "        # Get time for timestamping saved artefacts\n",
    "        now = datetime.now()\n",
    "        current_timestamp = now.strftime(\"%d%m%Y_%H%M%S\")\n",
    "\n",
    "        os.makedirs(save_dir, exist_ok=True)\n",
    "        plt.savefig(f\"{save_dir}/{file_name}_{current_timestamp}.png\",\n",
    "                    bbox_inches='tight')"
   ]
  },
  {
   "cell_type": "code",
   "execution_count": null,
   "id": "905b451e-29a1-4317-8555-b19cd8b9aeee",
   "metadata": {},
   "outputs": [],
   "source": [
    "def plot_eval_metrics(fig_title,\n",
    "                      df,\n",
    "                      y_col_name,\n",
    "                      plot_ratio_active_gps=False,\n",
    "                      save_fig=False,\n",
    "                      save_dir=\"../figures\",\n",
    "                      file_name=\"benchmarking_metrics.png\"):\n",
    "    # Compute evaluation metric ranks and use total rank for sorting\n",
    "    val_mse_score_ranks = (df.groupby([y_col_name])\n",
    "                           [\"val_mse_score\"].mean().rank(ascending=True)\n",
    "                           .rename(\"val_mse_score_rank\"))\n",
    "    val_auroc_score_ranks = (df.groupby([y_col_name])\n",
    "                                [\"val_auroc_score\"].mean().rank(ascending=False)\n",
    "                                .rename(\"val_auroc_score_rank\"))\n",
    "    df = df.merge(val_mse_score_ranks, on=[y_col_name])\n",
    "    df = df.merge(val_auroc_score_ranks, on=[y_col_name])\n",
    "    df[\"val_total_score_rank\"] = (df[\"val_mse_score_rank\"] + \n",
    "                                  df[\"val_auroc_score_rank\"]).rank(ascending=True)\n",
    "\n",
    "    df.sort_values(by=[\"val_total_score_rank\", y_col_name],\n",
    "                   inplace=True,\n",
    "                   ascending=False)\n",
    "    \n",
    "    if plot_ratio_active_gps:\n",
    "        fig, axes = plt.subplots(3, 1, sharey=True, figsize=(10, 20))\n",
    "        \n",
    "        # Ratio active gene programs\n",
    "        sns.boxplot(data=df, ax=axes[2], x=\"ratio_active_gps\", y=y_col_name)\n",
    "        axes[2].set_title(\"Ratio of Active Gene Programs\")\n",
    "    else:\n",
    "        fig, axes = plt.subplots(2, 1, sharey=True, figsize=(10, 15))\n",
    "    fig.suptitle(fig_title, fontsize=15)\n",
    "    \n",
    "    # Edge reconstruction performance\n",
    "    sns.boxplot(data=df, ax=axes[0], x=\"val_auroc_score\", y=y_col_name)\n",
    "    axes[0].set_title(\"Edge Reconstruction Area Under ROC Curve\")\n",
    "\n",
    "    # Gene expression reconstruction performance\n",
    "    sns.boxplot(data=df, ax=axes[1], x=\"val_mse_score\", y=y_col_name)\n",
    "    axes[1].set_title(\"Gene Expression Reconstruction Mean Squared Error\")\n",
    "\n",
    "    plt.subplots_adjust(left=0.1,\n",
    "                        bottom=0.1,\n",
    "                        right=0.9,\n",
    "                        top=0.94,\n",
    "                        wspace=0.175,\n",
    "                        hspace=0.175)\n",
    "    if save_fig:\n",
    "        # Get time for timestamping saved artefacts\n",
    "        now = datetime.now()\n",
    "        current_timestamp = now.strftime(\"%d%m%Y_%H%M%S\")\n",
    "\n",
    "        os.makedirs(save_dir, exist_ok=True)\n",
    "        plt.savefig(f\"{save_dir}/{file_name}\",\n",
    "                    bbox_inches='tight')"
   ]
  },
  {
   "cell_type": "markdown",
   "id": "e722f99d-4c6d-4c68-b542-2b985d5ddcca",
   "metadata": {},
   "source": [
    "\n",
    "def get_ratio_active_gps(row):\n",
    "    return row[\"n_active_gps\"] / (int(row[\"n_nonaddon_gps_\"]) + int(row[\"n_addon_gps_\"]))\n",
    "\n",
    "df[\"ratio_active_gps\"] = df.apply(lambda row: get_ratio_active_gps(row), axis=1)\n",
    "\n",
    "def get_active_gp_group_lasso_comb(row):\n",
    "    return f\"active_gp_thresh_{row['active_gp_thresh_ratio_']}_+_group_lasso_{row['lambda_group_lasso_']}\"\n",
    "\n",
    "df[\"active_gp_group_lasso_comb\"] = df.apply(lambda row: get_active_gp_group_lasso_comb(row), axis=1)"
   ]
  },
  {
   "cell_type": "code",
   "execution_count": null,
   "id": "98730e2c-c603-451f-b08e-38ec224837af",
   "metadata": {},
   "outputs": [],
   "source": [
    "experiment_name = \"benchmark_loss_weights\"\n",
    "\n",
    "runs = mlflow.search_runs(experiment_names=[experiment_name],\n",
    "                          output_format=\"list\")\n",
    "\n",
    "data = []\n",
    "for run in runs:\n",
    "    data.append({**run.data.metrics, **run.data.params})\n",
    "df = pd.DataFrame.from_dict(data)\n",
    "\n",
    "def get_loss_weights(row):  \n",
    "    return f\"lambda_edge_recon_{row['lambda_edge_recon_']}_+_lambda_gene_expr_recon_{row['lambda_gene_expr_recon_']}\"\n",
    "df[\"loss_weights\"] = df.apply(lambda row: get_loss_weights(row), axis=1)"
   ]
  },
  {
   "cell_type": "code",
   "execution_count": null,
   "id": "b95badff-99d9-4b4f-9976-95a6c5c51cd6",
   "metadata": {},
   "outputs": [],
   "source": [
    "df = df[df[\"avg_n_neighbors\"] == \"16.0\"]"
   ]
  },
  {
   "cell_type": "code",
   "execution_count": null,
   "id": "ae507442-d305-4b74-9a5b-25b7c8a44184",
   "metadata": {},
   "outputs": [],
   "source": [
    "len(df[(df[\"avg_n_neighbors\"] == \"4.0\") & (df[\"conv_layer_encoder_\"] == \"gcnconv\")])"
   ]
  },
  {
   "cell_type": "code",
   "execution_count": null,
   "id": "bd098115-391e-4222-a5fa-880890f32045",
   "metadata": {},
   "outputs": [],
   "source": [
    "df[[\"lambda_edge_recon_\", \"lambda_gene_expr_recon_\", \"encoder_n_attention_heads_\", \"conv_layer_encoder_\", \"avg_n_neighbors\"]].head(20)"
   ]
  },
  {
   "cell_type": "code",
   "execution_count": null,
   "id": "dc47638c-f27a-468d-addc-96338e0f2dbd",
   "metadata": {},
   "outputs": [],
   "source": [
    "plot_eval_metrics(fig_title=\"Number of Neighbors Benchmarking Evaluation Metrics\",\n",
    "                  df=df,\n",
    "                  y_col_name=\"avg_n_neighbors\",\n",
    "                  plot_ratio_active_gps=False,\n",
    "                  save_dir=\"../figures/squidpy_seqfish_mouse_organogenesis/benchmarking/benchmark_active_gps\",\n",
    "                  file_name=\"active_gp_eval_metrics.png\",\n",
    "                  save_fig=False)"
   ]
  },
  {
   "cell_type": "code",
   "execution_count": null,
   "id": "76987e63-c037-4f54-8b78-5227c3bb3bc3",
   "metadata": {},
   "outputs": [],
   "source": [
    "plot_eval_metrics(fig_title=\"Loss Weights Benchmarking Evaluation Metrics\",\n",
    "                  df=df,\n",
    "                  y_col_name=\"loss_weights\",\n",
    "                  plot_ratio_active_gps=False,\n",
    "                  save_dir=\"../figures/squidpy_seqfish_mouse_organogenesis/benchmarking/benchmark_active_gps\",\n",
    "                  file_name=\"active_gp_eval_metrics.png\",\n",
    "                  save_fig=False)"
   ]
  },
  {
   "cell_type": "code",
   "execution_count": null,
   "id": "f18e067f-3ac4-4122-b426-3c2f0ac517c5",
   "metadata": {},
   "outputs": [],
   "source": []
  },
  {
   "cell_type": "code",
   "execution_count": null,
   "id": "70327d01-ca47-4950-9f6c-e77dfeb39c62",
   "metadata": {},
   "outputs": [],
   "source": [
    "experiment_name = \"benchmark_encoder_decoder_arch\"\n",
    "\n",
    "runs = mlflow.search_runs(experiment_names=[experiment_name],\n",
    "                          output_format=\"list\")\n",
    "\n",
    "data = []\n",
    "for run in runs:\n",
    "    data.append({**run.data.metrics, **run.data.params})\n",
    "df = pd.DataFrame.from_dict(data)\n",
    "\n",
    "def get_layer_encoder(row):  \n",
    "    return f\"conv_layer_encoder_{row['conv_layer_encoder_']}_+_encoder_n_attention_heads_{row['encoder_n_attention_heads_']}\"\n",
    "df[\"layer_encoder\"] = df.apply(lambda row: get_layer_encoder(row), axis=1)"
   ]
  },
  {
   "cell_type": "code",
   "execution_count": null,
   "id": "b13b3db5-1678-4af2-aa18-3089838e560b",
   "metadata": {},
   "outputs": [],
   "source": [
    "df = df[df[\"lambda_gene_expr_recon_\"] != \"1\"]"
   ]
  },
  {
   "cell_type": "code",
   "execution_count": null,
   "id": "ca639c6f-1999-4218-a9ed-eca2be9bae3d",
   "metadata": {},
   "outputs": [],
   "source": [
    "df[\"lambda_gene_expr_recon_\"]"
   ]
  },
  {
   "cell_type": "code",
   "execution_count": null,
   "id": "4bf90027-e250-4826-8148-80bb901726ae",
   "metadata": {},
   "outputs": [],
   "source": [
    "plot_eval_metrics(fig_title=\"Encoder Layer Benchmarking Evaluation Metrics\",\n",
    "                  df=df,\n",
    "                  y_col_name=\"layer_encoder\",\n",
    "                  plot_ratio_active_gps=False,\n",
    "                  save_dir=\"../figures/squidpy_seqfish_mouse_organogenesis/benchmarking/benchmark_active_gps\",\n",
    "                  file_name=\"active_gp_eval_metrics.png\",\n",
    "                  save_fig=False)"
   ]
  },
  {
   "cell_type": "code",
   "execution_count": null,
   "id": "7abe8c21-d15a-4d78-85f8-60ec73bf6ed0",
   "metadata": {},
   "outputs": [],
   "source": [
    "df[df[\"lambda_gene_expr_recon_\"] != '1.0'][[\"lambda_edge_recon_\", \"lambda_gene_expr_recon_\", \"encoder_n_attention_heads_\", \"conv_layer_encoder_\"]]"
   ]
  },
  {
   "cell_type": "code",
   "execution_count": null,
   "id": "20a01faf-9394-4d9f-9dd1-bdbcab0ef3bc",
   "metadata": {},
   "outputs": [],
   "source": [
    "df = df[df[\"lambda_group_lasso_\"].astype(float) == 0]"
   ]
  },
  {
   "cell_type": "code",
   "execution_count": null,
   "id": "48d79bfa-cc8f-4c0a-9357-354247f489b4",
   "metadata": {},
   "outputs": [],
   "source": [
    "plot_eval_metrics(fig_title=\"Loss Weights Benchmarking Metrics\",\n",
    "                  df=df,\n",
    "                  y_col_name=\"loss_weights\",\n",
    "                  plot_ratio_active_gps=False,\n",
    "                  save_dir=\"../figures/squidpy_seqfish_mouse_organogenesis/benchmarking/benchmark_active_gps\",\n",
    "                  file_name=\"active_gp_eval_metrics.png\",\n",
    "                  save_fig=False)"
   ]
  },
  {
   "cell_type": "code",
   "execution_count": null,
   "id": "8a3cd98f-a797-429a-8ddb-1666052cbcf9",
   "metadata": {},
   "outputs": [],
   "source": [
    "df[[\"lambda_edge_recon_\", \"lambda_gene_expr_recon_\", \"avg_n_neighbors\"]]"
   ]
  },
  {
   "cell_type": "code",
   "execution_count": null,
   "id": "1ec66d24-7762-4db2-94da-8f01fc61595e",
   "metadata": {},
   "outputs": [],
   "source": [
    "experiment_name = \"benchmark_active_gps\"\n",
    "\n",
    "runs = mlflow.search_runs(experiment_names=[experiment_name],\n",
    "                          output_format=\"list\")\n",
    "\n",
    "data = []\n",
    "for run in runs:\n",
    "    data.append({**run.data.metrics, **run.data.params})\n",
    "df = pd.DataFrame.from_dict(data)"
   ]
  },
  {
   "cell_type": "code",
   "execution_count": null,
   "id": "57b309d4-84f6-4669-b051-de3ed4c75af0",
   "metadata": {},
   "outputs": [],
   "source": [
    "# Get active gene program ratio\n",
    "def get_ratio_active_gps(row):\n",
    "    return row[\"n_active_gps\"] / (int(row[\"n_nonaddon_gps_\"]) + int(row[\"n_addon_gps_\"]))\n",
    "df[\"ratio_active_gps\"] = df.apply(lambda row: get_ratio_active_gps(row), axis=1)\n",
    "\n",
    "# Get combination of active gene program threshold and lambda group lasso\n",
    "def get_active_gp_thresh_lambda_group_lasso(row):\n",
    "    return f\"active_gp_thresh_{row['active_gp_thresh_ratio_']}_+_lambda_group_lasso_{row['lambda_group_lasso_']}\"\n",
    "df[\"active_gp_thresh_lambda_group_lasso\"] = df.apply(lambda row: get_active_gp_thresh_lambda_group_lasso(row), axis=1)"
   ]
  },
  {
   "cell_type": "markdown",
   "id": "a48df543-9843-4d6a-8eb8-4616b7156204",
   "metadata": {},
   "source": [
    "df = df[(df[\"lambda_edge_recon_\"].astype(float) == 1.0) & \n",
    "        (df[\"lambda_gene_expr_recon_\"].astype(float) == 1.0) &\n",
    "        (df[\"n_active_gps\"].notna())]"
   ]
  },
  {
   "cell_type": "code",
   "execution_count": null,
   "id": "f5016cdb-f009-4152-a7a2-bf63d0f2aec4",
   "metadata": {},
   "outputs": [],
   "source": [
    "plot_eval_metrics(fig_title=\"Loss Weights Benchmarking Metrics\",\n",
    "                  df=df,\n",
    "                  y_col_name=\"active_gp_thresh_lambda_group_lasso\",\n",
    "                  plot_ratio_active_gps=True,\n",
    "                  save_dir=\"../figures/squidpy_seqfish_mouse_organogenesis/benchmarking/benchmark_active_gps\",\n",
    "                  file_name=\"active_gp_eval_metrics.png\",\n",
    "                  save_fig=False)"
   ]
  },
  {
   "cell_type": "code",
   "execution_count": null,
   "id": "f34eaf28-6d7b-4686-9f20-f6d5757797c6",
   "metadata": {},
   "outputs": [],
   "source": [
    "experiment_name = \"benchmark_encoder_decoder_arch\"\n",
    "\n",
    "runs = mlflow.search_runs(experiment_names=[experiment_name],\n",
    "                          output_format=\"list\")\n",
    "\n",
    "data = []\n",
    "for run in runs:\n",
    "    data.append({**run.data.metrics, **run.data.params})\n",
    "df = pd.DataFrame.from_dict(data)"
   ]
  },
  {
   "cell_type": "code",
   "execution_count": null,
   "id": "955fb9eb-80e5-471b-949d-86920882e2ad",
   "metadata": {},
   "outputs": [],
   "source": [
    "experiment_name = \"benchmark_mixed\"\n",
    "\n",
    "runs = mlflow.search_runs(experiment_names=[experiment_name],\n",
    "                          output_format=\"list\")\n",
    "\n",
    "data = []\n",
    "for run in runs:\n",
    "    data.append({**run.data.metrics, **run.data.params})\n",
    "df = pd.DataFrame.from_dict(data)"
   ]
  },
  {
   "cell_type": "code",
   "execution_count": null,
   "id": "2cbf0782-4425-4cca-bee4-6e8e71131f56",
   "metadata": {},
   "outputs": [],
   "source": [
    "len(df)"
   ]
  },
  {
   "cell_type": "code",
   "execution_count": null,
   "id": "9326108d-a719-4d51-8155-90336335e952",
   "metadata": {},
   "outputs": [],
   "source": [
    "df.sort_values(by=\"val_best_acc_score\", ascending=False)[[\"val_best_acc_score\", \"val_mse_score\", \"lambda_edge_recon_\", \"gene_expr_recon_dist_\", \"node_label_method_\", \"conv_layer_encoder_\", \"encoder_n_attention_heads_\"]]"
   ]
  },
  {
   "cell_type": "code",
   "execution_count": null,
   "id": "f6d57404-fa03-477b-94bc-73e1fd48b943",
   "metadata": {},
   "outputs": [],
   "source": [
    "def get_encoder_decoder_arch(row):\n",
    "    return f\"encoder_layer_{row['conv_layer_encoder_']}_+_node_label_method_{row['node_label_method_']}_+_gene_expr_dist_{row['gene_expr_recon_dist_']}\"\n",
    "\n",
    "df[\"encoder_decoder_arch\"] = df.apply(lambda row: get_encoder_decoder_arch(row), axis=1)\n",
    "\n",
    "def get_ratio_active_gps(row):\n",
    "    return row[\"n_active_gps\"] / (int(row[\"n_nonaddon_gps_\"]) + int(row[\"n_addon_gps_\"]))\n",
    "\n",
    "df[\"ratio_active_gps\"] = df.apply(lambda row: get_ratio_active_gps(row), axis=1)"
   ]
  },
  {
   "cell_type": "code",
   "execution_count": null,
   "id": "9a699e8c-743c-46f0-ae9d-98a2f9044019",
   "metadata": {},
   "outputs": [],
   "source": [
    "plot_eval_metrics(fig_title=\"Encoder Decoder Architecture Benchmarking Metrics\",\n",
    "                  df=df,\n",
    "                  y_col_name=\"encoder_decoder_arch\",\n",
    "                  save_dir=\"../figures/squidpy_seqfish_mouse_organogenesis/benchmarking/benchmark_encoder_decoder_arch\",\n",
    "                  file_name=\"active_gp_eval_metrics.png\",\n",
    "                  save_fig=True)"
   ]
  },
  {
   "cell_type": "code",
   "execution_count": null,
   "id": "bc37090c-5c55-4f34-aad9-fa11bf9fb6a4",
   "metadata": {},
   "outputs": [],
   "source": [
    "experiment_name = \"benchmark_encoder_decoder_arch2\"\n",
    "\n",
    "runs = mlflow.search_runs(experiment_names=[experiment_name],\n",
    "                          output_format=\"list\")\n",
    "\n",
    "data = []\n",
    "for run in runs:\n",
    "    data.append({**run.data.metrics, **run.data.params})\n",
    "df = pd.DataFrame.from_dict(data)"
   ]
  },
  {
   "cell_type": "code",
   "execution_count": null,
   "id": "74df39d9-1f99-4022-a287-66bba7ffd65c",
   "metadata": {},
   "outputs": [],
   "source": [
    "def get_conv_layer_encoder(row):\n",
    "    return f\"conv_layer_{row['conv_layer_encoder_']}_+_n_attention_heads_{row['encoder_n_attention_heads_']}\"\n",
    "df[\"conv_layer_encoder\"] = df.apply(lambda row: get_conv_layer_encoder(row), axis=1)\n",
    "\n",
    "def get_ratio_active_gps(row):\n",
    "    return row[\"n_active_gps\"] / (int(row[\"n_nonaddon_gps_\"]) + int(row[\"n_addon_gps_\"]))\n",
    "\n",
    "df[\"ratio_active_gps\"] = df.apply(lambda row: get_ratio_active_gps(row), axis=1)"
   ]
  },
  {
   "cell_type": "code",
   "execution_count": null,
   "id": "63f0d4f6-db8a-4ea5-a67c-962e5ff3e794",
   "metadata": {},
   "outputs": [],
   "source": [
    "df_avg_n_neighbors_8 = df[df[\"avg_n_neighbors\"].astype(float) == 8]\n",
    "df_avg_n_neighbors_8 = df[df[\"avg_n_neighbors\"].astype(float) == 4]"
   ]
  },
  {
   "cell_type": "code",
   "execution_count": null,
   "id": "a1645531-46c6-4f54-84b5-f5f24a62f30e",
   "metadata": {},
   "outputs": [],
   "source": [
    "df[\"avg_n_neighbors\"]"
   ]
  },
  {
   "cell_type": "code",
   "execution_count": null,
   "id": "1cfbdd98-d6a8-4b69-b617-85c9620cfdaf",
   "metadata": {},
   "outputs": [],
   "source": [
    "plot_eval_metrics(fig_title=\"Encoder Decoder Architecture Benchmarking Metrics\",\n",
    "                  df=df,\n",
    "                  y_col_name=\"conv_layer_encoder\",\n",
    "                  save_dir=\"../figures/squidpy_seqfish_mouse_organogenesis/benchmarking/benchmark_encoder_decoder_arch2\",\n",
    "                  file_name=\"eval_metrics.png\",\n",
    "                  save_fig=False)"
   ]
  },
  {
   "cell_type": "code",
   "execution_count": null,
   "id": "d028d34c-4041-461f-8c12-c8a98122a286",
   "metadata": {},
   "outputs": [],
   "source": [
    "df.columns"
   ]
  },
  {
   "cell_type": "code",
   "execution_count": null,
   "id": "b0dec42f-e3c8-49b9-be34-4fa260fa48ce",
   "metadata": {},
   "outputs": [],
   "source": [
    "plot_eval_metrics(fig_title=\"Loss Weights Benchmarking Metrics\",\n",
    "                  df=df,\n",
    "                  y_col_name=\"loss_weights\",\n",
    "                  save_fig=False)"
   ]
  },
  {
   "cell_type": "code",
   "execution_count": null,
   "id": "1df15d35-e812-4fde-b6a1-4a84de1e872f",
   "metadata": {},
   "outputs": [],
   "source": [
    "plot_eval_metrics(fig_title=\"Loss Weights Benchmarking Metrics\",\n",
    "                  df=df,\n",
    "                  y_col_name=\"active_gp_group_lasso_comb\",\n",
    "                  save_fig=False)"
   ]
  },
  {
   "cell_type": "code",
   "execution_count": null,
   "id": "2bbf50c1-c3e3-4ff6-9b60-3d5d73387c51",
   "metadata": {},
   "outputs": [],
   "source": [
    "plot_benchmarking_metrics(fig_title=\"Loss Weights Benchmarking Metrics\",\n",
    "                          df=df,\n",
    "                          y_col_name=\"loss_weights\",\n",
    "                          save_fig=False)"
   ]
  },
  {
   "cell_type": "code",
   "execution_count": null,
   "id": "0438dc8d-fdfc-4b9b-9dbc-0f405fedf5ab",
   "metadata": {},
   "outputs": [],
   "source": [
    "sns.boxplot(data=df, x=\"test_best_acc_score\", y=\"loss_weights\")"
   ]
  },
  {
   "cell_type": "code",
   "execution_count": null,
   "id": "7015722c-a49c-472c-b86d-ae7f54e4aa7e",
   "metadata": {},
   "outputs": [],
   "source": []
  },
  {
   "cell_type": "code",
   "execution_count": null,
   "id": "e2826283-21c1-4156-8e75-0c1bfc4e767f",
   "metadata": {},
   "outputs": [],
   "source": []
  },
  {
   "cell_type": "code",
   "execution_count": null,
   "id": "20ded03b-c8df-4f7d-8b84-2cc286f1a5c7",
   "metadata": {},
   "outputs": [],
   "source": []
  },
  {
   "cell_type": "code",
   "execution_count": null,
   "id": "4c46bb4f-c3db-4d4c-a263-250ec93d14b1",
   "metadata": {},
   "outputs": [],
   "source": []
  },
  {
   "cell_type": "code",
   "execution_count": null,
   "id": "9872d1bd-db90-4ccf-ac3f-619506079928",
   "metadata": {},
   "outputs": [],
   "source": [
    "def get_recon_loss_inclusion(row):  \n",
    "    if row[\"include_edge_recon_loss_\"] == \"True\" and row[\"include_gene_expr_recon_loss_\"] == \"True\":\n",
    "        return \"edge_+_gene_expr\"\n",
    "    elif row[\"include_edge_recon_loss_\"] == \"True\" and row[\"include_gene_expr_recon_loss_\"] == \"False\":\n",
    "        return \"only_edge\"\n",
    "    elif row[\"include_edge_recon_loss_\"] == \"False\" and row[\"include_gene_expr_recon_loss_\"] == \"True\":\n",
    "        return \"only_gene_expr\"\n",
    "    return \"none\"\n",
    "\n",
    "df[\"recon_loss_inclusions\"] = df.apply(lambda row: get_recon_loss_inclusion(row), axis=1)"
   ]
  },
  {
   "cell_type": "code",
   "execution_count": null,
   "id": "5970a0b6-94bf-43d4-9b80-dc7ac4363f53",
   "metadata": {},
   "outputs": [],
   "source": [
    "fig, axes = plt.subplots(3, 2, sharey=True, figsize=(10, 10))\n",
    "fig.suptitle(\"Reconstruction Loss Inclusion Benchmarking Metrics\")\n",
    "\n",
    "# Graph Connectivity Distance\n",
    "sns.boxplot(data=df, ax=axes[0, 0], x=\"gcd\", y=\"recon_loss_inclusions\")\n",
    "axes[0, 0].set_title(\"GCD\")\n",
    "\n",
    "# Maximum Leiden Normalized Mutual Info\n",
    "sns.boxplot(data=df, ax=axes[0, 1], x=\"mlnmi\", y=\"recon_loss_inclusions\")\n",
    "axes[0, 1].set_title(\"MLNMI\")\n",
    "\n",
    "# Cell-Type Affinity Distance\n",
    "sns.boxplot(data=df, ax=axes[1, 0], x=\"cad\", y=\"recon_loss_inclusions\")\n",
    "axes[1, 0].set_title(\"CAD\")\n",
    "\n",
    "# Average Absolute Log Relative Cell-Type Local Inverse Simpson's Index\n",
    "sns.boxplot(data=df, ax=axes[1, 1], x=\"arclisi\", y=\"recon_loss_inclusions\")\n",
    "axes[1, 1].set_title(\"ARCLISI\")\n",
    "\n",
    "# Cell Classification Accuracy\n",
    "sns.boxplot(data=df, ax=axes[2, 0], x=\"cca\", y=\"recon_loss_inclusions\")\n",
    "axes[2, 0].set_title(\"CCA\")\n",
    "\n",
    "# Gene Expression Regression Mean Squared Error\n",
    "sns.boxplot(data=df, ax=axes[2, 1], x=\"germse\", y=\"recon_loss_inclusions\")\n",
    "axes[2, 1].set_title(\"GERMSE\")\n",
    "\n",
    "plt.subplots_adjust(left=0.1,\n",
    "                    bottom=0.1,\n",
    "                    right=0.9,\n",
    "                    top=0.9,\n",
    "                    wspace=0.4,\n",
    "                    hspace=0.4)"
   ]
  },
  {
   "cell_type": "code",
   "execution_count": null,
   "id": "348bfe99-9c2b-42ce-9e81-a976c59e0d89",
   "metadata": {},
   "outputs": [],
   "source": [
    "experiment_name = \"benchmark_gene_expr_recon\"\n",
    "\n",
    "runs = mlflow.search_runs(experiment_names=[experiment_name],\n",
    "                          output_format=\"list\")\n",
    "\n",
    "data = []\n",
    "for run in runs:\n",
    "    data.append({**run.data.metrics, **run.data.params})\n",
    "df = pd.DataFrame.from_dict(data)"
   ]
  },
  {
   "cell_type": "code",
   "execution_count": null,
   "id": "8f778938-cd46-4ce0-8e7f-34af3ec2d4b1",
   "metadata": {},
   "outputs": [],
   "source": [
    "def get_gene_expr_recon_components(row):  \n",
    "    if row[\"node_label_method_\"] == \"self\" and row[\"conv_layer_encoder_\"] == \"gcnconv\":\n",
    "        return \"self_+_nb\"\n",
    "    elif row[\"node_label_method_\"] == \"self\" and row[\"gene_expr_recon_dist_\"] == \"zinb\":\n",
    "        return \"self_+_zinb\"\n",
    "    elif row[\"node_label_method_\"] == \"one-hop-sum\" and row[\"gene_expr_recon_dist_\"] == \"nb\":\n",
    "        return \"one-hop-sum_+_nb\"\n",
    "    elif row[\"node_label_method_\"] == \"one-hop-sum\" and row[\"gene_expr_recon_dist_\"] == \"zinb\":\n",
    "        return \"one-hop-sum_+_zinb\"\n",
    "    elif row[\"node_label_method_\"] == \"one-hop-norm\" and row[\"gene_expr_recon_dist_\"] == \"nb\":\n",
    "        return \"one-hop-norm_+_nb\"\n",
    "    elif row[\"node_label_method_\"] == \"one-hop-norm\" and row[\"gene_expr_recon_dist_\"] == \"zinb\":\n",
    "        return \"one-hop-norm_+_zinb\"\n",
    "    elif row[\"node_label_method_\"] == \"one-hop-attention\" and row[\"gene_expr_recon_dist_\"] == \"nb\":\n",
    "        return \"one-hop-attention_+_nb\"\n",
    "    return \"one-hop-attention_+_zinb\"\n",
    "\n",
    "df[\"gene_expr_recon_components\"] = df.apply(lambda row: get_gene_expr_recon_components(row), axis=1)"
   ]
  },
  {
   "cell_type": "code",
   "execution_count": null,
   "id": "6aaa637d-9292-4d91-8c13-875d6335b930",
   "metadata": {},
   "outputs": [],
   "source": [
    "fig, axes = plt.subplots(3, 2, sharey=True, figsize=(10, 10))\n",
    "fig.suptitle(\"Gene Expression Reconstruction Components Benchmarking Metrics\")\n",
    "\n",
    "# Graph Connectivity Distance\n",
    "sns.boxplot(data=df, ax=axes[0, 0], x=\"gcd\", y=\"gene_expr_recon_components\")\n",
    "axes[0, 0].set_title(\"GCD\")\n",
    "\n",
    "# Maximum Leiden Normalized Mutual Info\n",
    "sns.boxplot(data=df, ax=axes[0, 1], x=\"mlnmi\", y=\"gene_expr_recon_components\")\n",
    "axes[0, 1].set_title(\"MLNMI\")\n",
    "\n",
    "# Cell-Type Affinity Distance\n",
    "sns.boxplot(data=df, ax=axes[1, 0], x=\"cad\", y=\"gene_expr_recon_components\")\n",
    "axes[1, 0].set_title(\"CAD\")\n",
    "\n",
    "# Average Absolute Log Relative Cell-Type Local Inverse Simpson's Index\n",
    "sns.boxplot(data=df, ax=axes[1, 1], x=\"arclisi\", y=\"gene_expr_recon_components\")\n",
    "axes[1, 1].set_title(\"ARCLISI\")\n",
    "\n",
    "# Cell Classification Accuracy\n",
    "sns.boxplot(data=df, ax=axes[2, 0], x=\"cca\", y=\"gene_expr_recon_components\")\n",
    "axes[2, 0].set_title(\"CCA\")\n",
    "\n",
    "# Gene Expression Regression Mean Squared Error\n",
    "sns.boxplot(data=df, ax=axes[2, 1], x=\"germse\", y=\"gene_expr_recon_components\")\n",
    "axes[2, 1].set_title(\"GERMSE\")\n",
    "\n",
    "plt.subplots_adjust(left=0.1,\n",
    "                    bottom=0.1,\n",
    "                    right=0.9,\n",
    "                    top=0.9,\n",
    "                    wspace=0.4,\n",
    "                    hspace=0.4)"
   ]
  },
  {
   "cell_type": "code",
   "execution_count": null,
   "id": "faa8ce1e-02bd-4387-b5c6-9c8dcd99373b",
   "metadata": {},
   "outputs": [],
   "source": []
  },
  {
   "cell_type": "code",
   "execution_count": null,
   "id": "c707496c-d8a0-4fe4-bffd-7714096e886a",
   "metadata": {},
   "outputs": [],
   "source": [
    "def plot_benchmarking_metrics(fig_title,\n",
    "                              df,\n",
    "                              y_col_name,\n",
    "                              save_fig=False,\n",
    "                              save_dir=\"../figures\",\n",
    "                              file_name=\"benchmarking_metrics.png\"):\n",
    "    fig, axes = plt.subplots(3, 2, sharey=True, figsize=(10, 10))\n",
    "    fig.suptitle(fig_title)\n",
    "    \n",
    "    # Graph Connectivity Distance\n",
    "    sns.boxplot(data=df, ax=axes[0, 0], x=\"gcd\", y=y_col_name)\n",
    "    axes[0, 0].set_title(\"GCD\")\n",
    "\n",
    "    # Maximum Leiden Normalized Mutual Info\n",
    "    sns.boxplot(data=df, ax=axes[0, 1], x=\"mlnmi\", y=y_col_name)\n",
    "    axes[0, 1].set_title(\"MLNMI\")\n",
    "\n",
    "    # Cell-Type Affinity Distance\n",
    "    sns.boxplot(data=df, ax=axes[1, 0], x=\"cad\", y=y_col_name)\n",
    "    axes[1, 0].set_title(\"CAD\")\n",
    "\n",
    "    # Average Absolute Log Relative Cell-Type Local Inverse Simpson's Index\n",
    "    sns.boxplot(data=df, ax=axes[1, 1], x=\"arclisi\", y=y_col_name)\n",
    "    axes[1, 1].set_title(\"ARCLISI\")\n",
    "\n",
    "    # Cell Classification Accuracy\n",
    "    sns.boxplot(data=df, ax=axes[2, 0], x=\"cca\", y=y_col_name)\n",
    "    axes[2, 0].set_title(\"CCA\")\n",
    "\n",
    "    # Gene Expression Regression Mean Squared Error\n",
    "    sns.boxplot(data=df, ax=axes[2, 1], x=\"germse\", y=y_col_name)\n",
    "    axes[2, 1].set_title(\"GERMSE\")\n",
    "\n",
    "    plt.subplots_adjust(left=0.1,\n",
    "                        bottom=0.1,\n",
    "                        right=0.9,\n",
    "                        top=0.9,\n",
    "                        wspace=0.2,\n",
    "                        hspace=0.4)\n",
    "    if save_fig:\n",
    "        # Get time for timestamping saved artefacts\n",
    "        now = datetime.now()\n",
    "        current_timestamp = now.strftime(\"%d%m%Y_%H%M%S\")\n",
    "\n",
    "        os.makedirs(save_dir, exist_ok=True)\n",
    "        plt.savefig(f\"{save_dir}/{file_name}_{current_timestamp}.png\",\n",
    "                    bbox_inches='tight')"
   ]
  },
  {
   "cell_type": "code",
   "execution_count": null,
   "id": "d41c06c0-61dd-4230-8cfb-c7eef1accdeb",
   "metadata": {},
   "outputs": [],
   "source": [
    "plot_benchmarking_metrics(fig_title=\"Gene Expression Reconstruction Distribution Benchmarking Metrics\",\n",
    "                          df=df,\n",
    "                          y_col_name=\"gene_expr_recon_dist_\",\n",
    "                          save_fig=False)"
   ]
  },
  {
   "cell_type": "code",
   "execution_count": null,
   "id": "09c6efef-bab9-41e7-a3d2-0896bc022c6c",
   "metadata": {},
   "outputs": [],
   "source": [
    "experiment_name = \"benchmark_conv_layer_encoder\"\n",
    "\n",
    "runs = mlflow.search_runs(experiment_names=[experiment_name],\n",
    "                          output_format=\"list\")\n",
    "\n",
    "data = []\n",
    "for run in runs:\n",
    "    data.append({**run.data.metrics, **run.data.params})\n",
    "df = pd.DataFrame.from_dict(data)"
   ]
  },
  {
   "cell_type": "code",
   "execution_count": null,
   "id": "abe0037a-8ac2-46e9-a5f0-4257fdf3fde1",
   "metadata": {},
   "outputs": [],
   "source": [
    "fig, axes = plt.subplots(3, 2, sharey=True, figsize=(10, 10))\n",
    "fig.suptitle(\"Conv Layer Encoder Benchmarking Metrics\")\n",
    "\n",
    "# Graph Connectivity Distance\n",
    "sns.boxplot(data=df, ax=axes[0, 0], x=\"gcd\", y=\"conv_layer_encoder_\")\n",
    "axes[0, 0].set_title(\"GCD\")\n",
    "\n",
    "# Maximum Leiden Normalized Mutual Info\n",
    "sns.boxplot(data=df, ax=axes[0, 1], x=\"mlnmi\", y=\"conv_layer_encoder_\")\n",
    "axes[0, 1].set_title(\"MLNMI\")\n",
    "\n",
    "# Cell-Type Affinity Distance\n",
    "sns.boxplot(data=df, ax=axes[1, 0], x=\"cad\", y=\"conv_layer_encoder_\")\n",
    "axes[1, 0].set_title(\"CAD\")\n",
    "\n",
    "# Average Absolute Log Relative Cell-Type Local Inverse Simpson's Index\n",
    "sns.boxplot(data=df, ax=axes[1, 1], x=\"arclisi\", y=\"conv_layer_encoder_\")\n",
    "axes[1, 1].set_title(\"ARCLISI\")\n",
    "\n",
    "# Cell Classification Accuracy\n",
    "sns.boxplot(data=df, ax=axes[2, 0], x=\"cca\", y=\"conv_layer_encoder_\")\n",
    "axes[2, 0].set_title(\"CCA\")\n",
    "\n",
    "# Gene Expression Regression Mean Squared Error\n",
    "sns.boxplot(data=df, ax=axes[2, 1], x=\"germse\", y=\"conv_layer_encoder_\")\n",
    "axes[2, 1].set_title(\"GERMSE\")\n",
    "\n",
    "plt.subplots_adjust(left=0.1,\n",
    "                    bottom=0.1,\n",
    "                    right=0.9,\n",
    "                    top=0.9,\n",
    "                    wspace=0.4,\n",
    "                    hspace=0.4)"
   ]
  },
  {
   "cell_type": "code",
   "execution_count": null,
   "id": "5584acf5-1980-408c-8ed3-1130f7932abc",
   "metadata": {},
   "outputs": [],
   "source": []
  }
 ],
 "metadata": {
  "kernelspec": {
   "display_name": "Python 3 (ipykernel)",
   "language": "python",
   "name": "python3"
  },
  "language_info": {
   "codemirror_mode": {
    "name": "ipython",
    "version": 3
   },
   "file_extension": ".py",
   "mimetype": "text/x-python",
   "name": "python",
   "nbconvert_exporter": "python",
   "pygments_lexer": "ipython3",
   "version": "3.9.15"
  }
 },
 "nbformat": 4,
 "nbformat_minor": 5
}
