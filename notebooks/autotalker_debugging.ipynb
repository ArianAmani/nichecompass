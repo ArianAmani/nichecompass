{
 "cells": [
  {
   "cell_type": "markdown",
   "id": "1b1daabf-c8e3-43d4-aa32-9789abcc8619",
   "metadata": {},
   "source": [
    "# Autotalker Debugging"
   ]
  },
  {
   "cell_type": "markdown",
   "id": "c325d921-2077-42b3-90a8-6f6c7dd928c5",
   "metadata": {},
   "source": [
    "- **Creator**: Sebastian Birk (<sebastian.birk@helmholtz-munich.de>).\n",
    "- **Affiliation:** Helmholtz Munich, Institute of Computational Biology (ICB), Talavera-López Lab\n",
    "- **Date of Creation:** 07.12.2022\n",
    "- **Date of Last Modification:** 20.01.2023"
   ]
  },
  {
   "cell_type": "markdown",
   "id": "2d464ebf-354f-4f61-8040-c3dcbcc893b9",
   "metadata": {},
   "source": [
    "## 1. Setup"
   ]
  },
  {
   "cell_type": "markdown",
   "id": "d5631277-d8d2-4194-a376-280f4f149b7d",
   "metadata": {},
   "source": [
    "### 1.1 Import Libraries"
   ]
  },
  {
   "cell_type": "code",
   "execution_count": 1,
   "id": "4e5d3297-0290-47c0-846f-705e74cdb3de",
   "metadata": {},
   "outputs": [],
   "source": [
    "%load_ext autoreload\n",
    "%autoreload 2"
   ]
  },
  {
   "cell_type": "code",
   "execution_count": 2,
   "id": "8dbd4925-7505-4d01-bf91-95b54bb8b533",
   "metadata": {},
   "outputs": [],
   "source": [
    "import sys\n",
    "sys.path.append(\"..\")"
   ]
  },
  {
   "cell_type": "code",
   "execution_count": 3,
   "id": "b4aa3c6a-5a44-4cf1-84a3-5e514457cf3c",
   "metadata": {},
   "outputs": [],
   "source": [
    "import argparse\n",
    "import os\n",
    "import random\n",
    "import warnings\n",
    "from copy import deepcopy\n",
    "from datetime import datetime\n",
    "\n",
    "import anndata as ad\n",
    "import matplotlib\n",
    "import matplotlib.pyplot as plt\n",
    "import mlflow\n",
    "import numpy as np\n",
    "import pandas as pd\n",
    "import scanpy as sc\n",
    "import scipy.sparse as sp\n",
    "import seaborn as sns\n",
    "import squidpy as sq\n",
    "import torch\n",
    "from matplotlib.pyplot import rc_context\n",
    "\n",
    "from autotalker.models import Autotalker\n",
    "from autotalker.utils import (add_gps_from_gp_dict_to_adata,\n",
    "                              extract_gp_dict_from_mebocost_es_interactions,\n",
    "                              extract_gp_dict_from_nichenet_ligand_target_mx,\n",
    "                              extract_gp_dict_from_omnipath_lr_interactions,\n",
    "                              filter_and_combine_gp_dict_gps)"
   ]
  },
  {
   "cell_type": "markdown",
   "id": "9f91f345-c297-47cb-8650-c6d9c60a8b7e",
   "metadata": {},
   "source": [
    "### 1.2 Define Parameters"
   ]
  },
  {
   "cell_type": "code",
   "execution_count": 4,
   "id": "a4d4e6d9-239f-47c5-a30b-579b16d4c27c",
   "metadata": {},
   "outputs": [],
   "source": [
    "## Dataset\n",
    "dataset = \"seqfish_mouse_organogenesis_embryo2\"\n",
    "#dataset = \"vizgen_merfish_mouse_liver\"\n",
    "#dataset = \"starmap_plus_mouse_cns\"\n",
    "#dataset = \"nanostring_cosmx_human_nsclc\"\n",
    "spatial_neighborhood_graph_method = \"knn_symmetric\"\n",
    "n_neighbors = 4\n",
    "radius = 0.03094 # for spatial neighborhood graph (2 neighbors on average)\n",
    "\n",
    "## Model\n",
    "# AnnData Keys\n",
    "counts_key = \"counts\"\n",
    "cell_type_key = \"celltype_mapped_refined\"\n",
    "adj_key = \"spatial_connectivities\"\n",
    "spatial_key = \"spatial\"\n",
    "gp_names_key = \"autotalker_gp_names\"\n",
    "active_gp_names_key = \"autotalker_active_gp_names\"\n",
    "gp_targets_mask_key = \"autotalker_gp_targets\"\n",
    "gp_sources_mask_key = \"autotalker_gp_sources\"\n",
    "latent_key = \"autotalker_latent\"\n",
    "condition_key = \"sample\"\n",
    "\n",
    "# Architecture\n",
    "active_gp_thresh_ratio = 0.03\n",
    "gene_expr_recon_dist = \"nb\"\n",
    "\n",
    "# Trainer\n",
    "n_epochs = 1\n",
    "n_epochs_all_gps = 1\n",
    "lr = 0.001\n",
    "lambda_l1_addon = 0.1\n",
    "\n",
    "## Others\n",
    "random_seed = 42"
   ]
  },
  {
   "cell_type": "markdown",
   "id": "a6c3b7fa-fa59-43dd-81d2-7e116650915f",
   "metadata": {},
   "source": [
    "### 1.3 Run Notebook Setup"
   ]
  },
  {
   "cell_type": "code",
   "execution_count": 5,
   "id": "924032d4-24a4-45cf-87e1-0eba197da0c2",
   "metadata": {},
   "outputs": [],
   "source": [
    "# Ignore future warnings and user warnings\n",
    "warnings.simplefilter(action=\"ignore\", category=FutureWarning)\n",
    "warnings.simplefilter(action=\"ignore\", category=UserWarning)"
   ]
  },
  {
   "cell_type": "code",
   "execution_count": 6,
   "id": "ab22fbaf-aeed-464b-8a20-b640b9e055fd",
   "metadata": {},
   "outputs": [],
   "source": [
    "# Get time of notebook execution for timestamping saved artifacts\n",
    "now = datetime.now()\n",
    "current_timestamp = now.strftime(\"%d%m%Y_%H%M%S\")"
   ]
  },
  {
   "cell_type": "markdown",
   "id": "2b886225-6b6d-433c-b117-47b9a8f8091f",
   "metadata": {},
   "source": [
    "### 1.4 Configure Paths and Create Directories"
   ]
  },
  {
   "cell_type": "code",
   "execution_count": 7,
   "id": "36675337-808d-40a9-93fc-d6cfa9473f66",
   "metadata": {},
   "outputs": [],
   "source": [
    "# Define paths\n",
    "figure_path = f\"../figures/{dataset}/analysis/{current_timestamp}\"\n",
    "model_artifacts_path = f\"../model_artifacts/{dataset}/analysis\"\n",
    "gp_data_folder_path = \"../datasets/gp_data\" # gene program data\n",
    "srt_data_folder_path = \"../datasets/srt_data\" # spatially resolved transcriptomics data\n",
    "srt_data_gold_folder_path = f\"{srt_data_folder_path}/gold\"\n",
    "nichenet_ligand_target_mx_file_path = gp_data_folder_path + \"/nichenet_ligand_target_matrix.csv\"\n",
    "omnipath_lr_interactions_file_path = gp_data_folder_path + \"/omnipath_lr_interactions.csv\"\n",
    "\n",
    "# Create required directories\n",
    "os.makedirs(figure_path, exist_ok=True)\n",
    "os.makedirs(model_artifacts_path, exist_ok=True)"
   ]
  },
  {
   "cell_type": "markdown",
   "id": "fd883193-8aa9-4809-aeac-cacb478df22b",
   "metadata": {
    "tags": []
   },
   "source": [
    "## 2. Data"
   ]
  },
  {
   "cell_type": "markdown",
   "id": "049f6853-5dc1-4b68-9240-c4b6a00f1514",
   "metadata": {},
   "source": [
    "### 2.1 Load Data & Compute Spatial Neighbor Graph"
   ]
  },
  {
   "cell_type": "code",
   "execution_count": 8,
   "id": "e9be7111-01fc-451a-83c2-5e20eccafbc1",
   "metadata": {},
   "outputs": [],
   "source": [
    "adata = ad.read_h5ad(f\"{srt_data_gold_folder_path}/{dataset}.h5ad\")"
   ]
  },
  {
   "cell_type": "code",
   "execution_count": 9,
   "id": "ada889e3-9efd-4371-af10-1c17c68be3cc",
   "metadata": {},
   "outputs": [],
   "source": [
    "if spatial_neighborhood_graph_method == \"radius\":\n",
    "    # Compute spatial neighborhood\n",
    "    sq.gr.spatial_neighbors(adata,\n",
    "                            coord_type=\"generic\",\n",
    "                            spatial_key=spatial_key,\n",
    "                            radius=radius)\n",
    "elif spatial_neighborhood_graph_method == \"knn_symmetric\":\n",
    "    # Compute spatial neighborhood\n",
    "    sq.gr.spatial_neighbors(adata,\n",
    "                            coord_type=\"generic\",\n",
    "                            spatial_key=spatial_key,\n",
    "                            n_neighs=n_neighbors)\n",
    "    # Make adjacency matrix symmetric\n",
    "    adata.obsp[\"spatial_connectivities\"] = adata.obsp[\"spatial_connectivities\"].maximum(adata.obsp[\"spatial_connectivities\"].T)"
   ]
  },
  {
   "cell_type": "markdown",
   "id": "1f53d723-4fd7-49dc-844b-58cf8b9585a2",
   "metadata": {},
   "source": [
    "## 3. Train Autotalker Model with Prior Knowledge Cell-Cell-Interaction (CCI) Gene Programs (GPs)"
   ]
  },
  {
   "cell_type": "markdown",
   "id": "dac907fa-88f6-452d-add9-fc3dcd2f99e0",
   "metadata": {},
   "source": [
    "### 3.1 Create Prior Knowledge CCI GP Mask"
   ]
  },
  {
   "cell_type": "code",
   "execution_count": 10,
   "id": "ce3d2721-7054-4761-8032-e1641c2523a3",
   "metadata": {},
   "outputs": [],
   "source": [
    "nichenet_gp_dict = extract_gp_dict_from_nichenet_ligand_target_mx(\n",
    "    keep_target_ratio=0.01,\n",
    "    load_from_disk=True,\n",
    "    save_to_disk=False,\n",
    "    file_path=nichenet_ligand_target_mx_file_path)"
   ]
  },
  {
   "cell_type": "code",
   "execution_count": 11,
   "id": "5c9d262a-f54a-40bc-aa63-eb6f42a28886",
   "metadata": {},
   "outputs": [],
   "source": [
    "omnipath_gp_dict = extract_gp_dict_from_omnipath_lr_interactions(\n",
    "    min_curation_effort=0,\n",
    "    load_from_disk=True,\n",
    "    save_to_disk=False,\n",
    "    file_path=omnipath_lr_interactions_file_path)"
   ]
  },
  {
   "cell_type": "code",
   "execution_count": 12,
   "id": "ae0f307d-68f8-4003-89bc-b9ded45569a9",
   "metadata": {},
   "outputs": [],
   "source": [
    "mebocost_gp_dict = extract_gp_dict_from_mebocost_es_interactions(\n",
    "    dir_path=f\"{gp_data_folder_path}/metabolite_enzyme_sensor_gps/\",\n",
    "    species=\"mouse\",\n",
    "    genes_uppercase=True)"
   ]
  },
  {
   "cell_type": "code",
   "execution_count": 13,
   "id": "85b8c216-c3e0-43bb-8de6-24796912dd67",
   "metadata": {},
   "outputs": [],
   "source": [
    "# Combine gene programs into one dictionary\n",
    "combined_gp_dict = dict(nichenet_gp_dict)\n",
    "combined_gp_dict.update(omnipath_gp_dict)\n",
    "combined_gp_dict.update(mebocost_gp_dict)"
   ]
  },
  {
   "cell_type": "code",
   "execution_count": 14,
   "id": "cdc8cb30-2ad9-4903-9a8d-4deb60ffcbbb",
   "metadata": {},
   "outputs": [
    {
     "name": "stdout",
     "output_type": "stream",
     "text": [
      "Number of gene programs before filtering and combining: 1725.\n",
      "Number of gene programs after filtering and combining: 1725.\n"
     ]
    }
   ],
   "source": [
    "# Filter and combine gene programs\n",
    "combined_new_gp_dict = filter_and_combine_gp_dict_gps(\n",
    "    gp_dict=combined_gp_dict,\n",
    "    gp_filter_mode=None, #None,\n",
    "    combine_overlap_gps=False, #True,\n",
    "    overlap_thresh_source_genes=0.9,\n",
    "    overlap_thresh_target_genes=0.9,\n",
    "    overlap_thresh_genes=0.9,\n",
    "    verbose=True)\n",
    "\n",
    "print(f\"Number of gene programs before filtering and combining: {len(combined_gp_dict)}.\")\n",
    "print(f\"Number of gene programs after filtering and combining: {len(combined_new_gp_dict)}.\")"
   ]
  },
  {
   "cell_type": "code",
   "execution_count": 15,
   "id": "96904c26-a72f-44d6-ba1b-9b8818ccee3c",
   "metadata": {},
   "outputs": [],
   "source": [
    "# Add the gene program dictionary as binary masks to the adata for model training\n",
    "add_gps_from_gp_dict_to_adata(\n",
    "    gp_dict=combined_new_gp_dict,\n",
    "    adata=adata,\n",
    "    genes_uppercase=True,\n",
    "    gp_targets_mask_key=\"autotalker_gp_targets\",\n",
    "    gp_sources_mask_key=\"autotalker_gp_sources\",\n",
    "    gp_names_key=\"autotalker_gp_names\",\n",
    "    min_genes_per_gp=1,\n",
    "    min_source_genes_per_gp=0,\n",
    "    min_target_genes_per_gp=0,\n",
    "    max_genes_per_gp=None,\n",
    "    max_source_genes_per_gp=None,\n",
    "    max_target_genes_per_gp=None,\n",
    "    filter_genes_not_in_masks=False)\n",
    "\n",
    "# Determine dimensionality of hidden encoder\n",
    "n_hidden_encoder = len(adata.uns[\"autotalker_gp_names\"])"
   ]
  },
  {
   "cell_type": "code",
   "execution_count": 16,
   "id": "ffaa16ff-7391-42b7-8bcc-62ddb43c3502",
   "metadata": {},
   "outputs": [
    {
     "name": "stdout",
     "output_type": "stream",
     "text": [
      "Number of gene programs with probed genes: 499.\n",
      "Example gene programs: ['PTDSS1_ligand_targetgenes_GP', 'APP_ligand_targetgenes_GP', 'SELE_ligand_targetgenes_GP', 'PDGFB_ligand_targetgenes_GP', 'Phosphate_metabolite_enzyme_sensor_GP'].\n",
      "Number of gene program target genes: 7478.\n",
      "Number of gene program source genes: 135.\n"
     ]
    }
   ],
   "source": [
    "# Summarize gene programs\n",
    "print(f\"Number of gene programs with probed genes: {len(adata.uns['autotalker_gp_names'])}.\")\n",
    "print(f\"Example gene programs: {random.sample(list(adata.uns['autotalker_gp_names']), 5)}.\")\n",
    "print(f\"Number of gene program target genes: {adata.varm['autotalker_gp_targets'].sum()}.\")\n",
    "print(f\"Number of gene program source genes: {adata.varm['autotalker_gp_sources'].sum()}.\")"
   ]
  },
  {
   "cell_type": "markdown",
   "id": "2d621701-56aa-4b22-90c6-20e5d1166774",
   "metadata": {},
   "source": [
    "### 3.2 Initialize, Train & Save Model"
   ]
  },
  {
   "cell_type": "code",
   "execution_count": 17,
   "id": "b153e8e9-58fc-46f1-b230-cff0590df4f7",
   "metadata": {},
   "outputs": [
    {
     "name": "stdout",
     "output_type": "stream",
     "text": [
      "--- INITIALIZING NEW NETWORK MODULE: VARIATIONAL GENE PROGRAM GRAPH AUTOENCODER ---\n",
      "LOSS -> include_edge_recon_loss: True, include_gene_expr_recon_loss: True, gene_expr_recon_dist: nb\n",
      "NODE LABEL METHOD -> one-hop-attention\n",
      "ACTIVE GP THRESHOLD RATIO -> 0.03\n",
      "LOG VARIATIONAL -> True\n",
      "CONDITIONAL EMBEDDING INJECTION -> ['encoder', 'gene_expr_decoder']\n",
      "GRAPH ENCODER -> n_input: 351, n_cond_embed_input: 10, n_hidden: 499, n_latent: 499, n_addon_latent: 0, conv_layer: gcnconv, n_attention_heads: 0, dropout_rate: 0.0\n",
      "DOT PRODUCT GRAPH DECODER -> dropout_rate: 0.0\n",
      "MASKED GENE EXPRESSION DECODER -> n_input: 499, n_cond_embed_input: 10, n_addon_input: 0, n_output: 702\n"
     ]
    }
   ],
   "source": [
    "# Initialize model\n",
    "model = Autotalker(adata,\n",
    "                   counts_key=counts_key,\n",
    "                   adj_key=adj_key,\n",
    "                   condition_key=condition_key,\n",
    "                   # cond_embed_injection=[\"encoder\", \"gene_expr_decoder\"],\n",
    "                   # n_cond_embed=100,\n",
    "                   gp_names_key=gp_names_key,\n",
    "                   active_gp_names_key=active_gp_names_key,\n",
    "                   gp_targets_mask_key=gp_targets_mask_key,\n",
    "                   gp_sources_mask_key=gp_sources_mask_key,\n",
    "                   latent_key=latent_key,\n",
    "                   active_gp_thresh_ratio=active_gp_thresh_ratio,\n",
    "                   gene_expr_recon_dist=gene_expr_recon_dist,\n",
    "                   n_hidden_encoder=n_hidden_encoder,\n",
    "                   n_addon_gps=0,\n",
    "                   node_label_method=\"one-hop-attention\")"
   ]
  },
  {
   "cell_type": "code",
   "execution_count": 18,
   "id": "35180e43-529c-4f91-8219-729b3b7bf0ec",
   "metadata": {},
   "outputs": [
    {
     "name": "stdout",
     "output_type": "stream",
     "text": [
      "--- INITIALIZING TRAINER ---\n",
      "Number of training nodes: 12767\n",
      "Number of validation nodes: 1418\n",
      "Number of training edges: 30388\n",
      "Number of validation edges: 3376\n",
      "\n",
      "--- MODEL TRAINING ---\n",
      "Epoch 1/5 |████----------------| 20.0% val_auroc_score: 0.9602; val_auprc_score: 0.9332; val_best_acc_score: 0.9114; val_best_f1_score: 0.9184; train_kl_reg_loss: 0.1625; train_edge_recon_loss: 2.8912; train_gene_expr_recon_loss: 122.0601; train_group_lasso_reg_loss: 0.0000; train_global_loss: 125.1138; train_optim_loss: 125.1138; val_kl_reg_loss: 0.2194; val_edge_recon_loss: 1.5341; val_gene_expr_recon_loss: 110.9261; val_group_lasso_reg_loss: 0.0000; val_global_loss: 112.6796; val_optim_loss: 112.6796\n",
      "Epoch 2/5 |████████------------| 40.0% val_auroc_score: 0.9692; val_auprc_score: 0.9443; val_best_acc_score: 0.9191; val_best_f1_score: 0.9251; train_kl_reg_loss: 0.2242; train_edge_recon_loss: 1.5911; train_gene_expr_recon_loss: 109.2939; train_group_lasso_reg_loss: 0.0000; train_global_loss: 111.1092; train_optim_loss: 111.1092; val_kl_reg_loss: 0.2251; val_edge_recon_loss: 1.4698; val_gene_expr_recon_loss: 106.6032; val_group_lasso_reg_loss: 0.0000; val_global_loss: 108.2982; val_optim_loss: 108.2982\n",
      "Epoch 3/5 |████████████--------| 60.0% val_auroc_score: 0.9752; val_auprc_score: 0.9542; val_best_acc_score: 0.9230; val_best_f1_score: 0.9285; train_kl_reg_loss: 0.2404; train_edge_recon_loss: 1.5458; train_gene_expr_recon_loss: 105.6720; train_group_lasso_reg_loss: 0.0000; train_global_loss: 107.4581; train_optim_loss: 107.4581; val_kl_reg_loss: 0.2461; val_edge_recon_loss: 1.4538; val_gene_expr_recon_loss: 103.9314; val_group_lasso_reg_loss: 0.0000; val_global_loss: 105.6313; val_optim_loss: 105.6313\n",
      "Epoch 4/5 |████████████████----| 80.0% val_auroc_score: 0.9799; val_auprc_score: 0.9620; val_best_acc_score: 0.9286; val_best_f1_score: 0.9334; train_kl_reg_loss: 0.2694; train_edge_recon_loss: 1.4518; train_gene_expr_recon_loss: 103.2147; train_group_lasso_reg_loss: 0.0000; train_global_loss: 104.9359; train_optim_loss: 104.9359; val_kl_reg_loss: 0.2856; val_edge_recon_loss: 1.3530; val_gene_expr_recon_loss: 103.0250; val_group_lasso_reg_loss: 0.0000; val_global_loss: 104.6636; val_optim_loss: 104.6636\n",
      "Epoch 5/5 |████████████████████| 100.0% val_auroc_score: 0.9817; val_auprc_score: 0.9656; val_best_acc_score: 0.9237; val_best_f1_score: 0.9291; train_kl_reg_loss: 0.2931; train_edge_recon_loss: 1.3818; train_gene_expr_recon_loss: 101.5378; train_group_lasso_reg_loss: 0.0000; train_global_loss: 103.2126; train_optim_loss: 103.2126; val_kl_reg_loss: 0.3061; val_edge_recon_loss: 1.3719; val_gene_expr_recon_loss: 101.2280; val_group_lasso_reg_loss: 0.0000; val_global_loss: 102.9059; val_optim_loss: 102.9059\n",
      "\n",
      "Model training finished after 1 min 12 sec.\n",
      "Using best model state, which was in epoch 5.\n",
      "\n",
      "--- MODEL EVALUATION ---\n",
      "Val AUROC score: 0.9844\n",
      "Val AUPRC score: 0.9704\n",
      "Val best accuracy score: 0.9271\n",
      "Val best F1 score: 0.9321\n",
      "Val MSE score: 1.0152\n"
     ]
    }
   ],
   "source": [
    "# Train model\n",
    "model.train(5,\n",
    "            n_epochs_all_gps=n_epochs_all_gps,\n",
    "            lr=lr,\n",
    "            edge_batch_size=64,\n",
    "            node_batch_size=64,\n",
    "            loaders_n_direct_neighbors=-1,\n",
    "            verbose=True)"
   ]
  },
  {
   "cell_type": "code",
   "execution_count": null,
   "id": "f2abbb4e-aae7-4f5e-9d9a-68c2ec11c9bf",
   "metadata": {},
   "outputs": [],
   "source": [
    "# Save trained model\n",
    "model.save(dir_path=f\"../model_artifacts/{dataset}/analysis/autotalker_combined_gps_{current_timestamp}\",\n",
    "           overwrite=True,\n",
    "           save_adata=True,\n",
    "           adata_file_name=f\"{dataset}.h5ad\")"
   ]
  },
  {
   "cell_type": "code",
   "execution_count": null,
   "id": "5d06fe33-d9b8-4a72-9efd-69f97c42e09d",
   "metadata": {},
   "outputs": [],
   "source": []
  },
  {
   "cell_type": "code",
   "execution_count": null,
   "id": "eeb497b0-e0cf-4f33-8b33-a4859f969076",
   "metadata": {},
   "outputs": [],
   "source": [
    "len(adata.uns[\"autotalker_target_genes_idx\"])"
   ]
  },
  {
   "cell_type": "markdown",
   "id": "7973cba5-1cab-4ce8-b76f-6e3af8ae46f5",
   "metadata": {},
   "source": [
    "## 4. Analysis"
   ]
  },
  {
   "cell_type": "code",
   "execution_count": null,
   "id": "6c8a8b05-e49a-497f-900a-6b70a9a79083",
   "metadata": {},
   "outputs": [],
   "source": [
    "# Load trained model\n",
    "model = Autotalker.load(dir_path=f\"../model_artifacts/{dataset}/analysis/autotalker_combined_gps_{current_timestamp}\",\n",
    "                        adata=None,\n",
    "                        adata_file_name=f\"{dataset}.h5ad\",\n",
    "                        gp_names_key=\"autotalker_gp_names\")"
   ]
  },
  {
   "cell_type": "code",
   "execution_count": null,
   "id": "5d832601-d2cf-4ddb-af1a-9dac23c6528b",
   "metadata": {},
   "outputs": [],
   "source": [
    "# Check number of active gene programs\n",
    "active_gps = model.get_active_gps()\n",
    "print(f\"Number of total gene programs: {len(model.adata.uns[gp_names_key])}.\")\n",
    "print(f\"Number of active gene programs: {len(active_gps)}.\")"
   ]
  },
  {
   "cell_type": "code",
   "execution_count": null,
   "id": "a54055fc-9182-4798-bf7d-7d40b5d9beef",
   "metadata": {},
   "outputs": [],
   "source": [
    "# Use autotalker latent space for UMAP generation\n",
    "sc.pp.neighbors(model.adata, use_rep=latent_key)\n",
    "sc.tl.umap(model.adata, min_dist=0.3)"
   ]
  },
  {
   "cell_type": "markdown",
   "id": "e2327693-3e14-421d-9447-69f37dc10944",
   "metadata": {},
   "source": [
    "### 4.1 Cell-type Annotations in Spatial and Latent Space"
   ]
  },
  {
   "cell_type": "code",
   "execution_count": null,
   "id": "3978e1bf-a054-41d6-8389-3dbbaac03579",
   "metadata": {},
   "outputs": [],
   "source": [
    "# Create subplot of cell-type annotations in physical and latent space\n",
    "fig, axs = plt.subplots(nrows=2, ncols=1, figsize=(10, 20))\n",
    "title = fig.suptitle(t=\"Cell-type Annotations in Spatial and Latent Space\",\n",
    "                     x=0.85,\n",
    "                     y=0.925,\n",
    "                     fontsize=20)\n",
    "sc.pl.spatial(adata=model.adata,\n",
    "              color=[cell_type_key],\n",
    "              spot_size=0.03,\n",
    "              title=\"Spatial Space\",\n",
    "              ax=axs[0],\n",
    "              show=False)\n",
    "sc.pl.umap(adata=model.adata,\n",
    "           color=[cell_type_key],\n",
    "           title=\"Latent Space\",\n",
    "           ax=axs[1],\n",
    "           show=False)\n",
    "\n",
    "# Create and position shared legend\n",
    "handles, labels = axs[0].get_legend_handles_labels()\n",
    "lgd = fig.legend(handles, labels, bbox_to_anchor=(1.225, 0.625))\n",
    "axs[0].get_legend().remove()\n",
    "axs[1].get_legend().remove()\n",
    "\n",
    "# Adjust, save and display plot\n",
    "plt.subplots_adjust(wspace=0, hspace=0.1)\n",
    "fig.savefig(f\"{figure_path}/cell_type_annotations_in_spatial_and_latent_space.png\",\n",
    "            bbox_extra_artists=(lgd, title),\n",
    "            bbox_inches=\"tight\")\n",
    "plt.show()"
   ]
  },
  {
   "cell_type": "markdown",
   "id": "92ef6859-0bdd-4f7b-bf71-3a8f182b982c",
   "metadata": {},
   "source": [
    "### 4.2 Latent Leiden Cluster Annotations in Latent and Spatial Space"
   ]
  },
  {
   "cell_type": "code",
   "execution_count": null,
   "id": "3f3c63dd-3fc7-4154-af1b-0dae55cf3c8d",
   "metadata": {},
   "outputs": [],
   "source": [
    "model.compute_latent_graph_connectivities(adata=model.adata,\n",
    "                                          n_neighbors=int(round(avg_edges_per_node)),\n",
    "                                          mode=\"knn\",\n",
    "                                          seed=random_seed)"
   ]
  },
  {
   "cell_type": "code",
   "execution_count": null,
   "id": "a6ad8032-956b-464b-8ead-ac6ea5dc6d26",
   "metadata": {},
   "outputs": [],
   "source": [
    "# Compute latent Leiden clustering\n",
    "resolution = 0.3\n",
    "\n",
    "sc.tl.leiden(adata=model.adata,\n",
    "             resolution=resolution,\n",
    "             random_state=random_seed,\n",
    "             key_added=f\"latent_leiden_{str(resolution)}\",\n",
    "             adjacency=model.adata.obsp[\"latent_connectivities\"])"
   ]
  },
  {
   "cell_type": "code",
   "execution_count": null,
   "id": "b8ad37d6-4503-4595-98cc-ac25d4a5ab89",
   "metadata": {},
   "outputs": [],
   "source": [
    "# Create subplot of latent Leiden cluster annotations in physical and latent space\n",
    "fig, axs = plt.subplots(nrows=2, ncols=1, figsize=(10, 20))\n",
    "title = fig.suptitle(t=\"Latent Leiden Cluster Annotations in Latent and Spatial Space\",\n",
    "                     x=0.85,\n",
    "                     y=0.925,\n",
    "                     fontsize=20)\n",
    "sc.pl.umap(adata=model.adata,\n",
    "           color=[f\"latent_leiden_{str(resolution)}\"],\n",
    "           title=f\"Latent Space\",\n",
    "           ax=axs[0],\n",
    "           show=False)\n",
    "sc.pl.spatial(adata=model.adata,\n",
    "              color=[f\"latent_leiden_{str(resolution)}\"],\n",
    "              spot_size=0.03,\n",
    "              title=f\"Spatial Space\",\n",
    "              ax=axs[1],\n",
    "              show=False)\n",
    "\n",
    "# Create and position shared legend\n",
    "handles, labels = axs[0].get_legend_handles_labels()\n",
    "lgd = fig.legend(handles, labels, bbox_to_anchor=(1.025, 0.7))\n",
    "axs[0].get_legend().remove()\n",
    "axs[1].get_legend().remove()\n",
    "\n",
    "# Adjust, save and display plot\n",
    "plt.subplots_adjust(wspace=0, hspace=0.1)\n",
    "fig.savefig(f\"{figure_path}/latent_leiden_cluster_annotations_in_latent_and_spatial_space.png\",\n",
    "            bbox_extra_artists=(lgd, title),\n",
    "            bbox_inches=\"tight\")\n",
    "plt.show()"
   ]
  },
  {
   "cell_type": "markdown",
   "id": "06e25698-fcfd-4f05-93b6-86cf42f17582",
   "metadata": {},
   "source": [
    "### 4.3 GP Enrichments"
   ]
  },
  {
   "cell_type": "markdown",
   "id": "fbbbfa47-3b4d-4ee3-a95f-0a4ab03bc6da",
   "metadata": {},
   "source": [
    "#### 4.3.1 Cell-type GP Enrichments"
   ]
  },
  {
   "cell_type": "code",
   "execution_count": null,
   "id": "adf68073-51ca-4c0f-977c-9d89f7f93867",
   "metadata": {},
   "outputs": [],
   "source": [
    "differential_gp_scores_key = \"autotalker_cell_type_differential_gp_scores\"\n",
    "n_top_up_gps = 6\n",
    "n_top_down_gps = 6"
   ]
  },
  {
   "cell_type": "markdown",
   "id": "97bbd6da-19b2-41c3-99f7-0438d60b5e7a",
   "metadata": {},
   "source": [
    "##### 4.3.1.1 Explore All GPs Across All Categories"
   ]
  },
  {
   "cell_type": "code",
   "execution_count": null,
   "id": "6cd1d337-8c7c-408b-af4c-ef1bc0db25a3",
   "metadata": {},
   "outputs": [],
   "source": [
    "# Compute gene program enrichments and retrieve top up- and downregulated gene programs\n",
    "top_unique_gps = model.compute_differential_gp_scores(cat_key=cell_type_key,\n",
    "                                                      adata=model.adata,\n",
    "                                                      selected_gps=None,\n",
    "                                                      selected_cats=None,\n",
    "                                                      gp_scores_weight_normalization=False,\n",
    "                                                      comparison_cats=\"rest\",\n",
    "                                                      n_sample=1000,\n",
    "                                                      key_added=differential_gp_scores_key,\n",
    "                                                      n_top_up_gps_retrieved=n_top_up_gps,\n",
    "                                                      n_top_down_gps_retrieved=n_top_down_gps,\n",
    "                                                      seed=random_seed)"
   ]
  },
  {
   "cell_type": "code",
   "execution_count": null,
   "id": "3c6841f3-20fc-46ba-976f-4cf3797146d6",
   "metadata": {},
   "outputs": [],
   "source": [
    "# Display top upregulated gene programs\n",
    "top_up_gp_df = model.adata.uns[differential_gp_scores_key][:n_top_up_gps]\n",
    "display(top_up_gp_df)"
   ]
  },
  {
   "cell_type": "code",
   "execution_count": null,
   "id": "88caddc2-7fc5-4e91-9c86-48d03771052e",
   "metadata": {},
   "outputs": [],
   "source": [
    "# Display top downregulated gene programs\n",
    "top_down_gp_df = model.adata.uns[differential_gp_scores_key][-n_top_down_gps:][::-1]\n",
    "display(top_down_gp_df)"
   ]
  },
  {
   "cell_type": "code",
   "execution_count": null,
   "id": "3303c3a8-d0ad-4f27-bd46-6244d710e9bf",
   "metadata": {},
   "outputs": [],
   "source": [
    "fig = sc.pl.dotplot(model.adata,\n",
    "                    top_unique_gps,\n",
    "                    groupby=cell_type_key,\n",
    "                    dendrogram=True, \n",
    "                    title=\"Differential GP Scores Per Cell-type\",\n",
    "                    return_fig=True)\n",
    "\n",
    "# Save and display plot\n",
    "fig.savefig(f\"{figure_path}/differential_gp_scores_per_cell_type_all_categories.png\")\n",
    "plt.show()"
   ]
  },
  {
   "cell_type": "code",
   "execution_count": null,
   "id": "65f355ac-0b4b-4a0f-91b0-679e7a331bf6",
   "metadata": {},
   "outputs": [],
   "source": [
    "top_cats = top_up_gp_df[\"category\"].append(top_down_gp_df[\"category\"]).to_list()\n",
    "top_gps = top_up_gp_df[\"gene_program\"].append(top_down_gp_df[\"gene_program\"]).to_list()\n",
    "top_genes = []\n",
    "\n",
    "for gp in top_gps:\n",
    "    top_genes.append(\n",
    "        model.compute_gp_gene_importances(selected_gp=gp)[\"gene\"][0])"
   ]
  },
  {
   "cell_type": "code",
   "execution_count": null,
   "id": "fc60fac3-f5d4-4fa3-b081-db025e15d455",
   "metadata": {},
   "outputs": [],
   "source": [
    "# Plot selected gene program latent scores\n",
    "fig, axs = plt.subplots(nrows=n_top_up_gps+n_top_down_gps, ncols=3, figsize=(18, 4*len(top_gps)))\n",
    "title = fig.suptitle(t=\"Differential GP Scores, Corresponding Cell-Types and Most Important GP Genes in Latent Space\",\n",
    "                     x=0.55,\n",
    "                     y=0.96,\n",
    "                     fontsize=20)\n",
    "for i in range(len(top_gps)):\n",
    "    sc.pl.umap(model.adata, color=top_gps[i], color_map=\"magma\", ax=axs[i, 0], show=False)\n",
    "    sc.pl.umap(model.adata,\n",
    "               color=[cell_type_key],\n",
    "               color_map=\"magma\",\n",
    "               groups=top_cats[i],\n",
    "               ax=axs[i, 1],\n",
    "               legend_loc=\"on data\",\n",
    "               na_in_legend=False,\n",
    "               show=False)\n",
    "    sc.pl.umap(model.adata,\n",
    "               color=top_genes[i],\n",
    "               color_map=\"binary\",\n",
    "               ax=axs[i, 2],\n",
    "               legend_loc=\"on data\",\n",
    "               na_in_legend=False,\n",
    "               show=False)\n",
    "    \n",
    "# Save and display plot\n",
    "fig.savefig(f\"{figure_path}/cell_type_gp_scores_cell_types_most_important_genes_all_categories.png\",\n",
    "            bbox_extra_artists=(title,),\n",
    "            bbox_inches=\"tight\")\n",
    "plt.show()"
   ]
  },
  {
   "cell_type": "markdown",
   "id": "dc75ff5a-84e5-403f-baf9-125bc593f2b8",
   "metadata": {},
   "source": [
    "##### 4.3.1.2 Explore All GPs Across Specific Categories"
   ]
  },
  {
   "cell_type": "code",
   "execution_count": null,
   "id": "ef8a5bc9-e9e0-4f54-b4d9-9917d734033b",
   "metadata": {},
   "outputs": [],
   "source": [
    "selected_cats = [\"Erythroid\", \"Cardiomyocytes\"]"
   ]
  },
  {
   "cell_type": "code",
   "execution_count": null,
   "id": "13dda992-e162-4ad5-8f1a-3e586d053376",
   "metadata": {},
   "outputs": [],
   "source": [
    "# Compute gene program enrichments and retrieve top up- and downregulated gene programs\n",
    "top_unique_gps = model.compute_differential_gp_scores(cat_key=cell_type_key,\n",
    "                                                      adata=model.adata,\n",
    "                                                      selected_gps=None,\n",
    "                                                      selected_cats=selected_cats,\n",
    "                                                      gp_scores_weight_normalization=False,\n",
    "                                                      comparison_cats=\"rest\",\n",
    "                                                      n_sample=1000,\n",
    "                                                      key_added=differential_gp_scores_key,\n",
    "                                                      n_top_up_gps_retrieved=n_top_up_gps,\n",
    "                                                      n_top_down_gps_retrieved=n_top_down_gps,\n",
    "                                                      seed=random_seed)"
   ]
  },
  {
   "cell_type": "code",
   "execution_count": null,
   "id": "7d3983fd-a368-4619-a98e-1141aec0a2d6",
   "metadata": {},
   "outputs": [],
   "source": [
    "# Display top upregulated gene programs\n",
    "top_up_gp_df = model.adata.uns[differential_gp_scores_key][:n_top_up_gps]\n",
    "display(top_up_gp_df)"
   ]
  },
  {
   "cell_type": "code",
   "execution_count": null,
   "id": "7626e032-4cb1-4596-a2bc-31a102404614",
   "metadata": {},
   "outputs": [],
   "source": [
    "# Display top downregulated gene programs\n",
    "top_down_gp_df = model.adata.uns[differential_gp_scores_key][-n_top_down_gps:][::-1]\n",
    "display(top_down_gp_df)"
   ]
  },
  {
   "cell_type": "code",
   "execution_count": null,
   "id": "acd0c490-e958-4a31-8fa2-90aa35fddcf2",
   "metadata": {},
   "outputs": [],
   "source": [
    "fig = sc.pl.dotplot(model.adata,\n",
    "                    top_unique_gps,\n",
    "                    groupby=cell_type_key,\n",
    "                    dendrogram=True, \n",
    "                    title=\"Differential GP Scores Per Cell-type\",\n",
    "                    return_fig=True)\n",
    "\n",
    "# Save and display plot\n",
    "fig.savefig(f\"{figure_path}/differential_gp_scores_per_cell_type_specific_categories.png\")\n",
    "plt.show()"
   ]
  },
  {
   "cell_type": "code",
   "execution_count": null,
   "id": "2416d033-8c0b-4ee5-9410-c61f16eeed33",
   "metadata": {},
   "outputs": [],
   "source": [
    "top_cats = top_up_gp_df[\"category\"].append(top_down_gp_df[\"category\"]).to_list()\n",
    "top_gps = top_up_gp_df[\"gene_program\"].append(top_down_gp_df[\"gene_program\"]).to_list()\n",
    "top_genes = []\n",
    "\n",
    "for gp in top_gps:\n",
    "    top_genes.append(\n",
    "        model.compute_gp_gene_importances(selected_gp=gp)[\"gene\"][0])"
   ]
  },
  {
   "cell_type": "code",
   "execution_count": null,
   "id": "4420ecd1-176a-4829-82e4-670cb0205d01",
   "metadata": {},
   "outputs": [],
   "source": [
    "# Plot selected gene program latent scores\n",
    "fig, axs = plt.subplots(nrows=n_top_up_gps+n_top_down_gps, ncols=3, figsize=(18, 4*len(top_gps)))\n",
    "title = fig.suptitle(t=\"Differential GP Scores, Corresponding Cell-Types and Most Important GP Genes in Latent Space\",\n",
    "                     x=0.55,\n",
    "                     y=0.96,\n",
    "                     fontsize=20)\n",
    "for i in range(len(top_gps)):\n",
    "    sc.pl.umap(model.adata, color=top_gps[i], color_map=\"magma\", ax=axs[i, 0], show=False)\n",
    "    sc.pl.umap(model.adata,\n",
    "               color=[cell_type_key],\n",
    "               color_map=\"magma\",\n",
    "               groups=top_cats[i],\n",
    "               ax=axs[i, 1],\n",
    "               legend_loc=\"on data\",\n",
    "               na_in_legend=False,\n",
    "               show=False)\n",
    "    sc.pl.umap(model.adata,\n",
    "               color=top_genes[i],\n",
    "               color_map=\"binary\",\n",
    "               ax=axs[i, 2],\n",
    "               legend_loc=\"on data\",\n",
    "               na_in_legend=False,\n",
    "               show=False)\n",
    "    \n",
    "# Save and display plot\n",
    "fig.savefig(f\"{figure_path}/cell_type_gp_scores_cell_types_most_important_genes_specific_categories.png\",\n",
    "            bbox_extra_artists=(title,),\n",
    "            bbox_inches=\"tight\")\n",
    "plt.show()"
   ]
  },
  {
   "cell_type": "markdown",
   "id": "59cc2592-7588-4998-bd9f-5d76f859c492",
   "metadata": {},
   "source": [
    "##### 4.3.1.3 Explore Specific GPs"
   ]
  },
  {
   "cell_type": "code",
   "execution_count": null,
   "id": "a01e0687-a1fa-4ffd-90a5-9399ab7b2267",
   "metadata": {},
   "outputs": [],
   "source": [
    "selected_gps = [\"BMP7_ligand_targetgenes_GP\", \"EPOR_ligand_receptor_GP\"]"
   ]
  },
  {
   "cell_type": "code",
   "execution_count": null,
   "id": "ed3ca3c5-1bc0-4062-b576-eb6afb7f570b",
   "metadata": {},
   "outputs": [],
   "source": [
    "# Compute gene program enrichments and retrieve top up- and downregulated gene programs\n",
    "top_unique_gps = model.compute_differential_gp_scores(cat_key=cell_type_key,\n",
    "                                                      adata=model.adata,\n",
    "                                                      selected_gps=selected_gps,\n",
    "                                                      selected_cats=None,\n",
    "                                                      gp_scores_weight_normalization=False,\n",
    "                                                      comparison_cats=\"rest\",\n",
    "                                                      n_sample=1000,\n",
    "                                                      key_added=differential_gp_scores_key,\n",
    "                                                      n_top_up_gps_retrieved=n_top_up_gps,\n",
    "                                                      n_top_down_gps_retrieved=n_top_down_gps,\n",
    "                                                      seed=random_seed)"
   ]
  },
  {
   "cell_type": "code",
   "execution_count": null,
   "id": "843a8df5-ac27-4bcf-9994-738f17fe6869",
   "metadata": {},
   "outputs": [],
   "source": [
    "# Display top upregulated gene programs\n",
    "top_up_gp_df = model.adata.uns[differential_gp_scores_key][:n_top_up_gps]\n",
    "display(top_up_gp_df)"
   ]
  },
  {
   "cell_type": "code",
   "execution_count": null,
   "id": "5d94fd6b-4386-4246-a753-1eadc5af75c8",
   "metadata": {},
   "outputs": [],
   "source": [
    "# Display top downregulated gene programs\n",
    "top_down_gp_df = model.adata.uns[differential_gp_scores_key][-n_top_down_gps:][::-1]\n",
    "display(top_down_gp_df)"
   ]
  },
  {
   "cell_type": "code",
   "execution_count": null,
   "id": "15aab884-db27-4428-a950-9e0fc8d32d6e",
   "metadata": {},
   "outputs": [],
   "source": [
    "fig = sc.pl.dotplot(model.adata,\n",
    "                    top_unique_gps,\n",
    "                    groupby=cell_type_key,\n",
    "                    dendrogram=True, \n",
    "                    title=\"Differential GP Scores Per Cell-type\",\n",
    "                    return_fig=True)\n",
    "\n",
    "# Save and display plot\n",
    "fig.savefig(f\"{figure_path}/differential_gp_scores_per_cell_type_specific_gps.png\")\n",
    "plt.show()"
   ]
  },
  {
   "cell_type": "code",
   "execution_count": null,
   "id": "2bc5ee00-36fb-4cf5-8ed6-527ffbfae293",
   "metadata": {},
   "outputs": [],
   "source": [
    "top_cats = top_up_gp_df[\"category\"].append(top_down_gp_df[\"category\"]).to_list()\n",
    "top_gps = top_up_gp_df[\"gene_program\"].append(top_down_gp_df[\"gene_program\"]).to_list()\n",
    "top_genes = []\n",
    "\n",
    "for gp in top_gps:\n",
    "    top_genes.append(\n",
    "        model.compute_gp_gene_importances(selected_gp=gp)[\"gene\"][0])"
   ]
  },
  {
   "cell_type": "code",
   "execution_count": null,
   "id": "934a1a8e-1c58-4a93-96f8-603a09e6cd2d",
   "metadata": {},
   "outputs": [],
   "source": [
    "# Plot selected gene program latent scores\n",
    "fig, axs = plt.subplots(nrows=n_top_up_gps+n_top_down_gps, ncols=3, figsize=(18, 4*len(top_gps)))\n",
    "title = fig.suptitle(t=\"Differential GP Scores, Corresponding Cell-Types and Most Important GP Genes in Latent Space\",\n",
    "                     x=0.55,\n",
    "                     y=0.96,\n",
    "                     fontsize=20)\n",
    "for i in range(len(top_gps)):\n",
    "    sc.pl.umap(model.adata, color=top_gps[i], color_map=\"magma\", ax=axs[i, 0], show=False)\n",
    "    sc.pl.umap(model.adata,\n",
    "               color=[cell_type_key],\n",
    "               color_map=\"magma\",\n",
    "               groups=top_cats[i],\n",
    "               ax=axs[i, 1],\n",
    "               legend_loc=\"on data\",\n",
    "               na_in_legend=False,\n",
    "               show=False)\n",
    "    sc.pl.umap(model.adata,\n",
    "               color=top_genes[i],\n",
    "               color_map=\"binary\",\n",
    "               ax=axs[i, 2],\n",
    "               legend_loc=\"on data\",\n",
    "               na_in_legend=False,\n",
    "               show=False)\n",
    "    \n",
    "# Save and display plot\n",
    "fig.savefig(f\"{figure_path}/cell_type_gp_scores_cell_types_most_important_genes_specific_gps.png\",\n",
    "            bbox_extra_artists=(title,),\n",
    "            bbox_inches=\"tight\")\n",
    "plt.show()"
   ]
  },
  {
   "cell_type": "markdown",
   "id": "4deeed99-5868-47ae-9adf-59e76f73b630",
   "metadata": {},
   "source": [
    "#### 4.3.2 Spatial GP Enrichments"
   ]
  },
  {
   "cell_type": "markdown",
   "id": "f1c2ad15-dfa1-48b8-9eed-894031ce7711",
   "metadata": {},
   "source": [
    "Same analysis can be done with spatial cluster labels instead of cell-types."
   ]
  },
  {
   "cell_type": "markdown",
   "id": "64f54c82-2fde-4034-b096-d76ef8c1e4a7",
   "metadata": {},
   "source": [
    "#### 4.3.3 GP Gene Importances"
   ]
  },
  {
   "cell_type": "code",
   "execution_count": null,
   "id": "7218a844-3cb6-497e-bc1a-f0c76540379a",
   "metadata": {},
   "outputs": [],
   "source": [
    "selected_gp = [\"BMP7_ligand_targetgenes_GP\"]"
   ]
  },
  {
   "cell_type": "code",
   "execution_count": null,
   "id": "de02a1d3-0cf7-48d0-8c6d-acd0df593e1d",
   "metadata": {},
   "outputs": [],
   "source": [
    "gene_importances_df = model.compute_gp_gene_importances(\n",
    "    selected_gp=\"BMP7_ligand_receptor_GP\",\n",
    "    adata=None)\n",
    "\n",
    "display(gene_importances_df)"
   ]
  },
  {
   "cell_type": "code",
   "execution_count": null,
   "id": "554275c1-127c-4ff8-968a-a864371cb5f9",
   "metadata": {},
   "outputs": [],
   "source": [
    "genes = list(gene_importances_df[\"gene\"])\n",
    "\n",
    "for gene in genes:\n",
    "    sc.pl.umap(model.adata,\n",
    "               color=gene,\n",
    "               color_map=\"binary\",\n",
    "               legend_loc=\"on data\",\n",
    "               na_in_legend=False)"
   ]
  },
  {
   "cell_type": "markdown",
   "id": "18e8dd7b-7486-40c9-a8ec-d55b2921f71a",
   "metadata": {
    "tags": []
   },
   "source": [
    "## 5. Learn De-Novo CCI GPs"
   ]
  },
  {
   "cell_type": "markdown",
   "id": "ccbecbc3-ee42-4104-b480-808fa88efc19",
   "metadata": {},
   "source": [
    "### 5.1 Initialize, Train & Save Model"
   ]
  },
  {
   "cell_type": "code",
   "execution_count": null,
   "id": "2a7e3bb4-e4c2-4969-99d4-28b682053df8",
   "metadata": {},
   "outputs": [],
   "source": [
    "model = Autotalker.load(dir_path=f\"{model_artifacts_path}/autotalker_combined_gps_{current_timestamp}\",\n",
    "                        adata=None,\n",
    "                        adata_file_name=f\"{dataset}.h5ad\",\n",
    "                        n_addon_gps=10,\n",
    "                        gp_names_key=gp_names_key,\n",
    "                        freeze_non_addon_weights=True)"
   ]
  },
  {
   "cell_type": "code",
   "execution_count": null,
   "id": "16bffbc8-a6ba-480d-9815-16a02a5687f4",
   "metadata": {},
   "outputs": [],
   "source": [
    "model.train(n_epochs=n_epochs,\n",
    "            n_epochs_all_gps=n_epochs_all_gps,\n",
    "            lr=lr,\n",
    "            lambda_l1_addon=lambda_l1_addon)"
   ]
  },
  {
   "cell_type": "code",
   "execution_count": null,
   "id": "fc3379b8-dc79-42c5-b304-d4672c045ba8",
   "metadata": {},
   "outputs": [],
   "source": [
    "model.save(dir_path=f\"{model_artifacts_path}/autotalker_combined_denovo_gps_{current_timestamp}\",\n",
    "           overwrite=True,\n",
    "           save_adata=True,\n",
    "           adata_file_name=f\"{dataset}.h5ad\")"
   ]
  },
  {
   "cell_type": "markdown",
   "id": "ad6943aa-50e6-4860-9add-567171b57d9c",
   "metadata": {},
   "source": [
    "Same analysis can be repeated with de-novo gene programs."
   ]
  }
 ],
 "metadata": {
  "kernelspec": {
   "display_name": "Python 3 (ipykernel)",
   "language": "python",
   "name": "python3"
  },
  "language_info": {
   "codemirror_mode": {
    "name": "ipython",
    "version": 3
   },
   "file_extension": ".py",
   "mimetype": "text/x-python",
   "name": "python",
   "nbconvert_exporter": "python",
   "pygments_lexer": "ipython3",
   "version": "3.9.15"
  }
 },
 "nbformat": 4,
 "nbformat_minor": 5
}
