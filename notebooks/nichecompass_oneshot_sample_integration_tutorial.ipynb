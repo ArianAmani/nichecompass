{
 "cells": [
  {
   "cell_type": "markdown",
   "id": "1b1daabf-c8e3-43d4-aa32-9789abcc8619",
   "metadata": {},
   "source": [
    "# NicheCompass Oneshot Sample Integration Tutorial"
   ]
  },
  {
   "cell_type": "markdown",
   "id": "c325d921-2077-42b3-90a8-6f6c7dd928c5",
   "metadata": {},
   "source": [
    "- **Creator**: Sebastian Birk (<sebastian.birk@helmholtz-munich.de>).\n",
    "- **Affiliation:** Helmholtz Munich, Institute of Computational Biology (ICB), Talavera-López Lab\n",
    "- **Date of Creation:** 18.05.2023\n",
    "- **Date of Last Modification:** 19.06.2023"
   ]
  },
  {
   "cell_type": "markdown",
   "id": "b3045ac8-78e7-4576-bb3c-6b90b18150ea",
   "metadata": {},
   "source": [
    "In this tutorial, we apply NicheCompass to integrate three samples (sagittal brain sections) of the STARmap PLUS mouse central nervous system dataset / atlas from [Shi, H. et al. Spatial Atlas of the Mouse Central Nervous System at Molecular Resolution. bioRxiv 2022.06.20.496914 (2022)](https://www.biorxiv.org/content/10.1101/2022.06.20.496914v1) in a oneshot setting (i.e. the model is trained on all samples at once).\n",
    "\n",
    "Sample 1 has:\n",
    "- 91,246 observations at cellular resolution with cell type annotations\n",
    "- 1022 probed genes\n",
    "\n",
    "Sample 2 has:\n",
    "- 123,836 observations at cellular resolution with cell type annotations\n",
    "- 1022 probed genes\n",
    "\n",
    "Sample 3 has:\n",
    "- 207,591 observations at cellular resolution with cell type annotations\n",
    "- 1022 probed genes"
   ]
  },
  {
   "cell_type": "markdown",
   "id": "3c659318-1dbb-4ade-8113-f4fb190c9e92",
   "metadata": {},
   "source": [
    "- Check the repository [README.md](https://github.com/sebastianbirk/nichecompass#installation) for NicheCompass installation instructions.\n",
    "- The data for this tutorial can be downloaded from [OneDrive](https://1drv.ms/f/s!Atya0VClQocLgvRFj0hYrFICVi0C2w?e=2uLfVX). It has to be stored under ```<repository_root>/data/spatial_omics/```.\n",
    "  - starmap_plus_mouse_cns_batch1.h5ad\n",
    "  - starmap_plus_mouse_cns_batch2.h5ad\n",
    "  - starmap_plus_mouse_cns_batch3.h5ad\n",
    "- A pretrained model to run only the analysis can be downloaded from [OneDrive](https://1drv.ms/f/s!Atya0VClQocLgvRFj0hYrFICVi0C2w?e=2uLfVX). It has to be stored under ```<repository_root>/artifacts/oneshot_sample_integration/<timestamp>/model/```.\n",
    "  - xxx"
   ]
  },
  {
   "cell_type": "markdown",
   "id": "7350cbcb-18f8-4f7a-a476-2dd0a0e1e3be",
   "metadata": {},
   "source": [
    "## 1. Setup"
   ]
  },
  {
   "cell_type": "markdown",
   "id": "2ada23e4-a814-4374-825f-00528a78cec4",
   "metadata": {},
   "source": [
    "### 1.1 Import Libraries"
   ]
  },
  {
   "cell_type": "code",
   "execution_count": 1,
   "id": "6a70c75d-cd86-4b02-b2fb-0e04ed0720c9",
   "metadata": {},
   "outputs": [],
   "source": [
    "%load_ext autoreload\n",
    "%autoreload 2"
   ]
  },
  {
   "cell_type": "code",
   "execution_count": 3,
   "id": "1f54c6e8-ff7b-438a-b86d-1c5c3d2bf8be",
   "metadata": {},
   "outputs": [],
   "source": [
    "import os\n",
    "import warnings\n",
    "from datetime import datetime\n",
    "\n",
    "import anndata as ad\n",
    "import matplotlib.pyplot as plt\n",
    "import numpy as np\n",
    "import pandas as pd\n",
    "import scanpy as sc\n",
    "import scipy.sparse as sp\n",
    "import squidpy as sq\n",
    "from matplotlib import gridspec\n",
    "\n",
    "from nichecompass.models import NicheCompass\n",
    "from nichecompass.utils import (add_gps_from_gp_dict_to_adata,\n",
    "                                aggregate_obsp_matrix_per_cell_type,\n",
    "                                create_cell_type_chord_plot_from_df,\n",
    "                                extract_gp_dict_from_mebocost_es_interactions,\n",
    "                                extract_gp_dict_from_nichenet_lrt_interactions,\n",
    "                                extract_gp_dict_from_omnipath_lr_interactions,\n",
    "                                filter_and_combine_gp_dict_gps,\n",
    "                                generate_enriched_gp_info_plots,\n",
    "                                get_unique_genes_from_gp_dict)\n",
    "\n",
    "from color_utils import (latent_cluster_colors,\n",
    "                         starmap_plus_mouse_cns_cell_type_colors as cell_type_colors)"
   ]
  },
  {
   "cell_type": "markdown",
   "id": "0dcc2cfe-2cff-4d1d-9b99-5163cca5ec41",
   "metadata": {},
   "source": [
    "### 1.2 Define Parameters"
   ]
  },
  {
   "cell_type": "code",
   "execution_count": 11,
   "id": "109b8c21-9856-45f6-927a-39fb8b9a5072",
   "metadata": {},
   "outputs": [],
   "source": [
    "### Dataset ###\n",
    "dataset = \"starmap_plus_mouse_cns\"\n",
    "species = \"mouse\"\n",
    "batches = [\"batch1\", \"batch2\", \"batch3\"]\n",
    "spatial_key = \"spatial\"\n",
    "n_neighbors = 12\n",
    "filter_genes = True\n",
    "n_hvg = 3000\n",
    "\n",
    "### Model ###\n",
    "# AnnData keys\n",
    "counts_key = \"counts\"\n",
    "adj_key = \"spatial_connectivities\"\n",
    "condition_key = \"batch\"\n",
    "gp_names_key = \"nichecompass_gp_names\"\n",
    "active_gp_names_key = \"nichecompass_active_gp_names\"\n",
    "gp_targets_mask_key = \"nichecompass_gp_targets\"\n",
    "gp_sources_mask_key = \"nichecompass_gp_sources\"\n",
    "latent_key = \"nichecompass_latent\"\n",
    "\n",
    "# Architecture\n",
    "cond_embed_injection = [\"encoder\", \"gene_expr_decoder\"]\n",
    "n_cond_embed = 3\n",
    "active_gp_thresh_ratio = 0.05\n",
    "node_label_method = \"one-hop-attention\" # choose one-hop-norm for significant speed up of model training\n",
    "\n",
    "# Trainer\n",
    "n_epochs = 100\n",
    "n_epochs_all_gps = 25\n",
    "n_epochs_no_cond_contrastive = 5\n",
    "lr = 0.001\n",
    "lambda_edge_recon = 500000.\n",
    "lambda_gene_expr_recon = 300.\n",
    "lambda_cond_contrastive = 100000.\n",
    "contrastive_logits_ratio = 0.06125\n",
    "lambda_l1_masked = 10.\n",
    "edge_batch_size = 2048 # reduce if not enough memory\n",
    "use_cuda_if_available = True\n",
    "\n",
    "### Analysis ###\n",
    "cell_type_key = \"Main_molecular_cell_type\"\n",
    "latent_leiden_resolution = 0.2\n",
    "latent_cluster_key = f\"latent_leiden_{str(latent_leiden_resolution)}\"\n",
    "sample_key = \"batch\"\n",
    "samples = [\"sagittal1\", \"sagittal2\", \"sagittal3\"]\n",
    "spot_size = 0.2\n",
    "agg_weights_key = \"agg_weights\"\n",
    "differential_gp_test_results_key = \"nichecompass_differential_gp_test_results\""
   ]
  },
  {
   "cell_type": "markdown",
   "id": "47cb51f2-d355-459c-933d-b1a2d012e87a",
   "metadata": {},
   "source": [
    "### 1.3 Run Notebook Setup"
   ]
  },
  {
   "cell_type": "code",
   "execution_count": 5,
   "id": "10f8dfe2-a878-43a9-b12f-7fefbcaa0c4f",
   "metadata": {},
   "outputs": [],
   "source": [
    "warnings.filterwarnings(\"ignore\")"
   ]
  },
  {
   "cell_type": "code",
   "execution_count": 6,
   "id": "65aacc56-a44e-4ea8-b9f9-d7eec3324d39",
   "metadata": {},
   "outputs": [],
   "source": [
    "# Get time of notebook execution for timestamping saved artifacts\n",
    "now = datetime.now()\n",
    "current_timestamp = now.strftime(\"%d%m%Y_%H%M%S\")"
   ]
  },
  {
   "cell_type": "markdown",
   "id": "5063253e-b9df-47e3-96f0-522dcf862f1e",
   "metadata": {},
   "source": [
    "### 1.4 Configure Paths"
   ]
  },
  {
   "cell_type": "code",
   "execution_count": 14,
   "id": "17784aad-a597-4df6-b536-b932993d2f28",
   "metadata": {},
   "outputs": [],
   "source": [
    "# Define paths\n",
    "ga_data_folder_path = \"../data/gene_annotations\"\n",
    "gp_data_folder_path = \"../data/gene_programs\"\n",
    "so_data_folder_path = \"../data/spatial_omics\"\n",
    "omnipath_lr_network_file_path = f\"{gp_data_folder_path}/omnipath_lr_network.csv\"\n",
    "nichenet_lr_network_file_path = f\"{gp_data_folder_path}/nichenet_lr_network_v2_{species}.csv\"\n",
    "nichenet_ligand_target_matrix_file_path = f\"{gp_data_folder_path}/nichenet_ligand_target_matrix_v2_{species}.csv\"\n",
    "mebocost_enzyme_sensor_interactions_folder_path = f\"{gp_data_folder_path}/metabolite_enzyme_sensor_gps\"\n",
    "gene_orthologs_mapping_file_path = f\"{ga_data_folder_path}/human_mouse_gene_orthologs.csv\"\n",
    "artifacts_folder_path = f\"../artifacts\"\n",
    "model_folder_path = f\"{artifacts_folder_path}/oneshot_sample_integration/{current_timestamp}/model\""
   ]
  },
  {
   "cell_type": "markdown",
   "id": "8cec1aef-52bd-456c-bc80-09390f6dba8f",
   "metadata": {
    "tags": []
   },
   "source": [
    "## 2. Model Preparation"
   ]
  },
  {
   "cell_type": "markdown",
   "id": "82ddd359-3f55-4960-952b-3f8e6faa441f",
   "metadata": {},
   "source": [
    "### 2.1 Create Prior Knowledge Cell-Cell-Interaction (CCI) Gene Program (GP) Mask"
   ]
  },
  {
   "cell_type": "markdown",
   "id": "693b4b94-77e9-4253-8ecb-6f7b22e81fbb",
   "metadata": {},
   "source": [
    "- NicheCompass expects a prior CCI GP mask as input, which it will use to make its latent embedding interpretable (through a linear masked decoder). \n",
    "- The user can provide a custom GP mask to NicheCompass based on the dataset, application, and hypothesis of interest.\n",
    "- As a default, we create a GP mask based on three databases of prior CCI knowledge:\n",
    "    - OmniPath\n",
    "    - NicheNet\n",
    "    - MEBOCOST"
   ]
  },
  {
   "cell_type": "code",
   "execution_count": 19,
   "id": "cd782946-e6cc-4206-be3d-d9f1ffdd5ab4",
   "metadata": {},
   "outputs": [
    {
     "data": {
      "image/png": "[encoded data removed]",
      "text/plain": [
       "<Figure size 1000x500 with 2 Axes>"
      ]
     },
     "metadata": {},
     "output_type": "display_data"
    }
   ],
   "source": [
    "# Retrieve OmniPath GPs (source: ligand gene; target: receptor gene)\n",
    "omnipath_gp_dict = extract_gp_dict_from_omnipath_lr_interactions(\n",
    "    species=\"mouse\",\n",
    "    min_curation_effort=0,\n",
    "    load_from_disk=True,\n",
    "    save_to_disk=True,\n",
    "    lr_network_file_path=omnipath_lr_network_file_path,\n",
    "    gene_orthologs_mapping_file_path=gene_orthologs_mapping_file_path,\n",
    "    plot_gp_gene_count_distributions=True)\n",
    "\n",
    "# Retrieve unique source and target genes from OmniPath GPs to keep\n",
    "# those genes when filtering\n",
    "omnipath_genes = get_unique_genes_from_gp_dict(\n",
    "    gp_dict=omnipath_gp_dict,\n",
    "    retrieved_gene_entities=[\"sources\", \"targets\"])"
   ]
  },
  {
   "cell_type": "code",
   "execution_count": 20,
   "id": "8b1ceb83-fddf-4ba5-91e5-c5f5a62cc4a8",
   "metadata": {},
   "outputs": [
    {
     "name": "stdout",
     "output_type": "stream",
     "text": [
      "BDNF_ligand_receptor_GP {'sources': ['Bdnf'], 'targets': ['Drd4'], 'sources_categories': ['ligand'], 'targets_categories': ['receptor']}\n",
      "EPOR_ligand_receptor_GP {'sources': ['Epor'], 'targets': ['Stat3'], 'sources_categories': ['ligand'], 'targets_categories': ['receptor']}\n",
      "FYN_ligand_receptor_GP {'sources': ['Fyn'], 'targets': ['Mapk7'], 'sources_categories': ['ligand'], 'targets_categories': ['receptor']}\n"
     ]
    }
   ],
   "source": [
    "# Display example OmniPath GPs\n",
    "for i, (key, value) in enumerate(omnipath_gp_dict.items()):\n",
    "    if i > 2:\n",
    "        break\n",
    "    print(key, value)"
   ]
  },
  {
   "cell_type": "code",
   "execution_count": 22,
   "id": "6f4fd4c5-19a3-40d3-8e6d-f78746f7c6c3",
   "metadata": {},
   "outputs": [
    {
     "data": {
      "image/png": "[encoded data removed]",
      "text/plain": [
       "<Figure size 1000x500 with 2 Axes>"
      ]
     },
     "metadata": {},
     "output_type": "display_data"
    }
   ],
   "source": [
    "# Retrieve NicheNet GPs (source: ligand gene; target: target genes)\n",
    "nichenet_gp_dict = extract_gp_dict_from_nichenet_lrt_interactions(\n",
    "    species=\"mouse\",\n",
    "    version=\"v2\",\n",
    "    keep_target_genes_ratio=1.,\n",
    "    max_n_target_genes_per_gp=250,\n",
    "    load_from_disk=True,\n",
    "    save_to_disk=True,\n",
    "    lr_network_file_path=nichenet_lr_network_file_path,\n",
    "    ligand_target_matrix_file_path=nichenet_ligand_target_matrix_file_path,\n",
    "    gene_orthologs_mapping_file_path=gene_orthologs_mapping_file_path,\n",
    "    plot_gp_gene_count_distributions=True)\n",
    "\n",
    "# Retrieve unique source genes from NicheNet GPs to keep\n",
    "# those genes when filtering\n",
    "nichenet_source_genes = get_unique_genes_from_gp_dict(\n",
    "    gp_dict=nichenet_gp_dict,\n",
    "    retrieved_gene_entities=[\"sources\"])"
   ]
  },
  {
   "cell_type": "code",
   "execution_count": 23,
   "id": "27d182e9-2e94-4656-b6e3-b42c424f8b86",
   "metadata": {},
   "outputs": [
    {
     "name": "stdout",
     "output_type": "stream",
     "text": [
      "2300002M23Rik_ligand_receptor_target_gene_GP {'sources': ['2300002M23Rik'], 'targets': ['Ddr1', 'Adm', 'Agt', 'Angptl4', 'Ankrd1', 'App', 'Ar', 'Ass1', 'Atf3', 'Bax', 'Bcl2', 'Bcl2l1', 'Bcl2l11', 'Bcl3', 'Bcl6', 'Bdnf', 'Bhlhe40', 'Bin1', 'Birc3', 'Birc5', 'Bmp4', 'Bnip3l', 'Bnip3l-ps', 'Brca1', 'Btg2', 'Cav1', 'Cbx5', 'Ccl12', 'Ccl20', 'Ccl5', 'Ccn1', 'Ccn2', 'Ccna2', 'Ccnb1', 'Ccnb1-ps', 'Ccnd1', 'Ccnd2', 'Cd5l', 'Cdc6', 'Cdca7', 'Cdh1', 'Cdk1', 'Cdk4', 'Cdk6', 'Cdkn1a', 'Cdkn1b', 'Cdkn2a', 'Cdkn2c', 'Cebpa', 'Cflar', 'Cited2', 'Csf2', 'Cxcr4', 'Cyp1a1', 'Cyp1b1', 'Cyp24a1', 'Cyp3a13', 'Ddit3', 'Ddit4', 'Dhrs3', 'Dkk1', 'Dtl', 'Dusp1', 'Dusp6', 'E2f1', 'E2f3', 'Edn1', 'Egfr', 'Egr1', 'Egr2', 'Enc1', 'Eno1', 'Eno1b', 'Epha2', 'Esr1', 'Etfb', 'Fas', 'Fasn', 'Fkbp5', 'Fn1', 'Fos', 'Fosl1', 'Foxo3', 'Fst', 'Gadd45a', 'Gadd45b', 'Gadd45g', 'Gapdh', 'Gapdh-ps15', 'Gata3', 'Gdf15', 'Gm10358', 'Gm3839', 'Gm40460', 'Gm4559', 'Gm45618', 'H2bc14', 'H3f3b', 'H4c12', 'H4c14', 'Hes1', 'Hmga1', 'Hmga1b', 'Hmox1', 'Hnrnpr', 'Hoxc6', 'Icam1', 'Id1', 'Id2', 'Id3', 'Ier3', 'Ifi204', 'Ifi205', 'Ifi211', 'Ifit1bl1', 'Ifit1bl2', 'Ifng', 'Igf1', 'Igfbp3', 'Il10', 'Il1b', 'Il6', 'Irf1', 'Itpr1', 'Jarid2', 'Jun', 'Junb', 'Klk1', 'Klk1b1', 'Klk1b11', 'Klk1b16', 'Klk1b21', 'Klk1b22', 'Klk1b24', 'Klk1b26', 'Klk1b27', 'Klk1b3', 'Klk1b4', 'Klk1b5', 'Klk1b8', 'Klk1b9', 'Krt8', 'Krtap5-2', 'Lcp1', 'Ldha', 'Lef1', 'Lmna', 'Lpp', 'Lpxn', 'Magea13', 'Mat2a', 'Mcl1', 'Mdm2', 'Meis1', 'Met', 'Mgll', 'Mia2', 'Mical2', 'Midn', 'Mmp1a', 'Mmp1b', 'Mmp2', 'Mmp9', 'Muc1', 'Myb', 'Myc', 'Ndrg1', 'Nek6', 'Nek7', 'Nfia', 'Nfkb1', 'Nfkbia', 'Nolc1', 'Nos2', 'Nusap1', 'Odc1', 'Pcna', 'Pde4dip', 'Per1', 'Pfkfb3', 'Pgk1', 'Pim1', 'Pla2g4a', 'Plau', 'Plec', 'Pmaip1', 'Pparg', 'Ppargc1a', 'Prdm1', 'Pten', 'Ptgs2', 'Ptk2b', 'Ranbp1', 'Rara', 'Rbpj', 'Rcan1', 'Rcc1', 'Rtn4', 'Runx1', 'Sat1', 'Sdc1', 'Serpine1', 'Sgk1', 'Sh2b3', 'Shc1', 'Sirt1', 'Slc7a11', 'Smad7', 'Socs2', 'Socs3', 'Spi1', 'Srebf1', 'Stat1', 'Stat3', 'Stmn1', 'Tagln2', 'Tert', 'Tfpi2', 'Tgfb1', 'Tgfbi', 'Tgfbr2', 'Tgif1', 'Thbd', 'Thbs1', 'Tnc', 'Tnf', 'Tnfaip3', 'Tnfrsf22', 'Tnfrsf23', 'Tnfrsf26', 'Trib1', 'Trp53', 'Txnip', 'Ubc', 'Vegfa', 'Vim', 'Yars', 'Zfp36l1', 'Zfp457', 'Zfp595', 'Zfp738', 'Zfp78', 'Zfp953', 'Zfy1', 'Zfy2', 'Zmynd8'], 'sources_categories': ['ligand'], 'targets_categories': ['receptor', 'target_gene', 'target_gene', 'target_gene', 'target_gene', 'target_gene', 'target_gene', 'target_gene', 'target_gene', 'target_gene', 'target_gene', 'target_gene', 'target_gene', 'target_gene', 'target_gene', 'target_gene', 'target_gene', 'target_gene', 'target_gene', 'target_gene', 'target_gene', 'target_gene', 'target_gene', 'target_gene', 'target_gene', 'target_gene', 'target_gene', 'target_gene', 'target_gene', 'target_gene', 'target_gene', 'target_gene', 'target_gene', 'target_gene', 'target_gene', 'target_gene', 'target_gene', 'target_gene', 'target_gene', 'target_gene', 'target_gene', 'target_gene', 'target_gene', 'target_gene', 'target_gene', 'target_gene', 'target_gene', 'target_gene', 'target_gene', 'target_gene', 'target_gene', 'target_gene', 'target_gene', 'target_gene', 'target_gene', 'target_gene', 'target_gene', 'target_gene', 'target_gene', 'target_gene', 'target_gene', 'target_gene', 'target_gene', 'target_gene', 'target_gene', 'target_gene', 'target_gene', 'target_gene', 'target_gene', 'target_gene', 'target_gene', 'target_gene', 'target_gene', 'target_gene', 'target_gene', 'target_gene', 'target_gene', 'target_gene', 'target_gene', 'target_gene', 'target_gene', 'target_gene', 'target_gene', 'target_gene', 'target_gene', 'target_gene', 'target_gene', 'target_gene', 'target_gene', 'target_gene', 'target_gene', 'target_gene', 'target_gene', 'target_gene', 'target_gene', 'target_gene', 'target_gene', 'target_gene', 'target_gene', 'target_gene', 'target_gene', 'target_gene', 'target_gene', 'target_gene', 'target_gene', 'target_gene', 'target_gene', 'target_gene', 'target_gene', 'target_gene', 'target_gene', 'target_gene', 'target_gene', 'target_gene', 'target_gene', 'target_gene', 'target_gene', 'target_gene', 'target_gene', 'target_gene', 'target_gene', 'target_gene', 'target_gene', 'target_gene', 'target_gene', 'target_gene', 'target_gene', 'target_gene', 'target_gene', 'target_gene', 'target_gene', 'target_gene', 'target_gene', 'target_gene', 'target_gene', 'target_gene', 'target_gene', 'target_gene', 'target_gene', 'target_gene', 'target_gene', 'target_gene', 'target_gene', 'target_gene', 'target_gene', 'target_gene', 'target_gene', 'target_gene', 'target_gene', 'target_gene', 'target_gene', 'target_gene', 'target_gene', 'target_gene', 'target_gene', 'target_gene', 'target_gene', 'target_gene', 'target_gene', 'target_gene', 'target_gene', 'target_gene', 'target_gene', 'target_gene', 'target_gene', 'target_gene', 'target_gene', 'target_gene', 'target_gene', 'target_gene', 'target_gene', 'target_gene', 'target_gene', 'target_gene', 'target_gene', 'target_gene', 'target_gene', 'target_gene', 'target_gene', 'target_gene', 'target_gene', 'target_gene', 'target_gene', 'target_gene', 'target_gene', 'target_gene', 'target_gene', 'target_gene', 'target_gene', 'target_gene', 'target_gene', 'target_gene', 'target_gene', 'target_gene', 'target_gene', 'target_gene', 'target_gene', 'target_gene', 'target_gene', 'target_gene', 'target_gene', 'target_gene', 'target_gene', 'target_gene', 'target_gene', 'target_gene', 'target_gene', 'target_gene', 'target_gene', 'target_gene', 'target_gene', 'target_gene', 'target_gene', 'target_gene', 'target_gene', 'target_gene', 'target_gene', 'target_gene', 'target_gene', 'target_gene', 'target_gene', 'target_gene', 'target_gene', 'target_gene', 'target_gene', 'target_gene', 'target_gene', 'target_gene', 'target_gene', 'target_gene', 'target_gene', 'target_gene', 'target_gene', 'target_gene', 'target_gene', 'target_gene', 'target_gene', 'target_gene', 'target_gene', 'target_gene', 'target_gene', 'target_gene', 'target_gene', 'target_gene', 'target_gene', 'target_gene']}\n",
      "2610528A11Rik_ligand_receptor_target_gene_GP {'sources': ['2610528A11Rik'], 'targets': ['Gpr15', 'A2m', 'Abca1', 'Angptl4', 'Ankrd1', 'App', 'Ar', 'Areg', 'Ass1', 'Atf3', 'Bax', 'Bcl2', 'Bcl2l1', 'Bcl2l11', 'Bcl3', 'Bcl6', 'Bdnf', 'Bhlhe40', 'Birc3', 'Birc5', 'Bmp4', 'Brca1', 'Btg1', 'Btg2', 'Car12', 'Car9', 'Cav1', 'Cbx5', 'Ccl12', 'Ccl20', 'Ccl5', 'Ccn1', 'Ccn2', 'Ccna2', 'Ccnb1', 'Ccnb1-ps', 'Ccnd1', 'Ccnd2', 'Ccnd3', 'Ccne1', 'Ccne2', 'Cd36', 'Cd40', 'Cd44', 'Cdc6', 'Cdh1', 'Cdk1', 'Cdk4', 'Cdk6', 'Cdkn1a', 'Cdkn1b', 'Cdkn2a', 'Cdkn2c', 'Cebpb', 'Cited2', 'Col1a2', 'Creb1', 'Crem', 'Crh', 'Csf2', 'Cuedc1', 'Cxcr4', 'Cyp1a1', 'Cyp1b1', 'Cyp3a13', 'Ddit3', 'Ddit4', 'Dhrs3', 'Dkk1', 'Dtl', 'Dusp1', 'Dusp4', 'Dusp5', 'Dusp6', 'E2f1', 'Edn1', 'Egfr', 'Egr1', 'Egr2', 'Egr3', 'Elf3', 'Emp1', 'Epha2', 'Esr1', 'Fas', 'Fasl', 'Fn1', 'Fos', 'Fosl1', 'Fosl2', 'Foxa1', 'Fst', 'Gadd45a', 'Gadd45b', 'Gadd45g', 'Gata3', 'Gdf15', 'Gm40460', 'Gm4559', 'Gm45618', 'Gm8909', 'Greb1', 'Gsn', 'H2-D1', 'H2-K1', 'H2-Q1', 'H2-Q10', 'H2-Q2', 'H2-Q4', 'H2-Q6', 'H2-Q7', 'H2bc14', 'H3f3b', 'H4c14', 'Hes1', 'Hif1a', 'Hmgcr', 'Hmox1', 'Hnrnpr', 'Hspa5', 'Hspb1', 'Icam1', 'Id1', 'Id2', 'Id3', 'Ier3', 'Ifi204', 'Ifi205', 'Ifi211', 'Ifit1bl1', 'Ifit1bl2', 'Ifit3', 'Ifit3b', 'Ifng', 'Igf1', 'Igfbp3', 'Igfbp4', 'Il10', 'Il1a', 'Il1b', 'Il2', 'Il6', 'Irf1', 'Itga2', 'Jade1', 'Jun', 'Junb', 'Klf5', 'Klk1', 'Klk1b1', 'Klk1b11', 'Klk1b16', 'Klk1b21', 'Klk1b22', 'Klk1b24', 'Klk1b26', 'Klk1b27', 'Klk1b3', 'Klk1b4', 'Klk1b5', 'Klk1b8', 'Klk1b9', 'Krt18', 'Krt19', 'Krtap5-2', 'Lef1', 'Lpp', 'Magea13', 'Mcl1', 'Mdm2', 'Met', 'Mgp', 'Mia2', 'Mical2', 'Mmp10', 'Mmp13', 'Mmp1a', 'Mmp1b', 'Mmp2', 'Mmp9', 'Muc1', 'Myb', 'Myc', 'Ndrg1', 'Nek6', 'Nfil3', 'Nfkb1', 'Nfkbia', 'Nos2', 'Odc1', 'Pck1', 'Pcna', 'Pfkfb3', 'Pgr', 'Pim1', 'Plau', 'Plec', 'Plk1', 'Pmaip1', 'Pparg', 'Ppargc1a', 'Prnp', 'Prss23', 'Pten', 'Ptgs2', 'Rara', 'Rgs2', 'Rrm1', 'Rrm2', 'Sat1', 'Serpine1', 'Sgk1', 'Sirt1', 'Slc2a1', 'Slc7a5', 'Smad7', 'Snai2', 'Socs2', 'Socs3', 'Sod2', 'Sox9', 'Stat1', 'Stat3', 'Stc2', 'Tert', 'Tff1', 'Tfpi2', 'Tgfbi', 'Tgif1', 'Thbs1', 'Tnc', 'Tnf', 'Tnfaip3', 'Tnfrsf22', 'Tnfrsf23', 'Tnfrsf26', 'Tnfsf10', 'Trib1', 'Trp53', 'Txnip', 'Tyms', 'Vegfa', 'Vim', 'Zfp595', 'Zfp78', 'Zfy1', 'Zfy2', 'Zmynd8'], 'sources_categories': ['ligand'], 'targets_categories': ['receptor', 'target_gene', 'target_gene', 'target_gene', 'target_gene', 'target_gene', 'target_gene', 'target_gene', 'target_gene', 'target_gene', 'target_gene', 'target_gene', 'target_gene', 'target_gene', 'target_gene', 'target_gene', 'target_gene', 'target_gene', 'target_gene', 'target_gene', 'target_gene', 'target_gene', 'target_gene', 'target_gene', 'target_gene', 'target_gene', 'target_gene', 'target_gene', 'target_gene', 'target_gene', 'target_gene', 'target_gene', 'target_gene', 'target_gene', 'target_gene', 'target_gene', 'target_gene', 'target_gene', 'target_gene', 'target_gene', 'target_gene', 'target_gene', 'target_gene', 'target_gene', 'target_gene', 'target_gene', 'target_gene', 'target_gene', 'target_gene', 'target_gene', 'target_gene', 'target_gene', 'target_gene', 'target_gene', 'target_gene', 'target_gene', 'target_gene', 'target_gene', 'target_gene', 'target_gene', 'target_gene', 'target_gene', 'target_gene', 'target_gene', 'target_gene', 'target_gene', 'target_gene', 'target_gene', 'target_gene', 'target_gene', 'target_gene', 'target_gene', 'target_gene', 'target_gene', 'target_gene', 'target_gene', 'target_gene', 'target_gene', 'target_gene', 'target_gene', 'target_gene', 'target_gene', 'target_gene', 'target_gene', 'target_gene', 'target_gene', 'target_gene', 'target_gene', 'target_gene', 'target_gene', 'target_gene', 'target_gene', 'target_gene', 'target_gene', 'target_gene', 'target_gene', 'target_gene', 'target_gene', 'target_gene', 'target_gene', 'target_gene', 'target_gene', 'target_gene', 'target_gene', 'target_gene', 'target_gene', 'target_gene', 'target_gene', 'target_gene', 'target_gene', 'target_gene', 'target_gene', 'target_gene', 'target_gene', 'target_gene', 'target_gene', 'target_gene', 'target_gene', 'target_gene', 'target_gene', 'target_gene', 'target_gene', 'target_gene', 'target_gene', 'target_gene', 'target_gene', 'target_gene', 'target_gene', 'target_gene', 'target_gene', 'target_gene', 'target_gene', 'target_gene', 'target_gene', 'target_gene', 'target_gene', 'target_gene', 'target_gene', 'target_gene', 'target_gene', 'target_gene', 'target_gene', 'target_gene', 'target_gene', 'target_gene', 'target_gene', 'target_gene', 'target_gene', 'target_gene', 'target_gene', 'target_gene', 'target_gene', 'target_gene', 'target_gene', 'target_gene', 'target_gene', 'target_gene', 'target_gene', 'target_gene', 'target_gene', 'target_gene', 'target_gene', 'target_gene', 'target_gene', 'target_gene', 'target_gene', 'target_gene', 'target_gene', 'target_gene', 'target_gene', 'target_gene', 'target_gene', 'target_gene', 'target_gene', 'target_gene', 'target_gene', 'target_gene', 'target_gene', 'target_gene', 'target_gene', 'target_gene', 'target_gene', 'target_gene', 'target_gene', 'target_gene', 'target_gene', 'target_gene', 'target_gene', 'target_gene', 'target_gene', 'target_gene', 'target_gene', 'target_gene', 'target_gene', 'target_gene', 'target_gene', 'target_gene', 'target_gene', 'target_gene', 'target_gene', 'target_gene', 'target_gene', 'target_gene', 'target_gene', 'target_gene', 'target_gene', 'target_gene', 'target_gene', 'target_gene', 'target_gene', 'target_gene', 'target_gene', 'target_gene', 'target_gene', 'target_gene', 'target_gene', 'target_gene', 'target_gene', 'target_gene', 'target_gene', 'target_gene', 'target_gene', 'target_gene', 'target_gene', 'target_gene', 'target_gene', 'target_gene', 'target_gene', 'target_gene', 'target_gene', 'target_gene', 'target_gene', 'target_gene', 'target_gene', 'target_gene', 'target_gene', 'target_gene', 'target_gene', 'target_gene', 'target_gene', 'target_gene', 'target_gene', 'target_gene', 'target_gene', 'target_gene', 'target_gene', 'target_gene', 'target_gene']}\n",
      "9530003J23Rik_ligand_receptor_target_gene_GP {'sources': ['9530003J23Rik'], 'targets': ['Itgal', 'Abcb1a', 'Abcb1b', 'Adm', 'Ankrd1', 'Ap1b1', 'App', 'Ar', 'Ass1', 'Atf3', 'Atp1b1', 'Bax', 'Bbc3', 'Bcl2', 'Bcl2l1', 'Bcl3', 'Bcl6', 'Bdnf', 'Bhlhe40', 'Birc3', 'Birc5', 'Bmp4', 'Brca1', 'Brca2', 'Btg2', 'C3', 'Car12', 'Car9', 'Cav1', 'Cbx5', 'Ccl12', 'Ccl5', 'Ccn2', 'Ccna2', 'Ccnb1', 'Ccnb1-ps', 'Ccnd1', 'Ccnd2', 'Cd46', 'Cd82', 'Cdh1', 'Cdk1', 'Cdk4', 'Cdk6', 'Cdkn1a', 'Cdkn1b', 'Cdkn2c', 'Cebpb', 'Cited2', 'Cldn1', 'Col1a2', 'Crem', 'Csf2', 'Ctnnb1', 'Cxcl12', 'Cxcr4', 'Cyp1a1', 'Cyp1b1', 'Cyp3a13', 'Ddit3', 'Ddit4', 'Dhrs3', 'Dicer1', 'Dkk1', 'Dtl', 'Dusp1', 'Dusp5', 'E2f1', 'Edn1', 'Efhd1', 'Efna1', 'Egfr', 'Egr1', 'Egr2', 'Egr3', 'Emp1', 'Epha2', 'Esr1', 'Fas', 'Fgf2', 'Fn1', 'Fos', 'Fosl1', 'Fst', 'Gadd45a', 'Gadd45b', 'Gadd45g', 'Gdf15', 'Gm40460', 'Gm4559', 'Gm45618', 'Greb1', 'Gsn', 'H2ax', 'H2bc14', 'H2bc22', 'H3f3b', 'H4c12', 'H4c14', 'Hes1', 'Hmmr', 'Hmox1', 'Hsp90ab1', 'Hspa5', 'Icam1', 'Id1', 'Id2', 'Id3', 'Ier3', 'Ifi203', 'Ifi203-ps', 'Ifi204', 'Ifi205', 'Ifi206', 'Ifi207', 'Ifi208', 'Ifi209', 'Ifi211', 'Ifi213', 'Ifi214', 'Ifit1bl1', 'Ifit1bl2', 'Ifng', 'Igf1', 'Igfbp3', 'Igfbp4', 'Igfbp5', 'Il10', 'Il1a', 'Il1b', 'Il2', 'Il6', 'Insig1', 'Insig2', 'Isg20', 'Itpr1', 'Jun', 'Junb', 'Klk1', 'Klk1b1', 'Klk1b11', 'Klk1b16', 'Klk1b21', 'Klk1b22', 'Klk1b24', 'Klk1b26', 'Klk1b27', 'Klk1b3', 'Klk1b4', 'Klk1b5', 'Klk1b8', 'Klk1b9', 'Krt18', 'Krt19', 'Krt8', 'Krtap5-2', 'Laptm5', 'Lcp1', 'Ldha', 'Lmna', 'Lox', 'Lpp', 'Ltbp1', 'Magea13', 'Mdm2', 'Met', 'Mgp', 'Mia2', 'Mical2', 'Mmp1a', 'Mmp1b', 'Mmp2', 'Mmp9', 'Mndal', 'Myb', 'Myc', 'Ndrg1', 'Nek6', 'Nfkbia', 'Nr4a2', 'Ntrk3', 'Nusap1', 'Pcna', 'Pdk2', 'Per1', 'Pfkfb3', 'Pla2g4a', 'Plau', 'Plaur', 'Plec', 'Plk1', 'Pmaip1', 'Pparg', 'Ppargc1a', 'Prdm1', 'Prkdc', 'Prss23', 'Pten', 'Ptgs2', 'Rara', 'Rbpj', 'Rrm1', 'Runx1', 'Sat1', 'Serpine1', 'Sgk1', 'Sirpa', 'Slc2a1', 'Slc7a11', 'Slc7a5', 'Smad3', 'Snai2', 'Socs3', 'Sod2', 'Sox9', 'Srebf1', 'Stat3', 'Stc2', 'Tert', 'Tff1', 'Tfpi2', 'Tgfb1', 'Tgfb2', 'Tgfbi', 'Tgm2', 'Thbs1', 'Tnc', 'Tnf', 'Tnfaip3', 'Tnfrsf22', 'Tnfrsf23', 'Tnfrsf26', 'Tnfsf10', 'Top2a', 'Trib1', 'Trp53', 'Trp53inp1', 'Tsc22d3', 'Txnip', 'Tyms', 'Vcam1', 'Vcan', 'Vegfa', 'Vgf', 'Vim', 'Wee1', 'Zfp595', 'Zfp78', 'Zfy1', 'Zfy2', 'Zmynd8'], 'sources_categories': ['ligand'], 'targets_categories': ['receptor', 'target_gene', 'target_gene', 'target_gene', 'target_gene', 'target_gene', 'target_gene', 'target_gene', 'target_gene', 'target_gene', 'target_gene', 'target_gene', 'target_gene', 'target_gene', 'target_gene', 'target_gene', 'target_gene', 'target_gene', 'target_gene', 'target_gene', 'target_gene', 'target_gene', 'target_gene', 'target_gene', 'target_gene', 'target_gene', 'target_gene', 'target_gene', 'target_gene', 'target_gene', 'target_gene', 'target_gene', 'target_gene', 'target_gene', 'target_gene', 'target_gene', 'target_gene', 'target_gene', 'target_gene', 'target_gene', 'target_gene', 'target_gene', 'target_gene', 'target_gene', 'target_gene', 'target_gene', 'target_gene', 'target_gene', 'target_gene', 'target_gene', 'target_gene', 'target_gene', 'target_gene', 'target_gene', 'target_gene', 'target_gene', 'target_gene', 'target_gene', 'target_gene', 'target_gene', 'target_gene', 'target_gene', 'target_gene', 'target_gene', 'target_gene', 'target_gene', 'target_gene', 'target_gene', 'target_gene', 'target_gene', 'target_gene', 'target_gene', 'target_gene', 'target_gene', 'target_gene', 'target_gene', 'target_gene', 'target_gene', 'target_gene', 'target_gene', 'target_gene', 'target_gene', 'target_gene', 'target_gene', 'target_gene', 'target_gene', 'target_gene', 'target_gene', 'target_gene', 'target_gene', 'target_gene', 'target_gene', 'target_gene', 'target_gene', 'target_gene', 'target_gene', 'target_gene', 'target_gene', 'target_gene', 'target_gene', 'target_gene', 'target_gene', 'target_gene', 'target_gene', 'target_gene', 'target_gene', 'target_gene', 'target_gene', 'target_gene', 'target_gene', 'target_gene', 'target_gene', 'target_gene', 'target_gene', 'target_gene', 'target_gene', 'target_gene', 'target_gene', 'target_gene', 'target_gene', 'target_gene', 'target_gene', 'target_gene', 'target_gene', 'target_gene', 'target_gene', 'target_gene', 'target_gene', 'target_gene', 'target_gene', 'target_gene', 'target_gene', 'target_gene', 'target_gene', 'target_gene', 'target_gene', 'target_gene', 'target_gene', 'target_gene', 'target_gene', 'target_gene', 'target_gene', 'target_gene', 'target_gene', 'target_gene', 'target_gene', 'target_gene', 'target_gene', 'target_gene', 'target_gene', 'target_gene', 'target_gene', 'target_gene', 'target_gene', 'target_gene', 'target_gene', 'target_gene', 'target_gene', 'target_gene', 'target_gene', 'target_gene', 'target_gene', 'target_gene', 'target_gene', 'target_gene', 'target_gene', 'target_gene', 'target_gene', 'target_gene', 'target_gene', 'target_gene', 'target_gene', 'target_gene', 'target_gene', 'target_gene', 'target_gene', 'target_gene', 'target_gene', 'target_gene', 'target_gene', 'target_gene', 'target_gene', 'target_gene', 'target_gene', 'target_gene', 'target_gene', 'target_gene', 'target_gene', 'target_gene', 'target_gene', 'target_gene', 'target_gene', 'target_gene', 'target_gene', 'target_gene', 'target_gene', 'target_gene', 'target_gene', 'target_gene', 'target_gene', 'target_gene', 'target_gene', 'target_gene', 'target_gene', 'target_gene', 'target_gene', 'target_gene', 'target_gene', 'target_gene', 'target_gene', 'target_gene', 'target_gene', 'target_gene', 'target_gene', 'target_gene', 'target_gene', 'target_gene', 'target_gene', 'target_gene', 'target_gene', 'target_gene', 'target_gene', 'target_gene', 'target_gene', 'target_gene', 'target_gene', 'target_gene', 'target_gene', 'target_gene', 'target_gene', 'target_gene', 'target_gene', 'target_gene', 'target_gene', 'target_gene', 'target_gene', 'target_gene', 'target_gene', 'target_gene', 'target_gene', 'target_gene', 'target_gene', 'target_gene', 'target_gene', 'target_gene', 'target_gene', 'target_gene', 'target_gene', 'target_gene', 'target_gene', 'target_gene']}\n"
     ]
    }
   ],
   "source": [
    "# Display example NicheNet GPs\n",
    "for i, (key, value) in enumerate(nichenet_gp_dict.items()):\n",
    "    if i > 2:\n",
    "        break\n",
    "    print(key, value)"
   ]
  },
  {
   "cell_type": "code",
   "execution_count": 24,
   "id": "28a1b02c-e733-4201-ace5-14f5eff00abc",
   "metadata": {},
   "outputs": [
    {
     "data": {
      "image/png": "[encoded data removed]",
      "text/plain": [
       "<Figure size 1000x500 with 2 Axes>"
      ]
     },
     "metadata": {},
     "output_type": "display_data"
    }
   ],
   "source": [
    "# Retrieve MEBOCOST GPs (source: enzyme genes; target: sensor genes)\n",
    "mebocost_gp_dict = extract_gp_dict_from_mebocost_es_interactions(\n",
    "    dir_path=mebocost_enzyme_sensor_interactions_folder_path,\n",
    "    species=\"mouse\",\n",
    "    plot_gp_gene_count_distributions=True)\n",
    "\n",
    "# Retrieve unique source and target genes from MEBOCOST GPs to keep\n",
    "# those genes when filtering\n",
    "mebocost_genes = get_unique_genes_from_gp_dict(\n",
    "    gp_dict=mebocost_gp_dict,\n",
    "    retrieved_gene_entities=[\"sources\", \"targets\"])"
   ]
  },
  {
   "cell_type": "code",
   "execution_count": 25,
   "id": "3f25f3ee-2855-4fb2-8b85-eb8385d63cc9",
   "metadata": {},
   "outputs": [
    {
     "name": "stdout",
     "output_type": "stream",
     "text": [
      "Deoxyuridine_metabolite_enzyme_sensor_GP {'sources': ['Cda', 'Pnp', 'Pnp2', 'Tk1', 'Tk2', 'Tymp'], 'sources_categories': ['enzyme', 'enzyme', 'enzyme', 'enzyme', 'enzyme', 'enzyme'], 'targets': ['Slc29a2'], 'targets_categories': ['sensor']}\n",
      "Deoxycytidine_metabolite_enzyme_sensor_GP {'sources': ['Cda', 'Dck', 'Nt5c', 'Nt5c1a', 'Nt5c1b', 'Nt5c2', 'Nt5e', 'Nt5m'], 'sources_categories': ['enzyme', 'enzyme', 'enzyme', 'enzyme', 'enzyme', 'enzyme', 'enzyme', 'enzyme'], 'targets': ['Slc29a2'], 'targets_categories': ['sensor']}\n",
      "3-Methoxytyramine_metabolite_enzyme_sensor_GP {'sources': ['Comt', 'Maoa', 'Maob'], 'sources_categories': ['enzyme', 'enzyme', 'enzyme'], 'targets': ['Taar1'], 'targets_categories': ['sensor']}\n"
     ]
    }
   ],
   "source": [
    "# Display example MEBOCOST GPs\n",
    "for i, (key, value) in enumerate(mebocost_gp_dict.items()):\n",
    "    if i > 2:\n",
    "        break\n",
    "    print(key, value)"
   ]
  },
  {
   "cell_type": "code",
   "execution_count": 26,
   "id": "81dae867-00ff-4d41-86b6-e5930a97087d",
   "metadata": {},
   "outputs": [],
   "source": [
    "# Add GPs into one combined dictionary\n",
    "# for model training\n",
    "combined_gp_dict = dict(omnipath_gp_dict)\n",
    "combined_gp_dict.update(nichenet_gp_dict)\n",
    "combined_gp_dict.update(mebocost_gp_dict)"
   ]
  },
  {
   "cell_type": "code",
   "execution_count": 27,
   "id": "9c394dd9-06a4-46af-bec2-abe11878ab46",
   "metadata": {},
   "outputs": [
    {
     "name": "stdout",
     "output_type": "stream",
     "text": [
      "Number of gene programs before filtering and combining: 2324.\n",
      "Number of gene programs after filtering and combining: 1818.\n"
     ]
    }
   ],
   "source": [
    "# Filter and combine GPs to avoid overlaps\n",
    "combined_new_gp_dict = filter_and_combine_gp_dict_gps(\n",
    "    gp_dict=combined_gp_dict,\n",
    "    gp_filter_mode=\"subset\",\n",
    "    combine_overlap_gps=True,\n",
    "    overlap_thresh_source_genes=0.9,\n",
    "    overlap_thresh_target_genes=0.9,\n",
    "    overlap_thresh_genes=0.9)\n",
    "\n",
    "print(\"Number of gene programs before filtering and combining: \"\n",
    "      f\"{len(combined_gp_dict)}.\")\n",
    "print(f\"Number of gene programs after filtering and combining: \"\n",
    "      f\"{len(combined_new_gp_dict)}.\")"
   ]
  },
  {
   "cell_type": "markdown",
   "id": "bfba5bdf-4570-4317-9b30-638d7c300cba",
   "metadata": {},
   "source": [
    "### 2.2 Load Data & Compute Spatial Neighbor Graph"
   ]
  },
  {
   "cell_type": "markdown",
   "id": "6e7a16ef-55dc-486f-a70f-0cea4d63f181",
   "metadata": {},
   "source": [
    "- NicheCompass expects a precomputed spatial adjacency matrix stored in 'adata.obsp[adj_key]'.\n",
    "- The user can customize the spatial neighbor graph construction based on the dataset, application, and hypothesis of interest.\n",
    "- In the oneshot sample integration setting, we will compute a separate spatial adjacency matrix for each sample and combine them as disconnected components."
   ]
  },
  {
   "cell_type": "code",
   "execution_count": null,
   "id": "a26845a6-2104-4f28-a64a-34ee203cda53",
   "metadata": {},
   "outputs": [],
   "source": [
    "adata_batch_list = []\n",
    "\n",
    "for batch in batches:\n",
    "    print(f\"Processing batch {batch}...\")\n",
    "    print(\"Loading data...\")\n",
    "    adata_batch = sc.read_h5ad(\n",
    "        f\"{so_data_folder_path}/{dataset}_{batch}.h5ad\")\n",
    "\n",
    "    print(\"Computing spatial neighborhood graph...\\n\")\n",
    "    # Compute (separate) spatial neighborhood graphs\n",
    "    sq.gr.spatial_neighbors(adata_batch,\n",
    "                            coord_type=\"generic\",\n",
    "                            spatial_key=spatial_key,\n",
    "                            n_neighs=n_neighbors)\n",
    "    \n",
    "    # Make adjacency matrix symmetric\n",
    "    adata_batch.obsp[adj_key] = (\n",
    "        adata_batch.obsp[adj_key].maximum(\n",
    "            adata_batch.obsp[adj_key].T))\n",
    "    adata_batch_list.append(adata_batch)\n",
    "adata = ad.concat(adata_batch_list, join=\"inner\")\n",
    "\n",
    "# Combine spatial neighborhood graphs as disconnected components\n",
    "batch_connectivities = []\n",
    "len_before_batch = 0\n",
    "for i in range(len(adata_batch_list)):\n",
    "    if i == 0: # first batch\n",
    "        after_batch_connectivities_extension = sp.csr_matrix(\n",
    "            (adata_batch_list[0].shape[0],\n",
    "            (adata.shape[0] -\n",
    "            adata_batch_list[0].shape[0])))\n",
    "        batch_connectivities.append(sp.hstack(\n",
    "            (adata_batch_list[0].obsp[adj_key],\n",
    "            after_batch_connectivities_extension)))\n",
    "    elif i == (len(adata_batch_list) - 1): # last batch\n",
    "        before_batch_connectivities_extension = sp.csr_matrix(\n",
    "            (adata_batch_list[i].shape[0],\n",
    "            (adata.shape[0] -\n",
    "            adata_batch_list[i].shape[0])))\n",
    "        batch_connectivities.append(sp.hstack(\n",
    "            (before_batch_connectivities_extension,\n",
    "            adata_batch_list[i].obsp[adj_key])))\n",
    "    else: # middle batches\n",
    "        before_batch_connectivities_extension = sp.csr_matrix(\n",
    "            (adata_batch_list[i].shape[0], len_before_batch))\n",
    "        after_batch_connectivities_extension = sp.csr_matrix(\n",
    "            (adata_batch_list[i].shape[0],\n",
    "            (adata.shape[0] -\n",
    "            adata_batch_list[i].shape[0] -\n",
    "            len_before_batch)))\n",
    "        batch_connectivities.append(sp.hstack(\n",
    "            (before_batch_connectivities_extension,\n",
    "            adata_batch_list[i].obsp[adj_key],\n",
    "            after_batch_connectivities_extension)))\n",
    "    len_before_batch += adata_batch_list[i].shape[0]\n",
    "adata.obsp[adj_key] = sp.vstack(batch_connectivities)"
   ]
  },
  {
   "cell_type": "markdown",
   "id": "78ca9ce8-a4fe-462e-99f8-4b737a849546",
   "metadata": {},
   "source": [
    "### 2.3 Filter Genes"
   ]
  },
  {
   "cell_type": "code",
   "execution_count": null,
   "id": "f8363c28-7f25-436f-b4ba-9991476bfa2e",
   "metadata": {
    "tags": []
   },
   "outputs": [],
   "source": [
    "if filter_genes:\n",
    "    print(\"Filtering genes...\")\n",
    "    # Filter genes and only keep ligand, receptor, metabolitye enzyme, \n",
    "    # metabolite sensor and the 'n_hvg' highly variable genes (potential target\n",
    "    # genes of nichenet)\n",
    "    gp_dict_genes = get_unique_genes_from_gp_dict(\n",
    "        gp_dict=combined_new_gp_dict,\n",
    "            retrieved_gene_entities=[\"sources\", \"targets\"])\n",
    "    print(f\"Starting with {len(adata.var_names)} genes.\")\n",
    "    sc.pp.filter_genes(adata,\n",
    "                       min_cells=0)\n",
    "    print(f\"Keeping {len(adata.var_names)} genes after filtering genes with \"\n",
    "          \"expression in 0 cells.\")\n",
    "\n",
    "    sc.pp.highly_variable_genes(\n",
    "        adata,\n",
    "        layer=counts_key,\n",
    "        n_top_genes=n_hvg,\n",
    "        flavor=\"seurat_v3\",\n",
    "        batch_key=condition_key,\n",
    "        subset=False)\n",
    "\n",
    "    # Get gene program relevant genes\n",
    "    gp_relevant_genes = list(set(omnipath_genes + \n",
    "                                 nichenet_source_genes + \n",
    "                                 mebocost_genes))\n",
    "    \n",
    "    adata.var[\"gp_relevant\"] = (\n",
    "        adata.var.index.str.upper().isin(gp_relevant_genes))\n",
    "    adata.var[\"keep_gene\"] = (adata.var[\"gp_relevant\"] | \n",
    "                              adata.var[\"highly_variable\"])\n",
    "    adata = adata[:, adata.var[\"keep_gene\"] == True]\n",
    "    print(f\"Keeping {len(adata.var_names)} highly variable or gene program \"\n",
    "          \"relevant genes.\")\n",
    "    adata = (adata[:, adata.var_names[adata.var_names.str.upper().isin(\n",
    "                gp_dict_genes)].sort_values()])\n",
    "    print(f\"Keeping {len(adata.var_names)} genes after filtering genes not in \"\n",
    "          \"gp dict.\")"
   ]
  },
  {
   "cell_type": "markdown",
   "id": "775ea300-3acb-4fdd-a028-0be53475e819",
   "metadata": {},
   "source": [
    "### 2.4 Add GP Mask to Data"
   ]
  },
  {
   "cell_type": "code",
   "execution_count": null,
   "id": "39b38433-8a34-4141-968d-c330801e4f0e",
   "metadata": {},
   "outputs": [],
   "source": [
    "# Add the GP dictionary as binary masks to the adata\n",
    "add_gps_from_gp_dict_to_adata(\n",
    "    gp_dict=combined_new_gp_dict,\n",
    "    adata=adata,\n",
    "    gp_targets_mask_key=gp_targets_mask_key,\n",
    "    gp_sources_mask_key=gp_sources_mask_key,\n",
    "    gp_names_key=gp_names_key,\n",
    "    min_genes_per_gp=1,\n",
    "    min_source_genes_per_gp=0,\n",
    "    min_target_genes_per_gp=0,\n",
    "    max_genes_per_gp=None,\n",
    "    max_source_genes_per_gp=None,\n",
    "    max_target_genes_per_gp=None)"
   ]
  },
  {
   "cell_type": "markdown",
   "id": "247eea35-f625-498f-bce7-f51dc080d43c",
   "metadata": {},
   "source": [
    "### 2.5 Explore Data"
   ]
  },
  {
   "cell_type": "code",
   "execution_count": null,
   "id": "c30166f1-f8ad-4f65-8c97-8ba37b1ecee2",
   "metadata": {},
   "outputs": [],
   "source": [
    "for batch_idx in range(1, len(batches) + 1):\n",
    "    adata_batch = adata[adata.obs[condition_key] == f\"sagittal{batch_idx}\"]\n",
    "    \n",
    "    print(f\"Summary of batch batch{batch_idx}:\")\n",
    "    print(f\"Number of nodes (observations): {adata_batch.layers[counts_key].shape[0]}\")\n",
    "    print(f\"Number of node features (genes): {adata_batch.layers[counts_key].shape[1]}\")\n",
    "\n",
    "    # Visualize cell-level annotated data in physical space\n",
    "    sc.pl.spatial(adata_batch,\n",
    "                  color=cell_type_key,\n",
    "                  palette=cell_type_colors,\n",
    "                  spot_size=spot_size)        "
   ]
  },
  {
   "cell_type": "markdown",
   "id": "a737810f-bdcb-4b75-96db-ca1db8491852",
   "metadata": {},
   "source": [
    "## 3. Model Training"
   ]
  },
  {
   "cell_type": "markdown",
   "id": "0ff79b0a-f7e9-405a-b8c1-90ae4b450a29",
   "metadata": {},
   "source": [
    "### 3.1 Initialize, Train & Save Model"
   ]
  },
  {
   "cell_type": "code",
   "execution_count": null,
   "id": "085f2594-6c2b-4529-acb6-d47373bca416",
   "metadata": {},
   "outputs": [],
   "source": [
    "# Initialize model\n",
    "model = NicheCompass(adata_sample,\n",
    "                     counts_key=counts_key,\n",
    "                     adj_key=adj_key,\n",
    "                     condition_key=condition_key,\n",
    "                     cond_embed_injection=cond_embed_injection,\n",
    "                     n_cond_embed=n_cond_embed,\n",
    "                     gp_names_key=gp_names_key,\n",
    "                     active_gp_names_key=active_gp_names_key,\n",
    "                     gp_targets_mask_key=gp_targets_mask_key,\n",
    "                     gp_sources_mask_key=gp_sources_mask_key,\n",
    "                     latent_key=latent_key,\n",
    "                     active_gp_thresh_ratio=active_gp_thresh_ratio,\n",
    "                     node_label_method=node_label_method)"
   ]
  },
  {
   "cell_type": "code",
   "execution_count": null,
   "id": "14610388-e14e-428c-92e5-c11561faa66d",
   "metadata": {},
   "outputs": [],
   "source": [
    "# Train model\n",
    "model.train(n_epochs=n_epochs,\n",
    "            n_epochs_all_gps=n_epochs_all_gps,\n",
    "            n_epochs_no_cond_contrastive=n_epochs_no_cond_contrastive,\n",
    "            lr=lr,\n",
    "            lambda_edge_recon=lambda_edge_recon,\n",
    "            lambda_gene_expr_recon=lambda_gene_expr_recon,\n",
    "            lambda_cond_contrastive=lambda_cond_contrastive,\n",
    "            contrastive_logits_pos_ratio=contrastive_logits_pos_ratio,\n",
    "            contrastive_logits_neg_ratio=contrastive_logits_neg_ratio,\n",
    "            lambda_l1_masked=lambda_l1_masked,\n",
    "            edge_batch_size=edge_batch_size,\n",
    "            node_batch_size=12,\n",
    "            use_cuda_if_available=use_cuda_if_available,\n",
    "            verbose=True)"
   ]
  },
  {
   "cell_type": "code",
   "execution_count": null,
   "id": "ec782798-a47e-4e6a-8944-73e896f9ee46",
   "metadata": {},
   "outputs": [],
   "source": [
    "# Compute latent neighbor graph\n",
    "sc.pp.neighbors(model.adata,\n",
    "                use_rep=latent_key,\n",
    "                key_added=latent_key)\n",
    "\n",
    "# Compute UMAP embedding\n",
    "sc.tl.umap(model.adata,\n",
    "           neighbors_key=latent_key)"
   ]
  },
  {
   "cell_type": "code",
   "execution_count": null,
   "id": "27a34205-f8da-4297-8610-40abb8522dfb",
   "metadata": {},
   "outputs": [],
   "source": [
    "# Save trained model\n",
    "model.save(dir_path=model_folder_path,\n",
    "           overwrite=True,\n",
    "           save_adata=True,\n",
    "           adata_file_name=\"adata.h5ad\")"
   ]
  },
  {
   "cell_type": "markdown",
   "id": "bdf44f6c-c9fe-4838-9858-a3b139c81159",
   "metadata": {},
   "source": [
    "## 4. Analysis"
   ]
  },
  {
   "cell_type": "code",
   "execution_count": null,
   "id": "42e7868e-629e-4cc1-95b8-884ef32b1da2",
   "metadata": {},
   "outputs": [],
   "source": [
    "load_timestamp = \"09062023_082132\"\n",
    "\n",
    "figure_folder_path = f\"{artifacts_folder_path}/oneshot_sample_integration/{load_timestamp}/figures\"\n",
    "model_folder_path = f\"{artifacts_folder_path}/oneshot_sample_integration/{load_timestamp}/model\"\n",
    "\n",
    "os.makedirs(figure_folder_path, exist_ok=True)"
   ]
  },
  {
   "cell_type": "code",
   "execution_count": null,
   "id": "4fd10f65-acf9-45c8-99ef-8b9664dee858",
   "metadata": {},
   "outputs": [],
   "source": [
    "# Load trained model\n",
    "model = NicheCompass.load(dir_path=model_folder_path,\n",
    "                          adata=None,\n",
    "                          adata_file_name=\"adata.h5ad\",\n",
    "                          gp_names_key=gp_names_key)"
   ]
  },
  {
   "cell_type": "markdown",
   "id": "b7c955fc-2397-4d22-9a57-8cfbe216d2b8",
   "metadata": {},
   "source": [
    "### 4.1 Visualize NicheCompass Embeddings"
   ]
  },
  {
   "cell_type": "markdown",
   "id": "0498e8c6-3087-4442-8afc-953aeb7e9eaf",
   "metadata": {},
   "source": [
    "First, we will check how well the NicheCompass embeddings are integrated across different batches."
   ]
  },
  {
   "cell_type": "code",
   "execution_count": null,
   "id": "ba9d7ef6-7b70-4c91-82e9-1827da135c41",
   "metadata": {},
   "outputs": [],
   "source": [
    "# Plot UMAP with batch annotations\n",
    "groups = None\n",
    "save_fig = True\n",
    "file_path = f\"{figure_folder_path}/\" \\\n",
    "            \"batch_annotations_latent_space.svg\"\n",
    "\n",
    "fig = sc.pl.umap(model.adata,\n",
    "                 color=[condition_key],\n",
    "                 groups=groups,\n",
    "                 return_fig=True)\n",
    "fig.set_size_inches(12, 8)\n",
    "plt.title(f\"NicheCompass Embeddings Batch Annotations\",\n",
    "          size=20,\n",
    "          pad=15)\n",
    "\n",
    "if save_fig:\n",
    "    fig.savefig(file_path,\n",
    "                bbox_inches=\"tight\")\n",
    "else:\n",
    "    fig.show()"
   ]
  },
  {
   "cell_type": "markdown",
   "id": "214fd512-c2b1-4591-b070-4e0aa2082838",
   "metadata": {},
   "source": [
    "Next, we will look at the preservation of cell type annotations in the embedding space. Note that the goal of NicheCompass is not a perfect separation of cell types but rather to identify spatial cellular niches. Nevertheless, it can be useful to look at the cell type annotations if available."
   ]
  },
  {
   "cell_type": "code",
   "execution_count": null,
   "id": "9c7e5419-d655-4e9e-acdf-8cd6cba5103d",
   "metadata": {},
   "outputs": [],
   "source": [
    "# Plot UMAP with cell type annotations\n",
    "groups = None\n",
    "save_fig = True\n",
    "file_path = f\"{figure_folder_path}/\" \\\n",
    "            \"cell_type_annotations_latent_space.svg\"\n",
    "\n",
    "fig = sc.pl.umap(model.adata,\n",
    "                 color=[cell_type_key],\n",
    "                 palette=cell_type_colors,\n",
    "                 groups=groups,\n",
    "                 return_fig=True)\n",
    "fig.set_size_inches(12, 8)\n",
    "plt.title(f\"NicheCompass Embeddings Cell Type Annotations\",\n",
    "          size=20,\n",
    "          pad=15)\n",
    "\n",
    "if save_fig:\n",
    "    fig.savefig(file_path,\n",
    "                bbox_inches=\"tight\")\n",
    "else:\n",
    "    fig.show()"
   ]
  },
  {
   "cell_type": "markdown",
   "id": "83e7cf35-bb87-456d-8755-ac85e7e001b7",
   "metadata": {
    "tags": []
   },
   "source": [
    "### 4.2 Identify Niches"
   ]
  },
  {
   "cell_type": "markdown",
   "id": "1c05caec-8e43-479f-9386-2bae170da5c9",
   "metadata": {},
   "source": [
    "We compute Leiden clustering based on the NicheCompass embeddings to identify spatial cellular niches."
   ]
  },
  {
   "cell_type": "code",
   "execution_count": null,
   "id": "dafe0f37-0c43-419f-a282-9cb1304404b4",
   "metadata": {},
   "outputs": [],
   "source": [
    "# Compute latent Leiden clustering\n",
    "sc.tl.leiden(adata=model.adata,\n",
    "             resolution=latent_leiden_resolution,\n",
    "             key_added=latent_cluster_key,\n",
    "             neighbors_key=latent_key)"
   ]
  },
  {
   "cell_type": "code",
   "execution_count": null,
   "id": "245725a3-c5b4-45db-b506-294c323b126f",
   "metadata": {},
   "outputs": [],
   "source": [
    "# Create plot of cell type annotations in physical and latent space\n",
    "groups = None # set this to a specific cluster for easy visualization, e.g. [\"0\"]\n",
    "save_fig = True\n",
    "file_path = f\"{figure_folder_path}/\" \\\n",
    "            f\"res_{latent_leiden_resolution}_\" \\\n",
    "            \"latent_clusters_latent_physical_space.svg\"\n",
    "\n",
    "fig = plt.figure(figsize=(12, 14))\n",
    "title = fig.suptitle(t=f\"NicheCompass Latent Clusters \" \\\n",
    "                       \"in Latent and Physical Space\",\n",
    "                     y=0.96,\n",
    "                     x=0.55,\n",
    "                     fontsize=20)\n",
    "spec1 = gridspec.GridSpec(ncols=1,\n",
    "                          nrows=2,\n",
    "                          width_ratios=[1],\n",
    "                          height_ratios=[3, 2])\n",
    "spec2 = gridspec.GridSpec(ncols=len(samples),\n",
    "                          nrows=2,\n",
    "                          width_ratios=[1] * len(samples),\n",
    "                          height_ratios=[3, 2])\n",
    "axs = []\n",
    "axs.append(fig.add_subplot(spec1[0]))\n",
    "sc.pl.umap(adata=model.adata,\n",
    "           color=[latent_cluster_key],\n",
    "           groups=groups,\n",
    "           title=f\"Latent Clusters in Latent Space\",\n",
    "           ax=axs[0],\n",
    "           show=False)\n",
    "for idx, sample in enumerate(samples):\n",
    "    axs.append(fig.add_subplot(spec2[len(samples) + idx]))\n",
    "    sc.pl.spatial(adata=model.adata[model.adata.obs[sample_key] == sample],\n",
    "                  color=[latent_cluster_key],\n",
    "                  groups=groups,\n",
    "                  spot_size=spot_size,\n",
    "                  title=f\"Latent Clusters in Physical Space \\n\"\n",
    "                        f\"(Sample: {sample})\",\n",
    "                  legend_loc=None,\n",
    "                  ax=axs[idx+1],\n",
    "                  show=False)\n",
    "\n",
    "# Create and position shared legend\n",
    "handles, labels = axs[0].get_legend_handles_labels()\n",
    "lgd = fig.legend(handles,\n",
    "                 labels,\n",
    "                 loc=\"center left\",\n",
    "                 bbox_to_anchor=(0.98, 0.5))\n",
    "axs[0].get_legend().remove()\n",
    "\n",
    "# Adjust, save and display plot\n",
    "plt.subplots_adjust(wspace=0.2, hspace=0.25)\n",
    "if save_fig:\n",
    "    fig.savefig(file_path,\n",
    "                bbox_extra_artists=(lgd, title),\n",
    "                bbox_inches=\"tight\")\n",
    "plt.show()"
   ]
  },
  {
   "cell_type": "markdown",
   "id": "8833a38c-8280-4df1-b723-b4e7378e01e7",
   "metadata": {},
   "source": [
    "### 4.3 Analyze Niches"
   ]
  },
  {
   "cell_type": "markdown",
   "id": "aef41514-f036-4e56-b58c-52e49eb65508",
   "metadata": {},
   "source": [
    "Now we will analyze the identified spatial cellular niches."
   ]
  },
  {
   "cell_type": "markdown",
   "id": "e2198716-8b21-4d50-b772-40772ccf4bce",
   "metadata": {},
   "source": [
    "#### 4.3.1 Niche Composition"
   ]
  },
  {
   "cell_type": "markdown",
   "id": "d40c98c4-fae7-41ed-a997-823f321ba785",
   "metadata": {},
   "source": [
    "We can analyze the niche composition in terms of cell type labels."
   ]
  },
  {
   "cell_type": "code",
   "execution_count": null,
   "id": "76243174-739a-4087-9225-b4c9e9096eb2",
   "metadata": {},
   "outputs": [],
   "source": [
    "save_fig = True\n",
    "file_path = f\"{figure_folder_path}/\" \\\n",
    "            f\"res_{latent_leiden_resolution}_\" \\\n",
    "            f\"niche_composition.svg\"\n",
    "\n",
    "df_counts = (model.adata.obs.groupby([latent_cluster_key, cell_type_key])\n",
    "             .size().unstack())\n",
    "df_counts.plot(kind=\"bar\", stacked=True, figsize=(10,10))\n",
    "legend = plt.legend(bbox_to_anchor=(1, 1), loc=\"upper left\", prop={'size': 10})\n",
    "legend.set_title(\"Cell Type Annotations\", prop={'size': 10})\n",
    "plt.title(\"Cell Type Composition of Niches\")\n",
    "plt.xlabel(\"Niche\")\n",
    "plt.ylabel(\"Cell Type Counts\")\n",
    "if save_fig:\n",
    "    plt.savefig(file_path,\n",
    "                bbox_extra_artists=(legend,),\n",
    "                bbox_inches=\"tight\")"
   ]
  },
  {
   "cell_type": "markdown",
   "id": "d366c508-3977-4c90-be37-706823ec0a1d",
   "metadata": {},
   "source": [
    "#### 4.3.2 Cell Type Neighbor Importances"
   ]
  },
  {
   "cell_type": "markdown",
   "id": "3fc85826-fee5-4096-bd7e-79d5fac6411c",
   "metadata": {},
   "source": [
    "Now we will investigate neighbor importances in terms of cell type labels of different niches."
   ]
  },
  {
   "cell_type": "code",
   "execution_count": null,
   "id": "13ab2715-839c-48b5-bb03-90f595912a2e",
   "metadata": {},
   "outputs": [],
   "source": [
    "# Retrieve node neighbor importances \n",
    "# (aggregation weights of the node label aggregator)\n",
    "model.adata.obsp[agg_weights_key] = model.get_neighbor_importances()"
   ]
  },
  {
   "cell_type": "code",
   "execution_count": null,
   "id": "704a27f3-9d84-40a9-b042-c4edc1dc73a4",
   "metadata": {},
   "outputs": [],
   "source": [
    "# Get cell type neighbor importances for each niche / latent cluster\n",
    "niche_neighbor_importances_df = aggregate_obsp_matrix_per_cell_type(\n",
    "    adata=model.adata,\n",
    "    obsp_key=agg_weights_key,\n",
    "    cell_type_key=cell_type_key,\n",
    "    group_key=latent_cluster_key,\n",
    "    agg_rows=True)"
   ]
  },
  {
   "cell_type": "code",
   "execution_count": null,
   "id": "234c07d9-b7d4-4c00-b3cf-4d7490031fe2",
   "metadata": {},
   "outputs": [],
   "source": [
    "display(niche_neighbor_importances_df)"
   ]
  },
  {
   "cell_type": "code",
   "execution_count": null,
   "id": "46410376-d58f-47c5-a657-12f7c6acb638",
   "metadata": {},
   "outputs": [],
   "source": [
    "# Generate chord plots showing cell type neighbor importances\n",
    "# for each niche / latent cluster\n",
    "groups = [\"0\", \"1\", \"2\", \"3\", \"4\", \"5\"] # \"all\"\n",
    "save_fig = True\n",
    "file_path = f\"{figure_folder_path}/\" \\\n",
    "            f\"res_{latent_leiden_resolution}_\" \\\n",
    "            f\"niche_neighbor_importances.png\"\n",
    "\n",
    "create_cell_type_chord_plot_from_df(\n",
    "        adata=model.adata,\n",
    "        df=niche_neighbor_importances_df,\n",
    "        link_threshold=0.01,\n",
    "        cell_type_key=cell_type_key,\n",
    "        group_key=latent_cluster_key,\n",
    "        groups=groups,\n",
    "        plot_label=\"Niche\",\n",
    "        save_fig=save_fig,\n",
    "        file_path=file_path)"
   ]
  },
  {
   "cell_type": "markdown",
   "id": "f14c35a7-6acd-40a9-8aa3-030aff9322aa",
   "metadata": {},
   "source": [
    "### 4.4 Perform Differential Gene Program Testing"
   ]
  },
  {
   "cell_type": "markdown",
   "id": "c8218e90-54d0-4129-9d2e-46b52b062d77",
   "metadata": {},
   "source": [
    "Now we can test which communication gene programs are differentially expressed in a niche. To this end, we will perform differential gene program testing of a selected niche, e.g. latent cluster / niche \"0\" (```selected_cats = [\"0\"]```) vs all other latent clusters / niches (```comparison_cats = \"rest\"```). However, differential gene program testing can also be performed in the following ways:\n",
    "- Set ```selected_cats = None``` to perform differential gene program testing across all niches, as opposed to just for one specific niche.\n",
    "- Set ```comparison_cats = [\"2\", \"3\"]``` to perform differential gene program testing against latent clusters / niches \"2\" and \"3\" as opposed to against all other latent clusters / niches.\n",
    "\n",
    "We choose a log bayes factor threshold of 2.3 to determine strongly enriched gene programs. Alternatively, the threshold could be set to a more restrictive value of 4.6 to only allow decisively enriched gene programs to be identified (see https://en.wikipedia.org/wiki/Bayes_factor)."
   ]
  },
  {
   "cell_type": "code",
   "execution_count": null,
   "id": "306d0863-731e-485f-8099-26576ba243a4",
   "metadata": {},
   "outputs": [],
   "source": [
    "# Check number of active GPs\n",
    "active_gps = model.get_active_gps()\n",
    "print(f\"Number of total gene programs: {len(model.adata.uns[gp_names_key])}.\")\n",
    "print(f\"Number of active gene programs: {len(active_gps)}.\")"
   ]
  },
  {
   "cell_type": "code",
   "execution_count": null,
   "id": "096055da-8d24-4a50-8a53-7eeb3182c8dc",
   "metadata": {},
   "outputs": [],
   "source": [
    "# Display example active GPs\n",
    "gp_summary_df = model.get_gp_summary()\n",
    "gp_summary_df[gp_summary_df[\"gp_active\"] == True].head()"
   ]
  },
  {
   "cell_type": "code",
   "execution_count": null,
   "id": "3e24817c-33f5-405f-a5eb-21c99e0bd083",
   "metadata": {},
   "outputs": [],
   "source": [
    "# Set parameters for differential gp testing\n",
    "selected_cats = [\"0\"]\n",
    "comparison_cats = \"rest\"\n",
    "title = f\"NicheCompass Latent Cluster Strongly Enriched Gene Programs\"\n",
    "log_bayes_factor_thresh = 2.3 # 4.6 decisive threshold (https://en.wikipedia.org/wiki/Bayes_factor)\n",
    "save_fig = True\n",
    "file_path = f\"{figure_folder_path}/\" \\\n",
    "            f\"/log_bayes_factor_{log_bayes_factor_thresh}\" \\\n",
    "             \"_latent_clusters_enriched_gps_dotplot.svg\""
   ]
  },
  {
   "cell_type": "code",
   "execution_count": null,
   "id": "026eb663-d354-40e4-aa1e-cb7d726b90f0",
   "metadata": {},
   "outputs": [],
   "source": [
    "# Run differential gp testing\n",
    "enriched_gps = model.run_differential_gp_tests(\n",
    "    cat_key=latent_cluster_key,\n",
    "    selected_cats=selected_cats,\n",
    "    comparison_cats=comparison_cats,\n",
    "    log_bayes_factor_thresh=log_bayes_factor_thresh)"
   ]
  },
  {
   "cell_type": "code",
   "execution_count": null,
   "id": "7b1a6441-22ee-4012-94fa-56bd9f590923",
   "metadata": {},
   "outputs": [],
   "source": [
    "# Results are stored in a df in the adata object\n",
    "model.adata.uns[differential_gp_test_results_key]"
   ]
  },
  {
   "cell_type": "code",
   "execution_count": null,
   "id": "a8016d3d-b9ab-4736-9432-c99796c3050b",
   "metadata": {},
   "outputs": [],
   "source": [
    "# Create dotplot of results\n",
    "fig = sc.pl.dotplot(model.adata,\n",
    "                    enriched_gps,\n",
    "                    groupby=latent_cluster_key,\n",
    "                    dendrogram=True, \n",
    "                    title=title,\n",
    "                    swap_axes=True,\n",
    "                    return_fig=True,\n",
    "                    figsize=(model.adata.obs[latent_cluster_key].nunique() / 2,\n",
    "                             len(enriched_gps) / 2))\n",
    "if save_fig:\n",
    "    fig.savefig(file_path)\n",
    "else:\n",
    "    fig.show()"
   ]
  },
  {
   "cell_type": "code",
   "execution_count": null,
   "id": "5158964c-6ebb-4602-9b19-e4f337edc3e8",
   "metadata": {},
   "outputs": [],
   "source": [
    "# Store gene program summary of enriched gene programs\n",
    "save_file = True\n",
    "file_path = f\"{figure_folder_path}/\" \\\n",
    "            f\"/log_bayes_factor_{log_bayes_factor_thresh}_\" \\\n",
    "            \"latent_clusters_enriched_gps_summary.csv\"\n",
    "\n",
    "gp_summary_cols = [\"gp_name\",\n",
    "                   \"n_source_genes\",\n",
    "                   \"n_non_zero_source_genes\",\n",
    "                   \"n_target_genes\",\n",
    "                   \"n_non_zero_target_genes\",\n",
    "                   \"gp_source_genes\",\n",
    "                   \"gp_target_genes\",\n",
    "                   \"gp_source_genes_weights_sign_corrected\",\n",
    "                   \"gp_target_genes_weights_sign_corrected\",\n",
    "                   \"gp_source_genes_importances\",\n",
    "                   \"gp_target_genes_importances\"]\n",
    "\n",
    "enriched_gp_summary_df = gp_summary_df[gp_summary_df[\"gp_name\"].isin(enriched_gps)]\n",
    "cat_dtype = pd.CategoricalDtype(categories=enriched_gps, ordered=True)\n",
    "enriched_gp_summary_df.loc[:, \"gp_name\"] = enriched_gp_summary_df[\"gp_name\"].astype(cat_dtype)\n",
    "enriched_gp_summary_df = enriched_gp_summary_df.sort_values(by=\"gp_name\")\n",
    "enriched_gp_summary_df = enriched_gp_summary_df[gp_summary_cols]\n",
    "\n",
    "if save_file:\n",
    "    enriched_gp_summary_df.to_csv(f\"{file_path}\")\n",
    "else:\n",
    "    display(enriched_gp_summary_df)"
   ]
  },
  {
   "cell_type": "markdown",
   "id": "8cd96e52-0d85-449e-9fe2-d2cb1b10ce6b",
   "metadata": {},
   "source": [
    "### 4.5 Analyze Enriched Gene Programs"
   ]
  },
  {
   "cell_type": "markdown",
   "id": "c95dd91b-f613-4cb8-8643-60a8ab1f247c",
   "metadata": {},
   "source": [
    "Now we will have a look at the gene program scores as well as the (log normalized) count distributions of\n",
    "the most important omics features of the differentially expressed gene programs."
   ]
  },
  {
   "cell_type": "code",
   "execution_count": null,
   "id": "56bdc257-06aa-4474-9607-a7cf966f1045",
   "metadata": {},
   "outputs": [],
   "source": [
    "plot_label = \"log_bayes_factor_2.3_cluster_0_vs_rest\"\n",
    "save_figs = True\n",
    "\n",
    "generate_enriched_gp_info_plots(\n",
    "    plot_label=plot_label,\n",
    "    model=model,\n",
    "    sample_key=sample_key,\n",
    "    differential_gp_test_results_key=differential_gp_test_results_key,\n",
    "    cat_key=latent_cluster_key,\n",
    "    cat_palette=latent_cluster_colors,\n",
    "    n_top_enriched_gps=10,\n",
    "    feature_spaces=[\"sagittal1\"], # [\"sagittal2\", \"sagittal3\", \"latent\"]\n",
    "    n_top_genes_per_gp=3,\n",
    "    log_norm_omics_features=True,\n",
    "    save_figs=save_figs,\n",
    "    figure_folder_path=f\"{figure_folder_path}/\",\n",
    "    spot_size=spot_size)"
   ]
  },
  {
   "cell_type": "code",
   "execution_count": null,
   "id": "b40d2fee-5687-4d40-8d45-93760203392d",
   "metadata": {},
   "outputs": [],
   "source": []
  }
 ],
 "metadata": {
  "kernelspec": {
   "display_name": "Python 3 (ipykernel)",
   "language": "python",
   "name": "python3"
  },
  "language_info": {
   "codemirror_mode": {
    "name": "ipython",
    "version": 3
   },
   "file_extension": ".py",
   "mimetype": "text/x-python",
   "name": "python",
   "nbconvert_exporter": "python",
   "pygments_lexer": "ipython3",
   "version": "3.9.16"
  }
 },
 "nbformat": 4,
 "nbformat_minor": 5
}
