{
 "cells": [
  {
   "cell_type": "markdown",
   "id": "1b1daabf-c8e3-43d4-aa32-9789abcc8619",
   "metadata": {},
   "source": [
    "# NicheCompass Sample Integration Tutorial"
   ]
  },
  {
   "cell_type": "markdown",
   "id": "c325d921-2077-42b3-90a8-6f6c7dd928c5",
   "metadata": {},
   "source": [
    "- **Creator**: Sebastian Birk (<sebastian.birk@helmholtz-munich.de>).\n",
    "- **Affiliation:** Helmholtz Munich, Institute of Computational Biology (ICB), Talavera-López Lab\n",
    "- **Date of Creation:** 18.05.2023\n",
    "- **Date of Last Modification:** 18.05.2023"
   ]
  },
  {
   "cell_type": "markdown",
   "id": "7350cbcb-18f8-4f7a-a476-2dd0a0e1e3be",
   "metadata": {},
   "source": [
    "## 1. Setup"
   ]
  },
  {
   "cell_type": "markdown",
   "id": "2ada23e4-a814-4374-825f-00528a78cec4",
   "metadata": {},
   "source": [
    "### 1.1 Import Libraries"
   ]
  },
  {
   "cell_type": "code",
   "execution_count": null,
   "id": "1f54c6e8-ff7b-438a-b86d-1c5c3d2bf8be",
   "metadata": {},
   "outputs": [],
   "source": [
    "import os\n",
    "from datetime import datetime\n",
    "\n",
    "import anndata as ad\n",
    "import numpy as np\n",
    "import scanpy as sc\n",
    "import scipy.sparse as sp\n",
    "import squidpy as sq\n",
    "\n",
    "from nichecompass.models import NicheCompass\n",
    "from nichecompass.utils import (add_gps_from_gp_dict_to_adata,\n",
    "                                extract_gp_dict_from_mebocost_es_interactions,\n",
    "                                extract_gp_dict_from_nichenet_ligand_target_mx,\n",
    "                                extract_gp_dict_from_omnipath_lr_interactions,\n",
    "                                filter_and_combine_gp_dict_gps,\n",
    "                                get_unique_genes_from_gp_dict)"
   ]
  },
  {
   "cell_type": "markdown",
   "id": "0dcc2cfe-2cff-4d1d-9b99-5163cca5ec41",
   "metadata": {},
   "source": [
    "### 1.2 Define Parameters"
   ]
  },
  {
   "cell_type": "code",
   "execution_count": null,
   "id": "109b8c21-9856-45f6-927a-39fb8b9a5072",
   "metadata": {},
   "outputs": [],
   "source": [
    "### Dataset ###\n",
    "dataset = \"seqfish_mouse_organogenesis_imputed\"\n",
    "batches = [\"batch1\", \"batch2\", \"batch3\"]\n",
    "spatial_key = \"spatial\"\n",
    "n_neighbors = 12\n",
    "filter_genes = True\n",
    "n_hvg = 3000\n",
    "\n",
    "### Model ###\n",
    "# AnnData keys\n",
    "counts_key = \"log_normalized_counts\"\n",
    "adj_key = \"spatial_connectivities\"\n",
    "condition_key = \"batch\"\n",
    "gp_names_key = \"nichecompass_gp_names\"\n",
    "active_gp_names_key = \"nichecompass_active_gp_names\"\n",
    "gp_targets_mask_key = \"nichecompass_gp_targets\"\n",
    "gp_sources_mask_key = \"nichecompass_gp_sources\"\n",
    "latent_key = \"nichecompass_latent\"\n",
    "\n",
    "# Architecture\n",
    "active_gp_thresh_ratio = 0.1\n",
    "node_label_method = \"one-hop-norm\" # choose one-hop-attention for more performant model training\n",
    "log_variational = counts_key == \"counts\" # True if raw counts, False if log normalized counts\n",
    "\n",
    "# Trainer\n",
    "n_epochs = 100\n",
    "n_epochs_all_gps = 25\n",
    "n_epochs_no_cond_contrastive = 5\n",
    "lr = 0.001\n",
    "lambda_edge_recon = 500000.\n",
    "lambda_gene_expr_recon = 300.\n",
    "lambda_cond_contrastive = 0.\n",
    "contrastive_logits_ratio = 0.\n",
    "lambda_l1_masked = 30.\n",
    "edge_batch_size = 128 # 2048\n",
    "use_cuda_if_available = True\n",
    "\n",
    "### Analysis ###\n",
    "cell_type_key = \"celltype_mapped_refined\"\n",
    "random_seed = 0\n",
    "celL_type_colors = {\n",
    "    \"Epiblast\" : \"#FFD8B8\", # Peach\n",
    "    \"Primitive Streak\" : \"#F9CB9C\", # Light Peach\n",
    "    \"Caudal epiblast\" : \"#FFB8A2\", # Apricot\n",
    "    \"PGC\" : \"#F08CAE\", # Pink\n",
    "    \"Anterior Primitive Streak\" : \"#F49FAD\", # Pale Pink\n",
    "    \"Notochord\" : \"#E7F0A4\", # Pale Canary\n",
    "    \"Def. endoderm\" : \"#C7F2C2\", # Light Green\n",
    "    \"Definitive endoderm\" : \"#97E6A1\", # Soft Green\n",
    "    \"Gut\" : \"#FE938C\", # Coral\n",
    "    \"Gut tube\" : \"#A5DEE4\", # Pale Blue\n",
    "    \"Nascent mesoderm\" : \"#5CA4A9\", # Blue-Green\n",
    "    \"Mixed mesoderm\" : \"#6B5B95\", # Lavender\n",
    "    \"Intermediate mesoderm\" : \"#F9A03F\", # Orange\n",
    "    \"Caudal Mesoderm\" : \"#F7DB6A\", # Light Yellow\n",
    "    \"Paraxial mesoderm\" : \"#EEBB4D\", # Light Amber\n",
    "    \"Somitic mesoderm\" : \"#D6E4B2\", # Pale Green\n",
    "    \"Pharyngeal mesoderm\" : \"#A8DADC\", # Pale Cyan\n",
    "    \"Splanchnic mesoderm\" : \"#3D5A80\", # Dark Blue\n",
    "    \"Cardiomyocytes\" : \"#3E3F8A\", # Navy Blue\n",
    "    \"Allantois\" : \"#218380\", # Teal\n",
    "    \"ExE mesoderm\" : \"#90BE6D\", # Soft Green-Yellow\n",
    "    \"Lateral plate mesoderm\" : \"#FFD369\", # Yellow\n",
    "    \"Mesenchyme\" : \"#ED553B\", # Red-Orange\n",
    "    \"Mixed mesenchymal mesoderm\" : \"#DA627D\", # Mauve\n",
    "    \"Haematoendothelial progenitors\" : \"#6C5B7B\", # Purple\n",
    "    \"Endothelium\" : \"#4ECDC4\", # Mint\n",
    "    \"Blood progenitors 1\" : \"#65AADD\", # Sky Blue\n",
    "    \"Blood progenitors 2\" : \"#8FBFE0\", # Powder Blue\n",
    "    \"Erythroid1\" : \"#A2D2FF\", # Pale Sky Blue\n",
    "    \"Erythroid2\" : \"#F3C969\", # Light Amber-Yellow\n",
    "    \"Erythroid3\" : \"#EE6C4D\", # Light Red-Orange\n",
    "    \"Erythroid\" : \"#EC4E20\", # Bright Red\n",
    "    \"Blood progenitors\" : \"#D64161\", # Dark Pink\n",
    "    \"NMP\" : \"#FF7A5A\", # Bright Coral\n",
    "    \"Rostral neurectoderm\" : \"#E7A977\", # Light Coral\n",
    "    \"Caudal neurectoderm\" : \"#FECE44\", # Bright Yellow\n",
    "    \"Neural crest\" : \"#FFC55F\", # Yellow-Orange\n",
    "    \"Forebrain/Midbrain/Hindbrain\" : \"#F89E7B\", # Light Coral-Orange\n",
    "    \"Spinal cord\" : \"#7ECEFD\", # Baby Blue\n",
    "    \"Surface ectoderm\" : \"#C9B1BD\", # Pale Mauve\n",
    "    \"Visceral endoderm\" : \"#E6A0C4\", # Light Pink\n",
    "    \"ExE endoderm\" : \"#E36BAE\", # Bright Pink\n",
    "    \"ExE ectoderm\" : \"#8B5B6E\", # Mauve-Brown\n",
    "    \"Parietal endoderm\" : \"#748CAB\", # Blue-Gray\n",
    "    \"Low quality\" : \"#E5E5E5\", # Light Gray\n",
    "    \"Cranial mesoderm\" : \"#C4C4C4\", # Gray\n",
    "    \"Anterior somitic tissues\" : \"#A4A4A4\", # Dark Gray\n",
    "    \"Sclerotome\" : \"#4D4D4D\", # Charcoal\n",
    "    \"Dermomyotome\" : \"#F8B195\", # Dusty Peach\n",
    "    \"Posterior somitic tissues\" : \"#F67280\", # Salmon Pink\n",
    "    \"Presomitic mesoderm\" : \"#C06C84\", # Rose\n",
    "}"
   ]
  },
  {
   "cell_type": "markdown",
   "id": "47cb51f2-d355-459c-933d-b1a2d012e87a",
   "metadata": {},
   "source": [
    "### 1.3 Run Notebook Setup"
   ]
  },
  {
   "cell_type": "code",
   "execution_count": null,
   "id": "65aacc56-a44e-4ea8-b9f9-d7eec3324d39",
   "metadata": {},
   "outputs": [],
   "source": [
    "# Get time of notebook execution for timestamping saved artifacts\n",
    "now = datetime.now()\n",
    "current_timestamp = now.strftime(\"%d%m%Y_%H%M%S\")"
   ]
  },
  {
   "cell_type": "markdown",
   "id": "5063253e-b9df-47e3-96f0-522dcf862f1e",
   "metadata": {},
   "source": [
    "### 1.4 Configure Paths and Create Directories"
   ]
  },
  {
   "cell_type": "code",
   "execution_count": null,
   "id": "17784aad-a597-4df6-b536-b932993d2f28",
   "metadata": {},
   "outputs": [],
   "source": [
    "# Define paths\n",
    "gp_data_folder_path = \"../data/gene_programs\"\n",
    "so_data_folder_path = \"../data/spatial_omics\"\n",
    "omnipath_ligand_receptor_interactions_file_path = f\"{gp_data_folder_path}/omnipath_lr_interactions.csv\"\n",
    "nichenet_ligand_target_interactions_file_path = f\"{gp_data_folder_path}/nichenet_ligand_target_matrix.csv\"\n",
    "mebocost_enzyme_sensor_interactions_folder_path = f\"{gp_data_folder_path}/metabolite_enzyme_sensor_gps\"\n",
    "artifacts_folder_path = f\"../artifacts\"\n",
    "figure_folder_path = f\"{artifacts_folder_path}/figures\"\n",
    "model_folder_path = f\"{artifacts_folder_path}/models\"\n",
    "\n",
    "# Create required directories\n",
    "os.makedirs(figure_folder_path, exist_ok=True)\n",
    "os.makedirs(model_folder_path, exist_ok=True)"
   ]
  },
  {
   "cell_type": "markdown",
   "id": "8cec1aef-52bd-456c-bc80-09390f6dba8f",
   "metadata": {
    "tags": []
   },
   "source": [
    "## 2. Model Preparation"
   ]
  },
  {
   "cell_type": "markdown",
   "id": "82ddd359-3f55-4960-952b-3f8e6faa441f",
   "metadata": {},
   "source": [
    "### 2.1 Create Prior Knowledge Cell-Cell-Interaction Gene Program (GP) Mask"
   ]
  },
  {
   "cell_type": "markdown",
   "id": "693b4b94-77e9-4253-8ecb-6f7b22e81fbb",
   "metadata": {},
   "source": [
    "The user can provide a custom GP mask to NicheCompass based on the dataset, application, and hypothesis of interest. \n",
    "\n",
    "As a default, we create a GP mask based on three databases of prior cell-cell-interaction knowledge:\n",
    "- OmniPath\n",
    "- NicheNet\n",
    "- MEBOCOST"
   ]
  },
  {
   "cell_type": "code",
   "execution_count": null,
   "id": "cd782946-e6cc-4206-be3d-d9f1ffdd5ab4",
   "metadata": {},
   "outputs": [],
   "source": [
    "# Retrieve OmniPath GPs (source: ligand gene; target: receptor gene)\n",
    "omnipath_gp_dict = extract_gp_dict_from_omnipath_lr_interactions(\n",
    "    min_curation_effort=0,\n",
    "    load_from_disk=False,\n",
    "    save_to_disk=True,\n",
    "    file_path=omnipath_ligand_receptor_interactions_file_path,\n",
    "    plot_gp_gene_count_distributions=True)\n",
    "\n",
    "# Retrieve unique source and target genes from OmniPath GPs to keep\n",
    "# those genes when filtering\n",
    "omnipath_genes = get_unique_genes_from_gp_dict(\n",
    "    gp_dict=omnipath_gp_dict,\n",
    "    retrieved_gene_entities=[\"sources\", \"targets\"])"
   ]
  },
  {
   "cell_type": "code",
   "execution_count": null,
   "id": "6f4fd4c5-19a3-40d3-8e6d-f78746f7c6c3",
   "metadata": {},
   "outputs": [],
   "source": [
    "# Retrieve NicheNet GPs (source: ligand gene; target: target genes)\n",
    "nichenet_gp_dict = extract_gp_dict_from_nichenet_ligand_target_mx(\n",
    "    keep_target_genes_ratio=0.01,\n",
    "    max_n_target_genes_per_gp=1000,\n",
    "    load_from_disk=False,\n",
    "    save_to_disk=True,\n",
    "    file_path=nichenet_ligand_target_interactions_file_path,\n",
    "    plot_gp_gene_count_distributions=True)\n",
    "\n",
    "# Retrieve unique source genes from NicheNet GPs to keep\n",
    "# those genes when filtering\n",
    "nichenet_source_genes = get_unique_genes_from_gp_dict(\n",
    "    gp_dict=nichenet_gp_dict,\n",
    "    retrieved_gene_entities=[\"sources\"])"
   ]
  },
  {
   "cell_type": "code",
   "execution_count": null,
   "id": "28a1b02c-e733-4201-ace5-14f5eff00abc",
   "metadata": {},
   "outputs": [],
   "source": [
    "# Retrieve MEBOCOST GPs (source: enzyme genes; target: sensor genes)\n",
    "mebocost_gp_dict = extract_gp_dict_from_mebocost_es_interactions(\n",
    "    dir_path=mebocost_enzyme_sensor_interactions_folder_path,\n",
    "    species=\"mouse\",\n",
    "    plot_gp_gene_count_distributions=True)\n",
    "\n",
    "# Retrieve unique source and target genes from MEBOCOST GPs to keep\n",
    "# those genes when filtering\n",
    "mebocost_genes = get_unique_genes_from_gp_dict(\n",
    "    gp_dict=mebocost_gp_dict,\n",
    "    retrieved_gene_entities=[\"sources\", \"targets\"])"
   ]
  },
  {
   "cell_type": "code",
   "execution_count": null,
   "id": "81dae867-00ff-4d41-86b6-e5930a97087d",
   "metadata": {},
   "outputs": [],
   "source": [
    "# Add GPs into one dictionary\n",
    "combined_gp_dict = dict(omnipath_gp_dict)\n",
    "combined_gp_dict.update(nichenet_gp_dict)\n",
    "combined_gp_dict.update(mebocost_gp_dict)"
   ]
  },
  {
   "cell_type": "code",
   "execution_count": null,
   "id": "9c394dd9-06a4-46af-bec2-abe11878ab46",
   "metadata": {},
   "outputs": [],
   "source": [
    "# Filter and combine GPs\n",
    "combined_new_gp_dict = filter_and_combine_gp_dict_gps(\n",
    "    gp_dict=combined_gp_dict,\n",
    "    gp_filter_mode=\"subset\",\n",
    "    combine_overlap_gps=True,\n",
    "    overlap_thresh_source_genes=0.9,\n",
    "    overlap_thresh_target_genes=0.9,\n",
    "    overlap_thresh_genes=0.9)\n",
    "\n",
    "print(\"Number of gene programs before filtering and combining: \"\n",
    "      f\"{len(combined_gp_dict)}.\")\n",
    "print(f\"Number of gene programs after filtering and combining: \"\n",
    "      f\"{len(combined_new_gp_dict)}.\")"
   ]
  },
  {
   "cell_type": "markdown",
   "id": "bfba5bdf-4570-4317-9b30-638d7c300cba",
   "metadata": {},
   "source": [
    "### 2.2 Load Data & Compute Spatial Neighbor Graph"
   ]
  },
  {
   "cell_type": "markdown",
   "id": "6e7a16ef-55dc-486f-a70f-0cea4d63f181",
   "metadata": {},
   "source": [
    "- NicheCompass expects a precomputed spatial adjacency matrix stored in 'adata.obsp[adj_key]'.\n",
    "- The user can customize the spatial neighbor graph construction based on the dataset and application of interest."
   ]
  },
  {
   "cell_type": "code",
   "execution_count": null,
   "id": "a26845a6-2104-4f28-a64a-34ee203cda53",
   "metadata": {},
   "outputs": [],
   "source": [
    "adata_batch_list = []\n",
    "\n",
    "for batch in batches:\n",
    "    print(f\"Processing batch {batch}...\")\n",
    "    print(\"Loading data...\")\n",
    "    adata_batch = sc.read_h5ad(\n",
    "        f\"{so_data_folder_path}/{dataset}_{batch}.h5ad\")\n",
    "\n",
    "    print(\"Computing spatial neighborhood graph...\\n\")\n",
    "    # Compute (separate) spatial neighborhood graphs\n",
    "    sq.gr.spatial_neighbors(adata_batch,\n",
    "                            coord_type=\"generic\",\n",
    "                            spatial_key=spatial_key,\n",
    "                            n_neighs=n_neighbors)\n",
    "    \n",
    "    # Make adjacency matrix symmetric\n",
    "    adata_batch.obsp[adj_key] = (\n",
    "        adata_batch.obsp[adj_key].maximum(\n",
    "            adata_batch.obsp[adj_key].T))\n",
    "    adata_batch_list.append(adata_batch)\n",
    "adata = ad.concat(adata_batch_list, join=\"inner\")\n",
    "\n",
    "# Combine spatial neighborhood graphs as disconnected components\n",
    "batch_connectivities = []\n",
    "len_before_batch = 0\n",
    "for i in range(len(adata_batch_list)):\n",
    "    if i == 0: # first batch\n",
    "        after_batch_connectivities_extension = sp.csr_matrix(\n",
    "            (adata_batch_list[0].shape[0],\n",
    "            (adata.shape[0] -\n",
    "            adata_batch_list[0].shape[0])))\n",
    "        batch_connectivities.append(sp.hstack(\n",
    "            (adata_batch_list[0].obsp[adj_key],\n",
    "            after_batch_connectivities_extension)))\n",
    "    elif i == (len(adata_batch_list) - 1): # last batch\n",
    "        before_batch_connectivities_extension = sp.csr_matrix(\n",
    "            (adata_batch_list[i].shape[0],\n",
    "            (adata.shape[0] -\n",
    "            adata_batch_list[i].shape[0])))\n",
    "        batch_connectivities.append(sp.hstack(\n",
    "            (before_batch_connectivities_extension,\n",
    "            adata_batch_list[i].obsp[adj_key])))\n",
    "    else: # middle batches\n",
    "        before_batch_connectivities_extension = sp.csr_matrix(\n",
    "            (adata_batch_list[i].shape[0], len_before_batch))\n",
    "        after_batch_connectivities_extension = sp.csr_matrix(\n",
    "            (adata_batch_list[i].shape[0],\n",
    "            (adata.shape[0] -\n",
    "            adata_batch_list[i].shape[0] -\n",
    "            len_before_batch)))\n",
    "        batch_connectivities.append(sp.hstack(\n",
    "            (before_batch_connectivities_extension,\n",
    "            adata_batch_list[i].obsp[adj_key],\n",
    "            after_batch_connectivities_extension)))\n",
    "    len_before_batch += adata_batch_list[i].shape[0]\n",
    "adata.obsp[adj_key] = sp.vstack(batch_connectivities)"
   ]
  },
  {
   "cell_type": "markdown",
   "id": "78ca9ce8-a4fe-462e-99f8-4b737a849546",
   "metadata": {},
   "source": [
    "### 2.3 Filter Genes"
   ]
  },
  {
   "cell_type": "code",
   "execution_count": null,
   "id": "f8363c28-7f25-436f-b4ba-9991476bfa2e",
   "metadata": {
    "tags": []
   },
   "outputs": [],
   "source": [
    "if filter_genes:\n",
    "    print(\"Filtering genes...\")\n",
    "    # Filter genes and only keep ligand, receptor, metabolitye enzyme, \n",
    "    # metabolite sensor and the 'n_hvg' highly variable genes (potential target\n",
    "    # genes of nichenet)\n",
    "    gp_dict_genes = get_unique_genes_from_gp_dict(\n",
    "        gp_dict=combined_new_gp_dict,\n",
    "            retrieved_gene_entities=[\"sources\", \"targets\"])\n",
    "    print(f\"Starting with {len(adata.var_names)} genes.\")\n",
    "    sc.pp.filter_genes(adata,\n",
    "                       min_cells=0)\n",
    "    print(f\"Keeping {len(adata.var_names)} genes after filtering genes with \"\n",
    "          \"expression in 0 cells.\")\n",
    "\n",
    "    if (adata.layers[counts_key].astype(int).astype(np.float32).sum() == \n",
    "    adata.layers[counts_key].sum()): # raw counts\n",
    "        hvg_flavor = \"seurat_v3\"\n",
    "    else: # log normalized counts\n",
    "        hvg_flavor = \"seurat\"\n",
    "\n",
    "    sc.pp.highly_variable_genes(\n",
    "        adata,\n",
    "        layer=counts_key,\n",
    "        n_top_genes=n_hvg,\n",
    "        flavor=hvg_flavor,\n",
    "        batch_key=condition_key,\n",
    "        subset=False)\n",
    "\n",
    "    # Get gene program relevant genes\n",
    "    gp_relevant_genes = list(set(omnipath_genes + \n",
    "                                 nichenet_source_genes + \n",
    "                                 mebocost_genes))\n",
    "    \n",
    "    adata.var[\"gp_relevant\"] = (\n",
    "        adata.var.index.str.upper().isin(gp_relevant_genes))\n",
    "    adata.var[\"keep_gene\"] = (adata.var[\"gp_relevant\"] | \n",
    "                              adata.var[\"highly_variable\"])\n",
    "    adata = adata[:, adata.var[\"keep_gene\"] == True]\n",
    "    print(f\"Keeping {len(adata.var_names)} highly variable or gene program \"\n",
    "          \"relevant genes.\")\n",
    "    adata = (adata[:, adata.var_names[adata.var_names.str.upper().isin(\n",
    "                gp_dict_genes)].sort_values()])\n",
    "    print(f\"Keeping {len(adata.var_names)} genes after filtering genes not in \"\n",
    "          \"gp dict.\")"
   ]
  },
  {
   "cell_type": "markdown",
   "id": "775ea300-3acb-4fdd-a028-0be53475e819",
   "metadata": {},
   "source": [
    "### 2.4 Add GP Mask to Data"
   ]
  },
  {
   "cell_type": "code",
   "execution_count": null,
   "id": "39b38433-8a34-4141-968d-c330801e4f0e",
   "metadata": {},
   "outputs": [],
   "source": [
    "# Add the GP dictionary as binary masks to the adata\n",
    "add_gps_from_gp_dict_to_adata(\n",
    "    gp_dict=combined_new_gp_dict,\n",
    "    adata=adata,\n",
    "    gp_targets_mask_key=gp_targets_mask_key,\n",
    "    gp_sources_mask_key=gp_sources_mask_key,\n",
    "    gp_names_key=gp_names_key,\n",
    "    min_genes_per_gp=1,\n",
    "    min_source_genes_per_gp=0,\n",
    "    min_target_genes_per_gp=0,\n",
    "    max_genes_per_gp=None,\n",
    "    max_source_genes_per_gp=None,\n",
    "    max_target_genes_per_gp=None)"
   ]
  },
  {
   "cell_type": "markdown",
   "id": "247eea35-f625-498f-bce7-f51dc080d43c",
   "metadata": {},
   "source": [
    "### 2.5 Explore Data"
   ]
  },
  {
   "cell_type": "code",
   "execution_count": null,
   "id": "c30166f1-f8ad-4f65-8c97-8ba37b1ecee2",
   "metadata": {},
   "outputs": [],
   "source": [
    "for batch_idx in range(1, len(batches) + 1):\n",
    "    adata_batch = adata[adata.obs[condition_key] == f\"embryo{batch_idx}\"]\n",
    "    \n",
    "    print(f\"Summary of batch batch{batch_idx}:\")\n",
    "    print(f\"Number of nodes (observations): {adata_batch.layers[counts_key].shape[0]}\")\n",
    "    print(f\"Number of node features (genes): {adata_batch.layers[counts_key].shape[1]}\")\n",
    "\n",
    "    # Visualize cell-level annotated data in physical space\n",
    "    sc.pl.spatial(adata_batch,\n",
    "                  color=cell_type_key,\n",
    "                  palette=celL_type_colors,\n",
    "                  spot_size=0.03)        "
   ]
  },
  {
   "cell_type": "markdown",
   "id": "a737810f-bdcb-4b75-96db-ca1db8491852",
   "metadata": {},
   "source": [
    "## 3. Model Training"
   ]
  },
  {
   "cell_type": "markdown",
   "id": "0ff79b0a-f7e9-405a-b8c1-90ae4b450a29",
   "metadata": {},
   "source": [
    "### 3.1 Initialize, Train & Save Model"
   ]
  },
  {
   "cell_type": "code",
   "execution_count": null,
   "id": "085f2594-6c2b-4529-acb6-d47373bca416",
   "metadata": {},
   "outputs": [],
   "source": [
    "# Initialize model\n",
    "model = NicheCompass(adata,\n",
    "                     counts_key=counts_key,\n",
    "                     adj_key=adj_key,\n",
    "                     condition_key=condition_key,\n",
    "                     gp_names_key=gp_names_key,\n",
    "                     active_gp_names_key=active_gp_names_key,\n",
    "                     gp_targets_mask_key=gp_targets_mask_key,\n",
    "                     gp_sources_mask_key=gp_sources_mask_key,\n",
    "                     latent_key=latent_key,\n",
    "                     active_gp_thresh_ratio=active_gp_thresh_ratio,\n",
    "                     log_variational=log_variational,\n",
    "                     node_label_method=node_label_method)"
   ]
  },
  {
   "cell_type": "code",
   "execution_count": null,
   "id": "14610388-e14e-428c-92e5-c11561faa66d",
   "metadata": {},
   "outputs": [],
   "source": [
    "# Train model\n",
    "model.train(n_epochs=n_epochs,\n",
    "            n_epochs_all_gps=n_epochs_all_gps,\n",
    "            n_epochs_no_cond_contrastive=n_epochs_no_cond_contrastive,\n",
    "            lr=lr,\n",
    "            lambda_edge_recon=lambda_edge_recon,\n",
    "            lambda_gene_expr_recon=lambda_gene_expr_recon,\n",
    "            lambda_cond_contrastive=lambda_cond_contrastive,\n",
    "            contrastive_logits_ratio=contrastive_logits_ratio,\n",
    "            lambda_l1_masked=lambda_l1_masked,\n",
    "            edge_batch_size=edge_batch_size,\n",
    "            use_cuda_if_available=use_cuda_if_available)"
   ]
  },
  {
   "cell_type": "code",
   "execution_count": null,
   "id": "ec782798-a47e-4e6a-8944-73e896f9ee46",
   "metadata": {},
   "outputs": [],
   "source": [
    "# Compute latent neighbor graph\n",
    "sc.pp.neighbors(model.adata,\n",
    "                use_rep=latent_key,\n",
    "                key_added=latent_key)\n",
    "\n",
    "\n",
    "# Compute UMAP embedding\n",
    "sc.tl.umap(model.adata,\n",
    "           neighbors_key=latent_key)"
   ]
  },
  {
   "cell_type": "code",
   "execution_count": null,
   "id": "27a34205-f8da-4297-8610-40abb8522dfb",
   "metadata": {},
   "outputs": [],
   "source": [
    "# Save trained model\n",
    "model.save(dir_path=f\"{model_folder_path}/{current_timestamp}\",\n",
    "           overwrite=True,\n",
    "           save_adata=True,\n",
    "           adata_file_name=\"adata.h5ad\")"
   ]
  },
  {
   "cell_type": "markdown",
   "id": "9d3410bd-4338-441d-bffc-3df860d429ed",
   "metadata": {},
   "source": [
    "## 4. Analysis"
   ]
  },
  {
   "cell_type": "code",
   "execution_count": null,
   "id": "11a5d044-4a3e-4629-8e1d-ea17731475a7",
   "metadata": {},
   "outputs": [],
   "source": [
    "# Load trained model\n",
    "load_timestamp = \"17052023_140928\"\n",
    "model = NicheCompass.load(dir_path=f\"{model_folder_path}/{load_timestamp}\",\n",
    "                          adata=None,\n",
    "                          adata_file_name=\"adata.h5ad\",\n",
    "                          gp_names_key=gp_names_key)"
   ]
  },
  {
   "cell_type": "code",
   "execution_count": null,
   "id": "536be63c-11c6-438b-b27d-d03a49126b28",
   "metadata": {},
   "outputs": [],
   "source": [
    "# Check number of active GPs\n",
    "active_gps = model.get_active_gps()\n",
    "print(f\"Number of total gene programs: {len(model.adata.uns[gp_names_key])}.\")\n",
    "print(f\"Number of active gene programs: {len(active_gps)}.\")"
   ]
  },
  {
   "cell_type": "code",
   "execution_count": null,
   "id": "0af698b0-05a3-462e-a46e-ddc6b0306a98",
   "metadata": {},
   "outputs": [],
   "source": [
    "# Inspect GPs\n",
    "gp_summary_df = model.get_gp_summary()\n",
    "gp_summary_df[gp_summary_df[\"gp_active\"] == True].head()"
   ]
  },
  {
   "cell_type": "markdown",
   "id": "efd816a0-ef37-4f50-a641-a8c06d12820e",
   "metadata": {
    "tags": []
   },
   "source": [
    "### 4.1 NicheCompass Latent Manifold Overview"
   ]
  },
  {
   "cell_type": "code",
   "execution_count": null,
   "id": "164e07de-d7a9-4fe1-9997-02ca3a784645",
   "metadata": {},
   "outputs": [],
   "source": [
    "# Plot UMAP with cell type annotations\n",
    "sc.pl.umap(model.adata,\n",
    "           color=[cell_type_key])"
   ]
  },
  {
   "cell_type": "markdown",
   "id": "11bf0882-c09c-4725-a5c8-9646cb81bb62",
   "metadata": {},
   "source": [
    "### 4.2 NicheCompass Latent Cluster Differential GP Testing"
   ]
  },
  {
   "cell_type": "markdown",
   "id": "9386de76-23e7-4adb-a302-4d480d956f75",
   "metadata": {},
   "source": [
    "### 4.3 NicheCompass Cell Type Analysis"
   ]
  },
  {
   "cell_type": "code",
   "execution_count": null,
   "id": "b40d2fee-5687-4d40-8d45-93760203392d",
   "metadata": {},
   "outputs": [],
   "source": []
  }
 ],
 "metadata": {
  "kernelspec": {
   "display_name": "Python 3 (ipykernel)",
   "language": "python",
   "name": "python3"
  },
  "language_info": {
   "codemirror_mode": {
    "name": "ipython",
    "version": 3
   },
   "file_extension": ".py",
   "mimetype": "text/x-python",
   "name": "python",
   "nbconvert_exporter": "python",
   "pygments_lexer": "ipython3",
   "version": "3.9.16"
  }
 },
 "nbformat": 4,
 "nbformat_minor": 5
}
