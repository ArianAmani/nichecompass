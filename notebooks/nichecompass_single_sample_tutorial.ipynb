{
 "cells": [
  {
   "cell_type": "markdown",
   "id": "1b1daabf-c8e3-43d4-aa32-9789abcc8619",
   "metadata": {},
   "source": [
    "# NicheCompass Single Sample Tutorial"
   ]
  },
  {
   "cell_type": "markdown",
   "id": "c325d921-2077-42b3-90a8-6f6c7dd928c5",
   "metadata": {},
   "source": [
    "- **Creator**: Sebastian Birk (<sebastian.birk@helmholtz-munich.de>).\n",
    "- **Affiliation:** Helmholtz Munich, Institute of Computational Biology (ICB), Talavera-López Lab\n",
    "- **Date of Creation:** 17.05.2023\n",
    "- **Date of Last Modification:** 18.05.2023"
   ]
  },
  {
   "cell_type": "markdown",
   "id": "2d464ebf-354f-4f61-8040-c3dcbcc893b9",
   "metadata": {},
   "source": [
    "## 1. Setup"
   ]
  },
  {
   "cell_type": "markdown",
   "id": "d5631277-d8d2-4194-a376-280f4f149b7d",
   "metadata": {},
   "source": [
    "### 1.1 Import Libraries"
   ]
  },
  {
   "cell_type": "code",
   "execution_count": null,
   "id": "b4aa3c6a-5a44-4cf1-84a3-5e514457cf3c",
   "metadata": {},
   "outputs": [],
   "source": [
    "import os\n",
    "from datetime import datetime\n",
    "\n",
    "import scanpy as sc\n",
    "import squidpy as sq\n",
    "\n",
    "from nichecompass.models import NicheCompass\n",
    "from nichecompass.utils import (add_gps_from_gp_dict_to_adata,\n",
    "                                extract_gp_dict_from_mebocost_es_interactions,\n",
    "                                extract_gp_dict_from_nichenet_ligand_target_mx,\n",
    "                                extract_gp_dict_from_omnipath_lr_interactions,\n",
    "                                filter_and_combine_gp_dict_gps,\n",
    "                                get_unique_genes_from_gp_dict)"
   ]
  },
  {
   "cell_type": "markdown",
   "id": "9f91f345-c297-47cb-8650-c6d9c60a8b7e",
   "metadata": {},
   "source": [
    "### 1.2 Define Parameters"
   ]
  },
  {
   "cell_type": "code",
   "execution_count": null,
   "id": "a4d4e6d9-239f-47c5-a30b-579b16d4c27c",
   "metadata": {},
   "outputs": [],
   "source": [
    "### Dataset ###\n",
    "spatial_key = \"spatial\"\n",
    "n_neighbors = 12\n",
    "filter_genes = False\n",
    "n_hvg = 3000\n",
    "\n",
    "### Model ###\n",
    "# AnnData keys\n",
    "counts_key = \"counts\"\n",
    "adj_key = \"spatial_connectivities\"\n",
    "gp_names_key = \"nichecompass_gp_names\"\n",
    "active_gp_names_key = \"nichecompass_active_gp_names\"\n",
    "gp_targets_mask_key = \"nichecompass_gp_targets\"\n",
    "gp_sources_mask_key = \"nichecompass_gp_sources\"\n",
    "latent_key = \"nichecompass_latent\"\n",
    "\n",
    "# Architecture\n",
    "active_gp_thresh_ratio = 0.1\n",
    "node_label_method = \"one-hop-attention\" # choose one-hop-norm for significant speed up of model training\n",
    "log_variational = counts_key == \"counts\" # True if raw counts, False if log normalized counts\n",
    "\n",
    "# Trainer\n",
    "n_epochs = 100\n",
    "n_epochs_all_gps = 25\n",
    "lr = 0.001\n",
    "lambda_edge_recon = 500000.\n",
    "lambda_gene_expr_recon = 300.\n",
    "lambda_l1_masked = 30.\n",
    "edge_batch_size = 512 # 2048\n",
    "use_cuda_if_available = True\n",
    "\n",
    "### Analysis ###\n",
    "cell_type_key = \"celltype_mapped_refined\"\n",
    "random_seed = 0\n",
    "celL_type_colors = {\n",
    "    \"Epiblast\" : \"#FFD8B8\", # Peach\n",
    "    \"Primitive Streak\" : \"#F9CB9C\", # Light Peach\n",
    "    \"Caudal epiblast\" : \"#FFB8A2\", # Apricot\n",
    "    \"PGC\" : \"#F08CAE\", # Pink\n",
    "    \"Anterior Primitive Streak\" : \"#F49FAD\", # Pale Pink\n",
    "    \"Notochord\" : \"#E7F0A4\", # Pale Canary\n",
    "    \"Def. endoderm\" : \"#C7F2C2\", # Light Green\n",
    "    \"Definitive endoderm\" : \"#97E6A1\", # Soft Green\n",
    "    \"Gut\" : \"#FE938C\", # Coral\n",
    "    \"Gut tube\" : \"#A5DEE4\", # Pale Blue\n",
    "    \"Nascent mesoderm\" : \"#5CA4A9\", # Blue-Green\n",
    "    \"Mixed mesoderm\" : \"#6B5B95\", # Lavender\n",
    "    \"Intermediate mesoderm\" : \"#F9A03F\", # Orange\n",
    "    \"Caudal Mesoderm\" : \"#F7DB6A\", # Light Yellow\n",
    "    \"Paraxial mesoderm\" : \"#EEBB4D\", # Light Amber\n",
    "    \"Somitic mesoderm\" : \"#D6E4B2\", # Pale Green\n",
    "    \"Pharyngeal mesoderm\" : \"#A8DADC\", # Pale Cyan\n",
    "    \"Splanchnic mesoderm\" : \"#3D5A80\", # Dark Blue\n",
    "    \"Cardiomyocytes\" : \"#3E3F8A\", # Navy Blue\n",
    "    \"Allantois\" : \"#218380\", # Teal\n",
    "    \"ExE mesoderm\" : \"#90BE6D\", # Soft Green-Yellow\n",
    "    \"Lateral plate mesoderm\" : \"#FFD369\", # Yellow\n",
    "    \"Mesenchyme\" : \"#ED553B\", # Red-Orange\n",
    "    \"Mixed mesenchymal mesoderm\" : \"#DA627D\", # Mauve\n",
    "    \"Haematoendothelial progenitors\" : \"#6C5B7B\", # Purple\n",
    "    \"Endothelium\" : \"#4ECDC4\", # Mint\n",
    "    \"Blood progenitors 1\" : \"#65AADD\", # Sky Blue\n",
    "    \"Blood progenitors 2\" : \"#8FBFE0\", # Powder Blue\n",
    "    \"Erythroid1\" : \"#A2D2FF\", # Pale Sky Blue\n",
    "    \"Erythroid2\" : \"#F3C969\", # Light Amber-Yellow\n",
    "    \"Erythroid3\" : \"#EE6C4D\", # Light Red-Orange\n",
    "    \"Erythroid\" : \"#EC4E20\", # Bright Red\n",
    "    \"Blood progenitors\" : \"#D64161\", # Dark Pink\n",
    "    \"NMP\" : \"#FF7A5A\", # Bright Coral\n",
    "    \"Rostral neurectoderm\" : \"#E7A977\", # Light Coral\n",
    "    \"Caudal neurectoderm\" : \"#FECE44\", # Bright Yellow\n",
    "    \"Neural crest\" : \"#FFC55F\", # Yellow-Orange\n",
    "    \"Forebrain/Midbrain/Hindbrain\" : \"#F89E7B\", # Light Coral-Orange\n",
    "    \"Spinal cord\" : \"#7ECEFD\", # Baby Blue\n",
    "    \"Surface ectoderm\" : \"#C9B1BD\", # Pale Mauve\n",
    "    \"Visceral endoderm\" : \"#E6A0C4\", # Light Pink\n",
    "    \"ExE endoderm\" : \"#E36BAE\", # Bright Pink\n",
    "    \"ExE ectoderm\" : \"#8B5B6E\", # Mauve-Brown\n",
    "    \"Parietal endoderm\" : \"#748CAB\", # Blue-Gray\n",
    "    \"Low quality\" : \"#E5E5E5\", # Light Gray\n",
    "    \"Cranial mesoderm\" : \"#C4C4C4\", # Gray\n",
    "    \"Anterior somitic tissues\" : \"#A4A4A4\", # Dark Gray\n",
    "    \"Sclerotome\" : \"#4D4D4D\", # Charcoal\n",
    "    \"Dermomyotome\" : \"#F8B195\", # Dusty Peach\n",
    "    \"Posterior somitic tissues\" : \"#F67280\", # Salmon Pink\n",
    "    \"Presomitic mesoderm\" : \"#C06C84\", # Rose\n",
    "}"
   ]
  },
  {
   "cell_type": "markdown",
   "id": "a6c3b7fa-fa59-43dd-81d2-7e116650915f",
   "metadata": {},
   "source": [
    "### 1.3 Run Notebook Setup"
   ]
  },
  {
   "cell_type": "code",
   "execution_count": null,
   "id": "ab22fbaf-aeed-464b-8a20-b640b9e055fd",
   "metadata": {},
   "outputs": [],
   "source": [
    "# Get time of notebook execution for timestamping saved artifacts\n",
    "now = datetime.now()\n",
    "current_timestamp = now.strftime(\"%d%m%Y_%H%M%S\")"
   ]
  },
  {
   "cell_type": "markdown",
   "id": "2b886225-6b6d-433c-b117-47b9a8f8091f",
   "metadata": {},
   "source": [
    "### 1.4 Configure Paths and Create Directories"
   ]
  },
  {
   "cell_type": "code",
   "execution_count": null,
   "id": "36675337-808d-40a9-93fc-d6cfa9473f66",
   "metadata": {},
   "outputs": [],
   "source": [
    "# Define paths\n",
    "gp_data_folder_path = \"../data/gene_programs\"\n",
    "so_data_folder_path = \"../data/spatial_omics\"\n",
    "omnipath_ligand_receptor_interactions_file_path = f\"{gp_data_folder_path}/omnipath_lr_interactions.csv\"\n",
    "nichenet_ligand_target_interactions_file_path = f\"{gp_data_folder_path}/nichenet_ligand_target_matrix.csv\"\n",
    "mebocost_enzyme_sensor_interactions_folder_path = f\"{gp_data_folder_path}/metabolite_enzyme_sensor_gps\"\n",
    "artifacts_folder_path = f\"../artifacts\"\n",
    "figure_folder_path = f\"{artifacts_folder_path}/figures\"\n",
    "model_folder_path = f\"{artifacts_folder_path}/models\"\n",
    "\n",
    "# Create required directories\n",
    "os.makedirs(figure_folder_path, exist_ok=True)\n",
    "os.makedirs(model_folder_path, exist_ok=True)"
   ]
  },
  {
   "cell_type": "markdown",
   "id": "fd883193-8aa9-4809-aeac-cacb478df22b",
   "metadata": {
    "tags": []
   },
   "source": [
    "## 2. Model Preparation"
   ]
  },
  {
   "cell_type": "markdown",
   "id": "8ee6fd16-0c5b-47c7-bcd1-ffa29048cb4a",
   "metadata": {},
   "source": [
    "### 2.1 Create Prior Knowledge Cell-Cell-Interaction Gene Program (GP) Mask"
   ]
  },
  {
   "cell_type": "markdown",
   "id": "60d6b25c-48c4-4457-9bb0-1365d2745301",
   "metadata": {},
   "source": [
    "The user can provide a custom GP mask to NicheCompass based on the dataset, application, and hypothesis of interest. \n",
    "\n",
    "As a default, we create a GP mask based on three databases of prior cell-cell-interaction knowledge:\n",
    "- OmniPath\n",
    "- NicheNet\n",
    "- MEBOCOST"
   ]
  },
  {
   "cell_type": "code",
   "execution_count": null,
   "id": "d7fd2098-4c5b-46bd-84b6-fa11fee83686",
   "metadata": {},
   "outputs": [],
   "source": [
    "# Retrieve OmniPath GPs (source: ligand gene; target: receptor gene)\n",
    "omnipath_gp_dict = extract_gp_dict_from_omnipath_lr_interactions(\n",
    "    min_curation_effort=0,\n",
    "    load_from_disk=False,\n",
    "    save_to_disk=True,\n",
    "    file_path=omnipath_ligand_receptor_interactions_file_path,\n",
    "    plot_gp_gene_count_distributions=True)\n",
    "\n",
    "# Retrieve unique source and target genes from OmniPath GPs to keep\n",
    "# those genes when filtering\n",
    "omnipath_genes = get_unique_genes_from_gp_dict(\n",
    "    gp_dict=omnipath_gp_dict,\n",
    "    retrieved_gene_entities=[\"sources\", \"targets\"])"
   ]
  },
  {
   "cell_type": "code",
   "execution_count": null,
   "id": "9c0d7e69-c9e2-455c-a11f-4456edc02e04",
   "metadata": {},
   "outputs": [],
   "source": [
    "# Retrieve NicheNet GPs (source: ligand gene; target: target genes)\n",
    "nichenet_gp_dict = extract_gp_dict_from_nichenet_ligand_target_mx(\n",
    "    keep_target_genes_ratio=0.01,\n",
    "    max_n_target_genes_per_gp=1000,\n",
    "    load_from_disk=False,\n",
    "    save_to_disk=True,\n",
    "    file_path=nichenet_ligand_target_interactions_file_path,\n",
    "    plot_gp_gene_count_distributions=True)\n",
    "\n",
    "# Retrieve unique source genes from NicheNet GPs to keep\n",
    "# those genes when filtering\n",
    "nichenet_source_genes = get_unique_genes_from_gp_dict(\n",
    "    gp_dict=nichenet_gp_dict,\n",
    "    retrieved_gene_entities=[\"sources\"])"
   ]
  },
  {
   "cell_type": "code",
   "execution_count": null,
   "id": "07b66236-5e28-4d63-8e5f-9ea02bd37b7a",
   "metadata": {},
   "outputs": [],
   "source": [
    "# Retrieve MEBOCOST GPs (source: enzyme genes; target: sensor genes)\n",
    "mebocost_gp_dict = extract_gp_dict_from_mebocost_es_interactions(\n",
    "    dir_path=mebocost_enzyme_sensor_interactions_folder_path,\n",
    "    species=\"mouse\",\n",
    "    plot_gp_gene_count_distributions=True)\n",
    "\n",
    "# Retrieve unique source and target genes from MEBOCOST GPs to keep\n",
    "# those genes when filtering\n",
    "mebocost_genes = get_unique_genes_from_gp_dict(\n",
    "    gp_dict=mebocost_gp_dict,\n",
    "    retrieved_gene_entities=[\"sources\", \"targets\"])"
   ]
  },
  {
   "cell_type": "code",
   "execution_count": null,
   "id": "2c1f40b8-bccd-479a-ba6d-69915901c8cf",
   "metadata": {},
   "outputs": [],
   "source": [
    "# Add GPs into one dictionary\n",
    "combined_gp_dict = dict(omnipath_gp_dict)\n",
    "combined_gp_dict.update(nichenet_gp_dict)\n",
    "combined_gp_dict.update(mebocost_gp_dict)"
   ]
  },
  {
   "cell_type": "code",
   "execution_count": null,
   "id": "3594050d-32c9-4668-9013-46468ac84d1c",
   "metadata": {},
   "outputs": [],
   "source": [
    "# Filter and combine GPs\n",
    "combined_new_gp_dict = filter_and_combine_gp_dict_gps(\n",
    "    gp_dict=combined_gp_dict,\n",
    "    gp_filter_mode=\"subset\",\n",
    "    combine_overlap_gps=True,\n",
    "    overlap_thresh_source_genes=0.9,\n",
    "    overlap_thresh_target_genes=0.9,\n",
    "    overlap_thresh_genes=0.9)\n",
    "\n",
    "print(\"Number of gene programs before filtering and combining: \"\n",
    "      f\"{len(combined_gp_dict)}.\")\n",
    "print(f\"Number of gene programs after filtering and combining: \"\n",
    "      f\"{len(combined_new_gp_dict)}.\")"
   ]
  },
  {
   "cell_type": "markdown",
   "id": "049f6853-5dc1-4b68-9240-c4b6a00f1514",
   "metadata": {},
   "source": [
    "### 2.2 Load Data & Compute Spatial Neighbor Graph"
   ]
  },
  {
   "cell_type": "markdown",
   "id": "532e9c72-65e8-43a8-b1e1-69b42aad417a",
   "metadata": {},
   "source": [
    "- NicheCompass expects a precomputed spatial adjacency matrix stored in 'adata.obsp[adj_key]'.\n",
    "- The user can customize the spatial neighbor graph construction based on the dataset and application of interest."
   ]
  },
  {
   "cell_type": "code",
   "execution_count": null,
   "id": "ada889e3-9efd-4371-af10-1c17c68be3cc",
   "metadata": {},
   "outputs": [],
   "source": [
    "# Retrieve example adata from squidpy\n",
    "adata = sq.datasets.seqfish()\n",
    "\n",
    "# Store raw counts in `layers`\n",
    "adata.layers[\"counts\"] = adata.X.copy()"
   ]
  },
  {
   "cell_type": "code",
   "execution_count": null,
   "id": "b608d941-b914-45e0-b94e-3705233e46c5",
   "metadata": {},
   "outputs": [],
   "source": [
    "# Compute spatial neighborhood\n",
    "sq.gr.spatial_neighbors(adata,\n",
    "                        coord_type=\"generic\",\n",
    "                        spatial_key=spatial_key,\n",
    "                        n_neighs=n_neighbors)\n",
    "\n",
    "# Make adjacency matrix symmetric\n",
    "adata.obsp[adj_key] = (\n",
    "    adata.obsp[adj_key].maximum(\n",
    "        adata.obsp[adj_key].T))"
   ]
  },
  {
   "cell_type": "markdown",
   "id": "b417d3d8-d7cb-4ac7-a158-8f1d5ab004c6",
   "metadata": {},
   "source": [
    "### 2.3 Filter Genes"
   ]
  },
  {
   "cell_type": "code",
   "execution_count": null,
   "id": "0d2f9b48-6d41-4ce4-b9d2-f9c76988c8bc",
   "metadata": {
    "tags": []
   },
   "outputs": [],
   "source": [
    "if filter_genes:\n",
    "    print(\"\\nFiltering genes...\")\n",
    "    # Filter genes and only keep ligand, receptor, metabolitye enzyme, \n",
    "    # metabolite sensor and the 'n_hvg' highly variable genes (potential target\n",
    "    # genes of nichenet)\n",
    "    gp_dict_genes = get_unique_genes_from_gp_dict(\n",
    "        gp_dict=combined_new_gp_dict,\n",
    "            retrieved_gene_entities=[\"sources\", \"targets\"])\n",
    "    print(f\"Starting with {len(adata.var_names)} genes.\")\n",
    "    sc.pp.filter_genes(adata,\n",
    "                       min_cells=0)\n",
    "    print(f\"Keeping {len(adata.var_names)} genes after filtering genes with \"\n",
    "          \"expression in 0 cells.\")\n",
    "\n",
    "    if (adata.layers[counts_key].astype(int).astype(np.float32).sum() == \n",
    "    adata.layers[counts_key].sum()): # raw counts\n",
    "        hvg_flavor = \"seurat_v3\"\n",
    "    else: # log normalized counts\n",
    "        hvg_flavor = \"seurat\"\n",
    "\n",
    "    sc.pp.highly_variable_genes(\n",
    "        adata,\n",
    "        layer=counts_key,\n",
    "        n_top_genes=n_hvg,\n",
    "        flavor=hvg_flavor,\n",
    "        subset=False)\n",
    "\n",
    "    # Get gene program relevant genes\n",
    "    gp_relevant_genes = list(set(omnipath_genes + \n",
    "                                 nichenet_source_genes + \n",
    "                                 mebocost_genes))\n",
    "    \n",
    "    adata.var[\"gp_relevant\"] = (\n",
    "        adata.var.index.str.upper().isin(gp_relevant_genes))\n",
    "    adata.var[\"keep_gene\"] = (adata.var[\"gp_relevant\"] | \n",
    "                              adata.var[\"highly_variable\"])\n",
    "    adata = adata[:, adata.var[\"keep_gene\"] == True]\n",
    "    print(f\"Keeping {len(adata.var_names)} highly variable or gene program \"\n",
    "          \"relevant genes.\")\n",
    "    adata = (adata[:, adata.var_names[adata.var_names.str.upper().isin(\n",
    "                gp_dict_genes)].sort_values()])\n",
    "    print(f\"Keeping {len(adata.var_names)} genes after filtering genes not in \"\n",
    "          \"gp dict.\")"
   ]
  },
  {
   "cell_type": "markdown",
   "id": "67727236-f960-45bc-8d3e-8bbb68b6d28a",
   "metadata": {},
   "source": [
    "### 2.4 Add GP Mask to Data"
   ]
  },
  {
   "cell_type": "code",
   "execution_count": null,
   "id": "747af49c-b520-4f7d-ae5b-1b4aa0224ed9",
   "metadata": {},
   "outputs": [],
   "source": [
    "# Add the GP dictionary as binary masks to the adata\n",
    "add_gps_from_gp_dict_to_adata(\n",
    "    gp_dict=combined_new_gp_dict,\n",
    "    adata=adata,\n",
    "    gp_targets_mask_key=gp_targets_mask_key,\n",
    "    gp_sources_mask_key=gp_sources_mask_key,\n",
    "    gp_names_key=gp_names_key,\n",
    "    min_genes_per_gp=1,\n",
    "    min_source_genes_per_gp=0,\n",
    "    min_target_genes_per_gp=0,\n",
    "    max_genes_per_gp=None,\n",
    "    max_source_genes_per_gp=None,\n",
    "    max_target_genes_per_gp=None)"
   ]
  },
  {
   "cell_type": "markdown",
   "id": "6f1bd811-0964-4326-99fd-3433fc4878a7",
   "metadata": {},
   "source": [
    "### 2.5 Explore Data"
   ]
  },
  {
   "cell_type": "code",
   "execution_count": null,
   "id": "ab2ea2bb-d2dc-45ff-a23b-677d80970f6e",
   "metadata": {},
   "outputs": [],
   "source": [
    "print(f\"Number of nodes (observations): {adata.layers['counts'].shape[0]}\")\n",
    "print(f\"Number of node features (genes): {adata.layers['counts'].shape[1]}\")\n",
    "\n",
    "# Visualize cell-level annotated data in physical space\n",
    "sc.pl.spatial(adata,\n",
    "              color=cell_type_key,\n",
    "              palette=celL_type_colors,\n",
    "              spot_size=0.03)        "
   ]
  },
  {
   "cell_type": "markdown",
   "id": "1f53d723-4fd7-49dc-844b-58cf8b9585a2",
   "metadata": {},
   "source": [
    "## 3. Model Training"
   ]
  },
  {
   "cell_type": "markdown",
   "id": "2d621701-56aa-4b22-90c6-20e5d1166774",
   "metadata": {},
   "source": [
    "### 3.1 Initialize, Train & Save Model"
   ]
  },
  {
   "cell_type": "code",
   "execution_count": null,
   "id": "1764d856-2d58-4a82-9246-aa177645e7f5",
   "metadata": {},
   "outputs": [],
   "source": [
    "# Initialize model\n",
    "model = NicheCompass(adata,\n",
    "                     counts_key=counts_key,\n",
    "                     adj_key=adj_key,\n",
    "                     gp_names_key=gp_names_key,\n",
    "                     active_gp_names_key=active_gp_names_key,\n",
    "                     gp_targets_mask_key=gp_targets_mask_key,\n",
    "                     gp_sources_mask_key=gp_sources_mask_key,\n",
    "                     latent_key=latent_key,\n",
    "                     active_gp_thresh_ratio=active_gp_thresh_ratio,\n",
    "                     log_variational=log_variational,\n",
    "                     node_label_method=node_label_method)"
   ]
  },
  {
   "cell_type": "code",
   "execution_count": null,
   "id": "82c6156e-e3af-4fe1-83ba-da0637cb6a2d",
   "metadata": {},
   "outputs": [],
   "source": [
    "# Train model\n",
    "model.train(n_epochs=n_epochs,\n",
    "            n_epochs_all_gps=n_epochs_all_gps,\n",
    "            lr=lr,\n",
    "            lambda_edge_recon=lambda_edge_recon,\n",
    "            lambda_gene_expr_recon=lambda_gene_expr_recon,\n",
    "            lambda_l1_masked=lambda_l1_masked,\n",
    "            edge_batch_size=edge_batch_size,\n",
    "            use_cuda_if_available=use_cuda_if_available)"
   ]
  },
  {
   "cell_type": "code",
   "execution_count": null,
   "id": "6b1bd23a-3b60-4d18-bfdb-624d5a155c24",
   "metadata": {},
   "outputs": [],
   "source": [
    "# Compute latent neighbor graph\n",
    "sc.pp.neighbors(model.adata,\n",
    "                use_rep=latent_key,\n",
    "                key_added=latent_key)\n",
    "\n",
    "\n",
    "# Compute UMAP embedding\n",
    "sc.tl.umap(model.adata,\n",
    "           neighbors_key=latent_key)"
   ]
  },
  {
   "cell_type": "code",
   "execution_count": null,
   "id": "4532093b-9001-4b56-95a2-a8c6aee65ef7",
   "metadata": {},
   "outputs": [],
   "source": [
    "# Save trained model\n",
    "model.save(dir_path=f\"{model_folder_path}/{current_timestamp}\",\n",
    "           overwrite=True,\n",
    "           save_adata=True,\n",
    "           adata_file_name=\"adata.h5ad\")"
   ]
  },
  {
   "cell_type": "markdown",
   "id": "7973cba5-1cab-4ce8-b76f-6e3af8ae46f5",
   "metadata": {},
   "source": [
    "## 4. Analysis"
   ]
  },
  {
   "cell_type": "code",
   "execution_count": null,
   "id": "0e604894-b6c3-41ea-8973-0d9a9a06984a",
   "metadata": {},
   "outputs": [],
   "source": [
    "# Load trained model\n",
    "load_timestamp = \"17052023_140928\"\n",
    "model = NicheCompass.load(dir_path=f\"{model_folder_path}/{load_timestamp}\",\n",
    "                          adata=None,\n",
    "                          adata_file_name=\"adata.h5ad\",\n",
    "                          gp_names_key=gp_names_key)"
   ]
  },
  {
   "cell_type": "code",
   "execution_count": null,
   "id": "7b704df3-1662-44af-88ac-466ddd93ab05",
   "metadata": {},
   "outputs": [],
   "source": [
    "# Check number of active GPs\n",
    "active_gps = model.get_active_gps()\n",
    "print(f\"Number of total gene programs: {len(model.adata.uns[gp_names_key])}.\")\n",
    "print(f\"Number of active gene programs: {len(active_gps)}.\")"
   ]
  },
  {
   "cell_type": "code",
   "execution_count": null,
   "id": "b3c86b35-5026-4e5c-95dc-6ba609d8e3a6",
   "metadata": {},
   "outputs": [],
   "source": [
    "# Inspect GPs\n",
    "gp_summary_df = model.get_gp_summary()\n",
    "gp_summary_df[gp_summary_df[\"gp_active\"] == True].head()"
   ]
  },
  {
   "cell_type": "markdown",
   "id": "94b39384-54bc-4340-87c6-8a8120456314",
   "metadata": {},
   "source": [
    "### 4.1 NicheCompass Latent Manifold Overview"
   ]
  },
  {
   "cell_type": "code",
   "execution_count": null,
   "id": "7a357a5d-24b3-4dc2-bdc0-0e7af84d69d8",
   "metadata": {},
   "outputs": [],
   "source": [
    "# Plot UMAP with cell type annotations\n",
    "sc.pl.umap(model.adata,\n",
    "           color=[cell_type_key])"
   ]
  },
  {
   "cell_type": "markdown",
   "id": "a400dfd7-9145-429e-b026-bda736c4459b",
   "metadata": {},
   "source": [
    "### 4.2 NicheCompass Latent Cluster Differential GP Testing"
   ]
  },
  {
   "cell_type": "markdown",
   "id": "49f404c2-7783-4c74-96a1-9aacf4cc0417",
   "metadata": {},
   "source": [
    "### 4.3 NicheCompass Cell Type Analysis"
   ]
  },
  {
   "cell_type": "code",
   "execution_count": null,
   "id": "70b9a164-8258-4a3f-b39e-c21f17e59e1e",
   "metadata": {},
   "outputs": [],
   "source": []
  }
 ],
 "metadata": {
  "kernelspec": {
   "display_name": "Python 3 (ipykernel)",
   "language": "python",
   "name": "python3"
  },
  "language_info": {
   "codemirror_mode": {
    "name": "ipython",
    "version": 3
   },
   "file_extension": ".py",
   "mimetype": "text/x-python",
   "name": "python",
   "nbconvert_exporter": "python",
   "pygments_lexer": "ipython3",
   "version": "3.9.16"
  }
 },
 "nbformat": 4,
 "nbformat_minor": 5
}
