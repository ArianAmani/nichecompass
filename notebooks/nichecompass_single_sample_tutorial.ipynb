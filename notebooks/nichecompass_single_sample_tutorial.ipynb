{
 "cells": [
  {
   "cell_type": "markdown",
   "id": "1b1daabf-c8e3-43d4-aa32-9789abcc8619",
   "metadata": {},
   "source": [
    "# NicheCompass Single Sample Tutorial"
   ]
  },
  {
   "cell_type": "markdown",
   "id": "c325d921-2077-42b3-90a8-6f6c7dd928c5",
   "metadata": {},
   "source": [
    "- **Creator**: Sebastian Birk (<sebastian.birk@helmholtz-munich.de>).\n",
    "- **Affiliation:** Helmholtz Munich, Institute of AI for Health (AIH), Talavera-López Lab\n",
    "- **Date of Creation:** 17.05.2023\n",
    "- **Date of Last Modification:** 06.02.2024"
   ]
  },
  {
   "cell_type": "markdown",
   "id": "82e6faa7-2a8a-45bd-abe0-2e9d71324606",
   "metadata": {},
   "source": [
    "In this tutorial, we apply NicheCompass to a single sample (sagittal brain section) of the STARmap PLUS mouse central nervous system dataset / atlas from [Shi, H. et al. Spatial atlas of the mouse central nervous system at molecular resolution. Nature 622, 552–561 (2023)](https://www.nature.com/articles/s41586-023-06569-5).\n",
    "\n",
    "The sample has:\n",
    "- 91,246 observations at cellular resolution with cell type annotations\n",
    "- 1022 probed genes"
   ]
  },
  {
   "cell_type": "markdown",
   "id": "df7a7254-ecc6-46a2-b559-4b37300bd7ca",
   "metadata": {},
   "source": [
    "- Check the repository [README.md](https://github.com/sebastianbirk/nichecompass#installation) for NicheCompass installation instructions.\n",
    "- The data for this tutorial can be downloaded from [Google Drive](https://drive.google.com/drive/folders/1l9W0MDVZ451k1L7s6GGH4ONH4tEK4EKj). It has to be stored under ```<repository_root>/data/spatial_omics/```.\n",
    "  - starmap_plus_mouse_cns_batch1.h5ad\n",
    "- A pretrained model to run only the analysis can be downloaded from [Google Drive](https://drive.google.com/drive/folders/1z2DQHV9hG22B5OSWox8U3usf_8LKZGGH). It has to be stored under ```<repository_root>/artifacts/single_sample/<timestamp>/model/```.\n",
    "  - attr.pkl\n",
    "  - model_params.pt\n",
    "  - starmap_plus_mouse_cns_batch1.h5ad\n",
    "  - var_names.csv"
   ]
  },
  {
   "cell_type": "markdown",
   "id": "2d464ebf-354f-4f61-8040-c3dcbcc893b9",
   "metadata": {},
   "source": [
    "## 1. Setup"
   ]
  },
  {
   "cell_type": "markdown",
   "id": "d5631277-d8d2-4194-a376-280f4f149b7d",
   "metadata": {},
   "source": [
    "### 1.1 Import Libraries"
   ]
  },
  {
   "cell_type": "code",
   "execution_count": 1,
   "id": "7c756075-c6ff-4c0b-8bd4-20885ca56b9e",
   "metadata": {},
   "outputs": [],
   "source": [
    "%load_ext autoreload\n",
    "%autoreload 2"
   ]
  },
  {
   "cell_type": "code",
   "execution_count": 2,
   "id": "b4aa3c6a-5a44-4cf1-84a3-5e514457cf3c",
   "metadata": {},
   "outputs": [],
   "source": [
    "import os\n",
    "import warnings\n",
    "from datetime import datetime\n",
    "\n",
    "import matplotlib.pyplot as plt\n",
    "import pandas as pd\n",
    "import scanpy as sc\n",
    "import squidpy as sq\n",
    "from matplotlib import gridspec\n",
    "\n",
    "from nichecompass.models import NicheCompass\n",
    "from nichecompass.utils import (add_gps_from_gp_dict_to_adata,\n",
    "                                aggregate_obsp_matrix_per_cell_type,\n",
    "                                create_cell_type_chord_plot_from_df,\n",
    "                                create_new_color_dict,\n",
    "                                extract_gp_dict_from_collectri_tf_network,\n",
    "                                extract_gp_dict_from_mebocost_es_interactions,\n",
    "                                extract_gp_dict_from_nichenet_lrt_interactions,\n",
    "                                extract_gp_dict_from_omnipath_lr_interactions,\n",
    "                                filter_and_combine_gp_dict_gps,\n",
    "                                generate_enriched_gp_info_plots,\n",
    "                                get_unique_genes_from_gp_dict)"
   ]
  },
  {
   "cell_type": "markdown",
   "id": "9f91f345-c297-47cb-8650-c6d9c60a8b7e",
   "metadata": {},
   "source": [
    "### 1.2 Define Parameters"
   ]
  },
  {
   "cell_type": "code",
   "execution_count": 3,
   "id": "a4d4e6d9-239f-47c5-a30b-579b16d4c27c",
   "metadata": {},
   "outputs": [],
   "source": [
    "### Dataset ###\n",
    "dataset = \"starmap_plus_mouse_cns\"\n",
    "species = \"mouse\"\n",
    "spatial_key = \"spatial\"\n",
    "n_neighbors = 4\n",
    "filter_genes = False\n",
    "n_hvg = 3000\n",
    "\n",
    "### Model ###\n",
    "# AnnData Keys\n",
    "counts_key = \"counts\"\n",
    "adj_key = \"spatial_connectivities\"\n",
    "gp_names_key = \"nichecompass_gp_names\"\n",
    "active_gp_names_key = \"nichecompass_active_gp_names\"\n",
    "gp_targets_mask_key = \"nichecompass_gp_targets\"\n",
    "gp_targets_categories_mask_key = \"nichecompass_gp_targets_categories\"\n",
    "gp_sources_mask_key = \"nichecompass_gp_sources\"\n",
    "gp_sources_categories_mask_key = \"nichecompass_gp_sources_categories\"\n",
    "latent_key = \"nichecompass_latent\"\n",
    "\n",
    "# Trainer\n",
    "n_epochs = 100\n",
    "n_epochs_all_gps = 25\n",
    "lr = 0.001\n",
    "lambda_edge_recon = 500000.\n",
    "lambda_gene_expr_recon = 300.\n",
    "lambda_l1_masked = 0. # increase if gene selection desired\n",
    "l1_targets_categories = [\"target_gene\"] # targets categories to which l1 regularization will be applied\n",
    "l1_sources_categories = [] # sources categories to which l1 regularization will be applied\n",
    "edge_batch_size = 1028 # reduce if not enough memory\n",
    "use_cuda_if_available = True\n",
    "\n",
    "### Analysis ###\n",
    "cell_type_key = \"Main_molecular_cell_type\"\n",
    "latent_leiden_resolution = 0.2\n",
    "latent_cluster_key = f\"latent_leiden_{str(latent_leiden_resolution)}\"\n",
    "sample_key = \"batch\"\n",
    "spot_size = 0.2\n",
    "agg_weights_key = \"agg_weights\"\n",
    "differential_gp_test_results_key = \"nichecompass_differential_gp_test_results\""
   ]
  },
  {
   "cell_type": "markdown",
   "id": "a6c3b7fa-fa59-43dd-81d2-7e116650915f",
   "metadata": {},
   "source": [
    "### 1.3 Run Notebook Setup"
   ]
  },
  {
   "cell_type": "code",
   "execution_count": 4,
   "id": "05caf2ee-887a-4429-aed6-9a89a22e7062",
   "metadata": {},
   "outputs": [],
   "source": [
    "warnings.filterwarnings(\"ignore\")"
   ]
  },
  {
   "cell_type": "code",
   "execution_count": 5,
   "id": "ab22fbaf-aeed-464b-8a20-b640b9e055fd",
   "metadata": {},
   "outputs": [],
   "source": [
    "# Get time of notebook execution for timestamping saved artifacts\n",
    "now = datetime.now()\n",
    "current_timestamp = now.strftime(\"%d%m%Y_%H%M%S\")"
   ]
  },
  {
   "cell_type": "markdown",
   "id": "2b886225-6b6d-433c-b117-47b9a8f8091f",
   "metadata": {},
   "source": [
    "### 1.4 Configure Paths"
   ]
  },
  {
   "cell_type": "code",
   "execution_count": 6,
   "id": "36675337-808d-40a9-93fc-d6cfa9473f66",
   "metadata": {},
   "outputs": [],
   "source": [
    "# Define paths\n",
    "ga_data_folder_path = \"../data/gene_annotations\"\n",
    "gp_data_folder_path = \"../data/gene_programs\"\n",
    "so_data_folder_path = \"../data/spatial_omics\"\n",
    "omnipath_lr_network_file_path = f\"{gp_data_folder_path}/omnipath_lr_network.csv\"\n",
    "collectri_tf_network_file_path = f\"{gp_data_folder_path}/collectri_tf_network_{species}.csv\"\n",
    "nichenet_lr_network_file_path = f\"{gp_data_folder_path}/nichenet_lr_network_v2_{species}.csv\"\n",
    "nichenet_ligand_target_matrix_file_path = f\"{gp_data_folder_path}/nichenet_ligand_target_matrix_v2_{species}.csv\"\n",
    "mebocost_enzyme_sensor_interactions_folder_path = f\"{gp_data_folder_path}/metabolite_enzyme_sensor_gps\"\n",
    "gene_orthologs_mapping_file_path = f\"{ga_data_folder_path}/human_mouse_gene_orthologs.csv\"\n",
    "artifacts_folder_path = f\"../artifacts\"\n",
    "model_folder_path = f\"{artifacts_folder_path}/single_sample/{current_timestamp}/model\"\n",
    "figure_folder_path = f\"{artifacts_folder_path}/single_sample/{current_timestamp}/figures\""
   ]
  },
  {
   "cell_type": "markdown",
   "id": "756c2e46-6815-4f82-addf-5bfbed664175",
   "metadata": {},
   "source": [
    "### 1.5 Create Directories"
   ]
  },
  {
   "cell_type": "code",
   "execution_count": 7,
   "id": "69c9f8f1-d15a-4cc9-b54c-35b14b0b43c8",
   "metadata": {},
   "outputs": [],
   "source": [
    "os.makedirs(model_folder_path, exist_ok=True)\n",
    "os.makedirs(figure_folder_path, exist_ok=True)"
   ]
  },
  {
   "cell_type": "markdown",
   "id": "fd883193-8aa9-4809-aeac-cacb478df22b",
   "metadata": {
    "tags": []
   },
   "source": [
    "## 2. Model Preparation"
   ]
  },
  {
   "cell_type": "markdown",
   "id": "8ee6fd16-0c5b-47c7-bcd1-ffa29048cb4a",
   "metadata": {},
   "source": [
    "### 2.1 Create Prior Knowledge Gene Program (GP) Mask"
   ]
  },
  {
   "cell_type": "markdown",
   "id": "60d6b25c-48c4-4457-9bb0-1365d2745301",
   "metadata": {},
   "source": [
    "- NicheCompass expects a prior GP mask as input, which it will use to make its latent feature space interpretable (through linear masked decoders). \n",
    "- The user can provide a custom GP mask to NicheCompass based on the biological question of interest.\n",
    "- As a default, we create a GP mask based on four databases of prior knowledge of inter- and intracellular interaction pathways:\n",
    "    - OmniPath (Ligand-Receptor GPs)\n",
    "    - MEBOCOST (Enzyme-Sensor GPs)\n",
    "    - CollecTRI (Transcriptional Regulation GPs)\n",
    "    - NicheNet (Combined Interaction GPs)"
   ]
  },
  {
   "cell_type": "code",
   "execution_count": 9,
   "id": "d7fd2098-4c5b-46bd-84b6-fa11fee83686",
   "metadata": {},
   "outputs": [
    {
     "data": {
      "image/png": "[encoded data removed]",
      "text/plain": [
       "<Figure size 1000x500 with 2 Axes>"
      ]
     },
     "metadata": {},
     "output_type": "display_data"
    }
   ],
   "source": [
    "# Retrieve OmniPath GPs (source: ligand genes; target: receptor genes)\n",
    "omnipath_gp_dict = extract_gp_dict_from_omnipath_lr_interactions(\n",
    "    species=species,\n",
    "    min_curation_effort=0,\n",
    "    load_from_disk=False,\n",
    "    save_to_disk=True,\n",
    "    lr_network_file_path=omnipath_lr_network_file_path,\n",
    "    gene_orthologs_mapping_file_path=gene_orthologs_mapping_file_path,\n",
    "    plot_gp_gene_count_distributions=True,\n",
    "    gp_gene_count_distributions_save_path=f\"{figure_folder_path}\" \\\n",
    "                                           \"/omnipath_gp_gene_count_distributions.svg\")"
   ]
  },
  {
   "cell_type": "code",
   "execution_count": 10,
   "id": "2bd3c53f-a94d-4fdf-a834-f9f6bb97262f",
   "metadata": {},
   "outputs": [
    {
     "name": "stdout",
     "output_type": "stream",
     "text": [
      "BDNF_ligand_receptor_GP {'sources': ['Bdnf'], 'targets': ['Drd4'], 'sources_categories': ['ligand'], 'targets_categories': ['receptor']}\n",
      "EPOR_ligand_receptor_GP {'sources': ['Epor'], 'targets': ['Stat3'], 'sources_categories': ['ligand'], 'targets_categories': ['receptor']}\n",
      "FYN_ligand_receptor_GP {'sources': ['Fyn'], 'targets': ['Mapk7'], 'sources_categories': ['ligand'], 'targets_categories': ['receptor']}\n"
     ]
    }
   ],
   "source": [
    "# Display example OmniPath GPs\n",
    "for i, (key, value) in enumerate(omnipath_gp_dict.items()):\n",
    "    if i > 2:\n",
    "        break\n",
    "    print(key, value)"
   ]
  },
  {
   "cell_type": "code",
   "execution_count": 11,
   "id": "9c0d7e69-c9e2-455c-a11f-4456edc02e04",
   "metadata": {},
   "outputs": [
    {
     "data": {
      "image/png": "[encoded data removed]",
      "text/plain": [
       "<Figure size 1000x500 with 2 Axes>"
      ]
     },
     "metadata": {},
     "output_type": "display_data"
    }
   ],
   "source": [
    "# Retrieve NicheNet GPs (source: ligand genes; target: receptor genes, target genes)\n",
    "nichenet_gp_dict = extract_gp_dict_from_nichenet_lrt_interactions(\n",
    "    species=species,\n",
    "    version=\"v2\",\n",
    "    keep_target_genes_ratio=1.,\n",
    "    max_n_target_genes_per_gp=250,\n",
    "    load_from_disk=False,\n",
    "    save_to_disk=True,\n",
    "    lr_network_file_path=nichenet_lr_network_file_path,\n",
    "    ligand_target_matrix_file_path=nichenet_ligand_target_matrix_file_path,\n",
    "    gene_orthologs_mapping_file_path=gene_orthologs_mapping_file_path,\n",
    "    plot_gp_gene_count_distributions=True)"
   ]
  },
  {
   "cell_type": "code",
   "execution_count": 12,
   "id": "df0105a8-750d-49a3-a65a-0df1a44a9b5c",
   "metadata": {},
   "outputs": [
    {
     "name": "stdout",
     "output_type": "stream",
     "text": [
      "2300002M23Rik_ligand_receptor_target_gene_GP {'sources': ['2300002M23Rik'], 'targets': ['Ddr1', 'Adm', 'Agt', 'Angptl4', 'Ankrd1', 'App', 'Ar', 'Ass1', 'Atf3', 'Bax', 'Bcl2', 'Bcl2l1', 'Bcl2l11', 'Bcl3', 'Bcl6', 'Bdnf', 'Bhlhe40', 'Bin1', 'Birc3', 'Birc5', 'Bmp4', 'Bnip3l', 'Bnip3l-ps', 'Brca1', 'Btg2', 'Cav1', 'Cbx5', 'Ccl12', 'Ccl20', 'Ccl5', 'Ccn1', 'Ccn2', 'Ccna2', 'Ccnb1', 'Ccnb1-ps', 'Ccnd1', 'Ccnd2', 'Cd5l', 'Cdc6', 'Cdca7', 'Cdh1', 'Cdk1', 'Cdk4', 'Cdk6', 'Cdkn1a', 'Cdkn1b', 'Cdkn2a', 'Cdkn2c', 'Cebpa', 'Cflar', 'Cited2', 'Csf2', 'Cxcr4', 'Cyp1a1', 'Cyp1b1', 'Cyp24a1', 'Cyp3a13', 'Ddit3', 'Ddit4', 'Dhrs3', 'Dkk1', 'Dtl', 'Dusp1', 'Dusp6', 'E2f1', 'E2f3', 'Edn1', 'Egfr', 'Egr1', 'Egr2', 'Enc1', 'Eno1', 'Eno1b', 'Epha2', 'Esr1', 'Etfb', 'Fas', 'Fasn', 'Fkbp5', 'Fn1', 'Fos', 'Fosl1', 'Foxo3', 'Fst', 'Gadd45a', 'Gadd45b', 'Gadd45g', 'Gapdh', 'Gapdh-ps15', 'Gata3', 'Gdf15', 'Gm10358', 'Gm3839', 'Gm40460', 'Gm4559', 'Gm45618', 'H2bc14', 'H3f3b', 'H4c12', 'H4c14', 'Hes1', 'Hmga1', 'Hmga1b', 'Hmox1', 'Hnrnpr', 'Hoxc6', 'Icam1', 'Id1', 'Id2', 'Id3', 'Ier3', 'Ifi204', 'Ifi205', 'Ifi211', 'Ifit1bl1', 'Ifit1bl2', 'Ifng', 'Igf1', 'Igfbp3', 'Il10', 'Il1b', 'Il6', 'Irf1', 'Itpr1', 'Jarid2', 'Jun', 'Junb', 'Klk1', 'Klk1b1', 'Klk1b11', 'Klk1b16', 'Klk1b21', 'Klk1b22', 'Klk1b24', 'Klk1b26', 'Klk1b27', 'Klk1b3', 'Klk1b4', 'Klk1b5', 'Klk1b8', 'Klk1b9', 'Krt8', 'Krtap5-2', 'Lcp1', 'Ldha', 'Lef1', 'Lmna', 'Lpp', 'Lpxn', 'Magea13', 'Mat2a', 'Mcl1', 'Mdm2', 'Meis1', 'Met', 'Mgll', 'Mia2', 'Mical2', 'Midn', 'Mmp1a', 'Mmp1b', 'Mmp2', 'Mmp9', 'Muc1', 'Myb', 'Myc', 'Ndrg1', 'Nek6', 'Nek7', 'Nfia', 'Nfkb1', 'Nfkbia', 'Nolc1', 'Nos2', 'Nusap1', 'Odc1', 'Pcna', 'Pde4dip', 'Per1', 'Pfkfb3', 'Pgk1', 'Pim1', 'Pla2g4a', 'Plau', 'Plec', 'Pmaip1', 'Pparg', 'Ppargc1a', 'Prdm1', 'Pten', 'Ptgs2', 'Ptk2b', 'Ranbp1', 'Rara', 'Rbpj', 'Rcan1', 'Rcc1', 'Rtn4', 'Runx1', 'Sat1', 'Sdc1', 'Serpine1', 'Sgk1', 'Sh2b3', 'Shc1', 'Sirt1', 'Slc7a11', 'Smad7', 'Socs2', 'Socs3', 'Spi1', 'Srebf1', 'Stat1', 'Stat3', 'Stmn1', 'Tagln2', 'Tert', 'Tfpi2', 'Tgfb1', 'Tgfbi', 'Tgfbr2', 'Tgif1', 'Thbd', 'Thbs1', 'Tnc', 'Tnf', 'Tnfaip3', 'Tnfrsf22', 'Tnfrsf23', 'Tnfrsf26', 'Trib1', 'Trp53', 'Txnip', 'Ubc', 'Vegfa', 'Vim', 'Yars', 'Zfp36l1', 'Zfp457', 'Zfp595', 'Zfp738', 'Zfp78', 'Zfp953', 'Zfy1', 'Zfy2', 'Zmynd8'], 'sources_categories': ['ligand'], 'targets_categories': ['receptor', 'target_gene', 'target_gene', 'target_gene', 'target_gene', 'target_gene', 'target_gene', 'target_gene', 'target_gene', 'target_gene', 'target_gene', 'target_gene', 'target_gene', 'target_gene', 'target_gene', 'target_gene', 'target_gene', 'target_gene', 'target_gene', 'target_gene', 'target_gene', 'target_gene', 'target_gene', 'target_gene', 'target_gene', 'target_gene', 'target_gene', 'target_gene', 'target_gene', 'target_gene', 'target_gene', 'target_gene', 'target_gene', 'target_gene', 'target_gene', 'target_gene', 'target_gene', 'target_gene', 'target_gene', 'target_gene', 'target_gene', 'target_gene', 'target_gene', 'target_gene', 'target_gene', 'target_gene', 'target_gene', 'target_gene', 'target_gene', 'target_gene', 'target_gene', 'target_gene', 'target_gene', 'target_gene', 'target_gene', 'target_gene', 'target_gene', 'target_gene', 'target_gene', 'target_gene', 'target_gene', 'target_gene', 'target_gene', 'target_gene', 'target_gene', 'target_gene', 'target_gene', 'target_gene', 'target_gene', 'target_gene', 'target_gene', 'target_gene', 'target_gene', 'target_gene', 'target_gene', 'target_gene', 'target_gene', 'target_gene', 'target_gene', 'target_gene', 'target_gene', 'target_gene', 'target_gene', 'target_gene', 'target_gene', 'target_gene', 'target_gene', 'target_gene', 'target_gene', 'target_gene', 'target_gene', 'target_gene', 'target_gene', 'target_gene', 'target_gene', 'target_gene', 'target_gene', 'target_gene', 'target_gene', 'target_gene', 'target_gene', 'target_gene', 'target_gene', 'target_gene', 'target_gene', 'target_gene', 'target_gene', 'target_gene', 'target_gene', 'target_gene', 'target_gene', 'target_gene', 'target_gene', 'target_gene', 'target_gene', 'target_gene', 'target_gene', 'target_gene', 'target_gene', 'target_gene', 'target_gene', 'target_gene', 'target_gene', 'target_gene', 'target_gene', 'target_gene', 'target_gene', 'target_gene', 'target_gene', 'target_gene', 'target_gene', 'target_gene', 'target_gene', 'target_gene', 'target_gene', 'target_gene', 'target_gene', 'target_gene', 'target_gene', 'target_gene', 'target_gene', 'target_gene', 'target_gene', 'target_gene', 'target_gene', 'target_gene', 'target_gene', 'target_gene', 'target_gene', 'target_gene', 'target_gene', 'target_gene', 'target_gene', 'target_gene', 'target_gene', 'target_gene', 'target_gene', 'target_gene', 'target_gene', 'target_gene', 'target_gene', 'target_gene', 'target_gene', 'target_gene', 'target_gene', 'target_gene', 'target_gene', 'target_gene', 'target_gene', 'target_gene', 'target_gene', 'target_gene', 'target_gene', 'target_gene', 'target_gene', 'target_gene', 'target_gene', 'target_gene', 'target_gene', 'target_gene', 'target_gene', 'target_gene', 'target_gene', 'target_gene', 'target_gene', 'target_gene', 'target_gene', 'target_gene', 'target_gene', 'target_gene', 'target_gene', 'target_gene', 'target_gene', 'target_gene', 'target_gene', 'target_gene', 'target_gene', 'target_gene', 'target_gene', 'target_gene', 'target_gene', 'target_gene', 'target_gene', 'target_gene', 'target_gene', 'target_gene', 'target_gene', 'target_gene', 'target_gene', 'target_gene', 'target_gene', 'target_gene', 'target_gene', 'target_gene', 'target_gene', 'target_gene', 'target_gene', 'target_gene', 'target_gene', 'target_gene', 'target_gene', 'target_gene', 'target_gene', 'target_gene', 'target_gene', 'target_gene', 'target_gene', 'target_gene', 'target_gene', 'target_gene', 'target_gene', 'target_gene', 'target_gene', 'target_gene', 'target_gene', 'target_gene', 'target_gene', 'target_gene', 'target_gene', 'target_gene', 'target_gene', 'target_gene', 'target_gene', 'target_gene', 'target_gene', 'target_gene']}\n",
      "2610528A11Rik_ligand_receptor_target_gene_GP {'sources': ['2610528A11Rik'], 'targets': ['Gpr15', 'A2m', 'Abca1', 'Angptl4', 'Ankrd1', 'App', 'Ar', 'Areg', 'Ass1', 'Atf3', 'Bax', 'Bcl2', 'Bcl2l1', 'Bcl2l11', 'Bcl3', 'Bcl6', 'Bdnf', 'Bhlhe40', 'Birc3', 'Birc5', 'Bmp4', 'Brca1', 'Btg1', 'Btg2', 'Car12', 'Car9', 'Cav1', 'Cbx5', 'Ccl12', 'Ccl20', 'Ccl5', 'Ccn1', 'Ccn2', 'Ccna2', 'Ccnb1', 'Ccnb1-ps', 'Ccnd1', 'Ccnd2', 'Ccnd3', 'Ccne1', 'Ccne2', 'Cd36', 'Cd40', 'Cd44', 'Cdc6', 'Cdh1', 'Cdk1', 'Cdk4', 'Cdk6', 'Cdkn1a', 'Cdkn1b', 'Cdkn2a', 'Cdkn2c', 'Cebpb', 'Cited2', 'Col1a2', 'Creb1', 'Crem', 'Crh', 'Csf2', 'Cuedc1', 'Cxcr4', 'Cyp1a1', 'Cyp1b1', 'Cyp3a13', 'Ddit3', 'Ddit4', 'Dhrs3', 'Dkk1', 'Dtl', 'Dusp1', 'Dusp4', 'Dusp5', 'Dusp6', 'E2f1', 'Edn1', 'Egfr', 'Egr1', 'Egr2', 'Egr3', 'Elf3', 'Emp1', 'Epha2', 'Esr1', 'Fas', 'Fasl', 'Fn1', 'Fos', 'Fosl1', 'Fosl2', 'Foxa1', 'Fst', 'Gadd45a', 'Gadd45b', 'Gadd45g', 'Gata3', 'Gdf15', 'Gm40460', 'Gm4559', 'Gm45618', 'Gm8909', 'Greb1', 'Gsn', 'H2-D1', 'H2-K1', 'H2-Q1', 'H2-Q10', 'H2-Q2', 'H2-Q4', 'H2-Q6', 'H2-Q7', 'H2bc14', 'H3f3b', 'H4c14', 'Hes1', 'Hif1a', 'Hmgcr', 'Hmox1', 'Hnrnpr', 'Hspa5', 'Hspb1', 'Icam1', 'Id1', 'Id2', 'Id3', 'Ier3', 'Ifi204', 'Ifi205', 'Ifi211', 'Ifit1bl1', 'Ifit1bl2', 'Ifit3', 'Ifit3b', 'Ifng', 'Igf1', 'Igfbp3', 'Igfbp4', 'Il10', 'Il1a', 'Il1b', 'Il2', 'Il6', 'Irf1', 'Itga2', 'Jade1', 'Jun', 'Junb', 'Klf5', 'Klk1', 'Klk1b1', 'Klk1b11', 'Klk1b16', 'Klk1b21', 'Klk1b22', 'Klk1b24', 'Klk1b26', 'Klk1b27', 'Klk1b3', 'Klk1b4', 'Klk1b5', 'Klk1b8', 'Klk1b9', 'Krt18', 'Krt19', 'Krtap5-2', 'Lef1', 'Lpp', 'Magea13', 'Mcl1', 'Mdm2', 'Met', 'Mgp', 'Mia2', 'Mical2', 'Mmp10', 'Mmp13', 'Mmp1a', 'Mmp1b', 'Mmp2', 'Mmp9', 'Muc1', 'Myb', 'Myc', 'Ndrg1', 'Nek6', 'Nfil3', 'Nfkb1', 'Nfkbia', 'Nos2', 'Odc1', 'Pck1', 'Pcna', 'Pfkfb3', 'Pgr', 'Pim1', 'Plau', 'Plec', 'Plk1', 'Pmaip1', 'Pparg', 'Ppargc1a', 'Prnp', 'Prss23', 'Pten', 'Ptgs2', 'Rara', 'Rgs2', 'Rrm1', 'Rrm2', 'Sat1', 'Serpine1', 'Sgk1', 'Sirt1', 'Slc2a1', 'Slc7a5', 'Smad7', 'Snai2', 'Socs2', 'Socs3', 'Sod2', 'Sox9', 'Stat1', 'Stat3', 'Stc2', 'Tert', 'Tff1', 'Tfpi2', 'Tgfbi', 'Tgif1', 'Thbs1', 'Tnc', 'Tnf', 'Tnfaip3', 'Tnfrsf22', 'Tnfrsf23', 'Tnfrsf26', 'Tnfsf10', 'Trib1', 'Trp53', 'Txnip', 'Tyms', 'Vegfa', 'Vim', 'Zfp595', 'Zfp78', 'Zfy1', 'Zfy2', 'Zmynd8'], 'sources_categories': ['ligand'], 'targets_categories': ['receptor', 'target_gene', 'target_gene', 'target_gene', 'target_gene', 'target_gene', 'target_gene', 'target_gene', 'target_gene', 'target_gene', 'target_gene', 'target_gene', 'target_gene', 'target_gene', 'target_gene', 'target_gene', 'target_gene', 'target_gene', 'target_gene', 'target_gene', 'target_gene', 'target_gene', 'target_gene', 'target_gene', 'target_gene', 'target_gene', 'target_gene', 'target_gene', 'target_gene', 'target_gene', 'target_gene', 'target_gene', 'target_gene', 'target_gene', 'target_gene', 'target_gene', 'target_gene', 'target_gene', 'target_gene', 'target_gene', 'target_gene', 'target_gene', 'target_gene', 'target_gene', 'target_gene', 'target_gene', 'target_gene', 'target_gene', 'target_gene', 'target_gene', 'target_gene', 'target_gene', 'target_gene', 'target_gene', 'target_gene', 'target_gene', 'target_gene', 'target_gene', 'target_gene', 'target_gene', 'target_gene', 'target_gene', 'target_gene', 'target_gene', 'target_gene', 'target_gene', 'target_gene', 'target_gene', 'target_gene', 'target_gene', 'target_gene', 'target_gene', 'target_gene', 'target_gene', 'target_gene', 'target_gene', 'target_gene', 'target_gene', 'target_gene', 'target_gene', 'target_gene', 'target_gene', 'target_gene', 'target_gene', 'target_gene', 'target_gene', 'target_gene', 'target_gene', 'target_gene', 'target_gene', 'target_gene', 'target_gene', 'target_gene', 'target_gene', 'target_gene', 'target_gene', 'target_gene', 'target_gene', 'target_gene', 'target_gene', 'target_gene', 'target_gene', 'target_gene', 'target_gene', 'target_gene', 'target_gene', 'target_gene', 'target_gene', 'target_gene', 'target_gene', 'target_gene', 'target_gene', 'target_gene', 'target_gene', 'target_gene', 'target_gene', 'target_gene', 'target_gene', 'target_gene', 'target_gene', 'target_gene', 'target_gene', 'target_gene', 'target_gene', 'target_gene', 'target_gene', 'target_gene', 'target_gene', 'target_gene', 'target_gene', 'target_gene', 'target_gene', 'target_gene', 'target_gene', 'target_gene', 'target_gene', 'target_gene', 'target_gene', 'target_gene', 'target_gene', 'target_gene', 'target_gene', 'target_gene', 'target_gene', 'target_gene', 'target_gene', 'target_gene', 'target_gene', 'target_gene', 'target_gene', 'target_gene', 'target_gene', 'target_gene', 'target_gene', 'target_gene', 'target_gene', 'target_gene', 'target_gene', 'target_gene', 'target_gene', 'target_gene', 'target_gene', 'target_gene', 'target_gene', 'target_gene', 'target_gene', 'target_gene', 'target_gene', 'target_gene', 'target_gene', 'target_gene', 'target_gene', 'target_gene', 'target_gene', 'target_gene', 'target_gene', 'target_gene', 'target_gene', 'target_gene', 'target_gene', 'target_gene', 'target_gene', 'target_gene', 'target_gene', 'target_gene', 'target_gene', 'target_gene', 'target_gene', 'target_gene', 'target_gene', 'target_gene', 'target_gene', 'target_gene', 'target_gene', 'target_gene', 'target_gene', 'target_gene', 'target_gene', 'target_gene', 'target_gene', 'target_gene', 'target_gene', 'target_gene', 'target_gene', 'target_gene', 'target_gene', 'target_gene', 'target_gene', 'target_gene', 'target_gene', 'target_gene', 'target_gene', 'target_gene', 'target_gene', 'target_gene', 'target_gene', 'target_gene', 'target_gene', 'target_gene', 'target_gene', 'target_gene', 'target_gene', 'target_gene', 'target_gene', 'target_gene', 'target_gene', 'target_gene', 'target_gene', 'target_gene', 'target_gene', 'target_gene', 'target_gene', 'target_gene', 'target_gene', 'target_gene', 'target_gene', 'target_gene', 'target_gene', 'target_gene', 'target_gene', 'target_gene', 'target_gene', 'target_gene', 'target_gene', 'target_gene', 'target_gene', 'target_gene', 'target_gene']}\n",
      "9530003J23Rik_ligand_receptor_target_gene_GP {'sources': ['9530003J23Rik'], 'targets': ['Itgal', 'Abcb1a', 'Abcb1b', 'Adm', 'Ankrd1', 'Ap1b1', 'App', 'Ar', 'Ass1', 'Atf3', 'Atp1b1', 'Bax', 'Bbc3', 'Bcl2', 'Bcl2l1', 'Bcl3', 'Bcl6', 'Bdnf', 'Bhlhe40', 'Birc3', 'Birc5', 'Bmp4', 'Brca1', 'Brca2', 'Btg2', 'C3', 'Car12', 'Car9', 'Cav1', 'Cbx5', 'Ccl12', 'Ccl5', 'Ccn2', 'Ccna2', 'Ccnb1', 'Ccnb1-ps', 'Ccnd1', 'Ccnd2', 'Cd46', 'Cd82', 'Cdh1', 'Cdk1', 'Cdk4', 'Cdk6', 'Cdkn1a', 'Cdkn1b', 'Cdkn2c', 'Cebpb', 'Cited2', 'Cldn1', 'Col1a2', 'Crem', 'Csf2', 'Ctnnb1', 'Cxcl12', 'Cxcr4', 'Cyp1a1', 'Cyp1b1', 'Cyp3a13', 'Ddit3', 'Ddit4', 'Dhrs3', 'Dicer1', 'Dkk1', 'Dtl', 'Dusp1', 'Dusp5', 'E2f1', 'Edn1', 'Efhd1', 'Efna1', 'Egfr', 'Egr1', 'Egr2', 'Egr3', 'Emp1', 'Epha2', 'Esr1', 'Fas', 'Fgf2', 'Fn1', 'Fos', 'Fosl1', 'Fst', 'Gadd45a', 'Gadd45b', 'Gadd45g', 'Gdf15', 'Gm40460', 'Gm4559', 'Gm45618', 'Greb1', 'Gsn', 'H2ax', 'H2bc14', 'H2bc22', 'H3f3b', 'H4c12', 'H4c14', 'Hes1', 'Hmmr', 'Hmox1', 'Hsp90ab1', 'Hspa5', 'Icam1', 'Id1', 'Id2', 'Id3', 'Ier3', 'Ifi203', 'Ifi203-ps', 'Ifi204', 'Ifi205', 'Ifi206', 'Ifi207', 'Ifi208', 'Ifi209', 'Ifi211', 'Ifi213', 'Ifi214', 'Ifit1bl1', 'Ifit1bl2', 'Ifng', 'Igf1', 'Igfbp3', 'Igfbp4', 'Igfbp5', 'Il10', 'Il1a', 'Il1b', 'Il2', 'Il6', 'Insig1', 'Insig2', 'Isg20', 'Itpr1', 'Jun', 'Junb', 'Klk1', 'Klk1b1', 'Klk1b11', 'Klk1b16', 'Klk1b21', 'Klk1b22', 'Klk1b24', 'Klk1b26', 'Klk1b27', 'Klk1b3', 'Klk1b4', 'Klk1b5', 'Klk1b8', 'Klk1b9', 'Krt18', 'Krt19', 'Krt8', 'Krtap5-2', 'Laptm5', 'Lcp1', 'Ldha', 'Lmna', 'Lox', 'Lpp', 'Ltbp1', 'Magea13', 'Mdm2', 'Met', 'Mgp', 'Mia2', 'Mical2', 'Mmp1a', 'Mmp1b', 'Mmp2', 'Mmp9', 'Mndal', 'Myb', 'Myc', 'Ndrg1', 'Nek6', 'Nfkbia', 'Nr4a2', 'Ntrk3', 'Nusap1', 'Pcna', 'Pdk2', 'Per1', 'Pfkfb3', 'Pla2g4a', 'Plau', 'Plaur', 'Plec', 'Plk1', 'Pmaip1', 'Pparg', 'Ppargc1a', 'Prdm1', 'Prkdc', 'Prss23', 'Pten', 'Ptgs2', 'Rara', 'Rbpj', 'Rrm1', 'Runx1', 'Sat1', 'Serpine1', 'Sgk1', 'Sirpa', 'Slc2a1', 'Slc7a11', 'Slc7a5', 'Smad3', 'Snai2', 'Socs3', 'Sod2', 'Sox9', 'Srebf1', 'Stat3', 'Stc2', 'Tert', 'Tff1', 'Tfpi2', 'Tgfb1', 'Tgfb2', 'Tgfbi', 'Tgm2', 'Thbs1', 'Tnc', 'Tnf', 'Tnfaip3', 'Tnfrsf22', 'Tnfrsf23', 'Tnfrsf26', 'Tnfsf10', 'Top2a', 'Trib1', 'Trp53', 'Trp53inp1', 'Tsc22d3', 'Txnip', 'Tyms', 'Vcam1', 'Vcan', 'Vegfa', 'Vgf', 'Vim', 'Wee1', 'Zfp595', 'Zfp78', 'Zfy1', 'Zfy2', 'Zmynd8'], 'sources_categories': ['ligand'], 'targets_categories': ['receptor', 'target_gene', 'target_gene', 'target_gene', 'target_gene', 'target_gene', 'target_gene', 'target_gene', 'target_gene', 'target_gene', 'target_gene', 'target_gene', 'target_gene', 'target_gene', 'target_gene', 'target_gene', 'target_gene', 'target_gene', 'target_gene', 'target_gene', 'target_gene', 'target_gene', 'target_gene', 'target_gene', 'target_gene', 'target_gene', 'target_gene', 'target_gene', 'target_gene', 'target_gene', 'target_gene', 'target_gene', 'target_gene', 'target_gene', 'target_gene', 'target_gene', 'target_gene', 'target_gene', 'target_gene', 'target_gene', 'target_gene', 'target_gene', 'target_gene', 'target_gene', 'target_gene', 'target_gene', 'target_gene', 'target_gene', 'target_gene', 'target_gene', 'target_gene', 'target_gene', 'target_gene', 'target_gene', 'target_gene', 'target_gene', 'target_gene', 'target_gene', 'target_gene', 'target_gene', 'target_gene', 'target_gene', 'target_gene', 'target_gene', 'target_gene', 'target_gene', 'target_gene', 'target_gene', 'target_gene', 'target_gene', 'target_gene', 'target_gene', 'target_gene', 'target_gene', 'target_gene', 'target_gene', 'target_gene', 'target_gene', 'target_gene', 'target_gene', 'target_gene', 'target_gene', 'target_gene', 'target_gene', 'target_gene', 'target_gene', 'target_gene', 'target_gene', 'target_gene', 'target_gene', 'target_gene', 'target_gene', 'target_gene', 'target_gene', 'target_gene', 'target_gene', 'target_gene', 'target_gene', 'target_gene', 'target_gene', 'target_gene', 'target_gene', 'target_gene', 'target_gene', 'target_gene', 'target_gene', 'target_gene', 'target_gene', 'target_gene', 'target_gene', 'target_gene', 'target_gene', 'target_gene', 'target_gene', 'target_gene', 'target_gene', 'target_gene', 'target_gene', 'target_gene', 'target_gene', 'target_gene', 'target_gene', 'target_gene', 'target_gene', 'target_gene', 'target_gene', 'target_gene', 'target_gene', 'target_gene', 'target_gene', 'target_gene', 'target_gene', 'target_gene', 'target_gene', 'target_gene', 'target_gene', 'target_gene', 'target_gene', 'target_gene', 'target_gene', 'target_gene', 'target_gene', 'target_gene', 'target_gene', 'target_gene', 'target_gene', 'target_gene', 'target_gene', 'target_gene', 'target_gene', 'target_gene', 'target_gene', 'target_gene', 'target_gene', 'target_gene', 'target_gene', 'target_gene', 'target_gene', 'target_gene', 'target_gene', 'target_gene', 'target_gene', 'target_gene', 'target_gene', 'target_gene', 'target_gene', 'target_gene', 'target_gene', 'target_gene', 'target_gene', 'target_gene', 'target_gene', 'target_gene', 'target_gene', 'target_gene', 'target_gene', 'target_gene', 'target_gene', 'target_gene', 'target_gene', 'target_gene', 'target_gene', 'target_gene', 'target_gene', 'target_gene', 'target_gene', 'target_gene', 'target_gene', 'target_gene', 'target_gene', 'target_gene', 'target_gene', 'target_gene', 'target_gene', 'target_gene', 'target_gene', 'target_gene', 'target_gene', 'target_gene', 'target_gene', 'target_gene', 'target_gene', 'target_gene', 'target_gene', 'target_gene', 'target_gene', 'target_gene', 'target_gene', 'target_gene', 'target_gene', 'target_gene', 'target_gene', 'target_gene', 'target_gene', 'target_gene', 'target_gene', 'target_gene', 'target_gene', 'target_gene', 'target_gene', 'target_gene', 'target_gene', 'target_gene', 'target_gene', 'target_gene', 'target_gene', 'target_gene', 'target_gene', 'target_gene', 'target_gene', 'target_gene', 'target_gene', 'target_gene', 'target_gene', 'target_gene', 'target_gene', 'target_gene', 'target_gene', 'target_gene', 'target_gene', 'target_gene', 'target_gene', 'target_gene', 'target_gene', 'target_gene', 'target_gene', 'target_gene', 'target_gene', 'target_gene', 'target_gene', 'target_gene']}\n"
     ]
    }
   ],
   "source": [
    "# Display example NicheNet GPs\n",
    "for i, (key, value) in enumerate(nichenet_gp_dict.items()):\n",
    "    if i > 2:\n",
    "        break\n",
    "    print(key, value)"
   ]
  },
  {
   "cell_type": "code",
   "execution_count": 19,
   "id": "07b66236-5e28-4d63-8e5f-9ea02bd37b7a",
   "metadata": {},
   "outputs": [
    {
     "data": {
      "image/png": "[encoded data removed]",
      "text/plain": [
       "<Figure size 1000x500 with 2 Axes>"
      ]
     },
     "metadata": {},
     "output_type": "display_data"
    }
   ],
   "source": [
    "# Retrieve MEBOCOST GPs (source: enzyme genes; target: sensor genes)\n",
    "mebocost_gp_dict = extract_gp_dict_from_mebocost_es_interactions(\n",
    "    dir_path=mebocost_enzyme_sensor_interactions_folder_path,\n",
    "    species=species,\n",
    "    plot_gp_gene_count_distributions=True)"
   ]
  },
  {
   "cell_type": "code",
   "execution_count": 20,
   "id": "26c43948-415a-4862-a52c-2e83d580edcd",
   "metadata": {},
   "outputs": [
    {
     "name": "stdout",
     "output_type": "stream",
     "text": [
      "Deoxyuridine_metabolite_enzyme_sensor_GP {'sources': ['Cda', 'Pnp', 'Pnp2', 'Tk1', 'Tk2', 'Tymp'], 'sources_categories': ['enzyme', 'enzyme', 'enzyme', 'enzyme', 'enzyme', 'enzyme'], 'targets': ['Slc29a2'], 'targets_categories': ['sensor']}\n",
      "Deoxycytidine_metabolite_enzyme_sensor_GP {'sources': ['Cda', 'Dck', 'Nt5c', 'Nt5c1a', 'Nt5c1b', 'Nt5c2', 'Nt5e', 'Nt5m'], 'sources_categories': ['enzyme', 'enzyme', 'enzyme', 'enzyme', 'enzyme', 'enzyme', 'enzyme', 'enzyme'], 'targets': ['Slc29a2'], 'targets_categories': ['sensor']}\n",
      "3-Methoxytyramine_metabolite_enzyme_sensor_GP {'sources': ['Comt', 'Maoa', 'Maob'], 'sources_categories': ['enzyme', 'enzyme', 'enzyme'], 'targets': ['Taar1'], 'targets_categories': ['sensor']}\n"
     ]
    }
   ],
   "source": [
    "# Display example MEBOCOST GPs\n",
    "for i, (key, value) in enumerate(mebocost_gp_dict.items()):\n",
    "    if i > 2:\n",
    "        break\n",
    "    print(key, value)"
   ]
  },
  {
   "cell_type": "code",
   "execution_count": null,
   "id": "ce38cd6f-1dd2-4a6f-ba26-bb37458022af",
   "metadata": {},
   "outputs": [],
   "source": [
    "# Retrieve CollecTRI GPs (source: TF genes; target: target genes)\n",
    "collectri_gp_dict = extract_gp_dict_from_collectri_tf_network(\n",
    "        species=species,\n",
    "        tf_network_file_path=collectri_tf_network_file_path,\n",
    "        load_from_disk=False,\n",
    "        save_to_disk=True,\n",
    "        plot_gp_gene_count_distributions=True)"
   ]
  },
  {
   "cell_type": "code",
   "execution_count": null,
   "id": "be19c5fe-928d-498b-9ea0-6a63af5a8ccf",
   "metadata": {},
   "outputs": [],
   "source": [
    "# Display example CollecTRI GPs\n",
    "for i, (key, value) in enumerate(collectri_gp_dict.items()):\n",
    "    if i > 2:\n",
    "        break\n",
    "    print(key, value)"
   ]
  },
  {
   "cell_type": "code",
   "execution_count": null,
   "id": "2c1f40b8-bccd-479a-ba6d-69915901c8cf",
   "metadata": {},
   "outputs": [],
   "source": [
    "# Add GPs into one combined dictionary for model training\n",
    "combined_gp_dict = dict(omnipath_gp_dict)\n",
    "combined_gp_dict.update(nichenet_gp_dict)\n",
    "combined_gp_dict.update(mebocost_gp_dict)\n",
    "combined_gp_dict.update(collectri_gp_dict)"
   ]
  },
  {
   "cell_type": "code",
   "execution_count": null,
   "id": "3594050d-32c9-4668-9013-46468ac84d1c",
   "metadata": {},
   "outputs": [],
   "source": [
    "# Filter and combine GPs to avoid overlaps\n",
    "combined_new_gp_dict = filter_and_combine_gp_dict_gps(\n",
    "    gp_dict=combined_gp_dict,\n",
    "    gp_filter_mode=\"subset\",\n",
    "    combine_overlap_gps=True,\n",
    "    overlap_thresh_source_genes=0.9,\n",
    "    overlap_thresh_target_genes=0.9,\n",
    "    overlap_thresh_genes=0.9)\n",
    "\n",
    "print(\"Number of gene programs before filtering and combining: \"\n",
    "      f\"{len(combined_gp_dict)}.\")\n",
    "print(f\"Number of gene programs after filtering and combining: \"\n",
    "      f\"{len(combined_new_gp_dict)}.\")"
   ]
  },
  {
   "cell_type": "markdown",
   "id": "049f6853-5dc1-4b68-9240-c4b6a00f1514",
   "metadata": {},
   "source": [
    "### 2.2 Load Data & Compute Spatial Neighbor Graph"
   ]
  },
  {
   "cell_type": "markdown",
   "id": "532e9c72-65e8-43a8-b1e1-69b42aad417a",
   "metadata": {},
   "source": [
    "- NicheCompass expects a precomputed spatial adjacency matrix stored in 'adata.obsp[adj_key]'.\n",
    "- The user can customize the spatial neighbor graph construction based on the dataset, application, and hypothesis of interest."
   ]
  },
  {
   "cell_type": "code",
   "execution_count": null,
   "id": "ada889e3-9efd-4371-af10-1c17c68be3cc",
   "metadata": {},
   "outputs": [],
   "source": [
    "# Read data\n",
    "adata = sc.read_h5ad(\n",
    "        f\"{so_data_folder_path}/{dataset}_batch1.h5ad\")"
   ]
  },
  {
   "cell_type": "code",
   "execution_count": null,
   "id": "b608d941-b914-45e0-b94e-3705233e46c5",
   "metadata": {},
   "outputs": [],
   "source": [
    "# Compute spatial neighborhood\n",
    "sq.gr.spatial_neighbors(adata,\n",
    "                        coord_type=\"generic\",\n",
    "                        spatial_key=spatial_key,\n",
    "                        n_neighs=n_neighbors)\n",
    "\n",
    "# Make adjacency matrix symmetric\n",
    "adata.obsp[adj_key] = (\n",
    "    adata.obsp[adj_key].maximum(\n",
    "        adata.obsp[adj_key].T))"
   ]
  },
  {
   "cell_type": "markdown",
   "id": "67727236-f960-45bc-8d3e-8bbb68b6d28a",
   "metadata": {},
   "source": [
    "### 2.4 Add GP Mask to Data"
   ]
  },
  {
   "cell_type": "code",
   "execution_count": null,
   "id": "747af49c-b520-4f7d-ae5b-1b4aa0224ed9",
   "metadata": {},
   "outputs": [],
   "source": [
    "# Add the GP dictionary as binary masks to the adata\n",
    "add_gps_from_gp_dict_to_adata(\n",
    "    gp_dict=combined_new_gp_dict,\n",
    "    adata=adata,\n",
    "    gp_targets_mask_key=gp_targets_mask_key,\n",
    "    gp_targets_categories_mask_key=gp_targets_categories_mask_key,\n",
    "    gp_sources_mask_key=gp_sources_mask_key,\n",
    "    gp_sources_categories_mask_key=gp_sources_categories_mask_key,\n",
    "    gp_names_key=gp_names_key,\n",
    "    min_genes_per_gp=2,\n",
    "    min_source_genes_per_gp=1,\n",
    "    min_target_genes_per_gp=1,\n",
    "    max_genes_per_gp=None,\n",
    "    max_source_genes_per_gp=None,\n",
    "    max_target_genes_per_gp=None)"
   ]
  },
  {
   "cell_type": "markdown",
   "id": "6f1bd811-0964-4326-99fd-3433fc4878a7",
   "metadata": {},
   "source": [
    "### 2.5 Explore Data"
   ]
  },
  {
   "cell_type": "code",
   "execution_count": null,
   "id": "d0175769-5cdc-42da-9376-72958023d2ec",
   "metadata": {},
   "outputs": [],
   "source": [
    "cell_type_colors = create_new_color_dict(\n",
    "    adata=adata,\n",
    "    cat_key=cell_type_key)"
   ]
  },
  {
   "cell_type": "code",
   "execution_count": null,
   "id": "ab2ea2bb-d2dc-45ff-a23b-677d80970f6e",
   "metadata": {},
   "outputs": [],
   "source": [
    "print(f\"Number of nodes (observations): {adata.layers['counts'].shape[0]}\")\n",
    "print(f\"Number of node features (genes): {adata.layers['counts'].shape[1]}\")\n",
    "\n",
    "# Visualize cell-level annotated data in physical space\n",
    "sc.pl.spatial(adata,\n",
    "              color=cell_type_key,\n",
    "              palette=cell_type_colors,\n",
    "              spot_size=spot_size)        "
   ]
  },
  {
   "cell_type": "markdown",
   "id": "1f53d723-4fd7-49dc-844b-58cf8b9585a2",
   "metadata": {},
   "source": [
    "## 3. Model Training"
   ]
  },
  {
   "cell_type": "markdown",
   "id": "2d621701-56aa-4b22-90c6-20e5d1166774",
   "metadata": {},
   "source": [
    "### 3.1 Initialize, Train & Save Model"
   ]
  },
  {
   "cell_type": "code",
   "execution_count": null,
   "id": "1764d856-2d58-4a82-9246-aa177645e7f5",
   "metadata": {},
   "outputs": [],
   "source": [
    "# Initialize model\n",
    "model = NicheCompass(adata,\n",
    "                     counts_key=counts_key,\n",
    "                     adj_key=adj_key,\n",
    "                     gp_names_key=gp_names_key,\n",
    "                     active_gp_names_key=active_gp_names_key,\n",
    "                     gp_targets_mask_key=gp_targets_mask_key,\n",
    "                     gp_targets_categories_mask_key=gp_targets_categories_mask_key,\n",
    "                     gp_sources_mask_key=gp_sources_mask_key,\n",
    "                     gp_sources_categories_mask_key=gp_sources_categories_mask_key,\n",
    "                     latent_key=latent_key,\n",
    "                     active_gp_thresh_ratio=active_gp_thresh_ratio,\n",
    "                     node_label_method=node_label_method)"
   ]
  },
  {
   "cell_type": "code",
   "execution_count": null,
   "id": "82c6156e-e3af-4fe1-83ba-da0637cb6a2d",
   "metadata": {},
   "outputs": [],
   "source": [
    "# Train model\n",
    "model.train(n_epochs=n_epochs,\n",
    "            n_epochs_all_gps=n_epochs_all_gps,\n",
    "            lr=lr,\n",
    "            lambda_edge_recon=lambda_edge_recon,\n",
    "            lambda_gene_expr_recon=lambda_gene_expr_recon,\n",
    "            lambda_l1_masked=lambda_l1_masked,\n",
    "            l1_targets_categories=l1_targets_categories,\n",
    "            l1_sources_categories=l1_sources_categories,\n",
    "            edge_batch_size=edge_batch_size,\n",
    "            use_cuda_if_available=use_cuda_if_available,\n",
    "            verbose=False)"
   ]
  },
  {
   "cell_type": "code",
   "execution_count": null,
   "id": "6b1bd23a-3b60-4d18-bfdb-624d5a155c24",
   "metadata": {},
   "outputs": [],
   "source": [
    "# Compute latent neighbor graph\n",
    "sc.pp.neighbors(model.adata,\n",
    "                use_rep=latent_key,\n",
    "                key_added=latent_key)\n",
    "\n",
    "# Compute UMAP embedding\n",
    "sc.tl.umap(model.adata,\n",
    "           neighbors_key=latent_key)"
   ]
  },
  {
   "cell_type": "code",
   "execution_count": null,
   "id": "4532093b-9001-4b56-95a2-a8c6aee65ef7",
   "metadata": {},
   "outputs": [],
   "source": [
    "# Save trained model\n",
    "model.save(dir_path=model_folder_path,\n",
    "           overwrite=True,\n",
    "           save_adata=True,\n",
    "           adata_file_name=\"adata.h5ad\")"
   ]
  },
  {
   "cell_type": "markdown",
   "id": "5427e8a5-884a-4ffe-b2bc-497622bb707b",
   "metadata": {},
   "source": [
    "## 4. Analysis"
   ]
  },
  {
   "cell_type": "code",
   "execution_count": null,
   "id": "3e183c77-343f-405c-a4e1-b2e7b175f41a",
   "metadata": {},
   "outputs": [],
   "source": [
    "load_timestamp = \"26062023_120911\"\n",
    "\n",
    "figure_folder_path = f\"{artifacts_folder_path}/single_sample/{load_timestamp}/figures\"\n",
    "model_folder_path = f\"{artifacts_folder_path}/single_sample/{load_timestamp}/model\"\n",
    "\n",
    "os.makedirs(figure_folder_path, exist_ok=True)"
   ]
  },
  {
   "cell_type": "code",
   "execution_count": null,
   "id": "051dea42-ed18-4ace-af5b-822916ba6fa9",
   "metadata": {},
   "outputs": [],
   "source": [
    "# Load trained model\n",
    "model = NicheCompass.load(dir_path=model_folder_path,\n",
    "                          adata=None,\n",
    "                          adata_file_name=\"adata.h5ad\",\n",
    "                          gp_names_key=gp_names_key)"
   ]
  },
  {
   "cell_type": "code",
   "execution_count": null,
   "id": "3ad6348d-5f60-4d15-b15a-09a5a734d5ab",
   "metadata": {},
   "outputs": [],
   "source": [
    "samples = model.adata.obs[sample_key].unique().tolist()"
   ]
  },
  {
   "cell_type": "markdown",
   "id": "8185ab0d-0fed-4bc0-984f-4041ad9cebeb",
   "metadata": {},
   "source": [
    "### 4.1 Visualize NicheCompass Embeddings"
   ]
  },
  {
   "cell_type": "markdown",
   "id": "fc617703-1187-4109-9942-8107d1fd7cf7",
   "metadata": {},
   "source": [
    "Let's look at the preservation of cell type annotations in the embedding space. Note that the goal of NicheCompass is not a perfect separation of cell types but rather to identify spatial cellular niches. Nevertheless, it can be useful to look at the cell type annotations if available."
   ]
  },
  {
   "cell_type": "code",
   "execution_count": null,
   "id": "1282eb0b-be80-41f3-83f0-481ba69ae0d2",
   "metadata": {},
   "outputs": [],
   "source": [
    "cell_type_colors = create_new_color_dict(\n",
    "    adata=model.adata,\n",
    "    cat_key=cell_type_key)"
   ]
  },
  {
   "cell_type": "code",
   "execution_count": null,
   "id": "17c57560-19e9-406e-a823-7fd2303aeba1",
   "metadata": {},
   "outputs": [],
   "source": [
    "# Create plot of cell type annotations in physical and latent space\n",
    "groups = None\n",
    "save_fig = True\n",
    "file_path = f\"{figure_folder_path}/\" \\\n",
    "            \"cell_types_latent_physical_space.svg\"\n",
    "\n",
    "fig = plt.figure(figsize=(12, 14))\n",
    "title = fig.suptitle(t=f\"NicheCompass Cell Types \" \\\n",
    "                       \"in Latent and Physical Space\",\n",
    "                     y=0.96,\n",
    "                     x=0.55,\n",
    "                     fontsize=20)\n",
    "spec1 = gridspec.GridSpec(ncols=1,\n",
    "                          nrows=2,\n",
    "                          width_ratios=[1],\n",
    "                          height_ratios=[3, 2])\n",
    "spec2 = gridspec.GridSpec(ncols=len(samples),\n",
    "                          nrows=2,\n",
    "                          width_ratios=[1] * len(samples),\n",
    "                          height_ratios=[3, 2])\n",
    "axs = []\n",
    "axs.append(fig.add_subplot(spec1[0]))\n",
    "sc.pl.umap(adata=model.adata,\n",
    "           color=[cell_type_key],\n",
    "           groups=groups,palette=cell_type_colors,\n",
    "           title=f\"Cell Types in Latent Space\",\n",
    "           ax=axs[0],\n",
    "           show=False)\n",
    "for idx, sample in enumerate(samples):\n",
    "    axs.append(fig.add_subplot(spec2[len(samples) + idx]))\n",
    "    sc.pl.spatial(adata=model.adata[model.adata.obs[sample_key] == sample],\n",
    "                  color=[cell_type_key],\n",
    "                  groups=groups,\n",
    "                  palette=cell_type_colors,\n",
    "                  spot_size=spot_size,\n",
    "                  title=f\"Cell Types in Physical Space \\n\"\n",
    "                        f\"(Sample: {sample})\",\n",
    "                  legend_loc=None,\n",
    "                  ax=axs[idx+1],\n",
    "                  show=False)\n",
    "\n",
    "# Create and position shared legend\n",
    "handles, labels = axs[0].get_legend_handles_labels()\n",
    "lgd = fig.legend(handles,\n",
    "                 labels,\n",
    "                 loc=\"center left\",\n",
    "                 bbox_to_anchor=(0.98, 0.5))\n",
    "axs[0].get_legend().remove()\n",
    "\n",
    "# Adjust, save and display plot\n",
    "plt.subplots_adjust(wspace=0.2, hspace=0.25)\n",
    "if save_fig:\n",
    "    fig.savefig(file_path,\n",
    "                bbox_extra_artists=(lgd, title),\n",
    "                bbox_inches=\"tight\")\n",
    "plt.show()"
   ]
  },
  {
   "cell_type": "markdown",
   "id": "85881ac4-b24a-41d0-a75b-2bdd3568ac53",
   "metadata": {
    "tags": []
   },
   "source": [
    "### 4.2 Identify Niches"
   ]
  },
  {
   "cell_type": "markdown",
   "id": "5253fc14-684e-461e-b096-f36c229089a7",
   "metadata": {},
   "source": [
    "We compute Leiden clustering based on the NicheCompass embeddings to identify spatial cellular niches."
   ]
  },
  {
   "cell_type": "code",
   "execution_count": null,
   "id": "2cb4465d-1391-4724-8d2d-11140625e2d3",
   "metadata": {},
   "outputs": [],
   "source": [
    "# Compute latent Leiden clustering\n",
    "sc.tl.leiden(adata=model.adata,\n",
    "             resolution=latent_leiden_resolution,\n",
    "             key_added=latent_cluster_key,\n",
    "             neighbors_key=latent_key)"
   ]
  },
  {
   "cell_type": "code",
   "execution_count": null,
   "id": "8e105612-9f7a-4f3d-b53a-23b0a054490b",
   "metadata": {},
   "outputs": [],
   "source": [
    "latent_cluster_colors = create_new_color_dict(\n",
    "    adata=model.adata,\n",
    "    cat_key=latent_cluster_key)"
   ]
  },
  {
   "cell_type": "code",
   "execution_count": null,
   "id": "4f183091-156b-410b-981e-5cf7db7159ca",
   "metadata": {},
   "outputs": [],
   "source": [
    "# Create plot of latent cluster / niche annotations in physical and latent space\n",
    "groups = None # set this to a specific cluster for easy visualization, e.g. [\"0\"]\n",
    "save_fig = True\n",
    "file_path = f\"{figure_folder_path}/\" \\\n",
    "            f\"res_{latent_leiden_resolution}_\" \\\n",
    "            \"latent_clusters_latent_physical_space.svg\"\n",
    "\n",
    "fig = plt.figure(figsize=(12, 14))\n",
    "title = fig.suptitle(t=f\"NicheCompass Latent Clusters \" \\\n",
    "                       \"in Latent and Physical Space\",\n",
    "                     y=0.96,\n",
    "                     x=0.55,\n",
    "                     fontsize=20)\n",
    "spec1 = gridspec.GridSpec(ncols=1,\n",
    "                          nrows=2,\n",
    "                          width_ratios=[1],\n",
    "                          height_ratios=[3, 2])\n",
    "spec2 = gridspec.GridSpec(ncols=len(samples),\n",
    "                          nrows=2,\n",
    "                          width_ratios=[1] * len(samples),\n",
    "                          height_ratios=[3, 2])\n",
    "axs = []\n",
    "axs.append(fig.add_subplot(spec1[0]))\n",
    "sc.pl.umap(adata=model.adata,\n",
    "           color=[latent_cluster_key],\n",
    "           groups=groups,\n",
    "           palette=latent_cluster_colors,\n",
    "           title=f\"Latent Clusters in Latent Space\",\n",
    "           ax=axs[0],\n",
    "           show=False)\n",
    "for idx, sample in enumerate(samples):\n",
    "    axs.append(fig.add_subplot(spec2[len(samples) + idx]))\n",
    "    sc.pl.spatial(adata=model.adata[model.adata.obs[sample_key] == sample],\n",
    "                  color=[latent_cluster_key],\n",
    "                  groups=groups,\n",
    "                  palette=latent_cluster_colors,\n",
    "                  spot_size=spot_size,\n",
    "                  title=f\"Latent Clusters in Physical Space \\n\"\n",
    "                        f\"(Sample: {sample})\",\n",
    "                  legend_loc=None,\n",
    "                  ax=axs[idx+1],\n",
    "                  show=False)\n",
    "\n",
    "# Create and position shared legend\n",
    "handles, labels = axs[0].get_legend_handles_labels()\n",
    "lgd = fig.legend(handles,\n",
    "                 labels,\n",
    "                 loc=\"center left\",\n",
    "                 bbox_to_anchor=(0.98, 0.5))\n",
    "axs[0].get_legend().remove()\n",
    "\n",
    "# Adjust, save and display plot\n",
    "plt.subplots_adjust(wspace=0.2, hspace=0.25)\n",
    "if save_fig:\n",
    "    fig.savefig(file_path,\n",
    "                bbox_extra_artists=(lgd, title),\n",
    "                bbox_inches=\"tight\")\n",
    "plt.show()"
   ]
  },
  {
   "cell_type": "markdown",
   "id": "6db0bcef-54bd-43fe-91c2-7c5abbc54da8",
   "metadata": {},
   "source": [
    "### 4.3 Analyze Niches"
   ]
  },
  {
   "cell_type": "markdown",
   "id": "52854754-c728-4704-857e-adaa1d6952f5",
   "metadata": {},
   "source": [
    "Now we will analyze the identified spatial cellular niches."
   ]
  },
  {
   "cell_type": "markdown",
   "id": "b286bfa0-5589-4a45-88e4-8b9df241f826",
   "metadata": {},
   "source": [
    "#### 4.3.1 Niche Composition"
   ]
  },
  {
   "cell_type": "markdown",
   "id": "a8dc1219-97c8-495d-b676-2532cef8a8ba",
   "metadata": {},
   "source": [
    "We can analyze the niche composition in terms of cell type labels."
   ]
  },
  {
   "cell_type": "code",
   "execution_count": null,
   "id": "c33c9b7a-d8c6-4a7c-a4e9-98ab8a9e458c",
   "metadata": {},
   "outputs": [],
   "source": [
    "save_fig = True\n",
    "file_path = f\"{figure_folder_path}/\" \\\n",
    "            f\"res_{latent_leiden_resolution}_\" \\\n",
    "            f\"niche_composition.svg\"\n",
    "\n",
    "df_counts = (model.adata.obs.groupby([latent_cluster_key, cell_type_key])\n",
    "             .size().unstack())\n",
    "df_counts.plot(kind=\"bar\", stacked=True, figsize=(10,10))\n",
    "legend = plt.legend(bbox_to_anchor=(1, 1), loc=\"upper left\", prop={'size': 10})\n",
    "legend.set_title(\"Cell Type Annotations\", prop={'size': 10})\n",
    "plt.title(\"Cell Type Composition of Niches\")\n",
    "plt.xlabel(\"Niche\")\n",
    "plt.ylabel(\"Cell Type Counts\")\n",
    "if save_fig:\n",
    "    plt.savefig(file_path,\n",
    "                bbox_extra_artists=(legend,),\n",
    "                bbox_inches=\"tight\")"
   ]
  },
  {
   "cell_type": "markdown",
   "id": "e282a741-19ee-423b-a06b-6171f7cc3e3d",
   "metadata": {},
   "source": [
    "#### 4.3.2 Cell Type Neighbor Importances"
   ]
  },
  {
   "cell_type": "markdown",
   "id": "3fdc9bce-1ca4-43b7-a824-55ef6bc89652",
   "metadata": {},
   "source": [
    "Now we will investigate neighbor importances in terms of cell type labels of different niches."
   ]
  },
  {
   "cell_type": "code",
   "execution_count": null,
   "id": "78a0be00-cdca-400c-8c79-e5922f0fa73c",
   "metadata": {},
   "outputs": [],
   "source": [
    "# Retrieve node neighbor importances \n",
    "# (aggregation weights of the node label aggregator)\n",
    "model.adata.obsp[agg_weights_key] = model.get_neighbor_importances()"
   ]
  },
  {
   "cell_type": "code",
   "execution_count": null,
   "id": "d7706464-c18c-4298-9cfd-ef84404936ce",
   "metadata": {},
   "outputs": [],
   "source": [
    "# Get cell type neighbor importances for each niche / latent cluster\n",
    "niche_neighbor_importances_df = aggregate_obsp_matrix_per_cell_type(\n",
    "    adata=model.adata,\n",
    "    obsp_key=agg_weights_key,\n",
    "    cell_type_key=cell_type_key,\n",
    "    group_key=latent_cluster_key,\n",
    "    agg_rows=True)"
   ]
  },
  {
   "cell_type": "code",
   "execution_count": null,
   "id": "be8b1fe8-a907-4b05-9786-fce790bca1f5",
   "metadata": {},
   "outputs": [],
   "source": [
    "display(niche_neighbor_importances_df)"
   ]
  },
  {
   "cell_type": "code",
   "execution_count": null,
   "id": "bfcf0b9e-59e8-466a-bced-9dbd8952561d",
   "metadata": {},
   "outputs": [],
   "source": [
    "# Generate chord plots showing cell type neighbor importances\n",
    "# for each niche / latent cluster\n",
    "groups = \"all\"\n",
    "save_fig = True\n",
    "file_path = f\"{figure_folder_path}/\" \\\n",
    "            f\"res_{latent_leiden_resolution}_\" \\\n",
    "            f\"niche_neighbor_importances.png\"\n",
    "\n",
    "create_cell_type_chord_plot_from_df(\n",
    "        adata=model.adata,\n",
    "        df=niche_neighbor_importances_df,\n",
    "        link_threshold=0.01,\n",
    "        cell_type_key=cell_type_key,\n",
    "        group_key=latent_cluster_key,\n",
    "        groups=groups,\n",
    "        plot_label=\"Niche\",\n",
    "        save_fig=save_fig,\n",
    "        file_path=file_path)"
   ]
  },
  {
   "cell_type": "markdown",
   "id": "01d2e7d2-6333-45c5-aeb8-c81403bc7355",
   "metadata": {},
   "source": [
    "### 4.4 Perform Differential Gene Program Testing"
   ]
  },
  {
   "cell_type": "markdown",
   "id": "bd093d4b-c48f-477c-bd29-db85470b37d1",
   "metadata": {},
   "source": [
    "Now we can test which communication gene programs are differentially expressed in a niche. To this end, we will perform differential gene program testing of a selected niche, e.g. latent cluster / niche \"0\" (```selected_cats = [\"0\"]```) vs all other latent clusters / niches (```comparison_cats = \"rest\"```). However, differential gene program testing can also be performed in the following ways:\n",
    "- Set ```selected_cats = None``` to perform differential gene program testing across all niches, as opposed to just for one specific niche.\n",
    "- Set ```comparison_cats = [\"2\", \"3\"]``` to perform differential gene program testing against latent clusters / niches \"2\" and \"3\" as opposed to against all other latent clusters / niches.\n",
    "\n",
    "We choose a log bayes factor threshold of 4.6 to determine decisively enriched gene programs. Alternatively, the threshold could be loosened to a value of 2.3 to also allow \"only\" strongly enriched gene programs to be identified (see https://en.wikipedia.org/wiki/Bayes_factor)."
   ]
  },
  {
   "cell_type": "code",
   "execution_count": null,
   "id": "7600c51f-4071-4b35-9dc5-6fa81301e389",
   "metadata": {},
   "outputs": [],
   "source": [
    "# Check number of active GPs\n",
    "active_gps = model.get_active_gps()\n",
    "print(f\"Number of total gene programs: {len(model.adata.uns[gp_names_key])}.\")\n",
    "print(f\"Number of active gene programs: {len(active_gps)}.\")"
   ]
  },
  {
   "cell_type": "code",
   "execution_count": null,
   "id": "dad3cf5d-aeae-4ebc-afde-d4b19efd43b8",
   "metadata": {},
   "outputs": [],
   "source": [
    "# Display example active GPs\n",
    "gp_summary_df = model.get_gp_summary()\n",
    "gp_summary_df[gp_summary_df[\"gp_active\"] == True].head()"
   ]
  },
  {
   "cell_type": "code",
   "execution_count": null,
   "id": "1852a634-651f-43e2-a888-7e74ef17dc2f",
   "metadata": {},
   "outputs": [],
   "source": [
    "# Set parameters for differential gp testing\n",
    "selected_cats = [\"0\"]\n",
    "comparison_cats = \"rest\"\n",
    "title = f\"NicheCompass Latent Cluster Strongly Enriched Gene Programs\"\n",
    "log_bayes_factor_thresh = 4.6 # 2.3\n",
    "save_fig = True\n",
    "file_path = f\"{figure_folder_path}/\" \\\n",
    "            f\"/log_bayes_factor_{log_bayes_factor_thresh}\" \\\n",
    "             \"_latent_clusters_enriched_gps_dotplot.svg\""
   ]
  },
  {
   "cell_type": "code",
   "execution_count": null,
   "id": "a5af1d74-a65c-4abd-a342-f8e07bca1687",
   "metadata": {},
   "outputs": [],
   "source": [
    "# Run differential gp testing\n",
    "enriched_gps = model.run_differential_gp_tests(\n",
    "    cat_key=latent_cluster_key,\n",
    "    selected_cats=selected_cats,\n",
    "    comparison_cats=comparison_cats,\n",
    "    log_bayes_factor_thresh=log_bayes_factor_thresh)"
   ]
  },
  {
   "cell_type": "code",
   "execution_count": null,
   "id": "3b7c4edd-0071-4658-9e99-bb69af4d59c9",
   "metadata": {},
   "outputs": [],
   "source": [
    "# Results are stored in a df in the adata object\n",
    "model.adata.uns[differential_gp_test_results_key]"
   ]
  },
  {
   "cell_type": "code",
   "execution_count": null,
   "id": "28580063-a058-4c65-a37f-924ca6855bd8",
   "metadata": {},
   "outputs": [],
   "source": [
    "# Create dotplot of results\n",
    "fig = sc.pl.dotplot(model.adata,\n",
    "                    enriched_gps,\n",
    "                    groupby=latent_cluster_key,\n",
    "                    dendrogram=True, \n",
    "                    title=title,\n",
    "                    swap_axes=True,\n",
    "                    return_fig=True,\n",
    "                    figsize=(model.adata.obs[latent_cluster_key].nunique() / 2,\n",
    "                             len(enriched_gps) / 2))\n",
    "if save_fig:\n",
    "    fig.savefig(file_path)\n",
    "else:\n",
    "    fig.show()"
   ]
  },
  {
   "cell_type": "code",
   "execution_count": null,
   "id": "e8a052f9-e1b8-46c6-96e0-e4ceb531fe04",
   "metadata": {},
   "outputs": [],
   "source": [
    "# Store gene program summary of enriched gene programs\n",
    "save_file = True\n",
    "file_path = f\"{figure_folder_path}/\" \\\n",
    "            f\"/log_bayes_factor_{log_bayes_factor_thresh}_\" \\\n",
    "            \"latent_clusters_enriched_gps_summary.csv\"\n",
    "\n",
    "gp_summary_cols = [\"gp_name\",\n",
    "                   \"n_source_genes\",\n",
    "                   \"n_non_zero_source_genes\",\n",
    "                   \"n_target_genes\",\n",
    "                   \"n_non_zero_target_genes\",\n",
    "                   \"gp_source_genes\",\n",
    "                   \"gp_target_genes\",\n",
    "                   \"gp_source_genes_weights_sign_corrected\",\n",
    "                   \"gp_target_genes_weights_sign_corrected\",\n",
    "                   \"gp_source_genes_importances\",\n",
    "                   \"gp_target_genes_importances\"]\n",
    "\n",
    "enriched_gp_summary_df = gp_summary_df[gp_summary_df[\"gp_name\"].isin(enriched_gps)]\n",
    "cat_dtype = pd.CategoricalDtype(categories=enriched_gps, ordered=True)\n",
    "enriched_gp_summary_df.loc[:, \"gp_name\"] = enriched_gp_summary_df[\"gp_name\"].astype(cat_dtype)\n",
    "enriched_gp_summary_df = enriched_gp_summary_df.sort_values(by=\"gp_name\")\n",
    "enriched_gp_summary_df = enriched_gp_summary_df[gp_summary_cols]\n",
    "\n",
    "if save_file:\n",
    "    enriched_gp_summary_df.to_csv(f\"{file_path}\")\n",
    "else:\n",
    "    display(enriched_gp_summary_df)"
   ]
  },
  {
   "cell_type": "markdown",
   "id": "60b824a7-d862-45cb-b962-54caf78ef565",
   "metadata": {},
   "source": [
    "### 4.5 Analyze Enriched Gene Programs"
   ]
  },
  {
   "cell_type": "markdown",
   "id": "4d761041-48aa-4799-b643-8175c14ff190",
   "metadata": {},
   "source": [
    "Now we will have a look at the gene program scores as well as the (log normalized) count distributions of\n",
    "the most important omics features of the differentially expressed gene programs."
   ]
  },
  {
   "cell_type": "code",
   "execution_count": null,
   "id": "662ac80d-e71d-4bb7-b8fc-e368c76482f3",
   "metadata": {},
   "outputs": [],
   "source": [
    "plot_label = f\"log_bayes_factor_{log_bayes_factor_thresh}_cluster_0_vs_rest\"\n",
    "save_figs = True\n",
    "\n",
    "generate_enriched_gp_info_plots(\n",
    "    plot_label=plot_label,\n",
    "    model=model,\n",
    "    sample_key=sample_key,\n",
    "    differential_gp_test_results_key=differential_gp_test_results_key,\n",
    "    cat_key=latent_cluster_key,\n",
    "    cat_palette=latent_cluster_colors,\n",
    "    n_top_enriched_gps=10,\n",
    "    feature_spaces=samples, # [\"latent\"]\n",
    "    n_top_genes_per_gp=3,\n",
    "    save_figs=save_figs,\n",
    "    figure_folder_path=f\"{figure_folder_path}/\",\n",
    "    spot_size=spot_size)"
   ]
  },
  {
   "cell_type": "code",
   "execution_count": null,
   "id": "70b9a164-8258-4a3f-b39e-c21f17e59e1e",
   "metadata": {},
   "outputs": [],
   "source": []
  }
 ],
 "metadata": {
  "kernelspec": {
   "display_name": "Python 3 (ipykernel)",
   "language": "python",
   "name": "python3"
  },
  "language_info": {
   "codemirror_mode": {
    "name": "ipython",
    "version": 3
   },
   "file_extension": ".py",
   "mimetype": "text/x-python",
   "name": "python",
   "nbconvert_exporter": "python",
   "pygments_lexer": "ipython3",
   "version": "3.9.17"
  }
 },
 "nbformat": 4,
 "nbformat_minor": 5
}
