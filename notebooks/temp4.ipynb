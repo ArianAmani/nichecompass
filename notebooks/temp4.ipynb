{
 "cells": [
  {
   "cell_type": "markdown",
   "id": "1b1daabf-c8e3-43d4-aa32-9789abcc8619",
   "metadata": {},
   "source": [
    "# NicheCompass Single Sample Tutorial"
   ]
  },
  {
   "cell_type": "markdown",
   "id": "c325d921-2077-42b3-90a8-6f6c7dd928c5",
   "metadata": {},
   "source": [
    "- **Creator**: Sebastian Birk (<sebastian.birk@helmholtz-munich.de>).\n",
    "- **Affiliation:** Helmholtz Munich, Institute of Computational Biology (ICB), Talavera-López Lab\n",
    "- **Date of Creation:** 17.05.2023\n",
    "- **Date of Last Modification:** 26.06.2023"
   ]
  },
  {
   "cell_type": "markdown",
   "id": "82e6faa7-2a8a-45bd-abe0-2e9d71324606",
   "metadata": {},
   "source": [
    "In this tutorial, we apply NicheCompass to a single sample (sagittal brain section) of the STARmap PLUS mouse central nervous system dataset / atlas from [Shi, H. et al. Spatial Atlas of the Mouse Central Nervous System at Molecular Resolution. bioRxiv 2022.06.20.496914 (2022)](https://www.biorxiv.org/content/10.1101/2022.06.20.496914v1).\n",
    "\n",
    "The sample has:\n",
    "- 91,246 observations at cellular resolution with cell type annotations\n",
    "- 1022 probed genes"
   ]
  },
  {
   "cell_type": "markdown",
   "id": "df7a7254-ecc6-46a2-b559-4b37300bd7ca",
   "metadata": {},
   "source": [
    "- Check the repository [README.md](https://github.com/sebastianbirk/nichecompass#installation) for NicheCompass installation instructions.\n",
    "- The data for this tutorial can be downloaded from [OneDrive](https://1drv.ms/f/s!Atya0VClQocLgvRFj0hYrFICVi0C2w?e=2uLfVX). It has to be stored under ```<repository_root>/data/spatial_omics/```.\n",
    "  - starmap_plus_mouse_cns_batch1.h5ad\n",
    "- A pretrained model to run only the analysis can be downloaded from [OneDrive](https://1drv.ms/f/s!Atya0VClQocLgvRFj0hYrFICVi0C2w?e=2uLfVX). It has to be stored under ```<repository_root>/artifacts/single_sample/<timestamp>/model/```.\n",
    "  - xxx"
   ]
  },
  {
   "cell_type": "markdown",
   "id": "2d464ebf-354f-4f61-8040-c3dcbcc893b9",
   "metadata": {},
   "source": [
    "## 1. Setup"
   ]
  },
  {
   "cell_type": "markdown",
   "id": "d5631277-d8d2-4194-a376-280f4f149b7d",
   "metadata": {},
   "source": [
    "### 1.1 Import Libraries"
   ]
  },
  {
   "cell_type": "code",
   "execution_count": null,
   "id": "7c756075-c6ff-4c0b-8bd4-20885ca56b9e",
   "metadata": {},
   "outputs": [],
   "source": [
    "%load_ext autoreload\n",
    "%autoreload 2"
   ]
  },
  {
   "cell_type": "code",
   "execution_count": null,
   "id": "b4aa3c6a-5a44-4cf1-84a3-5e514457cf3c",
   "metadata": {},
   "outputs": [],
   "source": [
    "import os\n",
    "import warnings\n",
    "from datetime import datetime\n",
    "\n",
    "import matplotlib.pyplot as plt\n",
    "import pandas as pd\n",
    "import scanpy as sc\n",
    "import squidpy as sq\n",
    "from matplotlib import gridspec\n",
    "\n",
    "from nichecompass.models import NicheCompass\n",
    "from nichecompass.utils import (add_gps_from_gp_dict_to_adata,\n",
    "                                aggregate_obsp_matrix_per_cell_type,\n",
    "                                create_cell_type_chord_plot_from_df,\n",
    "                                create_new_color_dict,\n",
    "                                extract_gp_dict_from_mebocost_es_interactions,\n",
    "                                extract_gp_dict_from_nichenet_lrt_interactions,\n",
    "                                extract_gp_dict_from_omnipath_lr_interactions,\n",
    "                                filter_and_combine_gp_dict_gps,\n",
    "                                generate_enriched_gp_info_plots,\n",
    "                                get_unique_genes_from_gp_dict)"
   ]
  },
  {
   "cell_type": "markdown",
   "id": "9f91f345-c297-47cb-8650-c6d9c60a8b7e",
   "metadata": {},
   "source": [
    "### 1.2 Define Parameters"
   ]
  },
  {
   "cell_type": "code",
   "execution_count": null,
   "id": "a4d4e6d9-239f-47c5-a30b-579b16d4c27c",
   "metadata": {},
   "outputs": [],
   "source": [
    "### Dataset ###\n",
    "dataset = \"spatial_atac_rna_seq_mouse_brain\" # \"seqfish_mouse_organogenesis_imputed\"\n",
    "species = \"mouse\"\n",
    "spatial_key = \"spatial\"\n",
    "n_neighbors = 8\n",
    "filter_genes = True\n",
    "n_hvg = 4000\n",
    "\n",
    "### Model ###\n",
    "# AnnData Keys\n",
    "counts_key = \"counts\"\n",
    "adj_key = \"spatial_connectivities\"\n",
    "gp_names_key = \"nichecompass_gp_names\"\n",
    "active_gp_names_key = \"nichecompass_active_gp_names\"\n",
    "gp_targets_mask_key = \"nichecompass_gp_targets\"\n",
    "gp_targets_categories_mask_key = \"nichecompass_gp_targets_categories\"\n",
    "gp_sources_mask_key = \"nichecompass_gp_sources\"\n",
    "gp_sources_categories_mask_key = \"nichecompass_gp_sources_categories\"\n",
    "latent_key = \"nichecompass_latent\"\n",
    "\n",
    "# Architecture\n",
    "active_gp_thresh_ratio = 0.\n",
    "node_label_method = \"one-hop-norm\" # one-hop-attention\n",
    "\n",
    "# Trainer\n",
    "n_epochs = 100\n",
    "n_epochs_all_gps = 25\n",
    "lr = 0.001\n",
    "lambda_edge_recon = 500000.\n",
    "lambda_gene_expr_recon = 300.\n",
    "lambda_l1_masked = 10. # increase if gene selection desired\n",
    "lambda_l1_addon = 20.\n",
    "l1_targets_categories = [\"target_gene\"] # targets categories to which l1 regularization will be applied\n",
    "l1_sources_categories = [\"enzyme\"] # sources categories to which l1 regularization will be applied\n",
    "edge_batch_size = 1024 # reduce if not enough memory\n",
    "use_cuda_if_available = True\n",
    "\n",
    "### Analysis ###\n",
    "cell_type_key = \"RNA_clusters\" # \"celltype_mapped_refined\"\n",
    "latent_leiden_resolution = 0.2\n",
    "latent_cluster_key = f\"latent_leiden_{str(latent_leiden_resolution)}\"\n",
    "sample_key = \"batch\"\n",
    "spot_size = 0.2\n",
    "agg_weights_key = \"agg_weights\"\n",
    "differential_gp_test_results_key = \"nichecompass_differential_gp_test_results\""
   ]
  },
  {
   "cell_type": "markdown",
   "id": "a6c3b7fa-fa59-43dd-81d2-7e116650915f",
   "metadata": {},
   "source": [
    "### 1.3 Run Notebook Setup"
   ]
  },
  {
   "cell_type": "code",
   "execution_count": null,
   "id": "05caf2ee-887a-4429-aed6-9a89a22e7062",
   "metadata": {},
   "outputs": [],
   "source": [
    "warnings.filterwarnings(\"ignore\")"
   ]
  },
  {
   "cell_type": "code",
   "execution_count": null,
   "id": "ab22fbaf-aeed-464b-8a20-b640b9e055fd",
   "metadata": {},
   "outputs": [],
   "source": [
    "# Get time of notebook execution for timestamping saved artifacts\n",
    "now = datetime.now()\n",
    "current_timestamp = now.strftime(\"%d%m%Y_%H%M%S\")"
   ]
  },
  {
   "cell_type": "markdown",
   "id": "2b886225-6b6d-433c-b117-47b9a8f8091f",
   "metadata": {},
   "source": [
    "### 1.4 Configure Paths"
   ]
  },
  {
   "cell_type": "code",
   "execution_count": null,
   "id": "36675337-808d-40a9-93fc-d6cfa9473f66",
   "metadata": {},
   "outputs": [],
   "source": [
    "# Define paths\n",
    "ga_data_folder_path = \"../data/gene_annotations\"\n",
    "gp_data_folder_path = \"../data/gene_programs\"\n",
    "so_data_folder_path = \"../data/spatial_omics\"\n",
    "omnipath_lr_network_file_path = f\"{gp_data_folder_path}/omnipath_lr_network.csv\"\n",
    "nichenet_lr_network_file_path = f\"{gp_data_folder_path}/nichenet_lr_network_v2_{species}.csv\"\n",
    "nichenet_ligand_target_matrix_file_path = f\"{gp_data_folder_path}/nichenet_ligand_target_matrix_v2_{species}.csv\"\n",
    "mebocost_enzyme_sensor_interactions_folder_path = f\"{gp_data_folder_path}/metabolite_enzyme_sensor_gps\"\n",
    "gene_orthologs_mapping_file_path = f\"{ga_data_folder_path}/human_mouse_gene_orthologs.csv\"\n",
    "artifacts_folder_path = f\"../artifacts\"\n",
    "model_folder_path = f\"{artifacts_folder_path}/single_sample/{current_timestamp}/model\""
   ]
  },
  {
   "cell_type": "markdown",
   "id": "fd883193-8aa9-4809-aeac-cacb478df22b",
   "metadata": {
    "tags": []
   },
   "source": [
    "## 2. Model Preparation"
   ]
  },
  {
   "cell_type": "markdown",
   "id": "8ee6fd16-0c5b-47c7-bcd1-ffa29048cb4a",
   "metadata": {},
   "source": [
    "### 2.1 Create Prior Knowledge Cell-Cell-Interaction (CCI) Gene Program (GP) Mask"
   ]
  },
  {
   "cell_type": "markdown",
   "id": "60d6b25c-48c4-4457-9bb0-1365d2745301",
   "metadata": {},
   "source": [
    "- NicheCompass expects a prior CCI GP mask as input, which it will use to make its latent embedding interpretable (through a linear masked decoder). \n",
    "- The user can provide a custom GP mask to NicheCompass based on the dataset, application, and hypothesis of interest.\n",
    "- As a default, we create a GP mask based on three databases of prior CCI knowledge:\n",
    "    - OmniPath\n",
    "    - NicheNet\n",
    "    - MEBOCOST"
   ]
  },
  {
   "cell_type": "code",
   "execution_count": null,
   "id": "d7fd2098-4c5b-46bd-84b6-fa11fee83686",
   "metadata": {},
   "outputs": [],
   "source": [
    "# Retrieve OmniPath GPs (source: ligand gene; target: receptor gene)\n",
    "omnipath_gp_dict = extract_gp_dict_from_omnipath_lr_interactions(\n",
    "    species=species,\n",
    "    min_curation_effort=0,\n",
    "    load_from_disk=True,\n",
    "    save_to_disk=True,\n",
    "    lr_network_file_path=omnipath_lr_network_file_path,\n",
    "    gene_orthologs_mapping_file_path=gene_orthologs_mapping_file_path,\n",
    "    plot_gp_gene_count_distributions=True)\n",
    "\n",
    "# Retrieve unique source and target genes from OmniPath GPs to keep\n",
    "# those genes when filtering\n",
    "omnipath_genes = get_unique_genes_from_gp_dict(\n",
    "    gp_dict=omnipath_gp_dict,\n",
    "    retrieved_gene_entities=[\"sources\", \"targets\"])"
   ]
  },
  {
   "cell_type": "code",
   "execution_count": null,
   "id": "2bd3c53f-a94d-4fdf-a834-f9f6bb97262f",
   "metadata": {},
   "outputs": [],
   "source": [
    "# Display example OmniPath GPs\n",
    "for i, (key, value) in enumerate(omnipath_gp_dict.items()):\n",
    "    if i > 2:\n",
    "        break\n",
    "    print(key, value)"
   ]
  },
  {
   "cell_type": "code",
   "execution_count": null,
   "id": "9c0d7e69-c9e2-455c-a11f-4456edc02e04",
   "metadata": {},
   "outputs": [],
   "source": [
    "# Retrieve NicheNet GPs (source: ligand gene; target: target genes)\n",
    "nichenet_gp_dict = extract_gp_dict_from_nichenet_lrt_interactions(\n",
    "    species=species,\n",
    "    version=\"v2\",\n",
    "    keep_target_genes_ratio=1.,\n",
    "    max_n_target_genes_per_gp=250,\n",
    "    load_from_disk=False,\n",
    "    save_to_disk=True,\n",
    "    lr_network_file_path=nichenet_lr_network_file_path,\n",
    "    ligand_target_matrix_file_path=nichenet_ligand_target_matrix_file_path,\n",
    "    gene_orthologs_mapping_file_path=gene_orthologs_mapping_file_path,\n",
    "    plot_gp_gene_count_distributions=True)\n",
    "\n",
    "# Retrieve unique source genes from NicheNet GPs to keep\n",
    "# those genes when filtering\n",
    "nichenet_source_genes = get_unique_genes_from_gp_dict(\n",
    "    gp_dict=nichenet_gp_dict,\n",
    "    retrieved_gene_entities=[\"sources\"])"
   ]
  },
  {
   "cell_type": "code",
   "execution_count": null,
   "id": "df0105a8-750d-49a3-a65a-0df1a44a9b5c",
   "metadata": {},
   "outputs": [],
   "source": [
    "# Display example NicheNet GPs\n",
    "for i, (key, value) in enumerate(nichenet_gp_dict.items()):\n",
    "    if i > 2:\n",
    "        break\n",
    "    print(key, value)"
   ]
  },
  {
   "cell_type": "code",
   "execution_count": null,
   "id": "07b66236-5e28-4d63-8e5f-9ea02bd37b7a",
   "metadata": {},
   "outputs": [],
   "source": [
    "# Retrieve MEBOCOST GPs (source: enzyme genes; target: sensor genes)\n",
    "mebocost_gp_dict = extract_gp_dict_from_mebocost_es_interactions(\n",
    "    dir_path=mebocost_enzyme_sensor_interactions_folder_path,\n",
    "    species=species,\n",
    "    plot_gp_gene_count_distributions=True)\n",
    "\n",
    "# Retrieve unique source and target genes from MEBOCOST GPs to keep\n",
    "# those genes when filtering\n",
    "mebocost_genes = get_unique_genes_from_gp_dict(\n",
    "    gp_dict=mebocost_gp_dict,\n",
    "    retrieved_gene_entities=[\"sources\", \"targets\"])"
   ]
  },
  {
   "cell_type": "code",
   "execution_count": null,
   "id": "26c43948-415a-4862-a52c-2e83d580edcd",
   "metadata": {},
   "outputs": [],
   "source": [
    "# Display example MEBOCOST GPs\n",
    "for i, (key, value) in enumerate(mebocost_gp_dict.items()):\n",
    "    if i > 2:\n",
    "        break\n",
    "    print(key, value)"
   ]
  },
  {
   "cell_type": "code",
   "execution_count": null,
   "id": "2c1f40b8-bccd-479a-ba6d-69915901c8cf",
   "metadata": {},
   "outputs": [],
   "source": [
    "# Add GPs into one combined dictionary\n",
    "# for model training\n",
    "combined_gp_dict = dict(omnipath_gp_dict)\n",
    "combined_gp_dict.update(nichenet_gp_dict)\n",
    "combined_gp_dict.update(mebocost_gp_dict)"
   ]
  },
  {
   "cell_type": "code",
   "execution_count": null,
   "id": "3594050d-32c9-4668-9013-46468ac84d1c",
   "metadata": {},
   "outputs": [],
   "source": [
    "# Filter and combine GPs to avoid overlaps\n",
    "combined_new_gp_dict = filter_and_combine_gp_dict_gps(\n",
    "    gp_dict=combined_gp_dict,\n",
    "    gp_filter_mode=\"subset\",\n",
    "    combine_overlap_gps=True,\n",
    "    overlap_thresh_source_genes=0.9,\n",
    "    overlap_thresh_target_genes=0.9,\n",
    "    overlap_thresh_genes=0.9)\n",
    "\n",
    "print(\"Number of gene programs before filtering and combining: \"\n",
    "      f\"{len(combined_gp_dict)}.\")\n",
    "print(f\"Number of gene programs after filtering and combining: \"\n",
    "      f\"{len(combined_new_gp_dict)}.\")"
   ]
  },
  {
   "cell_type": "markdown",
   "id": "049f6853-5dc1-4b68-9240-c4b6a00f1514",
   "metadata": {},
   "source": [
    "### 2.2 Load Data & Compute Spatial Neighbor Graph"
   ]
  },
  {
   "cell_type": "markdown",
   "id": "532e9c72-65e8-43a8-b1e1-69b42aad417a",
   "metadata": {},
   "source": [
    "- NicheCompass expects a precomputed spatial adjacency matrix stored in 'adata.obsp[adj_key]'.\n",
    "- The user can customize the spatial neighbor graph construction based on the dataset, application, and hypothesis of interest."
   ]
  },
  {
   "cell_type": "code",
   "execution_count": null,
   "id": "ada889e3-9efd-4371-af10-1c17c68be3cc",
   "metadata": {},
   "outputs": [],
   "source": [
    "# Read data\n",
    "adata = sc.read_h5ad(\n",
    "        f\"{so_data_folder_path}/{dataset}.h5ad\")"
   ]
  },
  {
   "cell_type": "code",
   "execution_count": null,
   "id": "b608d941-b914-45e0-b94e-3705233e46c5",
   "metadata": {},
   "outputs": [],
   "source": [
    "# Compute spatial neighborhood\n",
    "sq.gr.spatial_neighbors(adata,\n",
    "                        coord_type=\"generic\",\n",
    "                        spatial_key=spatial_key,\n",
    "                        n_neighs=n_neighbors)\n",
    "\n",
    "# Make adjacency matrix symmetric\n",
    "adata.obsp[adj_key] = (\n",
    "    adata.obsp[adj_key].maximum(\n",
    "        adata.obsp[adj_key].T))"
   ]
  },
  {
   "cell_type": "markdown",
   "id": "b417d3d8-d7cb-4ac7-a158-8f1d5ab004c6",
   "metadata": {},
   "source": [
    "### 2.3 Filter Genes"
   ]
  },
  {
   "cell_type": "code",
   "execution_count": null,
   "id": "0d2f9b48-6d41-4ce4-b9d2-f9c76988c8bc",
   "metadata": {
    "tags": []
   },
   "outputs": [],
   "source": [
    "if filter_genes:\n",
    "    print(\"\\nFiltering genes...\")\n",
    "    # Filter genes and only keep ligand, receptor, metabolite enzyme, \n",
    "    # metabolite sensor and the 'n_hvg' highly variable genes (potential target\n",
    "    # genes of nichenet)\n",
    "    gp_dict_genes = get_unique_genes_from_gp_dict(\n",
    "        gp_dict=combined_new_gp_dict,\n",
    "            retrieved_gene_entities=[\"sources\", \"targets\"])\n",
    "    print(f\"Starting with {len(adata.var_names)} genes.\")\n",
    "    sc.pp.filter_genes(adata,\n",
    "                       min_cells=0)\n",
    "    print(f\"Keeping {len(adata.var_names)} genes after filtering genes with \"\n",
    "          \"expression in 0 cells.\")\n",
    "\n",
    "    sc.pp.highly_variable_genes(\n",
    "        adata,\n",
    "        layer=counts_key,\n",
    "        n_top_genes=n_hvg,\n",
    "        flavor=\"seurat_v3\",\n",
    "        subset=False)\n",
    "\n",
    "    # Get gene program relevant genes\n",
    "    gp_relevant_genes = [] # [gene.upper() for gene in list(set(omnipath_genes + nichenet_source_genes + mebocost_genes))]\n",
    "    \n",
    "    adata.var[\"gp_relevant\"] = (\n",
    "        adata.var.index.str.upper().isin(gp_relevant_genes))\n",
    "    adata.var[\"keep_gene\"] = (adata.var[\"gp_relevant\"] | \n",
    "                              adata.var[\"highly_variable\"])\n",
    "    adata = adata[:, adata.var[\"keep_gene\"] == True]\n",
    "    print(f\"Keeping {len(adata.var_names)} highly variable or gene program \"\n",
    "          \"relevant genes.\")\n",
    "    #adata = (adata[:, adata.var_names[adata.var_names.str.upper().isin(\n",
    "    #            [gene.upper() for gene in gp_dict_genes])].sort_values()])\n",
    "    #print(f\"Keeping {len(adata.var_names)} genes after filtering genes not in \"\n",
    "    #      \"gp dict.\")"
   ]
  },
  {
   "cell_type": "markdown",
   "id": "67727236-f960-45bc-8d3e-8bbb68b6d28a",
   "metadata": {},
   "source": [
    "### 2.4 Add GP Mask to Data"
   ]
  },
  {
   "cell_type": "code",
   "execution_count": null,
   "id": "747af49c-b520-4f7d-ae5b-1b4aa0224ed9",
   "metadata": {},
   "outputs": [],
   "source": [
    "# Add the GP dictionary as binary masks to the adata\n",
    "add_gps_from_gp_dict_to_adata(\n",
    "    gp_dict=combined_new_gp_dict,\n",
    "    adata=adata,\n",
    "    gp_targets_mask_key=gp_targets_mask_key,\n",
    "    gp_targets_categories_mask_key=gp_targets_categories_mask_key,\n",
    "    gp_sources_mask_key=gp_sources_mask_key,\n",
    "    gp_sources_categories_mask_key=gp_sources_categories_mask_key,\n",
    "    gp_names_key=gp_names_key,\n",
    "    min_genes_per_gp=1,\n",
    "    min_source_genes_per_gp=0,\n",
    "    min_target_genes_per_gp=0,\n",
    "    max_genes_per_gp=None,\n",
    "    max_source_genes_per_gp=None,\n",
    "    max_target_genes_per_gp=None)"
   ]
  },
  {
   "cell_type": "code",
   "execution_count": null,
   "id": "d23e114a-e567-435a-9957-8aa8e2fccea8",
   "metadata": {},
   "outputs": [],
   "source": [
    "import numpy as np"
   ]
  },
  {
   "cell_type": "code",
   "execution_count": null,
   "id": "bc2dd1bb-4d95-4ed5-844c-a0c17039e1fc",
   "metadata": {},
   "outputs": [],
   "source": [
    "np.mean(adata.varm[\"nichecompass_gp_sources\"].sum(axis=0))"
   ]
  },
  {
   "cell_type": "code",
   "execution_count": null,
   "id": "d1651a76-8008-4e8e-8534-f6528fd08394",
   "metadata": {},
   "outputs": [],
   "source": [
    "np.mean(adata.varm[\"nichecompass_gp_targets\"].sum(axis=0))"
   ]
  },
  {
   "cell_type": "markdown",
   "id": "6f1bd811-0964-4326-99fd-3433fc4878a7",
   "metadata": {},
   "source": [
    "### 2.5 Explore Data"
   ]
  },
  {
   "cell_type": "code",
   "execution_count": null,
   "id": "5b2f7c04-8a5e-4e7c-a664-b9a00de2d8ca",
   "metadata": {},
   "outputs": [],
   "source": [
    "adata.obs"
   ]
  },
  {
   "cell_type": "code",
   "execution_count": null,
   "id": "d0175769-5cdc-42da-9376-72958023d2ec",
   "metadata": {},
   "outputs": [],
   "source": [
    "cell_type_colors = create_new_color_dict(\n",
    "    adata=adata,\n",
    "    cat_key=cell_type_key)"
   ]
  },
  {
   "cell_type": "code",
   "execution_count": null,
   "id": "ab2ea2bb-d2dc-45ff-a23b-677d80970f6e",
   "metadata": {},
   "outputs": [],
   "source": [
    "print(f\"Number of nodes (observations): {adata.layers['counts'].shape[0]}\")\n",
    "print(f\"Number of node features (genes): {adata.layers['counts'].shape[1]}\")\n",
    "\n",
    "# Visualize cell-level annotated data in physical space\n",
    "sc.pl.spatial(adata,\n",
    "              color=cell_type_key,\n",
    "              palette=cell_type_colors,\n",
    "              spot_size=20)        "
   ]
  },
  {
   "cell_type": "markdown",
   "id": "1f53d723-4fd7-49dc-844b-58cf8b9585a2",
   "metadata": {},
   "source": [
    "## 3. Model Training"
   ]
  },
  {
   "cell_type": "code",
   "execution_count": null,
   "id": "4ea221e8-6af9-4ee7-bf61-b8e0b902c064",
   "metadata": {},
   "outputs": [],
   "source": [
    "lambda_edge_recon = 500000.\n",
    "lambda_gene_expr_recon = 300.\n",
    "lambda_l1_masked = 0.\n",
    "lambda_l1_addon = 0.\n",
    "edge_batch_size = 4096\n",
    "use_cuda_if_available = True\n",
    "active_gp_thresh_ratio = 0.05\n",
    "n_epochs = 100"
   ]
  },
  {
   "cell_type": "code",
   "execution_count": null,
   "id": "a6ea5e74-f0f3-4025-8308-480c6e455d6c",
   "metadata": {},
   "outputs": [],
   "source": [
    "del(model)\n",
    "import gc\n",
    "gc.collect()\n",
    "import torch\n",
    "torch.cuda.empty_cache()"
   ]
  },
  {
   "cell_type": "markdown",
   "id": "2d621701-56aa-4b22-90c6-20e5d1166774",
   "metadata": {},
   "source": [
    "### 3.1 Initialize, Train & Save Model"
   ]
  },
  {
   "cell_type": "code",
   "execution_count": null,
   "id": "1764d856-2d58-4a82-9246-aa177645e7f5",
   "metadata": {},
   "outputs": [],
   "source": [
    "# Initialize model\n",
    "model = NicheCompass(adata,\n",
    "                     counts_key=counts_key,\n",
    "                     adj_key=adj_key,\n",
    "                     gp_names_key=gp_names_key,\n",
    "                     active_gp_names_key=active_gp_names_key,\n",
    "                     gp_targets_mask_key=gp_targets_mask_key,\n",
    "                     gp_targets_categories_mask_key=gp_targets_categories_mask_key,\n",
    "                     gp_sources_mask_key=gp_sources_mask_key,\n",
    "                     gp_sources_categories_mask_key=gp_sources_categories_mask_key,\n",
    "                     latent_key=latent_key,\n",
    "                     active_gp_thresh_ratio=active_gp_thresh_ratio,\n",
    "                     n_addon_gp=0,\n",
    "                     node_label_method=node_label_method)"
   ]
  },
  {
   "cell_type": "code",
   "execution_count": null,
   "id": "82c6156e-e3af-4fe1-83ba-da0637cb6a2d",
   "metadata": {},
   "outputs": [],
   "source": [
    "# Train model\n",
    "model.train(n_epochs=n_epochs,\n",
    "            n_epochs_all_gps=n_epochs_all_gps,\n",
    "            lr=lr,\n",
    "            lambda_edge_recon=lambda_edge_recon,\n",
    "            lambda_gene_expr_recon=lambda_gene_expr_recon,\n",
    "            lambda_l1_masked=lambda_l1_masked,\n",
    "            lambda_l1_addon=lambda_l1_addon,\n",
    "            l1_targets_categories=l1_targets_categories,\n",
    "            l1_sources_categories=l1_sources_categories,\n",
    "            edge_batch_size=edge_batch_size,\n",
    "            use_cuda_if_available=use_cuda_if_available,\n",
    "            verbose=True)"
   ]
  },
  {
   "cell_type": "code",
   "execution_count": null,
   "id": "33fb855f-2c95-489b-b396-d87fcc2e2af0",
   "metadata": {},
   "outputs": [],
   "source": [
    "model.adata.obsm[\"nichecompass_latent\"]"
   ]
  },
  {
   "cell_type": "code",
   "execution_count": null,
   "id": "0b14346c-15ea-41fb-ac60-8fa653a5c95a",
   "metadata": {},
   "outputs": [],
   "source": [
    "import torch\n",
    "torch.tensor(test_mu).norm(p=1, dim=0) / torch.tensor(test_mu).size(0)"
   ]
  },
  {
   "cell_type": "code",
   "execution_count": null,
   "id": "363c5ee6-c0fb-45af-a93e-0f4af3f321df",
   "metadata": {
    "tags": []
   },
   "outputs": [],
   "source": [
    "# Check number of active GPs\n",
    "active_gps = model.get_active_gps()\n",
    "print(f\"Number of total gene programs: {len(model.adata.uns[gp_names_key])}.\")\n",
    "print(f\"Number of active gene programs: {len(active_gps)}.\")"
   ]
  },
  {
   "cell_type": "code",
   "execution_count": null,
   "id": "82627ce6-650a-41e7-b2ea-368dd8d04f99",
   "metadata": {},
   "outputs": [],
   "source": [
    "# Display example active GPs\n",
    "gp_summary_df = model.get_gp_summary()\n",
    "gp_summary_df[gp_summary_df[\"gp_active\"] == True].head()"
   ]
  },
  {
   "cell_type": "code",
   "execution_count": null,
   "id": "776d30df-7a58-4dd6-9f7f-0a34f0f94e9e",
   "metadata": {},
   "outputs": [],
   "source": [
    "model.add_active_gp_scores_to_obs()"
   ]
  },
  {
   "cell_type": "code",
   "execution_count": null,
   "id": "d19faf37-8bd7-435d-b93e-eaf52e729b3c",
   "metadata": {},
   "outputs": [],
   "source": [
    "gp = \"CXCL12_ligand_receptor_GP\"\n",
    "sc.pl.spatial(\n",
    "    adata=model.adata,\n",
    "    color=gp,\n",
    "    color_map=\"RdBu_r\",\n",
    "    spot_size=20,\n",
    "    title=f\"\",\n",
    "    legend_loc=None,\n",
    "    colorbar_loc=\"bottom\",\n",
    "    show=True) "
   ]
  },
  {
   "cell_type": "code",
   "execution_count": null,
   "id": "eb8b7595-1956-4554-8485-e9de6bd4386a",
   "metadata": {},
   "outputs": [],
   "source": [
    "model.model.running_mean_abs_mu[-5:]"
   ]
  },
  {
   "cell_type": "code",
   "execution_count": null,
   "id": "9e253a0d-31a8-44a7-a538-807f4059c5d4",
   "metadata": {},
   "outputs": [],
   "source": [
    "import torch\n",
    "torch.tensor(model.adata.obs[gp]).norm(p=1, dim=0) / torch.tensor(model.adata.obs[gp]).size(0)"
   ]
  },
  {
   "cell_type": "code",
   "execution_count": null,
   "id": "d4535a0e-602e-46c6-8720-7732435584ea",
   "metadata": {},
   "outputs": [],
   "source": [
    "np.mean(np.abs(model.adata.obs[gp]))"
   ]
  },
  {
   "cell_type": "code",
   "execution_count": null,
   "id": "9c5ff8d2-9574-4992-a5cb-ad24e1c6e47f",
   "metadata": {},
   "outputs": [],
   "source": [
    "model.model.mu.norm(p=1, dim=0) / model.model.mu.size(0)"
   ]
  },
  {
   "cell_type": "code",
   "execution_count": null,
   "id": "4676102e-b914-49ed-9af2-d2b736488eba",
   "metadata": {},
   "outputs": [],
   "source": [
    "model.model.mu.shape"
   ]
  },
  {
   "cell_type": "code",
   "execution_count": null,
   "id": "85274e28-b4ad-4784-b5cf-a24252105ec3",
   "metadata": {},
   "outputs": [],
   "source": [
    "model.model.mu.shape"
   ]
  },
  {
   "cell_type": "code",
   "execution_count": null,
   "id": "d2d47ba6-7a2e-4075-928d-728a530bc723",
   "metadata": {},
   "outputs": [],
   "source": [
    "# Function to compute the maximum over a list\n",
    "def compute_max_in_list(lst):\n",
    "    if len(lst) > 0:\n",
    "        return max(lst, key=abs)\n",
    "    else:\n",
    "        return 0\n",
    "\n",
    "# Apply the function to the 'values_list' column and create a new column with the results\n",
    "gp_summary_df['test'] = gp_summary_df['gp_target_genes_weights_sign_corrected'].apply(compute_max_in_list)"
   ]
  },
  {
   "cell_type": "code",
   "execution_count": null,
   "id": "8af80ea1-6b34-4892-81e8-b5b4649cf61b",
   "metadata": {},
   "outputs": [],
   "source": [
    "gp_summary_df.sort_values(\"test\")[]"
   ]
  },
  {
   "cell_type": "code",
   "execution_count": null,
   "id": "100c659c-e98e-40d2-9011-e7d130b8b182",
   "metadata": {},
   "outputs": [],
   "source": [
    "gp_summary_df[-12:]"
   ]
  },
  {
   "cell_type": "code",
   "execution_count": null,
   "id": "9a99e9e1-6b7a-47bd-8fe1-375ab5c816a2",
   "metadata": {},
   "outputs": [],
   "source": [
    "gp_summary_df[\"gp_target_genes_weights_sign_corrected\"]"
   ]
  },
  {
   "cell_type": "code",
   "execution_count": null,
   "id": "d40ff2d2-041c-46ff-b99d-e6322fee42e7",
   "metadata": {},
   "outputs": [],
   "source": []
  },
  {
   "cell_type": "code",
   "execution_count": null,
   "id": "53671bee-ed2d-4b88-a226-37eebcfc137c",
   "metadata": {},
   "outputs": [],
   "source": [
    "np.array((model.model.get_gp_weights()[0][:2757] > 0).sum(axis=0)[:1547].detach().cpu())"
   ]
  },
  {
   "cell_type": "code",
   "execution_count": null,
   "id": "a99a220b-2639-4670-8170-c3bbadff9f20",
   "metadata": {},
   "outputs": [],
   "source": [
    "gp_weights = np.array(model.model.get_gp_weights(only_masked_features=True)[0].sum(axis=0))"
   ]
  },
  {
   "cell_type": "code",
   "execution_count": null,
   "id": "d7522f99-0cb7-448a-9658-0fa0d5c9e83a",
   "metadata": {},
   "outputs": [],
   "source": [
    "gp_weights_2 = np.array(model.model.get_gp_weights(only_masked_features=True)[0].norm(p=1, dim=0))"
   ]
  },
  {
   "cell_type": "code",
   "execution_count": null,
   "id": "9d22db86-2900-4892-99b9-781db71f0a81",
   "metadata": {},
   "outputs": [],
   "source": [
    "max(gp_weights_2)"
   ]
  },
  {
   "cell_type": "code",
   "execution_count": null,
   "id": "10514547-a918-4621-ae94-b0dae3b92069",
   "metadata": {},
   "outputs": [],
   "source": [
    "torch.count_nonzero(model.model.get_gp_weights(only_masked_features=True)[0], dim=0).shape"
   ]
  },
  {
   "cell_type": "code",
   "execution_count": null,
   "id": "be838b3f-5ce8-4a21-b1d6-7e7e8c686038",
   "metadata": {},
   "outputs": [],
   "source": [
    "import seaborn as sns\n",
    "sns.displot(gp_weights_2, binwidth=1)\n",
    "#plt.xlim(0, 100)\n",
    "#plt.ylim(0, 100)"
   ]
  },
  {
   "cell_type": "code",
   "execution_count": null,
   "id": "6575fd05-15da-4b42-b630-b7fab6b8a474",
   "metadata": {},
   "outputs": [],
   "source": [
    "import seaborn as sns\n",
    "sns.displot(gp_weights, binwidth=1)\n",
    "#plt.xlim(0, 100)\n",
    "#plt.ylim(0, 100)"
   ]
  },
  {
   "cell_type": "code",
   "execution_count": null,
   "id": "72ebcc0e-ab38-42f0-aa01-a11080994c18",
   "metadata": {},
   "outputs": [],
   "source": [
    "gp_summary_df"
   ]
  },
  {
   "cell_type": "code",
   "execution_count": null,
   "id": "308843bc-5991-472e-be99-1058c5f3ba05",
   "metadata": {},
   "outputs": [],
   "source": [
    "model.add_active_gp_expr_to_obs()"
   ]
  },
  {
   "cell_type": "code",
   "execution_count": null,
   "id": "f7e44ce5-2150-4062-b24a-3511086aba4d",
   "metadata": {},
   "outputs": [],
   "source": [
    "model.adata.obs[\"EPOR_ligand_receptor_GP\"]"
   ]
  },
  {
   "cell_type": "code",
   "execution_count": null,
   "id": "f99bc5e8-2fda-4824-bbca-e471934042b7",
   "metadata": {},
   "outputs": [],
   "source": [
    "gp = \"GSTO1_ligand_receptor_GP\"\n",
    "#combined_new_gp_dict[gp]\n",
    "#source_gene = combined_new_gp_dict[gp][\"sources\"][0].lower().capitalize()\n",
    "#target_gene = combined_new_gp_dict[gp][\"targets\"][0].lower().capitalize()"
   ]
  },
  {
   "cell_type": "code",
   "execution_count": null,
   "id": "154e4f34-0fad-4391-9222-7af753efabae",
   "metadata": {},
   "outputs": [],
   "source": [
    "sc.pl.spatial(\n",
    "    adata=model.adata,\n",
    "    color=gp,\n",
    "    color_map=\"RdBu_r\",\n",
    "    spot_size=20,\n",
    "    title=f\"\",\n",
    "    legend_loc=None,\n",
    "    colorbar_loc=\"bottom\",\n",
    "    show=True) "
   ]
  },
  {
   "cell_type": "code",
   "execution_count": null,
   "id": "13d90653-a17e-4d14-aee0-2a191827aae7",
   "metadata": {},
   "outputs": [],
   "source": [
    "\"Malat1\""
   ]
  },
  {
   "cell_type": "code",
   "execution_count": null,
   "id": "c897f45a-501c-4d87-8127-951b4e5446be",
   "metadata": {},
   "outputs": [],
   "source": [
    "sc.pl.spatial(\n",
    "    adata=model.adata,\n",
    "    color=\"Gsto1\",\n",
    "    color_map=\"RdBu_r\",\n",
    "    spot_size=30,\n",
    "    title=f\"\",\n",
    "    legend_loc=None,\n",
    "    colorbar_loc=\"bottom\",\n",
    "    show=True) "
   ]
  },
  {
   "cell_type": "code",
   "execution_count": null,
   "id": "91cc6311-7362-4686-8985-1b432e93fad9",
   "metadata": {},
   "outputs": [],
   "source": [
    "sc.pl.spatial(\n",
    "    adata=model.adata,\n",
    "    color=\"Ryr1\",\n",
    "    color_map=\"RdBu_r\",\n",
    "    spot_size=30,\n",
    "    title=f\"\",\n",
    "    legend_loc=None,\n",
    "    colorbar_loc=\"bottom\",\n",
    "    show=True) "
   ]
  },
  {
   "cell_type": "code",
   "execution_count": null,
   "id": "b2ac038b-38a6-4b31-a61f-5469e6a42396",
   "metadata": {},
   "outputs": [],
   "source": [
    "model.adata.obs"
   ]
  },
  {
   "cell_type": "code",
   "execution_count": null,
   "id": "265a1ea2-4780-46b6-b821-8634b1fa6c83",
   "metadata": {},
   "outputs": [],
   "source": [
    "adata"
   ]
  },
  {
   "cell_type": "code",
   "execution_count": null,
   "id": "885b2472-05ef-4098-8ad7-27f548a5d225",
   "metadata": {},
   "outputs": [],
   "source": [
    "len(model.model.get_active_gp_mask())"
   ]
  },
  {
   "cell_type": "code",
   "execution_count": null,
   "id": "0363efb4-a70e-49a2-890e-f8e9ab4e0ae1",
   "metadata": {},
   "outputs": [],
   "source": [
    "model.get_active_gps()"
   ]
  },
  {
   "cell_type": "code",
   "execution_count": null,
   "id": "f8268ee5-65db-4a9c-a659-ab23ab3b95e3",
   "metadata": {},
   "outputs": [],
   "source": [
    "modality = \"rna\"\n",
    "model.model.features_idx_dict_[f\"masked_{modality}_idx\"]"
   ]
  },
  {
   "cell_type": "code",
   "execution_count": null,
   "id": "0008ea96-088b-49bd-a573-979009e6550a",
   "metadata": {},
   "outputs": [],
   "source": []
  },
  {
   "cell_type": "code",
   "execution_count": null,
   "id": "228a2ff1-c833-41ab-b298-9158c570c255",
   "metadata": {},
   "outputs": [],
   "source": [
    "gp_weights = model.model.get_gp_weights(only_masked_features=True)"
   ]
  },
  {
   "cell_type": "code",
   "execution_count": null,
   "id": "b6406804-05c9-429f-bf47-40053c1caf0a",
   "metadata": {},
   "outputs": [],
   "source": [
    "gp_weights[0].shape"
   ]
  },
  {
   "cell_type": "code",
   "execution_count": null,
   "id": "d9fd6fdc-c7ff-481d-b6a7-592eee3c1514",
   "metadata": {},
   "outputs": [],
   "source": [
    "model.model"
   ]
  },
  {
   "cell_type": "code",
   "execution_count": null,
   "id": "8bca5f2a-bd05-4607-8a3e-8c6d0d8db61c",
   "metadata": {},
   "outputs": [],
   "source": [
    "model.model.target_rna_decoder"
   ]
  },
  {
   "cell_type": "code",
   "execution_count": null,
   "id": "6b1bd23a-3b60-4d18-bfdb-624d5a155c24",
   "metadata": {},
   "outputs": [],
   "source": [
    "# Compute latent neighbor graph\n",
    "sc.pp.neighbors(model.adata,\n",
    "                use_rep=latent_key,\n",
    "                key_added=latent_key)\n",
    "\n",
    "# Compute UMAP embedding\n",
    "sc.tl.umap(model.adata,\n",
    "           neighbors_key=latent_key)"
   ]
  },
  {
   "cell_type": "code",
   "execution_count": null,
   "id": "4532093b-9001-4b56-95a2-a8c6aee65ef7",
   "metadata": {},
   "outputs": [],
   "source": [
    "# Save trained model\n",
    "model.save(dir_path=model_folder_path,\n",
    "           overwrite=True,\n",
    "           save_adata=True,\n",
    "           adata_file_name=\"adata.h5ad\")"
   ]
  },
  {
   "cell_type": "markdown",
   "id": "5427e8a5-884a-4ffe-b2bc-497622bb707b",
   "metadata": {},
   "source": [
    "## 4. Analysis"
   ]
  },
  {
   "cell_type": "code",
   "execution_count": null,
   "id": "3e183c77-343f-405c-a4e1-b2e7b175f41a",
   "metadata": {},
   "outputs": [],
   "source": [
    "load_timestamp = \"01011999_1\"\n",
    "\n",
    "figure_folder_path = f\"{artifacts_folder_path}/single_sample/{load_timestamp}/figures\"\n",
    "model_folder_path = f\"{artifacts_folder_path}/single_sample/{load_timestamp}/model\"\n",
    "\n",
    "os.makedirs(figure_folder_path, exist_ok=True)"
   ]
  },
  {
   "cell_type": "code",
   "execution_count": null,
   "id": "59f36835-2214-4967-ac96-4a3d57ca9916",
   "metadata": {},
   "outputs": [],
   "source": [
    "model_folder_path"
   ]
  },
  {
   "cell_type": "code",
   "execution_count": null,
   "id": "051dea42-ed18-4ace-af5b-822916ba6fa9",
   "metadata": {},
   "outputs": [],
   "source": [
    "# Load trained model\n",
    "model = NicheCompass.load(dir_path=model_folder_path,\n",
    "                          adata=None,\n",
    "                          adata_file_name=\"adata.h5ad\",\n",
    "                          gp_names_key=gp_names_key)"
   ]
  },
  {
   "cell_type": "code",
   "execution_count": null,
   "id": "3ad6348d-5f60-4d15-b15a-09a5a734d5ab",
   "metadata": {},
   "outputs": [],
   "source": [
    "samples = model.adata.obs[sample_key].unique().tolist()"
   ]
  },
  {
   "cell_type": "markdown",
   "id": "8185ab0d-0fed-4bc0-984f-4041ad9cebeb",
   "metadata": {},
   "source": [
    "### 4.1 Visualize NicheCompass Embeddings"
   ]
  },
  {
   "cell_type": "markdown",
   "id": "fc617703-1187-4109-9942-8107d1fd7cf7",
   "metadata": {},
   "source": [
    "Let's look at the preservation of cell type annotations in the embedding space. Note that the goal of NicheCompass is not a perfect separation of cell types but rather to identify spatial cellular niches. Nevertheless, it can be useful to look at the cell type annotations if available."
   ]
  },
  {
   "cell_type": "code",
   "execution_count": null,
   "id": "1282eb0b-be80-41f3-83f0-481ba69ae0d2",
   "metadata": {},
   "outputs": [],
   "source": [
    "cell_type_colors = create_new_color_dict(\n",
    "    adata=model.adata,\n",
    "    cat_key=cell_type_key)"
   ]
  },
  {
   "cell_type": "code",
   "execution_count": null,
   "id": "42e4b1a6-f357-47d2-9ed4-a04d19d237ee",
   "metadata": {},
   "outputs": [],
   "source": [
    "spot_size = 30"
   ]
  },
  {
   "cell_type": "code",
   "execution_count": null,
   "id": "17c57560-19e9-406e-a823-7fd2303aeba1",
   "metadata": {},
   "outputs": [],
   "source": [
    "# Create plot of cell type annotations in physical and latent space\n",
    "groups = None\n",
    "save_fig = True\n",
    "file_path = f\"{figure_folder_path}/\" \\\n",
    "            \"cell_types_latent_physical_space.svg\"\n",
    "\n",
    "fig = plt.figure(figsize=(12, 14))\n",
    "title = fig.suptitle(t=f\"NicheCompass Cell Types \" \\\n",
    "                       \"in Latent and Physical Space\",\n",
    "                     y=0.96,\n",
    "                     x=0.55,\n",
    "                     fontsize=20)\n",
    "spec1 = gridspec.GridSpec(ncols=1,\n",
    "                          nrows=2,\n",
    "                          width_ratios=[1],\n",
    "                          height_ratios=[3, 2])\n",
    "spec2 = gridspec.GridSpec(ncols=len(samples),\n",
    "                          nrows=2,\n",
    "                          width_ratios=[1] * len(samples),\n",
    "                          height_ratios=[3, 2])\n",
    "axs = []\n",
    "axs.append(fig.add_subplot(spec1[0]))\n",
    "sc.pl.umap(adata=model.adata,\n",
    "           color=[cell_type_key],\n",
    "           groups=groups,palette=cell_type_colors,\n",
    "           title=f\"Cell Types in Latent Space\",\n",
    "           ax=axs[0],\n",
    "           show=False)\n",
    "for idx, sample in enumerate(samples):\n",
    "    axs.append(fig.add_subplot(spec2[len(samples) + idx]))\n",
    "    sc.pl.spatial(adata=model.adata[model.adata.obs[sample_key] == sample],\n",
    "                  color=[cell_type_key],\n",
    "                  groups=groups,\n",
    "                  palette=cell_type_colors,\n",
    "                  spot_size=spot_size,\n",
    "                  title=f\"Cell Types in Physical Space \\n\"\n",
    "                        f\"(Sample: {sample})\",\n",
    "                  legend_loc=None,\n",
    "                  ax=axs[idx+1],\n",
    "                  show=False)\n",
    "\n",
    "# Create and position shared legend\n",
    "handles, labels = axs[0].get_legend_handles_labels()\n",
    "lgd = fig.legend(handles,\n",
    "                 labels,\n",
    "                 loc=\"center left\",\n",
    "                 bbox_to_anchor=(0.98, 0.5))\n",
    "axs[0].get_legend().remove()\n",
    "\n",
    "# Adjust, save and display plot\n",
    "plt.subplots_adjust(wspace=0.2, hspace=0.25)\n",
    "if save_fig:\n",
    "    fig.savefig(file_path,\n",
    "                bbox_extra_artists=(lgd, title),\n",
    "                bbox_inches=\"tight\")\n",
    "plt.show()"
   ]
  },
  {
   "cell_type": "markdown",
   "id": "85881ac4-b24a-41d0-a75b-2bdd3568ac53",
   "metadata": {
    "tags": []
   },
   "source": [
    "### 4.2 Identify Niches"
   ]
  },
  {
   "cell_type": "markdown",
   "id": "5253fc14-684e-461e-b096-f36c229089a7",
   "metadata": {},
   "source": [
    "We compute Leiden clustering based on the NicheCompass embeddings to identify spatial cellular niches."
   ]
  },
  {
   "cell_type": "code",
   "execution_count": null,
   "id": "2cb4465d-1391-4724-8d2d-11140625e2d3",
   "metadata": {},
   "outputs": [],
   "source": [
    "# Compute latent Leiden clustering\n",
    "sc.tl.leiden(adata=model.adata,\n",
    "             resolution=latent_leiden_resolution,\n",
    "             key_added=latent_cluster_key,\n",
    "             neighbors_key=latent_key)"
   ]
  },
  {
   "cell_type": "code",
   "execution_count": null,
   "id": "8e105612-9f7a-4f3d-b53a-23b0a054490b",
   "metadata": {},
   "outputs": [],
   "source": [
    "latent_cluster_colors = create_new_color_dict(\n",
    "    adata=model.adata,\n",
    "    cat_key=latent_cluster_key)"
   ]
  },
  {
   "cell_type": "code",
   "execution_count": null,
   "id": "4f183091-156b-410b-981e-5cf7db7159ca",
   "metadata": {},
   "outputs": [],
   "source": [
    "# Create plot of latent cluster / niche annotations in physical and latent space\n",
    "groups = None # set this to a specific cluster for easy visualization, e.g. [\"0\"]\n",
    "save_fig = True\n",
    "file_path = f\"{figure_folder_path}/\" \\\n",
    "            f\"res_{latent_leiden_resolution}_\" \\\n",
    "            \"latent_clusters_latent_physical_space.svg\"\n",
    "\n",
    "fig = plt.figure(figsize=(12, 14))\n",
    "title = fig.suptitle(t=f\"NicheCompass Latent Clusters \" \\\n",
    "                       \"in Latent and Physical Space\",\n",
    "                     y=0.96,\n",
    "                     x=0.55,\n",
    "                     fontsize=20)\n",
    "spec1 = gridspec.GridSpec(ncols=1,\n",
    "                          nrows=2,\n",
    "                          width_ratios=[1],\n",
    "                          height_ratios=[3, 2])\n",
    "spec2 = gridspec.GridSpec(ncols=len(samples),\n",
    "                          nrows=2,\n",
    "                          width_ratios=[1] * len(samples),\n",
    "                          height_ratios=[3, 2])\n",
    "axs = []\n",
    "axs.append(fig.add_subplot(spec1[0]))\n",
    "sc.pl.umap(adata=model.adata,\n",
    "           color=[latent_cluster_key],\n",
    "           groups=groups,\n",
    "           palette=latent_cluster_colors,\n",
    "           title=f\"Latent Clusters in Latent Space\",\n",
    "           ax=axs[0],\n",
    "           show=False)\n",
    "for idx, sample in enumerate(samples):\n",
    "    axs.append(fig.add_subplot(spec2[len(samples) + idx]))\n",
    "    sc.pl.spatial(adata=model.adata[model.adata.obs[sample_key] == sample],\n",
    "                  color=[latent_cluster_key],\n",
    "                  groups=groups,\n",
    "                  palette=latent_cluster_colors,\n",
    "                  spot_size=spot_size,\n",
    "                  title=f\"Latent Clusters in Physical Space \\n\"\n",
    "                        f\"(Sample: {sample})\",\n",
    "                  legend_loc=None,\n",
    "                  ax=axs[idx+1],\n",
    "                  show=False)\n",
    "\n",
    "# Create and position shared legend\n",
    "handles, labels = axs[0].get_legend_handles_labels()\n",
    "lgd = fig.legend(handles,\n",
    "                 labels,\n",
    "                 loc=\"center left\",\n",
    "                 bbox_to_anchor=(0.98, 0.5))\n",
    "axs[0].get_legend().remove()\n",
    "\n",
    "# Adjust, save and display plot\n",
    "plt.subplots_adjust(wspace=0.2, hspace=0.25)\n",
    "if save_fig:\n",
    "    fig.savefig(file_path,\n",
    "                bbox_extra_artists=(lgd, title),\n",
    "                bbox_inches=\"tight\")\n",
    "plt.show()"
   ]
  },
  {
   "cell_type": "markdown",
   "id": "6db0bcef-54bd-43fe-91c2-7c5abbc54da8",
   "metadata": {},
   "source": [
    "### 4.3 Analyze Niches"
   ]
  },
  {
   "cell_type": "markdown",
   "id": "52854754-c728-4704-857e-adaa1d6952f5",
   "metadata": {},
   "source": [
    "Now we will analyze the identified spatial cellular niches."
   ]
  },
  {
   "cell_type": "markdown",
   "id": "b286bfa0-5589-4a45-88e4-8b9df241f826",
   "metadata": {},
   "source": [
    "#### 4.3.1 Niche Composition"
   ]
  },
  {
   "cell_type": "markdown",
   "id": "a8dc1219-97c8-495d-b676-2532cef8a8ba",
   "metadata": {},
   "source": [
    "We can analyze the niche composition in terms of cell type labels."
   ]
  },
  {
   "cell_type": "code",
   "execution_count": null,
   "id": "c33c9b7a-d8c6-4a7c-a4e9-98ab8a9e458c",
   "metadata": {},
   "outputs": [],
   "source": [
    "save_fig = True\n",
    "file_path = f\"{figure_folder_path}/\" \\\n",
    "            f\"res_{latent_leiden_resolution}_\" \\\n",
    "            f\"niche_composition.svg\"\n",
    "\n",
    "df_counts = (model.adata.obs.groupby([latent_cluster_key, cell_type_key])\n",
    "             .size().unstack())\n",
    "df_counts.plot(kind=\"bar\", stacked=True, figsize=(10,10))\n",
    "legend = plt.legend(bbox_to_anchor=(1, 1), loc=\"upper left\", prop={'size': 10})\n",
    "legend.set_title(\"Cell Type Annotations\", prop={'size': 10})\n",
    "plt.title(\"Cell Type Composition of Niches\")\n",
    "plt.xlabel(\"Niche\")\n",
    "plt.ylabel(\"Cell Type Counts\")\n",
    "if save_fig:\n",
    "    plt.savefig(file_path,\n",
    "                bbox_extra_artists=(legend,),\n",
    "                bbox_inches=\"tight\")"
   ]
  },
  {
   "cell_type": "markdown",
   "id": "e282a741-19ee-423b-a06b-6171f7cc3e3d",
   "metadata": {},
   "source": [
    "#### 4.3.2 Cell Type Neighbor Importances"
   ]
  },
  {
   "cell_type": "markdown",
   "id": "3fdc9bce-1ca4-43b7-a824-55ef6bc89652",
   "metadata": {},
   "source": [
    "Now we will investigate neighbor importances in terms of cell type labels of different niches."
   ]
  },
  {
   "cell_type": "code",
   "execution_count": null,
   "id": "78a0be00-cdca-400c-8c79-e5922f0fa73c",
   "metadata": {},
   "outputs": [],
   "source": [
    "# Retrieve node neighbor importances \n",
    "# (aggregation weights of the node label aggregator)\n",
    "model.adata.obsp[agg_weights_key] = model.get_neighbor_importances()"
   ]
  },
  {
   "cell_type": "code",
   "execution_count": null,
   "id": "d7706464-c18c-4298-9cfd-ef84404936ce",
   "metadata": {},
   "outputs": [],
   "source": [
    "# Get cell type neighbor importances for each niche / latent cluster\n",
    "niche_neighbor_importances_df = aggregate_obsp_matrix_per_cell_type(\n",
    "    adata=model.adata,\n",
    "    obsp_key=agg_weights_key,\n",
    "    cell_type_key=cell_type_key,\n",
    "    group_key=latent_cluster_key,\n",
    "    agg_rows=True)"
   ]
  },
  {
   "cell_type": "code",
   "execution_count": null,
   "id": "be8b1fe8-a907-4b05-9786-fce790bca1f5",
   "metadata": {},
   "outputs": [],
   "source": [
    "display(niche_neighbor_importances_df)"
   ]
  },
  {
   "cell_type": "code",
   "execution_count": null,
   "id": "bfcf0b9e-59e8-466a-bced-9dbd8952561d",
   "metadata": {},
   "outputs": [],
   "source": [
    "# Generate chord plots showing cell type neighbor importances\n",
    "# for each niche / latent cluster\n",
    "groups = \"all\"\n",
    "save_fig = True\n",
    "file_path = f\"{figure_folder_path}/\" \\\n",
    "            f\"res_{latent_leiden_resolution}_\" \\\n",
    "            f\"niche_neighbor_importances.png\"\n",
    "\n",
    "create_cell_type_chord_plot_from_df(\n",
    "        adata=model.adata,\n",
    "        df=niche_neighbor_importances_df,\n",
    "        link_threshold=0.01,\n",
    "        cell_type_key=cell_type_key,\n",
    "        group_key=latent_cluster_key,\n",
    "        groups=groups,\n",
    "        plot_label=\"Niche\",\n",
    "        save_fig=save_fig,\n",
    "        file_path=file_path)"
   ]
  },
  {
   "cell_type": "markdown",
   "id": "01d2e7d2-6333-45c5-aeb8-c81403bc7355",
   "metadata": {},
   "source": [
    "### 4.4 Perform Differential Gene Program Testing"
   ]
  },
  {
   "cell_type": "markdown",
   "id": "bd093d4b-c48f-477c-bd29-db85470b37d1",
   "metadata": {},
   "source": [
    "Now we can test which communication gene programs are differentially expressed in a niche. To this end, we will perform differential gene program testing of a selected niche, e.g. latent cluster / niche \"0\" (```selected_cats = [\"0\"]```) vs all other latent clusters / niches (```comparison_cats = \"rest\"```). However, differential gene program testing can also be performed in the following ways:\n",
    "- Set ```selected_cats = None``` to perform differential gene program testing across all niches, as opposed to just for one specific niche.\n",
    "- Set ```comparison_cats = [\"2\", \"3\"]``` to perform differential gene program testing against latent clusters / niches \"2\" and \"3\" as opposed to against all other latent clusters / niches.\n",
    "\n",
    "We choose a log bayes factor threshold of 4.6 to determine decisively enriched gene programs. Alternatively, the threshold could be loosened to a value of 2.3 to also allow \"only\" strongly enriched gene programs to be identified (see https://en.wikipedia.org/wiki/Bayes_factor)."
   ]
  },
  {
   "cell_type": "code",
   "execution_count": null,
   "id": "7600c51f-4071-4b35-9dc5-6fa81301e389",
   "metadata": {
    "tags": []
   },
   "outputs": [],
   "source": [
    "# Check number of active GPs\n",
    "active_gps = model.get_active_gps()\n",
    "print(f\"Number of total gene programs: {len(model.adata.uns[gp_names_key])}.\")\n",
    "print(f\"Number of active gene programs: {len(active_gps)}.\")"
   ]
  },
  {
   "cell_type": "code",
   "execution_count": null,
   "id": "dad3cf5d-aeae-4ebc-afde-d4b19efd43b8",
   "metadata": {},
   "outputs": [],
   "source": [
    "# Display example active GPs\n",
    "gp_summary_df = model.get_gp_summary()\n",
    "gp_summary_df[gp_summary_df[\"gp_active\"] == True].head()"
   ]
  },
  {
   "cell_type": "code",
   "execution_count": null,
   "id": "1852a634-651f-43e2-a888-7e74ef17dc2f",
   "metadata": {},
   "outputs": [],
   "source": [
    "# Set parameters for differential gp testing\n",
    "selected_cats = [\"0\"]\n",
    "comparison_cats = \"rest\"\n",
    "title = f\"NicheCompass Latent Cluster Strongly Enriched Gene Programs\"\n",
    "log_bayes_factor_thresh = 4.6 # 2.3\n",
    "save_fig = True\n",
    "file_path = f\"{figure_folder_path}/\" \\\n",
    "            f\"/log_bayes_factor_{log_bayes_factor_thresh}\" \\\n",
    "             \"_latent_clusters_enriched_gps_dotplot.svg\""
   ]
  },
  {
   "cell_type": "code",
   "execution_count": null,
   "id": "a5af1d74-a65c-4abd-a342-f8e07bca1687",
   "metadata": {},
   "outputs": [],
   "source": [
    "# Run differential gp testing\n",
    "enriched_gps = model.run_differential_gp_tests(\n",
    "    cat_key=latent_cluster_key,\n",
    "    selected_cats=selected_cats,\n",
    "    comparison_cats=comparison_cats,\n",
    "    log_bayes_factor_thresh=log_bayes_factor_thresh)"
   ]
  },
  {
   "cell_type": "code",
   "execution_count": null,
   "id": "3b7c4edd-0071-4658-9e99-bb69af4d59c9",
   "metadata": {},
   "outputs": [],
   "source": [
    "# Results are stored in a df in the adata object\n",
    "model.adata.uns[differential_gp_test_results_key]"
   ]
  },
  {
   "cell_type": "code",
   "execution_count": null,
   "id": "28580063-a058-4c65-a37f-924ca6855bd8",
   "metadata": {},
   "outputs": [],
   "source": [
    "# Create dotplot of results\n",
    "fig = sc.pl.dotplot(model.adata,\n",
    "                    enriched_gps,\n",
    "                    groupby=latent_cluster_key,\n",
    "                    dendrogram=True, \n",
    "                    title=title,\n",
    "                    swap_axes=True,\n",
    "                    return_fig=True,\n",
    "                    figsize=(model.adata.obs[latent_cluster_key].nunique() / 2,\n",
    "                             len(enriched_gps) / 2))\n",
    "if save_fig:\n",
    "    fig.savefig(file_path)\n",
    "else:\n",
    "    fig.show()"
   ]
  },
  {
   "cell_type": "code",
   "execution_count": null,
   "id": "e8a052f9-e1b8-46c6-96e0-e4ceb531fe04",
   "metadata": {},
   "outputs": [],
   "source": [
    "# Store gene program summary of enriched gene programs\n",
    "save_file = True\n",
    "file_path = f\"{figure_folder_path}/\" \\\n",
    "            f\"/log_bayes_factor_{log_bayes_factor_thresh}_\" \\\n",
    "            \"latent_clusters_enriched_gps_summary.csv\"\n",
    "\n",
    "gp_summary_cols = [\"gp_name\",\n",
    "                   \"n_source_genes\",\n",
    "                   \"n_non_zero_source_genes\",\n",
    "                   \"n_target_genes\",\n",
    "                   \"n_non_zero_target_genes\",\n",
    "                   \"gp_source_genes\",\n",
    "                   \"gp_target_genes\",\n",
    "                   \"gp_source_genes_weights_sign_corrected\",\n",
    "                   \"gp_target_genes_weights_sign_corrected\",\n",
    "                   \"gp_source_genes_importances\",\n",
    "                   \"gp_target_genes_importances\"]\n",
    "\n",
    "enriched_gp_summary_df = gp_summary_df[gp_summary_df[\"gp_name\"].isin(enriched_gps)]\n",
    "cat_dtype = pd.CategoricalDtype(categories=enriched_gps, ordered=True)\n",
    "enriched_gp_summary_df.loc[:, \"gp_name\"] = enriched_gp_summary_df[\"gp_name\"].astype(cat_dtype)\n",
    "enriched_gp_summary_df = enriched_gp_summary_df.sort_values(by=\"gp_name\")\n",
    "enriched_gp_summary_df = enriched_gp_summary_df[gp_summary_cols]\n",
    "\n",
    "if save_file:\n",
    "    enriched_gp_summary_df.to_csv(f\"{file_path}\")\n",
    "else:\n",
    "    display(enriched_gp_summary_df)"
   ]
  },
  {
   "cell_type": "markdown",
   "id": "60b824a7-d862-45cb-b962-54caf78ef565",
   "metadata": {},
   "source": [
    "### 4.5 Analyze Enriched Gene Programs"
   ]
  },
  {
   "cell_type": "markdown",
   "id": "4d761041-48aa-4799-b643-8175c14ff190",
   "metadata": {},
   "source": [
    "Now we will have a look at the gene program scores as well as the (log normalized) count distributions of\n",
    "the most important omics features of the differentially expressed gene programs."
   ]
  },
  {
   "cell_type": "code",
   "execution_count": null,
   "id": "662ac80d-e71d-4bb7-b8fc-e368c76482f3",
   "metadata": {},
   "outputs": [],
   "source": [
    "plot_label = f\"log_bayes_factor_{log_bayes_factor_thresh}_cluster_0_vs_rest\"\n",
    "save_figs = True\n",
    "\n",
    "generate_enriched_gp_info_plots(\n",
    "    plot_label=plot_label,\n",
    "    model=model,\n",
    "    sample_key=sample_key,\n",
    "    differential_gp_test_results_key=differential_gp_test_results_key,\n",
    "    cat_key=latent_cluster_key,\n",
    "    cat_palette=latent_cluster_colors,\n",
    "    n_top_enriched_gps=10,\n",
    "    feature_spaces=samples, # [\"latent\"]\n",
    "    n_top_genes_per_gp=3,\n",
    "    save_figs=save_figs,\n",
    "    figure_folder_path=f\"{figure_folder_path}/\",\n",
    "    spot_size=spot_size)"
   ]
  },
  {
   "cell_type": "code",
   "execution_count": null,
   "id": "ac9044bd-1fc1-4566-92bb-f53cc715bb57",
   "metadata": {},
   "outputs": [],
   "source": []
  }
 ],
 "metadata": {
  "kernelspec": {
   "display_name": "Python 3 (ipykernel)",
   "language": "python",
   "name": "python3"
  },
  "language_info": {
   "codemirror_mode": {
    "name": "ipython",
    "version": 3
   },
   "file_extension": ".py",
   "mimetype": "text/x-python",
   "name": "python",
   "nbconvert_exporter": "python",
   "pygments_lexer": "ipython3",
   "version": "3.9.16"
  }
 },
 "nbformat": 4,
 "nbformat_minor": 5
}
