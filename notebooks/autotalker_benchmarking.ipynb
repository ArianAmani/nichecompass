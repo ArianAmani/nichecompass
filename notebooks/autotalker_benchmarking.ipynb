{
 "cells": [
  {
   "cell_type": "markdown",
   "id": "1b1daabf-c8e3-43d4-aa32-9789abcc8619",
   "metadata": {},
   "source": [
    "# Autotalker Benchmarking"
   ]
  },
  {
   "cell_type": "markdown",
   "id": "c325d921-2077-42b3-90a8-6f6c7dd928c5",
   "metadata": {},
   "source": [
    "- **Creator**: Sebastian Birk (<sebastian.birk@helmholtz-munich.de>).\n",
    "- **Affiliation:** Helmholtz Munich, Institute of Computational Biology (ICB), Talavera-López Lab\n",
    "- **Date of Creation:** 07.12.2022\n",
    "- **Date of Last Modification:** 09.12.2022"
   ]
  },
  {
   "cell_type": "markdown",
   "id": "2d464ebf-354f-4f61-8040-c3dcbcc893b9",
   "metadata": {},
   "source": [
    "## 1. Setup"
   ]
  },
  {
   "cell_type": "markdown",
   "id": "d5631277-d8d2-4194-a376-280f4f149b7d",
   "metadata": {},
   "source": [
    "### 1.1 Import Libraries"
   ]
  },
  {
   "cell_type": "code",
   "execution_count": 1,
   "id": "4e5d3297-0290-47c0-846f-705e74cdb3de",
   "metadata": {},
   "outputs": [],
   "source": [
    "%load_ext autoreload\n",
    "%autoreload 2"
   ]
  },
  {
   "cell_type": "code",
   "execution_count": 2,
   "id": "8dbd4925-7505-4d01-bf91-95b54bb8b533",
   "metadata": {},
   "outputs": [],
   "source": [
    "import sys\n",
    "sys.path.append(\"..\")"
   ]
  },
  {
   "cell_type": "code",
   "execution_count": 3,
   "id": "b4aa3c6a-5a44-4cf1-84a3-5e514457cf3c",
   "metadata": {},
   "outputs": [],
   "source": [
    "import itertools\n",
    "import os\n",
    "from datetime import datetime\n",
    "\n",
    "import anndata as ad\n",
    "import mlflow\n",
    "import numpy as np\n",
    "import scipy.sparse as sp\n",
    "import squidpy as sq\n",
    "\n",
    "from autotalker.models import Autotalker"
   ]
  },
  {
   "cell_type": "markdown",
   "id": "2b886225-6b6d-433c-b117-47b9a8f8091f",
   "metadata": {},
   "source": [
    "### 1.2 Configure Paths and Create Directories"
   ]
  },
  {
   "cell_type": "code",
   "execution_count": 4,
   "id": "36675337-808d-40a9-93fc-d6cfa9473f66",
   "metadata": {},
   "outputs": [],
   "source": [
    "# Define paths\n",
    "figure_path = \"../figures\"\n",
    "model_artefacts_path = \"../model_artefacts\"\n",
    "\n",
    "gp_data_folder_path = \"../datasets/gp_data/\" # gene program data\n",
    "srt_data_folder_path = \"../datasets/srt_data/\" # spatially resolved transcriptomics data\n",
    "srt_data_gold_folder_path = f\"{srt_data_folder_path}/gold\"\n",
    "nichenet_ligand_target_mx_file_path = gp_data_folder_path + \"nichenet_ligand_target_matrix.csv\"\n",
    "omnipath_lr_interactions_file_path = gp_data_folder_path + \"omnipath_lr_interactions.csv\"\n",
    "\n",
    "# Create required directories\n",
    "os.makedirs(\"mlruns\", exist_ok=True)\n",
    "os.makedirs(gp_data_folder_path, exist_ok=True)"
   ]
  },
  {
   "cell_type": "markdown",
   "id": "a6c3b7fa-fa59-43dd-81d2-7e116650915f",
   "metadata": {},
   "source": [
    "### 1.3 Run Notebook Setup"
   ]
  },
  {
   "cell_type": "code",
   "execution_count": 5,
   "id": "f7b02c1e-2577-4ab8-a025-22b78da69a42",
   "metadata": {},
   "outputs": [],
   "source": [
    "# Set random seed\n",
    "random_seed = 42"
   ]
  },
  {
   "cell_type": "markdown",
   "id": "9f91f345-c297-47cb-8650-c6d9c60a8b7e",
   "metadata": {},
   "source": [
    "### 1.4 Define Parameters"
   ]
  },
  {
   "cell_type": "markdown",
   "id": "afb2aa6e-3cf2-44ac-b862-ec9c5bd55855",
   "metadata": {},
   "source": [
    "**Note:** ´edge_batch_size´ is a very important hyperparameter. Training does not work when it is too small because the gradients will be too noisy. If it is too high, you might run into GPU memory constraints."
   ]
  },
  {
   "cell_type": "code",
   "execution_count": 6,
   "id": "a4d4e6d9-239f-47c5-a30b-579b16d4c27c",
   "metadata": {},
   "outputs": [],
   "source": [
    "## Dataset\n",
    "dataset = \"squidpy_seqfish_mouse_organogenesis\"\n",
    "\n",
    "## Model\n",
    "# adata Keys\n",
    "counts_key = \"counts\"\n",
    "cell_type_key = \"celltype_mapped_refined\"\n",
    "adj_key = \"spatial_connectivities\"\n",
    "spatial_key = \"spatial\"\n",
    "gp_names_key = \"autotalker_gp_names\"\n",
    "active_gp_names_key = \"autotalker_active_gp_names\"\n",
    "gp_targets_mask_key = \"autotalker_gp_targets\"\n",
    "gp_sources_mask_key = \"autotalker_gp_sources\"\n",
    "latent_key = \"autotalker_latent\""
   ]
  },
  {
   "cell_type": "markdown",
   "id": "f7332dc1-413d-4e64-9161-38115e91c450",
   "metadata": {},
   "source": [
    "# Benchmark Loss Function Inclusions"
   ]
  },
  {
   "cell_type": "markdown",
   "id": "14c80007-8cf9-4405-8efd-8e0b0bed5831",
   "metadata": {},
   "source": [
    "## 3. Fine-Tuning of Loss Function with Fully Connected Gene Programs"
   ]
  },
  {
   "cell_type": "code",
   "execution_count": null,
   "id": "b4336bf0-5ab6-4aa2-9fd1-89bae414df8a",
   "metadata": {
    "tags": []
   },
   "outputs": [
    {
     "name": "stdout",
     "output_type": "stream",
     "text": [
      "--- DATASET ---\n",
      "Using dataset squidpy_seqfish_mouse_organogenesis.\n",
      "Number of nodes (cells): 19416\n",
      "Number of node features (genes): 351\n",
      "\n",
      "--- SPATIAL CONNECTIVITIES STATS ---\n",
      "Average number of edges per node: 32.0\n",
      "Number of total edges: 313362\n",
      "\n",
      "--- INITIALIZING NEW NETWORK MODULE: VARIATIONAL GENE PROGRAM GRAPH AUTOENCODER ---\n",
      "LOSS -> include_edge_recon_loss: True, include_gene_expr_recon_loss: True, gene_expr_recon_dist: nb\n",
      "NODE LABEL METHOD -> self\n",
      "ACTIVE GP THRESHOLD RATIO -> 0.0\n",
      "GCN ENCODER -> n_input: 351, n_hidden: 128, n_latent: 256, n_addon_latent: 0, dropout_rate: 0.0\n",
      "DOT PRODUCT GRAPH DECODER -> dropout_rate: 0.0\n",
      "MASKED GENE EXPRESSION DECODER -> n_input: 256, n_addon_input: 0, n_output: 351\n",
      "\n",
      "--- INITIALIZING TRAINER ---\n",
      "Number of training nodes: 17474\n",
      "Number of validation nodes: 1942\n",
      "Number of test nodes: 0\n",
      "Number of training edges: 266358\n",
      "Number of validation edges: 31336\n",
      "Number of test edges: 15668\n",
      "\n",
      "--- MODEL TRAINING ---\n",
      "Epoch 1/10 |██------------------| 10.0% val_auroc_score: 0.9619; val_auprc_score: 0.9519; val_best_acc_score: 0.9034; val_best_f1_score: 0.9056; train_kl_reg_loss: 0.0823; train_edge_recon_loss: 0.4240; train_gene_expr_recon_loss: 266.3894; train_group_lasso_reg_loss: 0.0000; train_global_loss: 266.8956; train_optim_loss: 266.8956; val_kl_reg_loss: 0.1021; val_edge_recon_loss: 0.3720; val_gene_expr_recon_loss: 269.1320; val_group_lasso_reg_loss: 0.0000; val_global_loss: 269.6062; val_optim_loss: 269.6062\n",
      "Epoch 2/10 |████----------------| 20.0% val_auroc_score: 0.9401; val_auprc_score: 0.9279; val_best_acc_score: 0.8621; val_best_f1_score: 0.8685; train_kl_reg_loss: 0.0987; train_edge_recon_loss: 0.3254; train_gene_expr_recon_loss: 266.8435; train_group_lasso_reg_loss: 0.0000; train_global_loss: 267.2676; train_optim_loss: 267.2676; val_kl_reg_loss: 0.0970; val_edge_recon_loss: 0.3236; val_gene_expr_recon_loss: 270.8665; val_group_lasso_reg_loss: 0.0000; val_global_loss: 271.2871; val_optim_loss: 271.2871\n",
      "Epoch 3/10 |██████--------------| 30.0% val_auroc_score: 0.9359; val_auprc_score: 0.9136; val_best_acc_score: 0.8750; val_best_f1_score: 0.8838; train_kl_reg_loss: 0.0976; train_edge_recon_loss: 0.3139; train_gene_expr_recon_loss: 268.8755; train_group_lasso_reg_loss: 0.0000; train_global_loss: 269.2871; train_optim_loss: 269.2871; val_kl_reg_loss: 0.0897; val_edge_recon_loss: 0.3110; val_gene_expr_recon_loss: 271.1859; val_group_lasso_reg_loss: 0.0000; val_global_loss: 271.5866; val_optim_loss: 271.5866\n",
      "Epoch 4/10 |████████------------| 40.0% val_auroc_score: 0.9338; val_auprc_score: 0.9164; val_best_acc_score: 0.8658; val_best_f1_score: 0.8757; train_kl_reg_loss: 0.0928; train_edge_recon_loss: 0.3081; train_gene_expr_recon_loss: 269.2436; train_group_lasso_reg_loss: 0.0000; train_global_loss: 269.6445; train_optim_loss: 269.6445; val_kl_reg_loss: 0.0890; val_edge_recon_loss: 0.3015; val_gene_expr_recon_loss: 270.9020; val_group_lasso_reg_loss: 0.0000; val_global_loss: 271.2925; val_optim_loss: 271.2925\n",
      "Epoch 5/10 |██████████----------| 50.0% val_auroc_score: 0.9382; val_auprc_score: 0.9227; val_best_acc_score: 0.8690; val_best_f1_score: 0.8777; train_kl_reg_loss: 0.0922; train_edge_recon_loss: 0.3075; train_gene_expr_recon_loss: 268.2158; train_group_lasso_reg_loss: 0.0000; train_global_loss: 268.6155; train_optim_loss: 268.6155; val_kl_reg_loss: 0.0907; val_edge_recon_loss: 0.3053; val_gene_expr_recon_loss: 271.0605; val_group_lasso_reg_loss: 0.0000; val_global_loss: 271.4566; val_optim_loss: 271.4566\n",
      "Epoch 6/10 |████████████--------| 60.0% val_auroc_score: 0.9292; val_auprc_score: 0.9063; val_best_acc_score: 0.8664; val_best_f1_score: 0.8760; train_kl_reg_loss: 0.0911; train_edge_recon_loss: 0.3067; train_gene_expr_recon_loss: 269.2742; train_group_lasso_reg_loss: 0.0000; train_global_loss: 269.6720; train_optim_loss: 269.6720; val_kl_reg_loss: 0.0895; val_edge_recon_loss: 0.3057; val_gene_expr_recon_loss: 273.0701; val_group_lasso_reg_loss: 0.0000; val_global_loss: 273.4653; val_optim_loss: 273.4653\n",
      "\n",
      "Reducing learning rate: metric has not improved more than 0.0 in the last 3 epochs.\n",
      "New learning rate is 0.001.\n",
      "\n",
      "Epoch 7/10 |██████████████------| 70.0% val_auroc_score: 0.9523; val_auprc_score: 0.9364; val_best_acc_score: 0.8956; val_best_f1_score: 0.9011; train_kl_reg_loss: 0.0902; train_edge_recon_loss: 0.2819; train_gene_expr_recon_loss: 267.4455; train_group_lasso_reg_loss: 0.0000; train_global_loss: 267.8176; train_optim_loss: 267.8176; val_kl_reg_loss: 0.0882; val_edge_recon_loss: 0.2858; val_gene_expr_recon_loss: 269.5299; val_group_lasso_reg_loss: 0.0000; val_global_loss: 269.9039; val_optim_loss: 269.9039\n",
      "\n",
      "Stopping early: metric has not improved more than 0.0 in the last 6 epochs.\n",
      "If the early stopping criterion is too strong, please instantiate it with different parameters in the train method.\n",
      "Model training finished after 27 min 48 sec.\n",
      "Using best model state, which was in epoch 1.\n",
      "\n",
      "--- MODEL EVALUATION ---\n",
      "Test AUROC score: 0.9626\n",
      "Test AUPRC score: 0.9522\n",
      "Test best accuracy score: 0.9046\n",
      "Test best F1 score: 0.9075\n",
      "\n",
      "--- BENCHMARKING RESULTS ---\n",
      "{'gcd': 692.8304265835906, 'mlnmi': 0.8138563819000464, 'cad': 182.12723531690818, 'arclisi': 0.12567834274151843, 'germse': 0.6460564, 'cca': 0.8006798516687268}\n",
      "--------------------\n",
      "\n",
      "--------------------\n",
      "--- DATASET ---\n",
      "Using dataset squidpy_seqfish_mouse_organogenesis.\n",
      "Number of nodes (cells): 19416\n",
      "Number of node features (genes): 351\n",
      "\n",
      "--- SPATIAL CONNECTIVITIES STATS ---\n",
      "Average number of edges per node: 32.0\n",
      "Number of total edges: 313362\n",
      "\n",
      "--- INITIALIZING NEW NETWORK MODULE: VARIATIONAL GENE PROGRAM GRAPH AUTOENCODER ---\n",
      "LOSS -> include_edge_recon_loss: True, include_gene_expr_recon_loss: False, gene_expr_recon_dist: nb\n",
      "NODE LABEL METHOD -> self\n",
      "ACTIVE GP THRESHOLD RATIO -> 0.0\n",
      "GCN ENCODER -> n_input: 351, n_hidden: 128, n_latent: 256, n_addon_latent: 0, dropout_rate: 0.0\n",
      "DOT PRODUCT GRAPH DECODER -> dropout_rate: 0.0\n",
      "MASKED GENE EXPRESSION DECODER -> n_input: 256, n_addon_input: 0, n_output: 351\n",
      "\n",
      "--- INITIALIZING TRAINER ---\n",
      "Number of training nodes: 17474\n",
      "Number of validation nodes: 1942\n",
      "Number of test nodes: 0\n",
      "Number of training edges: 266358\n",
      "Number of validation edges: 31336\n",
      "Number of test edges: 15668\n",
      "\n",
      "--- MODEL TRAINING ---\n",
      "Epoch 1/10 |██------------------| 10.0% val_auroc_score: 0.8730; val_auprc_score: 0.8263; val_best_acc_score: 0.8255; val_best_f1_score: 0.8488; train_kl_reg_loss: 0.0318; train_edge_recon_loss: 0.3149; train_gene_expr_recon_loss: 333.2898; train_group_lasso_reg_loss: 0.0000; train_global_loss: 0.3467; train_optim_loss: 0.3467; val_kl_reg_loss: 0.0346; val_edge_recon_loss: 0.2684; val_gene_expr_recon_loss: 336.0564; val_group_lasso_reg_loss: 0.0000; val_global_loss: 0.3030; val_optim_loss: 0.3030\n",
      "Epoch 2/10 |████----------------| 20.0% val_auroc_score: 0.8863; val_auprc_score: 0.8311; val_best_acc_score: 0.8519; val_best_f1_score: 0.8659; train_kl_reg_loss: 0.0331; train_edge_recon_loss: 0.2738; train_gene_expr_recon_loss: 333.5995; train_group_lasso_reg_loss: 0.0000; train_global_loss: 0.3069; train_optim_loss: 0.3069; val_kl_reg_loss: 0.0308; val_edge_recon_loss: 0.2631; val_gene_expr_recon_loss: 334.3319; val_group_lasso_reg_loss: 0.0000; val_global_loss: 0.2939; val_optim_loss: 0.2939\n",
      "Epoch 3/10 |██████--------------| 30.0% val_auroc_score: 0.8835; val_auprc_score: 0.8292; val_best_acc_score: 0.8515; val_best_f1_score: 0.8687; train_kl_reg_loss: 0.0312; train_edge_recon_loss: 0.2743; train_gene_expr_recon_loss: 333.9446; train_group_lasso_reg_loss: 0.0000; train_global_loss: 0.3054; train_optim_loss: 0.3054; val_kl_reg_loss: 0.0313; val_edge_recon_loss: 0.2574; val_gene_expr_recon_loss: 334.9622; val_group_lasso_reg_loss: 0.0000; val_global_loss: 0.2887; val_optim_loss: 0.2887\n",
      "Epoch 4/10 |████████------------| 40.0% val_auroc_score: 0.8263; val_auprc_score: 0.7634; val_best_acc_score: 0.7982; val_best_f1_score: 0.8302; train_kl_reg_loss: 0.0314; train_edge_recon_loss: 0.2779; train_gene_expr_recon_loss: 333.8404; train_group_lasso_reg_loss: 0.0000; train_global_loss: 0.3094; train_optim_loss: 0.3094; val_kl_reg_loss: 0.0312; val_edge_recon_loss: 0.2863; val_gene_expr_recon_loss: 334.3525; val_group_lasso_reg_loss: 0.0000; val_global_loss: 0.3175; val_optim_loss: 0.3175\n",
      "Epoch 5/10 |██████████----------| 50.0% val_auroc_score: 0.8395; val_auprc_score: 0.7708; val_best_acc_score: 0.8128; val_best_f1_score: 0.8410; train_kl_reg_loss: 0.0311; train_edge_recon_loss: 0.2843; train_gene_expr_recon_loss: 333.2253; train_group_lasso_reg_loss: 0.0000; train_global_loss: 0.3154; train_optim_loss: 0.3154; val_kl_reg_loss: 0.0312; val_edge_recon_loss: 0.2840; val_gene_expr_recon_loss: 335.0845; val_group_lasso_reg_loss: 0.0000; val_global_loss: 0.3152; val_optim_loss: 0.3152\n",
      "Epoch 6/10 |████████████--------| 60.0% val_auroc_score: 0.8403; val_auprc_score: 0.7673; val_best_acc_score: 0.8159; val_best_f1_score: 0.8430; train_kl_reg_loss: 0.0311; train_edge_recon_loss: 0.2818; train_gene_expr_recon_loss: 333.3606; train_group_lasso_reg_loss: 0.0000; train_global_loss: 0.3129; train_optim_loss: 0.3129; val_kl_reg_loss: 0.0309; val_edge_recon_loss: 0.2725; val_gene_expr_recon_loss: 334.5071; val_group_lasso_reg_loss: 0.0000; val_global_loss: 0.3034; val_optim_loss: 0.3034\n",
      "\n",
      "Reducing learning rate: metric has not improved more than 0.0 in the last 3 epochs.\n",
      "New learning rate is 0.001.\n",
      "\n",
      "Epoch 7/10 |██████████████------| 70.0% val_auroc_score: 0.8493; val_auprc_score: 0.7754; val_best_acc_score: 0.8215; val_best_f1_score: 0.8477; train_kl_reg_loss: 0.0302; train_edge_recon_loss: 0.2685; train_gene_expr_recon_loss: 333.1632; train_group_lasso_reg_loss: 0.0000; train_global_loss: 0.2988; train_optim_loss: 0.2988; val_kl_reg_loss: 0.0297; val_edge_recon_loss: 0.2643; val_gene_expr_recon_loss: 334.6608; val_group_lasso_reg_loss: 0.0000; val_global_loss: 0.2941; val_optim_loss: 0.2941\n",
      "Epoch 8/10 |████████████████----| 80.0% val_auroc_score: 0.8425; val_auprc_score: 0.7670; val_best_acc_score: 0.8199; val_best_f1_score: 0.8465; train_kl_reg_loss: 0.0297; train_edge_recon_loss: 0.2678; train_gene_expr_recon_loss: 333.4513; train_group_lasso_reg_loss: 0.0000; train_global_loss: 0.2974; train_optim_loss: 0.2974; val_kl_reg_loss: 0.0296; val_edge_recon_loss: 0.2646; val_gene_expr_recon_loss: 336.1132; val_group_lasso_reg_loss: 0.0000; val_global_loss: 0.2941; val_optim_loss: 0.2941\n",
      "Epoch 9/10 |██████████████████--| 90.0% val_auroc_score: 0.8471; val_auprc_score: 0.7709; val_best_acc_score: 0.8201; val_best_f1_score: 0.8468; train_kl_reg_loss: 0.0294; train_edge_recon_loss: 0.2671; train_gene_expr_recon_loss: 333.3782; train_group_lasso_reg_loss: 0.0000; train_global_loss: 0.2965; train_optim_loss: 0.2965; val_kl_reg_loss: 0.0294; val_edge_recon_loss: 0.2643; val_gene_expr_recon_loss: 335.8037; val_group_lasso_reg_loss: 0.0000; val_global_loss: 0.2937; val_optim_loss: 0.2937\n",
      "\n",
      "Stopping early: metric has not improved more than 0.0 in the last 6 epochs.\n",
      "If the early stopping criterion is too strong, please instantiate it with different parameters in the train method.\n",
      "Model training finished after 33 min 41 sec.\n",
      "Using best model state, which was in epoch 3.\n",
      "\n",
      "--- MODEL EVALUATION ---\n",
      "Test AUROC score: 0.8821\n",
      "Test AUPRC score: 0.8262\n",
      "Test best accuracy score: 0.8505\n",
      "Test best F1 score: 0.8681\n",
      "\n",
      "--- BENCHMARKING RESULTS ---\n",
      "{'gcd': 1069.8981259914422, 'mlnmi': 0.489275176768937, 'cad': 1312.8500298251554, 'arclisi': 0.7508434636629344, 'germse': 1.1240417, 'cca': 0.49938195302843014}\n",
      "--------------------\n",
      "\n",
      "--------------------\n",
      "--- DATASET ---\n",
      "Using dataset squidpy_seqfish_mouse_organogenesis.\n",
      "Number of nodes (cells): 19416\n",
      "Number of node features (genes): 351\n",
      "\n",
      "--- SPATIAL CONNECTIVITIES STATS ---\n",
      "Average number of edges per node: 32.0\n",
      "Number of total edges: 313362\n",
      "\n",
      "--- INITIALIZING NEW NETWORK MODULE: VARIATIONAL GENE PROGRAM GRAPH AUTOENCODER ---\n",
      "LOSS -> include_edge_recon_loss: False, include_gene_expr_recon_loss: True, gene_expr_recon_dist: nb\n",
      "NODE LABEL METHOD -> self\n",
      "ACTIVE GP THRESHOLD RATIO -> 0.0\n",
      "GCN ENCODER -> n_input: 351, n_hidden: 128, n_latent: 256, n_addon_latent: 0, dropout_rate: 0.0\n",
      "DOT PRODUCT GRAPH DECODER -> dropout_rate: 0.0\n",
      "MASKED GENE EXPRESSION DECODER -> n_input: 256, n_addon_input: 0, n_output: 351\n",
      "\n",
      "--- INITIALIZING TRAINER ---\n",
      "Number of training nodes: 17474\n",
      "Number of validation nodes: 1942\n",
      "Number of test nodes: 0\n",
      "Number of training edges: 266358\n",
      "Number of validation edges: 31336\n",
      "Number of test edges: 15668\n",
      "\n",
      "--- MODEL TRAINING ---\n",
      "Epoch 1/10 |██------------------| 10.0% val_auroc_score: 0.9426; val_auprc_score: 0.9308; val_best_acc_score: 0.8755; val_best_f1_score: 0.8787; train_kl_reg_loss: 0.0818; train_edge_recon_loss: 0.7714; train_gene_expr_recon_loss: 266.2636; train_group_lasso_reg_loss: 0.0000; train_global_loss: 266.3453; train_optim_loss: 266.3453; val_kl_reg_loss: 0.0972; val_edge_recon_loss: 0.5831; val_gene_expr_recon_loss: 268.7657; val_group_lasso_reg_loss: 0.0000; val_global_loss: 268.8629; val_optim_loss: 268.8629\n",
      "Epoch 2/10 |████----------------| 20.0% val_auroc_score: 0.9223; val_auprc_score: 0.9120; val_best_acc_score: 0.8447; val_best_f1_score: 0.8499; train_kl_reg_loss: 0.0966; train_edge_recon_loss: 0.5185; train_gene_expr_recon_loss: 266.4139; train_group_lasso_reg_loss: 0.0000; train_global_loss: 266.5105; train_optim_loss: 266.5105; val_kl_reg_loss: 0.0947; val_edge_recon_loss: 0.5050; val_gene_expr_recon_loss: 269.8253; val_group_lasso_reg_loss: 0.0000; val_global_loss: 269.9200; val_optim_loss: 269.9200\n",
      "Epoch 3/10 |██████--------------| 30.0% val_auroc_score: 0.8844; val_auprc_score: 0.8699; val_best_acc_score: 0.7929; val_best_f1_score: 0.8133; train_kl_reg_loss: 0.0957; train_edge_recon_loss: 0.4534; train_gene_expr_recon_loss: 269.6492; train_group_lasso_reg_loss: 0.0000; train_global_loss: 269.7449; train_optim_loss: 269.7449; val_kl_reg_loss: 0.0897; val_edge_recon_loss: 0.4456; val_gene_expr_recon_loss: 271.6291; val_group_lasso_reg_loss: 0.0000; val_global_loss: 271.7188; val_optim_loss: 271.7188\n",
      "Epoch 4/10 |████████------------| 40.0% val_auroc_score: 0.8605; val_auprc_score: 0.8507; val_best_acc_score: 0.7637; val_best_f1_score: 0.7822; train_kl_reg_loss: 0.0917; train_edge_recon_loss: 0.4189; train_gene_expr_recon_loss: 269.6429; train_group_lasso_reg_loss: 0.0000; train_global_loss: 269.7346; train_optim_loss: 269.7346; val_kl_reg_loss: 0.0873; val_edge_recon_loss: 0.3876; val_gene_expr_recon_loss: 272.4912; val_group_lasso_reg_loss: 0.0000; val_global_loss: 272.5785; val_optim_loss: 272.5785\n",
      "Epoch 5/10 |██████████----------| 50.0% val_auroc_score: 0.8863; val_auprc_score: 0.8803; val_best_acc_score: 0.7952; val_best_f1_score: 0.8062; train_kl_reg_loss: 0.0913; train_edge_recon_loss: 0.3999; train_gene_expr_recon_loss: 268.7081; train_group_lasso_reg_loss: 0.0000; train_global_loss: 268.7994; train_optim_loss: 268.7994; val_kl_reg_loss: 0.0911; val_edge_recon_loss: 0.3919; val_gene_expr_recon_loss: 271.5220; val_group_lasso_reg_loss: 0.0000; val_global_loss: 271.6130; val_optim_loss: 271.6130\n",
      "Epoch 6/10 |████████████--------| 60.0% val_auroc_score: 0.8770; val_auprc_score: 0.8667; val_best_acc_score: 0.7817; val_best_f1_score: 0.8017; train_kl_reg_loss: 0.0907; train_edge_recon_loss: 0.3837; train_gene_expr_recon_loss: 269.0154; train_group_lasso_reg_loss: 0.0000; train_global_loss: 269.1061; train_optim_loss: 269.1061; val_kl_reg_loss: 0.0888; val_edge_recon_loss: 0.3667; val_gene_expr_recon_loss: 271.7392; val_group_lasso_reg_loss: 0.0000; val_global_loss: 271.8280; val_optim_loss: 271.8280\n",
      "\n",
      "Reducing learning rate: metric has not improved more than 0.0 in the last 3 epochs.\n",
      "New learning rate is 0.001.\n",
      "\n",
      "Epoch 7/10 |██████████████------| 70.0% val_auroc_score: 0.8866; val_auprc_score: 0.8763; val_best_acc_score: 0.7973; val_best_f1_score: 0.8109; train_kl_reg_loss: 0.0897; train_edge_recon_loss: 0.3450; train_gene_expr_recon_loss: 267.2285; train_group_lasso_reg_loss: 0.0000; train_global_loss: 267.3182; train_optim_loss: 267.3182; val_kl_reg_loss: 0.0876; val_edge_recon_loss: 0.3468; val_gene_expr_recon_loss: 269.4717; val_group_lasso_reg_loss: 0.0000; val_global_loss: 269.5593; val_optim_loss: 269.5593\n",
      "\n",
      "Stopping early: metric has not improved more than 0.0 in the last 6 epochs.\n",
      "If the early stopping criterion is too strong, please instantiate it with different parameters in the train method.\n",
      "Model training finished after 20 min 18 sec.\n",
      "Using best model state, which was in epoch 1.\n",
      "\n",
      "--- MODEL EVALUATION ---\n",
      "Test AUROC score: 0.9443\n",
      "Test AUPRC score: 0.9316\n",
      "Test best accuracy score: 0.8797\n",
      "Test best F1 score: 0.8831\n",
      "\n",
      "--- BENCHMARKING RESULTS ---\n",
      "{'gcd': 702.9495003199021, 'mlnmi': 0.8079201203690658, 'cad': 189.65402286413672, 'arclisi': 0.12753561784640843, 'germse': 0.64619774, 'cca': 0.8015039142974866}\n",
      "--------------------\n",
      "\n",
      "--------------------\n",
      "--- DATASET ---\n",
      "Using dataset squidpy_seqfish_mouse_organogenesis.\n",
      "Number of nodes (cells): 19416\n",
      "Number of node features (genes): 351\n",
      "\n",
      "--- SPATIAL CONNECTIVITIES STATS ---\n",
      "Average number of edges per node: 32.0\n",
      "Number of total edges: 313362\n",
      "\n",
      "--- INITIALIZING NEW NETWORK MODULE: VARIATIONAL GENE PROGRAM GRAPH AUTOENCODER ---\n",
      "LOSS -> include_edge_recon_loss: False, include_gene_expr_recon_loss: False, gene_expr_recon_dist: nb\n",
      "NODE LABEL METHOD -> self\n",
      "ACTIVE GP THRESHOLD RATIO -> 0.0\n",
      "GCN ENCODER -> n_input: 351, n_hidden: 128, n_latent: 256, n_addon_latent: 0, dropout_rate: 0.0\n",
      "DOT PRODUCT GRAPH DECODER -> dropout_rate: 0.0\n",
      "MASKED GENE EXPRESSION DECODER -> n_input: 256, n_addon_input: 0, n_output: 351\n",
      "\n",
      "--- INITIALIZING TRAINER ---\n",
      "Number of training nodes: 17474\n",
      "Number of validation nodes: 1942\n",
      "Number of test nodes: 0\n",
      "Number of training edges: 266358\n",
      "Number of validation edges: 31336\n",
      "Number of test edges: 15668\n",
      "\n",
      "--- MODEL TRAINING ---\n",
      "Epoch 1/10 |██------------------| 10.0% val_auroc_score: 0.5000; val_auprc_score: 0.5000; val_best_acc_score: 0.5000; val_best_f1_score: 0.6667; train_kl_reg_loss: 0.0000; train_edge_recon_loss: 3.2237; train_gene_expr_recon_loss: 351.4371; train_group_lasso_reg_loss: 0.0000; train_global_loss: 0.0000; train_optim_loss: 0.0000; val_kl_reg_loss: 0.0000; val_edge_recon_loss: 0.3472; val_gene_expr_recon_loss: 335.7845; val_group_lasso_reg_loss: 0.0000; val_global_loss: 0.0000; val_optim_loss: 0.0000\n",
      "Epoch 2/10 |████----------------| 20.0% val_auroc_score: 0.5000; val_auprc_score: 0.5000; val_best_acc_score: 0.5000; val_best_f1_score: 0.6667; train_kl_reg_loss: 0.0000; train_edge_recon_loss: 3.2177; train_gene_expr_recon_loss: 352.1262; train_group_lasso_reg_loss: 0.0000; train_global_loss: 0.0000; train_optim_loss: 0.0000; val_kl_reg_loss: 0.0000; val_edge_recon_loss: 0.3472; val_gene_expr_recon_loss: 334.3235; val_group_lasso_reg_loss: 0.0000; val_global_loss: 0.0000; val_optim_loss: 0.0000\n",
      "Epoch 3/10 |██████--------------| 30.0% val_auroc_score: 0.5000; val_auprc_score: 0.5000; val_best_acc_score: 0.5000; val_best_f1_score: 0.6667; train_kl_reg_loss: 0.0000; train_edge_recon_loss: 3.2144; train_gene_expr_recon_loss: 352.5075; train_group_lasso_reg_loss: 0.0000; train_global_loss: 0.0000; train_optim_loss: 0.0000; val_kl_reg_loss: 0.0000; val_edge_recon_loss: 0.3472; val_gene_expr_recon_loss: 334.7539; val_group_lasso_reg_loss: 0.0000; val_global_loss: 0.0000; val_optim_loss: 0.0000\n",
      "Epoch 4/10 |████████------------| 40.0% val_auroc_score: 0.5000; val_auprc_score: 0.5000; val_best_acc_score: 0.5000; val_best_f1_score: 0.6667; train_kl_reg_loss: 0.0000; train_edge_recon_loss: 3.2254; train_gene_expr_recon_loss: 352.2960; train_group_lasso_reg_loss: 0.0000; train_global_loss: 0.0000; train_optim_loss: 0.0000; val_kl_reg_loss: 0.0000; val_edge_recon_loss: 0.3472; val_gene_expr_recon_loss: 334.3882; val_group_lasso_reg_loss: 0.0000; val_global_loss: 0.0000; val_optim_loss: 0.0000\n",
      "Epoch 5/10 |██████████----------| 50.0% val_auroc_score: 0.5000; val_auprc_score: 0.5000; val_best_acc_score: 0.5000; val_best_f1_score: 0.6667; train_kl_reg_loss: 0.0000; train_edge_recon_loss: 3.2059; train_gene_expr_recon_loss: 351.7074; train_group_lasso_reg_loss: 0.0000; train_global_loss: 0.0000; train_optim_loss: 0.0000; val_kl_reg_loss: 0.0000; val_edge_recon_loss: 0.3472; val_gene_expr_recon_loss: 334.9551; val_group_lasso_reg_loss: 0.0000; val_global_loss: 0.0000; val_optim_loss: 0.0000\n",
      "Epoch 6/10 |████████████--------| 60.0% val_auroc_score: 0.5000; val_auprc_score: 0.5000; val_best_acc_score: 0.5000; val_best_f1_score: 0.6667; train_kl_reg_loss: 0.0000; train_edge_recon_loss: 3.2163; train_gene_expr_recon_loss: 351.8854; train_group_lasso_reg_loss: 0.0000; train_global_loss: 0.0000; train_optim_loss: 0.0000; val_kl_reg_loss: 0.0000; val_edge_recon_loss: 0.3472; val_gene_expr_recon_loss: 334.3879; val_group_lasso_reg_loss: 0.0000; val_global_loss: 0.0000; val_optim_loss: 0.0000\n",
      "\n",
      "Reducing learning rate: metric has not improved more than 0.0 in the last 3 epochs.\n",
      "New learning rate is 0.001.\n",
      "\n",
      "Epoch 7/10 |██████████████------| 70.0% val_auroc_score: 0.5000; val_auprc_score: 0.5000; val_best_acc_score: 0.5000; val_best_f1_score: 0.6667; train_kl_reg_loss: 0.0000; train_edge_recon_loss: 3.2148; train_gene_expr_recon_loss: 351.6019; train_group_lasso_reg_loss: 0.0000; train_global_loss: 0.0000; train_optim_loss: 0.0000; val_kl_reg_loss: 0.0000; val_edge_recon_loss: 0.3472; val_gene_expr_recon_loss: 334.6456; val_group_lasso_reg_loss: 0.0000; val_global_loss: 0.0000; val_optim_loss: 0.0000\n",
      "Epoch 8/10 |████████████████----| 80.0% val_auroc_score: 0.5000; val_auprc_score: 0.5000; val_best_acc_score: 0.5000; val_best_f1_score: 0.6667; train_kl_reg_loss: 0.0000; train_edge_recon_loss: 3.2172; train_gene_expr_recon_loss: 351.9848; train_group_lasso_reg_loss: 0.0000; train_global_loss: 0.0000; train_optim_loss: 0.0000; val_kl_reg_loss: 0.0000; val_edge_recon_loss: 0.3472; val_gene_expr_recon_loss: 336.0892; val_group_lasso_reg_loss: 0.0000; val_global_loss: 0.0000; val_optim_loss: 0.0000\n",
      "Epoch 9/10 |██████████████████--| 90.0% val_auroc_score: 0.5000; val_auprc_score: 0.5000; val_best_acc_score: 0.5000; val_best_f1_score: 0.6667; train_kl_reg_loss: 0.0000; train_edge_recon_loss: 3.2221; train_gene_expr_recon_loss: 351.9013; train_group_lasso_reg_loss: 0.0000; train_global_loss: 0.0000; train_optim_loss: 0.0000; val_kl_reg_loss: 0.0000; val_edge_recon_loss: 0.3472; val_gene_expr_recon_loss: 335.8791; val_group_lasso_reg_loss: 0.0000; val_global_loss: 0.0000; val_optim_loss: 0.0000\n",
      "Epoch 10/10 |████████████████████| 100.0% val_auroc_score: 0.5000; val_auprc_score: 0.5000; val_best_acc_score: 0.5000; val_best_f1_score: 0.6667; train_kl_reg_loss: 0.0000; train_edge_recon_loss: 3.2199; train_gene_expr_recon_loss: 351.8126; train_group_lasso_reg_loss: 0.0000; train_global_loss: 0.0000; train_optim_loss: 0.0000; val_kl_reg_loss: 0.0000; val_edge_recon_loss: 0.3472; val_gene_expr_recon_loss: 335.2492; val_group_lasso_reg_loss: 0.0000; val_global_loss: 0.0000; val_optim_loss: 0.0000\n",
      "\n",
      "\n",
      "Reducing learning rate: metric has not improved more than 0.0 in the last 3 epochs.\n",
      "New learning rate is 0.0001.\n",
      "\n",
      "Model training finished after 28 min 11 sec.\n",
      "Using best model state, which was in epoch 7.\n",
      "\n",
      "--- MODEL EVALUATION ---\n",
      "Test AUROC score: 0.5000\n",
      "Test AUPRC score: 0.5000\n",
      "Test best accuracy score: 0.5000\n",
      "Test best F1 score: 0.6667\n",
      "\n",
      "--- BENCHMARKING RESULTS ---\n",
      "{'gcd': 1113.7899263326096, 'mlnmi': 0.09727902492414793, 'cad': 1374.765028268162, 'arclisi': 1.5102404213214493, 'germse': 1.2745335, 'cca': 0.08472393901936547}\n",
      "--------------------\n",
      "\n",
      "--------------------\n",
      "--- DATASET ---\n",
      "Using dataset squidpy_seqfish_mouse_organogenesis.\n",
      "Number of nodes (cells): 19416\n",
      "Number of node features (genes): 351\n",
      "\n",
      "--- SPATIAL CONNECTIVITIES STATS ---\n",
      "Average number of edges per node: 32.0\n",
      "Number of total edges: 313362\n",
      "\n",
      "--- INITIALIZING NEW NETWORK MODULE: VARIATIONAL GENE PROGRAM GRAPH AUTOENCODER ---\n",
      "LOSS -> include_edge_recon_loss: True, include_gene_expr_recon_loss: True, gene_expr_recon_dist: nb\n",
      "NODE LABEL METHOD -> self\n",
      "ACTIVE GP THRESHOLD RATIO -> 0.0\n",
      "GCN ENCODER -> n_input: 351, n_hidden: 256, n_latent: 512, n_addon_latent: 0, dropout_rate: 0.0\n",
      "DOT PRODUCT GRAPH DECODER -> dropout_rate: 0.0\n",
      "MASKED GENE EXPRESSION DECODER -> n_input: 512, n_addon_input: 0, n_output: 351\n",
      "\n",
      "--- INITIALIZING TRAINER ---\n",
      "Number of training nodes: 17474\n",
      "Number of validation nodes: 1942\n",
      "Number of test nodes: 0\n",
      "Number of training edges: 266358\n",
      "Number of validation edges: 31336\n",
      "Number of test edges: 15668\n",
      "\n",
      "--- MODEL TRAINING ---\n",
      "Epoch 1/10 |██------------------| 10.0% val_auroc_score: 0.9322; val_auprc_score: 0.9167; val_best_acc_score: 0.8536; val_best_f1_score: 0.8634; train_kl_reg_loss: 0.1493; train_edge_recon_loss: 0.4309; train_gene_expr_recon_loss: 269.3977; train_group_lasso_reg_loss: 0.0000; train_global_loss: 269.9779; train_optim_loss: 269.9779; val_kl_reg_loss: 0.1714; val_edge_recon_loss: 0.3371; val_gene_expr_recon_loss: 272.3081; val_group_lasso_reg_loss: 0.0000; val_global_loss: 272.8166; val_optim_loss: 272.8166\n",
      "Epoch 2/10 |████----------------| 20.0% val_auroc_score: 0.9160; val_auprc_score: 0.8987; val_best_acc_score: 0.8333; val_best_f1_score: 0.8439; train_kl_reg_loss: 0.1833; train_edge_recon_loss: 0.3223; train_gene_expr_recon_loss: 271.0721; train_group_lasso_reg_loss: 0.0000; train_global_loss: 271.5776; train_optim_loss: 271.5776; val_kl_reg_loss: 0.1902; val_edge_recon_loss: 0.3205; val_gene_expr_recon_loss: 274.6775; val_group_lasso_reg_loss: 0.0000; val_global_loss: 275.1882; val_optim_loss: 275.1882\n",
      "Epoch 3/10 |██████--------------| 30.0% val_auroc_score: 0.9063; val_auprc_score: 0.8806; val_best_acc_score: 0.8463; val_best_f1_score: 0.8617; train_kl_reg_loss: 0.1840; train_edge_recon_loss: 0.3158; train_gene_expr_recon_loss: 272.9317; train_group_lasso_reg_loss: 0.0000; train_global_loss: 273.4315; train_optim_loss: 273.4315; val_kl_reg_loss: 0.1771; val_edge_recon_loss: 0.3182; val_gene_expr_recon_loss: 273.9714; val_group_lasso_reg_loss: 0.0000; val_global_loss: 274.4667; val_optim_loss: 274.4667\n",
      "Epoch 4/10 |████████------------| 40.0% val_auroc_score: 0.8824; val_auprc_score: 0.8507; val_best_acc_score: 0.8257; val_best_f1_score: 0.8461; train_kl_reg_loss: 0.1791; train_edge_recon_loss: 0.3147; train_gene_expr_recon_loss: 273.1995; train_group_lasso_reg_loss: 0.0000; train_global_loss: 273.6934; train_optim_loss: 273.6934; val_kl_reg_loss: 0.1730; val_edge_recon_loss: 0.3161; val_gene_expr_recon_loss: 275.6000; val_group_lasso_reg_loss: 0.0000; val_global_loss: 276.0892; val_optim_loss: 276.0892\n",
      "Epoch 5/10 |██████████----------| 50.0% val_auroc_score: 0.8992; val_auprc_score: 0.8711; val_best_acc_score: 0.8352; val_best_f1_score: 0.8541; train_kl_reg_loss: 0.1794; train_edge_recon_loss: 0.3158; train_gene_expr_recon_loss: 272.8718; train_group_lasso_reg_loss: 0.0000; train_global_loss: 273.3671; train_optim_loss: 273.3671; val_kl_reg_loss: 0.1752; val_edge_recon_loss: 0.3140; val_gene_expr_recon_loss: 275.5589; val_group_lasso_reg_loss: 0.0000; val_global_loss: 276.0481; val_optim_loss: 276.0481\n",
      "Epoch 6/10 |████████████--------| 60.0% val_auroc_score: 0.8802; val_auprc_score: 0.8508; val_best_acc_score: 0.8064; val_best_f1_score: 0.8317; train_kl_reg_loss: 0.1781; train_edge_recon_loss: 0.3162; train_gene_expr_recon_loss: 272.8612; train_group_lasso_reg_loss: 0.0000; train_global_loss: 273.3555; train_optim_loss: 273.3555; val_kl_reg_loss: 0.1768; val_edge_recon_loss: 0.3226; val_gene_expr_recon_loss: 275.0751; val_group_lasso_reg_loss: 0.0000; val_global_loss: 275.5745; val_optim_loss: 275.5745\n",
      "\n",
      "Reducing learning rate: metric has not improved more than 0.0 in the last 3 epochs.\n",
      "New learning rate is 0.001.\n",
      "\n",
      "Epoch 7/10 |██████████████------| 70.0% val_auroc_score: 0.9070; val_auprc_score: 0.8846; val_best_acc_score: 0.8336; val_best_f1_score: 0.8514; train_kl_reg_loss: 0.1755; train_edge_recon_loss: 0.3007; train_gene_expr_recon_loss: 270.6263; train_group_lasso_reg_loss: 0.0000; train_global_loss: 271.1025; train_optim_loss: 271.1025; val_kl_reg_loss: 0.1721; val_edge_recon_loss: 0.3045; val_gene_expr_recon_loss: 272.7436; val_group_lasso_reg_loss: 0.0000; val_global_loss: 273.2202; val_optim_loss: 273.2202\n",
      "\n",
      "Stopping early: metric has not improved more than 0.0 in the last 6 epochs.\n",
      "If the early stopping criterion is too strong, please instantiate it with different parameters in the train method.\n",
      "Model training finished after 46 min 6 sec.\n",
      "Using best model state, which was in epoch 1.\n",
      "\n",
      "--- MODEL EVALUATION ---\n",
      "Test AUROC score: 0.9332\n",
      "Test AUPRC score: 0.9181\n",
      "Test best accuracy score: 0.8554\n",
      "Test best F1 score: 0.8637\n",
      "\n",
      "--- BENCHMARKING RESULTS ---\n",
      "{'gcd': 738.9167747453024, 'mlnmi': 0.776351368994912, 'cad': 183.94755484264294, 'arclisi': 0.13188899498276352, 'germse': 0.6710386, 'cca': 0.8049031726411208}\n",
      "--------------------\n",
      "\n",
      "--------------------\n",
      "--- DATASET ---\n",
      "Using dataset squidpy_seqfish_mouse_organogenesis.\n",
      "Number of nodes (cells): 19416\n",
      "Number of node features (genes): 351\n",
      "\n",
      "--- SPATIAL CONNECTIVITIES STATS ---\n",
      "Average number of edges per node: 32.0\n",
      "Number of total edges: 313362\n",
      "\n",
      "--- INITIALIZING NEW NETWORK MODULE: VARIATIONAL GENE PROGRAM GRAPH AUTOENCODER ---\n",
      "LOSS -> include_edge_recon_loss: True, include_gene_expr_recon_loss: False, gene_expr_recon_dist: nb\n",
      "NODE LABEL METHOD -> self\n",
      "ACTIVE GP THRESHOLD RATIO -> 0.0\n",
      "GCN ENCODER -> n_input: 351, n_hidden: 256, n_latent: 512, n_addon_latent: 0, dropout_rate: 0.0\n",
      "DOT PRODUCT GRAPH DECODER -> dropout_rate: 0.0\n",
      "MASKED GENE EXPRESSION DECODER -> n_input: 512, n_addon_input: 0, n_output: 351\n",
      "\n",
      "--- INITIALIZING TRAINER ---\n",
      "Number of training nodes: 17474\n",
      "Number of validation nodes: 1942\n",
      "Number of test nodes: 0\n",
      "Number of training edges: 266358\n",
      "Number of validation edges: 31336\n",
      "Number of test edges: 15668\n",
      "\n",
      "--- MODEL TRAINING ---\n",
      "Epoch 1/10 |██------------------| 10.0% val_auroc_score: 0.8755; val_auprc_score: 0.8289; val_best_acc_score: 0.8305; val_best_f1_score: 0.8463; train_kl_reg_loss: 0.0584; train_edge_recon_loss: 0.3465; train_gene_expr_recon_loss: 335.3793; train_group_lasso_reg_loss: 0.0000; train_global_loss: 0.4050; train_optim_loss: 0.4050; val_kl_reg_loss: 0.0624; val_edge_recon_loss: 0.2770; val_gene_expr_recon_loss: 338.2648; val_group_lasso_reg_loss: 0.0000; val_global_loss: 0.3394; val_optim_loss: 0.3394\n",
      "Epoch 2/10 |████----------------| 20.0% val_auroc_score: 0.8283; val_auprc_score: 0.7768; val_best_acc_score: 0.8020; val_best_f1_score: 0.8295; train_kl_reg_loss: 0.0634; train_edge_recon_loss: 0.2992; train_gene_expr_recon_loss: 335.7605; train_group_lasso_reg_loss: 0.0000; train_global_loss: 0.3625; train_optim_loss: 0.3625; val_kl_reg_loss: 0.0592; val_edge_recon_loss: 0.2943; val_gene_expr_recon_loss: 336.6995; val_group_lasso_reg_loss: 0.0000; val_global_loss: 0.3535; val_optim_loss: 0.3535\n",
      "Epoch 3/10 |██████--------------| 30.0% val_auroc_score: 0.7384; val_auprc_score: 0.6732; val_best_acc_score: 0.7146; val_best_f1_score: 0.7767; train_kl_reg_loss: 0.0611; train_edge_recon_loss: 0.3011; train_gene_expr_recon_loss: 336.0441; train_group_lasso_reg_loss: 0.0000; train_global_loss: 0.3621; train_optim_loss: 0.3621; val_kl_reg_loss: 0.0616; val_edge_recon_loss: 0.3071; val_gene_expr_recon_loss: 337.3517; val_group_lasso_reg_loss: 0.0000; val_global_loss: 0.3687; val_optim_loss: 0.3687\n",
      "Epoch 4/10 |████████------------| 40.0% val_auroc_score: 0.7814; val_auprc_score: 0.7113; val_best_acc_score: 0.7280; val_best_f1_score: 0.7854; train_kl_reg_loss: 0.0613; train_edge_recon_loss: 0.3138; train_gene_expr_recon_loss: 335.8877; train_group_lasso_reg_loss: 0.0000; train_global_loss: 0.3751; train_optim_loss: 0.3751; val_kl_reg_loss: 0.0607; val_edge_recon_loss: 0.3130; val_gene_expr_recon_loss: 336.6301; val_group_lasso_reg_loss: 0.0000; val_global_loss: 0.3737; val_optim_loss: 0.3737\n"
     ]
    }
   ],
   "source": [
    "hyperparams = {}\n",
    "hyperparams[\"n_neighs\"] = [32] # [4, 8, 16, 32, 64]\n",
    "hyperparams[\"n_latent_fc_gps\"] = [256, 512] # [32, 64, 128, 256, 512]\n",
    "hyperparams[\"include_edge_recon_loss\"] = [True, False]\n",
    "hyperparams[\"lambda_edge_recon\"] = [None]\n",
    "hyperparams[\"include_gene_expr_recon_loss\"] = [True, False]\n",
    "hyperparams[\"lambda_gene_expr_recon\"] = [1.]\n",
    "hyperparams[\"node_label_method\"] = [\"self\"]\n",
    "hyperparams[\"gene_expr_recon_dist\"] = [\"nb\"]\n",
    "n_epochs = 10\n",
    "lr = 0.01\n",
    "\n",
    "# Loop through combination of hyperparams\n",
    "iters = range(1)\n",
    "keys, values = zip(*hyperparams.items())\n",
    "for hyperparam_config in itertools.product(*values, iters):\n",
    "    \n",
    "    experiment = mlflow.set_experiment(\"autotalker_benchmarking_loss_inclusions\")\n",
    "    \n",
    "    print(\"--- DATASET ---\")\n",
    "    adata = ad.read_h5ad(f\"{srt_data_gold_folder_path}/{dataset}.h5ad\")\n",
    "    print(f\"Using dataset {dataset}.\")\n",
    "    mlflow.log_param(\"dataset\", dataset)\n",
    "    n_nodes = adata.layers[\"counts\"].shape[0]\n",
    "    n_genes = adata.layers[\"counts\"].shape[1]\n",
    "    print(f\"Number of nodes (cells): {n_nodes}\")\n",
    "    print(f\"Number of node features (genes): {n_genes}\")\n",
    "    mlflow.log_param(\"n_nodes\", n_nodes)\n",
    "    mlflow.log_param(\"n_genes\", n_genes)\n",
    "    \n",
    "    experiment = mlflow.set_experiment(\"autotalker_benchmarking_loss_inclusions\")\n",
    "    \n",
    "    # Get time for timestamping saved artefacts\n",
    "    now = datetime.now()\n",
    "    current_timestamp = now.strftime(\"%d%m%Y_%H%M%S\")\n",
    "    \n",
    "    n_neighs = hyperparam_config[0]\n",
    "    n_latent_fc_gps = hyperparam_config[1]\n",
    "    include_edge_recon_loss = hyperparam_config[2]\n",
    "    lambda_edge_recon = hyperparam_config[3]\n",
    "    include_gene_expr_recon_loss = hyperparam_config[4]\n",
    "    lambda_gene_expr_recon = hyperparam_config[5]\n",
    "    node_label_method = hyperparam_config[6]\n",
    "    gene_expr_recon_dist = hyperparam_config[7]\n",
    "\n",
    "    # Create fully-connected mask that allows all latent dims to reconstruct all genes\n",
    "    n_output = len(adata.var)\n",
    "    gp_targets_mask = np.ones((n_latent_fc_gps, n_output))\n",
    "    adata.uns[gp_names_key] = np.array([f\"FC_GP_{i}\" for i in range(n_latent_fc_gps)])\n",
    "\n",
    "    # Determine dimensionality of hidden encoder\n",
    "    n_hidden_encoder = int(n_latent_fc_gps/2)\n",
    "    \n",
    "    # Compute spatial neighborhood\n",
    "    sq.gr.spatial_neighbors(adata,\n",
    "                            coord_type=\"generic\",\n",
    "                            spatial_key=spatial_key,\n",
    "                            n_neighs=n_neighs)\n",
    "    \n",
    "    print(\"\")\n",
    "    print(\"--- SPATIAL CONNECTIVITIES STATS ---\")\n",
    "    avg_edges_per_node = round(adata.obsp['spatial_connectivities'].sum(axis=0).mean(), 2)\n",
    "    print(f\"Average number of edges per node: {avg_edges_per_node}\")\n",
    "    n_edges = int(sp.triu(adata.obsp['spatial_connectivities'], k=1).sum())\n",
    "    print(f\"Number of total edges: {n_edges}\", sep=\"\")\n",
    "    mlflow.log_param(\"n_neighbors\", n_neighs)\n",
    "    mlflow.log_param(\"n_edges\", n_edges)\n",
    "\n",
    "    print(\"\")\n",
    "    ### Model Training ###\n",
    "    model = Autotalker(adata,\n",
    "                       counts_key=counts_key,\n",
    "                       adj_key=adj_key,\n",
    "                       gp_names_key=gp_names_key,\n",
    "                       active_gp_names_key=active_gp_names_key,\n",
    "                       latent_key=latent_key,\n",
    "                       include_edge_recon_loss=include_edge_recon_loss,\n",
    "                       include_gene_expr_recon_loss=include_gene_expr_recon_loss,\n",
    "                       gene_expr_recon_dist=gene_expr_recon_dist,\n",
    "                       node_label_method=node_label_method,\n",
    "                       n_hidden_encoder=n_hidden_encoder,\n",
    "                       gp_targets_mask=gp_targets_mask,\n",
    "                       gp_sources_mask=None,\n",
    "                       n_addon_gps=0)\n",
    "    \n",
    "    print(\"\")\n",
    "    model.train(n_epochs=n_epochs,\n",
    "                lr=lr,\n",
    "                lambda_edge_recon=lambda_edge_recon,\n",
    "                lambda_gene_expr_recon=lambda_gene_expr_recon,\n",
    "                mlflow_experiment_id=experiment.experiment_id,\n",
    "                verbose=True)\n",
    "    \n",
    "    print(\"\")\n",
    "    benchmark_dict = model.run_benchmarks(\n",
    "        adata=model.adata,\n",
    "        cell_type_key=cell_type_key,\n",
    "        spatial_key=spatial_key,\n",
    "        spatial_knng_key=\"autotalker_spatial_8nng\",\n",
    "        latent_knng_key=\"autotalker_latent_8nng\",\n",
    "        n_neighbors=n_neighs,\n",
    "        seed=random_seed,\n",
    "        mlflow_experiment_id=experiment.experiment_id)\n",
    "    print(\"--- BENCHMARKING RESULTS ---\")\n",
    "    print(benchmark_dict)\n",
    "    \n",
    "    print(\"--------------------\")\n",
    "    print(\"\")\n",
    "    print(\"--------------------\")\n",
    "    model.save(dir_path=f\"{model_artefacts_path}/{dataset}/autotalker_benchmarking_1/{current_timestamp}\",\n",
    "               overwrite=True,\n",
    "               save_adata=True,\n",
    "               adata_file_name=f\"{dataset}.h5ad\")\n",
    "    \n",
    "    mlflow.end_run()"
   ]
  },
  {
   "cell_type": "code",
   "execution_count": null,
   "id": "3b085df2-2f6a-49c1-bf1d-e048ce8879d2",
   "metadata": {},
   "outputs": [],
   "source": [
    "hyperparams = {}\n",
    "hyperparams[\"n_neighs\"] = [64]\n",
    "hyperparams[\"n_latent_fc_gps\"] = [32, 64, 128, 256, 512]\n",
    "hyperparams[\"include_edge_recon_loss\"] = [True, False]\n",
    "hyperparams[\"lambda_edge_recon\"] = [None]\n",
    "hyperparams[\"include_gene_expr_recon_loss\"] = [True, False]\n",
    "hyperparams[\"lambda_gene_expr_recon\"] = [1.]\n",
    "hyperparams[\"node_label_method\"] = [\"self\"]\n",
    "hyperparams[\"gene_expr_recon_dist\"] = [\"nb\"]\n",
    "n_epochs = 10\n",
    "lr = 0.01\n",
    "\n",
    "# Loop through combination of hyperparams\n",
    "iters = range(1)\n",
    "keys, values = zip(*hyperparams.items())\n",
    "for hyperparam_config in itertools.product(*values, iters):\n",
    "    \n",
    "    experiment = mlflow.set_experiment(\"autotalker_benchmarking_loss_inclusions\")\n",
    "    \n",
    "    print(\"--- DATASET ---\")\n",
    "    adata = ad.read_h5ad(f\"{srt_data_gold_folder_path}/{dataset}.h5ad\")\n",
    "    print(f\"Using dataset {dataset}.\")\n",
    "    mlflow.log_param(\"dataset\", dataset)\n",
    "    n_nodes = adata.layers[\"counts\"].shape[0]\n",
    "    n_genes = adata.layers[\"counts\"].shape[1]\n",
    "    print(f\"Number of nodes (cells): {n_nodes}\")\n",
    "    print(f\"Number of node features (genes): {n_genes}\")\n",
    "    mlflow.log_param(\"n_nodes\", n_nodes)\n",
    "    mlflow.log_param(\"n_genes\", n_genes)\n",
    "    \n",
    "    experiment = mlflow.set_experiment(\"autotalker_benchmarking_loss_inclusions\")\n",
    "    \n",
    "    # Get time for timestamping saved artefacts\n",
    "    now = datetime.now()\n",
    "    current_timestamp = now.strftime(\"%d%m%Y_%H%M%S\")\n",
    "    \n",
    "    n_neighs = hyperparam_config[0]\n",
    "    n_latent_fc_gps = hyperparam_config[1]\n",
    "    include_edge_recon_loss = hyperparam_config[2]\n",
    "    lambda_edge_recon = hyperparam_config[3]\n",
    "    include_gene_expr_recon_loss = hyperparam_config[4]\n",
    "    lambda_gene_expr_recon = hyperparam_config[5]\n",
    "    node_label_method = hyperparam_config[6]\n",
    "    gene_expr_recon_dist = hyperparam_config[7]\n",
    "\n",
    "    # Create fully-connected mask that allows all latent dims to reconstruct all genes\n",
    "    n_output = len(adata.var)\n",
    "    gp_targets_mask = np.ones((n_latent_fc_gps, n_output))\n",
    "    adata.uns[gp_names_key] = np.array([f\"FC_GP_{i}\" for i in range(n_latent_fc_gps)])\n",
    "\n",
    "    # Determine dimensionality of hidden encoder\n",
    "    n_hidden_encoder = int(n_latent_fc_gps/2)\n",
    "    \n",
    "    # Compute spatial neighborhood\n",
    "    sq.gr.spatial_neighbors(adata,\n",
    "                            coord_type=\"generic\",\n",
    "                            spatial_key=spatial_key,\n",
    "                            n_neighs=n_neighs)\n",
    "    \n",
    "    print(\"\")\n",
    "    print(\"--- SPATIAL CONNECTIVITIES STATS ---\")\n",
    "    avg_edges_per_node = round(adata.obsp['spatial_connectivities'].sum(axis=0).mean(), 2)\n",
    "    print(f\"Average number of edges per node: {avg_edges_per_node}\")\n",
    "    n_edges = int(sp.triu(adata.obsp['spatial_connectivities'], k=1).sum())\n",
    "    print(f\"Number of total edges: {n_edges}\", sep=\"\")\n",
    "    mlflow.log_param(\"n_neighbors\", n_neighs)\n",
    "    mlflow.log_param(\"n_edges\", n_edges)\n",
    "\n",
    "    print(\"\")\n",
    "    ### Model Training ###\n",
    "    model = Autotalker(adata,\n",
    "                       counts_key=counts_key,\n",
    "                       adj_key=adj_key,\n",
    "                       gp_names_key=gp_names_key,\n",
    "                       active_gp_names_key=active_gp_names_key,\n",
    "                       latent_key=latent_key,\n",
    "                       include_edge_recon_loss=include_edge_recon_loss,\n",
    "                       include_gene_expr_recon_loss=include_gene_expr_recon_loss,\n",
    "                       gene_expr_recon_dist=gene_expr_recon_dist,\n",
    "                       node_label_method=node_label_method,\n",
    "                       n_hidden_encoder=n_hidden_encoder,\n",
    "                       gp_targets_mask=gp_targets_mask,\n",
    "                       gp_sources_mask=None,\n",
    "                       n_addon_gps=0)\n",
    "    \n",
    "    print(\"\")\n",
    "    model.train(n_epochs=n_epochs,\n",
    "                lr=lr,\n",
    "                lambda_edge_recon=lambda_edge_recon,\n",
    "                lambda_gene_expr_recon=lambda_gene_expr_recon,\n",
    "                mlflow_experiment_id=experiment.experiment_id,\n",
    "                verbose=True)\n",
    "    \n",
    "    print(\"\")\n",
    "    benchmark_dict = model.run_benchmarks(\n",
    "        adata=model.adata,\n",
    "        cell_type_key=cell_type_key,\n",
    "        spatial_key=spatial_key,\n",
    "        spatial_knng_key=\"autotalker_spatial_8nng\",\n",
    "        latent_knng_key=\"autotalker_latent_8nng\",\n",
    "        n_neighbors=n_neighs,\n",
    "        seed=random_seed,\n",
    "        mlflow_experiment_id=experiment.experiment_id)\n",
    "    print(\"--- BENCHMARKING RESULTS ---\")\n",
    "    print(benchmark_dict)\n",
    "    \n",
    "    print(\"--------------------\")\n",
    "    print(\"\")\n",
    "    print(\"--------------------\")\n",
    "    model.save(dir_path=f\"{model_artefacts_path}/{dataset}/autotalker_benchmarking_1/{current_timestamp}\",\n",
    "               overwrite=True,\n",
    "               save_adata=True,\n",
    "               adata_file_name=f\"{dataset}.h5ad\")\n",
    "    \n",
    "    mlflow.end_run()"
   ]
  },
  {
   "cell_type": "code",
   "execution_count": null,
   "id": "6ac5bb40-469a-4356-bf10-29b2de01b4e6",
   "metadata": {},
   "outputs": [],
   "source": [
    "model.adata.obsm['autotalker_latent']"
   ]
  },
  {
   "cell_type": "code",
   "execution_count": null,
   "id": "0bdb9302-c377-4a96-a722-67b691f6ae5f",
   "metadata": {},
   "outputs": [],
   "source": [
    "model.get_active_gps()"
   ]
  },
  {
   "cell_type": "code",
   "execution_count": null,
   "id": "d8025a07-59f7-4725-bb34-d0c0104ab5cb",
   "metadata": {},
   "outputs": [],
   "source": [
    "model.active_gp_thresh_ratio_"
   ]
  },
  {
   "cell_type": "code",
   "execution_count": null,
   "id": "2f2a847f-9752-410f-a018-259f75b89f78",
   "metadata": {},
   "outputs": [],
   "source": [
    "arclisi = compute_arclisi(model.adata, cell_type_key=\"celltype_mapped_refined\")"
   ]
  },
  {
   "cell_type": "code",
   "execution_count": null,
   "id": "7777a926-4cef-4b04-b315-3ce6900efdb5",
   "metadata": {},
   "outputs": [],
   "source": []
  },
  {
   "cell_type": "code",
   "execution_count": null,
   "id": "ea5c208b-eab2-45b6-aa65-9fffc70400d4",
   "metadata": {},
   "outputs": [],
   "source": []
  },
  {
   "cell_type": "code",
   "execution_count": null,
   "id": "320c8492-f7c0-4e89-8117-4df98ab4f5fb",
   "metadata": {},
   "outputs": [],
   "source": []
  },
  {
   "cell_type": "code",
   "execution_count": null,
   "id": "66051de5-1a2e-4a2a-a56e-545a84a3914c",
   "metadata": {},
   "outputs": [],
   "source": []
  },
  {
   "cell_type": "markdown",
   "id": "1f53d723-4fd7-49dc-844b-58cf8b9585a2",
   "metadata": {},
   "source": [
    "## 4. Autotalker Model with Cell-Cell-Interaction (CCI) Gene Programs"
   ]
  },
  {
   "cell_type": "markdown",
   "id": "d932b01b-19c1-4d5a-899b-1b985cdc1aaa",
   "metadata": {
    "tags": []
   },
   "source": [
    "### 4.1 OmniPath Ligand Receptor CCI Gene Programs"
   ]
  },
  {
   "cell_type": "markdown",
   "id": "a638a14b-d185-483f-b7a3-024a182e3b41",
   "metadata": {},
   "source": [
    "#### 4.1.1 Create OmniPath CCI Gene Program Mask"
   ]
  },
  {
   "cell_type": "code",
   "execution_count": null,
   "id": "5555bcfc-2e56-4708-8571-fadf98d73dd0",
   "metadata": {},
   "outputs": [],
   "source": [
    "# Load OmniPath ligand-receptor interactions into a gene program dictionary using the OmniPath Python API\n",
    "omnipath_gp_dict = extract_gp_dict_from_omnipath_lr_interactions(\n",
    "    min_curation_effort=0,\n",
    "    load_from_disk=False,\n",
    "    save_to_disk=True,\n",
    "    file_path=omnipath_lr_interactions_file_path)"
   ]
  },
  {
   "cell_type": "code",
   "execution_count": null,
   "id": "a7eddb9b-9a55-4b16-8d87-abdc759c8469",
   "metadata": {},
   "outputs": [],
   "source": [
    "# Filter and combine OmniPath ligand receptor interaction gene programs\n",
    "omnipath_new_gp_dict = filter_and_combine_gp_dict_gps(\n",
    "    gp_dict=omnipath_gp_dict,\n",
    "    gp_filter_mode=None,\n",
    "    combine_overlap_gps=True,\n",
    "    overlap_thresh_source_genes=1.,\n",
    "    overlap_thresh_target_genes=1.,\n",
    "    overlap_thresh_genes=1.,\n",
    "    verbose=True)\n",
    "\n",
    "print(f\"Number of gene programs before filtering and combining: {len(omnipath_gp_dict)}.\")\n",
    "print(f\"Number of gene programs after filtering and combining: {len(omnipath_new_gp_dict)}.\")"
   ]
  },
  {
   "cell_type": "code",
   "execution_count": null,
   "id": "de4d5903-67e0-4bd8-8243-d9cea1485d64",
   "metadata": {},
   "outputs": [],
   "source": [
    "# Add the gene program dictionary as binary masks to the adata for model training\n",
    "add_gps_from_gp_dict_to_adata(\n",
    "    gp_dict=omnipath_new_gp_dict,\n",
    "    adata=adata,\n",
    "    genes_uppercase=True,\n",
    "    gp_targets_mask_key=gp_targets_mask_key,\n",
    "    gp_sources_mask_key=gp_sources_mask_key,\n",
    "    gp_names_key=gp_names_key,\n",
    "    min_genes_per_gp=1,\n",
    "    min_source_genes_per_gp=0,\n",
    "    min_target_genes_per_gp=0,\n",
    "    max_genes_per_gp=None,\n",
    "    max_source_genes_per_gp=None,\n",
    "    max_target_genes_per_gp=None)\n",
    "\n",
    "# Determine dimensionality of hidden encoder\n",
    "n_hidden_encoder = len(adata.uns[gp_names_key])"
   ]
  },
  {
   "cell_type": "code",
   "execution_count": null,
   "id": "a780ad76-b1ad-40b5-97eb-c021e1b5412f",
   "metadata": {},
   "outputs": [],
   "source": [
    "# Summarize gene programs\n",
    "print(f\"Number of gene programs with probed genes: {len(adata.uns['autotalker_gp_names'])}.\")\n",
    "print(f\"Example gene programs: {random.sample(list(adata.uns['autotalker_gp_names']), 5)}.\")\n",
    "print(f\"Number of gene program target genes: {adata.varm['autotalker_gp_targets'].sum()}.\")\n",
    "print(f\"Number of gene program source genes: {adata.varm['autotalker_gp_sources'].sum()}.\")"
   ]
  },
  {
   "cell_type": "markdown",
   "id": "d351836a-c711-49a7-8a92-7b23f33aa293",
   "metadata": {},
   "source": [
    "#### 4.1.2 Initialize, Train & Save Model"
   ]
  },
  {
   "cell_type": "code",
   "execution_count": null,
   "id": "d5f1fc6c-dcf3-44f0-96a9-dc69fbb12c4f",
   "metadata": {},
   "outputs": [],
   "source": [
    "model = Autotalker(adata,\n",
    "                   counts_key=counts_key,\n",
    "                   adj_key=adj_key,\n",
    "                   gp_names_key=gp_names_key,\n",
    "                   active_gp_names_key=active_gp_names_key,\n",
    "                   gp_targets_mask_key=gp_targets_mask_key,\n",
    "                   gp_sources_mask_key=gp_sources_mask_key,\n",
    "                   latent_key=latent_key,\n",
    "                   include_edge_recon_loss=include_edge_recon_loss,\n",
    "                   include_gene_expr_recon_loss=include_gene_expr_recon_loss,\n",
    "                   gene_expr_recon_dist=gene_expr_recon_dist,\n",
    "                   log_variational=log_variational,\n",
    "                   node_label_method=node_label_method,\n",
    "                   active_gp_thresh_ratio=active_gp_thresh_ratio,\n",
    "                   n_hidden_encoder=n_hidden_encoder,\n",
    "                   dropout_rate_encoder=dropout_rate_encoder,\n",
    "                   dropout_rate_graph_decoder=dropout_rate_graph_decoder,\n",
    "                   gp_targets_mask=None,\n",
    "                   gp_sources_mask=None,\n",
    "                   n_addon_gps=0)"
   ]
  },
  {
   "cell_type": "code",
   "execution_count": null,
   "id": "bde3f43f-10e5-4255-b78c-490c6a671fd2",
   "metadata": {},
   "outputs": [],
   "source": [
    "mlflow.end_run()\n",
    "experiment = mlflow.set_experiment(\"autotalker_omnipath_gps\")\n",
    "mlflow.log_param(\"dataset\", dataset)\n",
    "\n",
    "model.train(n_epochs=n_epochs,\n",
    "            n_epochs_no_edge_recon=n_epochs_no_edge_recon,\n",
    "            n_epochs_all_gps=n_epochs_all_gps,\n",
    "            lr=lr,\n",
    "            weight_decay=weight_decay,\n",
    "            lambda_edge_recon=lambda_edge_recon,\n",
    "            lambda_gene_expr_recon=lambda_gene_expr_recon,\n",
    "            lambda_group_lasso=lambda_group_lasso,\n",
    "            lambda_l1_addon=lambda_l1_addon,\n",
    "            edge_val_ratio=edge_val_ratio,\n",
    "            edge_test_ratio=edge_test_ratio,\n",
    "            node_val_ratio=node_val_ratio,\n",
    "            edge_batch_size=edge_batch_size,\n",
    "            node_batch_size=node_batch_size,\n",
    "            mlflow_experiment_id=experiment.experiment_id,\n",
    "            verbose=True)"
   ]
  },
  {
   "cell_type": "code",
   "execution_count": null,
   "id": "f4b44af2-9f20-42f5-9e2d-0504ea06b37b",
   "metadata": {},
   "outputs": [],
   "source": [
    "model.save(dir_path=f\"./model_artefacts/{dataset}/autotalker_omnipath_gps_{current_timestamp}\",\n",
    "           overwrite=True,\n",
    "           save_adata=True,\n",
    "           adata_file_name=f\"{dataset}.h5ad\")"
   ]
  },
  {
   "cell_type": "markdown",
   "id": "7d486c09-09a3-4e19-846c-108b87d071d0",
   "metadata": {},
   "source": [
    "### 4.2 NicheNet Ligand Target Gene CCI Gene Programs"
   ]
  },
  {
   "cell_type": "markdown",
   "id": "e9fc5bf9-a4c0-415a-8e6a-0ac1196f465f",
   "metadata": {},
   "source": [
    "#### 4.2.1 Create NicheNet CCI Gene Program Mask"
   ]
  },
  {
   "cell_type": "code",
   "execution_count": null,
   "id": "42f1b1bf-6271-4a03-ab68-b5c147b338cb",
   "metadata": {},
   "outputs": [],
   "source": [
    "# Load Nichenet ligand target gene interactions into a gene program dictionary using the NicheNet web URL\n",
    "nichenet_gp_dict = extract_gp_dict_from_nichenet_ligand_target_mx(\n",
    "    keep_target_ratio=0.01,\n",
    "    load_from_disk=True,\n",
    "    save_to_disk=True,\n",
    "    file_path=nichenet_ligand_target_mx_file_path)"
   ]
  },
  {
   "cell_type": "code",
   "execution_count": null,
   "id": "63a098c9-2981-460b-9236-bdc2eb1ec33b",
   "metadata": {},
   "outputs": [],
   "source": [
    "# Filter and combine NicheNet ligand target gene interaction gene programs\n",
    "nichenet_new_gp_dict = filter_and_combine_gp_dict_gps(\n",
    "    gp_dict=nichenet_gp_dict,\n",
    "    gp_filter_mode=None,\n",
    "    combine_overlap_gps=True,\n",
    "    overlap_thresh_source_genes=1.,\n",
    "    overlap_thresh_target_genes=1.,\n",
    "    overlap_thresh_genes=1.,\n",
    "    verbose=True)\n",
    "\n",
    "print(f\"Number of gene programs before filtering and combining: {len(nichenet_gp_dict)}.\")\n",
    "print(f\"Number of gene programs after filtering and combining: {len(nichenet_new_gp_dict)}.\")"
   ]
  },
  {
   "cell_type": "code",
   "execution_count": null,
   "id": "b2dcc97d-b621-4fc6-bdcf-a31d6e2c58b1",
   "metadata": {},
   "outputs": [],
   "source": [
    "# Add the gene program dictionary as binary masks to the adata for model training\n",
    "add_gps_from_gp_dict_to_adata(\n",
    "    gp_dict=nichenet_new_gp_dict,\n",
    "    adata=adata,\n",
    "    genes_uppercase=True,\n",
    "    gp_targets_mask_key=gp_targets_mask_key,\n",
    "    gp_sources_mask_key=gp_sources_mask_key,\n",
    "    gp_names_key=gp_names_key,\n",
    "    min_genes_per_gp=1,\n",
    "    min_source_genes_per_gp=0,\n",
    "    min_target_genes_per_gp=0,\n",
    "    max_genes_per_gp=None,\n",
    "    max_source_genes_per_gp=None,\n",
    "    max_target_genes_per_gp=None)\n",
    "\n",
    "# Determine dimensionality of hidden encoder\n",
    "n_hidden_encoder = len(adata.uns[gp_names_key])"
   ]
  },
  {
   "cell_type": "code",
   "execution_count": null,
   "id": "0c01ecae-f69c-44eb-9cdc-2b84c593b4eb",
   "metadata": {},
   "outputs": [],
   "source": [
    "# Summarize gene programs\n",
    "print(f\"Number of gene programs with probed genes: {len(adata.uns['autotalker_gp_names'])}.\")\n",
    "print(f\"Example gene programs: {random.sample(list(adata.uns['autotalker_gp_names']), 5)}.\")\n",
    "print(f\"Number of gene program target genes: {adata.varm['autotalker_gp_targets'].sum()}.\")\n",
    "print(f\"Number of gene program source genes: {adata.varm['autotalker_gp_sources'].sum()}.\")"
   ]
  },
  {
   "cell_type": "markdown",
   "id": "613311cd-163b-485e-92ae-7dc5e21336ef",
   "metadata": {},
   "source": [
    "#### 4.2.2 Initialize, Train & Save Model"
   ]
  },
  {
   "cell_type": "code",
   "execution_count": null,
   "id": "8a4452c6-0e6d-422e-9d29-311ac9270ad0",
   "metadata": {},
   "outputs": [],
   "source": [
    "model = Autotalker(adata,\n",
    "                   counts_key=counts_key,\n",
    "                   adj_key=adj_key,\n",
    "                   gp_names_key=gp_names_key,\n",
    "                   active_gp_names_key=active_gp_names_key,\n",
    "                   gp_targets_mask_key=gp_targets_mask_key,\n",
    "                   gp_sources_mask_key=gp_sources_mask_key,\n",
    "                   latent_key=latent_key,\n",
    "                   include_edge_recon_loss=include_edge_recon_loss,\n",
    "                   include_gene_expr_recon_loss=include_gene_expr_recon_loss,\n",
    "                   gene_expr_recon_dist=gene_expr_recon_dist,\n",
    "                   log_variational=log_variational,\n",
    "                   node_label_method=node_label_method,\n",
    "                   active_gp_thresh_ratio=active_gp_thresh_ratio,\n",
    "                   n_hidden_encoder=n_hidden_encoder,\n",
    "                   dropout_rate_encoder=dropout_rate_encoder,\n",
    "                   dropout_rate_graph_decoder=dropout_rate_graph_decoder,\n",
    "                   gp_targets_mask=None,\n",
    "                   gp_sources_mask=None,\n",
    "                   n_addon_gps=0)"
   ]
  },
  {
   "cell_type": "code",
   "execution_count": null,
   "id": "2c78489a-fe9f-421a-8f1d-926a30cc0c1b",
   "metadata": {},
   "outputs": [],
   "source": [
    "mlflow.end_run()\n",
    "experiment = mlflow.set_experiment(\"autotalker_nichenet_gps\")\n",
    "mlflow.log_param(\"dataset\", dataset)\n",
    "\n",
    "model.train(n_epochs=n_epochs,\n",
    "            n_epochs_no_edge_recon=n_epochs_no_edge_recon,\n",
    "            n_epochs_all_gps=n_epochs_all_gps,\n",
    "            lr=lr,\n",
    "            weight_decay=weight_decay,\n",
    "            lambda_edge_recon=lambda_edge_recon,\n",
    "            lambda_gene_expr_recon=lambda_gene_expr_recon,\n",
    "            lambda_group_lasso=lambda_group_lasso,\n",
    "            lambda_l1_addon=lambda_l1_addon,\n",
    "            edge_val_ratio=edge_val_ratio,\n",
    "            edge_test_ratio=edge_test_ratio,\n",
    "            node_val_ratio=node_val_ratio,\n",
    "            edge_batch_size=edge_batch_size,\n",
    "            node_batch_size=node_batch_size,\n",
    "            mlflow_experiment_id=experiment.experiment_id,\n",
    "            verbose=True)"
   ]
  },
  {
   "cell_type": "code",
   "execution_count": null,
   "id": "209adbe0-a73c-464d-bfd1-4300c8d8a371",
   "metadata": {},
   "outputs": [],
   "source": [
    "model.save(dir_path=f\"./model_artefacts/{dataset}/autotalker_nichenet_gps_{current_timestamp}\",\n",
    "           overwrite=True,\n",
    "           save_adata=True,\n",
    "           adata_file_name=f\"{dataset}.h5ad\")"
   ]
  },
  {
   "cell_type": "markdown",
   "id": "8a8f9c8c-1939-4372-bf56-d7d1a3a6851b",
   "metadata": {},
   "source": [
    "### 4.3 MEBOCOST Metabolite Enzyme Sensor CCI Gene Programs"
   ]
  },
  {
   "cell_type": "markdown",
   "id": "890f7f59-3f5f-4c47-9809-07c68ae029e4",
   "metadata": {},
   "source": [
    "#### 4.3.1 Create MEBOCOST CCI Gene Program Mask"
   ]
  },
  {
   "cell_type": "code",
   "execution_count": null,
   "id": "98b6d62b-6ac9-4ee8-8ffc-32a10df0126f",
   "metadata": {},
   "outputs": [],
   "source": [
    "# Load MEBOCOST metabolite enzyme sensor gene interactions into a gene program dictionary\n",
    "# using the data from the autotalker package\n",
    "mebocost_gp_dict = extract_gp_dict_from_mebocost_es_interactions(species=\"mouse\",\n",
    "                                                                 genes_uppercase=True)"
   ]
  },
  {
   "cell_type": "code",
   "execution_count": null,
   "id": "47f02714-6b66-4a93-88f1-11a8d86eee23",
   "metadata": {},
   "outputs": [],
   "source": [
    "# Filter and combine MEBOCOST metabolite enzyme sensor gene interaction gene programs\n",
    "mebocost_new_gp_dict = filter_and_combine_gp_dict_gps(\n",
    "    gp_dict=mebocost_gp_dict,\n",
    "    gp_filter_mode=None,\n",
    "    combine_overlap_gps=True,\n",
    "    overlap_thresh_source_genes=1.,\n",
    "    overlap_thresh_target_genes=1.,\n",
    "    overlap_thresh_genes=1.,\n",
    "    verbose=True)\n",
    "\n",
    "print(f\"Number of gene programs before filtering and combining: {len(mebocost_gp_dict)}.\")\n",
    "print(f\"Number of gene programs after filtering and combining: {len(mebocost_new_gp_dict)}.\")"
   ]
  },
  {
   "cell_type": "code",
   "execution_count": null,
   "id": "b779eece-cafc-4a34-8ed2-7b05d746b304",
   "metadata": {},
   "outputs": [],
   "source": [
    "# Add the gene program dictionary as binary masks to the adata for model training\n",
    "add_gps_from_gp_dict_to_adata(\n",
    "    gp_dict=mebocost_new_gp_dict,\n",
    "    adata=adata,\n",
    "    genes_uppercase=True,\n",
    "    gp_targets_mask_key=gp_targets_mask_key,\n",
    "    gp_sources_mask_key=gp_sources_mask_key,\n",
    "    gp_names_key=gp_names_key,\n",
    "    min_genes_per_gp=1,\n",
    "    min_source_genes_per_gp=0,\n",
    "    min_target_genes_per_gp=0,\n",
    "    max_genes_per_gp=None,\n",
    "    max_source_genes_per_gp=None,\n",
    "    max_target_genes_per_gp=None)\n",
    "\n",
    "# Determine dimensionality of hidden encoder\n",
    "n_hidden_encoder = len(adata.uns[gp_names_key])"
   ]
  },
  {
   "cell_type": "code",
   "execution_count": null,
   "id": "f7f4467f-6f42-4fb9-8975-b46c90362d60",
   "metadata": {},
   "outputs": [],
   "source": [
    "# Summarize gene programs\n",
    "print(f\"Number of gene programs with probed genes: {len(adata.uns['autotalker_gp_names'])}.\")\n",
    "print(f\"Example gene programs: {random.sample(list(adata.uns['autotalker_gp_names']), 5)}.\")\n",
    "print(f\"Number of gene program target genes: {adata.varm['autotalker_gp_targets'].sum()}.\")\n",
    "print(f\"Number of gene program source genes: {adata.varm['autotalker_gp_sources'].sum()}.\")"
   ]
  },
  {
   "cell_type": "markdown",
   "id": "dcdb0dd0-33e7-46ac-97f1-ba76d87b5b12",
   "metadata": {},
   "source": [
    "#### 4.3.2 Initialize, Train & Save Model"
   ]
  },
  {
   "cell_type": "code",
   "execution_count": null,
   "id": "6fa6d0cd-ddc8-4224-9e2c-da9dc2da7c16",
   "metadata": {},
   "outputs": [],
   "source": [
    "model = Autotalker(adata,\n",
    "                   counts_key=counts_key,\n",
    "                   adj_key=adj_key,\n",
    "                   gp_names_key=gp_names_key,\n",
    "                   active_gp_names_key=active_gp_names_key,\n",
    "                   gp_targets_mask_key=gp_targets_mask_key,\n",
    "                   gp_sources_mask_key=gp_sources_mask_key,\n",
    "                   latent_key=latent_key,\n",
    "                   include_edge_recon_loss=include_edge_recon_loss,\n",
    "                   include_gene_expr_recon_loss=include_gene_expr_recon_loss,\n",
    "                   gene_expr_recon_dist=gene_expr_recon_dist,\n",
    "                   log_variational=log_variational,\n",
    "                   node_label_method=node_label_method,\n",
    "                   active_gp_thresh_ratio=active_gp_thresh_ratio,\n",
    "                   n_hidden_encoder=n_hidden_encoder,\n",
    "                   dropout_rate_encoder=dropout_rate_encoder,\n",
    "                   dropout_rate_graph_decoder=dropout_rate_graph_decoder,\n",
    "                   gp_targets_mask=None,\n",
    "                   gp_sources_mask=None,\n",
    "                   n_addon_gps=0)"
   ]
  },
  {
   "cell_type": "code",
   "execution_count": null,
   "id": "b4cd88f0-a50b-4a2f-8af2-57f90b9f29ef",
   "metadata": {},
   "outputs": [],
   "source": [
    "mlflow.end_run()\n",
    "experiment = mlflow.set_experiment(\"autotalker_mebocost_gps\")\n",
    "mlflow.log_param(\"dataset\", dataset)\n",
    "\n",
    "model.train(n_epochs=n_epochs,\n",
    "            n_epochs_no_edge_recon=n_epochs_no_edge_recon,\n",
    "            n_epochs_all_gps=n_epochs_all_gps,\n",
    "            lr=lr,\n",
    "            weight_decay=weight_decay,\n",
    "            lambda_edge_recon=lambda_edge_recon,\n",
    "            lambda_gene_expr_recon=lambda_gene_expr_recon,\n",
    "            lambda_group_lasso=lambda_group_lasso,\n",
    "            lambda_l1_addon=lambda_l1_addon,\n",
    "            edge_val_ratio=edge_val_ratio,\n",
    "            edge_test_ratio=edge_test_ratio,\n",
    "            node_val_ratio=node_val_ratio,\n",
    "            edge_batch_size=edge_batch_size,\n",
    "            node_batch_size=node_batch_size,\n",
    "            mlflow_experiment_id=experiment.experiment_id,\n",
    "            verbose=True)"
   ]
  },
  {
   "cell_type": "code",
   "execution_count": null,
   "id": "dfc19acc-7be9-45a5-ac98-53803b92f000",
   "metadata": {},
   "outputs": [],
   "source": [
    "model.save(dir_path=f\"./model_artefacts/{dataset}/autotalker_mebocost_gps_{current_timestamp}\",\n",
    "           overwrite=True,\n",
    "           save_adata=True,\n",
    "           adata_file_name=f\"{dataset}.h5ad\")"
   ]
  },
  {
   "cell_type": "markdown",
   "id": "e88ce7fe-22ee-4f5b-9319-394c1eb434a4",
   "metadata": {},
   "source": [
    "### 4.4 Combined Prior Knowledge CCI Gene Programs"
   ]
  },
  {
   "cell_type": "markdown",
   "id": "dac907fa-88f6-452d-add9-fc3dcd2f99e0",
   "metadata": {},
   "source": [
    "#### 4.4.1 Create Combined Prior Knowledge CCI Gene Program Mask"
   ]
  },
  {
   "cell_type": "code",
   "execution_count": null,
   "id": "ce3d2721-7054-4761-8032-e1641c2523a3",
   "metadata": {},
   "outputs": [],
   "source": [
    "nichenet_gp_dict = extract_gp_dict_from_nichenet_ligand_target_mx(\n",
    "    keep_target_ratio=0.1,\n",
    "    load_from_disk=True,\n",
    "    save_to_disk=True,\n",
    "    file_path=nichenet_ligand_target_mx_file_path)"
   ]
  },
  {
   "cell_type": "code",
   "execution_count": null,
   "id": "5c9d262a-f54a-40bc-aa63-eb6f42a28886",
   "metadata": {},
   "outputs": [],
   "source": [
    "omnipath_gp_dict = extract_gp_dict_from_omnipath_lr_interactions(\n",
    "    min_curation_effort=0,\n",
    "    load_from_disk=False,\n",
    "    save_to_disk=True,\n",
    "    file_path=omnipath_lr_interactions_file_path)"
   ]
  },
  {
   "cell_type": "code",
   "execution_count": null,
   "id": "ae0f307d-68f8-4003-89bc-b9ded45569a9",
   "metadata": {},
   "outputs": [],
   "source": [
    "mebocost_gp_dict = extract_gp_dict_from_mebocost_es_interactions(\n",
    "    species=\"mouse\",\n",
    "    genes_uppercase=True)"
   ]
  },
  {
   "cell_type": "code",
   "execution_count": null,
   "id": "85b8c216-c3e0-43bb-8de6-24796912dd67",
   "metadata": {},
   "outputs": [],
   "source": [
    "# Combine gene programs into one dictionary\n",
    "combined_gp_dict = dict(nichenet_gp_dict)\n",
    "combined_gp_dict.update(omnipath_gp_dict)\n",
    "combined_gp_dict.update(mebocost_gp_dict)"
   ]
  },
  {
   "cell_type": "code",
   "execution_count": null,
   "id": "cdc8cb30-2ad9-4903-9a8d-4deb60ffcbbb",
   "metadata": {},
   "outputs": [],
   "source": [
    "# Filter and combine combined gene interaction gene programs\n",
    "combined_new_gp_dict = filter_and_combine_gp_dict_gps(\n",
    "    gp_dict=combined_gp_dict,\n",
    "    gp_filter_mode=None, #\"subset\",\n",
    "    combine_overlap_gps=False, #True,\n",
    "    overlap_thresh_source_genes=0.9,\n",
    "    overlap_thresh_target_genes=0.9,\n",
    "    overlap_thresh_genes=0.9,\n",
    "    verbose=True)\n",
    "\n",
    "print(f\"Number of gene programs before filtering and combining: {len(combined_gp_dict)}.\")\n",
    "print(f\"Number of gene programs after filtering and combining: {len(combined_new_gp_dict)}.\")"
   ]
  },
  {
   "cell_type": "code",
   "execution_count": null,
   "id": "6f13773c-e6c1-4786-b663-8d26f4328f4d",
   "metadata": {},
   "outputs": [],
   "source": [
    "# Add the gene program dictionary as binary masks to the adata for model training\n",
    "add_gps_from_gp_dict_to_adata(\n",
    "    gp_dict=combined_new_gp_dict,\n",
    "    adata=adata,\n",
    "    genes_uppercase=True,\n",
    "    gp_targets_mask_key=gp_targets_mask_key,\n",
    "    gp_sources_mask_key=gp_sources_mask_key,\n",
    "    gp_names_key=gp_names_key,\n",
    "    min_genes_per_gp=1,\n",
    "    min_source_genes_per_gp=0,\n",
    "    min_target_genes_per_gp=0,\n",
    "    max_genes_per_gp=None,\n",
    "    max_source_genes_per_gp=None,\n",
    "    max_target_genes_per_gp=None)\n",
    "\n",
    "# Determine dimensionality of hidden encoder\n",
    "n_hidden_encoder = len(adata.uns[gp_names_key])"
   ]
  },
  {
   "cell_type": "code",
   "execution_count": null,
   "id": "ffaa16ff-7391-42b7-8bcc-62ddb43c3502",
   "metadata": {},
   "outputs": [],
   "source": [
    "# Summarize gene programs\n",
    "print(f\"Number of gene programs with probed genes: {len(adata.uns['autotalker_gp_names'])}.\")\n",
    "print(f\"Example gene programs: {random.sample(list(adata.uns['autotalker_gp_names']), 5)}.\")\n",
    "print(f\"Number of gene program target genes: {adata.varm['autotalker_gp_targets'].sum()}.\")\n",
    "print(f\"Number of gene program source genes: {adata.varm['autotalker_gp_sources'].sum()}.\")"
   ]
  },
  {
   "cell_type": "markdown",
   "id": "2d621701-56aa-4b22-90c6-20e5d1166774",
   "metadata": {},
   "source": [
    "#### 4.4.2 Initialize, Train & Save Model"
   ]
  },
  {
   "cell_type": "code",
   "execution_count": null,
   "id": "b153e8e9-58fc-46f1-b230-cff0590df4f7",
   "metadata": {},
   "outputs": [],
   "source": [
    "model = Autotalker(adata,\n",
    "                   counts_key=counts_key,\n",
    "                   adj_key=adj_key,\n",
    "                   gp_names_key=gp_names_key,\n",
    "                   active_gp_names_key=active_gp_names_key,\n",
    "                   gp_targets_mask_key=gp_targets_mask_key,\n",
    "                   gp_sources_mask_key=gp_sources_mask_key,\n",
    "                   latent_key=latent_key,\n",
    "                   include_edge_recon_loss=include_edge_recon_loss,\n",
    "                   include_gene_expr_recon_loss=include_gene_expr_recon_loss,\n",
    "                   gene_expr_recon_dist=gene_expr_recon_dist,\n",
    "                   log_variational=log_variational,\n",
    "                   node_label_method=node_label_method,\n",
    "                   active_gp_thresh_ratio=active_gp_thresh_ratio,\n",
    "                   n_hidden_encoder=n_hidden_encoder,\n",
    "                   dropout_rate_encoder=dropout_rate_encoder,\n",
    "                   dropout_rate_graph_decoder=dropout_rate_graph_decoder,\n",
    "                   gp_targets_mask=None,\n",
    "                   gp_sources_mask=None,\n",
    "                   n_addon_gps=0)"
   ]
  },
  {
   "cell_type": "code",
   "execution_count": null,
   "id": "35180e43-529c-4f91-8219-729b3b7bf0ec",
   "metadata": {},
   "outputs": [],
   "source": [
    "mlflow.end_run()\n",
    "experiment = mlflow.set_experiment(\"autotalker_combined_gps\")\n",
    "mlflow.log_param(\"dataset\", dataset)\n",
    "\n",
    "model.train(n_epochs=n_epochs,\n",
    "            n_epochs_no_edge_recon=n_epochs_no_edge_recon,\n",
    "            n_epochs_all_gps=n_epochs_all_gps,\n",
    "            lr=lr,\n",
    "            weight_decay=weight_decay,\n",
    "            lambda_edge_recon=lambda_edge_recon,\n",
    "            lambda_gene_expr_recon=lambda_gene_expr_recon,\n",
    "            lambda_group_lasso=lambda_group_lasso,\n",
    "            lambda_l1_addon=lambda_l1_addon,\n",
    "            edge_val_ratio=edge_val_ratio,\n",
    "            edge_test_ratio=edge_test_ratio,\n",
    "            node_val_ratio=node_val_ratio,\n",
    "            edge_batch_size=edge_batch_size,\n",
    "            node_batch_size=node_batch_size,\n",
    "            mlflow_experiment_id=experiment.experiment_id,\n",
    "            verbose=True)"
   ]
  },
  {
   "cell_type": "code",
   "execution_count": null,
   "id": "ff5a16e2-164f-443b-9bf1-6807163922b6",
   "metadata": {},
   "outputs": [],
   "source": [
    "# Check number of active gene programs\n",
    "model.adata.obsm[\"autotalker_latent\"].shape"
   ]
  },
  {
   "cell_type": "code",
   "execution_count": null,
   "id": "f2abbb4e-aae7-4f5e-9d9a-68c2ec11c9bf",
   "metadata": {},
   "outputs": [],
   "source": [
    "model.save(dir_path=f\"./model_artefacts/{dataset}/autotalker_combined_gps_{current_timestamp}\",\n",
    "           overwrite=True,\n",
    "           save_adata=True,\n",
    "           adata_file_name=f\"{dataset}.h5ad\")"
   ]
  },
  {
   "cell_type": "markdown",
   "id": "6bfc66c9-17eb-4221-b125-985a0f69d51c",
   "metadata": {},
   "source": [
    "### 4.5 Learn New CCI Gene Programs"
   ]
  },
  {
   "cell_type": "code",
   "execution_count": null,
   "id": "2a7e3bb4-e4c2-4969-99d4-28b682053df8",
   "metadata": {},
   "outputs": [],
   "source": [
    "model = Autotalker.load(dir_path=f\"./model_artefacts/{dataset}/autotalker_combined_gps_{current_timestamp}\",\n",
    "                        adata=None,\n",
    "                        adata_file_name=f\"{dataset}.h5ad\",\n",
    "                        n_addon_gps=10,\n",
    "                        gp_names_key=gp_names_key,\n",
    "                        freeze_non_addon_weights=True)"
   ]
  },
  {
   "cell_type": "code",
   "execution_count": null,
   "id": "16bffbc8-a6ba-480d-9815-16a02a5687f4",
   "metadata": {},
   "outputs": [],
   "source": [
    "mlflow.end_run()\n",
    "experiment = mlflow.set_experiment(\"autotalker_combined_denovo_gps\")\n",
    "mlflow.log_param(\"dataset\", dataset)\n",
    "\n",
    "model.train(n_epochs=n_epochs,\n",
    "            n_epochs_no_edge_recon=n_epochs_no_edge_recon,\n",
    "            n_epochs_all_gps=n_epochs_all_gps,\n",
    "            lr=lr,\n",
    "            weight_decay=weight_decay,\n",
    "            lambda_edge_recon=lambda_edge_recon,\n",
    "            lambda_gene_expr_recon=lambda_gene_expr_recon,\n",
    "            lambda_group_lasso=lambda_group_lasso,\n",
    "            lambda_l1_addon=lambda_l1_addon,\n",
    "            edge_val_ratio=edge_val_ratio,\n",
    "            edge_test_ratio=edge_test_ratio,\n",
    "            node_val_ratio=node_val_ratio,\n",
    "            edge_batch_size=edge_batch_size,\n",
    "            node_batch_size=node_batch_size,\n",
    "            mlflow_experiment_id=experiment.experiment_id,\n",
    "            verbose=True)"
   ]
  },
  {
   "cell_type": "code",
   "execution_count": null,
   "id": "fc3379b8-dc79-42c5-b304-d4672c045ba8",
   "metadata": {},
   "outputs": [],
   "source": [
    "model.save(dir_path=f\"./model_artefacts/{dataset}/autotalker_combined_denovo_gps_{current_timestamp}\",\n",
    "           overwrite=True,\n",
    "           save_adata=True,\n",
    "           adata_file_name=f\"{dataset}.h5ad\")"
   ]
  },
  {
   "cell_type": "markdown",
   "id": "7973cba5-1cab-4ce8-b76f-6e3af8ae46f5",
   "metadata": {},
   "source": [
    "## 6. Analysis"
   ]
  },
  {
   "cell_type": "code",
   "execution_count": null,
   "id": "5d832601-d2cf-4ddb-af1a-9dac23c6528b",
   "metadata": {},
   "outputs": [],
   "source": [
    "active_gps = model.get_active_gps()\n",
    "print(f\"Number of total gene programs: {len(model.adata.uns[gp_names_key])}.\")\n",
    "print(f\"Number of active gene programs: {len(active_gps)}.\")"
   ]
  },
  {
   "cell_type": "code",
   "execution_count": null,
   "id": "1a720fbe-834f-4863-a018-3ff2c06b5996",
   "metadata": {},
   "outputs": [],
   "source": [
    "active_gps"
   ]
  },
  {
   "cell_type": "code",
   "execution_count": null,
   "id": "a54055fc-9182-4798-bf7d-7d40b5d9beef",
   "metadata": {},
   "outputs": [],
   "source": [
    "# Use autotalker latent space for UMAP generation\n",
    "sc.pp.neighbors(model.adata, use_rep=latent_key)\n",
    "sc.tl.umap(model.adata, min_dist=0.3)"
   ]
  },
  {
   "cell_type": "markdown",
   "id": "e2327693-3e14-421d-9447-69f37dc10944",
   "metadata": {},
   "source": [
    "### 6.1 Cell-type Annotations in Physical and Latent Space"
   ]
  },
  {
   "cell_type": "code",
   "execution_count": null,
   "id": "3978e1bf-a054-41d6-8389-3dbbaac03579",
   "metadata": {},
   "outputs": [],
   "source": [
    "# Create subplot of cell-type annotations in physical and latent space\n",
    "fig, axs = plt.subplots(nrows=2, ncols=1, figsize=(10, 20))\n",
    "title = fig.suptitle(t=\"Cell-type Annotations in Physical and Latent Space\",\n",
    "                     x=0.85,\n",
    "                     y=0.925,\n",
    "                     fontsize=20)\n",
    "sc.pl.spatial(adata=model.adata,\n",
    "              color=[cell_type_key],\n",
    "              spot_size=0.03,\n",
    "              title=\"Physical Space\",\n",
    "              ax=axs[0],\n",
    "              show=False)\n",
    "sc.pl.umap(adata=model.adata,\n",
    "           color=[cell_type_key],\n",
    "           title=\"Latent Space\",\n",
    "           ax=axs[1],\n",
    "           show=False)\n",
    "\n",
    "# Create and position shared legend\n",
    "handles, labels = axs[0].get_legend_handles_labels()\n",
    "lgd = fig.legend(handles, labels, bbox_to_anchor=(1.225, 0.625))\n",
    "axs[0].get_legend().remove()\n",
    "axs[1].get_legend().remove()\n",
    "\n",
    "# Adjust, save and display plot\n",
    "plt.subplots_adjust(wspace=0, hspace=0.1)\n",
    "fig.savefig(f\"figures/analysis/{dataset}/cell_type_annotations_in_physical_and_latent_space_{current_timestamp}.png\",\n",
    "            bbox_extra_artists=(lgd, title),\n",
    "            bbox_inches=\"tight\")\n",
    "plt.show()"
   ]
  },
  {
   "cell_type": "markdown",
   "id": "92ef6859-0bdd-4f7b-bf71-3a8f182b982c",
   "metadata": {},
   "source": [
    "### 6.2 Latent Leiden Cluster Annotations in Latent and Physical Space"
   ]
  },
  {
   "cell_type": "code",
   "execution_count": null,
   "id": "3f3c63dd-3fc7-4154-af1b-0dae55cf3c8d",
   "metadata": {},
   "outputs": [],
   "source": [
    "model.compute_latent_graph_connectivities(adata=model.adata,\n",
    "                                          n_neighbors=8,\n",
    "                                          mode=\"knn\",\n",
    "                                          seed=random_seed)"
   ]
  },
  {
   "cell_type": "code",
   "execution_count": null,
   "id": "a6ad8032-956b-464b-8ead-ac6ea5dc6d26",
   "metadata": {},
   "outputs": [],
   "source": [
    "# Compute latent Leiden clustering\n",
    "resolution = 0.3\n",
    "\n",
    "sc.tl.leiden(adata=model.adata,\n",
    "             resolution=resolution,\n",
    "             random_state=random_seed,\n",
    "             key_added=f\"latent_leiden_{str(resolution)}\",\n",
    "             adjacency=model.adata.obsp[\"latent_connectivities\"])\n",
    "\n",
    "# Compute UMAP for latent Leiden clusters\n",
    "sc.pp.neighbors(adata=model.adata, use_rep=latent_key)\n",
    "sc.tl.umap(adata=model.adata, min_dist=0.3)"
   ]
  },
  {
   "cell_type": "code",
   "execution_count": null,
   "id": "b8ad37d6-4503-4595-98cc-ac25d4a5ab89",
   "metadata": {},
   "outputs": [],
   "source": [
    "# Create subplot of latent Leiden cluster annotations in physical and latent space\n",
    "fig, axs = plt.subplots(nrows=2, ncols=1, figsize=(10, 20))\n",
    "title = fig.suptitle(t=\"Latent Leiden Cluster Annotations in Latent and Physical Space\",\n",
    "                     x=0.85,\n",
    "                     y=0.925,\n",
    "                     fontsize=20)\n",
    "sc.pl.umap(adata=model.adata,\n",
    "           color=[f\"latent_leiden_{str(resolution)}\"],\n",
    "           color_map=\"magma\",\n",
    "           title=f\"Latent Space\",\n",
    "           ax=axs[0],\n",
    "           show=False)\n",
    "sc.pl.spatial(adata=model.adata,\n",
    "              color=[f\"latent_leiden_{str(resolution)}\"],\n",
    "              color_map=\"magma\",\n",
    "              spot_size=0.03,\n",
    "              title=f\"Physical Space\",\n",
    "              ax=axs[1],\n",
    "              show=False)\n",
    "\n",
    "# Create and position shared legend\n",
    "handles, labels = axs[0].get_legend_handles_labels()\n",
    "lgd = fig.legend(handles, labels, bbox_to_anchor=(1.025, 0.7))\n",
    "axs[0].get_legend().remove()\n",
    "axs[1].get_legend().remove()\n",
    "\n",
    "# Adjust, save and display plot\n",
    "plt.subplots_adjust(wspace=0, hspace=0.1)\n",
    "fig.savefig(f\"figures/analysis/{dataset}/latent_leiden_cluster_annotations_in_latent_and_physical_space_{current_timestamp}.png\",\n",
    "            bbox_extra_artists=(lgd, title),\n",
    "            bbox_inches=\"tight\")\n",
    "plt.show()"
   ]
  },
  {
   "cell_type": "markdown",
   "id": "06e25698-fcfd-4f05-93b6-86cf42f17582",
   "metadata": {},
   "source": [
    "### 6.3 Gene Program Enrichments"
   ]
  },
  {
   "cell_type": "markdown",
   "id": "fbbbfa47-3b4d-4ee3-a95f-0a4ab03bc6da",
   "metadata": {},
   "source": [
    "#### 6.3.1 Cell-type Gene Program Enrichments"
   ]
  },
  {
   "cell_type": "code",
   "execution_count": null,
   "id": "adf68073-51ca-4c0f-977c-9d89f7f93867",
   "metadata": {},
   "outputs": [],
   "source": [
    "differential_gp_scores_key = \"autotalker_cell_type_differential_gp_scores\"\n",
    "n_top_up_gps = 6\n",
    "n_top_down_gps = 6"
   ]
  },
  {
   "cell_type": "markdown",
   "id": "97bbd6da-19b2-41c3-99f7-0438d60b5e7a",
   "metadata": {},
   "source": [
    "##### 6.3.1.1 Explore All GPs Across All Categories"
   ]
  },
  {
   "cell_type": "code",
   "execution_count": null,
   "id": "6cd1d337-8c7c-408b-af4c-ef1bc0db25a3",
   "metadata": {},
   "outputs": [],
   "source": [
    "# Compute gene program enrichments and retrieve top up- and downregulated gene programs\n",
    "top_unique_gps = model.compute_differential_gp_scores(cat_key=cell_type_key,\n",
    "                                                      adata=model.adata,\n",
    "                                                      selected_gps=None,\n",
    "                                                      selected_cats=None,\n",
    "                                                      gp_scores_weight_normalization=False,\n",
    "                                                      comparison_cats=\"rest\",\n",
    "                                                      n_sample=1000,\n",
    "                                                      key_added=differential_gp_scores_key,\n",
    "                                                      n_top_up_gps_retrieved=n_top_up_gps,\n",
    "                                                      n_top_down_gps_retrieved=n_top_down_gps,\n",
    "                                                      seed=random_seed)"
   ]
  },
  {
   "cell_type": "code",
   "execution_count": null,
   "id": "3c6841f3-20fc-46ba-976f-4cf3797146d6",
   "metadata": {},
   "outputs": [],
   "source": [
    "# Display top upregulated gene programs\n",
    "top_up_gp_df = model.adata.uns[differential_gp_scores_key][:n_top_up_gps]\n",
    "display(top_up_gp_df)"
   ]
  },
  {
   "cell_type": "code",
   "execution_count": null,
   "id": "88caddc2-7fc5-4e91-9c86-48d03771052e",
   "metadata": {},
   "outputs": [],
   "source": [
    "# Display top downregulated gene programs\n",
    "top_down_gp_df = model.adata.uns[differential_gp_scores_key][-n_top_down_gps:][::-1]\n",
    "display(top_down_gp_df)"
   ]
  },
  {
   "cell_type": "code",
   "execution_count": null,
   "id": "3303c3a8-d0ad-4f27-bd46-6244d710e9bf",
   "metadata": {},
   "outputs": [],
   "source": [
    "fig = sc.pl.dotplot(model.adata,\n",
    "                    top_unique_gps,\n",
    "                    groupby=cell_type_key,\n",
    "                    dendrogram=True, \n",
    "                    title=\"Differential GP Scores Per Cell-type\",\n",
    "                    return_fig=True)\n",
    "\n",
    "# Save and display plot\n",
    "fig.savefig(f\"figures/analysis/{dataset}/differential_gp_scores_per_cell_type_all_categories_{current_timestamp}.png\")\n",
    "plt.show()"
   ]
  },
  {
   "cell_type": "code",
   "execution_count": null,
   "id": "65f355ac-0b4b-4a0f-91b0-679e7a331bf6",
   "metadata": {},
   "outputs": [],
   "source": [
    "top_cats = top_up_gp_df[\"category\"].append(top_down_gp_df[\"category\"]).to_list()\n",
    "top_gps = top_up_gp_df[\"gene_program\"].append(top_down_gp_df[\"gene_program\"]).to_list()\n",
    "top_genes = []\n",
    "\n",
    "for gp in top_gps:\n",
    "    top_genes.append(\n",
    "        model.compute_gp_gene_importances(selected_gp=gp)[\"gene\"][0])"
   ]
  },
  {
   "cell_type": "code",
   "execution_count": null,
   "id": "fc60fac3-f5d4-4fa3-b081-db025e15d455",
   "metadata": {},
   "outputs": [],
   "source": [
    "# Plot selected gene program latent scores\n",
    "fig, axs = plt.subplots(nrows=n_top_up_gps+n_top_down_gps, ncols=3, figsize=(18, 4*len(top_gps)))\n",
    "title = fig.suptitle(t=\"Differential GP Scores, Corresponding Cell-Types and Most Important GP Genes in Latent Space\",\n",
    "                     x=0.55,\n",
    "                     y=0.96,\n",
    "                     fontsize=20)\n",
    "for i in range(len(top_gps)):\n",
    "    sc.pl.umap(model.adata, color=top_gps[i], color_map=\"magma\", ax=axs[i, 0], show=False)\n",
    "    sc.pl.umap(model.adata,\n",
    "               color=[cell_type_key],\n",
    "               color_map=\"magma\",\n",
    "               groups=top_cats[i],\n",
    "               ax=axs[i, 1],\n",
    "               legend_loc=\"on data\",\n",
    "               na_in_legend=False,\n",
    "               show=False)\n",
    "    sc.pl.umap(model.adata,\n",
    "               color=top_genes[i],\n",
    "               color_map=\"binary\",\n",
    "               ax=axs[i, 2],\n",
    "               legend_loc=\"on data\",\n",
    "               na_in_legend=False,\n",
    "               show=False)\n",
    "    \n",
    "# Save and display plot\n",
    "fig.savefig(f\"figures/analysis/{dataset}/cell_type_gp_scores_cell_types_most_important_genes_{current_timestamp}.png\",\n",
    "            bbox_extra_artists=(title,),\n",
    "            bbox_inches=\"tight\")\n",
    "plt.show()"
   ]
  },
  {
   "cell_type": "markdown",
   "id": "dc75ff5a-84e5-403f-baf9-125bc593f2b8",
   "metadata": {},
   "source": [
    "##### 6.3.1.2 Explore All GPs Across Specific Categories"
   ]
  },
  {
   "cell_type": "code",
   "execution_count": null,
   "id": "ef8a5bc9-e9e0-4f54-b4d9-9917d734033b",
   "metadata": {},
   "outputs": [],
   "source": [
    "selected_cats = [\"Erythroid\", \"Endothelium\"]"
   ]
  },
  {
   "cell_type": "code",
   "execution_count": null,
   "id": "13dda992-e162-4ad5-8f1a-3e586d053376",
   "metadata": {},
   "outputs": [],
   "source": [
    "# Compute gene program enrichments and retrieve top up- and downregulated gene programs\n",
    "top_unique_gps = model.compute_differential_gp_scores(cat_key=cell_type_key,\n",
    "                                                      adata=model.adata,\n",
    "                                                      selected_gps=None,\n",
    "                                                      selected_cats=selected_cats,\n",
    "                                                      gp_scores_weight_normalization=False,\n",
    "                                                      comparison_cats=\"rest\",\n",
    "                                                      n_sample=1000,\n",
    "                                                      key_added=differential_gp_scores_key,\n",
    "                                                      n_top_up_gps_retrieved=n_top_up_gps,\n",
    "                                                      n_top_down_gps_retrieved=n_top_down_gps,\n",
    "                                                      seed=random_seed)"
   ]
  },
  {
   "cell_type": "code",
   "execution_count": null,
   "id": "7d3983fd-a368-4619-a98e-1141aec0a2d6",
   "metadata": {},
   "outputs": [],
   "source": [
    "# Display top upregulated gene programs\n",
    "top_up_gp_df = model.adata.uns[differential_gp_scores_key][:n_top_up_gps]\n",
    "display(top_up_gp_df)"
   ]
  },
  {
   "cell_type": "code",
   "execution_count": null,
   "id": "7626e032-4cb1-4596-a2bc-31a102404614",
   "metadata": {},
   "outputs": [],
   "source": [
    "# Display top downregulated gene programs\n",
    "top_down_gp_df = model.adata.uns[differential_gp_scores_key][-n_top_down_gps:][::-1]\n",
    "display(top_down_gp_df)"
   ]
  },
  {
   "cell_type": "code",
   "execution_count": null,
   "id": "acd0c490-e958-4a31-8fa2-90aa35fddcf2",
   "metadata": {},
   "outputs": [],
   "source": [
    "fig = sc.pl.dotplot(model.adata,\n",
    "                    top_unique_gps,\n",
    "                    groupby=cell_type_key,\n",
    "                    dendrogram=True, \n",
    "                    title=\"Differential GP Scores Per Cell-type\",\n",
    "                    return_fig=True)\n",
    "\n",
    "# Save and display plot\n",
    "fig.savefig(f\"figures/analysis/{dataset}/differential_gp_scores_per_cell_type_specific_categories_{current_timestamp}.png\")\n",
    "plt.show()"
   ]
  },
  {
   "cell_type": "code",
   "execution_count": null,
   "id": "2416d033-8c0b-4ee5-9410-c61f16eeed33",
   "metadata": {},
   "outputs": [],
   "source": [
    "top_cats = top_up_gp_df[\"category\"].append(top_down_gp_df[\"category\"]).to_list()\n",
    "top_gps = top_up_gp_df[\"gene_program\"].append(top_down_gp_df[\"gene_program\"]).to_list()\n",
    "top_genes = []\n",
    "\n",
    "for gp in top_gps:\n",
    "    top_genes.append(\n",
    "        model.compute_gp_gene_importances(selected_gp=gp)[\"gene\"][0])"
   ]
  },
  {
   "cell_type": "code",
   "execution_count": null,
   "id": "4420ecd1-176a-4829-82e4-670cb0205d01",
   "metadata": {},
   "outputs": [],
   "source": [
    "# Plot selected gene program latent scores\n",
    "fig, axs = plt.subplots(nrows=n_top_up_gps+n_top_down_gps, ncols=3, figsize=(18, 4*len(top_gps)))\n",
    "title = fig.suptitle(t=\"Differential GP Scores, Corresponding Cell-Types and Most Important GP Genes in Latent Space\",\n",
    "                     x=0.55,\n",
    "                     y=0.96,\n",
    "                     fontsize=20)\n",
    "for i in range(len(top_gps)):\n",
    "    sc.pl.umap(model.adata, color=top_gps[i], color_map=\"magma\", ax=axs[i, 0], show=False)\n",
    "    sc.pl.umap(model.adata,\n",
    "               color=[cell_type_key],\n",
    "               color_map=\"magma\",\n",
    "               groups=top_cats[i],\n",
    "               ax=axs[i, 1],\n",
    "               legend_loc=\"on data\",\n",
    "               na_in_legend=False,\n",
    "               show=False)\n",
    "    sc.pl.umap(model.adata,\n",
    "               color=top_genes[i],\n",
    "               color_map=\"binary\",\n",
    "               ax=axs[i, 2],\n",
    "               legend_loc=\"on data\",\n",
    "               na_in_legend=False,\n",
    "               show=False)\n",
    "    \n",
    "# Save and display plot\n",
    "fig.savefig(f\"figures/analysis/{dataset}/cell_type_gp_scores_cell_types_most_important_genes_{current_timestamp}.png\",\n",
    "            bbox_extra_artists=(title,),\n",
    "            bbox_inches=\"tight\")\n",
    "plt.show()"
   ]
  },
  {
   "cell_type": "markdown",
   "id": "59cc2592-7588-4998-bd9f-5d76f859c492",
   "metadata": {},
   "source": [
    "##### 6.3.1.3 Explore Specific GPs"
   ]
  },
  {
   "cell_type": "code",
   "execution_count": null,
   "id": "a01e0687-a1fa-4ffd-90a5-9399ab7b2267",
   "metadata": {},
   "outputs": [],
   "source": [
    "selected_gps = [\"BMP7_ligand_receptor_GP\", \"EPOR_ligand_receptor_GP\"]"
   ]
  },
  {
   "cell_type": "code",
   "execution_count": null,
   "id": "ed3ca3c5-1bc0-4062-b576-eb6afb7f570b",
   "metadata": {},
   "outputs": [],
   "source": [
    "# Compute gene program enrichments and retrieve top up- and downregulated gene programs\n",
    "top_unique_gps = model.compute_differential_gp_scores(cat_key=cell_type_key,\n",
    "                                                      adata=model.adata,\n",
    "                                                      selected_gps=selected_gps,\n",
    "                                                      selected_cats=None,\n",
    "                                                      gp_scores_weight_normalization=False,\n",
    "                                                      comparison_cats=\"rest\",\n",
    "                                                      n_sample=1000,\n",
    "                                                      key_added=differential_gp_scores_key,\n",
    "                                                      n_top_up_gps_retrieved=n_top_up_gps,\n",
    "                                                      n_top_down_gps_retrieved=n_top_down_gps,\n",
    "                                                      seed=random_seed)"
   ]
  },
  {
   "cell_type": "code",
   "execution_count": null,
   "id": "843a8df5-ac27-4bcf-9994-738f17fe6869",
   "metadata": {},
   "outputs": [],
   "source": [
    "# Display top upregulated gene programs\n",
    "top_up_gp_df = model.adata.uns[differential_gp_scores_key][:n_top_up_gps]\n",
    "display(top_up_gp_df)"
   ]
  },
  {
   "cell_type": "code",
   "execution_count": null,
   "id": "5d94fd6b-4386-4246-a753-1eadc5af75c8",
   "metadata": {},
   "outputs": [],
   "source": [
    "# Display top downregulated gene programs\n",
    "top_down_gp_df = model.adata.uns[differential_gp_scores_key][-n_top_down_gps:][::-1]\n",
    "display(top_down_gp_df)"
   ]
  },
  {
   "cell_type": "code",
   "execution_count": null,
   "id": "15aab884-db27-4428-a950-9e0fc8d32d6e",
   "metadata": {},
   "outputs": [],
   "source": [
    "fig = sc.pl.dotplot(model.adata,\n",
    "                    top_unique_gps,\n",
    "                    groupby=cell_type_key,\n",
    "                    dendrogram=True, \n",
    "                    title=\"Differential GP Scores Per Cell-type\",\n",
    "                    return_fig=True)\n",
    "\n",
    "# Save and display plot\n",
    "fig.savefig(f\"figures/analysis/{dataset}/differential_gp_scores_per_cell_type_specific_gps_{current_timestamp}.png\")\n",
    "plt.show()"
   ]
  },
  {
   "cell_type": "code",
   "execution_count": null,
   "id": "2bc5ee00-36fb-4cf5-8ed6-527ffbfae293",
   "metadata": {},
   "outputs": [],
   "source": [
    "top_cats = top_up_gp_df[\"category\"].append(top_down_gp_df[\"category\"]).to_list()\n",
    "top_gps = top_up_gp_df[\"gene_program\"].append(top_down_gp_df[\"gene_program\"]).to_list()\n",
    "top_genes = []\n",
    "\n",
    "for gp in top_gps:\n",
    "    top_genes.append(\n",
    "        model.compute_gp_gene_importances(selected_gp=gp)[\"gene\"][0])"
   ]
  },
  {
   "cell_type": "code",
   "execution_count": null,
   "id": "934a1a8e-1c58-4a93-96f8-603a09e6cd2d",
   "metadata": {},
   "outputs": [],
   "source": [
    "# Plot selected gene program latent scores\n",
    "fig, axs = plt.subplots(nrows=n_top_up_gps+n_top_down_gps, ncols=3, figsize=(18, 4*len(top_gps)))\n",
    "title = fig.suptitle(t=\"Differential GP Scores, Corresponding Cell-Types and Most Important GP Genes in Latent Space\",\n",
    "                     x=0.55,\n",
    "                     y=0.96,\n",
    "                     fontsize=20)\n",
    "for i in range(len(top_gps)):\n",
    "    sc.pl.umap(model.adata, color=top_gps[i], color_map=\"magma\", ax=axs[i, 0], show=False)\n",
    "    sc.pl.umap(model.adata,\n",
    "               color=[cell_type_key],\n",
    "               color_map=\"magma\",\n",
    "               groups=top_cats[i],\n",
    "               ax=axs[i, 1],\n",
    "               legend_loc=\"on data\",\n",
    "               na_in_legend=False,\n",
    "               show=False)\n",
    "    sc.pl.umap(model.adata,\n",
    "               color=top_genes[i],\n",
    "               color_map=\"binary\",\n",
    "               ax=axs[i, 2],\n",
    "               legend_loc=\"on data\",\n",
    "               na_in_legend=False,\n",
    "               show=False)\n",
    "    \n",
    "# Save and display plot\n",
    "fig.savefig(f\"figures/analysis/{dataset}/cell_type_gp_scores_cell_types_most_important_genes_{current_timestamp}.png\",\n",
    "            bbox_extra_artists=(title,),\n",
    "            bbox_inches=\"tight\")\n",
    "plt.show()"
   ]
  },
  {
   "cell_type": "markdown",
   "id": "4deeed99-5868-47ae-9adf-59e76f73b630",
   "metadata": {},
   "source": [
    "#### 6.3.2 Spatial Gene Program Enrichment Scores"
   ]
  },
  {
   "cell_type": "markdown",
   "id": "64f54c82-2fde-4034-b096-d76ef8c1e4a7",
   "metadata": {},
   "source": [
    "#### 6.3.3 Gene Program Gene Importances"
   ]
  },
  {
   "cell_type": "code",
   "execution_count": null,
   "id": "7218a844-3cb6-497e-bc1a-f0c76540379a",
   "metadata": {},
   "outputs": [],
   "source": [
    "selected_gp = [\"BMP7_ligand_receptor_GP\"]"
   ]
  },
  {
   "cell_type": "code",
   "execution_count": null,
   "id": "de02a1d3-0cf7-48d0-8c6d-acd0df593e1d",
   "metadata": {},
   "outputs": [],
   "source": [
    "gene_importances_df = model.compute_gp_gene_importances(\n",
    "    selected_gp=\"BMP7_ligand_receptor_GP\",\n",
    "    adata=None)\n",
    "\n",
    "display(gene_importances_df)"
   ]
  },
  {
   "cell_type": "code",
   "execution_count": null,
   "id": "554275c1-127c-4ff8-968a-a864371cb5f9",
   "metadata": {},
   "outputs": [],
   "source": [
    "genes = list(gene_importances_df[\"gene\"])\n",
    "\n",
    "for gene in genes:\n",
    "    sc.pl.umap(model.adata,\n",
    "               color=gene,\n",
    "               color_map=\"binary\",\n",
    "               legend_loc=\"on data\",\n",
    "               na_in_legend=False)"
   ]
  }
 ],
 "metadata": {
  "kernelspec": {
   "display_name": "Python 3 (ipykernel)",
   "language": "python",
   "name": "python3"
  },
  "language_info": {
   "codemirror_mode": {
    "name": "ipython",
    "version": 3
   },
   "file_extension": ".py",
   "mimetype": "text/x-python",
   "name": "python",
   "nbconvert_exporter": "python",
   "pygments_lexer": "ipython3",
   "version": "3.9.15"
  }
 },
 "nbformat": 4,
 "nbformat_minor": 5
}
