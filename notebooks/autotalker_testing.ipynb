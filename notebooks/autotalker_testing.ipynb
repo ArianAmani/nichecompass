{
 "cells": [
  {
   "cell_type": "code",
   "execution_count": 10,
   "id": "de0e3151-5b0d-461c-ac0c-8ce5e624f063",
   "metadata": {},
   "outputs": [],
   "source": [
    "import torch\n",
    "from torch_geometric.data import Data\n",
    "from torch_geometric.datasets import Planetoid\n",
    "from torch_geometric.loader import LinkNeighborLoader\n",
    "from torch_geometric.loader import NeighborLoader\n",
    "from torch_geometric.transforms import RandomNodeSplit, RandomLinkSplit"
   ]
  },
  {
   "cell_type": "code",
   "execution_count": 2,
   "id": "d243b8e4-4b5c-476f-9a6d-1e6ed1b61b2b",
   "metadata": {},
   "outputs": [
    {
     "name": "stderr",
     "output_type": "stream",
     "text": [
      "Downloading https://github.com/kimiyoung/planetoid/raw/master/data/ind.cora.x\n",
      "Downloading https://github.com/kimiyoung/planetoid/raw/master/data/ind.cora.tx\n",
      "Downloading https://github.com/kimiyoung/planetoid/raw/master/data/ind.cora.allx\n",
      "Downloading https://github.com/kimiyoung/planetoid/raw/master/data/ind.cora.y\n",
      "Downloading https://github.com/kimiyoung/planetoid/raw/master/data/ind.cora.ty\n",
      "Downloading https://github.com/kimiyoung/planetoid/raw/master/data/ind.cora.ally\n",
      "Downloading https://github.com/kimiyoung/planetoid/raw/master/data/ind.cora.graph\n",
      "Downloading https://github.com/kimiyoung/planetoid/raw/master/data/ind.cora.test.index\n",
      "Processing...\n",
      "Done!\n"
     ]
    }
   ],
   "source": [
    "data = Planetoid(\".\", name='Cora')[0]"
   ]
  },
  {
   "cell_type": "code",
   "execution_count": 3,
   "id": "8f598967-4daa-405f-bd48-c2b5f33f1680",
   "metadata": {},
   "outputs": [
    {
     "data": {
      "text/plain": [
       "Data(x=[2708, 1433], edge_index=[2, 10556], y=[2708], train_mask=[2708], val_mask=[2708], test_mask=[2708])"
      ]
     },
     "execution_count": 3,
     "metadata": {},
     "output_type": "execute_result"
    }
   ],
   "source": [
    "data"
   ]
  },
  {
   "cell_type": "code",
   "execution_count": 14,
   "id": "b2e24d6b-c723-48f0-a5f6-b008c5ccacf0",
   "metadata": {},
   "outputs": [],
   "source": [
    "data = Data(x=data.x, edge_index=data.edge_index)"
   ]
  },
  {
   "cell_type": "code",
   "execution_count": 23,
   "id": "c1222949-927c-4eaf-9d18-867baf2c60a7",
   "metadata": {},
   "outputs": [],
   "source": [
    "data = Data(x=data.x, edge_index=data.edge_index, conditions=torch.tensor(list(range(len(data.x)))))"
   ]
  },
  {
   "cell_type": "code",
   "execution_count": 24,
   "id": "74b58bdc-420e-4daf-be4e-9012c60ed0f3",
   "metadata": {},
   "outputs": [
    {
     "name": "stdout",
     "output_type": "stream",
     "text": [
      "Yes\n"
     ]
    }
   ],
   "source": [
    "if \"conditions\" in data:\n",
    "    print(\"Yes\")"
   ]
  },
  {
   "cell_type": "markdown",
   "id": "dba8e584-9b2a-40a5-8761-1d2cee868602",
   "metadata": {},
   "source": [
    "## Random Node Split"
   ]
  },
  {
   "cell_type": "code",
   "execution_count": 25,
   "id": "3a36e821-570c-4876-97a1-bc27777fd357",
   "metadata": {},
   "outputs": [],
   "source": [
    "random_node_split = RandomNodeSplit(\n",
    "    num_val=0.1,\n",
    "    num_test=0,\n",
    "    key=\"x\")\n",
    "data = random_node_split(data)"
   ]
  },
  {
   "cell_type": "code",
   "execution_count": 26,
   "id": "e6b002a3-469f-40f4-833d-1b97e9e35d9e",
   "metadata": {},
   "outputs": [
    {
     "data": {
      "text/plain": [
       "Data(x=[2708, 1433], edge_index=[2, 10556], conditions=[2708], train_mask=[2708], val_mask=[2708], test_mask=[2708])"
      ]
     },
     "execution_count": 26,
     "metadata": {},
     "output_type": "execute_result"
    }
   ],
   "source": [
    "data"
   ]
  },
  {
   "cell_type": "code",
   "execution_count": 27,
   "id": "f139f87b-74db-49cc-ab54-4eb446a2be12",
   "metadata": {},
   "outputs": [],
   "source": [
    "train_data = data.clone()\n",
    "val_data = data.clone()"
   ]
  },
  {
   "cell_type": "code",
   "execution_count": 28,
   "id": "32f67b7e-16f8-4d57-af4d-35ae52e84403",
   "metadata": {},
   "outputs": [],
   "source": [
    "train_node_indices = data.train_mask.nonzero()\n",
    "\n",
    "pure_train_node_edge = torch.isin(data.edge_index, train_node_indices)[0] & torch.isin(data.edge_index, train_node_indices)[1]\n",
    "\n",
    "train_data.edge_label_index = torch.vstack((data.edge_index[0][pure_train_node_edge],\n",
    "                                            data.edge_index[1][pure_train_node_edge]))\n",
    "\n",
    "# Remove duplicate edge indices\n",
    "edge_label_index_zero = train_data.edge_label_index[0].clone()\n",
    "edge_label_index_one = train_data.edge_label_index[1].clone()\n",
    "train_data.edge_label_index[0][edge_label_index_zero > edge_label_index_one] = edge_label_index_one[edge_label_index_zero > edge_label_index_one]\n",
    "train_data.edge_label_index[1][edge_label_index_zero > edge_label_index_one] = edge_label_index_zero[edge_label_index_zero > edge_label_index_one]\n",
    "train_data.edge_label_index = torch.unique(train_data.edge_label_index, dim=1)\n",
    "\n",
    "train_data.edge_label = torch.ones(len(train_data.edge_label_index[0]))"
   ]
  },
  {
   "cell_type": "code",
   "execution_count": null,
   "id": "d4ff1849-43ef-4f40-af86-1d4160998557",
   "metadata": {},
   "outputs": [],
   "source": []
  },
  {
   "cell_type": "code",
   "execution_count": null,
   "id": "80b71551-a3f1-4a34-8319-797a312ade94",
   "metadata": {},
   "outputs": [],
   "source": [
    "\n"
   ]
  },
  {
   "cell_type": "code",
   "execution_count": 29,
   "id": "348c0411-c195-4831-9482-0ad8de9df4ea",
   "metadata": {},
   "outputs": [
    {
     "data": {
      "text/plain": [
       "Data(x=[2708, 1433], edge_index=[2, 10556], conditions=[2708], train_mask=[2708], val_mask=[2708], test_mask=[2708], edge_label_index=[2, 4255], edge_label=[4255])"
      ]
     },
     "execution_count": 29,
     "metadata": {},
     "output_type": "execute_result"
    }
   ],
   "source": [
    "train_data"
   ]
  },
  {
   "cell_type": "code",
   "execution_count": 30,
   "id": "2494640e-31b7-4263-835c-1136058ec0fc",
   "metadata": {},
   "outputs": [
    {
     "data": {
      "text/plain": [
       "Data(x=[2708, 1433], edge_index=[2, 10556], conditions=[2708], train_mask=[2708], val_mask=[2708], test_mask=[2708])"
      ]
     },
     "execution_count": 30,
     "metadata": {},
     "output_type": "execute_result"
    }
   ],
   "source": [
    "val_data"
   ]
  },
  {
   "cell_type": "code",
   "execution_count": 511,
   "id": "6e489d58-3d7d-44b1-a631-fabd1e9b4f49",
   "metadata": {},
   "outputs": [
    {
     "data": {
      "text/plain": [
       "Data(x=[2708, 1433], edge_index=[2, 10556], y=[2708], train_mask=[2708], val_mask=[2708], test_mask=[2708])"
      ]
     },
     "execution_count": 511,
     "metadata": {},
     "output_type": "execute_result"
    }
   ],
   "source": [
    "data"
   ]
  },
  {
   "cell_type": "code",
   "execution_count": 411,
   "id": "497d1cb8-c82a-4207-ba44-9e3a7c4771d4",
   "metadata": {},
   "outputs": [
    {
     "data": {
      "text/plain": [
       "tensor([[   0,    0,    0,  ..., 2707, 2707, 2707],\n",
       "        [ 633, 1862, 2582,  ...,  598, 1473, 2706]])"
      ]
     },
     "execution_count": 411,
     "metadata": {},
     "output_type": "execute_result"
    }
   ],
   "source": [
    "train_data.edge_index"
   ]
  },
  {
   "cell_type": "code",
   "execution_count": null,
   "id": "d7046a18-820e-497f-84ad-ddf77a94223d",
   "metadata": {},
   "outputs": [],
   "source": [
    "torch.isin(data.edge_index, train_node_indices)[0] & torch.isin(data.edge_index, train_node_indices)[1]"
   ]
  },
  {
   "cell_type": "code",
   "execution_count": null,
   "id": "f53d2390-a624-4724-a8fe-d5ae0fa9deea",
   "metadata": {},
   "outputs": [],
   "source": [
    "result = [vec for vec in tensor1 if not torch.all(torch.eq(tensor, tensor2))]"
   ]
  },
  {
   "cell_type": "code",
   "execution_count": null,
   "id": "5e16c05c-414d-4f79-a9c1-5d89075b92a0",
   "metadata": {},
   "outputs": [],
   "source": [
    "torch.eq("
   ]
  },
  {
   "cell_type": "code",
   "execution_count": 427,
   "id": "e61f1e79-c11e-4a4b-a3fa-abd789fee1ff",
   "metadata": {},
   "outputs": [
    {
     "data": {
      "text/plain": [
       "10556"
      ]
     },
     "execution_count": 427,
     "metadata": {},
     "output_type": "execute_result"
    }
   ],
   "source": [
    "len(data.edge_index[0])"
   ]
  },
  {
   "cell_type": "code",
   "execution_count": 453,
   "id": "5460281a-5b5c-400e-811f-5d8e812f8e2d",
   "metadata": {},
   "outputs": [],
   "source": [
    "test = torch.tensor([   4, 1762])"
   ]
  },
  {
   "cell_type": "code",
   "execution_count": 466,
   "id": "502cbf39-6930-430f-b887-c3423a06b642",
   "metadata": {},
   "outputs": [
    {
     "data": {
      "text/plain": [
       "10556"
      ]
     },
     "execution_count": 466,
     "metadata": {},
     "output_type": "execute_result"
    }
   ],
   "source": [
    "len(data.edge_index[0])"
   ]
  },
  {
   "cell_type": "code",
   "execution_count": 469,
   "id": "0f70f408-d401-4bf9-90b9-4bf18750e855",
   "metadata": {},
   "outputs": [
    {
     "data": {
      "text/plain": [
       "10556"
      ]
     },
     "execution_count": 469,
     "metadata": {},
     "output_type": "execute_result"
    }
   ],
   "source": [
    "len(torch.stack([vec for vec in data.edge_index.T if not torch.all(torch.eq(vec, val_data.edge_label_index.T))]))"
   ]
  },
  {
   "cell_type": "code",
   "execution_count": 467,
   "id": "6e904c74-652c-4ee5-8282-1cd2d8e0dce0",
   "metadata": {},
   "outputs": [
    {
     "data": {
      "text/plain": [
       "9525"
      ]
     },
     "execution_count": 467,
     "metadata": {},
     "output_type": "execute_result"
    }
   ],
   "source": []
  },
  {
   "cell_type": "code",
   "execution_count": 471,
   "id": "e39148b8-ff32-4038-96a0-abee78983743",
   "metadata": {},
   "outputs": [
    {
     "data": {
      "text/plain": [
       "Data(x=[2708, 1433], edge_index=[2, 10556], y=[2708], train_mask=[2708], val_mask=[2708], test_mask=[2708], edge_label_index=[2, 1031], edge_label=[1031])"
      ]
     },
     "execution_count": 471,
     "metadata": {},
     "output_type": "execute_result"
    }
   ],
   "source": [
    "val_data"
   ]
  },
  {
   "cell_type": "code",
   "execution_count": null,
   "id": "ebff2cde-4caa-4c53-852d-ff2ae9ff36e6",
   "metadata": {},
   "outputs": [
    {
     "data": {
      "text/plain": [
       "tensor([False, False, False,  ..., False, False, False])"
      ]
     },
     "execution_count": 446,
     "metadata": {},
     "output_type": "execute_result"
    }
   ],
   "source": [
    "torch.eq(test, val_data.edge_label_index.T)[:,0]"
   ]
  },
  {
   "cell_type": "code",
   "execution_count": 432,
   "id": "b672d73c-e190-4b81-9058-88306646f32e",
   "metadata": {},
   "outputs": [
    {
     "data": {
      "text/plain": [
       "tensor([[   4, 1761],\n",
       "        [   9,  723],\n",
       "        [  10,  476],\n",
       "        ...,\n",
       "        [2671, 2673],\n",
       "        [2671, 2674],\n",
       "        [2671, 2675]])"
      ]
     },
     "execution_count": 432,
     "metadata": {},
     "output_type": "execute_result"
    }
   ],
   "source": [
    "val_data.edge_label_index.T"
   ]
  },
  {
   "cell_type": "code",
   "execution_count": null,
   "id": "2ec0d72d-a6ef-4c83-a120-89cac1db1157",
   "metadata": {},
   "outputs": [],
   "source": [
    "len(torch.stack("
   ]
  },
  {
   "cell_type": "code",
   "execution_count": 438,
   "id": "2b7248c5-f6f0-4f7b-a518-9a8d6082fbcf",
   "metadata": {},
   "outputs": [
    {
     "data": {
      "text/plain": [
       "1031"
      ]
     },
     "execution_count": 438,
     "metadata": {},
     "output_type": "execute_result"
    }
   ],
   "source": [
    "len(val_data.edge_label_index[0])"
   ]
  },
  {
   "cell_type": "code",
   "execution_count": 439,
   "id": "895a16d3-0358-446e-b975-a61138e9d92c",
   "metadata": {},
   "outputs": [
    {
     "data": {
      "text/plain": [
       "10556"
      ]
     },
     "execution_count": 439,
     "metadata": {},
     "output_type": "execute_result"
    }
   ],
   "source": [
    "len(data.edge_index[0])"
   ]
  },
  {
   "cell_type": "code",
   "execution_count": 435,
   "id": "45f4f7f1-23a8-4c15-a6d3-96058d11e4d2",
   "metadata": {},
   "outputs": [
    {
     "data": {
      "text/plain": [
       "5070"
      ]
     },
     "execution_count": 435,
     "metadata": {},
     "output_type": "execute_result"
    }
   ],
   "source": [
    "len([tensor for tensor in data.edge_index.T if not tensor in val_data.edge_label_index.T])\n",
    "    "
   ]
  },
  {
   "cell_type": "markdown",
   "id": "891f9c8c-16d2-4148-ac2f-31eb665a947e",
   "metadata": {},
   "source": [
    "## Random Link Split"
   ]
  },
  {
   "cell_type": "code",
   "execution_count": 516,
   "id": "3b832754-7766-4204-84e9-fdd1e054b9b1",
   "metadata": {},
   "outputs": [],
   "source": [
    "random_link_split = RandomLinkSplit(\n",
    "    num_val=0.1,\n",
    "    num_test=0.,\n",
    "    is_undirected=True, \n",
    "    neg_sampling_ratio=0.)\n",
    "train_data_link, val_data_link, test_data_link = random_link_split(data)"
   ]
  },
  {
   "cell_type": "code",
   "execution_count": 517,
   "id": "bbddac98-adc9-4a73-aed1-396be609737a",
   "metadata": {},
   "outputs": [
    {
     "data": {
      "text/plain": [
       "Data(x=[2708, 1433], edge_index=[2, 10556], y=[2708], train_mask=[2708], val_mask=[2708], test_mask=[2708])"
      ]
     },
     "execution_count": 517,
     "metadata": {},
     "output_type": "execute_result"
    }
   ],
   "source": [
    "data"
   ]
  },
  {
   "cell_type": "code",
   "execution_count": 518,
   "id": "93e022ff-0f46-4835-b106-aa5c25e67ae6",
   "metadata": {},
   "outputs": [
    {
     "data": {
      "text/plain": [
       "Data(x=[2708, 1433], edge_index=[2, 9502], y=[2708], train_mask=[2708], val_mask=[2708], test_mask=[2708], edge_label=[4751], edge_label_index=[2, 4751])"
      ]
     },
     "execution_count": 518,
     "metadata": {},
     "output_type": "execute_result"
    }
   ],
   "source": [
    "train_data_link"
   ]
  },
  {
   "cell_type": "code",
   "execution_count": 519,
   "id": "b604dfbe-43d6-469d-9d7f-25072a27bd76",
   "metadata": {},
   "outputs": [
    {
     "data": {
      "text/plain": [
       "Data(x=[2708, 1433], edge_index=[2, 9502], y=[2708], train_mask=[2708], val_mask=[2708], test_mask=[2708], edge_label=[527], edge_label_index=[2, 527])"
      ]
     },
     "execution_count": 519,
     "metadata": {},
     "output_type": "execute_result"
    }
   ],
   "source": [
    "val_data_link"
   ]
  },
  {
   "cell_type": "code",
   "execution_count": 321,
   "id": "d16dcd5c-507b-4519-b3f4-2507acaf4c8a",
   "metadata": {},
   "outputs": [
    {
     "data": {
      "text/plain": [
       "tensor([[2024,  306,  415,  ..., 1090,    6, 1218],\n",
       "        [2178,  542,  525,  ..., 2367, 1416, 2116]])"
      ]
     },
     "execution_count": 321,
     "metadata": {},
     "output_type": "execute_result"
    }
   ],
   "source": [
    "val_data_link.edge_label_index"
   ]
  },
  {
   "cell_type": "code",
   "execution_count": 322,
   "id": "5e642e60-3431-4d09-8952-0bfb8682394d",
   "metadata": {},
   "outputs": [
    {
     "data": {
      "text/plain": [
       "tensor([[ 219, 1408,  484,  ..., 1072, 2046,  488],\n",
       "        [ 507, 1826,  542,  ..., 1070,  236,  444]])"
      ]
     },
     "execution_count": 322,
     "metadata": {},
     "output_type": "execute_result"
    }
   ],
   "source": [
    "val_data_link.edge_index"
   ]
  },
  {
   "cell_type": "code",
   "execution_count": null,
   "id": "c81fde6a-1063-4960-a75e-879350ba809e",
   "metadata": {},
   "outputs": [],
   "source": []
  },
  {
   "cell_type": "code",
   "execution_count": null,
   "id": "526b6e7c-6820-417b-ac3b-0b8e73a0509e",
   "metadata": {},
   "outputs": [],
   "source": []
  },
  {
   "cell_type": "code",
   "execution_count": 200,
   "id": "ec61d392-5509-4cf6-ab61-685b341ce6cb",
   "metadata": {},
   "outputs": [
    {
     "data": {
      "text/plain": [
       "tensor([   0,    1,    2,  ..., 2705, 2706, 2707])"
      ]
     },
     "execution_count": 200,
     "metadata": {},
     "output_type": "execute_result"
    }
   ],
   "source": [
    "torch.unique(torch.flatten(train_data.edge_label_index))"
   ]
  },
  {
   "cell_type": "code",
   "execution_count": 201,
   "id": "10950c54-4607-4c17-bf8f-2e7e8a0eca0c",
   "metadata": {},
   "outputs": [
    {
     "data": {
      "text/plain": [
       "tensor([   0,   11,   18,   21,   22,   24,   25,   33,   35,   37,   38,   39,\n",
       "          41,   43,   48,   55,   59,   61,   65,   67,   72,   73,   74,   75,\n",
       "          78,   83,   88,   89,   94,   95,   97,  100,  102,  105,  109,  113,\n",
       "         114,  118,  119,  121,  131,  132,  133,  137,  139,  140,  143,  151,\n",
       "         152,  153,  154,  156,  158,  162,  166,  169,  172,  173,  175,  180,\n",
       "         181,  184,  185,  189,  195,  202,  205,  227,  229,  235,  239,  240,\n",
       "         242,  253,  261,  263,  270,  275,  277,  279,  281,  286,  290,  295,\n",
       "         297,  301,  303,  306,  310,  319,  323,  324,  328,  330,  331,  334,\n",
       "         341,  344,  350,  353,  354,  359,  364,  365,  370,  371,  374,  387,\n",
       "         391,  392,  394,  397,  398,  404,  406,  409,  411,  415,  426,  428,\n",
       "         429,  433,  436,  440,  441,  443,  444,  453,  455,  456,  457,  458,\n",
       "         460,  464,  470,  479,  480,  483,  484,  487,  490,  492,  497,  505,\n",
       "         506,  507,  510,  511,  512,  515,  516,  520,  524,  529,  530,  540,\n",
       "         542,  544,  546,  548,  549,  553,  562,  563,  567,  578,  579,  582,\n",
       "         591,  596,  597,  598,  606,  610,  612,  613,  619,  623,  625,  633,\n",
       "         637,  650,  651,  653,  655,  656,  657,  661,  664,  671,  673,  675,\n",
       "         687,  691,  693,  695,  697,  698,  702,  704,  706,  718,  719,  720,\n",
       "         722,  730,  732,  733,  734,  736,  741,  743,  746,  751,  752,  756,\n",
       "         758,  760,  761,  767,  771,  775,  776,  781,  787,  788,  789,  790,\n",
       "         800,  805,  807,  811,  812,  816,  817,  823,  826,  827,  831,  833,\n",
       "         834,  836,  838,  839,  840,  843,  851,  853,  857,  859,  862,  867,\n",
       "         873,  876,  877,  881,  882,  883,  887,  888,  889,  890,  895,  900,\n",
       "         901,  903,  904,  905,  910,  918,  921,  922,  928,  933,  935,  940,\n",
       "         943,  946,  951,  953,  956,  957,  963,  964,  965,  967,  973,  977,\n",
       "         979,  980,  981,  989,  996, 1003, 1006, 1008, 1009, 1011, 1013, 1015,\n",
       "        1016, 1017, 1022, 1024, 1026, 1029, 1033, 1037, 1038, 1039, 1041, 1042,\n",
       "        1046, 1050, 1051, 1052, 1053, 1054, 1062, 1066, 1067, 1070, 1072, 1074,\n",
       "        1079, 1080, 1092, 1095, 1096, 1100, 1102, 1103, 1109, 1110, 1113, 1117,\n",
       "        1119, 1120, 1121, 1131, 1133, 1145, 1147, 1151, 1155, 1156, 1158, 1159,\n",
       "        1163, 1165, 1166, 1169, 1170, 1171, 1173, 1174, 1177, 1182, 1183, 1184,\n",
       "        1185, 1189, 1190, 1193, 1196, 1199, 1201, 1204, 1205, 1216, 1224, 1229,\n",
       "        1231, 1234, 1237, 1238, 1240, 1242, 1245, 1246, 1249, 1257, 1262, 1268,\n",
       "        1269, 1273, 1276, 1281, 1282, 1291, 1292, 1293, 1299, 1303, 1309, 1312,\n",
       "        1314, 1317, 1320, 1325, 1326, 1329, 1331, 1332, 1335, 1339, 1341, 1343,\n",
       "        1346, 1347, 1351, 1353, 1354, 1358, 1359, 1362, 1370, 1376, 1377, 1380,\n",
       "        1382, 1386, 1388, 1392, 1399, 1402, 1405, 1406, 1413, 1415, 1417, 1418,\n",
       "        1420, 1421, 1424, 1426, 1432, 1441, 1442, 1443, 1448, 1456, 1457, 1460,\n",
       "        1467, 1470, 1478, 1479, 1482, 1483, 1485, 1487, 1490, 1491, 1492, 1501,\n",
       "        1502, 1505, 1507, 1513, 1514, 1517, 1525, 1532, 1535, 1539, 1542, 1546,\n",
       "        1549, 1552, 1556, 1557, 1558, 1566, 1567, 1570, 1572, 1574, 1576, 1577,\n",
       "        1580, 1584, 1592, 1593, 1598, 1602, 1608, 1610, 1616, 1620, 1623, 1628,\n",
       "        1630, 1636, 1637, 1638, 1644, 1645, 1650, 1651, 1652, 1654, 1666, 1670,\n",
       "        1675, 1678, 1681, 1685, 1687, 1689, 1692, 1699, 1701, 1703, 1705, 1706,\n",
       "        1710, 1711, 1720, 1721, 1724, 1725, 1726, 1727, 1728, 1730, 1732, 1734,\n",
       "        1735, 1736, 1737, 1739, 1741, 1743, 1745, 1749, 1751, 1753, 1756, 1761,\n",
       "        1762, 1763, 1764, 1765, 1766, 1769, 1771, 1776, 1778, 1779, 1781, 1782,\n",
       "        1784, 1787, 1789, 1791, 1798, 1801, 1806, 1808, 1810, 1811, 1813, 1815,\n",
       "        1818, 1820, 1822, 1823, 1824, 1829, 1831, 1834, 1839, 1840, 1846, 1848,\n",
       "        1851, 1852, 1856, 1859, 1864, 1867, 1869, 1871, 1874, 1875, 1878, 1879,\n",
       "        1880, 1881, 1882, 1884, 1888, 1889, 1891, 1901, 1902, 1903, 1914, 1918,\n",
       "        1923, 1925, 1927, 1930, 1935, 1939, 1940, 1941, 1944, 1946, 1950, 1951,\n",
       "        1952, 1955, 1958, 1959, 1960, 1962, 1964, 1965, 1966, 1971, 1973, 1974,\n",
       "        1979, 1980, 1986, 1995, 1997, 2001, 2004, 2022, 2024, 2030, 2033, 2034,\n",
       "        2037, 2045, 2046, 2050, 2054, 2055, 2057, 2058, 2059, 2063, 2068, 2070,\n",
       "        2071, 2074, 2075, 2082, 2085, 2087, 2090, 2095, 2096, 2102, 2109, 2117,\n",
       "        2119, 2122, 2123, 2124, 2130, 2132, 2137, 2138, 2139, 2145, 2146, 2147,\n",
       "        2150, 2153, 2155, 2164, 2172, 2176, 2179, 2180, 2181, 2182, 2185, 2187,\n",
       "        2190, 2191, 2193, 2194, 2198, 2199, 2203, 2204, 2206, 2207, 2212, 2214,\n",
       "        2215, 2216, 2222, 2223, 2224, 2225, 2227, 2228, 2235, 2236, 2237, 2240,\n",
       "        2241, 2244, 2247, 2248, 2252, 2257, 2261, 2263, 2266, 2268, 2269, 2270,\n",
       "        2271, 2277, 2282, 2286, 2288, 2290, 2293, 2294, 2303, 2305, 2310, 2317,\n",
       "        2318, 2319, 2321, 2324, 2329, 2330, 2336, 2338, 2339, 2349, 2351, 2355,\n",
       "        2356, 2358, 2359, 2361, 2365, 2367, 2371, 2381, 2394, 2395, 2400, 2402,\n",
       "        2419, 2424, 2427, 2436, 2439, 2442, 2445, 2448, 2450, 2451, 2453, 2462,\n",
       "        2463, 2464, 2469, 2472, 2480, 2481, 2486, 2492, 2500, 2501, 2508, 2509,\n",
       "        2518, 2519, 2525, 2531, 2541, 2555, 2558, 2567, 2570, 2581, 2582, 2585,\n",
       "        2590, 2609, 2613, 2617, 2620, 2628, 2634, 2635, 2651, 2654, 2659, 2673,\n",
       "        2675, 2677, 2684, 2706])"
      ]
     },
     "execution_count": 201,
     "metadata": {},
     "output_type": "execute_result"
    }
   ],
   "source": [
    "torch.unique(torch.flatten(val_data.edge_label_index))"
   ]
  },
  {
   "cell_type": "code",
   "execution_count": null,
   "id": "b13cef2a-2983-471c-9019-ac16869d1229",
   "metadata": {},
   "outputs": [],
   "source": []
  },
  {
   "cell_type": "code",
   "execution_count": null,
   "id": "c36b61ae-e7e3-4753-90b4-d9db67ff974c",
   "metadata": {},
   "outputs": [],
   "source": []
  },
  {
   "cell_type": "code",
   "execution_count": 6,
   "id": "dcae7282-7a76-418f-84f9-8c585e82ccdb",
   "metadata": {},
   "outputs": [
    {
     "data": {
      "text/plain": [
       "tensor(140)"
      ]
     },
     "execution_count": 6,
     "metadata": {},
     "output_type": "execute_result"
    }
   ],
   "source": [
    "data.train_mask.sum()"
   ]
  },
  {
   "cell_type": "code",
   "execution_count": 7,
   "id": "a3b03f9b-ecc0-4811-90ea-6011ec6bec30",
   "metadata": {},
   "outputs": [
    {
     "data": {
      "text/plain": [
       "tensor(500)"
      ]
     },
     "execution_count": 7,
     "metadata": {},
     "output_type": "execute_result"
    }
   ],
   "source": [
    "data.val_mask.sum()"
   ]
  },
  {
   "cell_type": "code",
   "execution_count": 8,
   "id": "3aad52d4-19ac-4ed3-a86b-5b7dd1b15342",
   "metadata": {},
   "outputs": [
    {
     "data": {
      "text/plain": [
       "tensor(1000)"
      ]
     },
     "execution_count": 8,
     "metadata": {},
     "output_type": "execute_result"
    }
   ],
   "source": [
    "data.test_mask.sum()"
   ]
  },
  {
   "cell_type": "code",
   "execution_count": 12,
   "id": "caf78b60-efac-421c-bff5-8882ec873a66",
   "metadata": {},
   "outputs": [
    {
     "data": {
      "text/plain": [
       "tensor([[   0,    0,    0,  ..., 2707, 2707, 2707],\n",
       "        [ 633, 1862, 2582,  ...,  598, 1473, 2706]])"
      ]
     },
     "execution_count": 12,
     "metadata": {},
     "output_type": "execute_result"
    }
   ],
   "source": [
    "data.edge_index"
   ]
  },
  {
   "cell_type": "code",
   "execution_count": 190,
   "id": "b9f0bbfb-5b21-4a76-893f-136e2dbb47ff",
   "metadata": {},
   "outputs": [
    {
     "ename": "TypeError",
     "evalue": "__init__() got an unexpected keyword argument 'disjoint'",
     "output_type": "error",
     "traceback": [
      "\u001b[0;31m---------------------------------------------------------------------------\u001b[0m",
      "\u001b[0;31mTypeError\u001b[0m                                 Traceback (most recent call last)",
      "Cell \u001b[0;32mIn[190], line 1\u001b[0m\n\u001b[0;32m----> 1\u001b[0m link_loader \u001b[38;5;241m=\u001b[39m \u001b[43mLinkNeighborLoader\u001b[49m\u001b[43m(\u001b[49m\n\u001b[1;32m      2\u001b[0m \u001b[43m    \u001b[49m\u001b[43mdata\u001b[49m\u001b[43m,\u001b[49m\n\u001b[1;32m      3\u001b[0m \u001b[43m    \u001b[49m\u001b[38;5;66;43;03m# Sample 30 neighbors for each node for 2 iterations\u001b[39;49;00m\n\u001b[1;32m      4\u001b[0m \u001b[43m    \u001b[49m\u001b[43mnum_neighbors\u001b[49m\u001b[38;5;241;43m=\u001b[39;49m\u001b[43m[\u001b[49m\u001b[38;5;241;43m20\u001b[39;49m\u001b[43m]\u001b[49m\u001b[43m \u001b[49m\u001b[38;5;241;43m*\u001b[39;49m\u001b[43m \u001b[49m\u001b[38;5;241;43m0\u001b[39;49m\u001b[43m,\u001b[49m\n\u001b[1;32m      5\u001b[0m \u001b[43m    \u001b[49m\u001b[38;5;66;43;03m# Use a batch size of 128 for sampling training nodes\u001b[39;49;00m\n\u001b[1;32m      6\u001b[0m \u001b[43m    \u001b[49m\u001b[43mbatch_size\u001b[49m\u001b[38;5;241;43m=\u001b[39;49m\u001b[38;5;241;43m4\u001b[39;49m\u001b[43m,\u001b[49m\n\u001b[1;32m      7\u001b[0m \u001b[43m    \u001b[49m\u001b[38;5;66;43;03m# edge_label_index=data.edge_index,\u001b[39;49;00m\n\u001b[1;32m      8\u001b[0m \u001b[43m    \u001b[49m\u001b[43mdisjoint\u001b[49m\u001b[38;5;241;43m=\u001b[39;49m\u001b[38;5;28;43;01mTrue\u001b[39;49;00m\n\u001b[1;32m      9\u001b[0m \u001b[43m)\u001b[49m\n",
      "File \u001b[0;32m~/miniconda3/envs/autotalker/lib/python3.9/site-packages/torch_geometric/loader/link_neighbor_loader.py:361\u001b[0m, in \u001b[0;36mLinkNeighborLoader.__init__\u001b[0;34m(self, data, num_neighbors, edge_label_index, edge_label, edge_label_time, num_src_nodes, num_dst_nodes, replace, directed, neg_sampling_ratio, time_attr, transform, is_sorted, filter_per_worker, neighbor_sampler, **kwargs)\u001b[0m\n\u001b[1;32m    346\u001b[0m \u001b[38;5;28;01mif\u001b[39;00m neighbor_sampler \u001b[38;5;129;01mis\u001b[39;00m \u001b[38;5;28;01mNone\u001b[39;00m:\n\u001b[1;32m    347\u001b[0m     \u001b[38;5;28mself\u001b[39m\u001b[38;5;241m.\u001b[39mneighbor_sampler \u001b[38;5;241m=\u001b[39m LinkNeighborSampler(\n\u001b[1;32m    348\u001b[0m         data,\n\u001b[1;32m    349\u001b[0m         num_neighbors,\n\u001b[0;32m   (...)\u001b[0m\n\u001b[1;32m    358\u001b[0m         share_memory\u001b[38;5;241m=\u001b[39mkwargs\u001b[38;5;241m.\u001b[39mget(\u001b[38;5;124m'\u001b[39m\u001b[38;5;124mnum_workers\u001b[39m\u001b[38;5;124m'\u001b[39m, \u001b[38;5;241m0\u001b[39m) \u001b[38;5;241m>\u001b[39m \u001b[38;5;241m0\u001b[39m,\n\u001b[1;32m    359\u001b[0m     )\n\u001b[0;32m--> 361\u001b[0m \u001b[38;5;28;43msuper\u001b[39;49m\u001b[43m(\u001b[49m\u001b[43m)\u001b[49m\u001b[38;5;241;43m.\u001b[39;49m\u001b[38;5;21;43m__init__\u001b[39;49m\u001b[43m(\u001b[49m\n\u001b[1;32m    362\u001b[0m \u001b[43m    \u001b[49m\u001b[43mDataset\u001b[49m\u001b[43m(\u001b[49m\u001b[43medge_label_index\u001b[49m\u001b[43m,\u001b[49m\u001b[43m \u001b[49m\u001b[43medge_label\u001b[49m\u001b[43m,\u001b[49m\u001b[43m \u001b[49m\u001b[43medge_label_time\u001b[49m\u001b[43m)\u001b[49m\u001b[43m,\u001b[49m\n\u001b[1;32m    363\u001b[0m \u001b[43m    \u001b[49m\u001b[43mcollate_fn\u001b[49m\u001b[38;5;241;43m=\u001b[39;49m\u001b[38;5;28;43mself\u001b[39;49m\u001b[38;5;241;43m.\u001b[39;49m\u001b[43mcollate_fn\u001b[49m\u001b[43m,\u001b[49m\u001b[43m \u001b[49m\u001b[38;5;241;43m*\u001b[39;49m\u001b[38;5;241;43m*\u001b[39;49m\u001b[43mkwargs\u001b[49m\u001b[43m)\u001b[49m\n",
      "\u001b[0;31mTypeError\u001b[0m: __init__() got an unexpected keyword argument 'disjoint'"
     ]
    }
   ],
   "source": [
    "link_loader = LinkNeighborLoader(\n",
    "    data,\n",
    "    # Sample 30 neighbors for each node for 2 iterations\n",
    "    num_neighbors=[20] * 0,\n",
    "    # Use a batch size of 128 for sampling training nodes\n",
    "    batch_size=4,\n",
    "    # edge_label_index=data.edge_index,\n",
    "    disjoint=True\n",
    ")"
   ]
  },
  {
   "cell_type": "code",
   "execution_count": 183,
   "id": "f5ae5255-ed80-46a7-b6a8-0e1831f124ff",
   "metadata": {},
   "outputs": [],
   "source": [
    "link_loader_iter = iter(link_loader)"
   ]
  },
  {
   "cell_type": "code",
   "execution_count": 184,
   "id": "ff596d3c-fdc5-4ab2-a3f3-e69767a5be4a",
   "metadata": {},
   "outputs": [
    {
     "name": "stdout",
     "output_type": "stream",
     "text": [
      "Data(x=[6, 1433], edge_index=[2, 0], y=[6], train_mask=[6], val_mask=[6], test_mask=[6], edge_label_index=[2, 4], edge_label=[4])\n"
     ]
    }
   ],
   "source": [
    "sampled_data = next(link_loader_iter)\n",
    "print(sampled_data)"
   ]
  },
  {
   "cell_type": "code",
   "execution_count": 185,
   "id": "92e08c70-c959-4035-994f-46fdf208d0da",
   "metadata": {},
   "outputs": [
    {
     "data": {
      "text/plain": [
       "tensor([[0., 0., 0.,  ..., 0., 0., 0.],\n",
       "        [0., 0., 0.,  ..., 0., 0., 0.],\n",
       "        [0., 0., 0.,  ..., 0., 0., 0.],\n",
       "        [0., 0., 0.,  ..., 0., 0., 0.]])"
      ]
     },
     "execution_count": 185,
     "metadata": {},
     "output_type": "execute_result"
    }
   ],
   "source": [
    "sampled_data.x[:4]"
   ]
  },
  {
   "cell_type": "code",
   "execution_count": 186,
   "id": "3fa71e21-a3a1-491c-b285-4c2e711852e1",
   "metadata": {},
   "outputs": [
    {
     "data": {
      "text/plain": [
       "tensor([[0, 0, 0, 1],\n",
       "        [3, 4, 5, 2]])"
      ]
     },
     "execution_count": 186,
     "metadata": {},
     "output_type": "execute_result"
    }
   ],
   "source": [
    "sampled_data.edge_label_index"
   ]
  },
  {
   "cell_type": "code",
   "execution_count": 172,
   "id": "6d86964b-0b32-4f7f-9b90-f681f93c35f9",
   "metadata": {},
   "outputs": [],
   "source": [
    "import torch\n",
    "max_idx_node_with_edge = torch.max(sampled_data.edge_label_index)"
   ]
  },
  {
   "cell_type": "code",
   "execution_count": 176,
   "id": "7b669b39-d605-48cc-be14-71e04bd62561",
   "metadata": {},
   "outputs": [
    {
     "data": {
      "text/plain": [
       "tensor([[0., 0., 0.,  ..., 0., 0., 0.],\n",
       "        [0., 0., 0.,  ..., 0., 0., 0.],\n",
       "        [0., 0., 0.,  ..., 0., 0., 0.],\n",
       "        [0., 0., 0.,  ..., 0., 0., 0.],\n",
       "        [0., 0., 0.,  ..., 0., 0., 0.]])"
      ]
     },
     "execution_count": 176,
     "metadata": {},
     "output_type": "execute_result"
    }
   ],
   "source": [
    "sampled_data.x[:max_idx_node_with_edge + 1]"
   ]
  },
  {
   "cell_type": "code",
   "execution_count": 168,
   "id": "c624d18c-b9e2-4d35-974a-bd188b0f977e",
   "metadata": {},
   "outputs": [
    {
     "data": {
      "text/plain": [
       "tensor([], size=(2, 0), dtype=torch.int64)"
      ]
     },
     "execution_count": 168,
     "metadata": {},
     "output_type": "execute_result"
    }
   ],
   "source": [
    "sampled_data.edge_index"
   ]
  },
  {
   "cell_type": "code",
   "execution_count": 188,
   "id": "8bea7c4f-ba58-4ed0-beb7-09679a1d82b8",
   "metadata": {},
   "outputs": [
    {
     "data": {
      "text/plain": [
       "Data(x=[48, 1433], edge_index=[2, 58], y=[48], train_mask=[48], val_mask=[48], test_mask=[48], batch_size=4)"
      ]
     },
     "execution_count": 188,
     "metadata": {},
     "output_type": "execute_result"
    }
   ],
   "source": [
    "node_loader = NeighborLoader(\n",
    "    data,\n",
    "    # Sample 30 neighbors for each node for 2 iterations\n",
    "    num_neighbors=[20] * 2,\n",
    "    # Use a batch size of 128 for sampling training nodes\n",
    "    batch_size=4,\n",
    "    input_nodes=data.train_mask,\n",
    ")\n",
    "\n",
    "sampled_data_node = next(iter(node_loader))\n",
    "sampled_data_node"
   ]
  },
  {
   "cell_type": "code",
   "execution_count": null,
   "id": "1ceec8dd-6987-4bb5-a642-dce24497f31f",
   "metadata": {},
   "outputs": [],
   "source": [
    "sampled_data_node"
   ]
  },
  {
   "cell_type": "code",
   "execution_count": null,
   "id": "a2ccaaa8-8d44-441c-af4c-f3dc22bd5cb9",
   "metadata": {},
   "outputs": [],
   "source": [
    "sampled_data_node.x.shape"
   ]
  },
  {
   "cell_type": "code",
   "execution_count": null,
   "id": "b39d9408-bc47-4fd6-aef7-a1d9c33a02a8",
   "metadata": {},
   "outputs": [],
   "source": []
  }
 ],
 "metadata": {
  "kernelspec": {
   "display_name": "Python 3 (ipykernel)",
   "language": "python",
   "name": "python3"
  },
  "language_info": {
   "codemirror_mode": {
    "name": "ipython",
    "version": 3
   },
   "file_extension": ".py",
   "mimetype": "text/x-python",
   "name": "python",
   "nbconvert_exporter": "python",
   "pygments_lexer": "ipython3",
   "version": "3.9.15"
  }
 },
 "nbformat": 4,
 "nbformat_minor": 5
}
