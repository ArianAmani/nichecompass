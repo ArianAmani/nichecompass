{
 "cells": [
  {
   "cell_type": "markdown",
   "id": "1b1daabf-c8e3-43d4-aa32-9789abcc8619",
   "metadata": {},
   "source": [
    "# Autotalker Data Analysis Tutorial"
   ]
  },
  {
   "cell_type": "markdown",
   "id": "c325d921-2077-42b3-90a8-6f6c7dd928c5",
   "metadata": {},
   "source": [
    "- **Creator**: Sebastian Birk (<sebastian.birk@helmholtz-munich.de>).\n",
    "- **Affiliation:** Helmholtz Munich, Institute of Computational Biology (ICB), Talavera-López Lab\n",
    "- **Date of Creation:** 22.01.2023\n",
    "- **Date of Last Modification:** 17.05.2023"
   ]
  },
  {
   "cell_type": "markdown",
   "id": "8f6bd6fb-6697-43bd-b3ec-68b061afe511",
   "metadata": {},
   "source": [
    "- In order to run this notebook, a trained model needs to be stored under f\"../artifacts/{dataset}/models/{load_timestamp}/{model_label}\"."
   ]
  },
  {
   "cell_type": "markdown",
   "id": "2d464ebf-354f-4f61-8040-c3dcbcc893b9",
   "metadata": {},
   "source": [
    "## 1. Setup"
   ]
  },
  {
   "cell_type": "markdown",
   "id": "d5631277-d8d2-4194-a376-280f4f149b7d",
   "metadata": {},
   "source": [
    "### 1.1 Import Libraries"
   ]
  },
  {
   "cell_type": "code",
   "execution_count": null,
   "id": "4e5d3297-0290-47c0-846f-705e74cdb3de",
   "metadata": {
    "tags": []
   },
   "outputs": [],
   "source": [
    "%load_ext autoreload\n",
    "%autoreload 2"
   ]
  },
  {
   "cell_type": "code",
   "execution_count": null,
   "id": "8dbd4925-7505-4d01-bf91-95b54bb8b533",
   "metadata": {
    "tags": []
   },
   "outputs": [],
   "source": [
    "import sys\n",
    "sys.path.append(\"../../autotalker\")\n",
    "sys.path.append(\"../utils\")"
   ]
  },
  {
   "cell_type": "code",
   "execution_count": null,
   "id": "b4aa3c6a-5a44-4cf1-84a3-5e514457cf3c",
   "metadata": {
    "tags": []
   },
   "outputs": [],
   "source": [
    "import argparse\n",
    "import os\n",
    "import random\n",
    "import warnings\n",
    "from datetime import datetime\n",
    "\n",
    "import anndata as ad\n",
    "import matplotlib\n",
    "import matplotlib.pyplot as plt\n",
    "import mlflow\n",
    "import numpy as np\n",
    "import pandas as pd\n",
    "import scanpy as sc\n",
    "import scipy.sparse as sp\n",
    "import seaborn as sns\n",
    "import squidpy as sq\n",
    "import torch\n",
    "from matplotlib import gridspec\n",
    "from matplotlib.pyplot import rc_context\n",
    "\n",
    "from autotalker.models import Autotalker\n",
    "from autotalker.utils import (add_gps_from_gp_dict_to_adata,\n",
    "                              aggregate_obsp_matrix_per_cell_type,\n",
    "                              create_cell_type_chord_plot_from_df,\n",
    "                              extract_gp_dict_from_mebocost_es_interactions,\n",
    "                              extract_gp_dict_from_nichenet_ligand_target_mx,\n",
    "                              extract_gp_dict_from_omnipath_lr_interactions,\n",
    "                              filter_and_combine_gp_dict_gps,\n",
    "                              get_unique_genes_from_gp_dict)\n",
    "\n",
    "from color_utils import (batch_colors,\n",
    "                         latent_cluster_colors,\n",
    "                         mapping_entity_colors,\n",
    "                         seqfish_mouse_organogenesis_cell_type_colors,\n",
    "                         spatial_atac_rna_seq_mouse_embryo_and_brain_rna_colors,\n",
    "                         spatial_atac_rna_seq_mouse_embryo_and_brain_atac_colors,\n",
    "                         starmap_plus_mouse_cns_cell_type_colors,\n",
    "                         visium_human_heart_colors)\n",
    "from analysis_utils import (add_cell_type_latent_cluster_emphasis,\n",
    "                            add_sub_cell_type,\n",
    "                            compute_cell_type_latent_clusters,\n",
    "                            generate_gp_info_plots,\n",
    "                            plot_physical_latent_for_cell_types,\n",
    "                            plot_cell_type_latent_clusters,\n",
    "                            plot_latent,\n",
    "                            plot_latent_clusters_in_latent_and_physical_space,\n",
    "                            store_top_gps_summary)"
   ]
  },
  {
   "cell_type": "markdown",
   "id": "9f91f345-c297-47cb-8650-c6d9c60a8b7e",
   "metadata": {},
   "source": [
    "### 1.2 Define Parameters"
   ]
  },
  {
   "cell_type": "code",
   "execution_count": null,
   "id": "a4d4e6d9-239f-47c5-a30b-579b16d4c27c",
   "metadata": {
    "tags": []
   },
   "outputs": [],
   "source": [
    "## Model\n",
    "# Model to be loaded\n",
    "# dataset = \"spatial_atac_rna_seq_mouse_brain_batch2\"\n",
    "dataset = \"seqfish_mouse_organogenesis_imputed\"\n",
    "model_label = \"reference\"\n",
    "run_number = 1 # only required if model_label == sample_integration_method_benchmarking\n",
    "\n",
    "# AnnData keys\n",
    "sub_cell_type_key = \"sub_cell_type\"\n",
    "gp_names_key = \"autotalker_gp_names\"\n",
    "latent_key = \"autotalker_latent\"\n",
    "latent_knng_key = \"autotalker_latent\"\n",
    "mapping_entity_key = \"mapping_entity\"\n",
    "\n",
    "## Others\n",
    "random_seed = 0"
   ]
  },
  {
   "cell_type": "code",
   "execution_count": null,
   "id": "01210b2f-017e-43f6-b650-5cc732252f8c",
   "metadata": {
    "tags": []
   },
   "outputs": [],
   "source": [
    "if dataset == \"seqfish_mouse_organogenesis_imputed\":\n",
    "    load_timestamp = \"12052023_101740\"\n",
    "    cell_type_key = \"celltype_mapped_refined\"\n",
    "    cell_type_colors = seqfish_mouse_organogenesis_cell_type_colors\n",
    "    dataset_str = \"seqFISH Mouse Organogenesis Imputed\"\n",
    "    multimodal = False\n",
    "    sample_key = \"sample\"\n",
    "    samples = [\"embryo1\", \"embryo2\", \"embryo3\"]\n",
    "    condition_key = \"batch\"\n",
    "    latent_leiden_resolution = 0.4\n",
    "    latent_cluster_spot_size = 0.03\n",
    "elif dataset == \"starmap_plus_mouse_cns\":\n",
    "    cell_type_colors = starmap_plus_mouse_cns_cell_type_colors\n",
    "    dataset_str = \"STARmap PLUS Mouse Central Nervous System\"\n",
    "    multimodal = False\n",
    "elif dataset == \"visium_human_heart\":\n",
    "    load_timestamp = \"15052023_102158\"\n",
    "    cell_type_key = \"majority_cell_type\"\n",
    "    cell_type_colors = visium_human_heart_colors\n",
    "    dataset_str = \"Visium Human Heart\"\n",
    "    multimodal = False\n",
    "    sample_key = \"batch\"\n",
    "    samples = [\"batch1\", \"batch2\", \"batch3\"]\n",
    "    condition_key = \"batch\"\n",
    "    latent_leiden_resolution = 0.5\n",
    "    latent_cluster_key = f\"latent_leiden_{str(latent_leiden_resolution)}\"\n",
    "    latent_cluster_spot_size = 200\n",
    "elif dataset == \"spatial_atac_rna_seq_mouse_brain_batch2\":\n",
    "    load_timestamp = \"15052023_114414\"\n",
    "    multimodal = True\n",
    "    cell_type_key = \"RNA_clusters\"\n",
    "    cell_type_colors = spatial_atac_rna_seq_mouse_embryo_and_brain_rna_colors\n",
    "    rna_cluster_colors = spatial_atac_rna_seq_mouse_embryo_and_brain_rna_colors\n",
    "    atac_cluster_colors = spatial_atac_rna_seq_mouse_embryo_and_brain_atac_colors\n",
    "    dataset_str = \"Spatial ATAC-RNA-Seq Mouse Brain\"\n",
    "    sample_key = \"batch\"\n",
    "    samples = [\"p22\"]\n",
    "    condition_key = \"batch\"\n",
    "    latent_leiden_resolution = 0.5\n",
    "    latent_cluster_spot_size = 30\n",
    "    \n",
    "latent_cluster_key = f\"latent_leiden_{str(latent_leiden_resolution)}\""
   ]
  },
  {
   "cell_type": "markdown",
   "id": "a6c3b7fa-fa59-43dd-81d2-7e116650915f",
   "metadata": {},
   "source": [
    "### 1.3 Run Notebook Setup"
   ]
  },
  {
   "cell_type": "code",
   "execution_count": null,
   "id": "1bf229ca-ab66-4e52-a31e-8655878d290d",
   "metadata": {
    "tags": []
   },
   "outputs": [],
   "source": [
    "sc.set_figure_params(figsize=(6, 6))\n",
    "sns.set_style(\"whitegrid\", {'axes.grid' : False})"
   ]
  },
  {
   "cell_type": "code",
   "execution_count": null,
   "id": "924032d4-24a4-45cf-87e1-0eba197da0c2",
   "metadata": {
    "tags": []
   },
   "outputs": [],
   "source": [
    "# Ignore future warnings and user warnings\n",
    "warnings.simplefilter(action=\"ignore\", category=FutureWarning)\n",
    "warnings.simplefilter(action=\"ignore\", category=UserWarning)\n",
    "warnings.simplefilter(action=\"ignore\", category=RuntimeWarning)"
   ]
  },
  {
   "cell_type": "code",
   "execution_count": null,
   "id": "ab22fbaf-aeed-464b-8a20-b640b9e055fd",
   "metadata": {
    "tags": []
   },
   "outputs": [],
   "source": [
    "# Get time of notebook execution for timestamping saved artifacts\n",
    "now = datetime.now()\n",
    "if load_timestamp is not None:\n",
    "    current_timestamp = load_timestamp\n",
    "else:\n",
    "    current_timestamp = now.strftime(\"%d%m%Y_%H%M%S\")"
   ]
  },
  {
   "cell_type": "markdown",
   "id": "2b886225-6b6d-433c-b117-47b9a8f8091f",
   "metadata": {},
   "source": [
    "### 1.4 Configure Paths and Create Directories"
   ]
  },
  {
   "cell_type": "code",
   "execution_count": null,
   "id": "36675337-808d-40a9-93fc-d6cfa9473f66",
   "metadata": {
    "tags": []
   },
   "outputs": [],
   "source": [
    "# Define paths\n",
    "figure_folder_path = f\"../figures/{dataset}/analysis/{current_timestamp}\"\n",
    "model_artifacts_folder_path = f\"../artifacts/{dataset}/models/{load_timestamp}\"\n",
    "gp_data_folder_path = \"../datasets/gp_data\" # gene program data\n",
    "srt_data_folder_path = \"../datasets/srt_data\" # spatially resolved transcriptomics data\n",
    "srt_data_gold_folder_path = f\"{srt_data_folder_path}/gold\"\n",
    "\n",
    "# Create required directories\n",
    "os.makedirs(figure_folder_path, exist_ok=True)\n",
    "os.makedirs(model_artifacts_folder_path, exist_ok=True)"
   ]
  },
  {
   "cell_type": "markdown",
   "id": "9cea1a5c-d075-4e51-90e5-90684bee88a6",
   "metadata": {},
   "source": [
    "## 2. Model"
   ]
  },
  {
   "cell_type": "markdown",
   "id": "8d6ede1d-2cdf-4c81-9f56-e4745ae59e6c",
   "metadata": {},
   "source": [
    "### 2.1 Load Model"
   ]
  },
  {
   "cell_type": "code",
   "execution_count": null,
   "id": "bbe9e6c2-6ea1-49c7-a625-79e0386ac5bb",
   "metadata": {},
   "outputs": [],
   "source": [
    "if model_label == \"sample_integration_method_benchmarking\":\n",
    "    model_dir_path = f\"{model_artifacts_folder_path}/{model_label}/run{run_number}\"\n",
    "else:\n",
    "    model_dir_path = f\"{model_artifacts_folder_path}/{model_label}\""
   ]
  },
  {
   "cell_type": "code",
   "execution_count": null,
   "id": "3dad2ca6-7e34-48bc-89ef-4f994389a0f1",
   "metadata": {
    "tags": []
   },
   "outputs": [],
   "source": [
    "if multimodal:\n",
    "    model = Autotalker.load(dir_path=model_dir_path,\n",
    "                            adata=None,\n",
    "                            adata_file_name=f\"{dataset}_{model_label}.h5ad\",\n",
    "                            adata_atac=None,\n",
    "                            adata_atac_file_name=f\"{dataset}_{model_label}_atac.h5ad\",\n",
    "                            gp_names_key=gp_names_key)\n",
    "else:\n",
    "    # Load trained model\n",
    "    model = Autotalker.load(dir_path=model_dir_path,\n",
    "                            adata=None,\n",
    "                            adata_file_name=f\"{dataset}_{model_label}.h5ad\",\n",
    "                            gp_names_key=gp_names_key)"
   ]
  },
  {
   "cell_type": "markdown",
   "id": "d48d33e1-36d5-4246-a947-4662055cea58",
   "metadata": {},
   "source": [
    "### 2.2 Retrieve GP Summary"
   ]
  },
  {
   "cell_type": "code",
   "execution_count": null,
   "id": "8fc40859-6a4a-4bfa-8362-d28d4c1c2057",
   "metadata": {
    "tags": []
   },
   "outputs": [],
   "source": [
    "# Check number of active gene programs\n",
    "active_gps = model.get_active_gps()\n",
    "print(f\"Number of total gene programs: {len(model.adata.uns[gp_names_key])}.\")\n",
    "print(f\"Number of active gene programs: {len(active_gps)}.\")"
   ]
  },
  {
   "cell_type": "code",
   "execution_count": null,
   "id": "85cb0edb-1eb6-48b5-b56c-079501cb697d",
   "metadata": {
    "tags": []
   },
   "outputs": [],
   "source": [
    "gp_summary_df = model.get_gp_summary()\n",
    "gp_summary_df[gp_summary_df[\"gp_active\"] == True][0:20]"
   ]
  },
  {
   "cell_type": "markdown",
   "id": "fa759223-4a75-425c-88cf-ddf960bd33ef",
   "metadata": {},
   "source": [
    "## 3. Analysis"
   ]
  },
  {
   "cell_type": "markdown",
   "id": "160f79db-6332-4cd0-bd39-beea1af54583",
   "metadata": {},
   "source": [
    "### 3.1 NicheCompass Latent Manifold Overview"
   ]
  },
  {
   "cell_type": "code",
   "execution_count": null,
   "id": "b03f95cd-74f6-4e19-bf75-2142850b5801",
   "metadata": {
    "tags": []
   },
   "outputs": [],
   "source": [
    "# Plot UMAP with batch annotations\n",
    "save_fig = True\n",
    "file_path = f\"{figure_folder_path}/batch_annotations_latent_space.svg\"\n",
    "\n",
    "plot_latent(adata=model.adata,\n",
    "            dataset_label=dataset_str,\n",
    "            color_by=condition_key,\n",
    "            color_palette=batch_colors,\n",
    "            groups=None,\n",
    "            save_fig=save_fig,\n",
    "            file_path=file_path)"
   ]
  },
  {
   "cell_type": "code",
   "execution_count": null,
   "id": "f995026b-cd0b-44b6-ad51-ef27b9a7021c",
   "metadata": {
    "tags": []
   },
   "outputs": [],
   "source": [
    "# Plot UMAP with cell type annotations\n",
    "save_fig = True\n",
    "file_path = f\"{figure_folder_path}/cell_type_annotations_latent_space.svg\"\n",
    "\n",
    "plot_latent(adata=model.adata,\n",
    "            dataset_label=dataset_str,\n",
    "            color_by=cell_type_key,\n",
    "            color_palette=cell_type_colors,\n",
    "            groups=None,\n",
    "            save_fig=save_fig,\n",
    "            file_path=file_path)"
   ]
  },
  {
   "cell_type": "code",
   "execution_count": null,
   "id": "946e2c51-f7a5-4646-9679-fa0a796ec165",
   "metadata": {
    "tags": []
   },
   "outputs": [],
   "source": [
    "# Plot UMAP with mapping entity annotations\n",
    "save_fig = True\n",
    "file_path = f\"{figure_folder_path}/mapping_entity_annotations_latent_space.svg\"\n",
    "\n",
    "plot_latent(adata=model.adata,\n",
    "            dataset_label=dataset_str,\n",
    "            color_by=mapping_entity_key,\n",
    "            color_palette=mapping_entity_colors,\n",
    "            groups=None,\n",
    "            save_fig=save_fig,\n",
    "            file_path=file_path)"
   ]
  },
  {
   "cell_type": "code",
   "execution_count": null,
   "id": "44abc3f7-9d93-408b-be6e-0b1e4e94866d",
   "metadata": {},
   "outputs": [],
   "source": [
    "sc.tl.leiden(adata=model.adata,\n",
    "             resolution=latent_leiden_resolution,\n",
    "             key_added=latent_cluster_key,\n",
    "             neighbors_key=latent_knng_key)"
   ]
  },
  {
   "cell_type": "code",
   "execution_count": null,
   "id": "60f37aff-e347-4db1-8456-ed6f5e199bcc",
   "metadata": {},
   "outputs": [],
   "source": [
    "save_fig = True\n",
    "file_path = f\"{figure_folder_path}/res_{latent_leiden_resolution}_\" \\\n",
    "            \"latent_cluster_annotations_latent_physical_space.svg\"\n",
    "\n",
    "plot_latent_clusters_in_latent_and_physical_space(\n",
    "    adata=model.adata,\n",
    "    plot_label=\"Latent Clusters\",\n",
    "    latent_cluster_key=latent_cluster_key,\n",
    "    groups=None,\n",
    "    sample_key=sample_key,\n",
    "    samples=samples,\n",
    "    latent_cluster_colors=latent_cluster_colors,\n",
    "    size=640000/len(model.adata),\n",
    "    spot_size=latent_cluster_spot_size,\n",
    "    save_fig=save_fig,\n",
    "    file_path=file_path)"
   ]
  },
  {
   "cell_type": "code",
   "execution_count": null,
   "id": "7cb42305-d20a-4910-8d18-8cc49930cd7c",
   "metadata": {},
   "outputs": [],
   "source": [
    "if multimodal:\n",
    "    save_fig = True\n",
    "    file_path = f\"{figure_folder_path}/res_{latent_leiden_resolution}_\" \\\n",
    "                \"rna_cluster_annotations_latent_physical_space.svg\"\n",
    "\n",
    "    plot_latent_clusters_in_latent_and_physical_space(\n",
    "        adata=model.adata,\n",
    "        plot_label=\"RNA Clusters\",\n",
    "        latent_cluster_key=\"RNA_clusters\",\n",
    "        groups=None,\n",
    "        condition_key=\"batch\",\n",
    "        conditions=conditions,\n",
    "        latent_cluster_colors=rna_cluster_colors,\n",
    "        size=640000/len(model.adata),\n",
    "        spot_size=latent_cluster_spot_size,\n",
    "        save_fig=save_fig,\n",
    "        file_path=file_path)\n",
    "\n",
    "    save_fig = True\n",
    "    file_path = f\"{figure_folder_path}/res_{latent_leiden_resolution}_\" \\\n",
    "                \"atac_cluster_annotations_latent_physical_space.svg\"\n",
    "\n",
    "    plot_latent_clusters_in_latent_and_physical_space(\n",
    "        adata=model.adata,\n",
    "        plot_label=\"ATAC Clusters\",\n",
    "        latent_cluster_key=\"ATAC_clusters\",\n",
    "        groups=None,\n",
    "        condition_key=\"batch\",\n",
    "        conditions=conditions,\n",
    "        latent_cluster_colors=atac_cluster_colors,\n",
    "        size=640000/len(model.adata),\n",
    "        spot_size=latent_cluster_spot_size,\n",
    "        save_fig=save_fig,\n",
    "        file_path=file_path)"
   ]
  },
  {
   "cell_type": "markdown",
   "id": "67658a0a-edbb-4e7b-836f-e4e4808246de",
   "metadata": {},
   "source": [
    "### 3.2 NicheCompass Latent Cluster Differential GP Testing"
   ]
  },
  {
   "cell_type": "code",
   "execution_count": null,
   "id": "d11e6d77-6bcb-49b9-8c59-fb4a55b96116",
   "metadata": {},
   "outputs": [],
   "source": [
    "# Run differential gp testing and generate dotplot of gps enriched in the cell type\n",
    "title = f\"NicheCompass Latent Cluster Enriched Gene Programs\"\n",
    "log_bayes_factor_thresh = 4.6 # 2.3, 4.6\n",
    "save_fig = True\n",
    "file_path = f\"{figure_folder_path}/log_bayes_factor_{log_bayes_factor_thresh}\" \\\n",
    "             \"_enriched_gps_dotplot.svg\"\n",
    "\n",
    "# Cell type vs other cell types\n",
    "enriched_gps = model.run_differential_gp_tests(\n",
    "    cat_key=latent_cluster_key,\n",
    "    selected_cats=None,\n",
    "    comparison_cats=\"rest\",\n",
    "    log_bayes_factor_thresh=log_bayes_factor_thresh)\n",
    "\n",
    "fig = sc.pl.dotplot(model.adata,\n",
    "                    enriched_gps,\n",
    "                    groupby=latent_cluster_key,\n",
    "                    dendrogram=True, \n",
    "                    title=title,\n",
    "                    swap_axes=True,\n",
    "                    return_fig=True,\n",
    "                    figsize=(model.adata.obs[latent_cluster_key].nunique() / 2,\n",
    "                             len(enriched_gps) / 2))\n",
    "if save_fig:\n",
    "    fig.savefig(file_path)\n",
    "else:\n",
    "    fig.show()"
   ]
  },
  {
   "cell_type": "code",
   "execution_count": null,
   "id": "d5d5bce1-3f24-4839-8091-191ae425d0ba",
   "metadata": {},
   "outputs": [],
   "source": [
    "save_file = True\n",
    "file_path = file_path = f\"{figure_folder_path}/log_bayes_factor_\" \\\n",
    "                        f\"{log_bayes_factor_thresh}_enriched_gps_summary.csv\"\n",
    "\n",
    "gp_summary_cols = [\"gp_name\",\n",
    "                   \"n_source_genes\",\n",
    "                   \"n_non_zero_source_genes\",\n",
    "                   \"n_target_genes\",\n",
    "                   \"n_non_zero_target_genes\",\n",
    "                   \"gp_source_genes\",\n",
    "                   \"gp_target_genes\",\n",
    "                   \"gp_source_genes_weights_sign_corrected\",\n",
    "                   \"gp_target_genes_weights_sign_corrected\",\n",
    "                   \"gp_source_genes_importances\",\n",
    "                   \"gp_target_genes_importances\"]\n",
    "if multimodal:\n",
    "    gp_summary_cols = gp_summary_cols + [\n",
    "        \"n_source_peaks\",\n",
    "        \"n_target_peaks\",\n",
    "        \"gp_source_peaks\",\n",
    "        \"gp_target_peaks\",\n",
    "        \"gp_source_genes_weights_sign_corrected\",\n",
    "        \"gp_target_genes_weights_sign_corrected\",\n",
    "        \"gp_source_genes_importances\",\n",
    "        \"gp_target_genes_importances\"]\n",
    "\n",
    "# Get summary of enriched gene programs\n",
    "enriched_gp_summary_df = gp_summary_df[gp_summary_df[\"gp_name\"].isin(enriched_gps)]\n",
    "cat_dtype = pd.CategoricalDtype(categories=enriched_gps, ordered=True)\n",
    "enriched_gp_summary_df.loc[:, \"gp_name\"] = enriched_gp_summary_df[\"gp_name\"].astype(cat_dtype)\n",
    "enriched_gp_summary_df = enriched_gp_summary_df.sort_values(by=\"gp_name\")\n",
    "enriched_gp_summary_df = enriched_gp_summary_df[gp_summary_cols]\n",
    "\n",
    "if save_file:\n",
    "    enriched_gp_summary_df.to_csv(f\"{file_path}\")\n",
    "else:\n",
    "    display(enriched_gp_summary_df)"
   ]
  },
  {
   "cell_type": "code",
   "execution_count": null,
   "id": "36b6ae43-5e3e-450e-963b-042896e4d992",
   "metadata": {},
   "outputs": [],
   "source": [
    "generate_gp_info_plots(\n",
    "    analysis_label=f\"latent_cluster\",\n",
    "    model=model,\n",
    "    cell_type_key=cell_type_key,\n",
    "    cell_type_colors=cell_type_colors,\n",
    "    latent_cluster_colors=latent_cluster_colors,\n",
    "    differential_gp_test_results_key=\"autotalker_differential_gp_test_results\",\n",
    "    plot_category=latent_cluster_key,\n",
    "    feature_spaces=[\"latent\"], # \"physical_embryo1\", \"physical_embryo2\", \"physical_embryo3\"\n",
    "    plot_types=[\"top_genes\"],\n",
    "    figure_folder_path=figure_folder_path,\n",
    "    log_bayes_factor_thresh=log_bayes_factor_thresh,\n",
    "    save_figs=True)"
   ]
  },
  {
   "cell_type": "markdown",
   "id": "c64e6685-60bf-4fa6-8c44-0f1dcd548433",
   "metadata": {},
   "source": [
    "### 3.2 NicheCompass Cell Type Analysis"
   ]
  },
  {
   "cell_type": "markdown",
   "id": "ecb56a26-9515-4cd0-9c55-fc6b841555e8",
   "metadata": {},
   "source": [
    "#### 3.2.1 Forebrain/Midbrain/Hindbrain"
   ]
  },
  {
   "cell_type": "code",
   "execution_count": null,
   "id": "f962bae7-1b93-44eb-bb3d-11f450024c4c",
   "metadata": {},
   "outputs": [],
   "source": [
    "cell_type = \"Forebrain/Midbrain/Hindbrain\"\n",
    "cell_type_fmt = cell_type.replace('/', '_').lower()\n",
    "cell_type_differential_gp_scores_key = f\"{cell_type}_differential_gp_scores\""
   ]
  },
  {
   "cell_type": "markdown",
   "id": "0035471a-6afe-4979-99af-c9fbcd5fc4ad",
   "metadata": {},
   "source": [
    "##### 3.2.1.1 Overview"
   ]
  },
  {
   "cell_type": "markdown",
   "id": "f1bb907e-363f-4640-9bc2-2d1e47c528c6",
   "metadata": {},
   "source": [
    "- Regionally specific developing brain subtypes: separation into Rhombencephalon, Tegmentum, Mesencephalon, Prosencephalon"
   ]
  },
  {
   "cell_type": "code",
   "execution_count": null,
   "id": "03c6933a-7182-4458-a4f5-ff35ebc5e9c4",
   "metadata": {},
   "outputs": [],
   "source": [
    "# Plot cell type in physical and latent space\n",
    "plot_physical_latent_for_cell_types(adata=model.adata,\n",
    "                                    cell_types=[cell_type],\n",
    "                                    sample_key=sample_key,\n",
    "                                    cell_type_key=cell_type_key,\n",
    "                                    cell_type_colors=seqfish_mouse_organogenesis_cell_type_colors,\n",
    "                                    figure_folder_path=figure_folder_path,\n",
    "                                    save_fig=True)"
   ]
  },
  {
   "cell_type": "code",
   "execution_count": null,
   "id": "61170da8-5e96-486f-9b41-7e05ad1fd0ee",
   "metadata": {},
   "outputs": [],
   "source": [
    "# Run differential gp testing and generate dotplot of gps enriched in the cell type\n",
    "title = f\"Enriched Gene Programs {cell_type}\"\n",
    "log_bayes_factor_thresh = 2.3\n",
    "save_fig = True\n",
    "file_path = f\"{figure_folder_path}/{cell_type_fmt}_log_bayes_factor_{log_bayes_factor_thresh}\" \\\n",
    "             \"_enriched_gps_dotplot.svg\"\n",
    "\n",
    "# Cell type vs other cell types\n",
    "enriched_gps = model.run_differential_gp_tests(\n",
    "    cat_key=cell_type_key,\n",
    "    selected_cats=[cell_type],\n",
    "    comparison_cats=\"rest\",\n",
    "    log_bayes_factor_thresh=log_bayes_factor_thresh)\n",
    "\n",
    "fig = sc.pl.dotplot(model.adata,\n",
    "                    enriched_gps,\n",
    "                    groupby=cell_type_key,\n",
    "                    dendrogram=True, \n",
    "                    title=title,\n",
    "                    swap_axes=True,\n",
    "                    return_fig=True,\n",
    "                    figsize=(model.adata.obs[cell_type_key].nunique()/2.5, len(enriched_gps)/2.5))\n",
    "if save_fig:\n",
    "    fig.savefig(file_path)\n",
    "else:\n",
    "    fig.show()"
   ]
  },
  {
   "cell_type": "code",
   "execution_count": null,
   "id": "35709e8a-c998-4685-859f-c3d2dfdbcb5e",
   "metadata": {},
   "outputs": [],
   "source": [
    "save_file = True\n",
    "file_path = file_path = f\"{figure_folder_path}/{cell_type_fmt}_log_bayes_factor_\" \\\n",
    "                        f\"{log_bayes_factor_thresh}_enriched_gps_summary.csv\"\n",
    "\n",
    "# Get summary of enriched gene programs\n",
    "enriched_gp_summary_df = gp_summary_df[gp_summary_df[\"gp_name\"].isin(enriched_gps)]\n",
    "cat_dtype = pd.CategoricalDtype(categories=enriched_gps, ordered=True)\n",
    "enriched_gp_summary_df.loc[:, \"gp_name\"] = enriched_gp_summary_df[\"gp_name\"].astype(cat_dtype)\n",
    "enriched_gp_summary_df = enriched_gp_summary_df.sort_values(by=\"gp_name\")\n",
    "enriched_gp_summary_df = enriched_gp_summary_df[[\n",
    "        \"gp_name\",\n",
    "        \"n_source_genes\",\n",
    "        \"n_non_zero_source_genes\",\n",
    "        \"n_target_genes\",\n",
    "        \"n_non_zero_target_genes\",\n",
    "        \"gp_source_genes\",\n",
    "        \"gp_target_genes\",\n",
    "        \"gp_source_genes_weights_sign_corrected\",\n",
    "        \"gp_target_genes_weights_sign_corrected\",\n",
    "        \"gp_source_genes_importances\",\n",
    "        \"gp_target_genes_importances\"]]\n",
    "\n",
    "if save_file:\n",
    "    enriched_gp_summary_df.to_csv(f\"{file_path}\")\n",
    "else:\n",
    "    display(enriched_gp_summary_df)"
   ]
  },
  {
   "cell_type": "code",
   "execution_count": null,
   "id": "d9e4f50e-b3a2-47ad-b42b-bc079e108a1a",
   "metadata": {},
   "outputs": [],
   "source": [
    "generate_gp_info_plots(\n",
    "    analysis_label=f\"{cell_type_fmt}\",\n",
    "    model=model,\n",
    "    cell_type_key=cell_type_key,\n",
    "    cell_type_colors=cell_type_colors,\n",
    "    latent_cluster_colors=latent_cluster_colors,\n",
    "    differential_gp_test_results_key=\"autotalker_differential_gp_test_results\",\n",
    "    plot_category=cell_type_key,\n",
    "    feature_spaces=[\"latent\"], # \"physical_embryo1\", \"physical_embryo2\", \"physical_embryo3\"\n",
    "    plot_types=[\"top_genes\"],\n",
    "    figure_folder_path=figure_folder_path,\n",
    "    log_bayes_factor_thresh=log_bayes_factor_thresh,\n",
    "    save_figs=True)"
   ]
  },
  {
   "cell_type": "markdown",
   "id": "d650af11-4ae9-4865-abc0-45560bc23da6",
   "metadata": {},
   "source": [
    "##### 3.2.1.2 Latent Cluster Analysis"
   ]
  },
  {
   "cell_type": "code",
   "execution_count": null,
   "id": "05b4e493-b98e-49e1-99cb-0e98bf915ad6",
   "metadata": {},
   "outputs": [],
   "source": [
    "cell_type_latent_resolution = 0.2 # 0.2 0.4 0.6\n",
    "cell_type_latent_cluster_key = f\"{cell_type_fmt}_latent_leiden_{cell_type_latent_resolution}\"\n",
    "cell_type_latent_clusters_of_interest_key = f\"{cell_type_fmt}_latent_leiden_{cell_type_latent_resolution}_clusters_of_interest\"\n",
    "cell_type_latent_cluster_emphasis_key = f\"{cell_type_latent_cluster_key}_emphasis\""
   ]
  },
  {
   "cell_type": "code",
   "execution_count": null,
   "id": "08590cb7-a931-4d59-bc6a-5c04a95c707f",
   "metadata": {},
   "outputs": [],
   "source": [
    "compute_cell_type_latent_clusters(\n",
    "    adata=model.adata,\n",
    "    latent_key=latent_key,\n",
    "    cell_type_latent_resolution=cell_type_latent_resolution,\n",
    "    cell_type_latent_cluster_key=cell_type_latent_cluster_key,\n",
    "    latent_knng_key=latent_knng_key,\n",
    "    cell_type_key=cell_type_key,\n",
    "    cell_type=cell_type)"
   ]
  },
  {
   "cell_type": "code",
   "execution_count": null,
   "id": "44f1da3d-fac7-4ad4-b1a8-2c7dba238c37",
   "metadata": {},
   "outputs": [],
   "source": [
    "groups = None\n",
    "save_fig = True\n",
    "\n",
    "plot_cell_type_latent_clusters(\n",
    "    adata=model.adata,\n",
    "    cell_type_latent_cluster_key=cell_type_latent_cluster_key,\n",
    "    cell_type=cell_type,\n",
    "    groups=groups,\n",
    "    condition_key=sample_key,\n",
    "    latent_cluster_colors=latent_cluster_colors,\n",
    "    save_fig=save_fig,\n",
    "    file_path=f\"{figure_folder_path}/{cell_type.replace('/', '_').replace(' ', '_').lower()}\"\n",
    "              f\"_res_{cell_type_latent_resolution}_{'latent_clusters' if groups is None else 'latent_cluster_' + groups}\"\n",
    "              \"_physical_latent_space.svg\")"
   ]
  },
  {
   "cell_type": "code",
   "execution_count": null,
   "id": "d94fda26-7181-485a-a545-79f9fc1d8a4c",
   "metadata": {},
   "outputs": [],
   "source": [
    "# Retrieve cell type latent clusters with at least 'min_obs_per_cluster' observations\n",
    "min_obs_per_cluster = 100\n",
    "cell_type_latent_cluster_counts = model.adata.obs[cell_type_latent_cluster_key].value_counts()\n",
    "cell_type_latent_clusters_of_interest = cell_type_latent_cluster_counts[\n",
    "    cell_type_latent_cluster_counts > min_obs_per_cluster].index.tolist()"
   ]
  },
  {
   "cell_type": "code",
   "execution_count": null,
   "id": "5f43dc61-b9ba-47bf-847a-236f41eedd7a",
   "metadata": {},
   "outputs": [],
   "source": [
    "for latent_cluster in cell_type_latent_clusters_of_interest:\n",
    "    groups = latent_cluster\n",
    "    save_fig = True\n",
    "\n",
    "    plot_cell_type_latent_clusters(\n",
    "        adata=model.adata,\n",
    "        cell_type_latent_cluster_key=cell_type_latent_cluster_key,\n",
    "        cell_type=cell_type,\n",
    "        groups=groups,\n",
    "        condition_key=sample_key,\n",
    "        latent_cluster_colors=latent_cluster_colors,\n",
    "        save_fig=save_fig,\n",
    "        file_path=f\"{figure_folder_path}/{cell_type.replace('/', '_').replace(' ', '_').lower()}\"\n",
    "                  f\"_res_{cell_type_latent_resolution}_{'latent_clusters' if groups is None else 'latent_cluster_' + groups}\"\n",
    "                  \"_physical_latent_space.svg\")"
   ]
  },
  {
   "cell_type": "code",
   "execution_count": null,
   "id": "e717c429-3102-4073-a35d-1828161b19af",
   "metadata": {},
   "outputs": [],
   "source": [
    "# Run differential gp testing and generate dotplot of gps enriched in the cell type\n",
    "title = f\"Enriched Gene Programs {cell_type} Latent Clusters (Resolution: {cell_type_latent_resolution})\"\n",
    "log_bayes_factor_thresh = 2.3 # 2.3, 4.6\n",
    "save_fig = True\n",
    "file_path = f\"{figure_folder_path}/{cell_type_fmt}_res_{cell_type_latent_resolution}_\" \\\n",
    "            f\"latent_clusters_log_bayes_factor_\" \\\n",
    "            f\"{log_bayes_factor_thresh}_enriched_gps_dotplot.svg\"\n",
    "\n",
    "# Create new column with only clusters of interest for dotplot\n",
    "model.adata.obs.loc[:, cell_type_latent_clusters_of_interest_key] = np.nan\n",
    "model.adata.obs.loc[model.adata.obs[cell_type_latent_cluster_key].isin(\n",
    "    cell_type_latent_clusters_of_interest), cell_type_latent_clusters_of_interest_key] = model.adata.obs[cell_type_latent_cluster_key]\n",
    "\n",
    "enriched_gps = []\n",
    "for cell_type_latent_cluster in cell_type_latent_clusters_of_interest:\n",
    "    \n",
    "    # Determine comparison categories\n",
    "    selected_cats = [cell_type_latent_cluster]\n",
    "    comparison_cats = list(set(cell_type_latent_clusters_of_interest) - set(selected_cats))\n",
    "\n",
    "    # Latent cluster vs other latent clusters of interest\n",
    "    latent_cluster_enriched_gps = model.run_differential_gp_tests(\n",
    "        cat_key=cell_type_latent_cluster_key,\n",
    "        selected_cats=selected_cats,\n",
    "        comparison_cats=comparison_cats,\n",
    "        log_bayes_factor_thresh=log_bayes_factor_thresh)\n",
    "    \n",
    "    enriched_gps.extend(latent_cluster_enriched_gps)\n",
    "    \n",
    "enriched_gps = list(set(enriched_gps))\n",
    "\n",
    "fig = sc.pl.dotplot(model.adata,\n",
    "                    enriched_gps,\n",
    "                    groupby=cell_type_latent_clusters_of_interest_key,\n",
    "                    dendrogram=True, \n",
    "                    title=title,\n",
    "                    swap_axes=True,\n",
    "                    return_fig=True,\n",
    "                    figsize=(model.adata.obs[cell_type_latent_clusters_of_interest_key].nunique()/1.5, len(enriched_gps)/2.5))\n",
    "if save_fig:\n",
    "    fig.savefig(file_path)\n",
    "else:\n",
    "    fig.show()"
   ]
  },
  {
   "cell_type": "code",
   "execution_count": null,
   "id": "d8b7990a-1f64-4093-b01a-ef77cf7543c8",
   "metadata": {},
   "outputs": [],
   "source": [
    "save_file = True\n",
    "file_path = file_path = f\"{figure_folder_path}/{cell_type_fmt}_res_{cell_type_latent_resolution}\" \\\n",
    "                        f\"_latent_clusters_\" \\\n",
    "                        f\"log_bayes_factor_{log_bayes_factor_thresh}_enriched_gps_summary.csv\"\n",
    "\n",
    "# Get summary of enriched gene programs\n",
    "enriched_gp_summary_df = gp_summary_df[gp_summary_df[\"gp_name\"].isin(enriched_gps)]\n",
    "cat_dtype = pd.CategoricalDtype(categories=enriched_gps, ordered=True)\n",
    "enriched_gp_summary_df.loc[:, \"gp_name\"] = enriched_gp_summary_df[\"gp_name\"].astype(cat_dtype)\n",
    "enriched_gp_summary_df = enriched_gp_summary_df.sort_values(by=\"gp_name\")\n",
    "enriched_gp_summary_df = enriched_gp_summary_df[[\n",
    "        \"gp_name\",\n",
    "        \"n_source_genes\",\n",
    "        \"n_non_zero_source_genes\",\n",
    "        \"n_target_genes\",\n",
    "        \"n_non_zero_target_genes\",\n",
    "        \"gp_source_genes\",\n",
    "        \"gp_target_genes\",\n",
    "        \"gp_source_genes_weights_sign_corrected\",\n",
    "        \"gp_target_genes_weights_sign_corrected\",\n",
    "        \"gp_source_genes_importances\",\n",
    "        \"gp_target_genes_importances\"]]\n",
    "\n",
    "if save_file:\n",
    "    enriched_gp_summary_df.to_csv(f\"{file_path}\")\n",
    "else:\n",
    "    display(enriched_gp_summary_df)"
   ]
  },
  {
   "cell_type": "markdown",
   "id": "b1da3893-6a34-4279-a7be-c9fd89140c7b",
   "metadata": {},
   "source": [
    "#### 3.2.2 Cardiomyocytes"
   ]
  },
  {
   "cell_type": "code",
   "execution_count": null,
   "id": "256a3618-2a9f-448f-a5e2-9b23f2e8ad22",
   "metadata": {},
   "outputs": [],
   "source": [
    "cell_type = \"Cardiomyocytes\"\n",
    "cell_type_fmt = cell_type.replace('/', '_').lower()\n",
    "cell_type_differential_gp_scores_key = f\"{cell_type}_differential_gp_scores\""
   ]
  },
  {
   "cell_type": "markdown",
   "id": "dd4f8f8c-a2f5-4398-b61f-ad12448cf13c",
   "metadata": {},
   "source": [
    "##### 3.2.2.1 Overview"
   ]
  },
  {
   "cell_type": "code",
   "execution_count": null,
   "id": "4e5d8a0b-f8d0-4ed4-ac26-2073f4c99de4",
   "metadata": {},
   "outputs": [],
   "source": [
    "# Plot cell type in physical and latent space\n",
    "plot_physical_latent_for_cell_types(adata=model.adata,\n",
    "                                    cell_types=[cell_type],\n",
    "                                    sample_key=sample_key,\n",
    "                                    cell_type_key=cell_type_key,\n",
    "                                    cell_type_colors=seqfish_mouse_organogenesis_cell_type_colors,\n",
    "                                    figure_folder_path=figure_folder_path,\n",
    "                                    save_fig=True)"
   ]
  },
  {
   "cell_type": "code",
   "execution_count": null,
   "id": "61add851-d416-48be-a7b7-dbd175be93ca",
   "metadata": {},
   "outputs": [],
   "source": [
    "# Run differential gp testing and generate dotplot of gps enriched in the cell type\n",
    "title = f\"Enriched Gene Programs {cell_type}\"\n",
    "log_bayes_factor_thresh = 2.3\n",
    "save_fig = True\n",
    "file_path = f\"{figure_folder_path}/{cell_type_fmt}_log_bayes_factor_{log_bayes_factor_thresh}\" \\\n",
    "             \"_enriched_gps_dotplot.svg\"\n",
    "\n",
    "# Cell type vs other cell types\n",
    "enriched_gps = model.run_differential_gp_tests(\n",
    "    cat_key=cell_type_key,\n",
    "    selected_cats=[cell_type],\n",
    "    comparison_cats=\"rest\",\n",
    "    log_bayes_factor_thresh=log_bayes_factor_thresh)\n",
    "\n",
    "fig = sc.pl.dotplot(model.adata,\n",
    "                    enriched_gps,\n",
    "                    groupby=cell_type_key,\n",
    "                    dendrogram=True, \n",
    "                    title=title,\n",
    "                    swap_axes=True,\n",
    "                    return_fig=True,\n",
    "                    figsize=(model.adata.obs[cell_type_key].nunique()/2.5, len(enriched_gps)/2.5))\n",
    "if save_fig:\n",
    "    fig.savefig(file_path)\n",
    "else:\n",
    "    fig.show()"
   ]
  },
  {
   "cell_type": "code",
   "execution_count": null,
   "id": "a7f5670d-217c-4dd5-b8dc-ec40a222e400",
   "metadata": {},
   "outputs": [],
   "source": [
    "save_file = True\n",
    "file_path = file_path = f\"{figure_folder_path}/{cell_type_fmt}_log_bayes_factor_\" \\\n",
    "                        f\"{log_bayes_factor_thresh}_enriched_gps_summary.csv\"\n",
    "\n",
    "# Get summary of enriched gene programs\n",
    "enriched_gp_summary_df = gp_summary_df[gp_summary_df[\"gp_name\"].isin(enriched_gps)]\n",
    "cat_dtype = pd.CategoricalDtype(categories=enriched_gps, ordered=True)\n",
    "enriched_gp_summary_df.loc[:, \"gp_name\"] = enriched_gp_summary_df[\"gp_name\"].astype(cat_dtype)\n",
    "enriched_gp_summary_df = enriched_gp_summary_df.sort_values(by=\"gp_name\")\n",
    "enriched_gp_summary_df = enriched_gp_summary_df[[\n",
    "        \"gp_name\",\n",
    "        \"n_source_genes\",\n",
    "        \"n_non_zero_source_genes\",\n",
    "        \"n_target_genes\",\n",
    "        \"n_non_zero_target_genes\",\n",
    "        \"gp_source_genes\",\n",
    "        \"gp_target_genes\",\n",
    "        \"gp_source_genes_weights_sign_corrected\",\n",
    "        \"gp_target_genes_weights_sign_corrected\",\n",
    "        \"gp_source_genes_importances\",\n",
    "        \"gp_target_genes_importances\"]]\n",
    "\n",
    "if save_file:\n",
    "    enriched_gp_summary_df.to_csv(f\"{file_path}\")\n",
    "else:\n",
    "    display(enriched_gp_summary_df)"
   ]
  },
  {
   "cell_type": "code",
   "execution_count": null,
   "id": "2c00cfe5-39d2-4673-97b2-f167d69e149c",
   "metadata": {},
   "outputs": [],
   "source": [
    "generate_gp_info_plots(\n",
    "    analysis_label=f\"{cell_type_fmt}\",\n",
    "    model=model,\n",
    "    cell_type_key=cell_type_key,\n",
    "    cell_type_colors=cell_type_colors,\n",
    "    latent_cluster_colors=latent_cluster_colors,\n",
    "    differential_gp_test_results_key=\"autotalker_differential_gp_test_results\",\n",
    "    plot_category=cell_type_key,\n",
    "    feature_spaces=[\"latent\"], # \"physical_embryo1\", \"physical_embryo2\", \"physical_embryo3\"\n",
    "    plot_types=[\"top_genes\"],\n",
    "    figure_folder_path=figure_folder_path,\n",
    "    log_bayes_factor_thresh=log_bayes_factor_thresh,\n",
    "    save_figs=True)"
   ]
  },
  {
   "cell_type": "markdown",
   "id": "03c39225-8ca6-4c72-a306-022a0843377e",
   "metadata": {},
   "source": [
    "##### 3.2.2.2 Latent Cluster Analysis"
   ]
  },
  {
   "cell_type": "code",
   "execution_count": null,
   "id": "b3fb7c41-0491-4150-b4c1-d1d9ee7f1034",
   "metadata": {},
   "outputs": [],
   "source": [
    "cell_type_latent_resolution = 0.6 # 0.8 1.0\n",
    "cell_type_latent_cluster_key = f\"{cell_type_fmt}_latent_leiden_{cell_type_latent_resolution}\"\n",
    "cell_type_latent_clusters_of_interest_key = f\"{cell_type_fmt}_latent_leiden_{cell_type_latent_resolution}_clusters_of_interest\"\n",
    "cell_type_latent_cluster_emphasis_key = f\"{cell_type_latent_cluster_key}_emphasis\""
   ]
  },
  {
   "cell_type": "code",
   "execution_count": null,
   "id": "9d34b3e6-3f03-4275-b2ac-09e4b7e2588c",
   "metadata": {},
   "outputs": [],
   "source": [
    "compute_cell_type_latent_clusters(\n",
    "    adata=model.adata,\n",
    "    latent_key=latent_key,\n",
    "    cell_type_latent_resolution=cell_type_latent_resolution,\n",
    "    cell_type_latent_cluster_key=cell_type_latent_cluster_key,\n",
    "    latent_knng_key=latent_knng_key,\n",
    "    cell_type_key=cell_type_key,\n",
    "    cell_type=cell_type)"
   ]
  },
  {
   "cell_type": "code",
   "execution_count": null,
   "id": "41d4c192-2ba1-4e09-8223-1840c9900f43",
   "metadata": {},
   "outputs": [],
   "source": [
    "groups = None\n",
    "save_fig = True\n",
    "\n",
    "plot_cell_type_latent_clusters(\n",
    "    adata=model.adata,\n",
    "    cell_type_latent_cluster_key=cell_type_latent_cluster_key,\n",
    "    cell_type=cell_type,\n",
    "    groups=groups,\n",
    "    condition_key=sample_key,\n",
    "    latent_cluster_colors=latent_cluster_colors,\n",
    "    save_fig=save_fig,\n",
    "    file_path=f\"{figure_folder_path}/{cell_type.replace('/', '_').replace(' ', '_').lower()}\"\n",
    "              f\"_res_{cell_type_latent_resolution}_{'latent_clusters' if groups is None else 'latent_cluster_' + groups}\"\n",
    "              \"_physical_latent_space.svg\")"
   ]
  },
  {
   "cell_type": "code",
   "execution_count": null,
   "id": "44973d60-69a7-4971-a2b6-2c451da4605c",
   "metadata": {},
   "outputs": [],
   "source": [
    "# Retrieve cell type latent clusters with at least 'min_obs_per_cluster' observations\n",
    "min_obs_per_cluster = 30\n",
    "cell_type_latent_cluster_counts = model.adata.obs[cell_type_latent_cluster_key].value_counts()\n",
    "cell_type_latent_clusters_of_interest = cell_type_latent_cluster_counts[\n",
    "    cell_type_latent_cluster_counts > min_obs_per_cluster].index.tolist()"
   ]
  },
  {
   "cell_type": "code",
   "execution_count": null,
   "id": "071e52f5-294a-43e4-bc1c-a95744f7f45a",
   "metadata": {},
   "outputs": [],
   "source": [
    "for latent_cluster in cell_type_latent_clusters_of_interest:\n",
    "    groups = latent_cluster\n",
    "    save_fig = True\n",
    "\n",
    "    plot_cell_type_latent_clusters(\n",
    "        adata=model.adata,\n",
    "        cell_type_latent_cluster_key=cell_type_latent_cluster_key,\n",
    "        cell_type=cell_type,\n",
    "        groups=groups,\n",
    "        condition_key=sample_key,\n",
    "        latent_cluster_colors=latent_cluster_colors,\n",
    "        save_fig=save_fig,\n",
    "        file_path=f\"{figure_folder_path}/{cell_type.replace('/', '_').replace(' ', '_').lower()}\"\n",
    "                  f\"_res_{cell_type_latent_resolution}_{'latent_clusters' if groups is None else 'latent_cluster_' + groups}\"\n",
    "                  \"_physical_latent_space.svg\")"
   ]
  },
  {
   "cell_type": "code",
   "execution_count": null,
   "id": "39df9359-c912-4680-a0dd-6c21d6a8bbad",
   "metadata": {},
   "outputs": [],
   "source": [
    "# Run differential gp testing and generate dotplot of gps enriched in the cell type\n",
    "title = f\"Enriched Gene Programs {cell_type} Latent Clusters (Resolution: {cell_type_latent_resolution})\"\n",
    "log_bayes_factor_thresh = 2.3 # 2.3, 4.6\n",
    "save_fig = True\n",
    "file_path = f\"{figure_folder_path}/{cell_type_fmt}_res_{cell_type_latent_resolution}_\" \\\n",
    "            f\"latent_clusters_log_bayes_factor_\" \\\n",
    "            f\"{log_bayes_factor_thresh}_enriched_gps_dotplot.svg\"\n",
    "\n",
    "# Create new column with only clusters of interest for dotplot\n",
    "model.adata.obs.loc[:, cell_type_latent_clusters_of_interest_key] = np.nan\n",
    "model.adata.obs.loc[model.adata.obs[cell_type_latent_cluster_key].isin(\n",
    "    cell_type_latent_clusters_of_interest), cell_type_latent_clusters_of_interest_key] = model.adata.obs[cell_type_latent_cluster_key]\n",
    "\n",
    "enriched_gps = []\n",
    "for cell_type_latent_cluster in cell_type_latent_clusters_of_interest:\n",
    "    \n",
    "    # Determine comparison categories\n",
    "    selected_cats = [cell_type_latent_cluster]\n",
    "    comparison_cats = list(set(cell_type_latent_clusters_of_interest) - set(selected_cats))\n",
    "\n",
    "    # Latent cluster vs other latent clusters of interest\n",
    "    latent_cluster_enriched_gps = model.run_differential_gp_tests(\n",
    "        cat_key=cell_type_latent_cluster_key,\n",
    "        selected_cats=selected_cats,\n",
    "        comparison_cats=comparison_cats,\n",
    "        log_bayes_factor_thresh=log_bayes_factor_thresh)\n",
    "    \n",
    "    enriched_gps.extend(latent_cluster_enriched_gps)\n",
    "    \n",
    "enriched_gps = list(set(enriched_gps))\n",
    "\n",
    "fig = sc.pl.dotplot(model.adata,\n",
    "                    enriched_gps,\n",
    "                    groupby=cell_type_latent_clusters_of_interest_key,\n",
    "                    dendrogram=True, \n",
    "                    title=title,\n",
    "                    swap_axes=True,\n",
    "                    return_fig=True,\n",
    "                    figsize=(model.adata.obs[cell_type_latent_clusters_of_interest_key].nunique()/1.5, len(enriched_gps)/2.5))\n",
    "if save_fig:\n",
    "    fig.savefig(file_path)\n",
    "else:\n",
    "    fig.show()"
   ]
  },
  {
   "cell_type": "code",
   "execution_count": null,
   "id": "96b5306b-d98b-4d05-9592-9696857b302d",
   "metadata": {},
   "outputs": [],
   "source": [
    "save_file = True\n",
    "file_path = file_path = f\"{figure_folder_path}/{cell_type_fmt}_res_{cell_type_latent_resolution}\" \\\n",
    "                        f\"_latent_clusters_\" \\\n",
    "                        f\"log_bayes_factor_{log_bayes_factor_thresh}_enriched_gps_summary.csv\"\n",
    "\n",
    "# Get summary of enriched gene programs\n",
    "enriched_gp_summary_df = gp_summary_df[gp_summary_df[\"gp_name\"].isin(enriched_gps)]\n",
    "cat_dtype = pd.CategoricalDtype(categories=enriched_gps, ordered=True)\n",
    "enriched_gp_summary_df.loc[:, \"gp_name\"] = enriched_gp_summary_df[\"gp_name\"].astype(cat_dtype)\n",
    "enriched_gp_summary_df = enriched_gp_summary_df.sort_values(by=\"gp_name\")\n",
    "enriched_gp_summary_df = enriched_gp_summary_df[[\n",
    "        \"gp_name\",\n",
    "        \"n_source_genes\",\n",
    "        \"n_non_zero_source_genes\",\n",
    "        \"n_target_genes\",\n",
    "        \"n_non_zero_target_genes\",\n",
    "        \"gp_source_genes\",\n",
    "        \"gp_target_genes\",\n",
    "        \"gp_source_genes_weights_sign_corrected\",\n",
    "        \"gp_target_genes_weights_sign_corrected\",\n",
    "        \"gp_source_genes_importances\",\n",
    "        \"gp_target_genes_importances\"]]\n",
    "\n",
    "if save_file:\n",
    "    enriched_gp_summary_df.to_csv(f\"{file_path}\")\n",
    "else:\n",
    "    display(enriched_gp_summary_df)"
   ]
  },
  {
   "cell_type": "markdown",
   "id": "7eb08e58-7866-4b2e-baf1-a4264c1a37b8",
   "metadata": {},
   "source": [
    "#### 3.2.3 Save Results"
   ]
  },
  {
   "cell_type": "code",
   "execution_count": null,
   "id": "8c16b5f0-c356-49f6-8d15-c4030d93f100",
   "metadata": {},
   "outputs": [],
   "source": [
    "model.adata.write(f\"{figure_folder_path}/adata.h5ad\")"
   ]
  },
  {
   "cell_type": "code",
   "execution_count": null,
   "id": "b33000bf-eae6-4e5d-a53d-ce3f3cd0af40",
   "metadata": {},
   "outputs": [],
   "source": [
    "model.adata"
   ]
  },
  {
   "cell_type": "code",
   "execution_count": null,
   "id": "4cf5ed2c-0c63-48d1-aa04-57516fd0a461",
   "metadata": {},
   "outputs": [],
   "source": []
  },
  {
   "cell_type": "code",
   "execution_count": null,
   "id": "9d96c891-388c-4553-a71d-1e759319cb07",
   "metadata": {},
   "outputs": [],
   "source": [
    "# Add cell type latent cluster emphasis for plotting\n",
    "model.adata.obs[cell_type_latent_cluster_emphasis_key] = model.adata.obs.apply(\n",
    "    lambda row: add_cell_type_latent_cluster_emphasis(row,\n",
    "                                                      cell_type_latent_cluster_key,\n",
    "                                                      selected_cats,\n",
    "                                                      comparison_cats), axis=1)\n",
    "model.adata.obs[cell_type_latent_cluster_emphasis_key] = model.adata.obs[cell_type_latent_cluster_emphasis_key].astype(\"category\")"
   ]
  },
  {
   "cell_type": "code",
   "execution_count": null,
   "id": "1f46e993-a078-4824-88ee-1b2463ab497d",
   "metadata": {},
   "outputs": [],
   "source": [
    "# TO DO HERE"
   ]
  },
  {
   "cell_type": "code",
   "execution_count": null,
   "id": "6c7643a4-6874-4ecb-a640-51eea21061b5",
   "metadata": {},
   "outputs": [],
   "source": []
  },
  {
   "cell_type": "code",
   "execution_count": null,
   "id": "67a418da-23d5-42b1-a613-1e6c9a9a725e",
   "metadata": {},
   "outputs": [],
   "source": [
    "generate_gp_info_plots(\n",
    "    analysis_label=f\"{cell_type_fmt}_latent_cluster\",\n",
    "    model=model,\n",
    "    cell_type_key=cell_type_key,\n",
    "    cell_type_colors=cell_type_colors,\n",
    "    latent_cluster_colors=latent_cluster_colors,\n",
    "    differential_gp_test_results_df=model.adata.uns[\"autotalker_differential_gp_test_results\"],\n",
    "    plot_category=cell_type_latent_cluster_emphasis_key,\n",
    "    plot_group=[x for x in model.adata.obs[cell_type_latent_cluster_emphasis_key].unique().tolist() if str(x) != \"nan\"],\n",
    "    feature_spaces=[\"latent\"], # \"physical_embryo1\", \"physical_embryo2\", \"physical_embryo3\"\n",
    "    figure_folder_path=figure_folder_path,\n",
    "    save_figs=False)"
   ]
  },
  {
   "cell_type": "code",
   "execution_count": null,
   "id": "7cfede4d-7e78-4b37-a287-40d9f93f1ef1",
   "metadata": {},
   "outputs": [],
   "source": []
  },
  {
   "cell_type": "code",
   "execution_count": null,
   "id": "f0b39291-7c5f-41bb-be92-21eb211b049a",
   "metadata": {},
   "outputs": [],
   "source": []
  },
  {
   "cell_type": "code",
   "execution_count": null,
   "id": "f6a8b478-97f6-4591-aeda-0b603b2b07fd",
   "metadata": {},
   "outputs": [],
   "source": []
  },
  {
   "cell_type": "markdown",
   "id": "70c56407-5b0b-44be-8e88-a4cb72c1f579",
   "metadata": {},
   "source": []
  },
  {
   "cell_type": "code",
   "execution_count": null,
   "id": "992f90c0-d033-44e0-930f-e414f8e607af",
   "metadata": {},
   "outputs": [],
   "source": [
    "# Cell type vs other cell types\n",
    "enriched_gps = model.run_differential_gp_tests(\n",
    "    cat_key=cell_type_key,\n",
    "    selected_cats=[cell_type],\n",
    "    comparison_cats=\"rest\")"
   ]
  },
  {
   "cell_type": "code",
   "execution_count": null,
   "id": "dd527e25-bb01-4eb6-992a-4332b14b052a",
   "metadata": {},
   "outputs": [],
   "source": [
    "# Specific latent clusters\n",
    "cluster_and_plot_cell_type_latent_clusters(adata=model.adata,\n",
    "                                           cell_type_latent_resolution=cell_type_latent_resolution,\n",
    "                                           cell_type_latent_cluster_key=cell_type_latent_cluster_key,\n",
    "                                           latent_knng_key=latent_knng_key,\n",
    "                                           cell_type_key=cell_type_key,\n",
    "                                           cell_type=cell_type,\n",
    "                                           groups=[\"2\"],\n",
    "                                           latent_cluster_colors=latent_cluster_colors,\n",
    "                                           condition_key=sample_key,\n",
    "                                           save_fig=False,\n",
    "                                           figure_folder_path=figure_folder_path)"
   ]
  },
  {
   "cell_type": "code",
   "execution_count": null,
   "id": "13079910-2075-4b9b-8f47-5d134ef5bcbe",
   "metadata": {},
   "outputs": [],
   "source": [
    "# Retrieve all latent clusters with cells of the given cell type\n",
    "cell_type_latent_clusters = [cell_type_latent_cluster for cell_type_latent_cluster \n",
    "                             in model.adata.obs[cell_type_latent_cluster_key].unique().tolist()\n",
    "                             if str(cell_type_latent_cluster) != \"nan\"]\n",
    "\n",
    "# Define latent clusters of interest according to visualization\n",
    "cell_type_latent_clusters_of_interest = [\"5\"]\n",
    "\n",
    "# Add column with sub cell types\n",
    "model.adata.obs[sub_cell_type_key] = model.adata.obs.apply(lambda row: add_sub_cell_type(row,\n",
    "                                                                                         cell_type_key=cell_type_key,\n",
    "                                                                                         cell_type=cell_type,\n",
    "                                                                                         cell_type_latent_cluster_key=cell_type_latent_cluster_key), axis=1)\n",
    "model.adata.obs[sub_cell_type_key] = model.adata.obs[sub_cell_type_key].astype(\"category\")\n",
    "\n",
    "# Squidpy nhood enrichment is sorted alphabetically\n",
    "sub_cell_types = model.adata.obs[sub_cell_type_key].unique().tolist()\n",
    "sub_cell_types.sort()\n",
    "\n",
    "sq.gr.nhood_enrichment(model.adata, cluster_key=sub_cell_type_key)\n",
    "\n",
    "cell_type_sub_cell_types_idx = []\n",
    "for i, sub_cell_type in enumerate(sub_cell_types):\n",
    "    if cell_type in sub_cell_type:\n",
    "        cell_type_sub_cell_types_idx.append(i)\n",
    "\n",
    "        # Retrieve cell type latent cluster neighborhood enrichments\n",
    "enrichment_dict = {f\"{sub_cell_types[cell_type_sub_cell_types_idx[i]]}\":{\n",
    "    sub_cell_type: zscore for zscore, sub_cell_type in sorted(\n",
    "        zip(model.adata.uns[f\"{sub_cell_type_key}_nhood_enrichment\"][\"zscore\"][cell_type_sub_cell_types_idx[i]], sub_cell_types), reverse=True)} for i in range(len(cell_type_sub_cell_types_idx))}\n",
    "\n",
    "enrichment_df = pd.DataFrame(enrichment_dict)"
   ]
  },
  {
   "cell_type": "code",
   "execution_count": null,
   "id": "c9d94190-5d24-44d7-9ad6-49b804257425",
   "metadata": {},
   "outputs": [],
   "source": [
    "compare_clusters_of_interest_only = False\n",
    "selected_cats = [\"3\"]\n",
    "if compare_clusters_of_interest_only:\n",
    "    comparison_cats = list(set(cell_type_latent_clusters_of_interest) - set(selected_cats))\n",
    "else:\n",
    "    comparison_cats=\"rest\"\n",
    "latent_cluster_differential_gp_scores_key = f\"autotalker_latent_cluster_{selected_cats[0]}_differential_gp_scores\"\n",
    "\n",
    "model.adata.obs[cell_type_latent_cluster_emphasis_key] = model.adata.obs.apply(\n",
    "    lambda row: add_cell_type_latent_cluster_emphasis(row, cell_type_latent_cluster_key, selected_cats[0], comparison_cats), axis=1)\n",
    "model.adata.obs[cell_type_latent_cluster_emphasis_key] = model.adata.obs[cell_type_latent_cluster_emphasis_key].astype(\"category\")\n",
    "\n",
    "top_unique_gps = get_differential_analysis_results(\n",
    "    analysis_label=f\"{cell_type_fmt}_latent_cluster_{selected_cats[0]}\",\n",
    "    model=model,\n",
    "    adata=model.adata,\n",
    "    cell_type_key=cell_type_key,\n",
    "    cell_type_colors=cell_type_colors,\n",
    "    latent_cluster_colors=latent_cluster_colors,\n",
    "    random_seed=random_seed,\n",
    "    cat_key=cell_type_latent_cluster_key,\n",
    "    selected_cats=selected_cats,\n",
    "    differential_gp_scores_key=latent_cluster_differential_gp_scores_key,\n",
    "    comparison_cats=comparison_cats,\n",
    "    plot_category=cell_type_latent_cluster_emphasis_key,\n",
    "    plot_group=[x for x in model.adata.obs[cell_type_latent_cluster_emphasis_key].unique().tolist() if str(x) != \"nan\"],\n",
    "    selected_gps=None,\n",
    "    n_top_up_gps=10,\n",
    "    n_top_down_gps=10,\n",
    "    feature_spaces=[\"latent\"], # \"physical_embryo1\", \"physical_embryo2\", \"physical_embryo3\"\n",
    "    figure_folder_path=figure_folder_path,\n",
    "    save_figs=True)\n",
    "\n",
    "top_gps_summary_df = store_top_gps_summary(model=model,\n",
    "                                           top_gps=top_unique_gps,\n",
    "                                           file_path=f\"{figure_folder_path}/{cell_type_fmt}_cluster_{selected_cats[0]}_gp_summary.csv\")\n",
    "display(top_gps_summary_df)"
   ]
  },
  {
   "cell_type": "code",
   "execution_count": null,
   "id": "5a0125cb-b3f5-4c19-aefc-b0bddb94f47b",
   "metadata": {},
   "outputs": [],
   "source": [
    "model.adata"
   ]
  },
  {
   "cell_type": "code",
   "execution_count": null,
   "id": "165e3af0-688c-4ea4-8184-7c48f6b97dce",
   "metadata": {},
   "outputs": [],
   "source": []
  },
  {
   "cell_type": "code",
   "execution_count": null,
   "id": "9083b298-4485-40d9-ac76-c370494594f2",
   "metadata": {},
   "outputs": [],
   "source": [
    "model.adata.uns[\"autotalker_latent_cluster_3_differential_gp_scores\"]"
   ]
  },
  {
   "cell_type": "code",
   "execution_count": null,
   "id": "9ce2ed31-5fbe-4c47-b9d3-5a5e5bf711e1",
   "metadata": {},
   "outputs": [],
   "source": [
    "cell_type_latent_cluster_key\n",
    "save_fig = False"
   ]
  },
  {
   "cell_type": "code",
   "execution_count": null,
   "id": "94cf3547-94e9-4c46-826c-c9a95d8de174",
   "metadata": {},
   "outputs": [],
   "source": [
    "def create_dotplot_of_differential_gps(adata,\n",
    "                                       groupby_key,\n",
    "                                       title,\n",
    "                                       save_fig,\n",
    "                                       file_path):\n",
    "    \n",
    "    differential_gps = [col for col in model.adata.obs.columns if col.endswith(\"_GP\")]\n",
    "    \n",
    "    fig = sc.pl.dotplot(adata,\n",
    "                        differential_gps,\n",
    "                        groupby=groupby_key,\n",
    "                        dendrogram=True, \n",
    "                        title=f\"Differential GP Scores\",\n",
    "                        swap_axes=True,\n",
    "                        return_fig=True)\n",
    "    # Save and display plot\n",
    "    if save_fig:\n",
    "        fig.savefig(f\"{figure_folder_path}/{analysis_label}_differential_gp_scores.svg\")\n",
    "    fig.show()"
   ]
  },
  {
   "cell_type": "code",
   "execution_count": null,
   "id": "9dfb6846-8ace-4b0e-9fab-471e121cf31f",
   "metadata": {},
   "outputs": [],
   "source": [
    "# Retrieve all latent clusters with cells of the given cell type\n",
    "cell_type_latent_clusters = [cell_type_latent_cluster for cell_type_latent_cluster \n",
    "                             in model.adata.obs[cell_type_latent_cluster_key].unique().tolist()\n",
    "                             if str(cell_type_latent_cluster) != \"nan\"]\n",
    "\n",
    "# Define latent clusters of interest according to visualization\n",
    "cell_type_latent_clusters_of_interest = [\"2\", \"25\", \"43\"]\n",
    "\n",
    "# Add column with sub cell types\n",
    "model.adata.obs[sub_cell_type_key] = model.adata.obs.apply(lambda row: add_sub_cell_type(row, cell_type=cell_type), axis=1)\n",
    "model.adata.obs[sub_cell_type_key] = model.adata.obs[sub_cell_type_key].astype(\"category\")\n",
    "\n",
    "# Squidpy nhood enrichment is sorted alphabetically\n",
    "sub_cell_types = model.adata.obs[sub_cell_type_key].unique().tolist()\n",
    "sub_cell_types.sort()\n",
    "\n",
    "sq.gr.nhood_enrichment(model.adata, cluster_key=sub_cell_type_key)\n",
    "\n",
    "cell_type_sub_cell_types_idx = []\n",
    "for i, sub_cell_type in enumerate(sub_cell_types):\n",
    "    if cell_type in sub_cell_type:\n",
    "        cell_type_sub_cell_types_idx.append(i)\n",
    "\n",
    "        # Retrieve cell type latent cluster neighborhood enrichments\n",
    "enrichment_dict = {f\"{sub_cell_types[cell_type_sub_cell_types_idx[i]]}\":{\n",
    "    sub_cell_type: zscore for zscore, sub_cell_type in sorted(\n",
    "        zip(model.adata.uns[f\"{sub_cell_type_key}_nhood_enrichment\"][\"zscore\"][cell_type_sub_cell_types_idx[i]], sub_cell_types), reverse=True)} for i in range(len(cell_type_sub_cell_types_idx))}\n",
    "\n",
    "enrichment_df = pd.DataFrame(enrichment_dict)"
   ]
  },
  {
   "cell_type": "code",
   "execution_count": null,
   "id": "4a9f72b4-e125-44ae-9510-7e72615bf7c4",
   "metadata": {},
   "outputs": [],
   "source": [
    "selected_cats = [\"\"]\n",
    "comparison_cats = list(\n",
    "    set(cell_type_adata.obs[cell_type_latent_cluster_key].unique()) - set(selected_cats))\n",
    "\n",
    "model.adata.obs[cell_type_latent_cluster_emphasis_key] = model.adata.obs.apply(\n",
    "    lambda row: add_cell_type_latent_cluster_emphasis(row, comparison_cats), axis=1)\n",
    "model.adata.obs[cell_type_latent_cluster_emphasis_key] = model.adata.obs[cell_type_latent_cluster_emphasis_key].astype(\"category\")"
   ]
  },
  {
   "cell_type": "code",
   "execution_count": null,
   "id": "aa35cc75-1ee0-45a9-a04d-fa48110af336",
   "metadata": {},
   "outputs": [],
   "source": [
    "get_differential_analysis_results(analysis_label=\"forebrain_midbrain_hindbrain_latent_cluster\",\n",
    "                                  model=model,\n",
    "                                  adata=model.adata,\n",
    "                                  cat_key=cell_type_latent_cluster_key,\n",
    "                                  selected_cats=selected_cats,\n",
    "                                  differential_gp_scores_key=latent_cluster_differential_gp_scores_key,\n",
    "                                  comparison_cats=comparison_cats,\n",
    "                                  plot_category=cell_type_latent_cluster_emphasis_key,\n",
    "                                  selected_gps=None,\n",
    "                                  n_top_up_gps=3,\n",
    "                                  n_top_down_gps=3,\n",
    "                                  feature_spaces=[\"physical_embryo2\"], # \"physical_embryo1\", \"physical_embryo2\", \"physical_embryo3\"\n",
    "                                  save_figs=False)"
   ]
  },
  {
   "cell_type": "code",
   "execution_count": null,
   "id": "8c43dd02-28bd-4e11-97a4-737941b65261",
   "metadata": {},
   "outputs": [],
   "source": [
    "model.compute_gp_gene_importances(selected_gp=\"GDF3_ligand_targetgenes_GP\")"
   ]
  },
  {
   "cell_type": "code",
   "execution_count": null,
   "id": "1f4d1920-1cf0-46b3-b577-d488b6b1b810",
   "metadata": {},
   "outputs": [],
   "source": [
    "selected_cats = [\"7\"]\n",
    "comparison_cats = [\"8\"]\n",
    "\n",
    "model.adata.obs[cell_type_latent_cluster_emphasis_key] = model.adata.obs.apply(\n",
    "    lambda row: add_cell_type_latent_cluster_emphasis(row, comparison_cats), axis=1)\n",
    "model.adata.obs[cell_type_latent_cluster_emphasis_key] = model.adata.obs[cell_type_latent_cluster_emphasis_key].astype(\"category\")"
   ]
  },
  {
   "cell_type": "code",
   "execution_count": null,
   "id": "f349710f-cc5b-4fe0-a3b2-364b39c14140",
   "metadata": {},
   "outputs": [],
   "source": [
    "get_differential_analysis_results(analysis_label=\"forebrain_midbrain_hindbrain_latent_cluster\",\n",
    "                                  model=model,\n",
    "                                  adata=model.adata,\n",
    "                                  cat_key=cell_type_latent_cluster_key,\n",
    "                                  selected_cats=selected_cats,\n",
    "                                  differential_gp_scores_key=latent_cluster_differential_gp_scores_key,\n",
    "                                  comparison_cats=comparison_cats,\n",
    "                                  plot_category=cell_type_latent_cluster_emphasis_key,\n",
    "                                  selected_gps=None,\n",
    "                                  n_top_up_gps=3,\n",
    "                                  n_top_down_gps=3,\n",
    "                                  feature_spaces=[\"physical_embryo2\"], # \"physical_embryo1\", \"physical_embryo2\", \"physical_embryo3\"\n",
    "                                  save_figs=False)"
   ]
  },
  {
   "cell_type": "code",
   "execution_count": null,
   "id": "effa4a31-5925-4b92-ba16-3029376d93e2",
   "metadata": {},
   "outputs": [],
   "source": []
  },
  {
   "cell_type": "code",
   "execution_count": null,
   "id": "dececb14-ea33-4e15-8de2-82eb5f03852c",
   "metadata": {},
   "outputs": [],
   "source": []
  },
  {
   "cell_type": "code",
   "execution_count": null,
   "id": "1447f315-ef95-4bc0-afc6-0332c8d7b4d7",
   "metadata": {},
   "outputs": [],
   "source": []
  },
  {
   "cell_type": "code",
   "execution_count": null,
   "id": "eb7f4454-c9fe-41c5-851b-576ee8dc647e",
   "metadata": {},
   "outputs": [],
   "source": []
  },
  {
   "cell_type": "code",
   "execution_count": null,
   "id": "96bbc7b9-8a64-44fd-a9c6-993fccdc7239",
   "metadata": {},
   "outputs": [],
   "source": []
  },
  {
   "cell_type": "markdown",
   "id": "531728f3-13dd-4bf5-a1f1-c7de5cff37b3",
   "metadata": {},
   "source": [
    "### 3.4 Gut Tube"
   ]
  },
  {
   "cell_type": "code",
   "execution_count": null,
   "id": "d245331c-6c2d-429a-9903-51850a34261f",
   "metadata": {},
   "outputs": [],
   "source": [
    "cell_type = \"Gut tube\"\n",
    "cell_type_latent_resolution = 0.04"
   ]
  },
  {
   "cell_type": "code",
   "execution_count": null,
   "id": "7462fb04-ce36-4272-bad0-4e63b0769f83",
   "metadata": {},
   "outputs": [],
   "source": [
    "plot_physical_latent_for_cell_types(adata=model.adata,\n",
    "                                    cell_types=[cell_type],\n",
    "                                    save_fig=True)"
   ]
  },
  {
   "cell_type": "code",
   "execution_count": null,
   "id": "81fa2002-e5ed-4050-bc08-ca615114a090",
   "metadata": {},
   "outputs": [],
   "source": [
    "cell_type_adata = model.adata[model.adata.obs[cell_type_key] == cell_type.replace(\"_\", \" \").capitalize()]"
   ]
  },
  {
   "cell_type": "code",
   "execution_count": null,
   "id": "c72a4ad0-d758-419d-8571-31a77ecd54d6",
   "metadata": {},
   "outputs": [],
   "source": [
    "# Compute latent nearest neighbor graph for cell type only\n",
    "sc.pp.neighbors(cell_type_adata,\n",
    "                use_rep=latent_key,\n",
    "                key_added=f\"{cell_type}_latent_knng\")\n",
    "\n",
    "# Compute latent Leiden clustering for cell type\n",
    "sc.tl.leiden(adata=cell_type_adata,\n",
    "             resolution=cell_type_latent_resolution,\n",
    "             random_state=random_seed,\n",
    "             key_added=cell_type_latent_cluster_key,\n",
    "             adjacency=cell_type_adata.obsp[f\"{cell_type}_latent_knng_connectivities\"])\n",
    "\n",
    "# Use cell type latent space for UMAP generation\n",
    "sc.tl.umap(cell_type_adata,\n",
    "           neighbors_key=f\"{cell_type}_latent_knng\")"
   ]
  },
  {
   "cell_type": "code",
   "execution_count": null,
   "id": "25b11185-b7bb-43bf-b020-6b84dc7241d5",
   "metadata": {},
   "outputs": [],
   "source": [
    "model.adata.obs[cell_type_latent_cluster_key] = np.nan\n",
    "model.adata.obs.loc[model.adata.obs[cell_type_key] == cell_type.replace(\"_\", \" \").capitalize(),\n",
    "                    cell_type_latent_cluster_key] = cell_type_adata.obs[cell_type_latent_cluster_key]"
   ]
  },
  {
   "cell_type": "code",
   "execution_count": null,
   "id": "1640cd88-0b90-408e-b173-1d062900bf17",
   "metadata": {},
   "outputs": [],
   "source": [
    "plot_latent_physical_for_cell_type_latent_clusters(adata=model.adata,\n",
    "                                                   cell_type=\"mixed_mesenchymal_mesoderm\",\n",
    "                                                   save_fig=False)"
   ]
  },
  {
   "cell_type": "markdown",
   "id": "e70f8701-8511-47c3-ac97-30002cc3c08d",
   "metadata": {},
   "source": [
    "Dorsal-ventral separation of esophageal and tracheal progenitor populations in the gut tube (not visible in scVI latent space)."
   ]
  },
  {
   "cell_type": "markdown",
   "id": "287d9891-6627-4ef1-b377-9c7f05d4c942",
   "metadata": {},
   "source": [
    "Dorsal-ventral and rostral-caudal spatially resolved patterns of the midbrain and hindbrain region."
   ]
  },
  {
   "cell_type": "code",
   "execution_count": null,
   "id": "e02fbf4b-6673-4161-8ae0-e85006e9b6a4",
   "metadata": {},
   "outputs": [],
   "source": []
  },
  {
   "cell_type": "code",
   "execution_count": null,
   "id": "36456fae-11eb-46e8-a3c5-fce788adeb89",
   "metadata": {},
   "outputs": [],
   "source": [
    "model.adata.obsp[\"autotalker_recon_adj\"] = model.get_recon_adj()"
   ]
  },
  {
   "cell_type": "code",
   "execution_count": null,
   "id": "a402d935-0a2e-4796-b9a2-40b4f2f084e7",
   "metadata": {},
   "outputs": [],
   "source": [
    "att_weight_df = aggregate_obsp_matrix_per_cell_type(adata=model.adata,\n",
    "                                                    obsp_key=\"autotalker_agg_alpha\",\n",
    "                                                    cell_type_key=cell_type_key,\n",
    "                                                    agg_rows=True)\n",
    "\n",
    "recon_adj_df = aggregate_obsp_matrix_per_cell_type(adata=model.adata,\n",
    "                                                   obsp_key=\"autotalker_recon_adj\",\n",
    "                                                   cell_type_key=cell_type_key,\n",
    "                                                   agg_rows=True)\n",
    "\n",
    "adj_df = aggregate_obsp_matrix_per_cell_type(adata=model.adata,\n",
    "                                             obsp_key=\"spatial_connectivities\",\n",
    "                                             cell_type_key=cell_type_key,\n",
    "                                             agg_rows=True)"
   ]
  },
  {
   "cell_type": "code",
   "execution_count": null,
   "id": "52e4e47d-0d4c-40ee-be5e-de2c77f0eedd",
   "metadata": {},
   "outputs": [],
   "source": [
    "create_cell_type_chord_plot_from_df(adata=model.adata,\n",
    "                                    df=att_weight_df,\n",
    "                                    title=\"Aggregation Module Cell Type Attention\",\n",
    "                                    link_threshold=.5,\n",
    "                                    cell_type_key=cell_type_key,\n",
    "                                    save_fig=True,\n",
    "                                    save_path=f\"{model_artifacts_folder_path}/circos.png\")"
   ]
  },
  {
   "cell_type": "markdown",
   "id": "3b9aa62a-0490-479d-a8a6-77d2a0a53995",
   "metadata": {
    "tags": []
   },
   "source": [
    "#### 3.2.1 Cardiomyocytes"
   ]
  },
  {
   "cell_type": "code",
   "execution_count": null,
   "id": "159495c5-1aed-4b1a-84a0-98588f529903",
   "metadata": {},
   "outputs": [],
   "source": [
    "cell_type = \"Cardiomyocytes\"\n",
    "cell_type_fmt = cell_type.replace('/', '_').lower()\n",
    "cell_type_latent_resolution = 1.0\n",
    "cell_type_latent_cluster_key = f\"{cell_type_fmt}_latent_leiden_{cell_type_latent_resolution}\"\n",
    "cell_type_latent_cluster_emphasis_key = f\"{cell_type_latent_cluster_key}_emphasis\"\n",
    "cell_type_differential_gp_scores_key = f\"{cell_type}_differential_gp_scores\""
   ]
  },
  {
   "cell_type": "code",
   "execution_count": null,
   "id": "16694b6a-9379-468a-8773-a494f05ba2c5",
   "metadata": {},
   "outputs": [],
   "source": [
    "plot_physical_latent_for_cell_types(adata=model.adata,\n",
    "                                    cell_types=[cell_type],\n",
    "                                    sample_key=sample_key,\n",
    "                                    cell_type_key=cell_type_key,\n",
    "                                    cell_type_colors=seqfish_mouse_organogenesis_cell_type_colors,\n",
    "                                    figure_folder_path=figure_folder_path,\n",
    "                                    save_fig=False)"
   ]
  },
  {
   "cell_type": "code",
   "execution_count": null,
   "id": "e020b2fb-959f-48fb-9b2d-f3920ce8a745",
   "metadata": {},
   "outputs": [],
   "source": [
    "top_unique_gps = get_differential_analysis_results(\n",
    "    analysis_label=cell_type_fmt,\n",
    "    model=model,\n",
    "    adata=model.adata,\n",
    "    cell_type_key=cell_type_key,\n",
    "    cell_type_colors=cell_type_colors,\n",
    "    cat_key=cell_type_key,\n",
    "    selected_cats=[cell_type],\n",
    "    differential_gp_scores_key=cell_type_differential_gp_scores_key,\n",
    "    comparison_cats=\"rest\",\n",
    "    plot_category=cell_type_key,\n",
    "    plot_group=cell_type,\n",
    "    selected_gps=None,\n",
    "    n_top_up_gps=10,\n",
    "    n_top_down_gps=10,\n",
    "    feature_spaces=[\"latent\"], # \"physical_embryo1\", \"physical_embryo2\", \"physical_embryo3\"\n",
    "    save_figs=False,\n",
    "    random_seed=random_seed)\n",
    "\n",
    "top_gps_summary_df = store_top_gps_summary(model=model,\n",
    "                                           top_gps=top_unique_gps,\n",
    "                                           file_path=f\"{model_artifacts_folder_path}/{cell_type_fmt}_gp_summary.csv\")\n",
    "display(top_gps_summary_df)"
   ]
  },
  {
   "cell_type": "code",
   "execution_count": null,
   "id": "437ffd31-b511-44ea-9c22-592abfd1257f",
   "metadata": {},
   "outputs": [],
   "source": [
    "# Compute latent Leiden clustering with cell-type-specific resolution\n",
    "sc.tl.leiden(adata=model.adata,\n",
    "             resolution=cell_type_latent_resolution,\n",
    "             random_state=random_seed,\n",
    "             key_added=cell_type_latent_cluster_key,\n",
    "             neighbors_key=latent_knng_key)\n",
    "\n",
    "# Filter for cell type\n",
    "cell_type_adata = model.adata[model.adata.obs[cell_type_key] == cell_type]\n",
    "\n",
    "# Only keep latent clusters for cell type and set rest to NaN\n",
    "model.adata.obs[cell_type_latent_cluster_key] = np.nan\n",
    "model.adata.obs.loc[model.adata.obs[cell_type_key] == cell_type,\n",
    "                    cell_type_latent_cluster_key] = cell_type_adata.obs[cell_type_latent_cluster_key]"
   ]
  },
  {
   "cell_type": "code",
   "execution_count": null,
   "id": "2784bd1c-7022-41fd-a512-ad8ff732bcb8",
   "metadata": {},
   "outputs": [],
   "source": [
    "plot_latent_physical_for_cell_type_latent_clusters(adata=model.adata,\n",
    "                                                   cell_type=cell_type,\n",
    "                                                   save_fig=False)"
   ]
  },
  {
   "cell_type": "raw",
   "id": "8407c55d-5f06-49b1-b276-ee1159553b3d",
   "metadata": {},
   "source": [
    "fig = sc.pl.umap(\n",
    "    model.adata,\n",
    "    color=f\"{cell_type_fmt}_latent_leiden_{cell_type_latent_resolution}\",\n",
    "    palette=latent_cluster_colors,\n",
    "    groups=\"20\",\n",
    "    size=2560000/len(model.adata),\n",
    "    return_fig=True)\n",
    "fig.set_size_inches(15, 10)"
   ]
  },
  {
   "cell_type": "code",
   "execution_count": null,
   "id": "7f2ac66b-eab9-4a1d-948e-5addaac48dde",
   "metadata": {},
   "outputs": [],
   "source": [
    "# Retrieve all latent clusters with cells of the given cell type\n",
    "cell_type_latent_clusters = [cell_type_latent_cluster for cell_type_latent_cluster \n",
    "                             in model.adata.obs[cell_type_latent_cluster_key].unique().tolist()\n",
    "                             if str(cell_type_latent_cluster) != \"nan\"]\n",
    "\n",
    "# Define latent clusters of interest according to visualization\n",
    "cell_type_latent_clusters_of_interest = [\"2\", \"25\", \"43\"]\n",
    "\n",
    "# Add column with sub cell types\n",
    "model.adata.obs[sub_cell_type_key] = model.adata.obs.apply(lambda row: add_sub_cell_type(row, cell_type=cell_type), axis=1)\n",
    "model.adata.obs[sub_cell_type_key] = model.adata.obs[sub_cell_type_key].astype(\"category\")\n",
    "\n",
    "# Squidpy nhood enrichment is sorted alphabetically\n",
    "sub_cell_types = model.adata.obs[sub_cell_type_key].unique().tolist()\n",
    "sub_cell_types.sort()\n",
    "\n",
    "sq.gr.nhood_enrichment(model.adata, cluster_key=sub_cell_type_key)\n",
    "\n",
    "cell_type_sub_cell_types_idx = []\n",
    "for i, sub_cell_type in enumerate(sub_cell_types):\n",
    "    if cell_type in sub_cell_type:\n",
    "        cell_type_sub_cell_types_idx.append(i)\n",
    "\n",
    "        # Retrieve cell type latent cluster neighborhood enrichments\n",
    "enrichment_dict = {f\"{sub_cell_types[cell_type_sub_cell_types_idx[i]]}\":{\n",
    "    sub_cell_type: zscore for zscore, sub_cell_type in sorted(\n",
    "        zip(model.adata.uns[f\"{sub_cell_type_key}_nhood_enrichment\"][\"zscore\"][cell_type_sub_cell_types_idx[i]], sub_cell_types), reverse=True)} for i in range(len(cell_type_sub_cell_types_idx))}\n",
    "\n",
    "enrichment_df = pd.DataFrame(enrichment_dict)"
   ]
  },
  {
   "cell_type": "markdown",
   "id": "dd35970d-228c-47d1-95f9-f0e4a064cbac",
   "metadata": {},
   "source": [
    "#### 3.2.1 Latent Cluster 2"
   ]
  },
  {
   "cell_type": "code",
   "execution_count": null,
   "id": "873d422e-9e2a-40a9-8613-7bd1695f429e",
   "metadata": {},
   "outputs": [],
   "source": [
    "selected_cats = [\"2\"]\n",
    "comparison_cats = list(set(cell_type_latent_clusters_of_interest) - set(selected_cats))\n",
    "latent_cluster_differential_gp_scores_key = f\"autotalker_latent_cluster_{selected_cats[0]}_differential_gp_scores\"\n",
    "\n",
    "model.adata.obs[cell_type_latent_cluster_emphasis_key] = model.adata.obs.apply(\n",
    "    lambda row: add_cell_type_latent_cluster_emphasis(row, comparison_cats), axis=1)\n",
    "model.adata.obs[cell_type_latent_cluster_emphasis_key] = model.adata.obs[cell_type_latent_cluster_emphasis_key].astype(\"category\")\n",
    "\n",
    "top_unique_gps = get_differential_analysis_results(\n",
    "    analysis_label=f\"{cell_type}_latent_cluster\",\n",
    "    model=model,\n",
    "    adata=model.adata,\n",
    "    cat_key=cell_type_latent_cluster_key,\n",
    "    selected_cats=selected_cats,\n",
    "    differential_gp_scores_key=latent_cluster_differential_gp_scores_key,\n",
    "    comparison_cats=comparison_cats,\n",
    "    plot_category=cell_type_latent_cluster_emphasis_key,\n",
    "    plot_group=[x for x in model.adata.obs[cell_type_latent_cluster_emphasis_key].unique().tolist() if str(x) != \"nan\"],\n",
    "    selected_gps=None,\n",
    "    n_top_up_gps=10,\n",
    "    n_top_down_gps=10,\n",
    "    feature_spaces=[\"latent\"], # \"physical_embryo1\", \"physical_embryo2\", \"physical_embryo3\"\n",
    "    save_figs=False)\n",
    "\n",
    "top_gps_summary_df = store_top_gps_summary(model=model,\n",
    "                                           top_gps=top_unique_gps,\n",
    "                                           file_name=f\"{cell_type_fmt}_cluster{selected_cats[0]}_gp_summary.csv\")\n",
    "display(top_gps_summary_df)"
   ]
  },
  {
   "cell_type": "markdown",
   "id": "fcb5c6dd-e651-4611-acd0-f471acc1f58e",
   "metadata": {},
   "source": [
    "#### 3.2.2 Latent Cluster 25"
   ]
  },
  {
   "cell_type": "code",
   "execution_count": null,
   "id": "6ce6ed96-c7ec-4204-9c22-c2b111f27272",
   "metadata": {},
   "outputs": [],
   "source": [
    "selected_cats = [\"25\"]\n",
    "comparison_cats = list(set(cell_type_latent_clusters_of_interest) - set(selected_cats))\n",
    "latent_cluster_differential_gp_scores_key = f\"autotalker_latent_cluster_{selected_cats[0]}_differential_gp_scores\"\n",
    "\n",
    "model.adata.obs[cell_type_latent_cluster_emphasis_key] = model.adata.obs.apply(\n",
    "    lambda row: add_cell_type_latent_cluster_emphasis(row, comparison_cats), axis=1)\n",
    "model.adata.obs[cell_type_latent_cluster_emphasis_key] = model.adata.obs[cell_type_latent_cluster_emphasis_key].astype(\"category\")\n",
    "\n",
    "model.adata.obs[cell_type_latent_cluster_emphasis_key] = model.adata.obs.apply(\n",
    "    lambda row: add_cell_type_latent_cluster_emphasis(row, comparison_cats), axis=1)\n",
    "model.adata.obs[cell_type_latent_cluster_emphasis_key] = model.adata.obs[cell_type_latent_cluster_emphasis_key].astype(\"category\")\n",
    "\n",
    "top_unique_gps = get_differential_analysis_results(\n",
    "    analysis_label=f\"{cell_type}_latent_cluster\",\n",
    "    model=model,\n",
    "    adata=model.adata,\n",
    "    cat_key=cell_type_latent_cluster_key,\n",
    "    selected_cats=selected_cats,\n",
    "    differential_gp_scores_key=latent_cluster_differential_gp_scores_key,\n",
    "    comparison_cats=comparison_cats,\n",
    "    plot_category=cell_type_latent_cluster_emphasis_key,\n",
    "    plot_group=[x for x in model.adata.obs[cell_type_latent_cluster_emphasis_key].unique().tolist() if str(x) != \"nan\"],\n",
    "    selected_gps=None,\n",
    "    n_top_up_gps=10,\n",
    "    n_top_down_gps=10,\n",
    "    feature_spaces=[\"latent\"], # \"physical_embryo1\", \"physical_embryo2\", \"physical_embryo3\"\n",
    "    save_figs=False)\n",
    "\n",
    "top_gps_summary_df = store_top_gps_summary(model=model,\n",
    "                                           top_gps=top_unique_gps,\n",
    "                                           file_name=f\"{cell_type_fmt}_cluster{selected_cats[0]}_gp_summary.csv\")\n",
    "display(top_gps_summary_df)"
   ]
  },
  {
   "cell_type": "markdown",
   "id": "c7f927e2-a51c-4db6-a042-41110dd0f530",
   "metadata": {},
   "source": [
    "#### 3.2.3 Latent Cluster 43"
   ]
  },
  {
   "cell_type": "code",
   "execution_count": null,
   "id": "4da7852d-b9bf-4d6f-ad4d-c3a85a1f157e",
   "metadata": {},
   "outputs": [],
   "source": [
    "selected_cats = [\"43\"]\n",
    "comparison_cats = list(set(cell_type_latent_clusters_of_interest) - set(selected_cats))\n",
    "latent_cluster_differential_gp_scores_key = f\"autotalker_latent_cluster_{selected_cats[0]}_differential_gp_scores\"\n",
    "\n",
    "model.adata.obs[cell_type_latent_cluster_emphasis_key] = model.adata.obs.apply(\n",
    "    lambda row: add_cell_type_latent_cluster_emphasis(row, comparison_cats), axis=1)\n",
    "model.adata.obs[cell_type_latent_cluster_emphasis_key] = model.adata.obs[cell_type_latent_cluster_emphasis_key].astype(\"category\")\n",
    "\n",
    "model.adata.obs[cell_type_latent_cluster_emphasis_key] = model.adata.obs.apply(\n",
    "    lambda row: add_cell_type_latent_cluster_emphasis(row, comparison_cats), axis=1)\n",
    "model.adata.obs[cell_type_latent_cluster_emphasis_key] = model.adata.obs[cell_type_latent_cluster_emphasis_key].astype(\"category\")\n",
    "\n",
    "top_unique_gps = get_differential_analysis_results(\n",
    "    analysis_label=f\"{cell_type}_latent_cluster\",\n",
    "    model=model,\n",
    "    adata=model.adata,\n",
    "    cat_key=cell_type_latent_cluster_key,\n",
    "    selected_cats=selected_cats,\n",
    "    differential_gp_scores_key=latent_cluster_differential_gp_scores_key,\n",
    "    comparison_cats=comparison_cats,\n",
    "    plot_category=cell_type_latent_cluster_emphasis_key,\n",
    "    plot_group=[x for x in model.adata.obs[cell_type_latent_cluster_emphasis_key].unique().tolist() if str(x) != \"nan\"],\n",
    "    selected_gps=None,\n",
    "    n_top_up_gps=10,\n",
    "    n_top_down_gps=10,\n",
    "    feature_spaces=[\"latent\"], # \"physical_embryo1\", \"physical_embryo2\", \"physical_embryo3\"\n",
    "    save_figs=False)\n",
    "\n",
    "top_gps_summary_df = store_top_gps_summary(model=model,\n",
    "                                           top_gps=top_unique_gps,\n",
    "                                           file_name=f\"{cell_type_fmt}_cluster{selected_cats[0]}_gp_summary.csv\")\n",
    "display(top_gps_summary_df)"
   ]
  },
  {
   "cell_type": "code",
   "execution_count": null,
   "id": "bb2d6b73-9441-487f-a673-c05eb1d0d7b9",
   "metadata": {},
   "outputs": [],
   "source": [
    "top_gps = [model.adata.uns[f\"autotalker_latent_cluster_{latent_cluster}_differential_gp_scores\"][\"gene_program\"][:n_top_up_gps].tolist() + \n",
    "           model.adata.uns[f\"autotalker_latent_cluster_{latent_cluster}_differential_gp_scores\"][\"gene_program\"][-n_top_down_gps:].tolist()\n",
    "           for latent_cluster in cell_type_latent_clusters_of_interest]\n",
    "\n",
    "top_gps = [gp for gp_list in top_gps for gp in gp_list]\n",
    "\n",
    "for gp in top_gps:\n",
    "    cell_type_adata.obs[gp] = model.adata.obs.loc[model.adata.obs[cell_type_latent_cluster_key].notnull(), gp]"
   ]
  },
  {
   "cell_type": "code",
   "execution_count": null,
   "id": "6ba5651e-d52d-40de-9fee-3742ea77093f",
   "metadata": {},
   "outputs": [],
   "source": [
    "fig = sc.pl.dotplot(cell_type_adata,\n",
    "            top_gps,\n",
    "            groupby=cell_type_latent_cluster_key,\n",
    "            dendrogram=True, \n",
    "            title=\"Mixed Mesenchymal Mesoderm Latent Clusters Differential GP Scores\",\n",
    "            swap_axes=True,\n",
    "            ax=ax1,\n",
    "            return_fig=True)\n",
    "title = fig.suptitle(t=f\"asd\",\n",
    "                     y=0.96,\n",
    "                     x=0.55,\n",
    "                     fontsize=20)\n",
    "spec = gridspec.GridSpec(ncols=2,\n",
    "                         nrows=1,\n",
    "                         width_ratios=[1, 1],\n",
    "                         height_ratios=[1])\n",
    "ax1 = fig.add_subplot(spec[0])\n",
    "ax2 = fig.add_subplot(spec[0])\n",
    "\n",
    "#ax2 = sns.heatmap(enrichment_df, annot=True, fmt=\".2f\", cmap=\"viridis\", ax=ax2)\n",
    "plt.show()"
   ]
  },
  {
   "cell_type": "code",
   "execution_count": null,
   "id": "3fb3cafa-4b7c-4946-8735-5ed6de712d67",
   "metadata": {},
   "outputs": [],
   "source": [
    "axs = sc.pl.heatmap(cell_type_adata,\n",
    "                   top_gps,\n",
    "                   groupby=cell_type_latent_cluster_key,\n",
    "                   cmap=\"viridis\",\n",
    "                   dendrogram=True,\n",
    "                   swap_axes=True,\n",
    "                   figsize=(12, 12),\n",
    "                   show=False)\n",
    "fig = axs[\"heatmap_ax\"].get_figure()\n",
    "fig.subplots_adjust(left=0.4)\n",
    "spec = matplotlib.gridspec.GridSpec(ncols=2, nrows=1, right=2.2)\n",
    "ax2 = fig.add_subplot(spec[1])\n",
    "sns.heatmap(enrichment_df, annot=True, fmt=\".2f\", cmap=\"viridis\", ax=ax2)\n",
    "ax2.set_title(\"Neighborhood enrichments\")"
   ]
  },
  {
   "cell_type": "code",
   "execution_count": null,
   "id": "dc2d80dc-7c6e-4fdf-b272-41dbca0e42fe",
   "metadata": {},
   "outputs": [],
   "source": [
    "fig = sc.pl.dotplot(cell_type_adata,\n",
    "                    top_gps,\n",
    "                    groupby=cell_type_latent_cluster_key,\n",
    "                    dendrogram=True, \n",
    "                    title=f\"{cell_type_fmt} Latent Clusters Differential GP Scores\",\n",
    "                    cmap=\"magma\",\n",
    "                    swap_axes=True,\n",
    "                    return_fig=True)\n",
    "# Save and display plot\n",
    "#if save_figs:\n",
    "#    fig.savefig(f\"{figure_folder_path}/{analysis_label}_differential_gp_scores.png\")\n",
    "fig.show()"
   ]
  },
  {
   "cell_type": "code",
   "execution_count": null,
   "id": "8d92944b-36eb-4742-bcc3-42f280bd5a9d",
   "metadata": {},
   "outputs": [],
   "source": [
    "# Retrieve summary information for top gene programs\n",
    "cell_type_gp_df = gp_summary_df[gp_summary_df[\"gp_name\"].isin(top_gps)][[\n",
    "    \"gp_name\",\n",
    "    \"n_source_genes\",\n",
    "    \"n_non_zero_source_genes\",\n",
    "    \"n_target_genes\",\n",
    "    \"n_non_zero_target_genes\",\n",
    "    \"gp_source_genes\",\n",
    "    \"gp_target_genes\",\n",
    "    \"gp_source_genes_weights_sign_corrected\",\n",
    "    \"gp_target_genes_weights_sign_corrected\",\n",
    "    \"gp_source_genes_importances\",\n",
    "    \"gp_target_genes_importances\"]]\n",
    "\n",
    "# Write to disk\n",
    "cell_type_gp_df.to_csv(f\"{model_artifacts_folder_path}/cell_type_gp_df.csv\")\n",
    "display(cell_type_gp_df)"
   ]
  },
  {
   "cell_type": "markdown",
   "id": "dacef152-2765-4a10-84be-a521547cdf29",
   "metadata": {},
   "source": [
    "#### 3.2.4 Cardiomyocytes vs Endothelium"
   ]
  },
  {
   "cell_type": "markdown",
   "id": "e3750853-200a-40e1-a9f4-9db2a4fc1b35",
   "metadata": {},
   "source": [
    "Cardiomyocytes are spatially and morphologically distinct from other cell types, endothelium is interspersed and spread across the entire embryo space."
   ]
  },
  {
   "cell_type": "code",
   "execution_count": null,
   "id": "b93b0ae9-9d89-4913-8b12-bc7be79435e0",
   "metadata": {},
   "outputs": [],
   "source": [
    "plot_physical_latent_for_cell_types(adata=model.adata,\n",
    "                                    cell_types=[\"Cardiomyocytes\", \"Endothelium\"],\n",
    "                                    save_fig=True)"
   ]
  },
  {
   "cell_type": "markdown",
   "id": "9dbe8b0d-6056-4bea-9201-d80c7bb04a67",
   "metadata": {},
   "source": [
    "### 3.3 Mixed Mesenchymal Mesoderm"
   ]
  },
  {
   "cell_type": "markdown",
   "id": "e73294bc-af70-434a-bfc5-27763476239c",
   "metadata": {},
   "source": [
    "\"mixed mesenchymal mesoderm, represent \n",
    "a cell state rather than a defined cell type. Mesenchyme represents  a  state  in  which  cells  express  markers  characteristic  of  migratory   cells loosely dispersed within an extracellular matrix56. This strong  overriding transcriptional signature of mesenchyme, irrespective of  location,  makes  it  challenging  to  distinguish  which  cell  types  this   mixed  mesenchymal  mesoderm  population  represents  using  clas- sical scRNA-seq data\"\n",
    "\n",
    "We can identify distinct subpopulations that are spatially defined."
   ]
  },
  {
   "cell_type": "code",
   "execution_count": null,
   "id": "10d67d10-4a77-45f8-be78-ed0d073e5210",
   "metadata": {},
   "outputs": [],
   "source": [
    "cell_type = \"Mixed mesenchymal mesoderm\"\n",
    "cell_type_fmt = cell_type.replace(' ', '_').lower()\n",
    "cell_type_latent_resolution = 0.5 # 0.5\n",
    "cell_type_latent_cluster_key = f\"{cell_type_fmt}_latent_leiden_{cell_type_latent_resolution}\"\n",
    "cell_type_latent_cluster_emphasis_key = f\"{cell_type_latent_cluster_key}_emphasis\"\n",
    "cell_type_differential_gp_scores_key = f\"{cell_type}_differential_gp_scores\""
   ]
  },
  {
   "cell_type": "code",
   "execution_count": null,
   "id": "f0ed64db-963c-4981-9e3a-de5addf6cf79",
   "metadata": {},
   "outputs": [],
   "source": [
    "plot_physical_latent_for_cell_types(adata=model.adata,\n",
    "                                    cell_types=[\"Mixed mesenchymal mesoderm\"],\n",
    "                                    save_fig=False)"
   ]
  },
  {
   "cell_type": "code",
   "execution_count": null,
   "id": "9afdc6ee-b584-4b34-bcc4-3ad0c61f7729",
   "metadata": {},
   "outputs": [],
   "source": [
    "top_unique_gps = get_differential_analysis_results(\n",
    "    analysis_label=cell_type_fmt,\n",
    "    model=model,\n",
    "    adata=model.adata,\n",
    "    cat_key=cell_type_key,\n",
    "    selected_cats=[cell_type],\n",
    "    differential_gp_scores_key=cell_type_differential_gp_scores_key,\n",
    "    comparison_cats=\"rest\",\n",
    "    plot_category=cell_type_key,\n",
    "    plot_group=cell_type,\n",
    "    selected_gps=None,\n",
    "    n_top_up_gps=10,\n",
    "    n_top_down_gps=10,\n",
    "    feature_spaces=[\"latent\"], # \"physical_embryo1\", \"physical_embryo2\", \"physical_embryo3\"\n",
    "    save_figs=False)\n",
    "\n",
    "top_gps_summary_df = store_top_gps_summary(model=model,\n",
    "                                           top_gps=top_unique_gps,\n",
    "                                           file_name=f\"{cell_type_fmt}_gp_summary.csv\")\n",
    "display(top_gps_summary_df)"
   ]
  },
  {
   "cell_type": "code",
   "execution_count": null,
   "id": "491eac29-8554-4752-a796-b66efeb39d07",
   "metadata": {},
   "outputs": [],
   "source": [
    "# Compute latent Leiden clustering with cell-type-specific resolution\n",
    "sc.tl.leiden(adata=model.adata,\n",
    "             resolution=cell_type_latent_resolution,\n",
    "             random_state=random_seed,\n",
    "             key_added=cell_type_latent_cluster_key,\n",
    "             neighbors_key=latent_knng_key)\n",
    "\n",
    "# Filter for cell type\n",
    "cell_type_adata = model.adata[model.adata.obs[cell_type_key] == cell_type]\n",
    "\n",
    "# Only keep latent clusters for cell type and set rest to NaN\n",
    "model.adata.obs[cell_type_latent_cluster_key] = np.nan\n",
    "model.adata.obs.loc[model.adata.obs[cell_type_key] == cell_type,\n",
    "                    cell_type_latent_cluster_key] = cell_type_adata.obs[cell_type_latent_cluster_key]"
   ]
  },
  {
   "cell_type": "code",
   "execution_count": null,
   "id": "85b00686-e8cf-43e5-9eef-bafa72bd3163",
   "metadata": {},
   "outputs": [],
   "source": [
    "plot_latent_physical_for_cell_type_latent_clusters(adata=model.adata,\n",
    "                                                   cell_type=cell_type,\n",
    "                                                   save_fig=False)"
   ]
  },
  {
   "cell_type": "code",
   "execution_count": null,
   "id": "3b897a55-574b-4b96-86f1-f4073a15377e",
   "metadata": {},
   "outputs": [],
   "source": [
    "fig = sc.pl.umap(\n",
    "    model.adata,\n",
    "    color=f\"{cell_type_fmt}_latent_leiden_{cell_type_latent_resolution}\",\n",
    "    palette=latent_cluster_colors,\n",
    "    groups=\"11\",\n",
    "    size=2560000/len(model.adata),\n",
    "    return_fig=True)\n",
    "fig.set_size_inches(15, 10)"
   ]
  },
  {
   "cell_type": "code",
   "execution_count": null,
   "id": "58fa962e-0779-4d32-b0fe-c3595c46135d",
   "metadata": {},
   "outputs": [],
   "source": [
    "# Retrieve all latent clusters with cells of the given cell type\n",
    "cell_type_latent_clusters = [cell_type_latent_cluster for cell_type_latent_cluster \n",
    "                             in model.adata.obs[cell_type_latent_cluster_key].unique().tolist()\n",
    "                             if str(cell_type_latent_cluster) != \"nan\"]\n",
    "\n",
    "# Define latent clusters of interest according to visualization\n",
    "cell_type_latent_clusters_of_interest = [\"1\", \"22\", \"16\", \"13\", \"20\", \"24\"]\n",
    "\n",
    "# Add column with sub cell types\n",
    "model.adata.obs[sub_cell_type_key] = model.adata.obs.apply(lambda row: add_sub_cell_type(row, cell_type=cell_type), axis=1)\n",
    "model.adata.obs[sub_cell_type_key] = model.adata.obs[sub_cell_type_key].astype(\"category\")\n",
    "\n",
    "# Squidpy nhood enrichment is sorted alphabetically\n",
    "sub_cell_types = model.adata.obs[sub_cell_type_key].unique().tolist()\n",
    "sub_cell_types.sort()\n",
    "\n",
    "sq.gr.nhood_enrichment(model.adata, cluster_key=sub_cell_type_key)\n",
    "\n",
    "cell_type_sub_cell_types_idx = []\n",
    "for i, sub_cell_type in enumerate(sub_cell_types):\n",
    "    if cell_type in sub_cell_type:\n",
    "        cell_type_sub_cell_types_idx.append(i)\n",
    "\n",
    "        # Retrieve cell type latent cluster neighborhood enrichments\n",
    "enrichment_dict = {f\"{sub_cell_types[cell_type_sub_cell_types_idx[i]]}\":{\n",
    "    sub_cell_type: zscore for zscore, sub_cell_type in sorted(\n",
    "        zip(model.adata.uns[f\"{sub_cell_type_key}_nhood_enrichment\"][\"zscore\"][cell_type_sub_cell_types_idx[i]], sub_cell_types), reverse=True)} for i in range(len(cell_type_sub_cell_types_idx))}\n",
    "\n",
    "enrichment_df = pd.DataFrame(enrichment_dict)"
   ]
  },
  {
   "cell_type": "markdown",
   "id": "f556b343-134c-4ef3-80aa-40e08f6c6cbf",
   "metadata": {},
   "source": [
    "#### 3.3.1 Latent Cluster 1"
   ]
  },
  {
   "cell_type": "code",
   "execution_count": null,
   "id": "bf24b185-c568-45c8-b1df-3e7f46f8c578",
   "metadata": {},
   "outputs": [],
   "source": [
    "selected_cats = [\"1\"]\n",
    "comparison_cats = list(set(cell_type_latent_clusters_of_interest) - set(selected_cats))\n",
    "latent_cluster_differential_gp_scores_key = f\"autotalker_latent_cluster_{selected_cats[0]}_differential_gp_scores\"\n",
    "\n",
    "model.adata.obs[cell_type_latent_cluster_emphasis_key] = model.adata.obs.apply(\n",
    "    lambda row: add_cell_type_latent_cluster_emphasis(row, comparison_cats), axis=1)\n",
    "model.adata.obs[cell_type_latent_cluster_emphasis_key] = model.adata.obs[cell_type_latent_cluster_emphasis_key].astype(\"category\")\n",
    "\n",
    "top_unique_gps = get_differential_analysis_results(\n",
    "    analysis_label=f\"{cell_type}_latent_cluster\",\n",
    "    model=model,\n",
    "    adata=model.adata,\n",
    "    cat_key=cell_type_latent_cluster_key,\n",
    "    selected_cats=selected_cats,\n",
    "    differential_gp_scores_key=latent_cluster_differential_gp_scores_key,\n",
    "    comparison_cats=comparison_cats,\n",
    "    plot_category=cell_type_latent_cluster_emphasis_key,\n",
    "    plot_group=[x for x in model.adata.obs[cell_type_latent_cluster_emphasis_key].unique().tolist() if str(x) != \"nan\"],\n",
    "    selected_gps=None,\n",
    "    n_top_up_gps=10,\n",
    "    n_top_down_gps=10,\n",
    "    feature_spaces=[\"latent\"], # \"physical_embryo1\", \"physical_embryo2\", \"physical_embryo3\"\n",
    "    save_figs=False)\n",
    "\n",
    "top_gps_summary_df = store_top_gps_summary(model=model,\n",
    "                                           top_gps=top_unique_gps,\n",
    "                                           file_name=f\"{cell_type_fmt}_cluster{selected_cats[0]}_gp_summary.csv\")\n",
    "display(top_gps_summary_df)"
   ]
  },
  {
   "cell_type": "markdown",
   "id": "b24822a4-61d9-4ca2-8c34-5fa086383c88",
   "metadata": {},
   "source": [
    "#### Overview"
   ]
  },
  {
   "cell_type": "code",
   "execution_count": null,
   "id": "03579654-666c-48de-b279-108d069486ed",
   "metadata": {},
   "outputs": [],
   "source": [
    "model.adata.obs.loc[model.adata.obs[cell_type_latent_cluster_key] == \"0\", \"MPZ_ligand_targetgenes_GP\"].mean()"
   ]
  },
  {
   "cell_type": "code",
   "execution_count": null,
   "id": "124eab62-0d84-4a6f-8141-7c40446e7feb",
   "metadata": {},
   "outputs": [],
   "source": [
    "model.adata.obs.loc[model.adata.obs[cell_type_latent_cluster_key] == \"1\", \"MPZ_ligand_targetgenes_GP\"].mean()"
   ]
  },
  {
   "cell_type": "code",
   "execution_count": null,
   "id": "d894981c-7307-4e48-8b85-93c5e32294dc",
   "metadata": {},
   "outputs": [],
   "source": [
    "model.adata.obs.loc[model.adata.obs[cell_type_latent_cluster_key] == \"2\", \"MPZ_ligand_targetgenes_GP\"].mean()"
   ]
  },
  {
   "cell_type": "code",
   "execution_count": null,
   "id": "658316a2-98ed-4893-bd55-906a9afe76ff",
   "metadata": {},
   "outputs": [],
   "source": [
    "model.adata.obs.loc[model.adata.obs[cell_type_latent_cluster_key] == \"3\", \"MPZ_ligand_targetgenes_GP\"].mean()"
   ]
  },
  {
   "cell_type": "code",
   "execution_count": null,
   "id": "6e9eec1c-e0dc-49cd-aca1-dd1ef1581887",
   "metadata": {},
   "outputs": [],
   "source": [
    "sq.pl.nhood_enrichment(model.adata, cluster_key=sub_cell_type_key)"
   ]
  },
  {
   "cell_type": "code",
   "execution_count": null,
   "id": "fdf1cc3a-967e-481d-a148-cb300ba22570",
   "metadata": {},
   "outputs": [],
   "source": [
    "enrichment_dict = {f\"{i}\":{\n",
    "    cell_type: zscore for zscore, cell_type in sorted(\n",
    "        zip(model.adata.uns[f\"{sub_cell_type_key}_nhood_enrichment\"][\"zscore\"][15 + i], cell_types), reverse=True)} for i in range(4)}\n",
    "\n",
    "enrichment_df = pd.DataFrame(enrichment_dict)"
   ]
  },
  {
   "cell_type": "code",
   "execution_count": null,
   "id": "32aaffc5-bdc3-4802-836f-6c59ae6971cd",
   "metadata": {},
   "outputs": [],
   "source": [
    "top_gps = [model.adata.uns[f\"autotalker_latent_cluster_{latent_cluster}_differential_gp_scores\"][\"gene_program\"][:n_top_up_gps].tolist() + \n",
    "           model.adata.uns[f\"autotalker_latent_cluster_{latent_cluster}_differential_gp_scores\"][\"gene_program\"][-n_top_down_gps:].tolist()\n",
    "           for latent_cluster in [cell_type_latent_cluster for cell_type_latent_cluster in model.adata.obs[cell_type_latent_cluster_key].unique().tolist() if str(cell_type_latent_cluster) != \"nan\"]]\n",
    "\n",
    "top_gps = [gp for gp_list in top_gps for gp in gp_list]\n",
    "\n",
    "for gp in top_gps:\n",
    "    cell_type_adata.obs[gp] = model.adata.obs.loc[model.adata.obs[cell_type_latent_cluster_key].notnull(), gp]"
   ]
  },
  {
   "cell_type": "code",
   "execution_count": null,
   "id": "d94bdb4c-0b25-41cb-b1d4-d30db0ceeb5c",
   "metadata": {},
   "outputs": [],
   "source": [
    "axs = sc.pl.heatmap(cell_type_adata,\n",
    "                   top_gps,\n",
    "                   groupby=cell_type_latent_cluster_key,\n",
    "                   cmap=\"viridis\",\n",
    "                   dendrogram=True,\n",
    "                   swap_axes=True,\n",
    "                   figsize=(12, 12),\n",
    "                   show=False)\n",
    "fig = axs[\"heatmap_ax\"].get_figure()\n",
    "fig.subplots_adjust(left=0.4)\n",
    "spec = matplotlib.gridspec.GridSpec(ncols=2, nrows=1, right=2.2)\n",
    "ax2 = fig.add_subplot(spec[1])\n",
    "sns.heatmap(enrichment_df, annot=True, fmt=\".2f\", cmap=\"viridis\", ax=ax2)\n",
    "ax2.set_title(\"Neighborhood enrichments\")"
   ]
  },
  {
   "cell_type": "code",
   "execution_count": null,
   "id": "66d67407-74ef-4d21-889d-d101196ea7c1",
   "metadata": {},
   "outputs": [],
   "source": [
    "fig = sc.pl.dotplot(cell_type_adata,\n",
    "                    top_gps,\n",
    "                    groupby=cell_type_latent_cluster_key,\n",
    "                    dendrogram=True, \n",
    "                    title=\"Mixed Mesenchymal Mesoderm Latent Clusters Differential GP Scores\",\n",
    "                    swap_axes=True,\n",
    "                    return_fig=True)\n",
    "# Save and display plot\n",
    "#if save_figs:\n",
    "#    fig.savefig(f\"{figure_folder_path}/{analysis_label}_differential_gp_scores.png\")\n",
    "plt.show()"
   ]
  },
  {
   "cell_type": "code",
   "execution_count": null,
   "id": "343f40e5-dcfa-4f41-8795-4e95c23993ad",
   "metadata": {},
   "outputs": [],
   "source": [
    "fig = sc.pl.dotplot(cell_type_adata,\n",
    "                    top_gps,\n",
    "                    groupby=cell_type_latent_cluster_key,\n",
    "                    dendrogram=True, \n",
    "                    title=\"Mixed Mesenchymal Mesoderm Latent Clusters Differential GP Scores\",\n",
    "                    swap_axes=True,\n",
    "                    return_fig=True)\n",
    "fig.show()"
   ]
  },
  {
   "cell_type": "code",
   "execution_count": null,
   "id": "7c41c084-f066-4bba-84a9-33d3a27869a5",
   "metadata": {},
   "outputs": [],
   "source": [
    "# fig, axs = plt.subplots(1, 2, figsize=(10, 10))\n",
    "sns.heatmap(enrichment_df, annot=True, ax=ax2)\n",
    "ax2.set_title(\"Neighborhood enrichments\")"
   ]
  },
  {
   "cell_type": "code",
   "execution_count": null,
   "id": "bfc3cd08-8443-4fc8-8883-88022a31064f",
   "metadata": {},
   "outputs": [],
   "source": [
    "fig"
   ]
  },
  {
   "cell_type": "code",
   "execution_count": null,
   "id": "c6dce841-29fd-4e9b-953f-f7bf4f9cda62",
   "metadata": {},
   "outputs": [],
   "source": []
  },
  {
   "cell_type": "markdown",
   "id": "5a385115-e9b6-4b5e-837f-e1b6746d4117",
   "metadata": {},
   "source": [
    "### 3.5 CellRank"
   ]
  },
  {
   "cell_type": "raw",
   "id": "0d74e3c5-9b23-439b-9947-366c1ddadb94",
   "metadata": {},
   "source": [
    "import scvelo as scv\n",
    "import scanpy as sc\n",
    "import cellrank as cr\n",
    "\n",
    "scv.settings.verbosity = 3\n",
    "scv.settings.set_figure_params(\"scvelo\")\n",
    "cr.settings.verbosity = 2"
   ]
  },
  {
   "cell_type": "raw",
   "id": "fc53d0b9-eabd-431d-8a1a-42067305c43d",
   "metadata": {},
   "source": [
    "adata = cr.datasets.zebrafish()\n",
    "adata"
   ]
  },
  {
   "cell_type": "raw",
   "id": "21182c72-f768-4fdc-931d-71ae92659ebb",
   "metadata": {},
   "source": [
    "# filter, normalize total counts and log-transform\n",
    "sc.pp.filter_genes(adata, min_cells=10)\n",
    "scv.pp.normalize_per_cell(adata)\n",
    "sc.pp.log1p(adata)\n",
    "\n",
    "# hvg annotation\n",
    "sc.pp.highly_variable_genes(adata)\n",
    "print(f\"This detected {adata.var['highly_variable'].sum()} highly variable genes. \")\n",
    "\n",
    "# use scVelo's `moments` function for imputation - note that hack we're using here:\n",
    "# we're copying our `.X` matrix into the layers because that's where `scv.tl.moments`\n",
    "# expects to find counts for imputation\n",
    "adata.layers[\"spliced\"] = adata.X\n",
    "adata.layers[\"unspliced\"] = adata.X\n",
    "scv.pp.moments(adata, n_pcs=30, n_neighbors=30)"
   ]
  },
  {
   "cell_type": "raw",
   "id": "2015ea6f-ab40-45a9-a45a-77909cb90e29",
   "metadata": {},
   "source": [
    "from cellrank.kernels import CytoTRACEKernel\n",
    "\n",
    "ctk = CytoTRACEKernel(adata).compute_cytotrace()"
   ]
  },
  {
   "cell_type": "raw",
   "id": "8c86cdc2-c13f-4511-aff8-fa4ac076c521",
   "metadata": {},
   "source": [
    "cr.__version__"
   ]
  },
  {
   "cell_type": "raw",
   "id": "ce04dec3-8ade-4e25-9c51-2ba0fb883a2d",
   "metadata": {},
   "source": [
    "# import packages and load data\n",
    "import scvelo as scv\n",
    "import cellrank as cr\n",
    "adata = cr.datasets.pancreas()\n",
    "\n",
    "# standard pre-processing\n",
    "sc.pp.filter_genes(adata, min_cells=10)\n",
    "sc.pp.normalize_total(adata)\n",
    "sc.pp.log1p(adata)\n",
    "sc.pp.highly_variable_genes(adata)\n",
    "\n",
    "# CytoTRACE by default uses imputed data - a simple way to compute kNN-imputed data is to use scVelo's moments\n",
    "# function. However, note that this function expects `spliced` counts because it's designed for RNA velocity,\n",
    "# so we're using a simple hack here:\n",
    "if 'spliced' not in adata.layers or 'unspliced' not in adata.layers:\n",
    "    adata.layers['spliced'] = adata.X\n",
    "    adata.layers['unspliced'] = adata.X\n",
    "\n",
    "# compute kNN-imputation using scVelo's moments function\n",
    "scv.pp.moments(adata)\n",
    "\n",
    "# import and initialize the CytoTRACE kernel, compute transition matrix - done!\n",
    "from cellrank.kernels import CytoTRACEKernel\n",
    "ctk = CytoTRACEKernel(adata).compute_cytotrace().compute_transition_matrix()"
   ]
  },
  {
   "cell_type": "raw",
   "id": "10b911df-0c13-43dd-9f3b-d22701a5a776",
   "metadata": {},
   "source": [
    "cr.logging.print_versions()"
   ]
  },
  {
   "cell_type": "raw",
   "id": "58f29f0c-744f-4cee-97b1-b2c9efef5583",
   "metadata": {},
   "source": []
  }
 ],
 "metadata": {
  "kernelspec": {
   "display_name": "Python 3 (ipykernel)",
   "language": "python",
   "name": "python3"
  },
  "language_info": {
   "codemirror_mode": {
    "name": "ipython",
    "version": 3
   },
   "file_extension": ".py",
   "mimetype": "text/x-python",
   "name": "python",
   "nbconvert_exporter": "python",
   "pygments_lexer": "ipython3",
   "version": "3.9.16"
  },
  "toc-showcode": false,
  "toc-showmarkdowntxt": false
 },
 "nbformat": 4,
 "nbformat_minor": 5
}
