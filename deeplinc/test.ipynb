{
 "cells": [
  {
   "cell_type": "code",
   "execution_count": 2,
   "metadata": {},
   "outputs": [],
   "source": [
    "import scanpy as sc\n",
    "import squidpy as sq\n",
    "\n",
    "import numpy as np"
   ]
  },
  {
   "cell_type": "code",
   "execution_count": 3,
   "metadata": {},
   "outputs": [
    {
     "data": {
      "application/vnd.jupyter.widget-view+json": {
       "model_id": "7c7407529f014d07945f17c6f0b0934c",
       "version_major": 2,
       "version_minor": 0
      },
      "text/plain": [
       "  0%|          | 0.00/242M [00:00<?, ?B/s]"
      ]
     },
     "metadata": {},
     "output_type": "display_data"
    },
    {
     "data": {
      "text/plain": [
       "AnnData object with n_obs × n_vars = 2800 × 16562\n",
       "    obs: 'in_tissue', 'array_row', 'array_col', 'n_genes_by_counts', 'log1p_n_genes_by_counts', 'total_counts', 'log1p_total_counts', 'pct_counts_in_top_50_genes', 'pct_counts_in_top_100_genes', 'pct_counts_in_top_200_genes', 'pct_counts_in_top_500_genes', 'total_counts_MT', 'log1p_total_counts_MT', 'pct_counts_MT', 'n_counts', 'leiden', 'cluster'\n",
       "    var: 'gene_ids', 'feature_types', 'genome', 'MT', 'n_cells_by_counts', 'mean_counts', 'log1p_mean_counts', 'pct_dropout_by_counts', 'total_counts', 'log1p_total_counts', 'n_cells', 'highly_variable', 'highly_variable_rank', 'means', 'variances', 'variances_norm'\n",
       "    uns: 'cluster_colors', 'hvg', 'leiden', 'leiden_colors', 'neighbors', 'pca', 'spatial', 'umap'\n",
       "    obsm: 'X_pca', 'X_umap', 'spatial'\n",
       "    varm: 'PCs'\n",
       "    obsp: 'connectivities', 'distances'"
      ]
     },
     "execution_count": 3,
     "metadata": {},
     "output_type": "execute_result"
    }
   ],
   "source": [
    "adata = sq.datasets.visium_fluo_adata()\n",
    "adata"
   ]
  },
  {
   "cell_type": "code",
   "execution_count": 4,
   "metadata": {},
   "outputs": [],
   "source": [
    "sq.gr.spatial_neighbors(adata, n_rings=2, coord_type=\"grid\", n_neighs=6)"
   ]
  },
  {
   "cell_type": "code",
   "execution_count": 7,
   "metadata": {},
   "outputs": [
    {
     "data": {
      "text/plain": [
       "array([[0., 0., 0., ..., 0., 0., 0.],\n",
       "       [0., 0., 0., ..., 0., 0., 0.],\n",
       "       [0., 0., 0., ..., 0., 0., 0.],\n",
       "       ...,\n",
       "       [0., 0., 0., ..., 0., 0., 0.],\n",
       "       [0., 0., 0., ..., 0., 0., 0.],\n",
       "       [0., 0., 0., ..., 0., 0., 0.]])"
      ]
     },
     "execution_count": 7,
     "metadata": {},
     "output_type": "execute_result"
    }
   ],
   "source": [
    "adata.obsp[\"spatial_connectivities\"].A"
   ]
  },
  {
   "cell_type": "code",
   "execution_count": 6,
   "metadata": {},
   "outputs": [
    {
     "data": {
      "text/plain": [
       "AnnData object with n_obs × n_vars = 2800 × 16562\n",
       "    obs: 'in_tissue', 'array_row', 'array_col', 'n_genes_by_counts', 'log1p_n_genes_by_counts', 'total_counts', 'log1p_total_counts', 'pct_counts_in_top_50_genes', 'pct_counts_in_top_100_genes', 'pct_counts_in_top_200_genes', 'pct_counts_in_top_500_genes', 'total_counts_MT', 'log1p_total_counts_MT', 'pct_counts_MT', 'n_counts', 'leiden', 'cluster'\n",
       "    var: 'gene_ids', 'feature_types', 'genome', 'MT', 'n_cells_by_counts', 'mean_counts', 'log1p_mean_counts', 'pct_dropout_by_counts', 'total_counts', 'log1p_total_counts', 'n_cells', 'highly_variable', 'highly_variable_rank', 'means', 'variances', 'variances_norm'\n",
       "    uns: 'cluster_colors', 'hvg', 'leiden', 'leiden_colors', 'neighbors', 'pca', 'spatial', 'umap', 'spatial_neighbors'\n",
       "    obsm: 'X_pca', 'X_umap', 'spatial'\n",
       "    varm: 'PCs'\n",
       "    obsp: 'connectivities', 'distances', 'spatial_connectivities', 'spatial_distances'"
      ]
     },
     "execution_count": 6,
     "metadata": {},
     "output_type": "execute_result"
    }
   ],
   "source": [
    "adata"
   ]
  },
  {
   "cell_type": "code",
   "execution_count": 32,
   "metadata": {},
   "outputs": [
    {
     "data": {
      "text/plain": [
       "True"
      ]
     },
     "execution_count": 32,
     "metadata": {},
     "output_type": "execute_result"
    }
   ],
   "source": [
    "import numpy as np\n",
    "import torch\n",
    "from scipy import sparse\n",
    "from torch.utils.data import Dataset\n",
    "\n",
    "class SpatialAnnDataDataset(Dataset):\n",
    "    \"\"\"\n",
    "\n",
    "       Parameters\n",
    "       ----------\n",
    "       adata: `~anndata.AnnData`\n",
    "            Spatially annotated AnnData object. Adjaceny matrix needs to be stored in adata.obsp[\"spatial_connectivities\"].\n",
    "    \"\"\"\n",
    "\n",
    "    def __init__(self,\n",
    "                 adata,\n",
    "                 ):\n",
    "\n",
    "        if sparse.issparse(adata.X):\n",
    "            self.X = torch.tensor(adata.X.A)\n",
    "        else:\n",
    "            self.X = torch.tensor(adata.X)\n",
    "\n",
    "        if sparse.issparse(adata.obsp[\"spatial_connectivities\"]):\n",
    "            self.A = torch.tensor(adata.obsp[\"spatial_connectivities\"].A)\n",
    "        else:\n",
    "            self.A = torch.tensor(adata.obsp[\"spatial_connectivities\"]) # output from squidpy.gr.spatial_neighbors\n",
    "\n",
    "        if not (self.A==self.A.T).all():\n",
    "            raise ImportError(\"The input adjacency matrix is not a symmetric matrix.\")\n",
    "        if not np.diag(self.A).sum()==0:\n",
    "            raise ImportError(\"The diagonal elements of input adjacency matrix are not all 0.\")\n",
    "\n",
    "\n",
    "    def __getitem__(self, index):\n",
    "        output = dict()\n",
    "\n",
    "        output[\"X\"] = self.X[index, :]\n",
    "        output[\"A\"] = self.A[index, :]\n",
    "\n",
    "        return output\n",
    "\n",
    "\n",
    "    def __len__(self):\n",
    "        return self.X.size(0)\n",
    "\n",
    "\n",
    "    def __str__(self):\n",
    "        return self.__name"
   ]
  },
  {
   "cell_type": "code",
   "execution_count": 20,
   "metadata": {},
   "outputs": [
    {
     "data": {
      "text/plain": [
       "True"
      ]
     },
     "execution_count": 20,
     "metadata": {},
     "output_type": "execute_result"
    }
   ],
   "source": [
    "sparse.issparse(adata.obsp[\"spatial_connectivities\"])"
   ]
  },
  {
   "cell_type": "code",
   "execution_count": 9,
   "metadata": {},
   "outputs": [],
   "source": [
    "import torch\n",
    "from scipy import sparse\n",
    "from torch.utils.data import Dataset"
   ]
  },
  {
   "cell_type": "code",
   "execution_count": 35,
   "metadata": {},
   "outputs": [],
   "source": [
    "import numpy as np\n",
    "import torch\n",
    "from scipy import sparse\n",
    "from torch.utils.data import Dataset\n",
    "\n",
    "class SpatialAnnDataDataset(Dataset):\n",
    "    \"\"\"\n",
    "\n",
    "       Parameters\n",
    "       ----------\n",
    "       adata: `~anndata.AnnData`\n",
    "            Spatially annotated AnnData object. Adjaceny matrix needs to be stored in adata.obsp[\"spatial_connectivities\"].\n",
    "    \"\"\"\n",
    "\n",
    "    def __init__(self,\n",
    "                 adata,\n",
    "                 ):\n",
    "\n",
    "        if sparse.issparse(adata.X):\n",
    "            self.X = torch.tensor(adata.X.A)\n",
    "        else:\n",
    "            self.X = torch.tensor(adata.X)\n",
    "\n",
    "        if sparse.issparse(adata.obsp[\"spatial_connectivities\"]):\n",
    "            self.A = torch.tensor(adata.obsp[\"spatial_connectivities\"].A)\n",
    "        else:\n",
    "            self.A = torch.tensor(adata.obsp[\"spatial_connectivities\"]) # output from squidpy.gr.spatial_neighbors\n",
    "\n",
    "        if not (self.A==self.A.T).all():\n",
    "            raise ImportError(\"The input adjacency matrix is not a symmetric matrix.\")\n",
    "        if not np.diag(self.A).sum()==0:\n",
    "            raise ImportError(\"The diagonal elements of input adjacency matrix are not all 0.\")\n",
    "\n",
    "\n",
    "    def __getitem__(self, index):\n",
    "        output = dict()\n",
    "\n",
    "        output[\"X\"] = self.X[index, :]\n",
    "        output[\"A\"] = self.A[index, :]\n",
    "\n",
    "        return output\n",
    "\n",
    "\n",
    "    def __len__(self):\n",
    "        return self.X.size(0)\n",
    "\n",
    "\n",
    "    def __str__(self):\n",
    "        return self.__name"
   ]
  },
  {
   "cell_type": "code",
   "execution_count": 51,
   "metadata": {},
   "outputs": [],
   "source": [
    "dataset = SpatialAnnDataDataset(adata)\n",
    "train_dataset, test_dataset = torch.utils.data.random_split(dataset, [2000, 800])"
   ]
  },
  {
   "cell_type": "code",
   "execution_count": 52,
   "metadata": {},
   "outputs": [],
   "source": [
    "from torch.utils.data import DataLoader\n",
    "\n",
    "train_dataloader = DataLoader(train_dataset, batch_size=64, shuffle=True)\n",
    "test_dataloader = DataLoader(test_dataset, batch_size=64, shuffle=True)"
   ]
  },
  {
   "cell_type": "code",
   "execution_count": 53,
   "metadata": {},
   "outputs": [
    {
     "data": {
      "text/plain": [
       "torch.utils.data.dataset.Subset"
      ]
     },
     "execution_count": 53,
     "metadata": {},
     "output_type": "execute_result"
    }
   ],
   "source": [
    "type(train_dataset)"
   ]
  },
  {
   "cell_type": "code",
   "execution_count": 55,
   "metadata": {},
   "outputs": [
    {
     "data": {
      "text/plain": [
       "{'X': tensor([[0.0000, 0.0000, 0.0000,  ..., 0.0000, 0.0000, 1.4659],\n",
       "         [0.0000, 0.0000, 0.7449,  ..., 0.0000, 0.0000, 1.1671],\n",
       "         [0.0000, 0.0000, 0.0000,  ..., 0.0000, 0.0000, 1.9113],\n",
       "         ...,\n",
       "         [0.0000, 0.0000, 0.0000,  ..., 0.0000, 0.0000, 1.1020],\n",
       "         [0.0000, 0.0000, 0.0000,  ..., 0.0000, 0.0000, 0.0000],\n",
       "         [0.0000, 0.0000, 0.0000,  ..., 0.0000, 0.0000, 1.2614]]),\n",
       " 'A': tensor([[0., 0., 0.,  ..., 0., 0., 0.],\n",
       "         [0., 0., 0.,  ..., 0., 0., 0.],\n",
       "         [0., 0., 0.,  ..., 0., 0., 0.],\n",
       "         ...,\n",
       "         [0., 0., 0.,  ..., 0., 0., 0.],\n",
       "         [0., 0., 0.,  ..., 0., 0., 0.],\n",
       "         [0., 0., 0.,  ..., 0., 0., 0.]], dtype=torch.float64)}"
      ]
     },
     "execution_count": 55,
     "metadata": {},
     "output_type": "execute_result"
    }
   ],
   "source": [
    "next(iter(train_dataloader))"
   ]
  },
  {
   "cell_type": "code",
   "execution_count": 40,
   "metadata": {},
   "outputs": [
    {
     "data": {
      "text/plain": [
       "{'X': tensor([[0.0000, 0.0000, 0.0000,  ..., 0.0000, 0.0000, 1.5867],\n",
       "         [0.0000, 0.0000, 0.0000,  ..., 0.0000, 0.0000, 1.5107],\n",
       "         [0.7439, 0.0000, 0.0000,  ..., 0.0000, 0.0000, 1.8750],\n",
       "         ...,\n",
       "         [0.0000, 0.0000, 0.0000,  ..., 0.0000, 0.0000, 1.2222],\n",
       "         [0.0000, 0.0000, 0.0000,  ..., 0.0000, 0.0000, 1.7781],\n",
       "         [0.0000, 0.0000, 0.0000,  ..., 0.0000, 0.0000, 0.0000]]),\n",
       " 'A': tensor([[0., 0., 0.,  ..., 0., 0., 0.],\n",
       "         [0., 0., 0.,  ..., 0., 0., 0.],\n",
       "         [0., 0., 0.,  ..., 0., 0., 0.],\n",
       "         ...,\n",
       "         [0., 0., 0.,  ..., 0., 0., 0.],\n",
       "         [0., 0., 0.,  ..., 0., 0., 0.],\n",
       "         [0., 0., 0.,  ..., 0., 0., 0.]], dtype=torch.float64)}"
      ]
     },
     "execution_count": 40,
     "metadata": {},
     "output_type": "execute_result"
    }
   ],
   "source": [
    "test_dataset[5:12]"
   ]
  },
  {
   "cell_type": "code",
   "execution_count": 39,
   "metadata": {},
   "outputs": [
    {
     "data": {
      "text/plain": [
       "2800"
      ]
     },
     "execution_count": 39,
     "metadata": {},
     "output_type": "execute_result"
    }
   ],
   "source": [
    "len(test_dataset)"
   ]
  },
  {
   "cell_type": "code",
   "execution_count": null,
   "metadata": {},
   "outputs": [],
   "source": []
  }
 ],
 "metadata": {
  "kernelspec": {
   "display_name": "Python 3.8.8 ('scvi-tools-dev')",
   "language": "python",
   "name": "python3"
  },
  "language_info": {
   "codemirror_mode": {
    "name": "ipython",
    "version": 3
   },
   "file_extension": ".py",
   "mimetype": "text/x-python",
   "name": "python",
   "nbconvert_exporter": "python",
   "pygments_lexer": "ipython3",
   "version": "3.8.8"
  },
  "orig_nbformat": 4,
  "vscode": {
   "interpreter": {
    "hash": "86ff60430dd89cd00eda0bbb9f0b7c59bedb5c9b262bea8f66aa577437d42b77"
   }
  }
 },
 "nbformat": 4,
 "nbformat_minor": 2
}
