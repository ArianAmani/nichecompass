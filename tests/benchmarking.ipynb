{
 "cells": [
  {
   "cell_type": "code",
   "execution_count": 1,
   "id": "955fabaa-6dc5-46e9-8bde-ec85bde69849",
   "metadata": {},
   "outputs": [],
   "source": [
    "%load_ext autoreload\n",
    "%autoreload 2"
   ]
  },
  {
   "cell_type": "code",
   "execution_count": 4,
   "id": "9d8339cb-88ba-45df-b64d-6fbf159dbd10",
   "metadata": {},
   "outputs": [
    {
     "data": {
      "text/plain": [
       "Array([2], dtype=int32)"
      ]
     },
     "execution_count": 4,
     "metadata": {},
     "output_type": "execute_result"
    }
   ],
   "source": [
    "import jax.numpy as jnp\n",
    "arr = jnp.array([1, 2, 3])\n",
    "idx = jnp.array([1])\n",
    "arr[idx]"
   ]
  },
  {
   "cell_type": "code",
   "execution_count": 22,
   "id": "0ed04b09-cc98-4726-9df8-332c6afb84fa",
   "metadata": {},
   "outputs": [],
   "source": [
    "import numpy as np\n",
    "import scipy.sparse as sp\n",
    "\n",
    "from nichecompass.benchmarking import compute_gcs, compute_mlami, compute_clisis, compute_cas"
   ]
  },
  {
   "cell_type": "code",
   "execution_count": null,
   "id": "b6d36c93-25f9-49e6-9193-7f0ad713b85d",
   "metadata": {},
   "outputs": [],
   "source": [
    "!conda list cudnn"
   ]
  },
  {
   "cell_type": "code",
   "execution_count": null,
   "id": "1bd96ac9-ec8f-408a-ac3f-698abd1d7020",
   "metadata": {},
   "outputs": [],
   "source": [
    "import jax"
   ]
  },
  {
   "cell_type": "code",
   "execution_count": null,
   "id": "271b2eab-ff57-4708-bfe4-5f123add8a64",
   "metadata": {},
   "outputs": [],
   "source": [
    "jax.devices()"
   ]
  },
  {
   "cell_type": "code",
   "execution_count": null,
   "id": "eac2a2c3-610f-428f-b8ff-a3a4980240c7",
   "metadata": {},
   "outputs": [],
   "source": [
    "matrix1 = sp.csr_matrix(np.array([[0.7, 1.2, 0], [1.3, 0, 0], [0, 0, 0]]))\n",
    "matrix2 = sp.csr_matrix(np.array([[0, -0.4, 0], [-0.2, 0, 1], [0, 0, 1]]))"
   ]
  },
  {
   "cell_type": "code",
   "execution_count": null,
   "id": "28299807-dd0d-44f4-850b-8a579853b762",
   "metadata": {},
   "outputs": [],
   "source": [
    "diff = matrix1 - matrix2"
   ]
  },
  {
   "cell_type": "code",
   "execution_count": null,
   "id": "65cf8e38-04f5-45b2-ad91-4d00f8ce2060",
   "metadata": {},
   "outputs": [],
   "source": [
    "diff.toarray()"
   ]
  },
  {
   "cell_type": "code",
   "execution_count": null,
   "id": "45e834b7-0fce-49dc-977d-30b99a4ed40d",
   "metadata": {},
   "outputs": [],
   "source": [
    "gcd = sp.linalg.norm(diff,\n",
    "                     ord=\"fro\")"
   ]
  },
  {
   "cell_type": "code",
   "execution_count": null,
   "id": "ae852012-3d5d-426f-9454-15cc03e280a7",
   "metadata": {},
   "outputs": [],
   "source": [
    "gcd"
   ]
  },
  {
   "cell_type": "code",
   "execution_count": null,
   "id": "ac2da361-379e-422c-bf97-58b8d04f40e3",
   "metadata": {},
   "outputs": [],
   "source": [
    "2.6 + 3.2"
   ]
  },
  {
   "cell_type": "code",
   "execution_count": 28,
   "id": "4632c85b-fb72-417b-8c59-79f83c91bd26",
   "metadata": {},
   "outputs": [],
   "source": [
    "import scanpy as sc\n",
    "adata = sc.read_h5ad(\"../artifacts/multimodal/02062023_151955/model/adata.h5ad\")"
   ]
  },
  {
   "cell_type": "code",
   "execution_count": null,
   "id": "4797a3b8-b14c-49a6-80b7-81df7f482d04",
   "metadata": {},
   "outputs": [],
   "source": [
    "adata.obsp[\"nichecompass_latent_connectivities\"].toarray()"
   ]
  },
  {
   "cell_type": "code",
   "execution_count": null,
   "id": "3036acda-5ecb-4981-9b3d-653345475948",
   "metadata": {},
   "outputs": [],
   "source": [
    "non_zero_counts = np.count_nonzero(adata.obsp[\"nichecompass_latent_connectivities\"].toarray(), axis=1)\n",
    "\n",
    "print(np.max(non_zero_counts))"
   ]
  },
  {
   "cell_type": "code",
   "execution_count": null,
   "id": "4e6b19e6-85e6-4926-8c65-f774a7ba843d",
   "metadata": {},
   "outputs": [],
   "source": [
    "sums = np.sum(adata.obsp[\"nichecompass_latent_connectivities\"].toarray(), axis=1)"
   ]
  },
  {
   "cell_type": "code",
   "execution_count": null,
   "id": "96ee57b5-5588-43c8-921b-344c4431daf8",
   "metadata": {},
   "outputs": [],
   "source": [
    "print(np.max(sums))"
   ]
  },
  {
   "cell_type": "code",
   "execution_count": null,
   "id": "d5ad388f-ff80-4071-992f-242c230ef588",
   "metadata": {},
   "outputs": [],
   "source": [
    "type(adata.uns[\"nichecompass_latent\"][\"params\"][\"n_neighbors\"])"
   ]
  },
  {
   "cell_type": "code",
   "execution_count": null,
   "id": "1b4bbe02-b28d-40bf-9813-a77f3032c3be",
   "metadata": {},
   "outputs": [],
   "source": [
    "adata"
   ]
  },
  {
   "cell_type": "code",
   "execution_count": null,
   "id": "46ae409c-db39-4d8d-bd59-70a4e943eef6",
   "metadata": {},
   "outputs": [],
   "source": [
    "adata_batch = adata[adata.obs[\"RNA_clusters\"] == \"R1\"]"
   ]
  },
  {
   "cell_type": "code",
   "execution_count": null,
   "id": "6e42f54d-47bd-4cc6-ac71-76aa1077477b",
   "metadata": {},
   "outputs": [],
   "source": [
    "adata.obs[\"test\"] = 2"
   ]
  },
  {
   "cell_type": "code",
   "execution_count": null,
   "id": "bc430149-3586-45c2-8671-006f052951e8",
   "metadata": {},
   "outputs": [],
   "source": [
    "adata.obs.loc[adata.obs[\"RNA_clusters\"] == \"R1\", \"test\"] = 4"
   ]
  },
  {
   "cell_type": "code",
   "execution_count": null,
   "id": "bd01af5c-ca7e-4910-88c0-409c82072951",
   "metadata": {},
   "outputs": [],
   "source": [
    "adata.obs[\"test\"].unique().tolist()"
   ]
  },
  {
   "cell_type": "code",
   "execution_count": null,
   "id": "0b0c2f8b-9c79-49de-9abf-b1e36e457106",
   "metadata": {},
   "outputs": [],
   "source": [
    "adata_batch.obs[\"test\"] = adata.obs[\"test\"]"
   ]
  },
  {
   "cell_type": "code",
   "execution_count": null,
   "id": "3e5091c2-0a23-4fb9-97eb-a9b37c71878f",
   "metadata": {},
   "outputs": [],
   "source": [
    "adata_batch.obs[\"test\"].unique()"
   ]
  },
  {
   "cell_type": "code",
   "execution_count": null,
   "id": "9733594c-6e29-482c-ad7d-20215d471357",
   "metadata": {},
   "outputs": [],
   "source": []
  },
  {
   "cell_type": "code",
   "execution_count": null,
   "id": "87da12dd-0eed-4968-9d9d-ee61281806b9",
   "metadata": {},
   "outputs": [],
   "source": [
    "help(compute_mlami)"
   ]
  },
  {
   "cell_type": "code",
   "execution_count": null,
   "id": "5e9732a8-a926-4a7e-abfb-cd4c3aa52a58",
   "metadata": {},
   "outputs": [],
   "source": []
  },
  {
   "cell_type": "code",
   "execution_count": null,
   "id": "65aed5a8-57f0-4058-be8b-62553a9e1ea1",
   "metadata": {},
   "outputs": [],
   "source": [
    "mlami"
   ]
  },
  {
   "cell_type": "code",
   "execution_count": null,
   "id": "c01d527d-b467-4759-9461-432aeb63005c",
   "metadata": {},
   "outputs": [],
   "source": [
    "mlami"
   ]
  },
  {
   "cell_type": "code",
   "execution_count": null,
   "id": "b67487e5-7dc4-4525-bf03-52230a4258b5",
   "metadata": {},
   "outputs": [],
   "source": [
    "from scib_metrics import lisi_knn"
   ]
  },
  {
   "cell_type": "code",
   "execution_count": null,
   "id": "a155cc6a-62e4-405f-bb58-1f32b2f49ae0",
   "metadata": {},
   "outputs": [],
   "source": [
    "adata.obs"
   ]
  },
  {
   "cell_type": "code",
   "execution_count": null,
   "id": "63be4425-8a2a-474f-a39b-bff1b6dd0224",
   "metadata": {},
   "outputs": [],
   "source": [
    "adata"
   ]
  },
  {
   "cell_type": "code",
   "execution_count": null,
   "id": "6c032acc-d7bc-4a3c-ad98-4bf52208b8dd",
   "metadata": {},
   "outputs": [],
   "source": [
    "adata"
   ]
  },
  {
   "cell_type": "code",
   "execution_count": null,
   "id": "150ab393-5fa1-4d3a-87b2-4ab7c8305d9d",
   "metadata": {},
   "outputs": [],
   "source": [
    "import jax.numpy as jnp"
   ]
  },
  {
   "cell_type": "code",
   "execution_count": null,
   "id": "342f023b-1e37-4567-8676-f5003f748ff0",
   "metadata": {},
   "outputs": [],
   "source": [
    "adata.obs"
   ]
  },
  {
   "cell_type": "code",
   "execution_count": null,
   "id": "c9810a9f-a17d-481c-96b0-820477cfffad",
   "metadata": {},
   "outputs": [],
   "source": [
    "jnp.array([1])"
   ]
  },
  {
   "cell_type": "code",
   "execution_count": null,
   "id": "edb0174e-67e1-45db-ace6-c7663056a6b2",
   "metadata": {},
   "outputs": [],
   "source": [
    "jnp.cudnn"
   ]
  },
  {
   "cell_type": "code",
   "execution_count": null,
   "id": "9905f48c-7c4f-4464-8d75-9efc65d2355c",
   "metadata": {},
   "outputs": [],
   "source": [
    "jax.__version__"
   ]
  },
  {
   "cell_type": "code",
   "execution_count": null,
   "id": "25af109f-d9c0-4bab-93fd-6ae84b22d9d7",
   "metadata": {},
   "outputs": [],
   "source": [
    "import jaxlib\n",
    "jaxlib.__version__"
   ]
  },
  {
   "cell_type": "code",
   "execution_count": null,
   "id": "ae661b0a-d8d0-4132-9cfb-868416ed9741",
   "metadata": {},
   "outputs": [],
   "source": [
    "jax.lib.xla_bridge"
   ]
  },
  {
   "cell_type": "code",
   "execution_count": null,
   "id": "12ff9d95-adb4-46cc-b601-0a61f3ab3ad3",
   "metadata": {},
   "outputs": [],
   "source": [
    "jnp.array([2, 3, 4])[jnp.array([1])]"
   ]
  },
  {
   "cell_type": "code",
   "execution_count": 35,
   "id": "cc0aac6d-4fdd-4fa6-bdc9-0856bbeee456",
   "metadata": {},
   "outputs": [
    {
     "name": "stdout",
     "output_type": "stream",
     "text": [
      "Using precomputed spatial nearest neighbor graph...\n",
      "Computing spatial neighborhood enrichment scores...\n",
      "Using precomputed latent nearest neighbor graph...\n",
      "Computing latent neighborhood enrichment scores...\n",
      "Computing CAS...\n"
     ]
    }
   ],
   "source": [
    "cas = compute_cas(\n",
    "        adata=adata,\n",
    "        cell_type_key=\"RNA_clusters\",\n",
    "        batch_key=\"batch\",\n",
    "        spatial_knng_key=\"spatial_knng\",\n",
    "        latent_knng_key=\"nichecompass_latent_knng\",\n",
    "        spatial_key=\"spatial\",\n",
    "        latent_key=\"nichecompass_latent\",\n",
    "        n_neighbors=15,\n",
    "        n_perms=1000,\n",
    "        n_jobs=1,\n",
    "        seed=0)"
   ]
  },
  {
   "cell_type": "code",
   "execution_count": 36,
   "id": "96988e98-7e33-4f3c-951b-43aa470d8b0b",
   "metadata": {},
   "outputs": [
    {
     "data": {
      "text/plain": [
       "0.5957521220015449"
      ]
     },
     "execution_count": 36,
     "metadata": {},
     "output_type": "execute_result"
    }
   ],
   "source": [
    "cas"
   ]
  },
  {
   "cell_type": "code",
   "execution_count": 25,
   "id": "d7da009f-c9f4-4748-8cd4-bdababdf1704",
   "metadata": {},
   "outputs": [
    {
     "name": "stdout",
     "output_type": "stream",
     "text": [
      "Computing spatial nearest neighbor graph for batch p22...\n",
      "Computing spatial cell CLISI scores for batch p22...\n",
      "Computing latent nearest neighbor graph...\n",
      "Computing latent cell CLISI scores...\n",
      "Computing CLISIS...\n"
     ]
    }
   ],
   "source": [
    "clisis = compute_clisis(\n",
    "        adata=adata,\n",
    "        cell_type_key=\"RNA_clusters\",\n",
    "        batch_key=\"batch\",\n",
    "        spatial_knng_key=\"spatial_knng\",\n",
    "        latent_knng_key=\"nichecompass_latent_knng\",\n",
    "        spatial_key=\"spatial\",\n",
    "        latent_key=\"nichecompass_latent\",\n",
    "        n_neighbors=90,\n",
    "        n_jobs=1,\n",
    "        seed=0)"
   ]
  },
  {
   "cell_type": "code",
   "execution_count": 26,
   "id": "2bbaa6ae-1f1a-424f-b15b-248e190075c4",
   "metadata": {},
   "outputs": [
    {
     "data": {
      "text/plain": [
       "0.9353694221023149"
      ]
     },
     "execution_count": 26,
     "metadata": {},
     "output_type": "execute_result"
    }
   ],
   "source": [
    "clisis"
   ]
  },
  {
   "cell_type": "code",
   "execution_count": 39,
   "id": "90817bf4-d6c7-495e-af02-d888c96421a5",
   "metadata": {},
   "outputs": [
    {
     "name": "stdout",
     "output_type": "stream",
     "text": [
      "Computing spatial nearest neighbor graph for entire dataset...\n",
      "Computing latent nearest neighbor graph for entire dataset...\n",
      "Computing GCS for entire dataset...\n"
     ]
    }
   ],
   "source": [
    "gcs = compute_gcs(\n",
    "        adata=adata,\n",
    "        batch_key=None, # \"batch\"\n",
    "        spatial_knng_key=\"spatial_15knng\",\n",
    "        latent_knng_key=\"nichecompass_latent_15knng\",\n",
    "        spatial_key=\"spatial\",\n",
    "        latent_key=\"nichecompass_latent\",\n",
    "        n_neighbors=15,\n",
    "        n_jobs=1,\n",
    "        seed=0)"
   ]
  },
  {
   "cell_type": "code",
   "execution_count": 40,
   "id": "bbf35a08-6789-4a83-b7d8-6d66f589989e",
   "metadata": {},
   "outputs": [
    {
     "data": {
      "text/plain": [
       "0.8564704791165492"
      ]
     },
     "execution_count": 40,
     "metadata": {},
     "output_type": "execute_result"
    }
   ],
   "source": [
    "gcs"
   ]
  },
  {
   "cell_type": "code",
   "execution_count": 43,
   "id": "df02e2b9-9179-4eec-92d4-444ad11f1156",
   "metadata": {},
   "outputs": [
    {
     "name": "stdout",
     "output_type": "stream",
     "text": [
      "Using precomputed spatial nearest neighbor graph...\n",
      "Using precomputed latent nearest neighbor graph...\n",
      "Computing spatial Leiden clusterings for entire dataset...\n",
      "Computing latent Leiden clusterings...\n",
      "Computing MLAMI for entire dataset...\n"
     ]
    }
   ],
   "source": [
    "mlami = compute_mlami(\n",
    "        adata=adata,\n",
    "        batch_key=None,# \"batch\"\n",
    "        spatial_knng_key=\"spatial_knng\",\n",
    "        latent_knng_key=\"nichecompass_latent_knng\",\n",
    "        spatial_key=\"spatial\",\n",
    "        latent_key=\"nichecompass_latent\",\n",
    "        n_neighbors=15,\n",
    "        min_res=0.1,\n",
    "        max_res=1.0,\n",
    "        res_num=3,\n",
    "        n_jobs=1)"
   ]
  },
  {
   "cell_type": "code",
   "execution_count": 44,
   "id": "5a1ba74d-911a-49be-b24d-40d9a6e5b8b3",
   "metadata": {},
   "outputs": [
    {
     "data": {
      "text/plain": [
       "0.5921435505921052"
      ]
     },
     "execution_count": 44,
     "metadata": {},
     "output_type": "execute_result"
    }
   ],
   "source": [
    "mlami"
   ]
  },
  {
   "cell_type": "code",
   "execution_count": 19,
   "id": "cad3f730-ac36-495f-a650-85dd617647ad",
   "metadata": {},
   "outputs": [
    {
     "data": {
      "text/plain": [
       "array([[0.        , 0.        , 0.        , ..., 0.        , 0.        ,\n",
       "        0.16365679],\n",
       "       [0.        , 0.        , 1.        , ..., 0.        , 0.        ,\n",
       "        0.        ],\n",
       "       [0.        , 1.        , 0.        , ..., 0.        , 0.        ,\n",
       "        0.        ],\n",
       "       ...,\n",
       "       [0.        , 0.        , 0.        , ..., 0.        , 0.49497575,\n",
       "        0.02389469],\n",
       "       [0.        , 0.        , 0.        , ..., 0.49497575, 0.        ,\n",
       "        0.00420086],\n",
       "       [0.16365679, 0.        , 0.        , ..., 0.02389469, 0.00420086,\n",
       "        0.        ]], dtype=float32)"
      ]
     },
     "execution_count": 19,
     "metadata": {},
     "output_type": "execute_result"
    }
   ],
   "source": [
    "adata.obsp[\"nichecompass_latent_knng_connectivities\"].toarray()"
   ]
  },
  {
   "cell_type": "code",
   "execution_count": 16,
   "id": "a9dfeb27-b130-4da6-b9a8-2089281095cf",
   "metadata": {},
   "outputs": [
    {
     "data": {
      "text/plain": [
       "0.9353694692254066"
      ]
     },
     "execution_count": 16,
     "metadata": {},
     "output_type": "execute_result"
    }
   ],
   "source": [
    "clisis"
   ]
  },
  {
   "cell_type": "code",
   "execution_count": null,
   "id": "4327f527-af49-4983-9bec-a3c73b9f7ccf",
   "metadata": {},
   "outputs": [],
   "source": [
    "from scib_metrics import lisi_knn"
   ]
  },
  {
   "cell_type": "code",
   "execution_count": null,
   "id": "d9d1a79e-27e4-42b0-bb4d-bac9bba5326d",
   "metadata": {},
   "outputs": [],
   "source": [
    "import scanpy as sc"
   ]
  },
  {
   "cell_type": "code",
   "execution_count": null,
   "id": "c65ca249-c497-48ce-b081-efc4aa25f324",
   "metadata": {},
   "outputs": [],
   "source": [
    "import torch"
   ]
  },
  {
   "cell_type": "code",
   "execution_count": null,
   "id": "d8109e72-f470-45cf-85e6-4ccd4a06594e",
   "metadata": {},
   "outputs": [],
   "source": [
    "import numpy as np\n",
    "import scipy.sparse as sp"
   ]
  },
  {
   "cell_type": "code",
   "execution_count": null,
   "id": "da3edf1f-4d75-4bc0-927d-fe77d68c3eab",
   "metadata": {},
   "outputs": [],
   "source": [
    "\n",
    "from nichecompass.benchmarking import compute_gcs, compute_mlami, compute_clisis"
   ]
  },
  {
   "cell_type": "code",
   "execution_count": null,
   "id": "d4a17be9-6ebd-4dee-a7fe-126db6cff833",
   "metadata": {},
   "outputs": [],
   "source": [
    "jax.devices()"
   ]
  },
  {
   "cell_type": "code",
   "execution_count": null,
   "id": "09da6858-db20-4d95-b87b-32913016e694",
   "metadata": {},
   "outputs": [],
   "source": [
    "torch.cuda.is_available()"
   ]
  },
  {
   "cell_type": "code",
   "execution_count": null,
   "id": "e6c59cc9-10d2-4828-8e06-e0b62bf9eb74",
   "metadata": {},
   "outputs": [],
   "source": []
  },
  {
   "cell_type": "code",
   "execution_count": null,
   "id": "f23699c3-4936-4e6a-8aa6-068db3c1945e",
   "metadata": {},
   "outputs": [],
   "source": [
    "clisis"
   ]
  },
  {
   "cell_type": "code",
   "execution_count": null,
   "id": "f0f6d878-3e77-4611-bc24-8f0e98b32fce",
   "metadata": {},
   "outputs": [],
   "source": [
    "adata"
   ]
  },
  {
   "cell_type": "code",
   "execution_count": null,
   "id": "892c1e19-6bdf-483c-afe9-2b9d36718888",
   "metadata": {},
   "outputs": [],
   "source": [
    "clisis"
   ]
  },
  {
   "cell_type": "code",
   "execution_count": null,
   "id": "67e5c1ef-099f-41f3-93a1-ed483a489222",
   "metadata": {},
   "outputs": [],
   "source": [
    "import jax"
   ]
  },
  {
   "cell_type": "code",
   "execution_count": null,
   "id": "abdc60f7-7a77-4e9f-b92b-2e6f8faa0137",
   "metadata": {},
   "outputs": [],
   "source": [
    "jax.devices()"
   ]
  },
  {
   "cell_type": "code",
   "execution_count": null,
   "id": "5269f34b-e323-4a84-9a13-8b1ee8044c7d",
   "metadata": {},
   "outputs": [],
   "source": [
    "import cuda"
   ]
  },
  {
   "cell_type": "code",
   "execution_count": null,
   "id": "ed2db93d-21aa-486b-8988-18b0400a3709",
   "metadata": {},
   "outputs": [],
   "source": [
    "import torch\n",
    "torch.cuda.is_available()"
   ]
  },
  {
   "cell_type": "code",
   "execution_count": null,
   "id": "9e41ed32-f2bd-4263-9339-4897ea0cdfb8",
   "metadata": {},
   "outputs": [],
   "source": []
  }
 ],
 "metadata": {
  "kernelspec": {
   "display_name": "Python 3 (ipykernel)",
   "language": "python",
   "name": "python3"
  },
  "language_info": {
   "codemirror_mode": {
    "name": "ipython",
    "version": 3
   },
   "file_extension": ".py",
   "mimetype": "text/x-python",
   "name": "python",
   "nbconvert_exporter": "python",
   "pygments_lexer": "ipython3",
   "version": "3.9.16"
  }
 },
 "nbformat": 4,
 "nbformat_minor": 5
}
