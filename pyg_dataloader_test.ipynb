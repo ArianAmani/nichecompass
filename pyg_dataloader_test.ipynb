{
 "cells": [
  {
   "cell_type": "code",
   "execution_count": 270,
   "metadata": {},
   "outputs": [
    {
     "name": "stdout",
     "output_type": "stream",
     "text": [
      "Using dataset squidpy_seqfish.\n"
     ]
    },
    {
     "name": "stderr",
     "output_type": "stream",
     "text": [
      "/Users/sebastian.birk/opt/anaconda3/envs/autotalker/lib/python3.9/site-packages/scipy/sparse/_index.py:146: SparseEfficiencyWarning: Changing the sparsity structure of a csr_matrix is expensive. lil_matrix is more efficient.\n",
      "  self._set_arrayXarray(i, j, x)\n"
     ]
    },
    {
     "name": "stdout",
     "output_type": "stream",
     "text": [
      "Number of nodes: 19416\n",
      "Number of node features: 351\n",
      "Average number of edges per node: 4.4\n",
      "Number of edges: 42694\n"
     ]
    }
   ],
   "source": [
    "import argparse\n",
    "import sys\n",
    "\n",
    "import mlflow\n",
    "import numpy as np\n",
    "import scanpy as sc\n",
    "import squidpy as sq\n",
    "import torch_geometric\n",
    "from torch_geometric.data import Data\n",
    "from torch_geometric.transforms import RandomLinkSplit, RandomNodeSplit\n",
    "\n",
    "from autotalker.data import download_nichenet_ligand_target_mx\n",
    "from autotalker.data import load_spatial_adata_from_csv\n",
    "from autotalker.data import SpatialAnnDataset\n",
    "from autotalker.models import Autotalker\n",
    "\n",
    "dataset = \"squidpy_seqfish\"\n",
    "n_epochs = 10\n",
    "lr = 0.01\n",
    "batch_size = 128\n",
    "n_hidden = 32\n",
    "n_latent = 16\n",
    "dropout_rate = 0.\n",
    "\n",
    "print(f\"Using dataset {dataset}.\")\n",
    "\n",
    "if dataset == \"deeplinc_seqfish\":\n",
    "    adata = load_spatial_adata_from_csv(\"datasets/seqFISH/counts.csv\",\n",
    "                                        \"datasets/seqFISH/adj.csv\")\n",
    "    cell_type_key = None\n",
    "elif dataset == \"squidpy_seqfish\":\n",
    "    adata = sq.datasets.seqfish()\n",
    "    sq.gr.spatial_neighbors(adata, radius = 0.04, coord_type=\"generic\")\n",
    "    cell_type_key = \"celltype_mapped_refined\"\n",
    "elif dataset == \"squidpy_slideseqv2\":\n",
    "    adata = sq.datasets.slideseqv2()\n",
    "    sq.gr.spatial_neighbors(adata, radius = 30.0, coord_type=\"generic\")\n",
    "    cell_type_key = \"celltype_mapped_refined\"\n",
    "\n",
    "print(f\"Number of nodes: {adata.X.shape[0]}\")\n",
    "print(f\"Number of node features: {adata.X.shape[1]}\")\n",
    "avg_edges_per_node = round(\n",
    "    adata.obsp['spatial_connectivities'].toarray().sum(axis=0).mean(),2)\n",
    "print(f\"Average number of edges per node: {avg_edges_per_node}\")\n",
    "n_edges = int(np.triu(adata.obsp['spatial_connectivities'].toarray()).sum())\n",
    "print(f\"Number of edges: {n_edges}\", sep=\"\")\n",
    "\n",
    "dataset = SpatialAnnDataset(adata, adj_key=\"spatial_connectivities\")\n",
    "data = Data(x=dataset.x,\n",
    "            edge_index=dataset.edge_index,\n",
    "            conditions=dataset.conditions,\n",
    "            size_factors=dataset.size_factors)"
   ]
  },
  {
   "cell_type": "code",
   "execution_count": 274,
   "metadata": {},
   "outputs": [
    {
     "data": {
      "text/plain": [
       "Data(x=[19416, 351], edge_index=[2, 85388], conditions=[19416], size_factors=[19416], train_mask=[19416], val_mask=[19416], test_mask=[19416])"
      ]
     },
     "execution_count": 274,
     "metadata": {},
     "output_type": "execute_result"
    }
   ],
   "source": [
    "data"
   ]
  },
  {
   "cell_type": "code",
   "execution_count": 275,
   "metadata": {},
   "outputs": [
    {
     "name": "stdout",
     "output_type": "stream",
     "text": [
      "Data(x=[19416, 351], edge_index=[2, 68312], conditions=[19416], size_factors=[19416], train_mask=[19416], val_mask=[19416], test_mask=[19416], edge_label=[34156], edge_label_index=[2, 34156])\n",
      "Data(x=[19416, 351], edge_index=[2, 68312], conditions=[19416], size_factors=[19416], train_mask=[19416], val_mask=[19416], test_mask=[19416], edge_label=[4269], edge_label_index=[2, 4269])\n"
     ]
    }
   ],
   "source": [
    "# Split data on edge level\n",
    "transform = RandomLinkSplit(num_val=0.1,\n",
    "                            num_test=0.1,\n",
    "                            is_undirected=True,\n",
    "                            neg_sampling_ratio=0)\n",
    "node_split = RandomNodeSplit(num_val=0.1,\n",
    "                             num_test=0,\n",
    "                             key=\"x\")\n",
    "\n",
    "\n",
    "train_data, valid_data, test_data = transform(data)\n",
    "# Gene expression is there for all nodes in all datasets\n",
    "# edge index is there for all edge index pairs (symmetric) for training edges (not valid and test edges) in the dataset for all datasets\n",
    "# Conditions are there for all nodes in all datasets\n",
    "# Size factors are there for all nodes in all datasets\n",
    "# Pos edge labels are only there for split\n",
    "# Pos edge label indices are only there for split\n",
    "# ned edge labels are only there for split\n",
    "# neg edge label indices are only there for split\n",
    "\n",
    "\n",
    "print(train_data)\n",
    "print(valid_data)"
   ]
  },
  {
   "cell_type": "code",
   "execution_count": 287,
   "metadata": {},
   "outputs": [],
   "source": [
    "train_loader = torch_geometric.loader.LinkNeighborLoader(\n",
    "    train_data,\n",
    "    num_neighbors=[-1]*2, # iterations of neighbor sampling\n",
    "    batch_size=1,\n",
    "    edge_label_index=train_data.edge_label_index,\n",
    "    directed=True,\n",
    "    neg_sampling_ratio=1)"
   ]
  },
  {
   "cell_type": "code",
   "execution_count": 397,
   "metadata": {},
   "outputs": [],
   "source": [
    "valid_loader = torch_geometric.loader.LinkNeighborLoader(\n",
    "    valid_data,\n",
    "    num_neighbors=[-1]*2, # iterations of neighbor sampling\n",
    "    batch_size=1,\n",
    "    edge_label_index=valid_data.edge_label_index,\n",
    "    directed=True,\n",
    "    neg_sampling_ratio=1)"
   ]
  },
  {
   "cell_type": "code",
   "execution_count": 346,
   "metadata": {},
   "outputs": [
    {
     "data": {
      "text/plain": [
       "Data(x=[19416, 351], edge_index=[2, 68312], conditions=[19416], size_factors=[19416], train_mask=[19416], val_mask=[19416], test_mask=[19416], edge_label=[4269], edge_label_index=[2, 4269])"
      ]
     },
     "execution_count": 346,
     "metadata": {},
     "output_type": "execute_result"
    }
   ],
   "source": [
    "valid_data"
   ]
  },
  {
   "cell_type": "code",
   "execution_count": 432,
   "metadata": {},
   "outputs": [
    {
     "name": "stdout",
     "output_type": "stream",
     "text": [
      "Data(x=[46, 351], edge_index=[2, 80], conditions=[46], size_factors=[46], train_mask=[46], val_mask=[46], test_mask=[46], edge_label=[2], edge_label_index=[2, 2])\n"
     ]
    }
   ],
   "source": [
    "sampled_data = next(iter(valid_loader))\n",
    "print(sampled_data)"
   ]
  },
  {
   "cell_type": "code",
   "execution_count": 241,
   "metadata": {},
   "outputs": [
    {
     "name": "stdout",
     "output_type": "stream",
     "text": [
      "Data(x=[64, 351], edge_index=[2, 143], conditions=[64], size_factors=[64], edge_label=[2], edge_label_index=[2, 2])\n"
     ]
    }
   ],
   "source": [
    "sampled_data = next(iter(train_loader))\n",
    "print(sampled_data)"
   ]
  },
  {
   "cell_type": "code",
   "execution_count": null,
   "metadata": {},
   "outputs": [],
   "source": [
    "sampled_data = "
   ]
  },
  {
   "cell_type": "code",
   "execution_count": 48,
   "metadata": {},
   "outputs": [
    {
     "data": {
      "text/plain": [
       "[30, 30]"
      ]
     },
     "execution_count": 48,
     "metadata": {},
     "output_type": "execute_result"
    }
   ],
   "source": [
    "[30]*2"
   ]
  },
  {
   "cell_type": "code",
   "execution_count": 24,
   "metadata": {},
   "outputs": [
    {
     "name": "stdout",
     "output_type": "stream",
     "text": [
      "Data(x=[19416, 351], edge_index=[2, 54652], conditions=[19416], size_factors=[19416], pos_edge_label=[27326], pos_edge_label_index=[2, 27326], neg_edge_label=[27326], neg_edge_label_index=[2, 27326], train_mask=[19416], val_mask=[19416], test_mask=[19416])\n"
     ]
    }
   ],
   "source": [
    "print(train_data)"
   ]
  },
  {
   "cell_type": "code",
   "execution_count": 27,
   "metadata": {},
   "outputs": [
    {
     "name": "stdout",
     "output_type": "stream",
     "text": [
      "Data(x=[19416, 351], edge_index=[2, 54652], conditions=[19416], size_factors=[19416], pos_edge_label=[3415], pos_edge_label_index=[2, 3415], neg_edge_label=[3415], neg_edge_label_index=[2, 3415], train_mask=[19416], val_mask=[19416], test_mask=[19416])\n"
     ]
    }
   ],
   "source": [
    "print(valid_data)"
   ]
  },
  {
   "cell_type": "code",
   "execution_count": 8,
   "metadata": {},
   "outputs": [
    {
     "name": "stdout",
     "output_type": "stream",
     "text": [
      "Data(x=[19416, 351], edge_index=[2, 68312], conditions=[19416], size_factors=[19416], pos_edge_label=[34156], pos_edge_label_index=[2, 34156], neg_edge_label=[34156], neg_edge_label_index=[2, 34156])\n"
     ]
    }
   ],
   "source": [
    "print(data)"
   ]
  },
  {
   "cell_type": "code",
   "execution_count": null,
   "metadata": {},
   "outputs": [],
   "source": []
  }
 ],
 "metadata": {
  "kernelspec": {
   "display_name": "Python 3.9.13 ('autotalker')",
   "language": "python",
   "name": "python3"
  },
  "language_info": {
   "codemirror_mode": {
    "name": "ipython",
    "version": 3
   },
   "file_extension": ".py",
   "mimetype": "text/x-python",
   "name": "python",
   "nbconvert_exporter": "python",
   "pygments_lexer": "ipython3",
   "version": "3.9.13"
  },
  "orig_nbformat": 4,
  "vscode": {
   "interpreter": {
    "hash": "7552eb07a3e4d6bc50f6a25f5663a00a352d76cbafee8084da825070fe2f8152"
   }
  }
 },
 "nbformat": 4,
 "nbformat_minor": 2
}
