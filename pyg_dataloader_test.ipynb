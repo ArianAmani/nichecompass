{
 "cells": [
  {
   "cell_type": "code",
   "execution_count": 340,
   "metadata": {},
   "outputs": [
    {
     "name": "stdout",
     "output_type": "stream",
     "text": [
      "Using dataset squidpy_seqfish.\n"
     ]
    },
    {
     "name": "stderr",
     "output_type": "stream",
     "text": [
      "/Users/sebastian.birk/opt/anaconda3/envs/autotalker/lib/python3.9/site-packages/scipy/sparse/_index.py:146: SparseEfficiencyWarning: Changing the sparsity structure of a csr_matrix is expensive. lil_matrix is more efficient.\n",
      "  self._set_arrayXarray(i, j, x)\n"
     ]
    },
    {
     "name": "stdout",
     "output_type": "stream",
     "text": [
      "Number of nodes: 19416\n",
      "Number of node features: 351\n",
      "Average number of edges per node: 4.4\n",
      "Number of edges: 42694\n"
     ]
    }
   ],
   "source": [
    "import argparse\n",
    "import sys\n",
    "\n",
    "import mlflow\n",
    "import numpy as np\n",
    "import scanpy as sc\n",
    "import squidpy as sq\n",
    "import torch_geometric\n",
    "from torch_geometric.data import Data\n",
    "from torch_geometric.transforms import RandomLinkSplit, RandomNodeSplit\n",
    "\n",
    "from autotalker.data import download_nichenet_ligand_target_mx\n",
    "from autotalker.data import load_spatial_adata_from_csv\n",
    "from autotalker.data import SpatialAnnDataset\n",
    "from autotalker.models import Autotalker\n",
    "\n",
    "dataset = \"squidpy_seqfish\"\n",
    "n_epochs = 10\n",
    "lr = 0.01\n",
    "batch_size = 128\n",
    "n_hidden = 32\n",
    "n_latent = 16\n",
    "dropout_rate = 0.\n",
    "\n",
    "print(f\"Using dataset {dataset}.\")\n",
    "\n",
    "if dataset == \"deeplinc_seqfish\":\n",
    "    adata = load_spatial_adata_from_csv(\"datasets/seqFISH/counts.csv\",\n",
    "                                        \"datasets/seqFISH/adj.csv\")\n",
    "    cell_type_key = None\n",
    "elif dataset == \"squidpy_seqfish\":\n",
    "    adata = sq.datasets.seqfish()\n",
    "    sq.gr.spatial_neighbors(adata, radius = 0.04, coord_type=\"generic\")\n",
    "    cell_type_key = \"celltype_mapped_refined\"\n",
    "elif dataset == \"squidpy_slideseqv2\":\n",
    "    adata = sq.datasets.slideseqv2()\n",
    "    sq.gr.spatial_neighbors(adata, radius = 30.0, coord_type=\"generic\")\n",
    "    cell_type_key = \"celltype_mapped_refined\"\n",
    "\n",
    "print(f\"Number of nodes: {adata.X.shape[0]}\")\n",
    "print(f\"Number of node features: {adata.X.shape[1]}\")\n",
    "avg_edges_per_node = round(\n",
    "    adata.obsp['spatial_connectivities'].toarray().sum(axis=0).mean(),2)\n",
    "print(f\"Average number of edges per node: {avg_edges_per_node}\")\n",
    "n_edges = int(np.triu(adata.obsp['spatial_connectivities'].toarray()).sum())\n",
    "print(f\"Number of edges: {n_edges}\", sep=\"\")\n",
    "\n",
    "dataset = SpatialAnnDataset(adata, adj_key=\"spatial_connectivities\")\n",
    "data = Data(x=dataset.x,\n",
    "            edge_index=dataset.edge_index,\n",
    "            conditions=dataset.conditions,\n",
    "            size_factors=dataset.size_factors)"
   ]
  },
  {
   "cell_type": "code",
   "execution_count": 341,
   "metadata": {},
   "outputs": [
    {
     "data": {
      "text/plain": [
       "Data(x=[19416, 351], edge_index=[2, 85388], conditions=[19416], size_factors=[19416])"
      ]
     },
     "execution_count": 341,
     "metadata": {},
     "output_type": "execute_result"
    }
   ],
   "source": [
    "data"
   ]
  },
  {
   "cell_type": "code",
   "execution_count": 342,
   "metadata": {},
   "outputs": [
    {
     "name": "stdout",
     "output_type": "stream",
     "text": [
      "Data(x=[19416, 351], edge_index=[2, 68312], conditions=[19416], size_factors=[19416], edge_label=[68312], edge_label_index=[2, 68312])\n",
      "Data(x=[19416, 351], edge_index=[2, 68312], conditions=[19416], size_factors=[19416], edge_label=[8538], edge_label_index=[2, 8538])\n"
     ]
    }
   ],
   "source": [
    "# Split data on edge level\n",
    "transform = RandomLinkSplit(num_val=0.1,\n",
    "                            num_test=0.1,\n",
    "                            is_undirected=True,\n",
    "                            neg_sampling_ratio=1.)\n",
    "node_split = RandomNodeSplit(num_val=0.1,\n",
    "                             num_test=0,\n",
    "                             key=\"x\")\n",
    "\n",
    "\n",
    "train_data, valid_data, test_data = transform(data)\n",
    "# Gene expression is there for all nodes in all datasets\n",
    "# edge index is there for all edge index pairs (symmetric) for training edges (not valid and test edges) in the dataset for all datasets\n",
    "# Conditions are there for all nodes in all datasets\n",
    "# Size factors are there for all nodes in all datasets\n",
    "# Pos edge labels are only there for split\n",
    "# Pos edge label indices are only there for split\n",
    "# ned edge labels are only there for split\n",
    "# neg edge label indices are only there for split\n",
    "\n",
    "\n",
    "print(train_data)\n",
    "print(valid_data)"
   ]
  },
  {
   "cell_type": "code",
   "execution_count": 343,
   "metadata": {},
   "outputs": [
    {
     "data": {
      "text/plain": [
       "tensor([1., 1., 1.,  ..., 0., 0., 0.])"
      ]
     },
     "execution_count": 343,
     "metadata": {},
     "output_type": "execute_result"
    }
   ],
   "source": [
    "valid_data.edge_label"
   ]
  },
  {
   "cell_type": "code",
   "execution_count": 471,
   "metadata": {},
   "outputs": [],
   "source": [
    "train_loader = torch_geometric.loader.LinkNeighborLoader(\n",
    "    train_data,\n",
    "    num_neighbors=[-1]*1, # iterations of neighbor sampling\n",
    "    batch_size=4,\n",
    "    edge_label_index=train_data.edge_label_index,\n",
    "    # edge_label=train_data.edge_label,\n",
    "    directed=False,\n",
    "    neg_sampling_ratio=1.0)"
   ]
  },
  {
   "cell_type": "code",
   "execution_count": 472,
   "metadata": {},
   "outputs": [],
   "source": [
    "valid_loader = torch_geometric.loader.LinkNeighborLoader(\n",
    "    valid_data,\n",
    "    num_neighbors=[-1]*1, # iterations of neighbor sampling\n",
    "    batch_size=4,\n",
    "    edge_label_index=valid_data.edge_label_index,\n",
    "    # edge_label=valid_data.edge_label,\n",
    "    directed=False,\n",
    "    neg_sampling_ratio=1.0)"
   ]
  },
  {
   "cell_type": "code",
   "execution_count": 473,
   "metadata": {},
   "outputs": [
    {
     "data": {
      "text/plain": [
       "Data(x=[19416, 351], edge_index=[2, 68312], conditions=[19416], size_factors=[19416], edge_label=[8538], edge_label_index=[2, 8538])"
      ]
     },
     "execution_count": 473,
     "metadata": {},
     "output_type": "execute_result"
    }
   ],
   "source": [
    "valid_data"
   ]
  },
  {
   "cell_type": "code",
   "execution_count": 474,
   "metadata": {},
   "outputs": [
    {
     "name": "stdout",
     "output_type": "stream",
     "text": [
      "Data(x=[64, 351], edge_index=[2, 162], conditions=[64], size_factors=[64], edge_label=[8], edge_label_index=[2, 8])\n"
     ]
    }
   ],
   "source": [
    "sampled_data = next(iter(valid_loader))\n",
    "print(sampled_data)"
   ]
  },
  {
   "cell_type": "code",
   "execution_count": 475,
   "metadata": {},
   "outputs": [
    {
     "data": {
      "text/plain": [
       "tensor([[ 4, 11, 13,  0,  7,  2,  9, 15],\n",
       "        [ 5, 12, 14,  1, 10,  3,  8,  6]])"
      ]
     },
     "execution_count": 475,
     "metadata": {},
     "output_type": "execute_result"
    }
   ],
   "source": [
    "sampled_data.edge_label_index"
   ]
  },
  {
   "cell_type": "code",
   "execution_count": 372,
   "metadata": {},
   "outputs": [
    {
     "data": {
      "text/plain": [
       "tensor([[ 0,  2,  4,  6,  8,  9, 12, 14, 16, 18, 20, 21, 24, 26, 28, 30],\n",
       "        [ 1,  3,  5,  7, 10, 11, 13, 15, 17, 19, 23, 22, 25, 27, 29, 31]])"
      ]
     },
     "execution_count": 372,
     "metadata": {},
     "output_type": "execute_result"
    }
   ],
   "source": [
    "from torch_geometric.utils import coalesce\n",
    "coalesce(sampled_data.edge_label_index)"
   ]
  },
  {
   "cell_type": "code",
   "execution_count": 373,
   "metadata": {},
   "outputs": [
    {
     "data": {
      "text/plain": [
       "torch.return_types.sort(\n",
       "values=tensor([ 0,  2,  4,  6,  8,  9, 12, 14, 16, 18, 20, 21, 24, 26, 28, 30]),\n",
       "indices=tensor([ 3, 10, 12,  5,  4,  9, 15,  0,  6, 13,  8,  7,  1,  2, 11, 14]))"
      ]
     },
     "execution_count": 373,
     "metadata": {},
     "output_type": "execute_result"
    }
   ],
   "source": [
    "sampled_data.edge_label_index[0].sort(dim=-1)"
   ]
  },
  {
   "cell_type": "code",
   "execution_count": 296,
   "metadata": {},
   "outputs": [
    {
     "data": {
      "text/plain": [
       "tensor([2., 2., 2., 0., 0., 0.])"
      ]
     },
     "execution_count": 296,
     "metadata": {},
     "output_type": "execute_result"
    }
   ],
   "source": [
    "sampled_data.edge_label"
   ]
  },
  {
   "cell_type": "code",
   "execution_count": 120,
   "metadata": {},
   "outputs": [],
   "source": [
    "sort_index = sampled_data.edge_label_index[0].sort(dim=-1).indices\n",
    "edge_label_index_sorted = sampled_data.edge_label_index[:, sort_index]\n",
    "edge_labels_sorted = sampled_data.edge_label[sort_index]"
   ]
  },
  {
   "cell_type": "code",
   "execution_count": 124,
   "metadata": {},
   "outputs": [
    {
     "data": {
      "text/plain": [
       "tensor([[ 0,  2,  4,  6, 10, 11, 12, 15],\n",
       "        [ 1,  3,  5, 14,  7, 13,  8,  9]])"
      ]
     },
     "execution_count": 124,
     "metadata": {},
     "output_type": "execute_result"
    }
   ],
   "source": [
    "edge_label_index_sorted"
   ]
  },
  {
   "cell_type": "code",
   "execution_count": 123,
   "metadata": {},
   "outputs": [
    {
     "data": {
      "text/plain": [
       "tensor([1., 1., 1., 0., 0., 1., 0., 0.])"
      ]
     },
     "execution_count": 123,
     "metadata": {},
     "output_type": "execute_result"
    }
   ],
   "source": [
    "edge_labels_sorted"
   ]
  },
  {
   "cell_type": "code",
   "execution_count": 121,
   "metadata": {},
   "outputs": [],
   "source": [
    "edge_labels = sampled_data.edge_label"
   ]
  },
  {
   "cell_type": "code",
   "execution_count": 122,
   "metadata": {},
   "outputs": [
    {
     "data": {
      "text/plain": [
       "tensor([1., 1., 1., 1., 0., 0., 0., 0.])"
      ]
     },
     "execution_count": 122,
     "metadata": {},
     "output_type": "execute_result"
    }
   ],
   "source": [
    "edge_labels"
   ]
  },
  {
   "cell_type": "code",
   "execution_count": 98,
   "metadata": {},
   "outputs": [
    {
     "data": {
      "text/plain": [
       "torch.return_types.sort(\n",
       "values=tensor([ 0,  2,  4,  6, 10, 11, 12, 15]),\n",
       "indices=tensor([3, 0, 2, 7, 5, 1, 4, 6]))"
      ]
     },
     "execution_count": 98,
     "metadata": {},
     "output_type": "execute_result"
    }
   ],
   "source": [
    "edge_label_index_sorted"
   ]
  },
  {
   "cell_type": "code",
   "execution_count": 60,
   "metadata": {},
   "outputs": [
    {
     "data": {
      "text/plain": [
       "tensor([1, 0, 2, 3])"
      ]
     },
     "execution_count": 60,
     "metadata": {},
     "output_type": "execute_result"
    }
   ],
   "source": [
    "edge_label_index_sorted.indices[0]"
   ]
  },
  {
   "cell_type": "code",
   "execution_count": 59,
   "metadata": {},
   "outputs": [
    {
     "data": {
      "text/plain": [
       "tensor([0., 0., 0., 0.])"
      ]
     },
     "execution_count": 59,
     "metadata": {},
     "output_type": "execute_result"
    }
   ],
   "source": [
    "sampled_data.edge_label[edge_label_index_sorted.indices[0]]"
   ]
  },
  {
   "cell_type": "code",
   "execution_count": 42,
   "metadata": {},
   "outputs": [
    {
     "data": {
      "text/plain": [
       "tensor([[0],\n",
       "        [1],\n",
       "        [2]])"
      ]
     },
     "execution_count": 42,
     "metadata": {},
     "output_type": "execute_result"
    }
   ],
   "source": [
    "torch.arange(x.size(0)).unsqueeze(1)"
   ]
  },
  {
   "cell_type": "code",
   "execution_count": null,
   "metadata": {},
   "outputs": [],
   "source": [
    "onehot.scatter_(1, idx.long(), 1)"
   ]
  },
  {
   "cell_type": "code",
   "execution_count": 18,
   "metadata": {},
   "outputs": [
    {
     "ename": "IndexError",
     "evalue": "too many indices for tensor of dimension 1",
     "output_type": "error",
     "traceback": [
      "\u001b[0;31m---------------------------------------------------------------------------\u001b[0m",
      "\u001b[0;31mIndexError\u001b[0m                                Traceback (most recent call last)",
      "\u001b[1;32m/Users/sebastian.birk/workspace/projects/autotalker/pyg_dataloader_test.ipynb Cell 14\u001b[0m in \u001b[0;36m<cell line: 1>\u001b[0;34m()\u001b[0m\n\u001b[0;32m----> <a href='vscode-notebook-cell:/Users/sebastian.birk/workspace/projects/autotalker/pyg_dataloader_test.ipynb#Y142sZmlsZQ%3D%3D?line=0'>1</a>\u001b[0m sort_edge_index(sampled_data\u001b[39m.\u001b[39;49medge_label)\n",
      "File \u001b[0;32m~/opt/anaconda3/envs/autotalker/lib/python3.9/site-packages/torch_geometric/utils/sort_edge_index.py:37\u001b[0m, in \u001b[0;36msort_edge_index\u001b[0;34m(edge_index, edge_attr, num_nodes, sort_by_row)\u001b[0m\n\u001b[1;32m     33\u001b[0m idx \u001b[39m+\u001b[39m\u001b[39m=\u001b[39m edge_index[\u001b[39mint\u001b[39m(sort_by_row)]\n\u001b[1;32m     35\u001b[0m perm \u001b[39m=\u001b[39m idx\u001b[39m.\u001b[39margsort()\n\u001b[0;32m---> 37\u001b[0m edge_index \u001b[39m=\u001b[39m edge_index[:, perm]\n\u001b[1;32m     39\u001b[0m \u001b[39mif\u001b[39;00m edge_attr \u001b[39mis\u001b[39;00m \u001b[39mNone\u001b[39;00m:\n\u001b[1;32m     40\u001b[0m     \u001b[39mreturn\u001b[39;00m edge_index\n",
      "\u001b[0;31mIndexError\u001b[0m: too many indices for tensor of dimension 1"
     ]
    }
   ],
   "source": [
    "sort_edge_index(sampled_data.edge_label)"
   ]
  },
  {
   "cell_type": "code",
   "execution_count": 799,
   "metadata": {},
   "outputs": [
    {
     "name": "stdout",
     "output_type": "stream",
     "text": [
      "Data(x=[1064, 351], edge_index=[2, 1052], conditions=[1064], size_factors=[1064], edge_label=[128], edge_label_index=[2, 128])\n"
     ]
    }
   ],
   "source": [
    "sampled_data = next(iter(train_loader))\n",
    "print(sampled_data)"
   ]
  },
  {
   "cell_type": "code",
   "execution_count": 800,
   "metadata": {},
   "outputs": [
    {
     "data": {
      "text/plain": [
       "67"
      ]
     },
     "execution_count": 800,
     "metadata": {},
     "output_type": "execute_result"
    }
   ],
   "source": [
    "len(valid_loader)"
   ]
  },
  {
   "cell_type": "code",
   "execution_count": 801,
   "metadata": {},
   "outputs": [
    {
     "data": {
      "text/plain": [
       "534"
      ]
     },
     "execution_count": 801,
     "metadata": {},
     "output_type": "execute_result"
    }
   ],
   "source": [
    "len(train_loader)"
   ]
  },
  {
   "cell_type": "code",
   "execution_count": 783,
   "metadata": {},
   "outputs": [
    {
     "data": {
      "text/plain": [
       "4269"
      ]
     },
     "execution_count": 783,
     "metadata": {},
     "output_type": "execute_result"
    }
   ],
   "source": [
    "1423*3"
   ]
  },
  {
   "cell_type": "code",
   "execution_count": 723,
   "metadata": {},
   "outputs": [
    {
     "data": {
      "text/plain": [
       "11386"
      ]
     },
     "execution_count": 723,
     "metadata": {},
     "output_type": "execute_result"
    }
   ],
   "source": [
    "len(train_loader)"
   ]
  },
  {
   "cell_type": "code",
   "execution_count": 724,
   "metadata": {},
   "outputs": [],
   "source": [
    "sampled_data = node_split(sampled_data)"
   ]
  },
  {
   "cell_type": "code",
   "execution_count": 725,
   "metadata": {},
   "outputs": [
    {
     "data": {
      "text/plain": [
       "Data(x=[53, 351], edge_index=[2, 50], conditions=[53], size_factors=[53], edge_label=[6], edge_label_index=[2, 6], train_mask=[53], val_mask=[53], test_mask=[53])"
      ]
     },
     "execution_count": 725,
     "metadata": {},
     "output_type": "execute_result"
    }
   ],
   "source": [
    "sampled_data"
   ]
  },
  {
   "cell_type": "code",
   "execution_count": 726,
   "metadata": {},
   "outputs": [],
   "source": [
    "import torch\n",
    "sampled_data.edge_label\n",
    "pos_edge_label_mask = (sampled_data.edge_label > 0)"
   ]
  },
  {
   "cell_type": "code",
   "execution_count": 842,
   "metadata": {},
   "outputs": [],
   "source": [
    "adj_recon_logits = torch.randn(10, 10)"
   ]
  },
  {
   "cell_type": "code",
   "execution_count": 728,
   "metadata": {},
   "outputs": [
    {
     "data": {
      "text/plain": [
       "tensor([[ 1.0437, -1.0448, -0.3835,  0.7467, -0.0287,  0.3265,  0.1181,  2.2507,\n",
       "          1.9912, -0.9735],\n",
       "        [-1.1402, -0.4663,  1.3603, -1.2761, -0.3817,  0.7807,  1.9599,  0.8239,\n",
       "          0.5776, -0.8431],\n",
       "        [ 0.6757, -0.8224,  1.1456,  0.1753, -0.0155, -0.8384, -1.1537,  1.7968,\n",
       "          1.2332, -1.7170],\n",
       "        [ 0.3345, -0.1133,  0.2663,  0.9104,  0.5621, -0.2775, -1.2293, -0.6008,\n",
       "         -0.4959, -1.5902],\n",
       "        [-0.1176, -0.9366,  1.0543, -1.2974,  0.5777, -0.3199, -0.3814,  1.0258,\n",
       "         -0.8282,  0.3318],\n",
       "        [-0.9692, -1.1611, -0.5451, -0.4355,  0.1138,  2.2474,  0.1553, -1.0575,\n",
       "          1.0705, -0.2537],\n",
       "        [ 0.6907, -0.4729, -0.4832,  0.2529,  1.0338, -0.9106,  0.3217, -0.8446,\n",
       "         -0.7785,  2.1865],\n",
       "        [-0.1002, -0.9662, -0.0562,  1.3300, -0.8733, -0.8903,  0.7502,  0.3109,\n",
       "         -0.2238,  1.2834],\n",
       "        [ 0.3995, -0.4492, -0.1522, -0.0981, -1.3563,  1.2207, -1.0342,  0.0348,\n",
       "          1.1774,  1.6985],\n",
       "        [-0.7843,  0.6376,  1.2261,  0.7473,  0.0889, -0.3575,  0.8993,  0.7612,\n",
       "          0.0470,  0.2201]])"
      ]
     },
     "execution_count": 728,
     "metadata": {},
     "output_type": "execute_result"
    }
   ],
   "source": [
    "adj_recon_logits"
   ]
  },
  {
   "cell_type": "code",
   "execution_count": 730,
   "metadata": {},
   "outputs": [
    {
     "data": {
      "text/plain": [
       "2"
      ]
     },
     "execution_count": 730,
     "metadata": {},
     "output_type": "execute_result"
    }
   ],
   "source": [
    "(torch.tensor(adj_recon_logits.shape[0]) - torch.tensor(mask.shape[0])).item()"
   ]
  },
  {
   "cell_type": "code",
   "execution_count": 731,
   "metadata": {},
   "outputs": [
    {
     "data": {
      "text/plain": [
       "tensor([8, 8])"
      ]
     },
     "execution_count": 731,
     "metadata": {},
     "output_type": "execute_result"
    }
   ],
   "source": [
    "torch.tensor(mask.shape)"
   ]
  },
  {
   "cell_type": "code",
   "execution_count": 835,
   "metadata": {},
   "outputs": [
    {
     "data": {
      "text/plain": [
       "10"
      ]
     },
     "execution_count": 835,
     "metadata": {},
     "output_type": "execute_result"
    }
   ],
   "source": [
    "n_nodes=adj_recon_logits.shape[0]\n",
    "n_nodes"
   ]
  },
  {
   "cell_type": "code",
   "execution_count": 732,
   "metadata": {},
   "outputs": [],
   "source": [
    "pad_dim = (torch.tensor(adj_recon_logits.shape[0]) - torch.tensor(mask.shape[0])).item()"
   ]
  },
  {
   "cell_type": "code",
   "execution_count": 733,
   "metadata": {},
   "outputs": [],
   "source": [
    "padded_mask = F.pad(mask, (0, pad_dim, 0, pad_dim), \"constant\", False)"
   ]
  },
  {
   "cell_type": "code",
   "execution_count": 734,
   "metadata": {},
   "outputs": [
    {
     "data": {
      "text/plain": [
       "torch.Size([8, 8])"
      ]
     },
     "execution_count": 734,
     "metadata": {},
     "output_type": "execute_result"
    }
   ],
   "source": [
    "mask.size()"
   ]
  },
  {
   "cell_type": "code",
   "execution_count": 735,
   "metadata": {},
   "outputs": [
    {
     "data": {
      "text/plain": [
       "torch.Size([10, 10])"
      ]
     },
     "execution_count": 735,
     "metadata": {},
     "output_type": "execute_result"
    }
   ],
   "source": [
    "padded_mask.size()"
   ]
  },
  {
   "cell_type": "code",
   "execution_count": 736,
   "metadata": {},
   "outputs": [
    {
     "data": {
      "text/plain": [
       "tensor([[ 3,  1,  8,  7,  6,  0],\n",
       "        [ 4,  2,  9,  5, 10, 11]])"
      ]
     },
     "execution_count": 736,
     "metadata": {},
     "output_type": "execute_result"
    }
   ],
   "source": [
    "sampled_data.edge_label_index"
   ]
  },
  {
   "cell_type": "code",
   "execution_count": 737,
   "metadata": {},
   "outputs": [
    {
     "data": {
      "text/plain": [
       "tensor(-0.0562)"
      ]
     },
     "execution_count": 737,
     "metadata": {},
     "output_type": "execute_result"
    }
   ],
   "source": [
    "adj_recon_logits[7,2]"
   ]
  },
  {
   "cell_type": "code",
   "execution_count": 686,
   "metadata": {},
   "outputs": [
    {
     "data": {
      "text/plain": [
       "tensor([ 0.9267, -0.4892, -0.1091, -0.3577])"
      ]
     },
     "execution_count": 686,
     "metadata": {},
     "output_type": "execute_result"
    }
   ],
   "source": [
    "import torch.nn.functional as F\n",
    "pad_dim = (torch.tensor(adj_recon_logits.shape[0]) - torch.tensor(mask.shape[0])).item()\n",
    "mask = torch.squeeze(torch_geometric.utils.to_dense_adj(sampled_data.edge_label_index)) > 0\n",
    "padded_mask = F.pad(mask, (0, pad_dim, 0, pad_dim), \"constant\", False)\n",
    "torch.masked_select(adj_recon_logits, padded_mask)"
   ]
  },
  {
   "cell_type": "code",
   "execution_count": 670,
   "metadata": {},
   "outputs": [
    {
     "data": {
      "text/plain": [
       "tensor([[False, False, False,  True, False, False, False, False, False, False,\n",
       "         False, False],\n",
       "        [False, False, False, False, False, False, False, False, False, False,\n",
       "         False, False],\n",
       "        [False, False, False, False, False, False, False, False, False, False,\n",
       "         False, False],\n",
       "        [False, False, False, False, False, False, False, False, False, False,\n",
       "         False, False],\n",
       "        [False, False, False, False, False,  True, False, False, False, False,\n",
       "         False, False],\n",
       "        [False, False, False, False, False, False, False, False,  True, False,\n",
       "         False, False],\n",
       "        [False, False, False, False, False, False, False, False, False, False,\n",
       "         False, False],\n",
       "        [False, False, False, False,  True, False, False, False, False, False,\n",
       "         False, False]])"
      ]
     },
     "execution_count": 670,
     "metadata": {},
     "output_type": "execute_result"
    }
   ],
   "source": [
    "padded_mask"
   ]
  },
  {
   "cell_type": "code",
   "execution_count": 574,
   "metadata": {},
   "outputs": [
    {
     "data": {
      "text/plain": [
       "tensor([[2, 8, 5],\n",
       "        [3, 9, 6]])"
      ]
     },
     "execution_count": 574,
     "metadata": {},
     "output_type": "execute_result"
    }
   ],
   "source": [
    "sampled_data.edge_label_index[:, pos_edge_label_mask]"
   ]
  },
  {
   "cell_type": "code",
   "execution_count": 747,
   "metadata": {},
   "outputs": [],
   "source": [
    "from torch_geometric.utils import add_self_loops\n",
    "\n",
    "edge_index_self_loops = add_self_loops(sampled_data.edge_label_index)[0]"
   ]
  },
  {
   "cell_type": "code",
   "execution_count": 476,
   "metadata": {},
   "outputs": [],
   "source": [
    "edge_label_index = sampled_data.edge_label_index\n",
    "edge_labels = sampled_data.edge_label"
   ]
  },
  {
   "cell_type": "code",
   "execution_count": 756,
   "metadata": {},
   "outputs": [
    {
     "data": {
      "text/plain": [
       "2"
      ]
     },
     "execution_count": 756,
     "metadata": {},
     "output_type": "execute_result"
    }
   ],
   "source": [
    "edge_label_index.shape[0]"
   ]
  },
  {
   "cell_type": "code",
   "execution_count": 773,
   "metadata": {},
   "outputs": [
    {
     "data": {
      "text/plain": [
       "tensor([[ 3,  1,  8,  7,  6,  0,  0,  1,  2,  3,  4,  5,  6,  7,  8,  9, 10, 11],\n",
       "        [ 4,  2,  9,  5, 10, 11,  0,  1,  2,  3,  4,  5,  6,  7,  8,  9, 10, 11]])"
      ]
     },
     "execution_count": 773,
     "metadata": {},
     "output_type": "execute_result"
    }
   ],
   "source": [
    "edge_index_self_loops"
   ]
  },
  {
   "cell_type": "code",
   "execution_count": 766,
   "metadata": {},
   "outputs": [],
   "source": [
    "n_self_loops = edge_index_self_loops.shape[1] - edge_label_index.shape[1]"
   ]
  },
  {
   "cell_type": "code",
   "execution_count": 768,
   "metadata": {},
   "outputs": [
    {
     "data": {
      "text/plain": [
       "12"
      ]
     },
     "execution_count": 768,
     "metadata": {},
     "output_type": "execute_result"
    }
   ],
   "source": [
    "n_self_loops"
   ]
  },
  {
   "cell_type": "code",
   "execution_count": 777,
   "metadata": {},
   "outputs": [
    {
     "data": {
      "text/plain": [
       "2809"
      ]
     },
     "execution_count": 777,
     "metadata": {},
     "output_type": "execute_result"
    }
   ],
   "source": [
    "sampled_data.x.shape[0] ** 2"
   ]
  },
  {
   "cell_type": "code",
   "execution_count": 780,
   "metadata": {},
   "outputs": [
    {
     "data": {
      "text/plain": [
       "tensor(3)"
      ]
     },
     "execution_count": 780,
     "metadata": {},
     "output_type": "execute_result"
    }
   ],
   "source": [
    "(sampled_data.edge_label == 0).sum()"
   ]
  },
  {
   "cell_type": "code",
   "execution_count": 771,
   "metadata": {},
   "outputs": [
    {
     "data": {
      "text/plain": [
       "tensor([1., 1., 1., 0., 0., 0., 1., 1., 1., 1., 1., 1., 1., 1., 1., 1., 1., 1.])"
      ]
     },
     "execution_count": 771,
     "metadata": {},
     "output_type": "execute_result"
    }
   ],
   "source": [
    "torch.cat((edge_labels, torch.ones(n_self_loops)))"
   ]
  },
  {
   "cell_type": "code",
   "execution_count": 742,
   "metadata": {},
   "outputs": [
    {
     "ename": "AttributeError",
     "evalue": "'tuple' object has no attribute 'size'",
     "output_type": "error",
     "traceback": [
      "\u001b[0;31m---------------------------------------------------------------------------\u001b[0m",
      "\u001b[0;31mAttributeError\u001b[0m                            Traceback (most recent call last)",
      "\u001b[1;32m/Users/sebastian.birk/workspace/projects/autotalker/pyg_dataloader_test.ipynb Cell 30\u001b[0m in \u001b[0;36m<cell line: 1>\u001b[0;34m()\u001b[0m\n\u001b[0;32m----> <a href='vscode-notebook-cell:/Users/sebastian.birk/workspace/projects/autotalker/pyg_dataloader_test.ipynb#Y113sZmlsZQ%3D%3D?line=0'>1</a>\u001b[0m edge_index_self_loops\u001b[39m.\u001b[39;49msize()\n",
      "\u001b[0;31mAttributeError\u001b[0m: 'tuple' object has no attribute 'size'"
     ]
    }
   ],
   "source": [
    "edge_index_self_loops.size()"
   ]
  },
  {
   "cell_type": "code",
   "execution_count": 450,
   "metadata": {},
   "outputs": [
    {
     "data": {
      "text/plain": [
       "tensor([False, False, False, False, False, False, False, False, False,  True,\n",
       "        False, False, False, False, False, False, False, False,  True, False,\n",
       "        False,  True, False, False, False, False])"
      ]
     },
     "execution_count": 450,
     "metadata": {},
     "output_type": "execute_result"
    }
   ],
   "source": [
    "sampled_data.val_mask"
   ]
  },
  {
   "cell_type": "code",
   "execution_count": 451,
   "metadata": {},
   "outputs": [
    {
     "data": {
      "text/plain": [
       "tensor([[0., 0., 0.,  ..., 3., 0., 0.],\n",
       "        [0., 0., 0.,  ..., 0., 1., 1.],\n",
       "        [0., 0., 0.,  ..., 1., 0., 0.]])"
      ]
     },
     "execution_count": 451,
     "metadata": {},
     "output_type": "execute_result"
    }
   ],
   "source": [
    "sampled_data.x[sampled_data.val_mask]"
   ]
  },
  {
   "cell_type": "code",
   "execution_count": 392,
   "metadata": {},
   "outputs": [],
   "source": [
    "t1 = torch.tensor([[1, 2, 3 ,4, 2, 5], [1, 2, 7, 4, 2, 5]])\n",
    "t1\n",
    "t1_no_dups = torch.unique(t1, dim=1,return_inverse=True)"
   ]
  },
  {
   "cell_type": "code",
   "execution_count": 393,
   "metadata": {},
   "outputs": [
    {
     "data": {
      "text/plain": [
       "tensor([[1, 2, 3, 4, 2, 5],\n",
       "        [1, 2, 7, 4, 2, 5]])"
      ]
     },
     "execution_count": 393,
     "metadata": {},
     "output_type": "execute_result"
    }
   ],
   "source": [
    "t1"
   ]
  },
  {
   "cell_type": "code",
   "execution_count": 394,
   "metadata": {},
   "outputs": [
    {
     "data": {
      "text/plain": [
       "(tensor([[1, 2, 3, 4, 5],\n",
       "         [1, 2, 7, 4, 5]]),\n",
       " tensor([0, 1, 2, 3, 1, 4]))"
      ]
     },
     "execution_count": 394,
     "metadata": {},
     "output_type": "execute_result"
    }
   ],
   "source": [
    "t1_no_dups"
   ]
  },
  {
   "cell_type": "code",
   "execution_count": 456,
   "metadata": {},
   "outputs": [
    {
     "data": {
      "text/plain": [
       "tensor([1., 1., 1., 1., 1., 1., 1., 1.])"
      ]
     },
     "execution_count": 456,
     "metadata": {},
     "output_type": "execute_result"
    }
   ],
   "source": [
    "sampled_data.edge_label"
   ]
  },
  {
   "cell_type": "code",
   "execution_count": 458,
   "metadata": {},
   "outputs": [
    {
     "data": {
      "text/plain": [
       "tensor([1])"
      ]
     },
     "execution_count": 458,
     "metadata": {},
     "output_type": "execute_result"
    }
   ],
   "source": [
    "torch.tensor([1])"
   ]
  },
  {
   "cell_type": "code",
   "execution_count": null,
   "metadata": {},
   "outputs": [],
   "source": [
    "sort_index = edge_label_index[0].sort(dim=-1).indices\n",
    "# edge_labels_sorted = edge_label[sort_index]"
   ]
  },
  {
   "cell_type": "code",
   "execution_count": 501,
   "metadata": {},
   "outputs": [],
   "source": [
    "edge_label_index = torch.cat((sampled_data.edge_label_index, torch.tensor([[2, 1], [3, 6]])), dim=1)\n",
    "edge_label = torch.cat((sampled_data.edge_label, torch.tensor([0, 1.])), dim=0)"
   ]
  },
  {
   "cell_type": "code",
   "execution_count": 502,
   "metadata": {},
   "outputs": [
    {
     "data": {
      "text/plain": [
       "tensor([[ 4, 11, 13,  0,  7,  2,  9, 15,  2,  1],\n",
       "        [ 5, 12, 14,  1, 10,  3,  8,  6,  3,  6]])"
      ]
     },
     "execution_count": 502,
     "metadata": {},
     "output_type": "execute_result"
    }
   ],
   "source": [
    "edge_label_index"
   ]
  },
  {
   "cell_type": "code",
   "execution_count": 503,
   "metadata": {},
   "outputs": [
    {
     "data": {
      "text/plain": [
       "tensor([1., 1., 1., 1., 0., 0., 0., 0., 0., 1.])"
      ]
     },
     "execution_count": 503,
     "metadata": {},
     "output_type": "execute_result"
    }
   ],
   "source": [
    "edge_label"
   ]
  },
  {
   "cell_type": "code",
   "execution_count": 504,
   "metadata": {},
   "outputs": [],
   "source": [
    "def unique(x, dim=-1):\n",
    "    unique, inverse = torch.unique(x, return_inverse=True, dim=dim)\n",
    "    perm = torch.arange(inverse.size(dim), dtype=inverse.dtype, device=inverse.device)\n",
    "    inverse, perm = inverse.flip([dim]), perm.flip([dim])\n",
    "    return unique, inverse.new_empty(unique.size(dim)).scatter_(dim, inverse, perm)"
   ]
  },
  {
   "cell_type": "code",
   "execution_count": 505,
   "metadata": {},
   "outputs": [],
   "source": [
    "edge_label_index, sort_index = unique(edge_label_index)"
   ]
  },
  {
   "cell_type": "code",
   "execution_count": 506,
   "metadata": {},
   "outputs": [
    {
     "data": {
      "text/plain": [
       "tensor([[ 0,  1,  2,  4,  7,  9, 11, 13, 15],\n",
       "        [ 1,  6,  3,  5, 10,  8, 12, 14,  6]])"
      ]
     },
     "execution_count": 506,
     "metadata": {},
     "output_type": "execute_result"
    }
   ],
   "source": [
    "edge_label_index"
   ]
  },
  {
   "cell_type": "code",
   "execution_count": 507,
   "metadata": {},
   "outputs": [
    {
     "data": {
      "text/plain": [
       "tensor([3, 9, 5, 0, 4, 6, 1, 2, 7])"
      ]
     },
     "execution_count": 507,
     "metadata": {},
     "output_type": "execute_result"
    }
   ],
   "source": [
    "sort_index"
   ]
  },
  {
   "cell_type": "code",
   "execution_count": 486,
   "metadata": {},
   "outputs": [
    {
     "data": {
      "text/plain": [
       "tensor([1., 0., 1., 0., 0., 1., 1., 0.])"
      ]
     },
     "execution_count": 486,
     "metadata": {},
     "output_type": "execute_result"
    }
   ],
   "source": [
    "edge_label[sort_index]"
   ]
  },
  {
   "cell_type": "code",
   "execution_count": 444,
   "metadata": {},
   "outputs": [
    {
     "name": "stdout",
     "output_type": "stream",
     "text": [
      "tensor([3, 5, 4, 0, 6, 7, 1, 2])\n"
     ]
    }
   ],
   "source": [
    "print(sort_index)"
   ]
  },
  {
   "cell_type": "code",
   "execution_count": 434,
   "metadata": {},
   "outputs": [],
   "source": [
    "sort_index = edge_label_index[0].sort(dim=-1).indices\n",
    "# edge_labels_sorted = edge_label[sort_index]"
   ]
  },
  {
   "cell_type": "code",
   "execution_count": 435,
   "metadata": {},
   "outputs": [
    {
     "name": "stdout",
     "output_type": "stream",
     "text": [
      "tensor([3, 5, 8, 9, 4, 0, 6, 7, 1, 2])\n"
     ]
    }
   ],
   "source": [
    "print(sort_index)"
   ]
  },
  {
   "cell_type": "code",
   "execution_count": 417,
   "metadata": {},
   "outputs": [
    {
     "data": {
      "text/plain": [
       "tensor([[ 6, 12, 14,  0,  4,  2,  8, 10],\n",
       "        [ 7, 13, 15,  1,  5,  3,  9, 11]])"
      ]
     },
     "execution_count": 417,
     "metadata": {},
     "output_type": "execute_result"
    }
   ],
   "source": [
    "edge_label_index"
   ]
  },
  {
   "cell_type": "code",
   "execution_count": null,
   "metadata": {},
   "outputs": [],
   "source": []
  }
 ],
 "metadata": {
  "kernelspec": {
   "display_name": "Python 3.9.13 ('autotalker')",
   "language": "python",
   "name": "python3"
  },
  "language_info": {
   "codemirror_mode": {
    "name": "ipython",
    "version": 3
   },
   "file_extension": ".py",
   "mimetype": "text/x-python",
   "name": "python",
   "nbconvert_exporter": "python",
   "pygments_lexer": "ipython3",
   "version": "3.9.13"
  },
  "orig_nbformat": 4,
  "vscode": {
   "interpreter": {
    "hash": "7552eb07a3e4d6bc50f6a25f5663a00a352d76cbafee8084da825070fe2f8152"
   }
  }
 },
 "nbformat": 4,
 "nbformat_minor": 2
}
